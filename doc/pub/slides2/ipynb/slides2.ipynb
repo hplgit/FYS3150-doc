{
 "metadata": {},
 "nbformat": 3,
 "nbformat_minor": 0,
 "worksheets": [
  {
   "cells": [
    {
     "cell_type": "markdown",
     "metadata": {},
     "source": [
      "# Slides from FYS3150/4150 Lectures\n",
      "**Aug 31, 2014**\n",
      "\n",
      "## Overview of week 37\n",
      "\n",
      "### Overview of week 37\n",
      "\n",
      "**Linear Algebra and differential equations.**\n",
      "\n",
      "  * Monday: Repetition from last week\n",
      "\n",
      "  * Discussion of some Armadillo examples and matrix operations.\n",
      "\n",
      "  * Discussion of classes in C++\n",
      "\n",
      "  * Iterative methods, Gauss-Seidel. Cubic spline and interpolation (chapter 6).\n",
      "\n",
      "  * Tuesday: Eigenvalue problems\n",
      "\n",
      "  * We start discussing Jacobi's algorithm, chapter 7.\n",
      "\n",
      "  * Presentation of project 2.\n",
      "\n",
      "  * Computer-Lab: Project 1 and project 2.\n",
      "\n",
      "\n",
      "\n",
      "### Iterative methods, Chapter 6\n",
      "\n",
      "  * Direct solvers such as Gauss elimination and LU decomposition discussed last week.\n",
      "\n",
      "  * Iterative solvers such as Basic iterative solvers, Jacobi, Gauss-Seidel, Successive over-relaxation. These methods are easy to parallelize, as we will se later. Much used in solutions of partial differential equations.\n",
      "\n",
      "  * Other iterative methods such as Krylov subspace methods with Generalized minimum residual (GMRES) and Conjugate gradient etc will not be discussed.\n",
      "\n",
      "### Iterative methods, Jacobi's method\n",
      "\n",
      "It is a simple method for solving"
     ]
    },
    {
     "cell_type": "markdown",
     "metadata": {},
     "source": [
      "$$\n",
      "\\hat{A}{\\bf x}={\\bf b},\n",
      "$$"
     ]
    },
    {
     "cell_type": "markdown",
     "metadata": {},
     "source": [
      "where $\\hat{A}$ is a matrix and ${\\bf x}$ and ${\\bf b}$ are vectors. The vector ${\\bf x}$ is\n",
      "the unknown.\n",
      "\n",
      "It is an iterative scheme where we start with a guess for the unknown, and\n",
      "after $k+1$ iterations we have"
     ]
    },
    {
     "cell_type": "markdown",
     "metadata": {},
     "source": [
      "$$\n",
      "{\\bf x}^{(k+1)}= \\hat{D}^{-1}({\\bf b}-(\\hat{L}+\\hat{U}){\\bf x}^{(k)}),\n",
      "$$"
     ]
    },
    {
     "cell_type": "markdown",
     "metadata": {},
     "source": [
      "with $\\hat{A}=\\hat{D}+\\hat{U}+\\hat{L}$ and\n",
      "$\\hat{D}$ being a diagonal matrix, $\\hat{U}$ an upper triangular matrix and $\\hat{L}$ a  lower triangular\n",
      "matrix.\n",
      "\n",
      "If the matrix $\\hat{A}$ is positive definite or diagonally dominant, one can show that this method will always converge to the exact solution.\n",
      "\n",
      "### Iterative methods, Jacobi's method\n",
      "\n",
      "We can demonstrate Jacobi's method by this $4\\times 4$ matrix problem. We assume a guess\n",
      "for the vector elements $x_i^{(0)}$, a guess which represents our first iteration. The new\n",
      "values are obtained by substitution"
     ]
    },
    {
     "cell_type": "markdown",
     "metadata": {},
     "source": [
      "$$\n",
      "\\begin{equation}\n",
      " x_1^{(1)} =(b_1-a_{12}x_2^{(0)} -a_{13}x_3^{(0)} - a_{14}x_4^{(0)})/a_{11} \\nonumber \n",
      "\\end{equation}\n",
      "$$"
     ]
    },
    {
     "cell_type": "markdown",
     "metadata": {},
     "source": [
      "$$\n",
      "\\begin{equation} \n",
      " x_2^{(1)} =(b_2-a_{21}x_1^{(0)} - a_{23}x_3^{(0)} - a_{24}x_4^{(0)})/a_{22} \\nonumber \n",
      "\\end{equation}\n",
      "$$"
     ]
    },
    {
     "cell_type": "markdown",
     "metadata": {},
     "source": [
      "$$\n",
      "\\begin{equation} \n",
      " x_3^{(1)} =(b_3- a_{31}x_1^{(0)} -a_{32}x_2^{(0)} -a_{34}x_4^{(0)})/a_{33} \\nonumber \n",
      "\\end{equation}\n",
      "$$"
     ]
    },
    {
     "cell_type": "markdown",
     "metadata": {},
     "source": [
      "$$\n",
      "\\begin{equation} \n",
      " x_4^{(1)}=(b_4-a_{41}x_1^{(0)} -a_{42}x_2^{(0)} - a_{43}x_3^{(0)})/a_{44},  \\nonumber\n",
      "\\end{equation}\n",
      "$$"
     ]
    },
    {
     "cell_type": "markdown",
     "metadata": {},
     "source": [
      "which after $k+1$ iterations reads"
     ]
    },
    {
     "cell_type": "markdown",
     "metadata": {},
     "source": [
      "$$\n",
      "\\begin{equation}\n",
      " x_1^{(k+1)} =(b_1-a_{12}x_2^{(k)} -a_{13}x_3^{(k)} - a_{14}x_4^{(k)})/a_{11} \\nonumber \n",
      "\\end{equation}\n",
      "$$"
     ]
    },
    {
     "cell_type": "markdown",
     "metadata": {},
     "source": [
      "$$\n",
      "\\begin{equation} \n",
      " x_2^{(k+1)} =(b_2-a_{21}x_1^{(k)} - a_{23}x_3^{(k)} - a_{24}x_4^{(k)})/a_{22} \\nonumber \n",
      "\\end{equation}\n",
      "$$"
     ]
    },
    {
     "cell_type": "markdown",
     "metadata": {},
     "source": [
      "$$\n",
      "\\begin{equation} \n",
      " x_3^{(k+1)} =(b_3- a_{31}x_1^{(k)} -a_{32}x_2^{(k)} -a_{34}x_4^{(k)})/a_{33} \\nonumber \n",
      "\\end{equation}\n",
      "$$"
     ]
    },
    {
     "cell_type": "markdown",
     "metadata": {},
     "source": [
      "$$\n",
      "\\begin{equation} \n",
      " x_4^{(k+1)}=(b_4-a_{41}x_1^{(k)} -a_{42}x_2^{(k)} - a_{43}x_3^{(k)})/a_{44},  \\nonumber\n",
      "\\end{equation}\n",
      "$$"
     ]
    },
    {
     "cell_type": "markdown",
     "metadata": {},
     "source": [
      "### Iterative methods, Jacobi's method\n",
      "\n",
      "We can generalize the above equations to"
     ]
    },
    {
     "cell_type": "markdown",
     "metadata": {},
     "source": [
      "$$\n",
      "x_i^{(k+1)}=(b_i-\\sum_{j=1, j\\ne i}^{n}a_{ij}x_j^{(k)})/a_{ii}\n",
      "$$"
     ]
    },
    {
     "cell_type": "markdown",
     "metadata": {},
     "source": [
      "or in an even more compact form as"
     ]
    },
    {
     "cell_type": "markdown",
     "metadata": {},
     "source": [
      "$$\n",
      "{\\bf x}^{(k+1)}= \\hat{D}^{-1}({\\bf b}-(\\hat{L}+\\hat{U}){\\bf x}^{(k)}),\n",
      "$$"
     ]
    },
    {
     "cell_type": "markdown",
     "metadata": {},
     "source": [
      "with $\\hat{A}=\\hat{D}+\\hat{U}+\\hat{L}$ and\n",
      "$\\hat{D}$ being a diagonal matrix, $\\hat{U}$ an upper triangular matrix and $\\hat{L}$ a  lower triangular\n",
      "matrix.\n",
      "\n",
      "### Iterative methods, Gauss-Seidel's method\n",
      "\n",
      "Our $4\\times 4$ matrix problem"
     ]
    },
    {
     "cell_type": "markdown",
     "metadata": {},
     "source": [
      "$$\n",
      "\\begin{equation}\n",
      " x_1^{(k+1)} =(b_1-a_{12}x_2^{(k)} -a_{13}x_3^{(k)} - a_{14}x_4^{(k)})/a_{11} \\nonumber \n",
      "\\end{equation}\n",
      "$$"
     ]
    },
    {
     "cell_type": "markdown",
     "metadata": {},
     "source": [
      "$$\n",
      "\\begin{equation} \n",
      " x_2^{(k+1)} =(b_2-a_{21}x_1^{(k)} - a_{23}x_3^{(k)} - a_{24}x_4^{(k)})/a_{22} \\nonumber \n",
      "\\end{equation}\n",
      "$$"
     ]
    },
    {
     "cell_type": "markdown",
     "metadata": {},
     "source": [
      "$$\n",
      "\\begin{equation} \n",
      " x_3^{(k+1)} =(b_3- a_{31}x_1^{(k)} -a_{32}x_2^{(k)} -a_{34}x_4^{(k)})/a_{33} \\nonumber \n",
      "\\end{equation}\n",
      "$$"
     ]
    },
    {
     "cell_type": "markdown",
     "metadata": {},
     "source": [
      "$$\n",
      "\\begin{equation} \n",
      " x_4^{(k+1)}=(b_4-a_{41}x_1^{(k)} -a_{42}x_2^{(k)} - a_{43}x_3^{(k)})/a_{44},  \\nonumber\n",
      "\\end{equation}\n",
      "$$"
     ]
    },
    {
     "cell_type": "markdown",
     "metadata": {},
     "source": [
      "can be rewritten as"
     ]
    },
    {
     "cell_type": "markdown",
     "metadata": {},
     "source": [
      "$$\n",
      "\\begin{equation}\n",
      " x_1^{(k+1)} =(b_1-a_{12}x_2^{(k)} -a_{13}x_3^{(k)} - a_{14}x_4^{(k)})/a_{11} \\nonumber \n",
      "\\end{equation}\n",
      "$$"
     ]
    },
    {
     "cell_type": "markdown",
     "metadata": {},
     "source": [
      "$$\n",
      "\\begin{equation} \n",
      " x_2^{(k+1)} =(b_2-a_{21}x_1^{(k+1)} - a_{23}x_3^{(k)} - a_{24}x_4^{(k)})/a_{22} \\nonumber \n",
      "\\end{equation}\n",
      "$$"
     ]
    },
    {
     "cell_type": "markdown",
     "metadata": {},
     "source": [
      "$$\n",
      "\\begin{equation} \n",
      " x_3^{(k+1)} =(b_3- a_{31}x_1^{(k+1)} -a_{32}x_2^{(k+1)} -a_{34}x_4^{(k)})/a_{33} \\nonumber \n",
      "\\end{equation}\n",
      "$$"
     ]
    },
    {
     "cell_type": "markdown",
     "metadata": {},
     "source": [
      "$$\n",
      "\\begin{equation} \n",
      " x_4^{(k+1)}=(b_4-a_{41}x_1^{(k+1)} -a_{42}x_2^{(k+1)} - a_{43}x_3^{(k+1)})/a_{44},  \\nonumber\n",
      "\\end{equation}\n",
      "$$"
     ]
    },
    {
     "cell_type": "markdown",
     "metadata": {},
     "source": [
      "which allows us to utilize the preceding solution (forward substitution). This improves normally the convergence\n",
      "behavior and leads to the Gauss-Seidel method!\n",
      "\n",
      "### Iterative methods, Gauss-Seidel's method\n",
      "\n",
      "We can generalize"
     ]
    },
    {
     "cell_type": "markdown",
     "metadata": {},
     "source": [
      "$$\n",
      "\\begin{equation}\n",
      " x_1^{(k+1)} =(b_1-a_{12}x_2^{(k)} -a_{13}x_3^{(k)} - a_{14}x_4^{(k)})/a_{11} \\nonumber \n",
      "\\end{equation}\n",
      "$$"
     ]
    },
    {
     "cell_type": "markdown",
     "metadata": {},
     "source": [
      "$$\n",
      "\\begin{equation} \n",
      " x_2^{(k+1)} =(b_2-a_{21}x_1^{(k+1)} - a_{23}x_3^{(k)} - a_{24}x_4^{(k)})/a_{22} \\nonumber \n",
      "\\end{equation}\n",
      "$$"
     ]
    },
    {
     "cell_type": "markdown",
     "metadata": {},
     "source": [
      "$$\n",
      "\\begin{equation} \n",
      " x_3^{(k+1)} =(b_3- a_{31}x_1^{(k+1)} -a_{32}x_2^{(k+1)} -a_{34}x_4^{(k)})/a_{33} \\nonumber \n",
      "\\end{equation}\n",
      "$$"
     ]
    },
    {
     "cell_type": "markdown",
     "metadata": {},
     "source": [
      "$$\n",
      "\\begin{equation} \n",
      " x_4^{(k+1)}=(b_4-a_{41}x_1^{(k+1)} -a_{42}x_2^{(k+1)} - a_{43}x_3^{(k+1)})/a_{44},  \\nonumber\n",
      "\\end{equation}\n",
      "$$"
     ]
    },
    {
     "cell_type": "markdown",
     "metadata": {},
     "source": [
      "to the following form"
     ]
    },
    {
     "cell_type": "markdown",
     "metadata": {},
     "source": [
      "$$\n",
      "x^{(k+1)}_i = \\frac{1}{a_{ii}} \\left(\n",
      "b_i - \\sum_{j > i} a_{ij}x^{(k)}_j - \\sum_{j < i}a_{ij}x^{(k+1)}_j\n",
      "\\right), \\quad i=1,2,\\ldots,n.\n",
      "$$"
     ]
    },
    {
     "cell_type": "markdown",
     "metadata": {},
     "source": [
      "The procedure is generally continued until the changes made by an iteration are below some tolerance.\n",
      "\n",
      "The convergence properties of the Jacobi method and the\n",
      "Gauss-Seidel method are dependent on the matrix $\\hat{A}$. These methods converge when\n",
      "the matrix is symmetric positive-definite, or is strictly or irreducibly diagonally dominant.\n",
      "Both methods sometimes converge even if these conditions are not satisfied.\n",
      "\n",
      "### Iterative methods, Successive over-relaxation\n",
      "\n",
      "Given a square system of n linear equations with unknown $\\mathbf x$:"
     ]
    },
    {
     "cell_type": "markdown",
     "metadata": {},
     "source": [
      "$$\n",
      "\\hat{A}\\mathbf x = \\mathbf b\n",
      "$$"
     ]
    },
    {
     "cell_type": "markdown",
     "metadata": {},
     "source": [
      "where:"
     ]
    },
    {
     "cell_type": "markdown",
     "metadata": {},
     "source": [
      "$$\n",
      "\\hat{A}=\\begin{bmatrix} a_{11} & a_{12} & \\cdots & a_{1n} \\\\ a_{21} & a_{22} & \\cdots & a_{2n} \\\\ \\vdots & \\vdots & \\ddots & \\vdots \\\\a_{n1} & a_{n2} & \\cdots & a_{nn} \\end{bmatrix}, \\qquad \\mathbf{x} = \\begin{bmatrix} x_{1} \\\\ x_2 \\\\ \\vdots \\\\ x_n \\end{bmatrix} , \\qquad \\mathbf{b} = \\begin{bmatrix} b_{1} \\\\ b_2 \\\\ \\vdots \\\\ b_n \\end{bmatrix}.\n",
      "$$"
     ]
    },
    {
     "cell_type": "markdown",
     "metadata": {},
     "source": [
      "### Iterative methods, Successive over-relaxation\n",
      "\n",
      "Then A can be decomposed into a diagonal component D, and strictly lower and upper triangular components L and U:"
     ]
    },
    {
     "cell_type": "markdown",
     "metadata": {},
     "source": [
      "$$\n",
      "\\hat{A} =\\hat{D} + \\hat{L} + \\hat{U},\n",
      "$$"
     ]
    },
    {
     "cell_type": "markdown",
     "metadata": {},
     "source": [
      "where"
     ]
    },
    {
     "cell_type": "markdown",
     "metadata": {},
     "source": [
      "$$\n",
      "D = \\begin{bmatrix} a_{11} & 0 & \\cdots & 0 \\\\ 0 & a_{22} & \\cdots & 0 \\\\ \\vdots & \\vdots & \\ddots & \\vdots \\\\0 & 0 & \\cdots & a_{nn} \\end{bmatrix}, \\quad L = \\begin{bmatrix} 0 & 0 & \\cdots & 0 \\\\ a_{21} & 0 & \\cdots & 0 \\\\ \\vdots & \\vdots & \\ddots & \\vdots \\\\a_{n1} & a_{n2} & \\cdots & 0 \\end{bmatrix}, \\quad U = \\begin{bmatrix} 0 & a_{12} & \\cdots & a_{1n} \\\\ 0 & 0 & \\cdots & a_{2n} \\\\ \\vdots & \\vdots & \\ddots & \\vdots \\\\0 & 0 & \\cdots & 0 \\end{bmatrix}.\n",
      "$$"
     ]
    },
    {
     "cell_type": "markdown",
     "metadata": {},
     "source": [
      "The system of linear equations may be rewritten as:"
     ]
    },
    {
     "cell_type": "markdown",
     "metadata": {},
     "source": [
      "$$\n",
      "(D+\\omega L) \\mathbf{x} = \\omega \\mathbf{b} - [\\omega U + (\\omega-1) D ] \\mathbf{x}\n",
      "$$"
     ]
    },
    {
     "cell_type": "markdown",
     "metadata": {},
     "source": [
      "for a constant $\\omega > 1$.\n",
      "\n",
      "### Iterative methods, Successive over-relaxation\n",
      "\n",
      "The method of successive over-relaxation is an iterative technique that solves the left hand side of this expression for $x$, using previous value for $x$ on the right hand side. Analytically, this may be written as:"
     ]
    },
    {
     "cell_type": "markdown",
     "metadata": {},
     "source": [
      "$$\n",
      "\\mathbf{x}^{(k+1)} = (D+\\omega L)^{-1} \\big(\\omega \\mathbf{b} - [\\omega U + (\\omega-1) D ] \\mathbf{x}^{(k)}\\big).\n",
      "$$"
     ]
    },
    {
     "cell_type": "markdown",
     "metadata": {},
     "source": [
      "However, by taking advantage of the triangular form of $(D+\\omega L)$, the elements of $x^{(k+1)}$ can be computed sequentially using forward substitution:"
     ]
    },
    {
     "cell_type": "markdown",
     "metadata": {},
     "source": [
      "$$\n",
      "x^{(k+1)}_i = (1-\\omega)x^{(k)}_i + \\frac{\\omega}{a_{ii}}\n",
      "\\left(b_i - \\sum_{j>i} a_{ij}x^{(k)}_j -\n",
      "\\sum_{j < i} a_{ij}x^{(k+1)}_j \\right),\\quad i=1,2,\\ldots,n.\n",
      "$$"
     ]
    },
    {
     "cell_type": "markdown",
     "metadata": {},
     "source": [
      "The choice of relaxation factor is not necessarily easy, and depends upon the properties of the coefficient matrix. For symmetric, positive-definite matrices it can be proven that $0 < \\omega < 2$ will lead to convergence, but we are generally interested in faster convergence rather than just convergence.\n",
      "\n",
      "### Cubic Splines, Chapter 6\n",
      "\n",
      "Cubic spline interpolation is among one of the mostly used\n",
      "methods for interpolating between data points where the arguments\n",
      "are organized as ascending series. In the library program we supply\n",
      "such a function, based on the so-called cubic spline method to be\n",
      "described below.\n",
      "\n",
      "A spline function consists of polynomial pieces defined on\n",
      "subintervals. The different subintervals are connected via\n",
      "various continuity relations.\n",
      "\n",
      "Assume we have at our disposal $n+1$ points $x_0, x_1, \\dots x_n$\n",
      "arranged so that $x_0 < x_1 < x_2 < \\dots x_{n-1} < x_n$ (such points are called\n",
      "knots). A spline function $s$ of degree $k$ with $n+1$ knots is defined\n",
      "as follows\n",
      "\n",
      "  * On every subinterval $[x_{i-1},x_i)$ $s$ is a polynomial of degree $\\le k$.\n",
      "\n",
      "  * $s$ has $k-1$ continuous derivatives in the whole interval $[x_0,x_n]$.\n",
      "\n",
      "### Splines\n",
      "\n",
      "As an example, consider a spline function of degree $k=1$ defined as follows"
     ]
    },
    {
     "cell_type": "markdown",
     "metadata": {},
     "source": [
      "$$\n",
      "s(x)=\\left\\{\\begin{array}{cc} s_0(x)=a_0x+b_0 & x\\in [x_0, x_1) \\\\\n",
      "                             s_1(x)=a_1x+b_1 & x\\in [x_1, x_2) \\\\\n",
      "                             \\dots & \\dots \\\\\n",
      "                             s_{n-1}(x)=a_{n-1}x+b_{n-1} & x\\in\n",
      "                             [x_{n-1}, x_n] \\end{array}\\right.\n",
      "$$"
     ]
    },
    {
     "cell_type": "markdown",
     "metadata": {},
     "source": [
      "In this case the polynomial consists of series of straight lines\n",
      "connected to each other at every endpoint. The number of continuous\n",
      "derivatives is then $k-1=0$, as expected when we deal with straight lines.\n",
      "Such a polynomial is quite easy to construct given\n",
      "$n+1$ points $x_0, x_1, \\dots x_n$ and their corresponding\n",
      "function values.\n",
      "\n",
      "### Splines\n",
      "\n",
      "The most commonly used spline function is the one with $k=3$, the so-called\n",
      "cubic spline function.\n",
      "Assume that we have in adddition to the $n+1$ knots a series of\n",
      "functions values $y_0=f(x_0), y_1=f(x_1), \\dots y_n=f(x_n)$.\n",
      "By definition, the polynomials $s_{i-1}$ and $s_i$\n",
      "are thence supposed to interpolate\n",
      "the same point $i$, i.e.,"
     ]
    },
    {
     "cell_type": "markdown",
     "metadata": {},
     "source": [
      "$$\n",
      "s_{i-1}(x_i)= y_i = s_i(x_i),\n",
      "$$"
     ]
    },
    {
     "cell_type": "markdown",
     "metadata": {},
     "source": [
      "with $1 \\le i \\le n-1$. In total we have $n$ polynomials of the\n",
      "type"
     ]
    },
    {
     "cell_type": "markdown",
     "metadata": {},
     "source": [
      "$$\n",
      "s_i(x)=a_{i0}+a_{i1}x+a_{i2}x^2+a_{i2}x^3,\n",
      "$$"
     ]
    },
    {
     "cell_type": "markdown",
     "metadata": {},
     "source": [
      "yielding $4n$ coefficients to determine.\n",
      "\n",
      "### Splines\n",
      "\n",
      " Every subinterval provides\n",
      "in addition the $2n$ conditions"
     ]
    },
    {
     "cell_type": "markdown",
     "metadata": {},
     "source": [
      "$$\n",
      "y_i = s(x_i),\n",
      "$$"
     ]
    },
    {
     "cell_type": "markdown",
     "metadata": {},
     "source": [
      "and"
     ]
    },
    {
     "cell_type": "markdown",
     "metadata": {},
     "source": [
      "$$\n",
      "s(x_{i+1})= y_{i+1},\n",
      "$$"
     ]
    },
    {
     "cell_type": "markdown",
     "metadata": {},
     "source": [
      "to be fulfilled. If we also assume that $s'$ and $s''$ are continuous,\n",
      "then"
     ]
    },
    {
     "cell_type": "markdown",
     "metadata": {},
     "source": [
      "$$\n",
      "s'_{i-1}(x_i)= s'_i(x_i),\n",
      "$$"
     ]
    },
    {
     "cell_type": "markdown",
     "metadata": {},
     "source": [
      "yields $n-1$ conditions. Similarly,"
     ]
    },
    {
     "cell_type": "markdown",
     "metadata": {},
     "source": [
      "$$\n",
      "s''_{i-1}(x_i)= s''_i(x_i),\n",
      "$$"
     ]
    },
    {
     "cell_type": "markdown",
     "metadata": {},
     "source": [
      "results in additional $n-1$ conditions. In total we have $4n$ coefficients\n",
      "and $4n-2$ equations to determine them, leaving us with $2$ degrees of\n",
      "freedom to be determined.\n",
      "\n",
      "### Splines\n",
      "\n",
      "Using the last equation we define two values for the second derivative,\n",
      "namely"
     ]
    },
    {
     "cell_type": "markdown",
     "metadata": {},
     "source": [
      "$$\n",
      "s''_{i}(x_i)= f_i,\n",
      "$$"
     ]
    },
    {
     "cell_type": "markdown",
     "metadata": {},
     "source": [
      "and"
     ]
    },
    {
     "cell_type": "markdown",
     "metadata": {},
     "source": [
      "$$\n",
      "s''_{i}(x_{i+1})= f_{i+1},\n",
      "$$"
     ]
    },
    {
     "cell_type": "markdown",
     "metadata": {},
     "source": [
      "and setting up a straight line between $f_i$ and $f_{i+1}$ we have"
     ]
    },
    {
     "cell_type": "markdown",
     "metadata": {},
     "source": [
      "$$\n",
      "s_i''(x) = \\frac{f_i}{x_{i+1}-x_i}(x_{i+1}-x)+\n",
      "               \\frac{f_{i+1}}{x_{i+1}-x_i}(x-x_i),\n",
      "$$"
     ]
    },
    {
     "cell_type": "markdown",
     "metadata": {},
     "source": [
      "and integrating twice one obtains"
     ]
    },
    {
     "cell_type": "markdown",
     "metadata": {},
     "source": [
      "$$\n",
      "s_i(x) = \\frac{f_i}{6(x_{i+1}-x_i)}(x_{i+1}-x)^3+\n",
      "               \\frac{f_{i+1}}{6(x_{i+1}-x_i)}(x-x_i)^3\n",
      "             +c(x-x_i)+d(x_{i+1}-x).\n",
      "$$"
     ]
    },
    {
     "cell_type": "markdown",
     "metadata": {},
     "source": [
      "### Splines\n",
      "\n",
      "Using the conditions $s_i(x_i)=y_i$ and $s_i(x_{i+1})=y_{i+1}$\n",
      "we can in turn determine the constants $c$ and $d$ resulting in"
     ]
    },
    {
     "cell_type": "markdown",
     "metadata": {},
     "source": [
      "$$\n",
      "\\begin{equation}\n",
      "   s_i(x) =\\frac{f_i}{6(x_{i+1}-x_i)}(x_{i+1}-x)^3+\n",
      "               \\frac{f_{i+1}}{6(x_{i+1}-x_i)}(x-x_i)^3 \\nonumber  \n",
      "\\end{equation}\n",
      "$$"
     ]
    },
    {
     "cell_type": "markdown",
     "metadata": {},
     "source": [
      "$$\n",
      "\\begin{equation} \n",
      "            +(\\frac{y_{i+1}}{x_{i+1}-x_i}-\\frac{f_{i+1}(x_{i+1}-x_i)}{6})\n",
      "              (x-x_i)+\n",
      "             (\\frac{y_{i}}{x_{i+1}-x_i}-\\frac{f_{i}(x_{i+1}-x_i)}{6})\n",
      "             (x_{i+1}-x).\n",
      "\\end{equation}\n",
      "$$"
     ]
    },
    {
     "cell_type": "markdown",
     "metadata": {},
     "source": [
      "### Splines\n",
      "\n",
      "How to determine the values of the second\n",
      "derivatives $f_{i}$ and $f_{i+1}$? We use the continuity assumption\n",
      "of the first derivatives"
     ]
    },
    {
     "cell_type": "markdown",
     "metadata": {},
     "source": [
      "$$\n",
      "s'_{i-1}(x_i)= s'_i(x_i),\n",
      "$$"
     ]
    },
    {
     "cell_type": "markdown",
     "metadata": {},
     "source": [
      "and set $x=x_i$. Defining $h_i=x_{i+1}-x_i$ we obtain finally\n",
      "the following expression"
     ]
    },
    {
     "cell_type": "markdown",
     "metadata": {},
     "source": [
      "$$\n",
      "h_{i-1}f_{i-1}+2(h_{i}+h_{i-1})f_i+h_if_{i+1}=\n",
      "   \\frac{6}{h_i}(y_{i+1}-y_i)-\\frac{6}{h_{i-1}}(y_{i}-y_{i-1}),\n",
      "$$"
     ]
    },
    {
     "cell_type": "markdown",
     "metadata": {},
     "source": [
      "and introducing the shorthands $u_i=2(h_{i}+h_{i-1})$,\n",
      "$v_i=\\frac{6}{h_i}(y_{i+1}-y_i)-\\frac{6}{h_{i-1}}(y_{i}-y_{i-1})$,\n",
      "we can reformulate the problem as a set of linear equations to be\n",
      "solved  through e.g., Gaussian elemination\n",
      "\n",
      "### Splines\n",
      "\n",
      "Gaussian elimination"
     ]
    },
    {
     "cell_type": "markdown",
     "metadata": {},
     "source": [
      "$$\n",
      "\\left[\\begin{array}{cccccccc} u_1 & h_1 &0 &\\dots & & & & \\\\\n",
      "                                 h_1 & u_2 & h_2 &0 &\\dots & & & \\\\\n",
      "                                  0   & h_2 & u_3 & h_3 &0 &\\dots & & \\\\\n",
      "                               \\dots& & \\dots &\\dots &\\dots &\\dots &\\dots & \\\\\n",
      "                                 &\\dots & & &0 &h_{n-3} &u_{n-2} &h_{n-2} \\\\\n",
      "                                 & && & &0 &h_{n-2} &u_{n-1} \\end{array}\\right]\n",
      "   \\left[\\begin{array}{c} f_1 \\\\\n",
      "                          f_2 \\\\\n",
      "                          f_3\\\\\n",
      "                          \\dots \\\\\n",
      "                          f_{n-2} \\\\\n",
      "                          f_{n-1} \\end{array} \\right] =\n",
      "   \\left[\\begin{array}{c} v_1 \\\\\n",
      "                          v_2 \\\\\n",
      "                          v_3\\\\\n",
      "                          \\dots \\\\\n",
      "                          v_{n-2}\\\\\n",
      "                          v_{n-1} \\end{array} \\right].\n",
      "$$"
     ]
    },
    {
     "cell_type": "markdown",
     "metadata": {},
     "source": [
      "Note that this is a set of tridiagonal equations and can be solved\n",
      "through only $O(n)$ operations.\n",
      "\n",
      "### Splines\n",
      "\n",
      "The functions supplied in the program library are $spline$ and $splint$.\n",
      "In order to use cubic spline interpolation you need first to call"
     ]
    },
    {
     "cell_type": "markdown",
     "metadata": {},
     "source": [
      "        \n",
      "        spline(double x[], double y[], int n, double yp1,\n",
      "                 double yp2, double y2[])\n"
     ]
    },
    {
     "cell_type": "markdown",
     "metadata": {},
     "source": [
      "This function takes as\n",
      "input $x[0,..,n - 1]$ and $y[0,..,n - 1]$ containing a tabulation\n",
      "$y_i = f(x_i)$ with $x_0 < x_1 < .. < x_{n - 1}$\n",
      "together with the\n",
      "first derivatives  of $f(x)$ at $x_0$ and $x_{n-1}$, respectively. Then the\n",
      "function returns $y2[0,..,n-1]$ which contains the second derivatives of\n",
      "$f(x_i)$ at each point $x_i$. $n$ is the number of points.\n",
      "This function provides the cubic spline interpolation for all subintervals\n",
      "and is called only once.\n",
      "\n",
      "### Splines\n",
      "\n",
      " Thereafter, if you wish to make\n",
      "various interpolations, you need to call the function"
     ]
    },
    {
     "cell_type": "markdown",
     "metadata": {},
     "source": [
      "        \n",
      "        splint(double x[], double y[], double y2a[], int n,\n",
      "                            double x, double *y)\n"
     ]
    },
    {
     "cell_type": "markdown",
     "metadata": {},
     "source": [
      "which takes as input\n",
      "the tabulated values $x[0,..,n - 1]$ and $y[0,..,n - 1]$ and the output\n",
      "y2a[0,..,n - 1] from $spline$. It returns the value $y$ corresponding\n",
      "to the point $x$.\n",
      "\n",
      "## Overview of week 38\n",
      "\n",
      "### Overview of week 38\n",
      "\n",
      "**Eigenvalue problems and project 2.**\n",
      "\n",
      "  * Monday: Repetition from last week and discussion of project 2\n",
      "\n",
      "  * Jacobi's algorithm\n",
      "\n",
      "  * Tuesday:\n",
      "\n",
      "  * Householder's algorithm and Francis' algorithm\n",
      "\n",
      "  * Iterative methods for symmetric matrices: Lanczos' algorithm\n",
      "\n",
      "\n",
      "\n",
      "### Eigenvalue Solvers\n",
      "\n",
      "Let us consider the matrix {\\bf A} of dimension n. The eigenvalues of\n",
      "{\\bf A} is defined through the matrix equation"
     ]
    },
    {
     "cell_type": "markdown",
     "metadata": {},
     "source": [
      "$$\n",
      "{\\bf A}{\\bf x^{(\\nu)}} = \\lambda^{(\\nu)}{\\bf x^{(\\nu)}},\n",
      "$$"
     ]
    },
    {
     "cell_type": "markdown",
     "metadata": {},
     "source": [
      "where $\\lambda^{(\\nu)}$ are the eigenvalues and ${\\bf x^{(\\nu)}}$ the\n",
      "corresponding eigenvectors.\n",
      "Unless otherwise stated, when we use the wording eigenvector we mean the\n",
      "right eigenvector. The left eigenvector is defined as"
     ]
    },
    {
     "cell_type": "markdown",
     "metadata": {},
     "source": [
      "$$\n",
      "{\\bf x^{(\\nu)}}_L{\\bf A} = \\lambda^{(\\nu)}{\\bf x^{(\\nu)}}_L\n",
      "$$"
     ]
    },
    {
     "cell_type": "markdown",
     "metadata": {},
     "source": [
      "The above right eigenvector problem is equivalent to a set of $n$ equations with $n$ unknowns\n",
      "$x_i$.\n",
      "\n",
      "### Eigenvalue Solvers\n",
      "\n",
      "The eigenvalue problem can be rewritten as"
     ]
    },
    {
     "cell_type": "markdown",
     "metadata": {},
     "source": [
      "$$\n",
      "\\left( {\\bf A}-\\lambda^{(\\nu)} I \\right) {\\bf x^{(\\nu)}} = 0,\n",
      "$$"
     ]
    },
    {
     "cell_type": "markdown",
     "metadata": {},
     "source": [
      "with $I$ being the unity matrix. This equation provides\n",
      "a solution to the problem if and only if the determinant\n",
      "is zero, namely"
     ]
    },
    {
     "cell_type": "markdown",
     "metadata": {},
     "source": [
      "$$\n",
      "\\left| {\\bf A}-\\lambda^{(\\nu)}{\\bf I}\\right| = 0,\n",
      "$$"
     ]
    },
    {
     "cell_type": "markdown",
     "metadata": {},
     "source": [
      "which in turn means that the determinant is a polynomial\n",
      "of degree $n$ in $\\lambda$ and in general we will have\n",
      "$n$ distinct zeros.\n",
      "\n",
      "### Eigenvalue Solvers\n",
      "\n",
      "The eigenvalues of a matrix\n",
      "${\\bf A}\\in {\\mathbb{C}}^{n\\times n}$\n",
      "are thus the $n$ roots of its characteristic polynomial"
     ]
    },
    {
     "cell_type": "markdown",
     "metadata": {},
     "source": [
      "$$\n",
      "P(\\lambda) = det(\\lambda{\\bf I}-{\\bf A}),\n",
      "$$"
     ]
    },
    {
     "cell_type": "markdown",
     "metadata": {},
     "source": [
      "or"
     ]
    },
    {
     "cell_type": "markdown",
     "metadata": {},
     "source": [
      "$$\n",
      "P(\\lambda)= \\prod_{i=1}^{n}\\left(\\lambda_i-\\lambda\\right).\n",
      "$$"
     ]
    },
    {
     "cell_type": "markdown",
     "metadata": {},
     "source": [
      "The set of these roots is called the spectrum and is denoted as\n",
      "$\\lambda({\\bf A})$.\n",
      "If $\\lambda({\\bf A})=\\left\\{\\lambda_1,\\lambda_2,\\dots ,\\lambda_n\\right\\}$ then we have"
     ]
    },
    {
     "cell_type": "markdown",
     "metadata": {},
     "source": [
      "$$\n",
      "det({\\bf A})= \\lambda_1\\lambda_2\\dots\\lambda_n,\n",
      "$$"
     ]
    },
    {
     "cell_type": "markdown",
     "metadata": {},
     "source": [
      "and if we define the trace of ${\\bf A}$ as"
     ]
    },
    {
     "cell_type": "markdown",
     "metadata": {},
     "source": [
      "$$\n",
      "Tr({\\bf A})=\\sum_{i=1}^n a_{ii}\n",
      "$$"
     ]
    },
    {
     "cell_type": "markdown",
     "metadata": {},
     "source": [
      "then\n",
      "$Tr({\\bf A})=\\lambda_1+\\lambda_2+\\dots+\\lambda_n$.\n",
      "\n",
      "### Abel-Ruffini Impossibility Theorem\n",
      "\n",
      "The Abel-Ruffini theorem (also known as Abel's impossibility theorem)\n",
      "states that there is no general solution in radicals to polynomial equations of degree five or higher.\n",
      "\n",
      "The content of this theorem is frequently misunderstood. It does not assert that higher-degree polynomial equations are unsolvable.\n",
      "In fact, if the polynomial has real or complex coefficients, and we allow complex solutions, then every polynomial equation has solutions; this is the fundamental theorem of algebra. Although these solutions cannot always be computed exactly with radicals, they can be computed to any desired degree of accuracy using numerical methods such as the Newton-Raphson method or Laguerre method, and in this way they are no different from solutions to polynomial equations of the second, third, or fourth degrees.\n",
      "\n",
      "The theorem only concerns the form that such a solution must take. The content of the theorem is\n",
      "that the solution of a higher-degree equation cannot in all cases be expressed in terms of the polynomial coefficients with a finite number of operations of addition, subtraction, multiplication, division and root extraction. Some polynomials of arbitrary degree, of which the simplest nontrivial example is the monomial equation $ax^n = b$, are always solvable with a radical.\n",
      "\n",
      "### Abel-Ruffini Impossibility Theorem\n",
      "\n",
      "The Abel-Ruffini theorem says that there are some fifth-degree equations whose solution cannot be so expressed.\n",
      "The equation $x^5 - x + 1 = 0$ is an example. Some other fifth degree equations can be solved by radicals,\n",
      "for example $x^5 - x^4 - x + 1 = 0$. The precise criterion that distinguishes between those equations that can be solved\n",
      "by radicals and those that cannot was given by Galois and is now part of Galois theory:\n",
      "a polynomial equation can be solved by radicals if and only if its Galois group is a solvable group.\n",
      "\n",
      "Today, in the modern algebraic context, we say that second, third and fourth degree polynomial\n",
      "equations can always be solved by radicals because the symmetric groups $S_2, S_3$ and $S_4$ are solvable groups,\n",
      "whereas $S_n$ is not solvable for $n \\ge 5$.\n",
      "\n",
      "### Eigenvalue Solvers\n",
      "\n",
      "In the present discussion we assume that our matrix is real and symmetric, that is\n",
      "${\\bf A}\\in {\\mathbb{R}}^{n\\times n}$.\n",
      "The matrix ${\\bf A}$ has $n$ eigenvalues\n",
      "$\\lambda_1\\dots \\lambda_n$ (distinct or not). Let ${\\bf D}$ be the\n",
      "diagonal matrix with the eigenvalues on the diagonal"
     ]
    },
    {
     "cell_type": "markdown",
     "metadata": {},
     "source": [
      "$$\n",
      "{\\bf D}=    \\left( \\begin{array}{ccccccc} \\lambda_1 & 0 & 0   & 0    & \\dots  &0     & 0 \\\\\n",
      "                                0 & \\lambda_2 & 0 & 0    & \\dots  &0     &0 \\\\\n",
      "                                0   & 0 & \\lambda_3 & 0  &0       &\\dots & 0\\\\\n",
      "                                \\dots  & \\dots & \\dots & \\dots  &\\dots      &\\dots & \\dots\\\\\n",
      "                                0   & \\dots & \\dots & \\dots  &\\dots       &\\lambda_{n-1} & \\\\\n",
      "                                0   & \\dots & \\dots & \\dots  &\\dots       &0 & \\lambda_n\n",
      "\n",
      "             \\end{array} \\right).\n",
      "$$"
     ]
    },
    {
     "cell_type": "markdown",
     "metadata": {},
     "source": [
      "If ${\\bf A}$ is real and symmetric then there exists a real orthogonal matrix ${\\bf S}$ such that"
     ]
    },
    {
     "cell_type": "markdown",
     "metadata": {},
     "source": [
      "$$\n",
      "{\\bf S}^T {\\bf A}{\\bf S}= \\mbox{diag}(\\lambda_1,\\lambda_2,\\dots ,\\lambda_n),\n",
      "$$"
     ]
    },
    {
     "cell_type": "markdown",
     "metadata": {},
     "source": [
      "and for $j=1:n$ we have ${\\bf A}{\\bf S}(:,j) = \\lambda_j {\\bf S}(:,j)$.\n",
      "\n",
      "### Eigenvalue Solvers\n",
      "\n",
      "To obtain the eigenvalues of ${\\bf A}\\in {\\mathbb{R}}^{n\\times n}$,\n",
      "the strategy is to\n",
      "perform a series of similarity transformations on the original\n",
      "matrix ${\\bf A}$, in order to reduce it either into a  diagonal form as above\n",
      "or into a  tridiagonal form.\n",
      "\n",
      "We say that a matrix ${\\bf B}$ is a similarity\n",
      "transform  of  ${\\bf A}$ if"
     ]
    },
    {
     "cell_type": "markdown",
     "metadata": {},
     "source": [
      "$$\n",
      "{\\bf B}= {\\bf S}^T {\\bf A}{\\bf S}, \\quad \\mbox{where}\\quad\n",
      "     {\\bf S}^T{\\bf S}={\\bf S}^{-1}{\\bf S} ={\\bf I}.\n",
      "$$"
     ]
    },
    {
     "cell_type": "markdown",
     "metadata": {},
     "source": [
      "The importance of a similarity transformation lies in the fact that\n",
      "the resulting matrix has the same\n",
      "eigenvalues, but the eigenvectors are in general different.\n",
      "\n",
      "### Eigenvalue Solvers\n",
      "\n",
      "To prove this we\n",
      "start with  the eigenvalue problem and a similarity transformed matrix ${\\bf B}$."
     ]
    },
    {
     "cell_type": "markdown",
     "metadata": {},
     "source": [
      "$$\n",
      "{\\bf Ax}=\\lambda{\\bf x} \\mbox{ and }\n",
      "    {\\bf B}= {\\bf S}^T {\\bf A}{\\bf S}.\n",
      "$$"
     ]
    },
    {
     "cell_type": "markdown",
     "metadata": {},
     "source": [
      "We multiply the first equation on the left by ${\\bf S}^T$ and insert\n",
      "${\\bf S}^{T}{\\bf S} ={\\bf I}$ between ${\\bf A}$ and ${\\bf x}$. Then we get"
     ]
    },
    {
     "cell_type": "markdown",
     "metadata": {},
     "source": [
      "$$\n",
      "\\begin{equation}\n",
      "   ({\\bf S^TAS})({\\bf S^Tx})=\\lambda{\\bf S^Tx} ,\n",
      "\\end{equation}\n",
      "$$"
     ]
    },
    {
     "cell_type": "markdown",
     "metadata": {},
     "source": [
      "which is the same as"
     ]
    },
    {
     "cell_type": "markdown",
     "metadata": {},
     "source": [
      "$$\n",
      "{\\bf B} \\left ( {\\bf S^Tx} \\right ) = \\lambda \\left ({\\bf S^Tx}\n",
      "                             \\right ).\n",
      "$$"
     ]
    },
    {
     "cell_type": "markdown",
     "metadata": {},
     "source": [
      "The variable  $\\lambda$ is an eigenvalue of ${\\bf B}$ as well, but with\n",
      "eigenvector ${\\bf S^Tx}$.\n",
      "\n",
      "### Eigenvalue Solvers\n",
      "\n",
      "The basic philosophy is to\n",
      "\n",
      "either apply subsequent similarity transformations (direct method) so that"
     ]
    },
    {
     "cell_type": "markdown",
     "metadata": {},
     "source": [
      "$$\n",
      "\\begin{equation}\n",
      "   {\\bf S_N^T\\dots S_1^TAS_1\\dots S_N }={\\bf D} ,\n",
      "\\end{equation}\n",
      "$$"
     ]
    },
    {
     "cell_type": "markdown",
     "metadata": {},
     "source": [
      "or apply subsequent similarity transformations so that\n",
      "$\\bf A$ becomes tridiagonal (Householder) or upper/lower triangular ($\\bf QR$ method).\n",
      "Thereafter, techniques for obtaining\n",
      "eigenvalues from tridiagonal matrices can be used.\n",
      "\n",
      "or use so-called power methods\n",
      "\n",
      "or use iterative methods (Krylov, Lanczos, Arnoldi). These methods are popular for huge matrix problems.\n",
      "\n",
      "### Gaussian Elimination and Tridiagonal matrices, project 1\n",
      "\n",
      "In project 1 we rewrote our original differential equation in terms of a discretized equation with approximations to the\n",
      "derivatives as"
     ]
    },
    {
     "cell_type": "markdown",
     "metadata": {},
     "source": [
      "$$\n",
      "-\\frac{u_{i+1} -2u_i +u_{i-i}}{h^2}=f(x_i,u(x_i)),\n",
      "$$"
     ]
    },
    {
     "cell_type": "markdown",
     "metadata": {},
     "source": [
      "with $i=1,2,\\dots, n$. We need to add to this system the two boundary conditions $u(a) =u_0$ and $u(b) = u_{n+1}$.\n",
      "If we define a matrix"
     ]
    },
    {
     "cell_type": "markdown",
     "metadata": {},
     "source": [
      "$$\n",
      "{\\bf A} = \\frac{1}{h^2}\\left(\\begin{array}{cccccc}\n",
      "                          2 & -1 &  &   &  & \\\\\n",
      "                          -1 & 2 & -1 & & & \\\\\n",
      "                           & -1 & 2 & -1 & &  \\\\\n",
      "                           & \\dots   & \\dots &\\dots   &\\dots & \\dots \\\\\n",
      "                           &   &  &-1  &2& -1 \\\\\n",
      "                           &    &  &   &-1 & 2 \\\\\n",
      "                      \\end{array} \\right)\n",
      "$$"
     ]
    },
    {
     "cell_type": "markdown",
     "metadata": {},
     "source": [
      "and the corresponding vectors ${\\bf u} = (u_1, u_2, \\dots,u_n)^T$ and\n",
      "${\\bf f}({\\bf u}) = f(x_1,x_2,\\dots, x_n,u_1, u_2, \\dots,u_n)^T$  we can rewrite the differential equation\n",
      "including the boundary conditions as a system of linear equations with  a large number of unknowns"
     ]
    },
    {
     "cell_type": "markdown",
     "metadata": {},
     "source": [
      "$$\n",
      "{\\bf A}{\\bf u} = {\\bf f}({\\bf u}).\n",
      "$$"
     ]
    },
    {
     "cell_type": "markdown",
     "metadata": {},
     "source": [
      "### Student project 2, part a-b)\n",
      "\n",
      "We are first interested in the solution of the radial part of Schr\\\"odinger's equation for one electron. This equation reads"
     ]
    },
    {
     "cell_type": "markdown",
     "metadata": {},
     "source": [
      "$$\n",
      "-\\frac{\\hbar^2}{2 m} \\left ( \\frac{1}{r^2} \\frac{d}{dr} r^2\n",
      "  \\frac{d}{dr} - \\frac{l (l + 1)}{r^2} \\right )R(r)\n",
      "     + V(r) R(r) = E R(r).\n",
      "$$"
     ]
    },
    {
     "cell_type": "markdown",
     "metadata": {},
     "source": [
      "In our case $V(r)$ is the harmonic oscillator potential $(1/2)kr^2$ with\n",
      "$k=m\\omega^2$ and $E$ is\n",
      "the energy of the harmonic oscillator in three dimensions.\n",
      "The oscillator frequency is $\\omega$ and the energies are"
     ]
    },
    {
     "cell_type": "markdown",
     "metadata": {},
     "source": [
      "$$\n",
      "E_{nl}=  \\hbar \\omega \\left(2n+l+\\frac{3}{2}\\right),\n",
      "$$"
     ]
    },
    {
     "cell_type": "markdown",
     "metadata": {},
     "source": [
      "with $n=0,1,2,\\dots$ and $l=0,1,2,\\dots$.\n",
      "\n",
      "Since we have made a transformation to spherical coordinates it means that\n",
      "$r\\in [0,\\infty)$.\n",
      "The quantum number\n",
      "$l$ is the orbital momentum of the electron.\n",
      "\n",
      "Then we substitute $R(r) = (1/r) u(r)$ and obtain"
     ]
    },
    {
     "cell_type": "markdown",
     "metadata": {},
     "source": [
      "$$\n",
      "-\\frac{\\hbar^2}{2 m} \\frac{d^2}{dr^2} u(r)\n",
      "       + \\left ( V(r) + \\frac{l (l + 1)}{r^2}\\frac{\\hbar^2}{2 m}\n",
      "                                    \\right ) u(r)  = E u(r) .\n",
      "$$"
     ]
    },
    {
     "cell_type": "markdown",
     "metadata": {},
     "source": [
      "The boundary conditions are $u(0)=0$ and $u(\\infty)=0$.\n",
      "\n",
      "### Student project 2, part a-b)\n",
      "\n",
      "We introduce a dimensionless variable $\\rho = (1/\\alpha) r$\n",
      "where $\\alpha$ is a constant with dimension length and get"
     ]
    },
    {
     "cell_type": "markdown",
     "metadata": {},
     "source": [
      "$$\n",
      "-\\frac{\\hbar^2}{2 m \\alpha^2} \\frac{d^2}{d\\rho^2} u(\\rho)\n",
      "       + \\left ( V(\\rho) + \\frac{l (l + 1)}{\\rho^2}\n",
      "         \\frac{\\hbar^2}{2 m\\alpha^2} \\right ) u(\\rho)  = E u(\\rho) .\n",
      "$$"
     ]
    },
    {
     "cell_type": "markdown",
     "metadata": {},
     "source": [
      "In project 2 we set $l=0$.\n",
      "Inserting $V(\\rho) = (1/2) k \\alpha^2\\rho^2$ we end up with"
     ]
    },
    {
     "cell_type": "markdown",
     "metadata": {},
     "source": [
      "$$\n",
      "-\\frac{\\hbar^2}{2 m \\alpha^2} \\frac{d^2}{d\\rho^2} u(\\rho)\n",
      "       + \\frac{k}{2} \\alpha^2\\rho^2u(\\rho)  = E u(\\rho) .\n",
      "$$"
     ]
    },
    {
     "cell_type": "markdown",
     "metadata": {},
     "source": [
      "We multiply thereafter with $2m\\alpha^2/\\hbar^2$ on both sides and obtain"
     ]
    },
    {
     "cell_type": "markdown",
     "metadata": {},
     "source": [
      "$$\n",
      "-\\frac{d^2}{d\\rho^2} u(\\rho)\n",
      "       + \\frac{mk}{\\hbar^2} \\alpha^4\\rho^2u(\\rho)  = \\frac{2m\\alpha^2}{\\hbar^2}E u(\\rho) .\n",
      "$$"
     ]
    },
    {
     "cell_type": "markdown",
     "metadata": {},
     "source": [
      "### Student project 2, part a-b)\n",
      "\n",
      "We have from the previous slide"
     ]
    },
    {
     "cell_type": "markdown",
     "metadata": {},
     "source": [
      "$$\n",
      "-\\frac{d^2}{d\\rho^2} u(\\rho)\n",
      "       + \\frac{mk}{\\hbar^2} \\alpha^4\\rho^2u(\\rho)  = \\frac{2m\\alpha^2}{\\hbar^2}E u(\\rho) .\n",
      "$$"
     ]
    },
    {
     "cell_type": "markdown",
     "metadata": {},
     "source": [
      "The constant $\\alpha$ can now be fixed\n",
      "so that"
     ]
    },
    {
     "cell_type": "markdown",
     "metadata": {},
     "source": [
      "$$\n",
      "\\frac{mk}{\\hbar^2} \\alpha^4 = 1,\n",
      "$$"
     ]
    },
    {
     "cell_type": "markdown",
     "metadata": {},
     "source": [
      "or"
     ]
    },
    {
     "cell_type": "markdown",
     "metadata": {},
     "source": [
      "$$\n",
      "\\alpha = \\left(\\frac{\\hbar^2}{mk}\\right)^{1/4}.\n",
      "$$"
     ]
    },
    {
     "cell_type": "markdown",
     "metadata": {},
     "source": [
      "Defining"
     ]
    },
    {
     "cell_type": "markdown",
     "metadata": {},
     "source": [
      "$$\n",
      "\\lambda = \\frac{2m\\alpha^2}{\\hbar^2}E,\n",
      "$$"
     ]
    },
    {
     "cell_type": "markdown",
     "metadata": {},
     "source": [
      "we can rewrite Schr\\\"odinger's equation as"
     ]
    },
    {
     "cell_type": "markdown",
     "metadata": {},
     "source": [
      "$$\n",
      "-\\frac{d^2}{d\\rho^2} u(\\rho) + \\rho^2u(\\rho)  = \\lambda u(\\rho) .\n",
      "$$"
     ]
    },
    {
     "cell_type": "markdown",
     "metadata": {},
     "source": [
      "This is the first equation to solve numerically. In three dimensions\n",
      "the eigenvalues for $l=0$ are\n",
      "$\\lambda_0=3,\\lambda_1=7,\\lambda_2=11,\\dots .$\n",
      "\n",
      "### Student project 2, part a-b)\n",
      "\n",
      "We use the by now standard\n",
      "expression for the second derivative of a function $u$"
     ]
    },
    {
     "cell_type": "markdown",
     "metadata": {},
     "source": [
      "<!-- Equation labels as ordinary links -->\n",
      "<a name=\"eq:diffoperation\"/>\n",
      "\n",
      "$$\n",
      "\\begin{equation}\n",
      "    u''=\\frac{u(\\rho+h) -2u(\\rho) +u(\\rho-h)}{h^2} +O(h^2),\n",
      "    \\label{eq:diffoperation} \\tag{1}\n",
      "\\end{equation}\n",
      "$$"
     ]
    },
    {
     "cell_type": "markdown",
     "metadata": {},
     "source": [
      "where $h$ is our step.\n",
      "Next we define minimum and maximum values for the variable $\\rho$,\n",
      "$\\rho_{\\mbox{min}}=0$  and $\\rho_{\\mbox{max}}$, respectively.\n",
      "You need to check your results for the energies against different values\n",
      "$\\rho_{\\mbox{max}}$, since we cannot set\n",
      "$\\rho_{\\mbox{max}}=\\infty$.\n",
      "\n",
      "### Student project 2, part a-b)\n",
      "\n",
      "With a given number of steps, $n_{\\mbox{step}}$, we then\n",
      "define the step $h$ as"
     ]
    },
    {
     "cell_type": "markdown",
     "metadata": {},
     "source": [
      "$$\n",
      "h=\\frac{\\rho_{\\mbox{max}}-\\rho_{\\mbox{min}} }{n_{\\mbox{step}}}.\n",
      "$$"
     ]
    },
    {
     "cell_type": "markdown",
     "metadata": {},
     "source": [
      "Define an arbitrary value of $\\rho$ as"
     ]
    },
    {
     "cell_type": "markdown",
     "metadata": {},
     "source": [
      "$$\n",
      "\\rho_i= \\rho_{\\mbox{min}} + ih\\quad i=0,1,2,\\dots , n_{\\mbox{step}}\n",
      "$$"
     ]
    },
    {
     "cell_type": "markdown",
     "metadata": {},
     "source": [
      "we can rewrite the Schr\\\"odinger equation for $\\rho_i$ as"
     ]
    },
    {
     "cell_type": "markdown",
     "metadata": {},
     "source": [
      "$$\n",
      "-\\frac{u(\\rho_i+h) -2u(\\rho_i) +u(\\rho_i-h)}{h^2}+\\rho_i^2u(\\rho_i)  = \\lambda u(\\rho_i),\n",
      "$$"
     ]
    },
    {
     "cell_type": "markdown",
     "metadata": {},
     "source": [
      "or in  a more compact way"
     ]
    },
    {
     "cell_type": "markdown",
     "metadata": {},
     "source": [
      "$$\n",
      "-\\frac{u_{i+1} -2u_i +u_{i-1}}{h^2}+\\rho_i^2u_i=-\\frac{u_{i+1} -2u_i +u_{i-1} }{h^2}+V_iu_i  = \\lambda u_i,\n",
      "$$"
     ]
    },
    {
     "cell_type": "markdown",
     "metadata": {},
     "source": [
      "where $V_i=\\rho_i^2$ is the harmonic oscillator potential.\n",
      "\n",
      "### Student project 2, part a-b)\n",
      "\n",
      "Define first the diagonal matrix element"
     ]
    },
    {
     "cell_type": "markdown",
     "metadata": {},
     "source": [
      "$$\n",
      "d_i=\\frac{2}{h^2}+V_i,\n",
      "$$"
     ]
    },
    {
     "cell_type": "markdown",
     "metadata": {},
     "source": [
      "and the non-diagonal matrix element"
     ]
    },
    {
     "cell_type": "markdown",
     "metadata": {},
     "source": [
      "$$\n",
      "e_i=-\\frac{1}{h^2}.\n",
      "$$"
     ]
    },
    {
     "cell_type": "markdown",
     "metadata": {},
     "source": [
      "In this case the non-diagonal matrix elements are given by a mere constant.\n",
      "*All non-diagonal matrix elements are equal*.\n",
      "With these definitions the Schr\\\"odinger equation takes the following form"
     ]
    },
    {
     "cell_type": "markdown",
     "metadata": {},
     "source": [
      "$$\n",
      "d_iu_i+e_{i-1}u_{i-1}+e_{i+1}u_{i+1}  = \\lambda u_i,\n",
      "$$"
     ]
    },
    {
     "cell_type": "markdown",
     "metadata": {},
     "source": [
      "where $u_i$ is unknown. We can write the\n",
      "latter equation as a matrix eigenvalue problem"
     ]
    },
    {
     "cell_type": "markdown",
     "metadata": {},
     "source": [
      "<!-- Equation labels as ordinary links -->\n",
      "<a name=\"eq:sematrix\"/>\n",
      "\n",
      "$$\n",
      "\\begin{equation}\n",
      "    \\left( \\begin{array}{ccccccc} d_1 & e_1 & 0   & 0    & \\dots  &0     & 0 \\\\\n",
      "                                e_1 & d_2 & e_2 & 0    & \\dots  &0     &0 \\\\\n",
      "                                0   & e_2 & d_3 & e_3  &0       &\\dots & 0\\\\\n",
      "                                \\dots  & \\dots & \\dots & \\dots  &\\dots      &\\dots & \\dots\\\\\n",
      "                                0   & \\dots & \\dots & \\dots  &\\dots       &d_{n_{\\mbox{step}}-2} & e_{n_{\\mbox{step}}-1}\\\\\n",
      "                                0   & \\dots & \\dots & \\dots  &\\dots       &e_{n_{\\mbox{step}}-1} & d_{n_{\\mbox{step}}-1}\n",
      "\n",
      "             \\end{array} \\right)      \\left( \\begin{array}{c} u_{1} \\\\\n",
      "                                                              u_{2} \\\\\n",
      "                                                              \\dots\\\\ \\dots\\\\ \\dots\\\\\n",
      "                                                              u_{n_{\\mbox{step}}-1}\n",
      "             \\end{array} \\right)=\\lambda \\left( \\begin{array}{c} u_{1} \\\\\n",
      "                                                              u_{2} \\\\\n",
      "                                                              \\dots\\\\ \\dots\\\\ \\dots\\\\\n",
      "                                                              u_{n_{\\mbox{step}}-1}\n",
      "             \\end{array} \\right)\n",
      "      \\label{eq:sematrix} \\tag{2}\n",
      "\\end{equation}\n",
      "$$"
     ]
    },
    {
     "cell_type": "markdown",
     "metadata": {},
     "source": [
      "### Student project 2, part a-b)\n",
      "\n",
      "or if we wish to be more detailed, we can write the tridiagonal matrix as"
     ]
    },
    {
     "cell_type": "markdown",
     "metadata": {},
     "source": [
      "<!-- Equation labels as ordinary links -->\n",
      "<a name=\"eq:matrixse\"/>\n",
      "\n",
      "$$\n",
      "\\begin{equation}\n",
      "    \\left( \\begin{array}{ccccccc} \\frac{2}{h^2}+V_1 & -\\frac{1}{h^2} & 0   & 0    & \\dots  &0     & 0 \\\\\n",
      "                                -\\frac{1}{h^2} & \\frac{2}{h^2}+V_2 & -\\frac{1}{h^2} & 0    & \\dots  &0     &0 \\\\\n",
      "                                0   & -\\frac{1}{h^2} & \\frac{2}{h^2}+V_3 & -\\frac{1}{h^2}  &0       &\\dots & 0\\\\\n",
      "                                \\dots  & \\dots & \\dots & \\dots  &\\dots      &\\dots & \\dots\\\\\n",
      "                                0   & \\dots & \\dots & \\dots  &\\dots       &\\frac{2}{h^2}+V_{n_{\\mbox{step}}-2} & -\\frac{1}{h^2}\\\\\n",
      "                                0   & \\dots & \\dots & \\dots  &\\dots       &-\\frac{1}{h^2} & \\frac{2}{h^2}+V_{n_{\\mbox{step}}-1}\n",
      "\n",
      "             \\end{array} \\right)\n",
      "\\label{eq:matrixse} \\tag{3}\n",
      "\\end{equation}\n",
      "$$"
     ]
    },
    {
     "cell_type": "markdown",
     "metadata": {},
     "source": [
      "Recall that the solutions are known via the boundary conditions at\n",
      "$i=n_{\\mbox{step}}$ and at the other end point, that is for  $\\rho_0$.\n",
      "The solution is zero in both cases.\n",
      "\n",
      "### Student project 2, part c)\n",
      "\n",
      "We are going to study two electrons in a harmonic oscillator well which\n",
      "also interact via a repulsive Coulomb interaction.\n",
      "Let us start with the single-electron equation written as"
     ]
    },
    {
     "cell_type": "markdown",
     "metadata": {},
     "source": [
      "$$\n",
      "-\\frac{\\hbar^2}{2 m} \\frac{d^2}{dr^2} u(r)\n",
      "       + \\frac{1}{2}k r^2u(r)  = E^{(1)} u(r),\n",
      "$$"
     ]
    },
    {
     "cell_type": "markdown",
     "metadata": {},
     "source": [
      "where $E^{(1)}$ stands for the energy with one electron only.\n",
      "For two electrons with no repulsive Coulomb interaction, we have the following\n",
      "Schr\\\"odinger equation"
     ]
    },
    {
     "cell_type": "markdown",
     "metadata": {},
     "source": [
      "$$\n",
      "\\left(  -\\frac{\\hbar^2}{2 m} \\frac{d^2}{dr_1^2} -\\frac{\\hbar^2}{2 m} \\frac{d^2}{dr_2^2}+ \\frac{1}{2}k r_1^2+ \\frac{1}{2}k r_2^2\\right)u(r_1,r_2)  = E^{(2)} u(r_1,r_2) .\n",
      "$$"
     ]
    },
    {
     "cell_type": "markdown",
     "metadata": {},
     "source": [
      "### Student project 2, part c)\n",
      "\n",
      "Note that we deal with a two-electron wave function $u(r_1,r_2)$ and\n",
      "two-electron energy $E^{(2)}$.\n",
      "\n",
      "With no interaction this can be written out as the product of two\n",
      "single-electron wave functions, that is we have a solution on closed form.\n",
      "\n",
      "We introduce the relative coordinate ${\\bf r} = {\\bf r}_1-{\\bf r}_2$\n",
      "and the center-of-mass coordinate ${\\bf R} = 1/2({\\bf r}_1+{\\bf r}_2)$.\n",
      "With these new coordinates, the radial Schr\\\"odinger equation reads"
     ]
    },
    {
     "cell_type": "markdown",
     "metadata": {},
     "source": [
      "$$\n",
      "\\left(  -\\frac{\\hbar^2}{m} \\frac{d^2}{dr^2} -\\frac{\\hbar^2}{4 m} \\frac{d^2}{dR^2}+ \\frac{1}{4} k r^2+  kR^2\\right)u(r,R)  = E^{(2)} u(r,R).\n",
      "$$"
     ]
    },
    {
     "cell_type": "markdown",
     "metadata": {},
     "source": [
      "### Student project 2, part c)\n",
      "\n",
      "The equations for $r$ and $R$ can be separated via the ansatz for the\n",
      "wave function $u(r,R) = \\psi(r)\\phi(R)$ and the energy is given by the sum\n",
      "of the relative energy $E_r$ and the center-of-mass energy $E_R$, that\n",
      "is"
     ]
    },
    {
     "cell_type": "markdown",
     "metadata": {},
     "source": [
      "$$\n",
      "E^{(2)}=E_r+E_R.\n",
      "$$"
     ]
    },
    {
     "cell_type": "markdown",
     "metadata": {},
     "source": [
      "We add then the repulsive Coulomb interaction between two electrons,\n",
      "namely a term"
     ]
    },
    {
     "cell_type": "markdown",
     "metadata": {},
     "source": [
      "$$\n",
      "V(r_1,r_2) = \\frac{\\beta e^2}{|{\\bf r}_1-{\\bf r}_2|}=\\frac{\\beta e^2}{r},\n",
      "$$"
     ]
    },
    {
     "cell_type": "markdown",
     "metadata": {},
     "source": [
      "with $\\beta e^2=1.44$ eVnm.\n",
      "\n",
      "### Student project 2, part c)\n",
      "\n",
      "Adding this term, the $r$-dependent Schr\\\"odinger equation becomes"
     ]
    },
    {
     "cell_type": "markdown",
     "metadata": {},
     "source": [
      "$$\n",
      "\\left(  -\\frac{\\hbar^2}{m} \\frac{d^2}{dr^2}+ \\frac{1}{4}k r^2+\\frac{\\beta e^2}{r}\\right)\\psi(r)  = E_r \\psi(r).\n",
      "$$"
     ]
    },
    {
     "cell_type": "markdown",
     "metadata": {},
     "source": [
      "This equation is similar to the one we had previously in parts (a) and (b)\n",
      "and we introduce\n",
      "again a dimensionless variable $\\rho = r/\\alpha$. Repeating the same\n",
      "steps, we arrive at"
     ]
    },
    {
     "cell_type": "markdown",
     "metadata": {},
     "source": [
      "$$\n",
      "-\\frac{d^2}{d\\rho^2} \\psi(\\rho)\n",
      "       + \\frac{mk}{4\\hbar^2} \\alpha^4\\rho^2\\psi(\\rho)+\\frac{m\\alpha \\beta e^2}{\\rho\\hbar^2}\\psi(\\rho)  =\n",
      "\\frac{m\\alpha^2}{\\hbar^2}E_r \\psi(\\rho) .\n",
      "$$"
     ]
    },
    {
     "cell_type": "markdown",
     "metadata": {},
     "source": [
      "### Student project 2, part c)\n",
      "\n",
      "We want to manipulate this equation further to make it as similar to that in (a)\n",
      "as possible. We define a 'frequency'"
     ]
    },
    {
     "cell_type": "markdown",
     "metadata": {},
     "source": [
      "$$\n",
      "\\omega_r^2=\\frac{1}{4}\\frac{mk}{\\hbar^2} \\alpha^4,\n",
      "$$"
     ]
    },
    {
     "cell_type": "markdown",
     "metadata": {},
     "source": [
      "and fix the constant $\\alpha$ by requiring"
     ]
    },
    {
     "cell_type": "markdown",
     "metadata": {},
     "source": [
      "$$\n",
      "\\frac{m\\alpha \\beta e^2}{\\hbar^2}=1\n",
      "$$"
     ]
    },
    {
     "cell_type": "markdown",
     "metadata": {},
     "source": [
      "or"
     ]
    },
    {
     "cell_type": "markdown",
     "metadata": {},
     "source": [
      "$$\n",
      "\\alpha = \\frac{\\hbar^2}{m\\beta e^2}.\n",
      "$$"
     ]
    },
    {
     "cell_type": "markdown",
     "metadata": {},
     "source": [
      "### Student project 2, part c)\n",
      "\n",
      "Defining"
     ]
    },
    {
     "cell_type": "markdown",
     "metadata": {},
     "source": [
      "$$\n",
      "\\lambda = \\frac{m\\alpha^2}{\\hbar^2}E,\n",
      "$$"
     ]
    },
    {
     "cell_type": "markdown",
     "metadata": {},
     "source": [
      "we can rewrite Schr\\\"odinger's equation as"
     ]
    },
    {
     "cell_type": "markdown",
     "metadata": {},
     "source": [
      "$$\n",
      "-\\frac{d^2}{d\\rho^2} \\psi(\\rho) + \\omega_r^2\\rho^2\\psi(\\rho) +\\frac{1}{\\rho}\\psi(\\rho) = \\lambda \\psi(\\rho).\n",
      "$$"
     ]
    },
    {
     "cell_type": "markdown",
     "metadata": {},
     "source": [
      "### Student project 2, part c)\n",
      "\n",
      "We treat $\\omega_r$ as a parameter which reflects the strength of the oscillator potential.\n",
      "\n",
      "Here we will study the cases $\\omega_r = 0.01$, $\\omega_r = 0.5$, $\\omega_r =1$,\n",
      "and $\\omega_r = 5$\n",
      "for the ground state only, that is the lowest-lying state.\n",
      "\n",
      "With no repulsive Coulomb interaction\n",
      "you should get a result which corresponds to\n",
      "the relative energy of a non-interacting system.\n",
      "Make sure your results are\n",
      "stable as functions of $\\rho_{\\mbox{max}}$ and the number of steps.\n",
      "\n",
      "We are only interested in the ground state with $l=0$. We omit the\n",
      "center-of-mass energy.\n",
      "\n",
      "For specific oscillator frequencies, the above equation has closed answers,\n",
      "see the article by M. Taut, Phys. Rev. A 48, 3561 - 3566 (1993).\n",
      "The article can be retrieved from the following web address\n",
      "<http://prola.aps.org/abstract/PRA/v48/i5/p3561_1>.\n",
      "\n",
      "### Eigenvalue Solvers\n",
      "\n",
      "One speaks normally of two main approaches to solving the eigenvalue problem.\n",
      "\n",
      "\n",
      "\n",
      "The first is the formal method, involving determinants and the\n",
      "\\textit{characteristic polynomial}. This proves how many eigenvalues\n",
      "there are, and is the way most of you\n",
      "learned about how to solve the eigenvalue problem, but for\n",
      "matrices of dimensions greater than 2 or 3, it is rather\n",
      "impractical.\n",
      "\n",
      "\n",
      "\n",
      "The other general approach is to use similarity or unitary\n",
      "tranformations  to reduce a matrix to diagonal form. Almost always\n",
      "this is done in two steps: first reduce to for example a \\textit{tridiagonal}\n",
      "form, and then to diagonal form. The main algorithms we will discuss\n",
      "in detail, Jacobi's and  Householder's  (so-called direct method) and Lanczos algorithms (an iterative method), follow this\n",
      "methodology.\n",
      "\n",
      "### Diagonalization methods, direct methods\n",
      "\n",
      "**Direct or non-iterative methods.**\n",
      "\n",
      "...require for matrices of dimensionality $n\\times n$ typically $O(n^3)$ operations. These methods are normally called standard methods and are used for dimensionalities\n",
      "$n \\sim 10^5$ or smaller. A brief historical overview\n",
      "\n",
      "<table border=\"1\">\n",
      "<thead>\n",
      "<tr><th align=\"center\">       Year      </th> <th align=\"center\">       $n$       </th> <th align=\"center\">                 </th> </tr>\n",
      "</thead>\n",
      "<tbody>\n",
      "<tr><td align=\"left\">   1950                 </td> <td align=\"right\">   $n=20$               </td> <td align=\"left\">   (Wilkinson)          </td> </tr>\n",
      "<tr><td align=\"left\">   1965                 </td> <td align=\"right\">   $n=200$              </td> <td align=\"left\">   (Forsythe et al.)    </td> </tr>\n",
      "<tr><td align=\"left\">   1980                 </td> <td align=\"right\">   $n=2000$             </td> <td align=\"left\">   Linpack              </td> </tr>\n",
      "<tr><td align=\"left\">   1995                 </td> <td align=\"right\">   $n=20000$            </td> <td align=\"left\">   Lapack               </td> </tr>\n",
      "<tr><td align=\"left\">   2012                 </td> <td align=\"right\">   $n\\sim 10^5$         </td> <td align=\"left\">   Lapack               </td> </tr>\n",
      "</tbody>\n",
      "</table>\n",
      "\n",
      "shows that in the course of 60 years the dimension that  direct diagonalization methods can handle  has increased by almost a factor of\n",
      "$10^4$. However, it pales beside the progress achieved by computer hardware, from flops to petaflops, a factor of almost $10^{15}$. We see clearly played out in history the $O(n^3)$ bottleneck  of direct matrix algorithms.\n",
      "Sloppily speaking, when  $n\\sim 10^4$ is cubed we have $O(10^{12})$ operations, which is smaller than the $10^{15}$ increase in flops.\n",
      "\n",
      "\n",
      "\n",
      "### Diagonalization methods\n",
      "\n",
      "**Why iterative methods?**\n",
      "\n",
      "If the matrix to diagonalize is large and sparse, direct methods simply become impractical,\n",
      "also because\n",
      "many of the direct methods tend to destroy sparsity. As a result large dense matrices may arise during the diagonalization procedure.  The idea behind iterative methods is to project the\n",
      "$n-$dimensional problem in smaller spaces, so-called Krylov subspaces.\n",
      "Given a matrix $\\hat{A}$ and a vector $\\hat{v}$, the associated Krylov sequences of vectors\n",
      "(and thereby subspaces)\n",
      "$\\hat{v}$, $\\hat{A}\\hat{v}$, $\\hat{A}^2\\hat{v}$, $\\hat{A}^3\\hat{v},\\dots$, represent\n",
      "successively larger Krylov subspaces.\n",
      "\n",
      "<table border=\"1\">\n",
      "<thead>\n",
      "<tr><th align=\"center\">             Matrix            </th> <th align=\"center\">    $\\hat{A}\\hat{x}=\\hat{b}$   </th> <th align=\"center\">$\\hat{A}\\hat{x}=\\lambda\\hat{x}$</th> </tr>\n",
      "</thead>\n",
      "<tbody>\n",
      "<tr><td align=\"left\">   $\\hat{A}=\\hat{A}^*$                </td> <td align=\"left\">   Conjugate gradient                 </td> <td align=\"left\">   Lanczos                            </td> </tr>\n",
      "<tr><td align=\"left\">   $\\hat{A}\\ne \\hat{A}^*$             </td> <td align=\"left\">   GMRES etc                          </td> <td align=\"left\">   Arnoldi                            </td> </tr>\n",
      "</tbody>\n",
      "</table>\n",
      "\n",
      "\n",
      "\n",
      "### Important Matrix and vector handling packages\n",
      "\n",
      "The Numerical Recipes codes have been rewritten in Fortran 90/95 and C/C++ by us.\n",
      "The original source codes are taken from the widely used software\n",
      "package LAPACK, which follows two other popular packages developed in the 1970s,\n",
      "namely EISPACK\n",
      "and LINPACK.\n",
      "\n",
      "  * LINPACK: package for linear equations and least square problems.\n",
      "\n",
      "  * LAPACK:package for solving symmetric, unsymmetric and generalized eigenvalue problems. From LAPACK's website <http://www.netlib.org> it is possible to download for free all source codes from this library. Both C/C++ and Fortran versions are available.\n",
      "\n",
      "  * BLAS (I, II and III): (Basic Linear Algebra Subprograms) are routines that provide standard building blocks for performing basic vector and matrix operations. Blas I is vector operations, II vector-matrix operations and III matrix-matrix operations. Highly parallelized and efficient codes, all available for download from <http://www.netlib.org>.\n",
      "\n",
      "### Eigenvalue Solvers, Jacobi\n",
      "\n",
      "Consider an  ($n\\times n$) orthogonal transformation matrix"
     ]
    },
    {
     "cell_type": "markdown",
     "metadata": {},
     "source": [
      "$$\n",
      "{\\bf S}=\n",
      " \\left(\n",
      "   \\begin{array}{cccccccc}\n",
      "   1  &    0  & \\dots &   0        &    0  & \\dots & 0 &   0       \\\\\n",
      "   0  &    1  & \\dots &   0        &    0  & \\dots & 0 &   0       \\\\\n",
      "\\dots & \\dots & \\dots & \\dots      & \\dots & \\dots & 0 & \\dots     \\\\\n",
      "   0  &    0  & \\dots & \\cos\\theta  &    0  & \\dots & 0 & \\sin\\theta \\\\\n",
      "   0  &    0  & \\dots &   0        &    1  & \\dots & 0 &   0       \\\\\n",
      "\\dots & \\dots & \\dots & \\dots      & \\dots & \\dots & 0 & \\dots     \\\\\n",
      "   0  &    0  & \\dots &  -\\sin\\theta        &    0  & \\dots & 1 &   \\cos\\theta       \\\\\n",
      "   0  &    0  & \\dots & 0 & \\dots & \\dots & 0 & 1\n",
      "   \\end{array}\n",
      " \\right)\n",
      "$$"
     ]
    },
    {
     "cell_type": "markdown",
     "metadata": {},
     "source": [
      "with property ${\\bf S^{T}} = {\\bf S^{-1}}$.\n",
      "It performs a plane rotation around an angle $\\theta$ in the Euclidean\n",
      "$n-$dimensional space.\n",
      "\n",
      "### Eigenvalue Solvers, Jacobi\n",
      "\n",
      "It means that its matrix elements that differ\n",
      "from zero are given by"
     ]
    },
    {
     "cell_type": "markdown",
     "metadata": {},
     "source": [
      "$$\n",
      "s_{kk}= s_{ll}=\\cos\\theta,\n",
      "    s_{kl}=-s_{lk}= -\\sin\\theta,\n",
      "    s_{ii}=-s_{ii}=1\\quad i\\ne k \\quad i \\ne l,\n",
      "$$"
     ]
    },
    {
     "cell_type": "markdown",
     "metadata": {},
     "source": [
      "A similarity transformation"
     ]
    },
    {
     "cell_type": "markdown",
     "metadata": {},
     "source": [
      "$$\n",
      "{\\bf B}= {\\bf S}^T {\\bf A}{\\bf S},\n",
      "$$"
     ]
    },
    {
     "cell_type": "markdown",
     "metadata": {},
     "source": [
      "results in"
     ]
    },
    {
     "cell_type": "markdown",
     "metadata": {},
     "source": [
      "$$\n",
      "b_{ik} = a_{ik}\\cos\\theta - a_{il}\\sin\\theta , i \\ne k, i \\ne l\n",
      "$$"
     ]
    },
    {
     "cell_type": "markdown",
     "metadata": {},
     "source": [
      "$$\n",
      "b_{il} = a_{il}\\cos\\theta + a_{ik}\\sin\\theta , i \\ne k, i \\ne l \\nonumber\n",
      "$$"
     ]
    },
    {
     "cell_type": "markdown",
     "metadata": {},
     "source": [
      "$$\n",
      "b_{kk} = a_{kk}\\cos^2\\theta - 2a_{kl}\\cos\\theta \\sin\\theta +a_{ll}\\sin^2\\theta\\nonumber\n",
      "$$"
     ]
    },
    {
     "cell_type": "markdown",
     "metadata": {},
     "source": [
      "$$\n",
      "b_{ll} = a_{ll}\\cos^2\\theta +2a_{kl}\\cos\\theta sin\\theta +a_{kk}\\sin^2\\theta\\nonumber\n",
      "$$"
     ]
    },
    {
     "cell_type": "markdown",
     "metadata": {},
     "source": [
      "$$\n",
      "b_{kl} = (a_{kk}-a_{ll})\\cos\\theta \\sin\\theta +a_{kl}(\\cos^2\\theta-\\sin^2\\theta)\\nonumber\n",
      "$$"
     ]
    },
    {
     "cell_type": "markdown",
     "metadata": {},
     "source": [
      "The angle $\\theta$ is  arbitrary. The recipe is to choose  $\\theta$ so that all\n",
      "non-diagonal matrix elements $b_{kl}$ become zero.\n",
      "\n",
      "### Eigenvalue Solvers, Jacobi\n",
      "\n",
      "The main idea is thus to reduce systematically the\n",
      "norm of the\n",
      "off-diagonal matrix elements  of a matrix  ${\\bf A}$"
     ]
    },
    {
     "cell_type": "markdown",
     "metadata": {},
     "source": [
      "$$\n",
      "\\mbox{off}({\\bf A}) = \\sqrt{\\sum_{i=1}^n\\sum_{j=1,j\\ne i}^n a_{ij}^2}.\n",
      "$$"
     ]
    },
    {
     "cell_type": "markdown",
     "metadata": {},
     "source": [
      "To demonstrate the algorithm, we consider the  simple $2\\times 2$  similarity transformation\n",
      "of the full matrix. The matrix is symmetric, we single out $ 1\\le k < l \\le n$  and\n",
      "use the abbreviations $c=\\cos\\theta$ and $s=\\sin\\theta$ to obtain"
     ]
    },
    {
     "cell_type": "markdown",
     "metadata": {},
     "source": [
      "$$\n",
      "\\left( \\begin{array}{cc} b_{kk} & 0 \\\\\n",
      "                          0 & b_{ll} \\\\\\end{array} \\right)  =  \\left( \\begin{array}{cc} c & -s \\\\\n",
      "                          s &c \\\\\\end{array} \\right)  \\left( \\begin{array}{cc} a_{kk} & a_{kl} \\\\\n",
      "                          a_{lk} &a_{ll} \\\\\\end{array} \\right) \\left( \\begin{array}{cc} c & s \\\\\n",
      "                          -s & c \\\\\\end{array} \\right).\n",
      "$$"
     ]
    },
    {
     "cell_type": "markdown",
     "metadata": {},
     "source": [
      "### Eigenvalue Solvers, Jacobi\n",
      "\n",
      "We require that the non-diagonal matrix elements $b_{kl}=b_{lk}=0$, implying that"
     ]
    },
    {
     "cell_type": "markdown",
     "metadata": {},
     "source": [
      "$$\n",
      "a_{kl}(c^2-s^2)+(a_{kk}-a_{ll})cs = b_{kl} = 0.\n",
      "$$"
     ]
    },
    {
     "cell_type": "markdown",
     "metadata": {},
     "source": [
      "If $a_{kl}=0$ one sees immediately that $\\cos\\theta = 1$ and $\\sin\\theta=0$.\n",
      "\n",
      "The Frobenius norm of an orthogonal transformation is always preserved. The Frobenius norm is defined\n",
      "as"
     ]
    },
    {
     "cell_type": "markdown",
     "metadata": {},
     "source": [
      "$$\n",
      "||{\\bf A}||_F =  \\sqrt{\\sum_{i=1}^n\\sum_{j=1}^n |a_{ij}|^2}.\n",
      "$$"
     ]
    },
    {
     "cell_type": "markdown",
     "metadata": {},
     "source": [
      "This means that for our $2\\times 2$ case  we have"
     ]
    },
    {
     "cell_type": "markdown",
     "metadata": {},
     "source": [
      "$$\n",
      "2a_{kl}^2+a_{kk}^2+a_{ll}^2 = b_{kk}^2+b_{ll}^2,\n",
      "$$"
     ]
    },
    {
     "cell_type": "markdown",
     "metadata": {},
     "source": [
      "which leads to"
     ]
    },
    {
     "cell_type": "markdown",
     "metadata": {},
     "source": [
      "$$\n",
      "\\mbox{off}({\\bf B})^2 = ||{\\bf B}||_F^2-\\sum_{i=1}^nb_{ii}^2=\\mbox{off}({\\bf A})^2-2a_{kl}^2,\n",
      "$$"
     ]
    },
    {
     "cell_type": "markdown",
     "metadata": {},
     "source": [
      "since"
     ]
    },
    {
     "cell_type": "markdown",
     "metadata": {},
     "source": [
      "$$\n",
      "||{\\bf B}||_F^2-\\sum_{i=1}^nb_{ii}^2=||{\\bf A}||_F^2-\\sum_{i=1}^na_{ii}^2+(a_{kk}^2+a_{ll}^2 -b_{kk}^2-b_{ll}^2).\n",
      "$$"
     ]
    },
    {
     "cell_type": "markdown",
     "metadata": {},
     "source": [
      "This results means that  the matrix ${\\bf A}$ moves closer to diagonal form  for each transformation.\n",
      "\n",
      "### Eigenvalue Solvers, Jacobi\n",
      "\n",
      "Defining the quantities $\\tan\\theta = t= s/c$ and"
     ]
    },
    {
     "cell_type": "markdown",
     "metadata": {},
     "source": [
      "$$\n",
      "\\cot 2\\theta=\\tau = \\frac{a_{ll}-a_{kk}}{2a_{kl}},\n",
      "$$"
     ]
    },
    {
     "cell_type": "markdown",
     "metadata": {},
     "source": [
      "we obtain the quadratic equation (using $\\cot 2\\theta=1/2(\\cot \\theta-\\tan\\theta)$"
     ]
    },
    {
     "cell_type": "markdown",
     "metadata": {},
     "source": [
      "$$\n",
      "t^2+2\\tau t-1= 0,\n",
      "$$"
     ]
    },
    {
     "cell_type": "markdown",
     "metadata": {},
     "source": [
      "resulting in"
     ]
    },
    {
     "cell_type": "markdown",
     "metadata": {},
     "source": [
      "$$\n",
      "t = -\\tau \\pm \\sqrt{1+\\tau^2},\n",
      "$$"
     ]
    },
    {
     "cell_type": "markdown",
     "metadata": {},
     "source": [
      "and $c$ and $s$ are easily obtained via"
     ]
    },
    {
     "cell_type": "markdown",
     "metadata": {},
     "source": [
      "$$\n",
      "c = \\frac{1}{\\sqrt{1+t^2}},\n",
      "$$"
     ]
    },
    {
     "cell_type": "markdown",
     "metadata": {},
     "source": [
      "and $s=tc$.  Choosing $t$ to be the smaller of the roots ensures that $|\\theta| \\le \\pi/4$ and has the\n",
      "effect of minimizing the difference between the matrices ${\\bf B}$ and ${\\bf A}$ since"
     ]
    },
    {
     "cell_type": "markdown",
     "metadata": {},
     "source": [
      "$$\n",
      "||{\\bf B}-{\\bf A}||_F^2=4(1-c)\\sum_{i=1,i\\ne k,l}^n(a_{ik}^2+a_{il}^2) +\\frac{2a_{kl}^2}{c^2}.\n",
      "$$"
     ]
    },
    {
     "cell_type": "markdown",
     "metadata": {},
     "source": [
      "### Eigenvalue Solvers, Jacobi algo\n",
      "\n",
      "**Step 1.**\n",
      "Choose a tolerance $\\epsilon$, making it a small number, typically $10^{-8}$ or smaller.\n",
      "\n",
      "**Step 2.**\n",
      "Setup a `while`-test  where one compares the norm of the newly computed off-diagonal matrix elements"
     ]
    },
    {
     "cell_type": "markdown",
     "metadata": {},
     "source": [
      "$$\n",
      "\\mbox{off}({\\bf A}) = \\sqrt{\\sum_{i=1}^n\\sum_{j=1,j\\ne i}^n a_{ij}^2}   >  \\epsilon.\n",
      "$$"
     ]
    },
    {
     "cell_type": "markdown",
     "metadata": {},
     "source": [
      "**Step 3.**\n",
      "Now choose the matrix elements $a_{kl}$ so that we have those with largest value, that is $|a_{kl}|=\\mbox{max}_{i\\ne j} |a_{ij}|$.\n",
      "\n",
      "**Step 4.**\n",
      "Compute thereafter $\\tau = (a_{ll}-a_{kk})/2a_{kl}$, $\\tan\\theta$, $\\cos\\theta$ and $\\sin\\theta$.\n",
      "\n",
      "**Step 5.**\n",
      "Compute thereafter the similarity transformation for this set of values $(k,l)$, obtaining the new matrix ${\\bf B}= {\\bf S}(k,l,\\theta)^T {\\bf A}{\\bf S}(k,l,\\theta)$.\n",
      "\n",
      "**Step 6.**\n",
      "Compute the new norm of the off-diagonal matrix elements and continue till you have satisfied $\\mbox{off}({\\bf B})  \\le  \\epsilon$\n",
      "\n",
      "The convergence rate of the Jacobi method is however poor, one needs typically $3n^2-5n^2$ rotations and each rotation\n",
      "requires $4n$ operations, resulting in a total of $12n^3-20n^3$ operations in order to zero out non-diagonal matrix elements.\n",
      "\n",
      "### Jacobi's method, an example to convice you about the algorithm\n",
      "\n",
      "We specialize to a symmetric $3\\times 3 $ matrix ${\\bf A}$.\n",
      "We start the process as follows (assuming that $a_{23}=a_{32}$ is the largest non-diagonal)\n",
      "with $c=\\cos{\\theta}$ and $s=\\sin{\\theta}$"
     ]
    },
    {
     "cell_type": "markdown",
     "metadata": {},
     "source": [
      "$$\n",
      "{\\bf B} =\n",
      "      \\left( \\begin{array}{ccc}\n",
      "                1 & 0 & 0    \\\\\n",
      "                0 & c & -s     \\\\\n",
      "                0 & s & c\n",
      "             \\end{array} \\right)\\left( \\begin{array}{ccc}\n",
      "                a_{11} & a_{12} & a_{13}    \\\\\n",
      "                a_{21} & a_{22} & a_{23}     \\\\\n",
      "                a_{31} & a_{32} & a_{33}\n",
      "             \\end{array} \\right)\n",
      "              \\left( \\begin{array}{ccc}\n",
      "                1 & 0 & 0    \\\\\n",
      "                0 & c & s     \\\\\n",
      "                0 & -s & c\n",
      "             \\end{array} \\right).\n",
      "$$"
     ]
    },
    {
     "cell_type": "markdown",
     "metadata": {},
     "source": [
      "We will choose the angle $\\theta$ in order to have $a_{23}=a_{32}=0$.\n",
      "We get (symmetric matrix)"
     ]
    },
    {
     "cell_type": "markdown",
     "metadata": {},
     "source": [
      "$$\n",
      "{\\bf B} =\\left( \\begin{array}{ccc}\n",
      "                a_{11} & a_{12}c -a_{13}s& a_{12}s+a_{13}c    \\\\\n",
      "                a_{12}c -a_{13}s & a_{22}c^2+a_{33}s^2 -2a_{23}sc& (a_{22}-a_{33})sc +a_{23}(c^2-s^2)     \\\\\n",
      "                a_{12}s+a_{13}c & (a_{22}-a_{33})sc +a_{23}(c^2-s^2) & a_{22}s^2+a_{33}c^2 +2a_{23}sc\n",
      "             \\end{array} \\right).\n",
      "$$"
     ]
    },
    {
     "cell_type": "markdown",
     "metadata": {},
     "source": [
      "Note that $a_{11}$ is unchanged! As it should.\n",
      "\n",
      "### Jacobi's method, an example to convice you about the algorithm\n",
      "\n",
      "We have"
     ]
    },
    {
     "cell_type": "markdown",
     "metadata": {},
     "source": [
      "$$\n",
      "{\\bf B} =\\left( \\begin{array}{ccc}\n",
      "                a_{11} & a_{12}c -a_{13}s& a_{12}s+a_{13}c    \\\\\n",
      "                a_{12}c -a_{13}s & a_{22}c^2+a_{33}s^2 -2a_{23}sc& (a_{22}-a_{33})sc +a_{23}(c^2-s^2)     \\\\\n",
      "                a_{12}s+a_{13}c & (a_{22}-a_{33})sc +a_{23}(c^2-s^2) & a_{22}s^2+a_{33}c^2 +2a_{23}sc\n",
      "             \\end{array} \\right).\n",
      "$$"
     ]
    },
    {
     "cell_type": "markdown",
     "metadata": {},
     "source": [
      "or"
     ]
    },
    {
     "cell_type": "markdown",
     "metadata": {},
     "source": [
      "$$\n",
      "b_{11} = a_{11}\n",
      "$$"
     ]
    },
    {
     "cell_type": "markdown",
     "metadata": {},
     "source": [
      "$$\n",
      "b_{12} = a_{12}\\cos\\theta - a_{13}\\sin\\theta , 1 \\ne 2, 1 \\ne 3\n",
      "$$"
     ]
    },
    {
     "cell_type": "markdown",
     "metadata": {},
     "source": [
      "$$\n",
      "b_{13} = a_{13}\\cos\\theta + a_{12}\\sin\\theta , 1 \\ne 2, 1 \\ne 3 \\nonumber\n",
      "$$"
     ]
    },
    {
     "cell_type": "markdown",
     "metadata": {},
     "source": [
      "$$\n",
      "b_{22} = a_{22}\\cos^2\\theta - 2a_{23}\\cos\\theta \\sin\\theta +a_{33}\\sin^2\\theta\\nonumber\n",
      "$$"
     ]
    },
    {
     "cell_type": "markdown",
     "metadata": {},
     "source": [
      "$$\n",
      "b_{33} = a_{33}\\cos^2\\theta +2a_{23}\\cos\\theta \\sin\\theta +a_{22}\\sin^2\\theta\\nonumber\n",
      "$$"
     ]
    },
    {
     "cell_type": "markdown",
     "metadata": {},
     "source": [
      "$$\n",
      "b_{23} = (a_{22}-a_{33})\\cos\\theta \\sin\\theta +a_{23}(\\cos^2\\theta-\\sin^2\\theta)\\nonumber\n",
      "$$"
     ]
    },
    {
     "cell_type": "markdown",
     "metadata": {},
     "source": [
      "We will fix the angle $\\theta$ so that $b_{23}=0$.\n",
      "\n",
      "### Jacobi's method, an example to convice you about the algorithm\n",
      "\n",
      "We get then a new matrix"
     ]
    },
    {
     "cell_type": "markdown",
     "metadata": {},
     "source": [
      "$$\n",
      "{\\bf B} =\\left( \\begin{array}{ccc}\n",
      "                b_{11} & b_{12}& b_{13}    \\\\\n",
      "                b_{12}& b_{22}& 0    \\\\\n",
      "                b_{13}& 0& a_{33}\n",
      "             \\end{array} \\right).\n",
      "$$"
     ]
    },
    {
     "cell_type": "markdown",
     "metadata": {},
     "source": [
      "We repeat then assuming that $b_{12}$ is the largest non-diagonal matrix element and get a\n",
      "new matrix"
     ]
    },
    {
     "cell_type": "markdown",
     "metadata": {},
     "source": [
      "$$\n",
      "{\\bf C} =\n",
      "      \\left( \\begin{array}{ccc}\n",
      "                c & -s & 0    \\\\\n",
      "                s & c & 0     \\\\\n",
      "                0 & 0 & 1\n",
      "             \\end{array} \\right)\\left( \\begin{array}{ccc}\n",
      "                b_{11} & b_{12} & b_{13}    \\\\\n",
      "                b_{12} & b_{22} & 0     \\\\\n",
      "                b_{13} & 0 & b_{33}\n",
      "             \\end{array} \\right)\n",
      "              \\left( \\begin{array}{ccc}\n",
      "                c & s & 0    \\\\\n",
      "                -s & c & 0     \\\\\n",
      "                0 & 0 & 1\n",
      "             \\end{array} \\right).\n",
      "$$"
     ]
    },
    {
     "cell_type": "markdown",
     "metadata": {},
     "source": [
      "We continue this process till all non-diagonal matrix elements are zero (ideally).\n",
      "You will notice that performing the above operations that the matrix element\n",
      "$b_{23}$ which was previous zero becomes different from zero.  This is one of the problems which slows\n",
      "down the jacobi procedure.\n",
      "\n",
      "### Jacobi's method, an example to convice you about the algorithm\n",
      "\n",
      "The more general expression for the new matrix elements are"
     ]
    },
    {
     "cell_type": "markdown",
     "metadata": {},
     "source": [
      "$$\n",
      "b_{ii} = a_{ii}, i \\ne k, i \\ne l\n",
      "$$"
     ]
    },
    {
     "cell_type": "markdown",
     "metadata": {},
     "source": [
      "$$\n",
      "b_{ik} = a_{ik}\\cos\\theta - a_{il}\\sin\\theta , i \\ne k, i \\ne l\n",
      "$$"
     ]
    },
    {
     "cell_type": "markdown",
     "metadata": {},
     "source": [
      "$$\n",
      "b_{il} = a_{il}\\cos\\theta + a_{ik}\\sin\\theta , i \\ne k, i \\ne l \\nonumber\n",
      "$$"
     ]
    },
    {
     "cell_type": "markdown",
     "metadata": {},
     "source": [
      "$$\n",
      "b_{kk} = a_{kk}\\cos^2\\theta - 2a_{kl}\\cos\\theta \\sin\\theta +a_{ll}\\sin^2\\theta\\nonumber\n",
      "$$"
     ]
    },
    {
     "cell_type": "markdown",
     "metadata": {},
     "source": [
      "$$\n",
      "b_{ll} = a_{ll}\\cos^2\\theta +2a_{kl}\\cos\\theta \\sin\\theta +a_{kk}\\sin^2\\theta\\nonumber\n",
      "$$"
     ]
    },
    {
     "cell_type": "markdown",
     "metadata": {},
     "source": [
      "$$\n",
      "b_{kl} = (a_{kk}-a_{ll})\\cos\\theta \\sin\\theta +a_{kl}(\\cos^2\\theta-\\sin^2\\theta)\\nonumber\n",
      "$$"
     ]
    },
    {
     "cell_type": "markdown",
     "metadata": {},
     "source": [
      "This is what we will need to code.\n",
      "\n",
      "### Jacobi code example\n",
      "\n",
      "Main part"
     ]
    },
    {
     "cell_type": "markdown",
     "metadata": {},
     "source": [
      "        //  we have defined a matrix A and a matrix R for the eigenvector, both of dim n x n\n",
      "        //  The final matrix R has the eigenvectors in its row elements, it is set to one\n",
      "        //  for the diagonal elements in the beginning, zero else.\n",
      "        ....\n",
      "        double tolerance = 1.0E-10;\n",
      "        int iterations = 0;\n",
      "        while ( maxnondiag > tolerance && iterations <= maxiter)\n",
      "        {\n",
      "           int p, q;\n",
      "           maxnondiag  = offdiag(A, p, q, n);\n",
      "           Jacobi_rotate(A, R, p, q, n);\n",
      "           iterations++;\n",
      "        \n",
      "        ...\n"
     ]
    },
    {
     "cell_type": "markdown",
     "metadata": {},
     "source": [
      "        \n"
     ]
    },
    {
     "cell_type": "markdown",
     "metadata": {},
     "source": [
      "### Jacobi code example\n",
      "\n",
      "Finding the max nondiagonal element"
     ]
    },
    {
     "cell_type": "markdown",
     "metadata": {},
     "source": [
      "        //  the offdiag function\n",
      "        double offdiag(double **A, int p, int q, int n);\n",
      "        {\n",
      "           double max;\n",
      "           for (int i = 0; i < n; ++i)\n",
      "           {\n",
      "               for ( int j = i+1; j < n; ++j)\n",
      "               {\n",
      "                   double aij = fabs(A[i][j]);\n",
      "                   if ( aij > max)\n",
      "                   {\n",
      "                      max = aij;  p = i; q = j;\n",
      "        \n",
      "           return max;\n",
      "        \n",
      "        ...\n"
     ]
    },
    {
     "cell_type": "markdown",
     "metadata": {},
     "source": [
      "### Jacobi code example\n",
      "\n",
      "Finding the new matrix elements"
     ]
    },
    {
     "cell_type": "markdown",
     "metadata": {},
     "source": [
      "        void Jacobi_rotate ( double ** A, double ** R, int k, int l, int n )\n",
      "        {\n",
      "          double s, c;\n",
      "          if ( A[k][l] != 0.0 ) {\n",
      "            double t, tau;\n",
      "            tau = (A[l][l] - A[k][k])/(2*A[k][l]);\n",
      "        \n",
      "            if ( tau >= 0 ) {\n",
      "              t = 1.0/(tau + sqrt(1.0 + tau*tau));\n",
      "            } else {\n",
      "              t = -1.0/(-tau +sqrt(1.0 + tau*tau));\n",
      "        \n",
      "        \n",
      "            c = 1/sqrt(1+t*t);\n",
      "            s = c*t;\n",
      "          } else {\n",
      "            c = 1.0;\n",
      "            s = 0.0;\n",
      "        \n"
     ]
    },
    {
     "cell_type": "markdown",
     "metadata": {},
     "source": [
      "### Jacobi code example"
     ]
    },
    {
     "cell_type": "markdown",
     "metadata": {},
     "source": [
      "          double a_kk, a_ll, a_ik, a_il, r_ik, r_il;\n",
      "          a_kk = A[k][k];\n",
      "          a_ll = A[l][l];\n",
      "          A[k][k] = c*c*a_kk - 2.0*c*s*A[k][l] + s*s*a_ll;\n",
      "          A[l][l] = s*s*a_kk + 2.0*c*s*A[k][l] + c*c*a_ll;\n",
      "          A[k][l] = 0.0;  // hard-coding non-diagonal elements by hand\n",
      "          A[l][k] = 0.0;  // same here\n",
      "          for ( int i = 0; i < n; i++ ) {\n",
      "            if ( i != k && i != l ) {\n",
      "              a_ik = A[i][k];\n",
      "              a_il = A[i][l];\n",
      "              A[i][k] = c*a_ik - s*a_il;\n",
      "              A[k][i] = A[i][k];\n",
      "              A[i][l] = c*a_il + s*a_ik;\n",
      "              A[l][i] = A[i][l];\n",
      "        \n"
     ]
    },
    {
     "cell_type": "markdown",
     "metadata": {},
     "source": [
      "### Jacobi code example\n",
      "\n",
      "and finally the new eigenvectors"
     ]
    },
    {
     "cell_type": "markdown",
     "metadata": {},
     "source": [
      "            r_ik = R[i][k];\n",
      "            r_il = R[i][l];\n",
      "        \n",
      "            R[i][k] = c*r_ik - s*r_il;\n",
      "            R[i][l] = c*r_il + s*r_ik;\n",
      "        \n",
      "          return;\n",
      "        } // end of function jacobi_rotate\n"
     ]
    },
    {
     "cell_type": "markdown",
     "metadata": {},
     "source": [
      "## Week 39\n",
      "\n",
      "### Overview of week 39\n",
      "\n",
      "**Eigenvalue problems and differential equations (change of plans).**\n",
      "\n",
      "  * Monday: Brief repetition from last week, with discussion of project 2.\n",
      "\n",
      "  * Discussion of Householder's and Francis' algorithm (not finished last week)\n",
      "\n",
      "  * Discussion of Lanczos' method (also optional part of project 2)\n",
      "\n",
      "  * Tuesday:\n",
      "\n",
      "  * Introduction to differential equations\n",
      "\n",
      "  * Differential equations, general properties.\n",
      "\n",
      "  * Runge-Kutta methods The material on differential equations is covered by chapters 8, 9 and 10.\n",
      "\n",
      "\n",
      "\n",
      "### Eigenvalue Solvers, Householder\n",
      "\n",
      "The first step  consists in finding\n",
      "an orthogonal  matrix ${\\bf S}$ which is the product of $(n-2)$ orthogonal matrices"
     ]
    },
    {
     "cell_type": "markdown",
     "metadata": {},
     "source": [
      "$$\n",
      "{\\bf S}={\\bf S}_1{\\bf S}_2\\dots{\\bf S}_{n-2},\n",
      "$$"
     ]
    },
    {
     "cell_type": "markdown",
     "metadata": {},
     "source": [
      "each of which successively transforms one row and one column of ${\\bf A}$ into the\n",
      "required tridiagonal form. Only $n-2$ transformations are required, since the last two\n",
      "elements are already in tridiagonal form. In order to determine each ${\\bf S_i}$ let us\n",
      "see what happens after the first multiplication, namely,"
     ]
    },
    {
     "cell_type": "markdown",
     "metadata": {},
     "source": [
      "$$\n",
      "{\\bf S}_1^T{\\bf A}{\\bf S}_1=    \\left( \\begin{array}{ccccccc} a_{11} & e_1 & 0   & 0    & \\dots  &0     & 0 \\\\\n",
      "                                e_1 & a'_{22} &a'_{23}  & \\dots    & \\dots  &\\dots &a'_{2n} \\\\\n",
      "                                0   & a'_{32} &a'_{33}  & \\dots    & \\dots  &\\dots &a'_{3n} \\\\\n",
      "                                0   & \\dots &\\dots & \\dots    & \\dots  &\\dots & \\\\\n",
      "                                0   & a'_{n2} &a'_{n3}  & \\dots    & \\dots  &\\dots &a'_{nn} \\\\\n",
      "\n",
      "             \\end{array} \\right)\n",
      "$$"
     ]
    },
    {
     "cell_type": "markdown",
     "metadata": {},
     "source": [
      "where the primed quantities represent a matrix ${\\bf A}'$ of dimension\n",
      "$n-1$ which will subsequentely be transformed by ${\\bf S_2}$.\n",
      "\n",
      "### Eigenvalue Solvers, Householder\n",
      "\n",
      "The factor  $e_1$ is a possibly non-vanishing element. The next\n",
      "transformation produced by ${\\bf S_2}$ has the same effect as  ${\\bf\n",
      "S_1}$ but now on the submatirx ${\\bf A^{'}}$ only"
     ]
    },
    {
     "cell_type": "markdown",
     "metadata": {},
     "source": [
      "$$\n",
      "\\left ({\\bf S}_{1}{\\bf S}_{2} \\right )^{T} {\\bf A}{\\bf S}_{1} {\\bf S}_{2}\n",
      " = \\left( \\begin{array}{ccccccc} a_{11} & e_1 & 0   & 0    & \\dots  &0     & 0 \\\\\n",
      "                                e_1 & a'_{22} &e_2  & 0   & \\dots  &\\dots &0 \\\\\n",
      "                                0   & e_2 &a''_{33}  & \\dots    & \\dots  &\\dots &a''_{3n} \\\\\n",
      "                                0   & \\dots &\\dots & \\dots    & \\dots  &\\dots & \\\\\n",
      "                                0   & 0 &a''_{n3}  & \\dots    & \\dots  &\\dots &a''_{nn} \\\\\n",
      "\n",
      "             \\end{array} \\right)\n",
      "$$"
     ]
    },
    {
     "cell_type": "markdown",
     "metadata": {},
     "source": [
      "{\\bf Note that the effective size of the matrix on which we apply the transformation reduces\n",
      "for every new step. In the previous Jacobi method each similarity\n",
      "transformation is in principle performed on the full size of the original matrix.}\n",
      "\n",
      "### Eigenvalue Solvers, Householder\n",
      "\n",
      "After a series of such transformations, we end with a set of diagonal\n",
      "matrix elements"
     ]
    },
    {
     "cell_type": "markdown",
     "metadata": {},
     "source": [
      "$$\n",
      "a_{11}, a'_{22}, a''_{33}\\dots a^{n-1}_{nn},\n",
      "$$"
     ]
    },
    {
     "cell_type": "markdown",
     "metadata": {},
     "source": [
      "and off-diagonal matrix elements"
     ]
    },
    {
     "cell_type": "markdown",
     "metadata": {},
     "source": [
      "$$\n",
      "e_1, e_2,e_3,  \\dots, e_{n-1}.\n",
      "$$"
     ]
    },
    {
     "cell_type": "markdown",
     "metadata": {},
     "source": [
      "The resulting matrix reads"
     ]
    },
    {
     "cell_type": "markdown",
     "metadata": {},
     "source": [
      "$$\n",
      "{\\bf S}^{T} {\\bf A} {\\bf S} =\n",
      "    \\left( \\begin{array}{ccccccc} a_{11} & e_1 & 0   & 0    & \\dots  &0     & 0 \\\\\n",
      "                                e_1 & a'_{22} & e_2 & 0    & \\dots  &0     &0 \\\\\n",
      "                                0   & e_2 & a''_{33} & e_3  &0       &\\dots & 0\\\\\n",
      "                                \\dots  & \\dots & \\dots & \\dots  &\\dots      &\\dots & \\dots\\\\\n",
      "                                0   & \\dots & \\dots & \\dots  &\\dots       &a^{(n-1)}_{n-2} & e_{n-1}\\\\\n",
      "                                0   & \\dots & \\dots & \\dots  &\\dots       &e_{n-1} & a^{(n-1)}_{n-1}\n",
      "\n",
      "             \\end{array} \\right) .\n",
      "$$"
     ]
    },
    {
     "cell_type": "markdown",
     "metadata": {},
     "source": [
      "### Eigenvalue Solvers, Householder\n",
      "\n",
      "It remains to find a recipe for determining the transformation ${\\bf S}_n$.\n",
      "We illustrate the method for ${\\bf S}_1$ which we assume takes the form"
     ]
    },
    {
     "cell_type": "markdown",
     "metadata": {},
     "source": [
      "$$\n",
      "{\\bf S_{1}} = \\left( \\begin{array}{cc} 1 & {\\bf 0^{T}} \\\\\n",
      "                              {\\bf 0}& {\\bf P} \\end{array} \\right),\n",
      "$$"
     ]
    },
    {
     "cell_type": "markdown",
     "metadata": {},
     "source": [
      "with ${\\bf 0^{T}}$ being a zero row vector, ${\\bf 0^{T}} = \\{0,0,\\cdots\\}$\n",
      "of dimension $(n-1)$. The matrix ${\\bf P}$  is symmetric\n",
      "with dimension ($(n-1) \\times (n-1)$) satisfying\n",
      "${\\bf P}^2={\\bf I}$  and ${\\bf P}^T={\\bf P}$.\n",
      "A possible choice which fullfils the latter two requirements is"
     ]
    },
    {
     "cell_type": "markdown",
     "metadata": {},
     "source": [
      "$$\n",
      "{\\bf P}={\\bf I}-2{\\bf u}{\\bf u}^T,\n",
      "$$"
     ]
    },
    {
     "cell_type": "markdown",
     "metadata": {},
     "source": [
      "where ${\\bf I}$ is the $(n-1)$ unity matrix and ${\\bf u}$ is an $n-1$\n",
      "column vector with norm ${\\bf u}^T{\\bf u}$ (inner product).\n",
      "\n",
      "### Eigenvalue Solvers, Householder\n",
      "\n",
      " Note that ${\\bf u}{\\bf u}^T$ is an outer product giving a\n",
      "matrix of dimension ($(n-1) \\times (n-1)$).\n",
      "Each matrix element of ${\\bf P}$ then reads"
     ]
    },
    {
     "cell_type": "markdown",
     "metadata": {},
     "source": [
      "$$\n",
      "P_{ij}=\\delta_{ij}-2u_iu_j,\n",
      "$$"
     ]
    },
    {
     "cell_type": "markdown",
     "metadata": {},
     "source": [
      "where $i$ and $j$ range from $1$ to $n-1$. Applying the transformation\n",
      "${\\bf S}_1$ results in"
     ]
    },
    {
     "cell_type": "markdown",
     "metadata": {},
     "source": [
      "$$\n",
      "{\\bf S}_1^T{\\bf A}{\\bf S}_1 =  \\left( \\begin{array}{cc} a_{11} & ({\\bf Pv})^T \\\\\n",
      "                              {\\bf Pv}& {\\bf A}' \\end{array} \\right) ,\n",
      "$$"
     ]
    },
    {
     "cell_type": "markdown",
     "metadata": {},
     "source": [
      "where ${\\bf v^{T}} = \\{a_{21}, a_{31},\\cdots, a_{n1}\\}$ and {\\bf P}\n",
      "must satisfy (${\\bf Pv})^{T} = \\{k, 0, 0,\\cdots \\}$. Then"
     ]
    },
    {
     "cell_type": "markdown",
     "metadata": {},
     "source": [
      "<!-- Equation labels as ordinary links -->\n",
      "<a name=\"eq:palpha\"/>\n",
      "\n",
      "$$\n",
      "\\begin{equation}\n",
      "    {\\bf Pv} = {\\bf v} -2{\\bf u}( {\\bf u}^T{\\bf v})= k {\\bf e},\n",
      "    \\label{eq:palpha} \\tag{4}\n",
      "\\end{equation}\n",
      "$$"
     ]
    },
    {
     "cell_type": "markdown",
     "metadata": {},
     "source": [
      "with ${\\bf e^{T}} = \\{1,0,0,\\dots 0\\}$.\n",
      "\n",
      "### Eigenvalue Solvers, Householder\n",
      "\n",
      "Solving the latter equation gives us ${\\bf u}$ and thus the needed transformation\n",
      "${\\bf P}$. We do first however need to compute the scalar $k$ by taking the scalar\n",
      "product of the last equation with its transpose and using the fact that ${\\bf P}^2={\\bf I}$.\n",
      "We get then"
     ]
    },
    {
     "cell_type": "markdown",
     "metadata": {},
     "source": [
      "$$\n",
      "({\\bf Pv})^T{\\bf Pv} = k^{2} = {\\bf v}^T{\\bf v}=\n",
      "   |v|^2 = \\sum_{i=2}^{n}a_{i1}^2,\n",
      "$$"
     ]
    },
    {
     "cell_type": "markdown",
     "metadata": {},
     "source": [
      "which determines the constant $ k = \\pm v$.\n",
      "\n",
      "### Eigenvalue Solvers, Householder\n",
      "\n",
      " Now we can rewrite Eq. [(4)](#eq:finalmeanm)\n",
      "as"
     ]
    },
    {
     "cell_type": "markdown",
     "metadata": {},
     "source": [
      "$$\n",
      "{\\bf v} - k{\\bf e} = 2{\\bf u}( {\\bf u}^T{\\bf v}),\n",
      "$$"
     ]
    },
    {
     "cell_type": "markdown",
     "metadata": {},
     "source": [
      "and taking the scalar product of this equation with itself and obtain"
     ]
    },
    {
     "cell_type": "markdown",
     "metadata": {},
     "source": [
      "<!-- Equation labels as ordinary links -->\n",
      "<a name=\"eq:pmalpha\"/>\n",
      "\n",
      "$$\n",
      "\\begin{equation}\n",
      "    2( {\\bf u}^T{\\bf v})^2=(v^2\\pm a_{21}v),\n",
      "    \\label{eq:pmalpha} \\tag{5}\n",
      "\\end{equation}\n",
      "$$"
     ]
    },
    {
     "cell_type": "markdown",
     "metadata": {},
     "source": [
      "which finally determines"
     ]
    },
    {
     "cell_type": "markdown",
     "metadata": {},
     "source": [
      "$$\n",
      "{\\bf u}=\\frac{{\\bf v}-k{\\bf e}}{2( {\\bf u}^T{\\bf v})}.\n",
      "$$"
     ]
    },
    {
     "cell_type": "markdown",
     "metadata": {},
     "source": [
      "In solving Eq. [(5)](#eq:finalmeanm) great care has to be exercised so as to choose\n",
      "those values which make the right-hand largest in order to avoid loss of numerical\n",
      "precision.\n",
      "The above steps are then repeated for every transformations till we have a\n",
      "tridiagonal matrix suitable for obtaining the eigenvalues.\n",
      "\n",
      "### Eigenvalue Solvers, Householder, brute force\n",
      "\n",
      "Our Householder transformation has given us a tridiagonal matrix. We discuss here how one can use\n",
      "Jacobi's iterative procedure to obtain the eigenvalues.\n",
      "Letus specialize to a $4\\times 4 $ matrix.\n",
      "The tridiagonal matrix takes the form"
     ]
    },
    {
     "cell_type": "markdown",
     "metadata": {},
     "source": [
      "$$\n",
      "{\\bf A} =\n",
      "      \\left( \\begin{array}{cccc}\n",
      "                d_{1} & e_{1} & 0     &  0    \\\\\n",
      "                e_{1} & d_{2} & e_{2} &  0    \\\\\n",
      "                 0    & e_{2} & d_{3} & e_{3} \\\\\n",
      "                 0    &   0   & e_{3} & d_{4}\n",
      "             \\end{array} \\right).\n",
      "$$"
     ]
    },
    {
     "cell_type": "markdown",
     "metadata": {},
     "source": [
      "As a first observation, if any of the elements $e_{i}$ are zero the\n",
      "matrix can be separated into smaller pieces before\n",
      "diagonalization. Specifically, if $e_{1} = 0$ then $d_{1}$ is an\n",
      "eigenvalue.\n",
      "\n",
      "### Eigenvalue Solvers, Householder\n",
      "\n",
      " Thus, let us introduce  a transformation ${\\bf S_{1}}$ which operates like"
     ]
    },
    {
     "cell_type": "markdown",
     "metadata": {},
     "source": [
      "$$\n",
      "{\\bf S_{1}} =\n",
      "      \\left( \\begin{array}{cccc}\n",
      "                \\cos \\theta & 0 & 0 & \\sin \\theta\\\\\n",
      "                 0       & 0 & 0 &      0      \\\\\n",
      "                   0        & 0 & 0 &      0      \\\\\n",
      "               \\cos \\theta & 0 & 0 & \\cos \\theta\n",
      "             \\end{array} \\right)\n",
      "$$"
     ]
    },
    {
     "cell_type": "markdown",
     "metadata": {},
     "source": [
      "### Eigenvalue Solvers, Householder\n",
      "\n",
      "Then the similarity transformation"
     ]
    },
    {
     "cell_type": "markdown",
     "metadata": {},
     "source": [
      "$$\n",
      "{\\bf S_{1}^{T} A  S_{1}} = {\\bf A'} =\n",
      "      \\left( \\begin{array}{cccc}\n",
      "              d'_{1} & e'_{1} &   0    &   0   \\\\\n",
      "              e'_{1}  & d_{2}  & e_{2}  &   0   \\\\\n",
      "                0    & e_{2}  & d_{3}  & e'{3} \\\\\n",
      "                0    &   0    & e'_{3} & d'_{4}\n",
      "             \\end{array} \\right)\n",
      "$$"
     ]
    },
    {
     "cell_type": "markdown",
     "metadata": {},
     "source": [
      "produces a matrix where the primed elements in ${\\bf A'}$ have been\n",
      "changed by the transformation whereas the unprimed elements are unchanged.\n",
      "If we now choose $\\theta$ to\n",
      "give the element $a_{21}^{'} = e^{'}= 0$ then we have the first\n",
      "eigenvalue  $= a_{11}^{'} = d_{1}^{'}$.\n",
      "(This is actually what you are doing in project 2!!)\n",
      "\n",
      "### Eigenvalue Solvers, Householder's and  Francis' algorithm\n",
      "\n",
      "This procedure can be continued on the remaining three-dimensional\n",
      "submatrix for the next eigenvalue. Thus after few transformations\n",
      "we have the wanted diagonal form.\n",
      "\n",
      "What we see here is just a special case of the more general procedure\n",
      "developed by Francis in two articles in 1961 and 1962. Using Jacobi's method is not very efficient ether.\n",
      "\n",
      "The algorithm is based on the so-called {\\bf QR} method (or just {\\bf QR}-algorithm). It follows from a theorem by Schur which states that any square matrix can be written out in terms of an orthogonal matrix $\\hat{Q}$ and an upper triangular matrix $\\hat{U}$. Historically $R$ was used instead of\n",
      "$U$ since the wording right triangular matrix was first used.\n",
      "\n",
      "### Eigenvalue Solvers, Householder's and  Francis' algorithm\n",
      "\n",
      "The method is based on an iterative procedure similar to Jacobi's method, by a succession of\n",
      "planar rotations. For a tridiagonal matrix it is simple to carry out in principle, but complicated in detail!\n",
      "\n",
      "Schur's theorem"
     ]
    },
    {
     "cell_type": "markdown",
     "metadata": {},
     "source": [
      "$$\n",
      "\\hat{A} = \\hat{Q}\\hat{U},\n",
      "$$"
     ]
    },
    {
     "cell_type": "markdown",
     "metadata": {},
     "source": [
      "is used to rewrite any square matrix into a unitary matrix times an upper triangular matrix.\n",
      "We say that a square matrix is similar to a triangular matrix.\n",
      "\n",
      "Householder's algorithm which we have derived is just a special case of the general Householder algorithm. For a symmetric square matrix we obtain a tridiagonal matrix.\n",
      "\n",
      "There is a corollary to Schur's theorem which states that every Hermitian matrix is unitarily similar to a diagonal matrix.\n",
      "\n",
      "### Eigenvalue Solvers, Householder's and  Francis' algorithm\n",
      "\n",
      "It follows that we can define a new matrix"
     ]
    },
    {
     "cell_type": "markdown",
     "metadata": {},
     "source": [
      "$$\n",
      "\\hat{A}\\hat{Q} = \\hat{Q}\\hat{U}\\hat{Q},\n",
      "$$"
     ]
    },
    {
     "cell_type": "markdown",
     "metadata": {},
     "source": [
      "and multiply from the left with $\\hat{Q}^{-1}$ we get"
     ]
    },
    {
     "cell_type": "markdown",
     "metadata": {},
     "source": [
      "$$\n",
      "\\hat{Q}^{-1}\\hat{A}\\hat{Q} = \\hat{B}=\\hat{U}\\hat{Q},\n",
      "$$"
     ]
    },
    {
     "cell_type": "markdown",
     "metadata": {},
     "source": [
      "where the matrix $\\hat{B}$ is a similarity transformation of $\\hat{A}$ and has the same eigenvalues\n",
      "as $\\hat{B}$.\n",
      "\n",
      "### Eigenvalue Solvers, Householder's and  Francis' algorithm\n",
      "\n",
      "Suppose $\\hat{A}$ is the triangular matrix we obtained after the Householder  transformation,"
     ]
    },
    {
     "cell_type": "markdown",
     "metadata": {},
     "source": [
      "$$\n",
      "\\hat{A} = \\hat{Q}\\hat{U},\n",
      "$$"
     ]
    },
    {
     "cell_type": "markdown",
     "metadata": {},
     "source": [
      "and multiply from the left with $\\hat{Q}^{-1}$ resulting in"
     ]
    },
    {
     "cell_type": "markdown",
     "metadata": {},
     "source": [
      "$$\n",
      "\\hat{Q}^{-1}\\hat{A} = \\hat{U}.\n",
      "$$"
     ]
    },
    {
     "cell_type": "markdown",
     "metadata": {},
     "source": [
      "Suppose that $\\hat{Q}$ consists of a series of planar Jacobi like rotations acting on sub blocks\n",
      "of $\\hat{A}$ so that all elements below the diagonal are zeroed out"
     ]
    },
    {
     "cell_type": "markdown",
     "metadata": {},
     "source": [
      "$$\n",
      "\\hat{Q}=\\hat{R}_{12}\\hat{R}_{23}\\dots\\hat{R}_{n-1,n}.\n",
      "$$"
     ]
    },
    {
     "cell_type": "markdown",
     "metadata": {},
     "source": [
      "### Eigenvalue Solvers, Householder's and  Francis' algorithm\n",
      "\n",
      "A transformation of the type $\\hat{R}_{12}$ looks like"
     ]
    },
    {
     "cell_type": "markdown",
     "metadata": {},
     "source": [
      "$$\n",
      "\\hat{R}_{12} =\n",
      "      \\left( \\begin{array}{ccccccccc}\n",
      "                 c&s &0 &0 &0 &  \\dots &0 & 0 & 0\\\\\n",
      "                 -s&c &0 &0 &0 &   \\dots &0 & 0 & 0\\\\\n",
      "                 0&0 &1 &0 &0 &   \\dots &0 & 0 & 0\\\\\n",
      "                 \\dots&\\dots &\\dots &\\dots &\\dots &\\dots      \\\\\n",
      "                 0&0 &0 & 0 & 0 & \\dots &1 &0 &0      \\\\\n",
      "                 0&0 &0 & 0 & 0 & \\dots &0 &1 &0      \\\\\n",
      "                 0&0 &0 & 0 & 0 & \\dots &0 &0 & 1\n",
      "             \\end{array} \\right)\n",
      "$$"
     ]
    },
    {
     "cell_type": "markdown",
     "metadata": {},
     "source": [
      "### Eigenvalue Solvers, Householder's and Francis' algorithm\n",
      "\n",
      "The matrix $\\hat{U}$ takes then the form"
     ]
    },
    {
     "cell_type": "markdown",
     "metadata": {},
     "source": [
      "$$\n",
      "\\hat{U} =\n",
      "      \\left( \\begin{array}{ccccccccc}\n",
      "                 x&x &x &0 &0 &  \\dots &0 & 0 & 0\\\\\n",
      "                 0&x &x &x &0 &   \\dots &0 & 0 & 0\\\\\n",
      "                 0&0 &x &x &x &   \\dots &0 & 0 & 0\\\\\n",
      "                 \\dots&\\dots &\\dots &\\dots &\\dots &\\dots      \\\\\n",
      "                 0&0 &0 & 0 & 0 & \\dots &x &x &x      \\\\\n",
      "                 0&0 &0 & 0 & 0 & \\dots &0 &x &x      \\\\\n",
      "                 0&0 &0 & 0 & 0 & \\dots &0 &0 & x\n",
      "             \\end{array} \\right)\n",
      "$$"
     ]
    },
    {
     "cell_type": "markdown",
     "metadata": {},
     "source": [
      "which has a second superdiagonal.\n",
      "\n",
      "### Eigenvalue Solvers, Householder's and Francis' algorithm\n",
      "\n",
      "We have now found $\\hat{Q}$ and $\\hat{U}$ and this allows us to find the matrix $\\hat{B}$\n",
      "which is, due to Schur's theorem,  unitarily similar to a triangular matrix (upper in our case)\n",
      "since we have that"
     ]
    },
    {
     "cell_type": "markdown",
     "metadata": {},
     "source": [
      "$$\n",
      "\\hat{Q}^{-1}\\hat{A}\\hat{Q} = \\hat{B},\n",
      "$$"
     ]
    },
    {
     "cell_type": "markdown",
     "metadata": {},
     "source": [
      "from Schur's theorem the  matrix $\\hat{B}$ is triangular and the eigenvalues the same as those of\n",
      "$\\hat{A}$ and are given by the diagonal matrix elements of\n",
      "$\\hat{B}$. Why?\n",
      "\n",
      "Our matrix $\\hat{B}=\\hat{U}\\hat{Q}$.\n",
      "\n",
      "### Another iterative procedure\n",
      "\n",
      "The matrix $\\hat{A}$ is transformed into a tridiagonal form and the last\n",
      "step is to transform it into a diagonal matrix giving the eigenvalues\n",
      "on the diagonal.\n",
      "\n",
      "The eigenvalues of a  matrix can be obtained using the characteristic polynomial"
     ]
    },
    {
     "cell_type": "markdown",
     "metadata": {},
     "source": [
      "$$\n",
      "P(\\lambda) = det(\\lambda{\\bf I}-{\\bf A})= \\prod_{i=1}^{n}\\left(\\lambda_i-\\lambda\\right),\n",
      "$$"
     ]
    },
    {
     "cell_type": "markdown",
     "metadata": {},
     "source": [
      "which rewritten in matrix form reads"
     ]
    },
    {
     "cell_type": "markdown",
     "metadata": {},
     "source": [
      "$$\n",
      "P(\\lambda)= \\left( \\begin{array}{ccccccc} d_1-\\lambda & e_1 & 0   & 0    & \\dots  &0     & 0 \\\\\n",
      "                                e_1 & d_2-\\lambda & e_2 & 0    & \\dots  &0     &0 \\\\\n",
      "                                0   & e_2 & d_3-\\lambda & e_3  &0       &\\dots & 0\\\\\n",
      "                                \\dots  & \\dots & \\dots & \\dots  &\\dots      &\\dots & \\dots\\\\\n",
      "                                0   & \\dots & \\dots & \\dots  &\\dots       &d_{N_{\\mbox{step}}-2}-\\lambda & e_{N_{\\mbox{step}}-1}\\\\\n",
      "                                0   & \\dots & \\dots & \\dots  &\\dots       &e_{N_{\\mbox{step}}-1} & d_{N_{\\mbox{step}}-1}-\\lambda\n",
      "\n",
      "             \\end{array} \\right)\n",
      "$$"
     ]
    },
    {
     "cell_type": "markdown",
     "metadata": {},
     "source": [
      "### Eigenvalue Solvers, Householder\n",
      "\n",
      "We can solve this equation in an iterative manner.\n",
      "We let $P_k(\\lambda)$ be the value of $k$ subdeterminant of the above matrix of dimension\n",
      "$n\\times n$. The polynomial $P_k(\\lambda)$ is clearly a polynomial of degree $k$.\n",
      "Starting with $P_1(\\lambda)$ we have $P_1(\\lambda)=d_1-\\lambda$. The next polynomial reads\n",
      "$P_2(\\lambda)=(d_2-\\lambda)P_1(\\lambda)-e_1^2$. By expanding the determinant for $P_k(\\lambda)$\n",
      "in terms of the minors of the $n$th column we arrive at the recursion relation"
     ]
    },
    {
     "cell_type": "markdown",
     "metadata": {},
     "source": [
      "$$\n",
      "P_k(\\lambda)=(d_k-\\lambda)P_{k-1}(\\lambda)-e_{k-1}^2P_{k-2}(\\lambda).\n",
      "$$"
     ]
    },
    {
     "cell_type": "markdown",
     "metadata": {},
     "source": [
      "Together with the starting values $P_1(\\lambda)$ and $P_2(\\lambda)$ and good root searching methods\n",
      "we arrive at an efficient computational scheme for finding the roots of $P_n(\\lambda)$.\n",
      "However, for large matrices this algorithm is rather inefficient and time-consuming.\n",
      "\n",
      "### Eigenvalue Solvers, Householder functions\n",
      "\n",
      "The programs  which performs these transformations are\n",
      "$\\mbox{matrix} \\quad {\\bf A} \\longrightarrow \\mbox{tridiagonal matrix}\n",
      " \\longrightarrow \\mbox{diagonal matrix}$\n",
      "\n",
      "C++:"
     ]
    },
    {
     "cell_type": "markdown",
     "metadata": {},
     "source": [
      "        void trd2(double $**$a, int n, double d[], double e[])\n",
      "        void tqli(double d[], double[], int n, double $**$z)\n"
     ]
    },
    {
     "cell_type": "markdown",
     "metadata": {},
     "source": [
      "Fortran:"
     ]
    },
    {
     "cell_type": "markdown",
     "metadata": {},
     "source": [
      "        CALL tred2(a, n, d, e)\n",
      "        CALL tqli(d, e, n, z)\n"
     ]
    },
    {
     "cell_type": "markdown",
     "metadata": {},
     "source": [
      "### Using Lapack to solve linear algebra and eigenvalue problems\n",
      "\n",
      "Suppose you wanted to solve a general system of linear equations $\\hat{A}{\\bf x} =  {\\bf b}$, where $\\hat{A}$is an $n \\times n$ square matrix and $x$ and $b$ are $n$-element column vectors. You opt to use the routine\n",
      "{\\bf dgesv}. The man page abstract obtained with"
     ]
    },
    {
     "cell_type": "markdown",
     "metadata": {},
     "source": [
      "\n"
     ]
    },
    {
     "cell_type": "markdown",
     "metadata": {},
     "source": [
      "### Lapack example"
     ]
    },
    {
     "cell_type": "markdown",
     "metadata": {},
     "source": [
      "        #include <iostream>\n",
      "        #define MAX 10\n",
      "        using namespace std;\n",
      "        int main(){\n",
      "           // Values needed for dgesv\n",
      "           int n;\n",
      "           int nrhs = 1;\n",
      "           double a[MAX][MAX];\n",
      "           double b[1][MAX];\n",
      "           int lda = MAX;\n",
      "           int ldb = MAX;\n",
      "           int ipiv[MAX];\n",
      "           int info;\n",
      "           // Other values\n",
      "           int i,j;\n",
      "        \n"
     ]
    },
    {
     "cell_type": "markdown",
     "metadata": {},
     "source": [
      "### Lapack example"
     ]
    },
    {
     "cell_type": "markdown",
     "metadata": {},
     "source": [
      "           // Read the values of the matrix\n",
      "           cout << \"Enter n \\n\";\n",
      "           cin >> n;\n",
      "           cout << \"On each line type a row of the matrix A followed by one element of b:\\n\";\n",
      "           for(i = 0; i < n; i++){\n",
      "             cout << \"row \" << i << \" \";\n",
      "             for(j = 0; j < n; j++)std::cin >> a[j][i];\n",
      "             cin >> b[0][i];\n",
      "        \n"
     ]
    },
    {
     "cell_type": "markdown",
     "metadata": {},
     "source": [
      "### Lapack example"
     ]
    },
    {
     "cell_type": "markdown",
     "metadata": {},
     "source": [
      "           // Solve the linear system\n",
      "           dgesv(n, nrhs, &a[0][0], lda, ipiv, &b[0][0], ldb, &info);\n",
      "           // Check for success\n",
      "           if(info == 0)\n",
      "           {\n",
      "              // Write the answer\n",
      "              cout << \"The answer is\\n\";\n",
      "              for(i = 0; i < n; i++)\n",
      "                cout << \"b[\" << i << \"]\\t\" << b[0][i] << \"\\n\";\n",
      "        \n",
      "           else\n",
      "           {\n",
      "              // Write an error message\n",
      "              cerr << \"dgesv returned error \" << info << \"\\n\";\n",
      "        \n",
      "           return info;\n",
      "        \n"
     ]
    },
    {
     "cell_type": "markdown",
     "metadata": {},
     "source": [
      "### Lanczos' iteration\n",
      "\n",
      "Basic features with a real symmetric matrix (and normally huge $n > 10^6$ and sparse)\n",
      "$\\hat{A}$ of dimension $n\\times n$:\n",
      "\n",
      "Lanczos' algorithm generates a sequence of real tridiagonal matrices $T_k$ of dimension $k\\times k$ with $k\\le n$, with the property that the extremal eigenvalues of $T_k$ are progressively better estimates of $\\hat{A}$' extremal eigenvalues.\n",
      "\n",
      "The method converges to the extremal eigenvalues.\n",
      "\n",
      "The similarity transformation is"
     ]
    },
    {
     "cell_type": "markdown",
     "metadata": {},
     "source": [
      "$$\n",
      "\\hat{T}= \\hat{Q}^{T}\\hat{A}\\hat{Q},\n",
      "$$"
     ]
    },
    {
     "cell_type": "markdown",
     "metadata": {},
     "source": [
      "with the first vector $\\hat{Q}\\hat{e}_1=\\hat{q}_1$.\n",
      "\n",
      "### Lanczos' iteration\n",
      "\n",
      "We are going to solve iteratively"
     ]
    },
    {
     "cell_type": "markdown",
     "metadata": {},
     "source": [
      "$$\n",
      "\\hat{T}= \\hat{Q}^{T}\\hat{A}\\hat{Q},\n",
      "$$"
     ]
    },
    {
     "cell_type": "markdown",
     "metadata": {},
     "source": [
      "with the first vector $\\hat{Q}\\hat{e}_1=\\hat{q}_1$.\n",
      "We can write out the matrix $\\hat{Q}$ in terms of its column vectors"
     ]
    },
    {
     "cell_type": "markdown",
     "metadata": {},
     "source": [
      "$$\n",
      "\\hat{Q}=\\left[\\hat{q}_1\\hat{q}_2\\dots\\hat{q}_n\\right].\n",
      "$$"
     ]
    },
    {
     "cell_type": "markdown",
     "metadata": {},
     "source": [
      "### Lanczos' iteration\n",
      "\n",
      "The matrix"
     ]
    },
    {
     "cell_type": "markdown",
     "metadata": {},
     "source": [
      "$$\n",
      "\\hat{T}= \\hat{Q}^{T}\\hat{A}\\hat{Q},\n",
      "$$"
     ]
    },
    {
     "cell_type": "markdown",
     "metadata": {},
     "source": [
      "can be written as"
     ]
    },
    {
     "cell_type": "markdown",
     "metadata": {},
     "source": [
      "$$\n",
      "\\hat{T} = \\left(\\begin{array}{cccccc}\n",
      "                           \\alpha_1& \\beta_1 & 0 &\\dots   & \\dots &0 \\\\\n",
      "                           \\beta_1 & \\alpha_2 & \\beta_2 &0 &\\dots &0 \\\\\n",
      "                           0& \\beta_2 & \\alpha_3 & \\beta_3 & \\dots &0 \\\\\n",
      "                           \\dots& \\dots   & \\dots &\\dots   &\\dots & 0 \\\\\n",
      "                           \\dots&   &  &\\beta_{n-2}  &\\alpha_{n-1}& \\beta_{n-1} \\\\\n",
      "                           0&  \\dots  &\\dots  &0   &\\beta_{n-1} & \\alpha_{n} \\\\\n",
      "                      \\end{array} \\right)\n",
      "$$"
     ]
    },
    {
     "cell_type": "markdown",
     "metadata": {},
     "source": [
      "### Lanczos' iteration\n",
      "\n",
      "Using the fact that $\\hat{Q}\\hat{Q}^T=\\hat{I}$,\n",
      "we can rewrite"
     ]
    },
    {
     "cell_type": "markdown",
     "metadata": {},
     "source": [
      "$$\n",
      "\\hat{T}= \\hat{Q}^{T}\\hat{A}\\hat{Q},\n",
      "$$"
     ]
    },
    {
     "cell_type": "markdown",
     "metadata": {},
     "source": [
      "as"
     ]
    },
    {
     "cell_type": "markdown",
     "metadata": {},
     "source": [
      "$$\n",
      "\\hat{Q}\\hat{T}= \\hat{A}\\hat{Q},\n",
      "$$"
     ]
    },
    {
     "cell_type": "markdown",
     "metadata": {},
     "source": [
      "and if we equate columns (recall from the previous slide)"
     ]
    },
    {
     "cell_type": "markdown",
     "metadata": {},
     "source": [
      "$$\n",
      "\\hat{T} = \\left(\\begin{array}{cccccc}\n",
      "                           \\alpha_1& \\beta_1 & 0 &\\dots   & \\dots &0 \\\\\n",
      "                           \\beta_1 & \\alpha_2 & \\beta_2 &0 &\\dots &0 \\\\\n",
      "                           0& \\beta_2 & \\alpha_3 & \\beta_3 & \\dots &0 \\\\\n",
      "                           \\dots& \\dots   & \\dots &\\dots   &\\dots & 0 \\\\\n",
      "                           \\dots&   &  &\\beta_{n-2}  &\\alpha_{n-1}& \\beta_{n-1} \\\\\n",
      "                           0&  \\dots  &\\dots  &0   &\\beta_{n-1} & \\alpha_{n} \\\\\n",
      "                      \\end{array} \\right)\n",
      "$$"
     ]
    },
    {
     "cell_type": "markdown",
     "metadata": {},
     "source": [
      "we obtain"
     ]
    },
    {
     "cell_type": "markdown",
     "metadata": {},
     "source": [
      "$$\n",
      "\\hat{A}\\hat{q}_k=\\beta_{k-1}\\hat{q}_{k-1}+\\alpha_k\\hat{q}_k+\\beta_k\\hat{q}_{k+1}.\n",
      "$$"
     ]
    },
    {
     "cell_type": "markdown",
     "metadata": {},
     "source": [
      "### Lanczos' iteration\n",
      "\n",
      "We have thus"
     ]
    },
    {
     "cell_type": "markdown",
     "metadata": {},
     "source": [
      "$$\n",
      "\\hat{A}\\hat{q}_k=\\beta_{k-1}\\hat{q}_{k-1}+\\alpha_k\\hat{q}_k+\\beta_k\\hat{q}_{k+1},\n",
      "$$"
     ]
    },
    {
     "cell_type": "markdown",
     "metadata": {},
     "source": [
      "with $\\beta_0\\hat{q}_0=0$ for $k=1:n-1$.\n",
      "Remember that the vectors $\\hat{q}_k$  are orthornormal and this implies"
     ]
    },
    {
     "cell_type": "markdown",
     "metadata": {},
     "source": [
      "$$\n",
      "\\alpha_k=\\hat{q}_k^T\\hat{A}\\hat{q}_k,\n",
      "$$"
     ]
    },
    {
     "cell_type": "markdown",
     "metadata": {},
     "source": [
      "and these vectors are called Lanczos vectors.\n",
      "\n",
      "### Lanczos' iteration, the algorithm\n",
      "\n",
      "We have thus"
     ]
    },
    {
     "cell_type": "markdown",
     "metadata": {},
     "source": [
      "$$\n",
      "\\hat{A}\\hat{q}_k=\\beta_{k-1}\\hat{q}_{k-1}+\\alpha_k\\hat{q}_k+\\beta_k\\hat{q}_{k+1},\n",
      "$$"
     ]
    },
    {
     "cell_type": "markdown",
     "metadata": {},
     "source": [
      "with $\\beta_0\\hat{q}_0=0$ for $k=1:n-1$ and"
     ]
    },
    {
     "cell_type": "markdown",
     "metadata": {},
     "source": [
      "$$\n",
      "\\alpha_k=\\hat{q}_k^T\\hat{A}\\hat{q}_k.\n",
      "$$"
     ]
    },
    {
     "cell_type": "markdown",
     "metadata": {},
     "source": [
      "If"
     ]
    },
    {
     "cell_type": "markdown",
     "metadata": {},
     "source": [
      "$$\n",
      "\\hat{r}_k=(\\hat{A}-\\alpha_k\\hat{I})\\hat{q}_k-\\beta_{k-1}\\hat{q}_{k-1},\n",
      "$$"
     ]
    },
    {
     "cell_type": "markdown",
     "metadata": {},
     "source": [
      "is non-zero, then"
     ]
    },
    {
     "cell_type": "markdown",
     "metadata": {},
     "source": [
      "$$\n",
      "\\hat{q}_{k+1}=\\hat{r}_{k}/\\beta_k,\n",
      "$$"
     ]
    },
    {
     "cell_type": "markdown",
     "metadata": {},
     "source": [
      "with $\\beta_k=\\pm ||\\hat{r}_{k}||_2$.\n",
      "\n",
      "### A simple implementation of the Lanczos algorithm"
     ]
    },
    {
     "cell_type": "markdown",
     "metadata": {},
     "source": [
      "          r_0 = q_1; beta_0=1; q_0=0; int k = 0;\n",
      "          while (beta_k != 0)\n",
      "              q_{k+1} = r_k/beta_k\n",
      "              k = k+1\n",
      "              alpha_k = q_k^T A q_k\n",
      "              r_k = (A-alpha_k I) q_k  -beta_{k-1}q_{k-1}\n",
      "              beta_k = || r_k||_2\n",
      "          end while\n"
     ]
    },
    {
     "cell_type": "markdown",
     "metadata": {},
     "source": [
      "### Differential equations program\n",
      "\n",
      "  * Ordinary differential equations, Runge-Kutta method,chapter 8\n",
      "\n",
      "  * Ordinary differential equations with boundary conditions: one-variable equations to be solved by shooting and Green's function methods, chapter 9\n",
      "\n",
      "  * We can solve such equations by a finite difference scheme as well, turning the equation into an eigenvalue problem. Still one variable. Done in projects 1 and 2.\n",
      "\n",
      "  * If we have more than one variable, we need to solve partial differential equations, see Chapter 10\n",
      "\n",
      "  * Fourier transforms and Fast Fourier transforms if we get time. Project 3 deals with ordinary differential equations (most likely the solar system).\n",
      "\n",
      "### Differential Equations, chapter 8\n",
      "\n",
      "The order of the ODE refers to the order of the derivative\n",
      "on the left-hand side in the equation"
     ]
    },
    {
     "cell_type": "markdown",
     "metadata": {},
     "source": [
      "$$\n",
      "\\begin{equation}\n",
      "   \\frac{dy}{dt}=f(t,y).\n",
      "\\end{equation}\n",
      "$$"
     ]
    },
    {
     "cell_type": "markdown",
     "metadata": {},
     "source": [
      "This equation is of first order and $f$ is an arbitrary function.\n",
      "A second-order equation goes typically like"
     ]
    },
    {
     "cell_type": "markdown",
     "metadata": {},
     "source": [
      "$$\n",
      "\\begin{equation}\n",
      "   \\frac{d^2y}{dt^2}=f(t,\\frac{dy}{dt},y).\n",
      "\\end{equation}\n",
      "$$"
     ]
    },
    {
     "cell_type": "markdown",
     "metadata": {},
     "source": [
      "A well-known second-order equation is Newton's second law"
     ]
    },
    {
     "cell_type": "markdown",
     "metadata": {},
     "source": [
      "<!-- Equation labels as ordinary links -->\n",
      "<a name=\"eq:newton\"/>\n",
      "\n",
      "$$\n",
      "\\begin{equation}\n",
      "   m\\frac{d^2x}{dt^2}=-kx,\n",
      "   \\label{eq:newton} \\tag{6}\n",
      "\\end{equation}\n",
      "$$"
     ]
    },
    {
     "cell_type": "markdown",
     "metadata": {},
     "source": [
      "where $k$ is the force constant. ODE depend only on one\n",
      "variable\n",
      "\n",
      "### Differential Equations\n",
      "\n",
      "partial differential equations like the time-dependent Schr\\\"odinger\n",
      "equation"
     ]
    },
    {
     "cell_type": "markdown",
     "metadata": {},
     "source": [
      "$$\n",
      "\\begin{equation}\n",
      "   i\\hbar\\frac{\\partial \\psi({\\bf x},t)}{\\partial t}=\n",
      "   -\\frac{\\hbar^2}{2m}\\left( \\frac{\\partial^2 \\psi({\\bf r},t)}{\\partial x^2} +\n",
      "                            \\frac{\\partial^2 \\psi({\\bf r},t)}{\\partial y^2}+\n",
      "                            \\frac{\\partial^2 \\psi({\\bf r},t)}{\\partial z^2}\\right) + V({\\bf x})\\psi({\\bf x},t),\n",
      "\\end{equation}\n",
      "$$"
     ]
    },
    {
     "cell_type": "markdown",
     "metadata": {},
     "source": [
      "may depend on several variables. In certain cases, like the above\n",
      "equation, the wave function can be factorized in functions of the separate\n",
      "variables, so that the Schr\\\"odinger equation\n",
      "can be rewritten in terms of sets of ordinary differential equations.\n",
      "These equations are discussed in chapter 10. Involve boundary conditions in addition to initial conditions.\n",
      "\n",
      "### Differential Equations\n",
      "\n",
      "We distinguish also between linear and non-linear differential\n",
      "equation where e.g.,"
     ]
    },
    {
     "cell_type": "markdown",
     "metadata": {},
     "source": [
      "$$\n",
      "\\begin{equation}\n",
      "   \\frac{dy}{dt}=g^3(t)y(t),\n",
      "\\end{equation}\n",
      "$$"
     ]
    },
    {
     "cell_type": "markdown",
     "metadata": {},
     "source": [
      "is an example of a linear equation, while"
     ]
    },
    {
     "cell_type": "markdown",
     "metadata": {},
     "source": [
      "$$\n",
      "\\begin{equation}\n",
      "   \\frac{dy}{dt}=g^3(t)y(t)-g(t)y^2(t),\n",
      "\\end{equation}\n",
      "$$"
     ]
    },
    {
     "cell_type": "markdown",
     "metadata": {},
     "source": [
      "is a non-linear ODE.\n",
      "\n",
      "### Differential Equations\n",
      "\n",
      "Another concept which dictates the numerical method chosen\n",
      "for solving an ODE, is that of initial and boundary conditions.\n",
      "To give an example, if we study white dwarf stars or neutron stars\n",
      "we will need to solve two coupled first-order differential\n",
      "equations, one for the total mass $m$ and one for the\n",
      "pressure $P$ as functions of\n",
      "$\\rho$"
     ]
    },
    {
     "cell_type": "markdown",
     "metadata": {},
     "source": [
      "$$\n",
      "\\frac{dm}{dr}=4\\pi r^{2}\\rho (r)/c^2,\n",
      "$$"
     ]
    },
    {
     "cell_type": "markdown",
     "metadata": {},
     "source": [
      "and"
     ]
    },
    {
     "cell_type": "markdown",
     "metadata": {},
     "source": [
      "$$\n",
      "\\frac{dP}{dr}=-\\frac{Gm(r)}{r^{2}}\\rho (r)/c^2.\n",
      "$$"
     ]
    },
    {
     "cell_type": "markdown",
     "metadata": {},
     "source": [
      "where $\\rho$ is the mass-energy density.\n",
      "The initial conditions are dictated by the mass being\n",
      "zero at the center of the star, i.e., when $r=0$,\n",
      "yielding $m(r=0)=0$. The other condition is that\n",
      "the pressure vanishes at the surface of the star.\n",
      "\n",
      "In the solution of the Schr\\\"odinger equation for a particle\n",
      "in a potential, we may need to apply boundary conditions as well,\n",
      "such as demanding continuity of the wave function and its derivative.\n",
      "\n",
      "### Differential Equations\n",
      "\n",
      "In many cases it is possible to rewrite a second-order\n",
      "differential equation in terms of two first-order differential\n",
      "equations. Consider again the case of Newton's second law in Eq.\n",
      "[(6)](#eq:finalmeanm). If we define the position $x(t)=y^{(1)}(t)$\n",
      "and the velocity $v(t)=y^{(2)}(t)$ as its derivative"
     ]
    },
    {
     "cell_type": "markdown",
     "metadata": {},
     "source": [
      "$$\n",
      "\\begin{equation}\n",
      "   \\frac{dy^{(1)}(t)}{dt}=\\frac{dx(t)}{dt}=y^{(2)}(t),\n",
      "\\end{equation}\n",
      "$$"
     ]
    },
    {
     "cell_type": "markdown",
     "metadata": {},
     "source": [
      "we can rewrite Newton's second law as two coupled first-order\n",
      "differential equations"
     ]
    },
    {
     "cell_type": "markdown",
     "metadata": {},
     "source": [
      "<!-- Equation labels as ordinary links -->\n",
      "<a name=\"eq:n1\"/>\n",
      "\n",
      "$$\n",
      "\\begin{equation}\n",
      "   m\\frac{dy^{(2)}(t)}{dt}=-kx(t)=-ky^{(1)}(t),\n",
      "    \\label{eq:n1} \\tag{7}\n",
      "\\end{equation}\n",
      "$$"
     ]
    },
    {
     "cell_type": "markdown",
     "metadata": {},
     "source": [
      "and"
     ]
    },
    {
     "cell_type": "markdown",
     "metadata": {},
     "source": [
      "<!-- Equation labels as ordinary links -->\n",
      "<a name=\"eq:n2\"/>\n",
      "\n",
      "$$\n",
      "\\begin{equation}\n",
      "\\frac{dy^{(1)}(t)}{dt}=y^{(2)}(t).\n",
      "    \\label{eq:n2} \\tag{8}\n",
      "\\end{equation}\n",
      "$$"
     ]
    },
    {
     "cell_type": "markdown",
     "metadata": {},
     "source": [
      "### Differential Equations, Finite Difference\n",
      "\n",
      "These methods fall under the general class of one-step methods.\n",
      "The algoritm is rather simple.\n",
      "Suppose we have an initial value for the function $y(t)$ given by"
     ]
    },
    {
     "cell_type": "markdown",
     "metadata": {},
     "source": [
      "$$\n",
      "\\begin{equation}\n",
      "  y_0=y(t=t_0).\n",
      "\\end{equation}\n",
      "$$"
     ]
    },
    {
     "cell_type": "markdown",
     "metadata": {},
     "source": [
      "We are interested in solving a differential equation in a region\n",
      "in space [a,b]. We define a step $h$ by splitting the interval\n",
      "in $N$ sub intervals, so that we have"
     ]
    },
    {
     "cell_type": "markdown",
     "metadata": {},
     "source": [
      "$$\n",
      "\\begin{equation}\n",
      "  h=\\frac{b-a}{N}.\n",
      "\\end{equation}\n",
      "$$"
     ]
    },
    {
     "cell_type": "markdown",
     "metadata": {},
     "source": [
      "With this step and the derivative of $y$ we can construct the\n",
      "next value of the function $y$ at"
     ]
    },
    {
     "cell_type": "markdown",
     "metadata": {},
     "source": [
      "$$\n",
      "\\begin{equation}\n",
      "   y_1=y(t_1=t_0+h),\n",
      "\\end{equation}\n",
      "$$"
     ]
    },
    {
     "cell_type": "markdown",
     "metadata": {},
     "source": [
      "and so forth.\n",
      "\n",
      "### Differential Equations\n",
      "\n",
      "If the function is rather well-behaved in the domain\n",
      "[a,b], we can use a fixed step size. If not, adaptive steps\n",
      "may be needed. Here we concentrate on fixed-step\n",
      "methods only.\n",
      "Let us try to generalize the above procedure by writing the\n",
      "step $y_{i+1}$ in terms of the previous step $y_i$"
     ]
    },
    {
     "cell_type": "markdown",
     "metadata": {},
     "source": [
      "$$\n",
      "\\begin{equation}\n",
      "  y_{i+1}=y(t=t_i+h)=y(t_i) + h\\Delta(t_i,y_i(t_i)) + O(h^{p+1}),\n",
      "\\end{equation}\n",
      "$$"
     ]
    },
    {
     "cell_type": "markdown",
     "metadata": {},
     "source": [
      "where $O(h^{p+1})$ represents the truncation error. To determine\n",
      "$\\Delta$, we Taylor expand our function $y$"
     ]
    },
    {
     "cell_type": "markdown",
     "metadata": {},
     "source": [
      "<!-- Equation labels as ordinary links -->\n",
      "<a name=\"eq:taylor\"/>\n",
      "\n",
      "$$\n",
      "\\begin{equation}\n",
      "     y_{i+1}=y(t=t_i+h)=y(t_i) + h(y'(t_i)+\\dots +y^{(p)}(t_i)\\frac{h^{p-1}}{p!}) + O(h^{p+1}),\n",
      "\\label{eq:taylor} \\tag{9}\n",
      "\\end{equation}\n",
      "$$"
     ]
    },
    {
     "cell_type": "markdown",
     "metadata": {},
     "source": [
      "where we will associate the derivatives in the parenthesis with"
     ]
    },
    {
     "cell_type": "markdown",
     "metadata": {},
     "source": [
      "<!-- Equation labels as ordinary links -->\n",
      "<a name=\"eq:delta\"/>\n",
      "\n",
      "$$\n",
      "\\begin{equation}\n",
      "\\Delta(t_i,y_i(t_i))=(y'(t_i)+\\dots +y^{(p)}(t_i)\\frac{h^{p-1}}{p!}).\n",
      "\\label{eq:delta} \\tag{10}\n",
      "\\end{equation}\n",
      "$$"
     ]
    },
    {
     "cell_type": "markdown",
     "metadata": {},
     "source": [
      "### Differential Equations\n",
      "\n",
      "We define"
     ]
    },
    {
     "cell_type": "markdown",
     "metadata": {},
     "source": [
      "$$\n",
      "\\begin{equation}\n",
      "  y'(t_i)=f(t_i,y_i)\n",
      "\\end{equation}\n",
      "$$"
     ]
    },
    {
     "cell_type": "markdown",
     "metadata": {},
     "source": [
      "and if we truncate $\\Delta$ at the first derivative, we have"
     ]
    },
    {
     "cell_type": "markdown",
     "metadata": {},
     "source": [
      "<!-- Equation labels as ordinary links -->\n",
      "<a name=\"eq:euler\"/>\n",
      "\n",
      "$$\n",
      "\\begin{equation}\n",
      "   y_{i+1}=y(t_i) + hf(t_i,y_i) + O(h^2),\n",
      "   \\label{eq:euler} \\tag{11}\n",
      "\\end{equation}\n",
      "$$"
     ]
    },
    {
     "cell_type": "markdown",
     "metadata": {},
     "source": [
      "which when complemented with $t_{i+1}=t_i+h$ forms\n",
      "the algorithm for the well-known Euler method.\n",
      "Note that at every step we make an approximation error\n",
      "of the order of $O(h^2)$, however the total error is the sum over all\n",
      "steps $N=(b-a)/h$, yielding thus a global error which goes like\n",
      "$NO(h^2)\\approx O(h)$.\n",
      "\n",
      "### Differential Equations\n",
      "\n",
      "To make Euler's method more precise we can obviously\n",
      "decrease $h$ (increase $N$). However, if we are computing the\n",
      "derivative $f$ numerically\n",
      "by e.g., the two-steps formula"
     ]
    },
    {
     "cell_type": "markdown",
     "metadata": {},
     "source": [
      "$$\n",
      "f'_{2c}(x)= \\frac{f(x+h)-f(x)}{h}+O(h),\n",
      "$$"
     ]
    },
    {
     "cell_type": "markdown",
     "metadata": {},
     "source": [
      "we can enter into roundoff error problems when we subtract\n",
      "two almost equal numbers $f(x+h)-f(x)\\approx 0$.\n",
      "Euler's method is not recommended for precision calculation,\n",
      "although it is handy to use in order to get a first\n",
      "view on how a solution may look like. As an example,\n",
      "consider Newton's equation rewritten in Eqs.\n",
      "[(7)](#eq:finalmeanm) and [(8)](#eq:finalmeanm). We define $y_0=y^{(1)}(t=0)$\n",
      "an $v_0=y^{(2)}(t=0)$. The first steps in Newton's equations\n",
      "are then"
     ]
    },
    {
     "cell_type": "markdown",
     "metadata": {},
     "source": [
      "$$\n",
      "\\begin{equation}\n",
      "   y^{(1)}_1=y_0+hv_0+O(h^2)\n",
      "\\end{equation}\n",
      "$$"
     ]
    },
    {
     "cell_type": "markdown",
     "metadata": {},
     "source": [
      "and"
     ]
    },
    {
     "cell_type": "markdown",
     "metadata": {},
     "source": [
      "$$\n",
      "\\begin{equation}\n",
      "      y^{(2)}_1=v_0-hy_0k/m+O(h^2).\n",
      "\\end{equation}\n",
      "$$"
     ]
    },
    {
     "cell_type": "markdown",
     "metadata": {},
     "source": [
      "### Differential Equations\n",
      "\n",
      "The Euler method is asymmetric in time, since it uses information about the derivative at the beginning\n",
      "of the time interval. This means that we evaluate the position at $y^{(1)}_1$ using the velocity\n",
      "at $y^{(2)}_0=v_0$. A simple variation is to determine $y^{(1)}_{n+1}$ using the velocity at\n",
      "$y^{(2)}_{n+1}$, that is (in a slightly more generalized form)"
     ]
    },
    {
     "cell_type": "markdown",
     "metadata": {},
     "source": [
      "$$\n",
      "\\begin{equation}\n",
      "   y^{(1)}_{n+1}=y^{(1)}_{n}+h y^{(2)}_{n+1}+O(h^2)\n",
      "\\end{equation}\n",
      "$$"
     ]
    },
    {
     "cell_type": "markdown",
     "metadata": {},
     "source": [
      "and"
     ]
    },
    {
     "cell_type": "markdown",
     "metadata": {},
     "source": [
      "$$\n",
      "\\begin{equation}\n",
      "   y^{(2)}_{n+1}=y^{(2)}_{n}+h a_{n}+O(h^2).\n",
      "\\end{equation}\n",
      "$$"
     ]
    },
    {
     "cell_type": "markdown",
     "metadata": {},
     "source": [
      "The acceleration $a_n$ is a function of $a_n(y^{(1)}_{n}, y^{(2)}_{n},t)$ and needs to be evaluated\n",
      "as well. This is the Euler-Cromer method.\n",
      "\n",
      "### Differential Equations\n",
      "\n",
      "Let us then include the second derivative in our Taylor expansion.\n",
      "We have then"
     ]
    },
    {
     "cell_type": "markdown",
     "metadata": {},
     "source": [
      "$$\n",
      "\\begin{equation}\n",
      " \\Delta(t_i,y_i(t_i))=f(t_i)+\\frac{h}{2}\\frac{df(t_i,y_i)}{dt}+O(h^3).\n",
      "\\end{equation}\n",
      "$$"
     ]
    },
    {
     "cell_type": "markdown",
     "metadata": {},
     "source": [
      "The second derivative can be rewritten as"
     ]
    },
    {
     "cell_type": "markdown",
     "metadata": {},
     "source": [
      "<!-- Equation labels as ordinary links -->\n",
      "<a name=\"eq:derivatives\"/>\n",
      "\n",
      "$$\n",
      "\\begin{equation}\n",
      "  y''=f'=\\frac{df}{dt}=\\frac{\\partial f}{\\partial t}+\\frac{\\partial f}{\\partial y}\\frac{\\partial y}{\\partial t}=\\frac{\\partial f}{\\partial t}+\\frac{\\partial f}{\\partial y}f\n",
      "\\label{eq:derivatives} \\tag{12}\n",
      "\\end{equation}\n",
      "$$"
     ]
    },
    {
     "cell_type": "markdown",
     "metadata": {},
     "source": [
      "and we can rewrite Eq. [(9)](#eq:finalmeanm) as"
     ]
    },
    {
     "cell_type": "markdown",
     "metadata": {},
     "source": [
      "$$\n",
      "\\begin{equation}\n",
      "     y_{i+1}=y(t=t_i+h)=y(t_i) +hf(t_i)+\n",
      "     \\frac{h^2}{2}\\left(\\frac{\\partial f}{\\partial t}+\\frac{\\partial f}{\\partial y}f\\right) + O(h^{3  }),\n",
      "\\end{equation}\n",
      "$$"
     ]
    },
    {
     "cell_type": "markdown",
     "metadata": {},
     "source": [
      "which has a local approximation error $O(h^{3  })$ and a global\n",
      "error $O(h^{2})$.\n",
      "\n",
      "### Differential Equations\n",
      "\n",
      "These approximations can be generalized by using the derivative $f$ to\n",
      "arbitrary order so that we have"
     ]
    },
    {
     "cell_type": "markdown",
     "metadata": {},
     "source": [
      "$$\n",
      "\\begin{equation}\n",
      "     y_{i+1}=y(t=t_i+h)=y(t_i) + h(f(t_i,y_i)+\\dots f^{(p-1)}(t_i,y_i)\n",
      "     \\frac{h^{p-1}}{p!}) + O(h^{p+1}).\n",
      "\\end{equation}\n",
      "$$"
     ]
    },
    {
     "cell_type": "markdown",
     "metadata": {},
     "source": [
      "These methods, based on higher-order derivatives, are in general not used\n",
      "in numerical computation, since they rely on evaluating\n",
      "derivatives several times. Unless one has analytical expressions\n",
      "for these, the risk of roundoff errors is large.\n",
      "\n",
      "### Differential Equations\n",
      "\n",
      "The most obvious improvements to Euler's and Euler-Cromer's algorithms,\n",
      "avoiding in addition the need for computing a\n",
      "second derivative, is the so-called midpoint method. We have then"
     ]
    },
    {
     "cell_type": "markdown",
     "metadata": {},
     "source": [
      "$$\n",
      "\\begin{equation}\n",
      "   y^{(1)}_{n+1}=y^{(1)}_{n}+\\frac{h}{2}\\left(y^{(2)}_{n+1}+y^{(2)}_{n}\\right)+O(h^2)\n",
      "\\end{equation}\n",
      "$$"
     ]
    },
    {
     "cell_type": "markdown",
     "metadata": {},
     "source": [
      "and"
     ]
    },
    {
     "cell_type": "markdown",
     "metadata": {},
     "source": [
      "$$\n",
      "\\begin{equation}\n",
      "   y^{(2)}_{n+1}=y^{(2)}_{n}+h a_{n}+O(h^2),\n",
      "\\end{equation}\n",
      "$$"
     ]
    },
    {
     "cell_type": "markdown",
     "metadata": {},
     "source": [
      "yielding"
     ]
    },
    {
     "cell_type": "markdown",
     "metadata": {},
     "source": [
      "$$\n",
      "\\begin{equation}\n",
      "   y^{(1)}_{n+1}=y^{(1)}_{n}+hy^{(2)}_{n}+\\frac{h^2}{2}a_n+O(h^3)\n",
      "\\end{equation}\n",
      "$$"
     ]
    },
    {
     "cell_type": "markdown",
     "metadata": {},
     "source": [
      "implying that the local truncation error in the position is now $O(h^3)$, whereas Euler's or Euler-Cromer's\n",
      "methods have a local error of  $O(h^2)$.\n",
      "\n",
      "### Differential Equations\n",
      "\n",
      " Thus, the midpoint method yields a global error with\n",
      "second-order accuracy for\n",
      "the position and first-order accuracy for the velocity. However, although these methods yield exact results for\n",
      "constant accelerations, the error increases in general with each time step.\n",
      "\n",
      "One method that avoids this is the so-called half-step method. Here we define"
     ]
    },
    {
     "cell_type": "markdown",
     "metadata": {},
     "source": [
      "$$\n",
      "\\begin{equation}\n",
      "   y^{(2)}_{n+1/2}=y^{(2)}_{n-1/2}+h a_{n}+O(h^2),\n",
      "\\end{equation}\n",
      "$$"
     ]
    },
    {
     "cell_type": "markdown",
     "metadata": {},
     "source": [
      "and"
     ]
    },
    {
     "cell_type": "markdown",
     "metadata": {},
     "source": [
      "$$\n",
      "\\begin{equation}\n",
      "   y^{(1)}_{n+1}=y^{(1)}_{n}+hy^{(2)}_{n+1/2} +O(h^2).\n",
      "\\end{equation}\n",
      "$$"
     ]
    },
    {
     "cell_type": "markdown",
     "metadata": {},
     "source": [
      "Note that this method needs the calculation of $y^{(2)}_{1/2}$. This is done using\n",
      "e.g., Euler's method"
     ]
    },
    {
     "cell_type": "markdown",
     "metadata": {},
     "source": [
      "$$\n",
      "\\begin{equation}\n",
      "   y^{(2)}_{1/2}=y^{(2)}_{0}+h a_{0}+O(h^2).\n",
      "\\end{equation}\n",
      "$$"
     ]
    },
    {
     "cell_type": "markdown",
     "metadata": {},
     "source": [
      "As this method is numerically stable, it is often used instead of Euler's method.\n",
      "\n",
      "### Differential Equations\n",
      "\n",
      "Another method which one may encounter is the Euler-Richardson method\n",
      "with"
     ]
    },
    {
     "cell_type": "markdown",
     "metadata": {},
     "source": [
      "<!-- Equation labels as ordinary links -->\n",
      "<a name=\"eq:er1\"/>\n",
      "\n",
      "$$\n",
      "\\begin{equation}\n",
      "   y^{(2)}_{n+1}=y^{(2)}_{n}+h a_{n+1/2}+O(h^2),\n",
      "   \\label{eq:er1} \\tag{13}\n",
      "\\end{equation}\n",
      "$$"
     ]
    },
    {
     "cell_type": "markdown",
     "metadata": {},
     "source": [
      "and"
     ]
    },
    {
     "cell_type": "markdown",
     "metadata": {},
     "source": [
      "<!-- Equation labels as ordinary links -->\n",
      "<a name=\"eq:er2\"/>\n",
      "\n",
      "$$\n",
      "\\begin{equation}\n",
      "   \\label{eq:er2} \\tag{14}\n",
      "   y^{(1)}_{n+1}=y^{(1)}_{n}+hy^{(2)}_{n+1/2} +O(h^2).\n",
      "\\end{equation}\n",
      "$$"
     ]
    },
    {
     "cell_type": "markdown",
     "metadata": {},
     "source": [
      "The program program2.cpp includes all of the above methods.\n",
      "\n",
      "## Overview of week 40\n",
      "\n",
      "### Overview of week 40\n",
      "\n",
      "**Ordinary differential equations (ODEs) and Partial differential equations (PDEs).**\n",
      "\n",
      "  * Monday: Repetition from last week\n",
      "\n",
      "  * Runge-Kutta methods, with adaptive methods as well\n",
      "\n",
      "  * Examples with codes\n",
      "\n",
      "  * Tuesday:\n",
      "\n",
      "  * Discussion of project 3\n",
      "\n",
      "  * Diffusion equation, implicit, explicit (if we get there!!) Chapter 9, ODEs with boundary conditions will not be discussed.\n",
      "\n",
      "\n",
      "\n",
      "### Differential Equations, Runge-Kutta methods\n",
      "\n",
      "Runge-Kutta (RK) methods are based on Taylor expansion formulae, but yield\n",
      "in general better algorithms for solutions of an ODE.\n",
      "The basic philosophy is that it provides an intermediate step\n",
      "in the computation of $y_{i+1}$.\n",
      "\n",
      "To see this, consider first the following definitions"
     ]
    },
    {
     "cell_type": "markdown",
     "metadata": {},
     "source": [
      "$$\n",
      "\\begin{equation}\n",
      "   \\frac{dy}{dt}=f(t,y),\n",
      "\\end{equation}\n",
      "$$"
     ]
    },
    {
     "cell_type": "markdown",
     "metadata": {},
     "source": [
      "and"
     ]
    },
    {
     "cell_type": "markdown",
     "metadata": {},
     "source": [
      "$$\n",
      "\\begin{equation}\n",
      "   y(t)=\\int f(t,y) dt,\n",
      "\\end{equation}\n",
      "$$"
     ]
    },
    {
     "cell_type": "markdown",
     "metadata": {},
     "source": [
      "and"
     ]
    },
    {
     "cell_type": "markdown",
     "metadata": {},
     "source": [
      "$$\n",
      "\\begin{equation}\n",
      "  y_{i+1}=y_i+ \\int_{t_i}^{t_{i+1}} f(t,y) dt.\n",
      "\\end{equation}\n",
      "$$"
     ]
    },
    {
     "cell_type": "markdown",
     "metadata": {},
     "source": [
      "### Differential Equations, Runge-Kutta methods\n",
      "\n",
      "To demonstrate the philosophy behind RK methods, let us consider\n",
      "the second-order RK method, RK2.\n",
      "The first approximation consists in Taylor expanding $f(t,y)$\n",
      "around the center of the integration interval $t_i$ to $t_{i+1}$,\n",
      "i.e., at $t_i+h/2$, $h$ being the step.\n",
      "Using the midpoint formula for an integral,\n",
      "defining $y(t_i+h/2) = y_{i+1/2}$ and\n",
      "$t_i+h/2 = t_{i+1/2}$, we obtain"
     ]
    },
    {
     "cell_type": "markdown",
     "metadata": {},
     "source": [
      "$$\n",
      "\\begin{equation}\n",
      "    \\int_{t_i}^{t_{i+1}} f(t,y) dt \\approx hf(t_{i+1/2},y_{i+1/2}) +O(h^3).\n",
      "\\end{equation}\n",
      "$$"
     ]
    },
    {
     "cell_type": "markdown",
     "metadata": {},
     "source": [
      "This means in turn that we have"
     ]
    },
    {
     "cell_type": "markdown",
     "metadata": {},
     "source": [
      "$$\n",
      "\\begin{equation}\n",
      "     y_{i+1}=y_i + hf(t_{i+1/2},y_{i+1/2}) +O(h^3).\n",
      "\\end{equation}\n",
      "$$"
     ]
    },
    {
     "cell_type": "markdown",
     "metadata": {},
     "source": [
      "### Differential Equations, Runge-Kutta methods\n",
      "\n",
      "However, we do not know the value of   $y_{i+1/2}$.\n",
      "Here comes thus the next approximation, namely, we use Euler's\n",
      "method to approximate $y_{i+1/2}$. We have then"
     ]
    },
    {
     "cell_type": "markdown",
     "metadata": {},
     "source": [
      "$$\n",
      "\\begin{equation}\n",
      "   y_{(i+1/2)}=y_i + \\frac{h}{2}\\frac{dy}{dt} =\n",
      "   y(t_i) + \\frac{h}{2}f(t_i,y_i).\n",
      "\\end{equation}\n",
      "$$"
     ]
    },
    {
     "cell_type": "markdown",
     "metadata": {},
     "source": [
      "This means that we can define the following algorithm for\n",
      "the second-order Runge-Kutta method, RK2."
     ]
    },
    {
     "cell_type": "markdown",
     "metadata": {},
     "source": [
      "$$\n",
      "\\begin{equation}\n",
      "  k_1=hf(t_i,y_i),\n",
      "\\end{equation}\n",
      "$$"
     ]
    },
    {
     "cell_type": "markdown",
     "metadata": {},
     "source": [
      "$$\n",
      "\\begin{equation}\n",
      "  k_2=hf(t_{i+1/2},y_i+k_1/2),\n",
      "\\end{equation}\n",
      "$$"
     ]
    },
    {
     "cell_type": "markdown",
     "metadata": {},
     "source": [
      "with the final value"
     ]
    },
    {
     "cell_type": "markdown",
     "metadata": {},
     "source": [
      "$$\n",
      "\\begin{equation}\n",
      "  y_{i+i}\\approx y_i + k_2 +O(h^3).\n",
      "\\end{equation}\n",
      "$$"
     ]
    },
    {
     "cell_type": "markdown",
     "metadata": {},
     "source": [
      "### Differential Equations, Runge-Kutta methods\n",
      "\n",
      "The difference between the previous one-step methods\n",
      "is that we now need an intermediate step in our evaluation,\n",
      "namely $t_i+h/2 = t_{(i+1/2)}$ where we evaluate the derivative $f$.\n",
      "This involves more operations, but the gain is a better stability\n",
      "in the solution.\n",
      "\n",
      "### Differential Equations, Runge-Kutta methods\n",
      "\n",
      "The fourth-order Runge-Kutta, RK4, which we will employ in the solution\n",
      "of various differential equations below, has the following\n",
      "algorithm"
     ]
    },
    {
     "cell_type": "markdown",
     "metadata": {},
     "source": [
      "$$\n",
      "\\begin{equation}\n",
      "  k_1=hf(t_i,y_i),\n",
      "\\end{equation}\n",
      "$$"
     ]
    },
    {
     "cell_type": "markdown",
     "metadata": {},
     "source": [
      "$$\n",
      "\\begin{equation}\n",
      "  k_2=hf(t_i+h/2,y_i+k_1/2),\n",
      "\\end{equation}\n",
      "$$"
     ]
    },
    {
     "cell_type": "markdown",
     "metadata": {},
     "source": [
      "$$\n",
      "\\begin{equation}\n",
      "  k_3=hf(t_i+h/2,y_i+k_2/2)\n",
      "\\end{equation}\n",
      "$$"
     ]
    },
    {
     "cell_type": "markdown",
     "metadata": {},
     "source": [
      "$$\n",
      "\\begin{equation}\n",
      "  k_4=hf(t_i+h,y_i+k_3)\n",
      "\\end{equation}\n",
      "$$"
     ]
    },
    {
     "cell_type": "markdown",
     "metadata": {},
     "source": [
      "with the final value"
     ]
    },
    {
     "cell_type": "markdown",
     "metadata": {},
     "source": [
      "$$\n",
      "\\begin{equation}\n",
      "  y_{i+1}=y_i +\\frac{1}{6}\\left( k_1 +2k_2+2k_3+k_4\\right).\n",
      "\\end{equation}\n",
      "$$"
     ]
    },
    {
     "cell_type": "markdown",
     "metadata": {},
     "source": [
      "Thus, the algorithm consists in first calculating $k_1$\n",
      "with $t_i$, $y_1$ and $f$ as inputs. Thereafter, we increase the step\n",
      "size by $h/2$ and calculate $k_2$, then $k_3$ and finally $k_4$. Global error\n",
      "as $O(h^4)$.\n",
      "\n",
      "### Simple Example, Block tied to a Wall\n",
      "\n",
      "Our first example is the classical case of simple harmonic\n",
      "  oscillations, namely a block sliding on a horizontal frictionless\n",
      "  surface. The block is tied to a wall with a spring.\n",
      "  If the spring is not compressed or stretched too far, the force\n",
      "  on the block at a given position $x$ is"
     ]
    },
    {
     "cell_type": "markdown",
     "metadata": {},
     "source": [
      "$$\n",
      "F=-kx.\n",
      "$$"
     ]
    },
    {
     "cell_type": "markdown",
     "metadata": {},
     "source": [
      "### Simple Example, Block tied to a Wall\n",
      "\n",
      "The negative sign means that the force acts to restore the object to an\n",
      "  equilibrium position. Newton's equation of motion for this idealized system\n",
      "  is then"
     ]
    },
    {
     "cell_type": "markdown",
     "metadata": {},
     "source": [
      "$$\n",
      "m\\frac{d^2x}{dt^2}=-kx,\n",
      "$$"
     ]
    },
    {
     "cell_type": "markdown",
     "metadata": {},
     "source": [
      "or we could rephrase it as"
     ]
    },
    {
     "cell_type": "markdown",
     "metadata": {},
     "source": [
      "<!-- Equation labels as ordinary links -->\n",
      "<a name=\"eq:newton1\"/>\n",
      "\n",
      "$$\n",
      "\\frac{d^2x}{dt^2}=-\\frac{k}{m}x=-\\omega_0^2x,\n",
      "    \\label{eq:newton1} \\tag{15}\n",
      "$$"
     ]
    },
    {
     "cell_type": "markdown",
     "metadata": {},
     "source": [
      "with the angular frequency $\\omega_0^2=k/m$.\n",
      "\n",
      "  The above differential equation has the advantage that it can be solved\n",
      "  analytically with solutions on the form"
     ]
    },
    {
     "cell_type": "markdown",
     "metadata": {},
     "source": [
      "$$\n",
      "x(t)=Acos(\\omega_0t+\\nu),\n",
      "$$"
     ]
    },
    {
     "cell_type": "markdown",
     "metadata": {},
     "source": [
      "where $A$ is the amplitude and $\\nu$ the phase constant.\n",
      "  This provides in turn an important test for the numerical\n",
      "  solution and the development of a program for more complicated cases\n",
      "  which cannot be solved analytically.\n",
      "\n",
      "### Simple Example, Block tied to a Wall\n",
      "\n",
      " With the position $x(t)$ and the velocity\n",
      "  $v(t)=dx/dt$ we can reformulate Newton's equation in the following way"
     ]
    },
    {
     "cell_type": "markdown",
     "metadata": {},
     "source": [
      "$$\n",
      "\\frac{dx(t)}{dt}=v(t),\n",
      "$$"
     ]
    },
    {
     "cell_type": "markdown",
     "metadata": {},
     "source": [
      "and"
     ]
    },
    {
     "cell_type": "markdown",
     "metadata": {},
     "source": [
      "$$\n",
      "\\frac{dv(t)}{dt}=-\\omega_0^2x(t).\n",
      "$$"
     ]
    },
    {
     "cell_type": "markdown",
     "metadata": {},
     "source": [
      "We are now going to solve these equations using the Runge-Kutta method\n",
      "  to fourth order discussed previously.\n",
      "\n",
      "### Simple Example, Block tied to a Wall\n",
      "\n",
      " Before proceeding however, it is important to note that in addition\n",
      "  to the exact solution, we have at least two further tests which can be\n",
      "  used to check our solution.\n",
      "\n",
      "  Since functions like $cos$ are periodic with a period $2\\pi$,\n",
      "  then the solution\n",
      "  $x(t)$ has also to be periodic. This means that"
     ]
    },
    {
     "cell_type": "markdown",
     "metadata": {},
     "source": [
      "$$\n",
      "x(t+T)=x(t),\n",
      "$$"
     ]
    },
    {
     "cell_type": "markdown",
     "metadata": {},
     "source": [
      "with $T$ the period defined as"
     ]
    },
    {
     "cell_type": "markdown",
     "metadata": {},
     "source": [
      "$$\n",
      "T=\\frac{2\\pi}{\\omega_0}=\\frac{2\\pi}{\\sqrt{k/m}}.\n",
      "$$"
     ]
    },
    {
     "cell_type": "markdown",
     "metadata": {},
     "source": [
      "Observe that $T$ depends only on $k/m$ and not on the amplitude\n",
      "  of the solution.\n",
      "\n",
      "### Simple Example, Block tied to a Wall\n",
      "\n",
      "  In addition to the periodicity test, the total energy has also to be\n",
      "  conserved.\n",
      "\n",
      "  Suppose we choose the initial conditions"
     ]
    },
    {
     "cell_type": "markdown",
     "metadata": {},
     "source": [
      "$$\n",
      "x(t=0)=1\\quad \\mbox{m}\\quad v(t=0)=0\\quad\\mbox{m/s},\n",
      "$$"
     ]
    },
    {
     "cell_type": "markdown",
     "metadata": {},
     "source": [
      "meaning that block is at rest at $t=0$ but with a potential energy"
     ]
    },
    {
     "cell_type": "markdown",
     "metadata": {},
     "source": [
      "$$\n",
      "E_0=\\frac{1}{2}kx(t=0)^2=\\frac{1}{2}k.\n",
      "$$"
     ]
    },
    {
     "cell_type": "markdown",
     "metadata": {},
     "source": [
      "The total energy at any time $t$ has however to be conserved, meaning\n",
      "  that our solution has to fulfil the condition"
     ]
    },
    {
     "cell_type": "markdown",
     "metadata": {},
     "source": [
      "$$\n",
      "E_0=\\frac{1}{2}kx(t)^2+\\frac{1}{2}mv(t)^2.\n",
      "$$"
     ]
    },
    {
     "cell_type": "markdown",
     "metadata": {},
     "source": [
      "### Simple Example, Block tied to a Wall\n",
      "\n",
      " An algorithm which implements these equations is included below.\n",
      "\n",
      "  * Choose the initial position and speed, with the most common choice $v(t=0)=0$ and some fixed value for the position.\n",
      "\n",
      "  * Choose the method you wish to employ in solving the problem.\n",
      "\n",
      "  * Subdivide the time interval $[t_i,t_f] $ into a grid with step size $h=\\frac{t_f-t_i}{N}$, where $N$ is the number of mesh points.\n",
      "\n",
      "  * Calculate now the total energy given by $E_0=\\frac{1}{2}kx(t=0)^2=\\frac{1}{2}k$.\n",
      "\n",
      "  * The Runge-Kutta method is used to obtain $x_{i+1}$ and $v_{i+1}$ starting from the previous values $x_i$ and $v_i$..\n",
      "\n",
      "  * When we have computed $x(v)_{i+1}$ we upgrade $t_{i+1}=t_i+h$.\n",
      "\n",
      "  * This iterative process continues till we reach the maximum time $t_f$.\n",
      "\n",
      "  * The results are checked against the exact solution. Furthermore, one has to check the stability of the numerical solution against the chosen number of mesh points $N$.\n",
      "\n",
      "### Simple Example, Block tied to a Wall"
     ]
    },
    {
     "cell_type": "markdown",
     "metadata": {},
     "source": [
      "            y[0] = initial_x;                 // initial position\n",
      "            y[1] = initial_v;                // initial velocity\n",
      "            t=0.;                             // initial time\n",
      "            E0 = 0.5*y[0]*y[0]+0.5*y[1]*y[1];  // the initial total energy\n",
      "            // now we start solving the differential\n",
      "            // equations using the RK4 method\n",
      "            while (t <= tmax){\n",
      "              derivatives(t, y, dydt);   // initial derivatives\n",
      "              runge_kutta_4(y, dydt, n, t, h, yout, derivatives);\n",
      "              for (i = 0; i < n; i++) {\n",
      "        \t   y[i] = yout[i];\n",
      "        \n",
      "              t += h;\n",
      "              output(t, y, E0);   // write to file\n",
      "        \n"
     ]
    },
    {
     "cell_type": "markdown",
     "metadata": {},
     "source": [
      "### Simple Example, Block tied to a Wall"
     ]
    },
    {
     "cell_type": "markdown",
     "metadata": {},
     "source": [
      "          //   this function sets up the derivatives for this special case\n",
      "          void derivatives(double t, double *y, double *dydt)\n",
      "          {\n",
      "            dydt[0]=y[1];    // derivative of x\n",
      "            dydt[1]=-y[0]; // derivative of v\n",
      "          } // end of function derivatives\n"
     ]
    },
    {
     "cell_type": "markdown",
     "metadata": {},
     "source": [
      "### Runge-Kutta methods, code"
     ]
    },
    {
     "cell_type": "markdown",
     "metadata": {},
     "source": [
      "        void runge_kutta_4(double *y, double *dydx, int n,\n",
      "                         double x, double h,\n",
      "                  double *yout, void (*derivs)(double, double *, double *))\n",
      "        {\n",
      "          int i;\n",
      "          double      xh,hh,h6;\n",
      "          double *dym, *dyt, *yt;\n",
      "          //   allocate space for local vectors\n",
      "          dym = new double [n];\n",
      "          dyt =  new double [n];\n",
      "          yt =  new double [n];\n",
      "          hh = h*0.5;\n",
      "          h6 = h/6.;\n",
      "          xh = x+hh;\n"
     ]
    },
    {
     "cell_type": "markdown",
     "metadata": {},
     "source": [
      "### Runge-Kutta methods, code"
     ]
    },
    {
     "cell_type": "markdown",
     "metadata": {},
     "source": [
      "          for (i = 0; i < n; i++) {\n",
      "            yt[i] = y[i]+hh*dydx[i];\n",
      "        \n",
      "          (*derivs)(xh,yt,dyt);     // computation of k2\n",
      "          for (i = 0; i < n; i++) {\n",
      "            yt[i] = y[i]+hh*dyt[i];\n",
      "        \n",
      "          (*derivs)(xh,yt,dym); //  computation of k3\n",
      "          for (i=0; i < n; i++) {\n",
      "            yt[i] = y[i]+h*dym[i];\n",
      "            dym[i] += dyt[i];\n",
      "        \n",
      "          (*derivs)(x+h,yt,dyt);    // computation of k4\n",
      "          //      now we upgrade y in the array yout\n",
      "          for (i = 0; i < n; i++){\n",
      "            yout[i] = y[i]+h6*(dydx[i]+dyt[i]+2.0*dym[i]);\n",
      "        \n",
      "          delete []dym;\n",
      "          delete [] dyt;\n",
      "          delete [] yt;\n",
      "        }       //  end of function Runge-kutta 4\n"
     ]
    },
    {
     "cell_type": "markdown",
     "metadata": {},
     "source": [
      "### The classical pendulum\n",
      "\n",
      "The angular equation of motion of the pendulum is given by\n",
      "Newton's equation and with no external force it reads"
     ]
    },
    {
     "cell_type": "markdown",
     "metadata": {},
     "source": [
      "$$\n",
      "\\begin{equation}\n",
      "  ml\\frac{d^2\\theta}{dt^2}+mgsin(\\theta)=0,\n",
      "\\end{equation}\n",
      "$$"
     ]
    },
    {
     "cell_type": "markdown",
     "metadata": {},
     "source": [
      "with an angular velocity and acceleration given by"
     ]
    },
    {
     "cell_type": "markdown",
     "metadata": {},
     "source": [
      "$$\n",
      "\\begin{equation}\n",
      "     v=l\\frac{d\\theta}{dt},\n",
      "\\end{equation}\n",
      "$$"
     ]
    },
    {
     "cell_type": "markdown",
     "metadata": {},
     "source": [
      "and"
     ]
    },
    {
     "cell_type": "markdown",
     "metadata": {},
     "source": [
      "$$\n",
      "\\begin{equation}\n",
      "     a=l\\frac{d^2\\theta}{dt^2}.\n",
      "\\end{equation}\n",
      "$$"
     ]
    },
    {
     "cell_type": "markdown",
     "metadata": {},
     "source": [
      "### More on the Pendulum\n",
      "\n",
      "We do however expect that the motion will gradually come to an end\n",
      "due a viscous drag torque acting on the pendulum.\n",
      "In the presence of the drag, the above equation becomes"
     ]
    },
    {
     "cell_type": "markdown",
     "metadata": {},
     "source": [
      "<!-- Equation labels as ordinary links -->\n",
      "<a name=\"eq:pend1\"/>\n",
      "\n",
      "$$\n",
      "\\begin{equation}\n",
      "   ml\\frac{d^2\\theta}{dt^2}+\\nu\\frac{d\\theta}{dt}  +mgsin(\\theta)=0,\n",
      "\\label{eq:pend1} \\tag{16}\n",
      "\\end{equation}\n",
      "$$"
     ]
    },
    {
     "cell_type": "markdown",
     "metadata": {},
     "source": [
      "where $\\nu$ is now a positive constant parameterizing the viscosity\n",
      "of the medium in question. In order to maintain the motion against\n",
      "viscosity, it is necessary to add some external driving force.\n",
      "We choose here a periodic driving force. The last equation becomes then"
     ]
    },
    {
     "cell_type": "markdown",
     "metadata": {},
     "source": [
      "<!-- Equation labels as ordinary links -->\n",
      "<a name=\"eq:pend2\"/>\n",
      "\n",
      "$$\n",
      "\\begin{equation}\n",
      "   ml\\frac{d^2\\theta}{dt^2}+\\nu\\frac{d\\theta}{dt}  +mgsin(\\theta)=Asin(\\omega t),\n",
      "\\label{eq:pend2} \\tag{17}\n",
      "\\end{equation}\n",
      "$$"
     ]
    },
    {
     "cell_type": "markdown",
     "metadata": {},
     "source": [
      "with $A$ and $\\omega$ two constants representing the amplitude and\n",
      "the angular frequency respectively. The latter is called the driving frequency.\n",
      "\n",
      "### More on the Pendulum\n",
      "\n",
      "  We define"
     ]
    },
    {
     "cell_type": "markdown",
     "metadata": {},
     "source": [
      "$$\n",
      "\\omega_0=\\sqrt{g/l},\n",
      "$$"
     ]
    },
    {
     "cell_type": "markdown",
     "metadata": {},
     "source": [
      "the so-called natural frequency\n",
      "  and the new dimensionless quantities"
     ]
    },
    {
     "cell_type": "markdown",
     "metadata": {},
     "source": [
      "$$\n",
      "\\hat{t}=\\omega_0t,\n",
      "$$"
     ]
    },
    {
     "cell_type": "markdown",
     "metadata": {},
     "source": [
      "with the dimensionless driving frequency"
     ]
    },
    {
     "cell_type": "markdown",
     "metadata": {},
     "source": [
      "$$\n",
      "\\hat{\\omega}=\\frac{\\omega}{\\omega_0},\n",
      "$$"
     ]
    },
    {
     "cell_type": "markdown",
     "metadata": {},
     "source": [
      "and introducing the quantity $Q$, called the *quality factor*,"
     ]
    },
    {
     "cell_type": "markdown",
     "metadata": {},
     "source": [
      "$$\n",
      "Q=\\frac{mg}{\\omega_0\\nu},\n",
      "$$"
     ]
    },
    {
     "cell_type": "markdown",
     "metadata": {},
     "source": [
      "and the dimensionless amplitude"
     ]
    },
    {
     "cell_type": "markdown",
     "metadata": {},
     "source": [
      "$$\n",
      "\\hat{A}=\\frac{A}{mg}\n",
      "$$"
     ]
    },
    {
     "cell_type": "markdown",
     "metadata": {},
     "source": [
      "### More on the Pendulum\n",
      "\n",
      "  we have"
     ]
    },
    {
     "cell_type": "markdown",
     "metadata": {},
     "source": [
      "$$\n",
      "\\frac{d^2\\theta}{d\\hat{t}^2}+\\frac{1}{Q}\\frac{d\\theta}{d\\hat{t}}\n",
      "     +sin(\\theta)=\\hat{A}cos(\\hat{\\omega}\\hat{t}).\n",
      "$$"
     ]
    },
    {
     "cell_type": "markdown",
     "metadata": {},
     "source": [
      "This equation can in turn be recast in terms of two coupled first-order\n",
      "  differential equations as follows"
     ]
    },
    {
     "cell_type": "markdown",
     "metadata": {},
     "source": [
      "$$\n",
      "\\frac{d\\theta}{d\\hat{t}}=\\hat{v},\n",
      "$$"
     ]
    },
    {
     "cell_type": "markdown",
     "metadata": {},
     "source": [
      "and"
     ]
    },
    {
     "cell_type": "markdown",
     "metadata": {},
     "source": [
      "$$\n",
      "\\frac{d\\hat{v}}{d\\hat{t}}=-\\frac{\\hat{v}}{Q}-sin(\\theta)+\\hat{A}cos(\\hat{\\omega}\\hat{t}).\n",
      "$$"
     ]
    },
    {
     "cell_type": "markdown",
     "metadata": {},
     "source": [
      "These are the equations to be solved.\n",
      "  The factor $Q$ represents the number of oscillations of the undriven system that must occur\n",
      "  before its energy is significantly reduced due to the viscous  drag. The amplitude $\\hat{A}$\n",
      "  is measured in units of the maximum possible gravitational torque while\n",
      "  $\\hat{\\omega}$ is the angular frequency of the external torque measured in units of the pendulum's\n",
      "  natural frequency.\n",
      "\n",
      "### Classes for ODE methods\n",
      "\n",
      "It can be very useful to make a Class which contains all possible methods discussed. In Fortran we can use the MODULE\n",
      "keyword in order to can methods and keep the variables private and hidden from other parts of our code.\n",
      "This allows for a generalization which can be used to tackle other ODEs as well.\n",
      "\n",
      "### Classes for ODE methods\n",
      "\n",
      "In `program2.cpp` of chapter 8 we have canned the following methods"
     ]
    },
    {
     "cell_type": "markdown",
     "metadata": {},
     "source": [
      "        void euler();\n",
      "        void euler_cromer();\n",
      "        void midpoint();\n",
      "        void euler_richardson();\n",
      "        void half_step();\n",
      "        void rk2(); //runge-kutta-second-order\n",
      "        void rk4_step(double,double*,double*,double); // we need it in function rk4() and asc()\n",
      "        void rk4(); //runge-kutta-fourth-order\n",
      "        void asc(); //runge-kutta-fourth-order with adaptive stepsize control\n"
     ]
    },
    {
     "cell_type": "markdown",
     "metadata": {},
     "source": [
      "### Classes for ODE methods"
     ]
    },
    {
     "cell_type": "markdown",
     "metadata": {},
     "source": [
      "        class pendulum\n",
      "         {\n",
      "         private:\n",
      "           double Q, A_roof, omega_0, omega_roof,g; //\n",
      "           double y[2];          //for the initial-values of phi and v\n",
      "           int n;                // how many steps\n",
      "           double delta_t,delta_t_roof;\n",
      "        \n",
      "         public:\n",
      "           void derivatives(double,double*,double*);\n",
      "           void initialise();\n",
      "           void euler();\n",
      "           void euler_cromer();\n",
      "           void midpoint();\n",
      "           void euler_richardson();\n",
      "           void half_step();\n",
      "           void rk2(); //runge-kutta-second-order\n",
      "           void rk4_step(double,double*,double*,double); // we need it in function rk4() and asc()\n",
      "           void rk4(); //runge-kutta-fourth-order\n",
      "           void asc(); //runge-kutta-fourth-order with adaptive stepsize control\n",
      "         };\n"
     ]
    },
    {
     "cell_type": "markdown",
     "metadata": {},
     "source": [
      "### Classes for ODE methods"
     ]
    },
    {
     "cell_type": "markdown",
     "metadata": {},
     "source": [
      "        void pendulum::derivatives(double t, double* in, double* out)\n",
      "        { /* Here we are calculating the derivatives at (dimensionless) time t\n",
      "             'in' are the values of phi and v, which are used for the calculation\n",
      "             The results are given to 'out' */\n",
      "        \n",
      "          out[0]=in[1];             //out[0] = (phi)'  = v\n",
      "          if(Q)\n",
      "            out[1]=-in[1]/((double)Q)-sin(in[0])+A_roof*cos(omega_roof*t);  //out[1] = (phi)''\n",
      "          else\n",
      "            out[1]=-sin(in[0])+A_roof*cos(omega_roof*t);  //out[1] = (phi)''\n",
      "        \n"
     ]
    },
    {
     "cell_type": "markdown",
     "metadata": {},
     "source": [
      "### Classes for ODE methods"
     ]
    },
    {
     "cell_type": "markdown",
     "metadata": {},
     "source": [
      "        int main()\n",
      "        {\n",
      "          pendulum testcase;\n",
      "          testcase.initialise();\n",
      "          testcase.euler();\n",
      "          testcase.euler_cromer();\n",
      "          testcase.midpoint();\n",
      "          testcase.euler_richardson();\n",
      "          testcase.half_step();\n",
      "          testcase.rk2();\n",
      "          testcase.rk4();\n",
      "          return 0;\n",
      "        }  // end of main function\n"
     ]
    },
    {
     "cell_type": "markdown",
     "metadata": {},
     "source": [
      "### Classes for ODE methods\n",
      "\n",
      "In Fortran we would use"
     ]
    },
    {
     "cell_type": "markdown",
     "metadata": {},
     "source": [
      "        MODULE pendulum\n",
      "           USE CONSTANTS\n",
      "           IMPLICIT NONE\n",
      "           REAL(DP), PRIVATE :: Q, A_roof, omega_0, omega_roof,g\n",
      "           REAL(DP), PRIVATE :: y(2)         ! for the initial-values of phi and v\n",
      "           INTEGER, PRIVATE ::  n               ! how many steps\n",
      "           REAL(DP), PRIVATE :: delta_t,delta_t_roof\n",
      "        \n",
      "           CONTAINS\n",
      "            SUBROUTINE derivatives(..)\n",
      "            SUBROUTINE initialise(..)\n",
      "            SUBROUTINE euler(..)\n",
      "            SUBROUTINE euler_cromer(..)\n",
      "            SUBROUTINE midpoint(..)\n",
      "            etc\n",
      "        \n",
      "        END MODULE pendulum\n"
     ]
    },
    {
     "cell_type": "markdown",
     "metadata": {},
     "source": [
      "### The report: how to write a good scienfitic/technical report\n",
      "\n",
      "**What should it contain? A typical structure.**\n",
      "\n",
      "  * An introduction where you explain the aims and rationale for the physics case and what you have done. At the end of the introduction you should give a brief summary of the structure of the report\n",
      "\n",
      "  * Theoretical models and technicalities. This is the methods section.\n",
      "\n",
      "  * Results and discussion\n",
      "\n",
      "  * Conclusions and perspectives\n",
      "\n",
      "  * Appendix with extra material\n",
      "\n",
      "  * Bibliography Keep always a good log of what you do.\n",
      "\n",
      "\n",
      "\n",
      "\n",
      "\n",
      "### The report\n",
      "\n",
      "**What should I focus on? Introduction.**\n",
      "\n",
      "You don't need to answer all questions in a chronological order.  When you write the introduction you could focus on the following aspects\n",
      "\n",
      "  * Motivate the reader, the first part of the introduction gives always a motivation and tries to give the overarching ideas\n",
      "\n",
      "  * What I have done\n",
      "\n",
      "  * The structure of the report, how it is organized etc\n",
      "\n",
      "\n",
      "\n",
      "### The report\n",
      "\n",
      "**What should I focus on? Methods sections.**\n",
      "\n",
      "  * Describe the methods and algorithms\n",
      "\n",
      "  * You need to explain how you implemented the methods and also say something about the structure of your algorithm and present some parts of your code\n",
      "\n",
      "  * You should plug in some calculations to demonstrate your code, such as selected runs used to validate and verify your results. The latter is extremely important!! A reader needs to understand that your code reproduces selected benchmarks and reproduces previous results, either numerical and/or well-known closed form expressions.\n",
      "\n",
      "\n",
      "\n",
      "### The report\n",
      "\n",
      "**What should I focus on? Results.**\n",
      "\n",
      "  * Present your results\n",
      "\n",
      "  * Give a critical discussion of your work and place it in the correct context.\n",
      "\n",
      "  * Relate your work to other calculations/studies\n",
      "\n",
      "  * An eventual reader should be able to reproduce your calculations if she/he wants to do so. All input variables should be properly explained.\n",
      "\n",
      "  * Make sure that figures and tables should contain enough information in their captions, axis labels etc so that an eventual reader can gain a first impression of your work by studying figures and tables only.\n",
      "\n",
      "\n",
      "\n",
      "### The report\n",
      "\n",
      "**What should I focus on? Conclusions.**\n",
      "\n",
      "  * State your main findings and interpretations\n",
      "\n",
      "  * Try as far as possible to present perspectives for future work\n",
      "\n",
      "  * Try to discuss the pros and cons of the methods and possible improvements\n",
      "\n",
      "\n",
      "\n",
      "### The report\n",
      "\n",
      "**What should I focus on? additional material.**\n",
      "\n",
      "  * Additional calculations used to validate the codes\n",
      "\n",
      "  * Selected calculations, these can be listed with few comments\n",
      "\n",
      "  * Listing of the code if you feel this is necessary You can consider moving parts of the material from the methods section to the appendix. You can also place additional material on your webpage.\n",
      "\n",
      "\n",
      "\n",
      "### The report\n",
      "\n",
      "**What should I focus on? References.**\n",
      "\n",
      "  * Give always references to material you base your work on, either scientific articles/reports or books.\n",
      "\n",
      "  * *Wikipedia is not accepted as a scientific reference*. Under no circumstances.\n",
      "\n",
      "  * Refer to articles as: name(s) of author(s), journal, volume (boldfaced), page and year in parenthesis.\n",
      "\n",
      "  * Refer to books as: name(s) of author(s), title of book, publisher, place and year, eventual page numbers\n",
      "\n",
      "\n",
      "\n",
      "\n",
      "\n",
      "## Overview of week 41\n",
      "\n",
      "### Overview of week 41\n",
      "\n",
      "**Ordinary differential equations (ODEs) and Partial differential equations (PDEs).**\n",
      "\n",
      "  * Monday: Repetition from last week\n",
      "\n",
      "  * Adaptive Runge-Kutta methods and stiff equations\n",
      "\n",
      "  * Examples with codes\n",
      "\n",
      "  * Discussion of project 3\n",
      "\n",
      "  * Begin partial differential equations, discussion of the diffusion equation\n",
      "\n",
      "  * Tuesday:\n",
      "\n",
      "  * Diffusion equation in one spatial dimension, implicit and explicit scheme and the Crank-Nicolson scheme Chapter 9, ODEs with boundary conditions will not be discussed.\n",
      "\n",
      "\n",
      "\n",
      "### Student project 3: An object oriented example program for project 3\n",
      "\n",
      "**See <http://folk.uio.no/mhjensen/compphys/programs/chapter08/cpp/solarsystem>.**\n",
      "\n",
      "  * <http://folk.uio.no/mhjensen/compphys/programs/chapter08/cpp/solarsystem/solarsystem.cpp>\n",
      "\n",
      "  * <http://folk.uio.no/mhjensen/compphys/programs/chapter08/cpp/solarsystem/planet.cpp>\n",
      "\n",
      "  * <http://folk.uio.no/mhjensen/compphys/programs/chapter08/cpp/solarsystem/planet.h>\n",
      "\n",
      "  * <http://folk.uio.no/mhjensen/compphys/programs/chapter08/cpp/solarsystem/constants.cpp>\n",
      "\n",
      "  * <http://folk.uio.no/mhjensen/compphys/programs/chapter08/cpp/solarsystem/constants.h>\n",
      "\n",
      "\n",
      "\n",
      "### Adaptive methods\n",
      "\n",
      "In case the function to integrate varies slowly or fast in different integration domains, adaptive methods are normally used. One strategy is always to decrease the step size. As we have seen earlier, this leads to more CPU cycles and may lead to loss or numerical precision. An alternative is to use higher-order RK methods for example. However, this leads again to more cycles, furthermore, there is no guarantee that higher-order leads to an improved error.\n",
      "\n",
      "### Adaptive methods\n",
      "\n",
      "Assume the exact result is $\\tilde{x}$ and that we are using an RKM method. Suppose we run two calculations, one with $h$ (called $x_1$) and one with $h/2$ (called $x_2$). Then"
     ]
    },
    {
     "cell_type": "markdown",
     "metadata": {},
     "source": [
      "$$\n",
      "\\tilde{x}=x_1+Ch^{M+1}+O(h^{M+2}),\n",
      "$$"
     ]
    },
    {
     "cell_type": "markdown",
     "metadata": {},
     "source": [
      "and"
     ]
    },
    {
     "cell_type": "markdown",
     "metadata": {},
     "source": [
      "$$\n",
      "\\tilde{x}=x_2+2C(h/2)^{M+1}+O(h^{M+2}),\n",
      "$$"
     ]
    },
    {
     "cell_type": "markdown",
     "metadata": {},
     "source": [
      "with $C$ a constant. Note that we calculate two halves in the last equation. We get then"
     ]
    },
    {
     "cell_type": "markdown",
     "metadata": {},
     "source": [
      "$$\n",
      "|x_1-x_2| = Ch^{M+1}(1-\\frac{1}{2^M}).\n",
      "$$"
     ]
    },
    {
     "cell_type": "markdown",
     "metadata": {},
     "source": [
      "yielding"
     ]
    },
    {
     "cell_type": "markdown",
     "metadata": {},
     "source": [
      "$$\n",
      "C=\\frac{|x_1-x_2|}{(1-2^{-M})h^{M+1}}.\n",
      "$$"
     ]
    },
    {
     "cell_type": "markdown",
     "metadata": {},
     "source": [
      "We rewrite"
     ]
    },
    {
     "cell_type": "markdown",
     "metadata": {},
     "source": [
      "$$\n",
      "\\tilde{x}=x_2+\\epsilon+O((h)^{M+2}),\n",
      "$$"
     ]
    },
    {
     "cell_type": "markdown",
     "metadata": {},
     "source": [
      "with"
     ]
    },
    {
     "cell_type": "markdown",
     "metadata": {},
     "source": [
      "$$\n",
      "\\epsilon = \\frac{|x_1-x_2|}{2^M-1}.\n",
      "$$"
     ]
    },
    {
     "cell_type": "markdown",
     "metadata": {},
     "source": [
      "### Adaptive methods\n",
      "\n",
      "With RK4 the expressions become"
     ]
    },
    {
     "cell_type": "markdown",
     "metadata": {},
     "source": [
      "$$\n",
      "\\tilde{x}=x_2+\\epsilon+O((h)^{6}),\n",
      "$$"
     ]
    },
    {
     "cell_type": "markdown",
     "metadata": {},
     "source": [
      "with"
     ]
    },
    {
     "cell_type": "markdown",
     "metadata": {},
     "source": [
      "$$\n",
      "\\epsilon = \\frac{|x_1-x_2|}{15}.\n",
      "$$"
     ]
    },
    {
     "cell_type": "markdown",
     "metadata": {},
     "source": [
      "The estimate is one order higher than the original RK4. But this method is normally rather inefficient since it requires a lot of computations. We solve typically the equation three times at each time step.\n",
      "However, we can compare the estimate $\\epsilon$ with some by us given accuracy $\\xi$.\n",
      "We can then ask the question: what is, with a given $x_j$ and $t_j$, the largest possible step size $\\tilde{h}$ that leads to a truncation error below $\\xi$?\n",
      "We want"
     ]
    },
    {
     "cell_type": "markdown",
     "metadata": {},
     "source": [
      "$$\n",
      "C\\tilde{h} \\le \\xi,\n",
      "$$"
     ]
    },
    {
     "cell_type": "markdown",
     "metadata": {},
     "source": [
      "which leads to"
     ]
    },
    {
     "cell_type": "markdown",
     "metadata": {},
     "source": [
      "$$\n",
      "\\left(\\frac{\\tilde{h}}{h}\\right)^{M+1}\\frac{|x_1-x_2|}{(1-2^{-M})}\\le \\xi,\n",
      "$$"
     ]
    },
    {
     "cell_type": "markdown",
     "metadata": {},
     "source": [
      "meaning that"
     ]
    },
    {
     "cell_type": "markdown",
     "metadata": {},
     "source": [
      "$$\n",
      "\\tilde{h}=h\\left(\\frac{\\xi}{\\epsilon}\\right)^{1+1/M}.\n",
      "$$"
     ]
    },
    {
     "cell_type": "markdown",
     "metadata": {},
     "source": [
      "### Adaptive methods\n",
      "\n",
      "With"
     ]
    },
    {
     "cell_type": "markdown",
     "metadata": {},
     "source": [
      "$$\n",
      "\\tilde{h}=h\\left(\\frac{\\xi}{\\epsilon}\\right)^{1+1/M}.\n",
      "$$"
     ]
    },
    {
     "cell_type": "markdown",
     "metadata": {},
     "source": [
      "we can design the following algorithm:\n",
      "\n",
      "  * If the two answers are close, keep the approximation to $h$.\n",
      "\n",
      "  * If $\\epsilon > \\xi$ we need to decrease the step size in the next time step.\n",
      "\n",
      "  * If $\\epsilon < \\xi$ we need to increase the step size in the next time step. A much used algorithm is the so-called RKF45 which uses a combination of a fourth and fifth order RK methods.\n",
      "\n",
      "### Adaptive methods, RKF45\n",
      "\n",
      "At\n",
      "each step, two different approximations for the solution are made and compared. If the\n",
      "two answers are in close agreement, the approximation is accepted. If the two answers\n",
      "do not agree to a specified accuracy, the step size is reduced. If the answers agree to\n",
      "more significant digits than required, the step size is increased.\n",
      "Each step requires the use of the following six values:"
     ]
    },
    {
     "cell_type": "markdown",
     "metadata": {},
     "source": [
      "$$\n",
      "k_1 = h f (t_k , y_k ),\n",
      "$$"
     ]
    },
    {
     "cell_type": "markdown",
     "metadata": {},
     "source": [
      "$$\n",
      "k_2 = h f (t_k + \\frac{1}{4}h, y_k + \\frac{1}{4}k_1) ,\n",
      "$$"
     ]
    },
    {
     "cell_type": "markdown",
     "metadata": {},
     "source": [
      "$$\n",
      "k_3 = h f (t_k + \\frac{3}{8}h, y_k + \\frac{3}{32}k_1 + \\frac{9}{32}k_2) ,\n",
      "$$"
     ]
    },
    {
     "cell_type": "markdown",
     "metadata": {},
     "source": [
      "$$\n",
      "k_4 = h f (t_k + \\frac{12}{13}h, y_k + \\frac{1932}{2197}k_1 + \\frac{7200}{2197}k_2+\\frac{7296}{2197}k_3),\n",
      "$$"
     ]
    },
    {
     "cell_type": "markdown",
     "metadata": {},
     "source": [
      "$$\n",
      "k_5 = h f (t_k + h, y_k + \\frac{439}{216}k_1 -8k_2+ \\frac{3680}{513}k_3+\\frac{845}{4104}k_4),\n",
      "$$"
     ]
    },
    {
     "cell_type": "markdown",
     "metadata": {},
     "source": [
      "$$\n",
      "k_6 = h f (t_k + \\frac{1}{2}h, y_k - \\frac{8}{27}k_1 + 2k_2-\\frac{3544}{2565}k_2+\\frac{1859}{4104}k_4-+\\frac{11}{40}k_5).\n",
      "$$"
     ]
    },
    {
     "cell_type": "markdown",
     "metadata": {},
     "source": [
      "### Adaptive methods, RKF45\n",
      "\n",
      "Then an approximation to the solution of the ODE is made using a Runge-Kutta\n",
      "method of order 4:"
     ]
    },
    {
     "cell_type": "markdown",
     "metadata": {},
     "source": [
      "$$\n",
      "y_{k+1} = y_k  + \\frac{25}{216}k_1+\\frac{1408}{2565}k_3 +\\frac{2197}{4101}k_4-\\frac{1}{5}k_5,\n",
      "$$"
     ]
    },
    {
     "cell_type": "markdown",
     "metadata": {},
     "source": [
      "where the four function values $k_1$ , $k_3$ , $k_4$ , and $k_5$ are used. Notice that $k_2$ is not used  here.\n",
      "A better value for the solution is determined using a Runge-Kutta\n",
      "method of order 5:"
     ]
    },
    {
     "cell_type": "markdown",
     "metadata": {},
     "source": [
      "$$\n",
      "z_{k+1} = y_k + \\frac{16}{135}k_1+\\frac{6656}{12825}k_3 +\\frac{28561}{56430}k_4-\\frac{9}{50}k_5+\\frac{2}{55}k_6.\n",
      "$$"
     ]
    },
    {
     "cell_type": "markdown",
     "metadata": {},
     "source": [
      "The optimal time step $\\alpha h$ is then determined by"
     ]
    },
    {
     "cell_type": "markdown",
     "metadata": {},
     "source": [
      "$$\n",
      "\\alpha = \\left( \\frac{\\xi h}{2|z_{k+1}-y_{k+1}|}\\right)^{1/4},\n",
      "$$"
     ]
    },
    {
     "cell_type": "markdown",
     "metadata": {},
     "source": [
      "with $\\xi$ our defined tolerance.\n",
      "\n",
      "### Partial Differential Equations, chapter 10\n",
      "\n",
      "General 2+1-dim PDE"
     ]
    },
    {
     "cell_type": "markdown",
     "metadata": {},
     "source": [
      "$$\n",
      "A(x,y)\\frac{\\partial^2 U}{\\partial x^2}+B(x,y)\\frac{\\partial^2 U}{\\partial x\\partial y}\n",
      "+C(x,y)\\frac{\\partial^2 U}{\\partial y^2}=F(x,y,U,\\frac{\\partial U}{\\partial x}, \\frac{\\partial U}{\\partial y})\n",
      "$$"
     ]
    },
    {
     "cell_type": "markdown",
     "metadata": {},
     "source": [
      "Examples"
     ]
    },
    {
     "cell_type": "markdown",
     "metadata": {},
     "source": [
      "$$\n",
      "B=C=0,\n",
      "$$"
     ]
    },
    {
     "cell_type": "markdown",
     "metadata": {},
     "source": [
      "give e.g., 1+1-dim diffusion equation"
     ]
    },
    {
     "cell_type": "markdown",
     "metadata": {},
     "source": [
      "$$\n",
      "A\\frac{\\partial^2 U}{\\partial x^2}=\\frac{\\partial U}{\\partial t}\n",
      "$$"
     ]
    },
    {
     "cell_type": "markdown",
     "metadata": {},
     "source": [
      "and is an example of a parabolic PDE\n",
      "\n",
      "### Partial Differential Equations\n",
      "\n",
      "More examples\n",
      "2+1-dim wave equation"
     ]
    },
    {
     "cell_type": "markdown",
     "metadata": {},
     "source": [
      "$$\n",
      "A\\frac{\\partial^2 U}{\\partial x^2}+C\\frac{\\partial^2 U}{\\partial y^2}=\\frac{\\partial^2 U}{\\partial t^2}\n",
      "$$"
     ]
    },
    {
     "cell_type": "markdown",
     "metadata": {},
     "source": [
      "Poisson's (Laplace's $\\rho =0$)  equation"
     ]
    },
    {
     "cell_type": "markdown",
     "metadata": {},
     "source": [
      "$$\n",
      "\\nabla^2 U({\\bf x})=-4\\pi \\rho({\\bf x}).\n",
      "$$"
     ]
    },
    {
     "cell_type": "markdown",
     "metadata": {},
     "source": [
      "### Heat/Diffusion Equation\n",
      "\n",
      "Diffusion equation"
     ]
    },
    {
     "cell_type": "markdown",
     "metadata": {},
     "source": [
      "$$\n",
      "\\frac{\\kappa}{C\\rho}\\nabla^2 T({\\bf x},t) =\\frac{\\partial T({\\bf x},t)}{\\partial t}\n",
      "$$"
     ]
    },
    {
     "cell_type": "markdown",
     "metadata": {},
     "source": [
      "$$\n",
      "\\frac{\\kappa}{C\\rho({\\bf x},t)}\\nabla^2 T({\\bf x},t) =\\frac{\\partial T({\\bf x},t)}{\\partial t}\n",
      "$$"
     ]
    },
    {
     "cell_type": "markdown",
     "metadata": {},
     "source": [
      "### Explicit Scheme for the Diffusion Equation\n",
      "\n",
      "In one dimension we have thus the following equation"
     ]
    },
    {
     "cell_type": "markdown",
     "metadata": {},
     "source": [
      "$$\n",
      "\\nabla^2 u(x,t) =\\frac{\\partial u(x,t)}{\\partial t},\n",
      "$$"
     ]
    },
    {
     "cell_type": "markdown",
     "metadata": {},
     "source": [
      "or"
     ]
    },
    {
     "cell_type": "markdown",
     "metadata": {},
     "source": [
      "$$\n",
      "u_{xx} = u_t,\n",
      "$$"
     ]
    },
    {
     "cell_type": "markdown",
     "metadata": {},
     "source": [
      "with initial conditions, i.e., the conditions at $t=0$,"
     ]
    },
    {
     "cell_type": "markdown",
     "metadata": {},
     "source": [
      "$$\n",
      "u(x,0)= g(x) \\quad 0 \\le x \\le L\n",
      "$$"
     ]
    },
    {
     "cell_type": "markdown",
     "metadata": {},
     "source": [
      "with $L=1$ the length of the $x$-region of interest. The\n",
      "boundary conditions are"
     ]
    },
    {
     "cell_type": "markdown",
     "metadata": {},
     "source": [
      "$$\n",
      "u(0,t)= a(t) \\quad t \\ge 0,\n",
      "$$"
     ]
    },
    {
     "cell_type": "markdown",
     "metadata": {},
     "source": [
      "and"
     ]
    },
    {
     "cell_type": "markdown",
     "metadata": {},
     "source": [
      "$$\n",
      "u(L,t)= b(t) \\quad t \\ge 0,\n",
      "$$"
     ]
    },
    {
     "cell_type": "markdown",
     "metadata": {},
     "source": [
      "where $a(t)$ and $b(t)$ are two functions which depend on time only, while\n",
      "$g(x)$ depends only on the position $x$.\n",
      "\n",
      "### Explicit Scheme, Forward Euler"
     ]
    },
    {
     "cell_type": "markdown",
     "metadata": {},
     "source": [
      "$$\n",
      "u_t\\approx \\frac{u_{i,j+1}-u_{i,j}}{\\Delta t},\n",
      "$$"
     ]
    },
    {
     "cell_type": "markdown",
     "metadata": {},
     "source": [
      "and"
     ]
    },
    {
     "cell_type": "markdown",
     "metadata": {},
     "source": [
      "$$\n",
      "u_{xx}\\approx \\frac{u_{i+i,j}-2u_{i,j}+u_{i-1,j}}{\\Delta x^2}.\n",
      "$$"
     ]
    },
    {
     "cell_type": "markdown",
     "metadata": {},
     "source": [
      "The one-dimensional diffusion equation can then be rewritten in its\n",
      "discretized version as"
     ]
    },
    {
     "cell_type": "markdown",
     "metadata": {},
     "source": [
      "$$\n",
      "\\frac{u_{i,j+1}-u_{i,j}}{\\Delta t}=\\frac{u_{i+i,j}-2u_{i,j}+u_{i-1,j}}{\\Delta x^2}.\n",
      "$$"
     ]
    },
    {
     "cell_type": "markdown",
     "metadata": {},
     "source": [
      "Defining $\\alpha = \\Delta t/\\Delta x^2$ results in the explicit scheme"
     ]
    },
    {
     "cell_type": "markdown",
     "metadata": {},
     "source": [
      "<!-- Equation labels as ordinary links -->\n",
      "<a name=\"eq:explicitpde\"/>\n",
      "\n",
      "$$\n",
      "\\label{eq:explicitpde} \\tag{18}\n",
      " u_{i,j+1}= \\alpha u_{i-1,j}+(1-2\\alpha)u_{i,j}+\\alpha u_{i+1,j}.\n",
      "$$"
     ]
    },
    {
     "cell_type": "markdown",
     "metadata": {},
     "source": [
      "### Explicit Scheme"
     ]
    },
    {
     "cell_type": "markdown",
     "metadata": {},
     "source": [
      "$$\n",
      "V_{j+1} = AV_{j}\n",
      "$$"
     ]
    },
    {
     "cell_type": "markdown",
     "metadata": {},
     "source": [
      "with"
     ]
    },
    {
     "cell_type": "markdown",
     "metadata": {},
     "source": [
      "$$\n",
      "A=\\left(\\begin{array}{cccc}1-2\\alpha&\\alpha&0& 0\\dots\\\\\n",
      "                            \\alpha&1-2\\alpha&\\alpha & 0\\dots \\\\\n",
      "                            \\dots & \\dots & \\dots & \\dots \\\\\n",
      "                      0\\dots & 0\\dots &\\alpha& 1-2\\alpha\\end{array}\n",
      "\\right)\n",
      "$$"
     ]
    },
    {
     "cell_type": "markdown",
     "metadata": {},
     "source": [
      "yielding"
     ]
    },
    {
     "cell_type": "markdown",
     "metadata": {},
     "source": [
      "$$\n",
      "V_{j+1} = AV_{j}=\\dots = A^jV_0\n",
      "$$"
     ]
    },
    {
     "cell_type": "markdown",
     "metadata": {},
     "source": [
      "The explicit scheme, although being rather simple to implement has a very weak\n",
      "stability condition given by"
     ]
    },
    {
     "cell_type": "markdown",
     "metadata": {},
     "source": [
      "$$\n",
      "\\Delta t/\\Delta x^2 \\le 1/2\n",
      "$$"
     ]
    },
    {
     "cell_type": "markdown",
     "metadata": {},
     "source": [
      "### Implicit Scheme\n",
      "\n",
      "Choose now"
     ]
    },
    {
     "cell_type": "markdown",
     "metadata": {},
     "source": [
      "$$\n",
      "u_t\\approx \\frac{u(x_i,t_j)-u(x_i,t_j-k)}{k}\n",
      "$$"
     ]
    },
    {
     "cell_type": "markdown",
     "metadata": {},
     "source": [
      "and"
     ]
    },
    {
     "cell_type": "markdown",
     "metadata": {},
     "source": [
      "$$\n",
      "u_{xx}\\approx \\frac{u(x_i+h,t_j)-2u(x_i,t_j)+u(x_i-h,t_j)}{h^2}\n",
      "$$"
     ]
    },
    {
     "cell_type": "markdown",
     "metadata": {},
     "source": [
      "Define $\\alpha = k/h^2$. Gives"
     ]
    },
    {
     "cell_type": "markdown",
     "metadata": {},
     "source": [
      "$$\n",
      "u_{i,j-1}= -\\alpha u_{i-1,j}+(1-2\\alpha)u_{i,j}-\\alpha u_{i+1,j}\n",
      "$$"
     ]
    },
    {
     "cell_type": "markdown",
     "metadata": {},
     "source": [
      "Here $u_{i,j-1}$ is the only unknown quantity.\n",
      "\n",
      "Have"
     ]
    },
    {
     "cell_type": "markdown",
     "metadata": {},
     "source": [
      "$$\n",
      "AV_{j} = V_{j-1}\n",
      "$$"
     ]
    },
    {
     "cell_type": "markdown",
     "metadata": {},
     "source": [
      "with"
     ]
    },
    {
     "cell_type": "markdown",
     "metadata": {},
     "source": [
      "$$\n",
      "A=\\left(\\begin{array}{cccc}1+2\\alpha&-\\alpha&0& 0\\dots\\\\\n",
      "                            -\\alpha&1+2\\alpha&-\\alpha & 0\\dots \\\\\n",
      "                            \\dots & \\dots & \\dots & \\dots \\\\\n",
      "                      0\\dots & 0\\dots &-\\alpha& 1+2\\alpha\\end{array}\n",
      "\\right)\n",
      "$$"
     ]
    },
    {
     "cell_type": "markdown",
     "metadata": {},
     "source": [
      "which gives"
     ]
    },
    {
     "cell_type": "markdown",
     "metadata": {},
     "source": [
      "$$\n",
      "V_{j} = A^{-1}V_{j-1}=\\dots = A^{-j}V_0\n",
      "$$"
     ]
    },
    {
     "cell_type": "markdown",
     "metadata": {},
     "source": [
      "Need only to invert a matrix\n",
      "\n",
      "### Brute Force Implicit Scheme, inefficient algo"
     ]
    },
    {
     "cell_type": "markdown",
     "metadata": {},
     "source": [
      "        !  now invert the matrix\n",
      "               CALL matinv( a, ndim, det)\n",
      "               DO i = 1, m\n",
      "                  DO l=1, ndim\n",
      "                     u(l) = DOT_PRODUCT(a(l,:),v(:))\n",
      "                  ENDDO\n",
      "                  v = u\n",
      "                  t = i*k\n",
      "                  DO  j=1, ndim\n",
      "                      WRITE(6,*) t, j*h, v(j)\n",
      "                  ENDDO\n",
      "               ENDDO\n"
     ]
    },
    {
     "cell_type": "markdown",
     "metadata": {},
     "source": [
      "### Brief Summary of the  Explicit and the Implicit Methods\n",
      "\n",
      "Explicit is straightforward to code, but avoid doing the matrix vector\n",
      "multiplication since the matrix is tridiagonal."
     ]
    },
    {
     "cell_type": "markdown",
     "metadata": {},
     "source": [
      "$$\n",
      "u_t\\approx \\frac{u(x,t+\\Delta t)-u(x,t)}{\\Delta t}=\\frac{u(x_i,t_j+\\Delta t)-u(x_i,t_j)}{\\Delta t}\n",
      "$$"
     ]
    },
    {
     "cell_type": "markdown",
     "metadata": {},
     "source": [
      "The implicit method can be applied in a brute force way as well as long as the\n",
      "element of the matrix are constants."
     ]
    },
    {
     "cell_type": "markdown",
     "metadata": {},
     "source": [
      "$$\n",
      "u_t\\approx \\frac{u(x,t)-u(x,t-\\Delta t)}{\\Delta t}=\\frac{u(x_i,t_j)-u(x_i,t_j-\\Delta t)}{\\Delta t}\n",
      "$$"
     ]
    },
    {
     "cell_type": "markdown",
     "metadata": {},
     "source": [
      "However, it is more efficient to use a linear algebra solver for tridiagonal matrices.\n",
      "\n",
      "### Crank-Nicolson"
     ]
    },
    {
     "cell_type": "markdown",
     "metadata": {},
     "source": [
      "$$\n",
      "\\frac{\\theta}{\\Delta x^2}\\left(u_{i-1,j}-2u_{i,j}+u_{i+1,j}\\right)+\n",
      "  \\frac{1-\\theta}{\\Delta x^2}\\left(u_{i+1,j-1}-2u_{i,j-1}+u_{i-1,j-1}\\right)=\n",
      "  \\frac{1}{\\Delta t}\\left(u_{i,j}-u_{i,j-1}\\right),\n",
      "$$"
     ]
    },
    {
     "cell_type": "markdown",
     "metadata": {},
     "source": [
      "which for $\\theta=0$ yields the forward formula for the first derivative and\n",
      "the explicit scheme, while $\\theta=1$ yields the backward formula and the implicit\n",
      "scheme. These two schemes are called the backward and forward Euler schemes, respectively.\n",
      "For $\\theta = 1/2$ we obtain a new scheme after its inventors, Crank and Nicolson.\n",
      "\n",
      "### Crank Nicolson\n",
      "\n",
      "Using our previous definition of $\\alpha=\\Delta t/\\Delta x^2$ we can rewrite the latter\n",
      "equation as"
     ]
    },
    {
     "cell_type": "markdown",
     "metadata": {},
     "source": [
      "$$\n",
      "-\\alpha u_{i-1,j}+\\left(2+2\\alpha\\right)u_{i,j}-\\alpha u_{i+1,j}=\n",
      "  \\alpha u_{i-1,j-1}+\\left(2-2\\alpha\\right)u_{i,j-1}+\\alpha u_{i+1,j-1},\n",
      "$$"
     ]
    },
    {
     "cell_type": "markdown",
     "metadata": {},
     "source": [
      "or in matrix-vector form as"
     ]
    },
    {
     "cell_type": "markdown",
     "metadata": {},
     "source": [
      "$$\n",
      "\\left(2\\hat{I}+\\alpha\\hat{B}\\right)V_{j}=\n",
      "  \\left(2\\hat{I}-\\alpha\\hat{B}\\right)V_{j-1},\n",
      "$$"
     ]
    },
    {
     "cell_type": "markdown",
     "metadata": {},
     "source": [
      "where the vector $V_{j}$ is the same as defined in the implicit case while the matrix\n",
      "$\\hat{B}$ is"
     ]
    },
    {
     "cell_type": "markdown",
     "metadata": {},
     "source": [
      "$$\n",
      "\\hat{B}=\\left(\\begin{array}{cccc}2&-1&0& 0\\dots\\\\\n",
      "                            -1&2&-1 & 0\\dots \\\\\n",
      "                            \\dots & \\dots & \\dots & \\dots \\\\\n",
      "                      0\\dots & 0\\dots && 2\\end{array}\n",
      "\\right)\n",
      "$$"
     ]
    },
    {
     "cell_type": "markdown",
     "metadata": {},
     "source": [
      "### Analysis of diffusion equation\n",
      "\n",
      "We start with the forward Euler scheme and Taylor expand $u(x,t+\\Delta t)$,\n",
      "$u(x+\\Delta x, t)$ and $u(x-\\Delta x,t)$"
     ]
    },
    {
     "cell_type": "markdown",
     "metadata": {},
     "source": [
      "$$\n",
      "\\begin{equation}\n",
      "u(x+\\Delta x,t)=u(x,t)+\\frac{\\partial u(x,t)}{\\partial x} \\Delta x+\\frac{\\partial^2 u(x,t)}{2\\partial x^2}\\Delta x^2+\\mathcal{O}(\\Delta x^3), \\nonumber\n",
      "\\end{equation}\n",
      "$$"
     ]
    },
    {
     "cell_type": "markdown",
     "metadata": {},
     "source": [
      "$$\n",
      "\\begin{equation} \n",
      "u(x-\\Delta x,t)=u(x,t)-\\frac{\\partial u(x,t)}{\\partial x}\\Delta x+\\frac{\\partial^2 u(x,t)}{2\\partial x^2} \\Delta x^2+\\mathcal{O}(\\Delta x^3), \\nonumber\n",
      "\\end{equation}\n",
      "$$"
     ]
    },
    {
     "cell_type": "markdown",
     "metadata": {},
     "source": [
      "<!-- Equation labels as ordinary links -->\n",
      "<a name=\"eq:deltat0\"/>\n",
      "\n",
      "$$\n",
      "\\begin{equation} \n",
      "u(x,t+\\Delta t)=u(x,t)+\\frac{\\partial u(x,t)}{\\partial t}\\Delta t+  \\mathcal{O}(\\Delta t^2).\n",
      "\\label{eq:deltat0} \\tag{19}\n",
      "\\end{equation}\n",
      "$$"
     ]
    },
    {
     "cell_type": "markdown",
     "metadata": {},
     "source": [
      "### Analysis of diffusion equation\n",
      "\n",
      "With these Taylor expansions the approximations for the derivatives takes the form"
     ]
    },
    {
     "cell_type": "markdown",
     "metadata": {},
     "source": [
      "$$\n",
      "\\begin{equation}\n",
      "\\left[\\frac{\\partial u(x,t)}{\\partial t}\\right]_{\\text{approx}}\n",
      " =\\frac{\\partial u(x,t)}{\\partial t}+\\mathcal{O}(\\Delta t) , \\nonumber\n",
      "\\end{equation}\n",
      "$$"
     ]
    },
    {
     "cell_type": "markdown",
     "metadata": {},
     "source": [
      "<!-- Equation labels as ordinary links -->\n",
      "<a name=\"eq:diesonne\"/>\n",
      "\n",
      "$$\n",
      "\\begin{equation} \n",
      "\\left[\\frac{\\partial^2 u(x,t)}{\\partial x^2}\\right]_{\\text{approx}}\n",
      " =\\frac{\\partial^2 u(x,t)}{\\partial x^2}+\\mathcal{O}(\\Delta x^2).\n",
      "\\label{eq:diesonne} \\tag{20}\n",
      "\\end{equation}\n",
      "$$"
     ]
    },
    {
     "cell_type": "markdown",
     "metadata": {},
     "source": [
      "It is easy to convince oneself that the backward Euler method must have the same truncation errors as the forward Euler scheme.\n",
      "\n",
      "### Analysis of diffusion equation\n",
      "\n",
      "For the Crank-Nicolson scheme we also need to Taylor expand $u(x+\\Delta x, t+\\Delta t)$ and $u(x-\\Delta x, t+\\Delta t)$ around $t'=t+\\Delta t/2$."
     ]
    },
    {
     "cell_type": "markdown",
     "metadata": {},
     "source": [
      "$$\n",
      "\\begin{equation}\n",
      "u(x+\\Delta x, t+\\Delta t)=u(x,t')+\\frac{\\partial u(x,t')}{\\partial x}\\Delta x+\\frac{\\partial u(x,t')}{\\partial t} \\frac{\\Delta t}{2} +\\frac{\\partial^2 u(x,t')}{2\\partial x^2}\\Delta x^2+\\frac{\\partial^2 u(x,t')}{2\\partial t^2}\\frac{\\Delta t^2}{4} +\\notag \n",
      "\\end{equation}\n",
      "$$"
     ]
    },
    {
     "cell_type": "markdown",
     "metadata": {},
     "source": [
      "$$\n",
      "\\begin{equation}   \\nonumber\n",
      "\\frac{\\partial^2 u(x,t')}{\\partial x\\partial t}\\frac{\\Delta t}{2} \\Delta x+ \\mathcal{O}(\\Delta t^3)\n",
      "\\end{equation}\n",
      "$$"
     ]
    },
    {
     "cell_type": "markdown",
     "metadata": {},
     "source": [
      "$$\n",
      "\\begin{equation}  \\nonumber\n",
      "u(x-\\Delta x, t+\\Delta t)=u(x,t')-\\frac{\\partial u(x,t')}{\\partial x}\\Delta x+\\frac{\\partial u(x,t')}{\\partial t} \\frac{\\Delta t}{2} +\\frac{\\partial^2 u(x,t')}{2\\partial x^2}\\Delta x^2+\\frac{\\partial^2 u(x,t')}{2\\partial t^2}\\frac{\\Delta t^2}{4} - \\notag\n",
      "\\end{equation}\n",
      "$$"
     ]
    },
    {
     "cell_type": "markdown",
     "metadata": {},
     "source": [
      "$$\n",
      "\\begin{equation}   \\nonumber\n",
      "\\frac{\\partial^2 u(x,t')}{\\partial x\\partial t}\\frac{\\Delta t}{2} \\Delta x+ \\mathcal{O}(\\Delta t^3)\n",
      "\\end{equation}\n",
      "$$"
     ]
    },
    {
     "cell_type": "markdown",
     "metadata": {},
     "source": [
      "$$\n",
      "\\begin{equation} \n",
      "u(x+\\Delta x,t)=u(x,t')+\\frac{\\partial u(x,t')}{\\partial x}\\Delta x-\\frac{\\partial u(x,t')}{\\partial t} \\frac{\\Delta t}{2} +\\frac{\\partial^2 u(x,t')}{2\\partial x^2}\\Delta x^2+\\frac{\\partial^2 u(x,t')}{2\\partial t^2}\\frac{\\Delta t^2}{4} -\\notag \n",
      "\\end{equation}\n",
      "$$"
     ]
    },
    {
     "cell_type": "markdown",
     "metadata": {},
     "source": [
      "$$\n",
      "\\begin{equation}   \\nonumber\n",
      "\\frac{\\partial^2 u(x,t')}{\\partial x\\partial t}\\frac{\\Delta t}{2} \\Delta x+ \\mathcal{O}(\\Delta t^3)\n",
      "\\end{equation}\n",
      "$$"
     ]
    },
    {
     "cell_type": "markdown",
     "metadata": {},
     "source": [
      "$$\n",
      "\\begin{equation}   \\nonumber\n",
      "u(x-\\Delta x,t)=u(x,t')-\\frac{\\partial u(x,t')}{\\partial x}\\Delta x-\\frac{\\partial u(x,t')}{\\partial t} \\frac{\\Delta t}{2} +\\frac{\\partial^2 u(x,t')}{2\\partial x^2}\\Delta x^2+\\frac{\\partial^2 u(x,t')}{2\\partial t^2}\\frac{\\Delta t^2}{4} +\\notag \n",
      "\\end{equation}\n",
      "$$"
     ]
    },
    {
     "cell_type": "markdown",
     "metadata": {},
     "source": [
      "$$\n",
      "\\begin{equation}   \\nonumber\n",
      "\\frac{\\partial^2 u(x,t')}{\\partial x\\partial t}\\frac{\\Delta t}{2} \\Delta x+ \\mathcal{O}(\\Delta t^3)\n",
      "\\end{equation}\n",
      "$$"
     ]
    },
    {
     "cell_type": "markdown",
     "metadata": {},
     "source": [
      "$$\n",
      "\\begin{equation}   \\nonumber\n",
      "u(x,t+\\Delta t)=u(x,t')+\\frac{\\partial u(x,t')}{\\partial t}\\frac{\\Delta_t}{2} +\\frac{\\partial ^2 u(x,t')}{2\\partial t^2}\\Delta t^2 + \\mathcal{O}(\\Delta t^3)  \\nonumber\n",
      "\\end{equation}\n",
      "$$"
     ]
    },
    {
     "cell_type": "markdown",
     "metadata": {},
     "source": [
      "<!-- Equation labels as ordinary links -->\n",
      "<a name=\"eq:deltat\"/>\n",
      "\n",
      "$$\n",
      "\\begin{equation} \n",
      "u(x,t)=u(x,t')-\\frac{\\partial u(x,t')}{\\partial t}\\frac{\\Delta t}{2}+\\frac{\\partial ^2 u(x,t')}{2\\partial t^2}\\Delta t^2 + \\mathcal{O}(\\Delta t^3)\n",
      "\\label{eq:deltat} \\tag{21}\n",
      "\\end{equation}\n",
      "$$"
     ]
    },
    {
     "cell_type": "markdown",
     "metadata": {},
     "source": [
      "### Analysis of diffusion equation\n",
      "\n",
      "We now insert these expansions in the approximations for the derivatives to find"
     ]
    },
    {
     "cell_type": "markdown",
     "metadata": {},
     "source": [
      "$$\n",
      "\\begin{equation}\n",
      "\\left[\\frac{\\partial u(x,t')}{\\partial t}\\right]_{\\text{approx}} =\\frac{\\partial u(x,t')}{\\partial t}+\\mathcal{O}(\\Delta t^2) , \n",
      "\\end{equation}\n",
      "$$"
     ]
    },
    {
     "cell_type": "markdown",
     "metadata": {},
     "source": [
      "$$\n",
      "\\begin{equation}  \\nonumber\n",
      "\\left[\\frac{\\partial^2 u(x,t')}{\\partial x^2}\\right]_{\\text{approx}}=\\frac{\\partial^2 u(x,t')}{\\partial x^2}+\\mathcal{O}(\\Delta x^2).\n",
      "\\end{equation}\n",
      "$$"
     ]
    },
    {
     "cell_type": "markdown",
     "metadata": {},
     "source": [
      "### Analysis of diffusion equation\n",
      "\n",
      "The following table summarizes the three methods.\n",
      "\n",
      "<table border=\"1\">\n",
      "<thead>\n",
      "<tr><th align=\"center\">               *Scheme:*                </th> <th align=\"center\">          *Truncation Error:*           </th> <th align=\"center\">       *Stability requirements:*        </th> </tr>\n",
      "</thead>\n",
      "<tbody>\n",
      "<tr><td align=\"left\">   Crank-Nicolson                              </td> <td align=\"left\">   $\\mathcal{O}(\\Delta x^2,\\Delta t^2)$        </td> <td align=\"left\">   Stable for all $\\Delta t$ and $\\Delta x$    </td> </tr>\n",
      "<tr><td align=\"left\">   Backward Euler                              </td> <td align=\"left\">   $\\mathcal{O}(\\Delta x^2,\\Delta t)$          </td> <td align=\"left\">   Stable for all $\\Delta t$ and $\\Delta x$    </td> </tr>\n",
      "<tr><td align=\"left\">   Forward Euler                               </td> <td align=\"left\">   $\\mathcal{O}(\\Delta x^2,\\Delta t)$          </td> <td align=\"left\">   $\\Delta t\\leq \\frac{1}{2}\\Delta x^2$        </td> </tr>\n",
      "</tbody>\n",
      "</table>\n",
      "\n",
      "### Analysis of diffusion equation\n",
      "\n",
      "It cannot be repeated enough, it is always useful to find cases where one can compare the numerics\n",
      "and the developed algorithms and codes with analytic solution.  The above case is also particularly simple.\n",
      "We have the following partial differential equation"
     ]
    },
    {
     "cell_type": "markdown",
     "metadata": {},
     "source": [
      "$$\n",
      "\\nabla^2 u(x,t) =\\frac{\\partial u(x,t)}{\\partial t},\n",
      "$$"
     ]
    },
    {
     "cell_type": "markdown",
     "metadata": {},
     "source": [
      "with initial conditions"
     ]
    },
    {
     "cell_type": "markdown",
     "metadata": {},
     "source": [
      "$$\n",
      "u(x,0)= g(x) \\quad 0 < x < L.\n",
      "$$"
     ]
    },
    {
     "cell_type": "markdown",
     "metadata": {},
     "source": [
      "### Analysis of diffusion equation\n",
      "\n",
      "The\n",
      "boundary conditions are"
     ]
    },
    {
     "cell_type": "markdown",
     "metadata": {},
     "source": [
      "$$\n",
      "u(0,t)= 0 \\quad t \\ge 0,  \\quad  u(L,t)= 0 \\quad t \\ge 0,\n",
      "$$"
     ]
    },
    {
     "cell_type": "markdown",
     "metadata": {},
     "source": [
      "We assume that we have solutions of the form (separation of variable)"
     ]
    },
    {
     "cell_type": "markdown",
     "metadata": {},
     "source": [
      "$$\n",
      "\\begin{equation}\n",
      "u(x,t)=F(x)G(t),\n",
      "\\end{equation}\n",
      "$$"
     ]
    },
    {
     "cell_type": "markdown",
     "metadata": {},
     "source": [
      "which inserted in the partial differential equation results in"
     ]
    },
    {
     "cell_type": "markdown",
     "metadata": {},
     "source": [
      "$$\n",
      "\\begin{equation}\n",
      "\\frac{F''}{F}=\\frac{G'}{G},\n",
      "\\end{equation}\n",
      "$$"
     ]
    },
    {
     "cell_type": "markdown",
     "metadata": {},
     "source": [
      "where the derivative is with respect to $x$ on the left hand side and with respect to $t$ on right hand side.\n",
      "This equation  should hold for all $x$ and $t$. We must require the rhs and lhs to be equal to a constant.\n",
      "\n",
      "### Analysis of diffusion equation\n",
      "\n",
      "We call this constant $-\\lambda^2$. This gives us the two differential equations,"
     ]
    },
    {
     "cell_type": "markdown",
     "metadata": {},
     "source": [
      "$$\n",
      "\\begin{equation}\n",
      "F''+\\lambda^2F=0;  \\quad G'=-\\lambda^2G,\n",
      "\\end{equation}\n",
      "$$"
     ]
    },
    {
     "cell_type": "markdown",
     "metadata": {},
     "source": [
      "with general solutions"
     ]
    },
    {
     "cell_type": "markdown",
     "metadata": {},
     "source": [
      "$$\n",
      "\\begin{equation}\n",
      "F(x)=A\\sin(\\lambda x)+B\\cos(\\lambda x); \\quad G(t)=Ce^{-\\lambda^2t}.\n",
      "\\end{equation}\n",
      "$$"
     ]
    },
    {
     "cell_type": "markdown",
     "metadata": {},
     "source": [
      "### Analysis of diffusion equation\n",
      "\n",
      "To satisfy the boundary conditions we require $B=0$ and $\\lambda=n\\pi/L$. One solution is therefore found to be"
     ]
    },
    {
     "cell_type": "markdown",
     "metadata": {},
     "source": [
      "$$\n",
      "\\begin{equation}\n",
      "u(x,t)=A_n\\sin(n\\pi x/L)e^{-n^2\\pi^2 t/L^2}.\n",
      "\\end{equation}\n",
      "$$"
     ]
    },
    {
     "cell_type": "markdown",
     "metadata": {},
     "source": [
      "But there are infinitely many  possible $n$ values (infinite number of solutions). Moreover,\n",
      "the diffusion equation is linear and because of this we know that a superposition of solutions\n",
      "will also be a solution of the equation. We may therefore write"
     ]
    },
    {
     "cell_type": "markdown",
     "metadata": {},
     "source": [
      "$$\n",
      "\\begin{equation}\n",
      "u(x,t)=\\sum_{n=1}^{\\infty} A_n \\sin(n\\pi x/L) e^{-n^2\\pi^2 t/L^2}.\n",
      "\\end{equation}\n",
      "$$"
     ]
    },
    {
     "cell_type": "markdown",
     "metadata": {},
     "source": [
      "### Analysis of diffusion equation\n",
      "\n",
      "The coefficient $A_n$ is in turn determined from the initial condition. We require"
     ]
    },
    {
     "cell_type": "markdown",
     "metadata": {},
     "source": [
      "$$\n",
      "\\begin{equation}\n",
      "u(x,0)=g(x)=\\sum_{n=1}^{\\infty} A_n \\sin(n\\pi x/L).\n",
      "\\end{equation}\n",
      "$$"
     ]
    },
    {
     "cell_type": "markdown",
     "metadata": {},
     "source": [
      "The coefficient $A_n$ is the Fourier coefficients for the function $g(x)$. Because of this, $A_n$ is given by (from the theory on Fourier series)"
     ]
    },
    {
     "cell_type": "markdown",
     "metadata": {},
     "source": [
      "$$\n",
      "\\begin{equation}\n",
      "A_n=\\frac{2}{L}\\int_0^L g(x)\\sin(n\\pi x/L) \\mbox{d}x.\n",
      "\\end{equation}\n",
      "$$"
     ]
    },
    {
     "cell_type": "markdown",
     "metadata": {},
     "source": [
      "Different $g(x)$ functions will obviously result in different results for $A_n$.\n",
      "\n",
      "## Overview of week 42\n",
      "\n",
      "### Overview of week 42\n",
      "\n",
      "**Partial differential equations (chapter 10) and begin numerical integration (chapter 5).**\n",
      "\n",
      "  * Monday: Repetition from last week\n",
      "\n",
      "  * Discussion of project 3, with an emphasis on object orientation\n",
      "\n",
      "  * Diffusion equation in two spatial dimensions\n",
      "\n",
      "  * Poisson's and Laplace's equations\n",
      "\n",
      "  * Tuesday:\n",
      "\n",
      "  * Wave equation in one and two dimensions.\n",
      "\n",
      "  * If we get time, we will start with numerical integration\n",
      "\n",
      "\n",
      "\n",
      "### Laplace's and Poisson's equations\n",
      "\n",
      "Laplace's equation reads"
     ]
    },
    {
     "cell_type": "markdown",
     "metadata": {},
     "source": [
      "$$\n",
      "\\nabla^2 u({\\bf x})=u_{xx}+u_{yy}=0.\n",
      "$$"
     ]
    },
    {
     "cell_type": "markdown",
     "metadata": {},
     "source": [
      "with possible boundary conditions\n",
      "$u(x,y) = g(x,y) $ on the border. There is no time-dependence.\n",
      "Choosing equally many steps in both directions we have a quadratic or rectangular\n",
      "grid, depending on whether we choose equal steps lengths or not in the $x$ and\n",
      "the $y$ directions. Here we set $\\Delta x = \\Delta y = h$ and obtain\n",
      "a discretized version"
     ]
    },
    {
     "cell_type": "markdown",
     "metadata": {},
     "source": [
      "$$\n",
      "u_{xx}\\approx \\frac{u(x+h,y)-2u(x,y)+u(x-h,y)}{h^2},\n",
      "$$"
     ]
    },
    {
     "cell_type": "markdown",
     "metadata": {},
     "source": [
      "and"
     ]
    },
    {
     "cell_type": "markdown",
     "metadata": {},
     "source": [
      "$$\n",
      "u_{yy}\\approx \\frac{u(x,y+h)-2u(x,y)+u(x,y-h)}{h^2},\n",
      "$$"
     ]
    },
    {
     "cell_type": "markdown",
     "metadata": {},
     "source": [
      "### Laplace's and Poisson's equations"
     ]
    },
    {
     "cell_type": "markdown",
     "metadata": {},
     "source": [
      "$$\n",
      "u_{xx}\\approx \\frac{u_{i+1,j}-2u_{i,j}+u_{i-1,j}}{h^2},\n",
      "$$"
     ]
    },
    {
     "cell_type": "markdown",
     "metadata": {},
     "source": [
      "and"
     ]
    },
    {
     "cell_type": "markdown",
     "metadata": {},
     "source": [
      "$$\n",
      "u_{yy}\\approx \\frac{u_{i,j+1}-2u_{i,j}+u_{i,j-1}}{h^2},\n",
      "$$"
     ]
    },
    {
     "cell_type": "markdown",
     "metadata": {},
     "source": [
      "which gives when inserted in Laplace's equation"
     ]
    },
    {
     "cell_type": "markdown",
     "metadata": {},
     "source": [
      "<!-- Equation labels as ordinary links -->\n",
      "<a name=\"eq:laplacescheme\"/>\n",
      "\n",
      "$$\n",
      "\\begin{equation}\n",
      "\\label{eq:laplacescheme} \\tag{22}\n",
      "  u_{i,j}= \\frac{1}{4}\\left[u_{i,j+1}+u_{i,j-1}+u_{i+1,j}+u_{i-1,j}\\right].\n",
      "\\end{equation}\n",
      "$$"
     ]
    },
    {
     "cell_type": "markdown",
     "metadata": {},
     "source": [
      "This is our final numerical scheme for solving Laplace's equation.\n",
      "Poisson's equation adds only a minor complication\n",
      "to the above equation since in this case we have"
     ]
    },
    {
     "cell_type": "markdown",
     "metadata": {},
     "source": [
      "$$\n",
      "u_{xx}+u_{yy}=-\\rho({\\bf x}),\n",
      "$$"
     ]
    },
    {
     "cell_type": "markdown",
     "metadata": {},
     "source": [
      "and we need only to add a discretized version of $\\rho({\\bf x})$\n",
      "resulting in"
     ]
    },
    {
     "cell_type": "markdown",
     "metadata": {},
     "source": [
      "<!-- Equation labels as ordinary links -->\n",
      "<a name=\"eq:poissonscheme\"/>\n",
      "\n",
      "$$\n",
      "\\begin{equation}\n",
      "\\label{eq:poissonscheme} \\tag{23}\n",
      "  u_{i,j}= \\frac{1}{4}\\left[u_{i,j+1}+u_{i,j-1}+u_{i+1,j}+u_{i-1,j}\\right]\n",
      "           +\\rho_{i,j}.\n",
      "\\end{equation}\n",
      "$$"
     ]
    },
    {
     "cell_type": "markdown",
     "metadata": {},
     "source": [
      "### Solution Approach\n",
      "\n",
      "The way we solve these equations is based on an iterative scheme we discussed in connection\n",
      "with linear algebra, namely the so-called Jacobi, Gauss-Seidel and\n",
      "relaxation methods. The steps are rather simple. We start with an initial guess\n",
      "for $u_{i,j}^{(0)}$ where all values are known. To obtain a new solution we\n",
      "solve Eq. [(22)](#eq:finalmeanm) or Eq. [(23)](#eq:finalmeanm)\n",
      "in order to obtain a new solution $u_{i,j}^{(1)}$.\n",
      "Most likely this solution will not be a solution to\n",
      "Eq. [(22)](#eq:finalmeanm). This solution is in turn\n",
      "used to obtain a new and improved $u_{i,j}^{(2)}$. We continue this process\n",
      "till we obtain a result which satisfies some specific convergence criterion.\n",
      "\n",
      "### Code example for the two-dimensional diff equation/Laplace"
     ]
    },
    {
     "cell_type": "markdown",
     "metadata": {},
     "source": [
      "        int DiffusionJacobi(int N, double dx, double dt,\n",
      "        \t\t      double **A, double **q, double abstol){\n",
      "          int i,j,k;\n",
      "          int maxit = 100000;\n",
      "          double sum;\n",
      "          double ** Aold = CreateMatrix(N,N);\n",
      "        \n",
      "          double D = dt/(dx*dx);\n",
      "        \n",
      "        \n"
     ]
    },
    {
     "cell_type": "markdown",
     "metadata": {},
     "source": [
      "### Code example for the two-dimensional diff equation/Laplace"
     ]
    },
    {
     "cell_type": "markdown",
     "metadata": {},
     "source": [
      "          for(i=1; i<N-1; i++)\n",
      "            for(j=1;j<N-1;j++)\n",
      "              Aold[i][j] = 1.0;\n",
      "          /* Boundary Conditions -- all zeros */\n",
      "          for(i=0;i<N;i++){\n",
      "            A[0][i] = 0.0;\n",
      "            A[N-1][i] = 0.0;\n",
      "            A[i][0] = 0.0;\n",
      "            A[i][N-1] = 0.0;\n",
      "        \n"
     ]
    },
    {
     "cell_type": "markdown",
     "metadata": {},
     "source": [
      "### Code example for the two-dimensional diff equation/Laplace"
     ]
    },
    {
     "cell_type": "markdown",
     "metadata": {},
     "source": [
      "          for(k=0; k<maxit; k++){\n",
      "            for(i = 1; i<N-1; i++){\n",
      "              for(j=1; j<N-1; j++){\n",
      "        \tA[i][j] = dt*q[i][j] + Aold[i][j] +\n",
      "        \t  D*(Aold[i+1][j] + Aold[i][j+1] - 4.0*Aold[i][j] +\n",
      "        \t     Aold[i-1][j] + Aold[i][j-1]);\n",
      "        \n",
      "            sum = 0.0;\n",
      "            for(i=0;i<N;i++){\n",
      "              for(j=0;j<N;j++){\n",
      "        \tsum += (Aold[i][j]-A[i][j])*(Aold[i][j]-A[i][j]);\n",
      "        \tAold[i][j] = A[i][j];\n",
      "        \n",
      "            if(sqrt(sum)<abstol){DestroyMatrix(Aold,N,N);\n",
      "              return k;\n",
      "        \n"
     ]
    },
    {
     "cell_type": "markdown",
     "metadata": {},
     "source": [
      "### Two-dimensional wave equation\n",
      "\n",
      "Consider first the two-dimensional wave equation for a vibrating square membrane given by the\n",
      "following initial and boundary conditions"
     ]
    },
    {
     "cell_type": "markdown",
     "metadata": {},
     "source": [
      "$$\n",
      "\\left\\{\\begin{array}{cc} \\lambda\\left(\\frac{\\partial^2u}{\\partial x^2}+\\frac{\\partial^2u}{\\partial y^2}\\right) = \\frac{\\partial^2u}{\\partial t^2}& x,y\\in[0,1], t \\ge 0 \\\\\n",
      "                         u(x,y,0) = sin(\\pi x)sin(2\\pi y)& x,y\\in (0,1) \\\\\n",
      "                         u = 0 \\quad \\mbox{boundary} & t \\ge 0\\\\\n",
      "                         \\partial u/\\partial t|_{t=0}=0 & x,y\\in (0,1)\\\\\n",
      "                       \\end{array}\\right. .\n",
      "$$"
     ]
    },
    {
     "cell_type": "markdown",
     "metadata": {},
     "source": [
      "The boundary is defined by $x=0$, $x=1$, $y=0$ and $y=1$.\n",
      "Here we set $\\lambda = 1$.\n",
      "\n",
      "### Two-dimensional wave equation\n",
      "\n",
      "Our equations depend on three variables whose discretized versions\n",
      "are now"
     ]
    },
    {
     "cell_type": "markdown",
     "metadata": {},
     "source": [
      "$$\n",
      "\\left\\{\\begin{array}{cc} t_l=l\\Delta t& l \\ge 0 \\\\\n",
      "                          x_i=i\\Delta x& 0 \\le i \\le n_x\\\\\n",
      "                          y_j=j\\Delta y& 0 \\le j \\le n_y\\end{array}\\right. ,\n",
      "$$"
     ]
    },
    {
     "cell_type": "markdown",
     "metadata": {},
     "source": [
      "and we will let $\\Delta x=\\Delta y = h$ and $n_x=n_y$ for the sake of\n",
      "simplicity.\n",
      "We have now the following discretized partial derivatives"
     ]
    },
    {
     "cell_type": "markdown",
     "metadata": {},
     "source": [
      "$$\n",
      "u_{xx}\\approx \\frac{u_{i+1,j}^l-2u_{i,j}^l+u_{i-1,j}^l}{h^2},\n",
      "$$"
     ]
    },
    {
     "cell_type": "markdown",
     "metadata": {},
     "source": [
      "and"
     ]
    },
    {
     "cell_type": "markdown",
     "metadata": {},
     "source": [
      "$$\n",
      "u_{yy}\\approx \\frac{u_{i,j+1}^l-2u_{i,j}^l+u_{i,j-1}^l}{h^2},\n",
      "$$"
     ]
    },
    {
     "cell_type": "markdown",
     "metadata": {},
     "source": [
      "and"
     ]
    },
    {
     "cell_type": "markdown",
     "metadata": {},
     "source": [
      "$$\n",
      "u_{tt}\\approx \\frac{u_{i,j}^{l+1}-2u_{i,j}^{l}+u_{i,j}^{l-1}}{\\Delta t^2}.\n",
      "$$"
     ]
    },
    {
     "cell_type": "markdown",
     "metadata": {},
     "source": [
      "### Two-dimensional wave equation\n",
      "\n",
      "We merge this into the discretized $2+1$-dimensional wave equation\n",
      "as"
     ]
    },
    {
     "cell_type": "markdown",
     "metadata": {},
     "source": [
      "<!-- Equation labels as ordinary links -->\n",
      "<a name=\"eq:21wavescheme\"/>\n",
      "\n",
      "$$\n",
      "\\label{eq:21wavescheme} \\tag{24}\n",
      "u_{i,j}^{l+1}\n",
      "=2u_{i,j}^{l}-u_{i,j}^{l-1}+\\frac{\\Delta t^2}{h^2}\\left(u_{i+1,j}^l-4u_{i,j}^l+u_{i-1,j}^l+u_{i,j+1}^l+u_{i,j-1}^l\\right),\n",
      "$$"
     ]
    },
    {
     "cell_type": "markdown",
     "metadata": {},
     "source": [
      "where again we have an explicit scheme with $u_{i,j}^{l+1}$ as the only\n",
      "unknown quantity.\n",
      "It is easy to account for different step lengths for $x$ and $y$.\n",
      "The partial derivative is treated in much the same way\n",
      "as for the one-dimensional case, except that we now have an additional\n",
      "index due to the extra spatial dimension, viz., we need to compute\n",
      "$u_{i,j}^{-1}$ through"
     ]
    },
    {
     "cell_type": "markdown",
     "metadata": {},
     "source": [
      "$$\n",
      "u_{i,j}^{-1}=u_{i,j}^0+\\frac{\\Delta t}{2h^2}\\left(u_{i+1,j}^0-4u_{i,j}^0+u_{i-1,j}^0+u_{i,j+1}^0+u_{i,j-1}^0\\right),\n",
      "$$"
     ]
    },
    {
     "cell_type": "markdown",
     "metadata": {},
     "source": [
      "in our setup of the initial conditions.\n",
      "\n",
      "### Code example for the two-dimensional wave equation\n",
      "\n",
      "We show here how to implement the two-dimensional wave equation"
     ]
    },
    {
     "cell_type": "markdown",
     "metadata": {},
     "source": [
      "          //  After initializations and declaration of variables\n",
      "          for ( int i = 0; i < n; i++ ) {\n",
      "            u[i] = new double [n];\n",
      "            uLast[i] = new double [n];\n",
      "            uNext[i] = new double [n];\n",
      "            x[i] = i*h;\n",
      "            y[i] = x[i];\n",
      "        \n",
      "          // initializing\n",
      "          for ( int i = 0; i < n; i++ ) {  // setting initial step\n",
      "            for ( int j = 0; j < n; j++ ) {\n",
      "              uLast[i][j] = sin(PI*x[i])*sin(2*PI*y[j]);\n",
      "        \n"
     ]
    },
    {
     "cell_type": "markdown",
     "metadata": {},
     "source": [
      "### Code example for the two-dimensional wave equation"
     ]
    },
    {
     "cell_type": "markdown",
     "metadata": {},
     "source": [
      "          for ( int i = 1; i < (n-1); i++ ) {  // setting first step using the initial derivative\n",
      "            for ( int j = 1; j < (n-1); j++ ) {\n",
      "              u[i][j] = uLast[i][j] - ((tStep*tStep)/(2.0*h*h))*\n",
      "        \t(4*uLast[i][j] - uLast[i+1][j] - uLast[i-1][j] - uLast[i][j+1] - uLast[i][j-1]);\n",
      "        \n",
      "            u[i][0] = 0;  // setting boundaries once and for all\n",
      "            u[i][n-1] = 0;\n",
      "            u[0][i] = 0;\n",
      "            u[n-1][i] = 0;\n",
      "        \n",
      "            uNext[i][0] = 0;\n",
      "            uNext[i][n-1] = 0;\n",
      "            uNext[0][i] = 0;\n",
      "            uNext[n-1][i] = 0;\n",
      "        \n"
     ]
    },
    {
     "cell_type": "markdown",
     "metadata": {},
     "source": [
      "### Code example for the two-dimensional wave equation"
     ]
    },
    {
     "cell_type": "markdown",
     "metadata": {},
     "source": [
      "          // iterating in time\n",
      "          double t = 0.0 + tStep;\n",
      "          int iter = 0;\n",
      "        \n",
      "          while ( t < tFinal ) {\n",
      "            iter ++;\n",
      "            t = t + tStep;\n",
      "        \n",
      "            for ( int i = 1; i < (n-1); i++ ) {  // computing next step\n",
      "              for ( int j = 1; j < (n-1); j++ ) {\n",
      "        \tuNext[i][j] = 2*u[i][j] - uLast[i][j] - ((tStep*tStep)/(h*h))*\n",
      "        \t  (4*u[i][j] - u[i+1][j] - u[i-1][j] - u[i][j+1] - u[i][j-1]);\n",
      "        \n"
     ]
    },
    {
     "cell_type": "markdown",
     "metadata": {},
     "source": [
      "### Code example for the two-dimensional wave equation"
     ]
    },
    {
     "cell_type": "markdown",
     "metadata": {},
     "source": [
      "            for ( int i = 1; i < (n-1); i++ ) {  // shifting results down\n",
      "              for ( int j = 1; j < (n-1); j++ ) {\n",
      "        \tuLast[i][j] = u[i][j];\n",
      "        \tu[i][j] = uNext[i][j];\n",
      "        \n"
     ]
    },
    {
     "cell_type": "markdown",
     "metadata": {},
     "source": [
      "### Closed form solution of the wave equation\n",
      "\n",
      "We develop here the analytic solution for the $2+1$ dimensional wave equation with the following boundary and initial conditions"
     ]
    },
    {
     "cell_type": "markdown",
     "metadata": {},
     "source": [
      "$$\n",
      "\\left\\{\\begin{array}{cc} c^2(u_{xx}+u_{yy}) = u_{tt}& x,y\\in(0,L), t>0 \\\\\n",
      "                         u(x,y,0) = f(x,y) & x,y\\in (0,L) \\\\\n",
      "                         u(0,0,t)=u(L,L,t)=0 & t > 0\\\\\n",
      "                         \\partial u/\\partial t|_{t=0}= g(x,y) & x,y\\in (0,L)\\\\\n",
      "                       \\end{array}\\right. .\n",
      "$$"
     ]
    },
    {
     "cell_type": "markdown",
     "metadata": {},
     "source": [
      "### Closed form solution of the wave equation\n",
      "\n",
      "Our first step is to make the ansatz"
     ]
    },
    {
     "cell_type": "markdown",
     "metadata": {},
     "source": [
      "$$\n",
      "u(x,y,t) = F(x,y) G(t),\n",
      "$$"
     ]
    },
    {
     "cell_type": "markdown",
     "metadata": {},
     "source": [
      "resulting  in the equation"
     ]
    },
    {
     "cell_type": "markdown",
     "metadata": {},
     "source": [
      "$$\n",
      "FG_{tt}= c^2(F_{xx}G+F_{yy}G),\n",
      "$$"
     ]
    },
    {
     "cell_type": "markdown",
     "metadata": {},
     "source": [
      "or"
     ]
    },
    {
     "cell_type": "markdown",
     "metadata": {},
     "source": [
      "$$\n",
      "\\frac{G_{tt}}{c^2G} =  \\frac{1}{F}(F_{xx}+F_{yy}) = -\\nu^2.\n",
      "$$"
     ]
    },
    {
     "cell_type": "markdown",
     "metadata": {},
     "source": [
      "The lhs and rhs are independent of each other and we obtain two differential equations"
     ]
    },
    {
     "cell_type": "markdown",
     "metadata": {},
     "source": [
      "$$\n",
      "F_{xx}+F_{yy}+F\\nu^2=0,\n",
      "$$"
     ]
    },
    {
     "cell_type": "markdown",
     "metadata": {},
     "source": [
      "and"
     ]
    },
    {
     "cell_type": "markdown",
     "metadata": {},
     "source": [
      "$$\n",
      "G_{tt} + Gc^2\\nu^2 =    G_{tt} + G\\lambda^2 =  0,\n",
      "$$"
     ]
    },
    {
     "cell_type": "markdown",
     "metadata": {},
     "source": [
      "with $\\lambda = c\\nu$.\n",
      "\n",
      "### Closed form solution of the wave equation\n",
      "\n",
      "We can in turn make the following ansatz for the $x$  and $y$ dependent part"
     ]
    },
    {
     "cell_type": "markdown",
     "metadata": {},
     "source": [
      "$$\n",
      "F(x,y) = H(x)Q(y),\n",
      "$$"
     ]
    },
    {
     "cell_type": "markdown",
     "metadata": {},
     "source": [
      "which results in"
     ]
    },
    {
     "cell_type": "markdown",
     "metadata": {},
     "source": [
      "$$\n",
      "\\frac{1}{H}H_{xx} =  -\\frac{1}{Q}(Q_{yy}+Q\\nu^2)= -\\kappa^2.\n",
      "$$"
     ]
    },
    {
     "cell_type": "markdown",
     "metadata": {},
     "source": [
      "Since the lhs and rhs are again independent of each other, we can separate the latter equation into two independent\n",
      "equations, one for $x$ and one for $y$, namely"
     ]
    },
    {
     "cell_type": "markdown",
     "metadata": {},
     "source": [
      "$$\n",
      "H_{xx} + \\kappa^2H =  0,\n",
      "$$"
     ]
    },
    {
     "cell_type": "markdown",
     "metadata": {},
     "source": [
      "and"
     ]
    },
    {
     "cell_type": "markdown",
     "metadata": {},
     "source": [
      "$$\n",
      "Q_{yy} + \\rho^2Q = 0,\n",
      "$$"
     ]
    },
    {
     "cell_type": "markdown",
     "metadata": {},
     "source": [
      "with $\\rho^2= \\nu^2-\\kappa^2$.\n",
      "\n",
      "### Closed form solution of the wave equation\n",
      "\n",
      "The second step is to solve these differential equations, which all have trigonometric functions as solutions, viz."
     ]
    },
    {
     "cell_type": "markdown",
     "metadata": {},
     "source": [
      "$$\n",
      "H(x) = A\\cos(\\kappa x)+B\\sin(\\kappa x),\n",
      "$$"
     ]
    },
    {
     "cell_type": "markdown",
     "metadata": {},
     "source": [
      "and"
     ]
    },
    {
     "cell_type": "markdown",
     "metadata": {},
     "source": [
      "$$\n",
      "Q(y) = C\\cos(\\rho y)+D\\sin(\\rho y).\n",
      "$$"
     ]
    },
    {
     "cell_type": "markdown",
     "metadata": {},
     "source": [
      "The boundary conditions require that $F(x,y) = H(x)Q(y)$ are zero at the boundaries, meaning that\n",
      "$H(0)=H(L)=Q(0)=Q(L)=0$.  This yields the solutions"
     ]
    },
    {
     "cell_type": "markdown",
     "metadata": {},
     "source": [
      "$$\n",
      "H_m(x) = \\sin(\\frac{m\\pi x}{L}) \\quad Q_n(y) = \\sin(\\frac{n\\pi y}{L}),\n",
      "$$"
     ]
    },
    {
     "cell_type": "markdown",
     "metadata": {},
     "source": [
      "or"
     ]
    },
    {
     "cell_type": "markdown",
     "metadata": {},
     "source": [
      "$$\n",
      "F_{mn}(x,y) = \\sin(\\frac{m\\pi x}{L})\\sin(\\frac{n\\pi y}{L}).\n",
      "$$"
     ]
    },
    {
     "cell_type": "markdown",
     "metadata": {},
     "source": [
      "### Closed form solution of the wave equation\n",
      "\n",
      "With $\\rho^2= \\nu^2-\\kappa^2$ and $\\lambda = c\\nu$ we have an eigenspectrum $\\lambda=c\\sqrt{\\kappa^2+\\rho^2}$\n",
      "or $\\lambda_{mn}= c\\pi/L\\sqrt{m^2+n^2}$.\n",
      "The solution for $G$ is"
     ]
    },
    {
     "cell_type": "markdown",
     "metadata": {},
     "source": [
      "$$\n",
      "G_{mn}(t) = B_{mn}\\cos(\\lambda_{mn} t)+D_{mn}\\sin(\\lambda_{mn} t),\n",
      "$$"
     ]
    },
    {
     "cell_type": "markdown",
     "metadata": {},
     "source": [
      "with the general solution of the form"
     ]
    },
    {
     "cell_type": "markdown",
     "metadata": {},
     "source": [
      "$$\n",
      "u(x,y,t) = \\sum_{mn=1}^{\\infty} u_{mn}(x,y,t) = \\sum_{mn=1}^{\\infty}F_{mn}(x,y)G_{mn}(t).\n",
      "$$"
     ]
    },
    {
     "cell_type": "markdown",
     "metadata": {},
     "source": [
      "### Closed form solution of the wave equation\n",
      "\n",
      "The final step is to determine the coefficients $B_{mn}$ and $D_{mn}$ from the Fourier coefficients.\n",
      "The equations for these  are determined by the initial conditions $u(x,y,0) = f(x,y)$ and\n",
      "$\\partial u/\\partial t|_{t=0}= g(x,y)$.\n",
      "The final expressions are"
     ]
    },
    {
     "cell_type": "markdown",
     "metadata": {},
     "source": [
      "$$\n",
      "B_{mn} = \\frac{2}{L}\\int_0^L\\int_0^L dxdy f(x,y) \\sin(\\frac{m\\pi x}{L})\\sin(\\frac{n\\pi y}{L}),\n",
      "$$"
     ]
    },
    {
     "cell_type": "markdown",
     "metadata": {},
     "source": [
      "and"
     ]
    },
    {
     "cell_type": "markdown",
     "metadata": {},
     "source": [
      "$$\n",
      "D_{mn} = \\frac{2}{L}\\int_0^L\\int_0^L dxdy g(x,y) \\sin(\\frac{m\\pi x}{L})\\sin(\\frac{n\\pi y}{L}).\n",
      "$$"
     ]
    },
    {
     "cell_type": "markdown",
     "metadata": {},
     "source": [
      "Inserting the particular functional forms of $f(x,y)$ and $g(x,y)$ one obtains the final analytic expressions.\n",
      "\n",
      "### Two-dimensional wave equation\n",
      "\n",
      "We can check our results as function of the number of mesh points and in particular against\n",
      "the stability condition"
     ]
    },
    {
     "cell_type": "markdown",
     "metadata": {},
     "source": [
      "$$\n",
      "\\Delta t \\le \\frac{1}{\\sqrt{\\lambda}}\\left(\\frac{1}{\\Delta x^2}+\\frac{1}{\\Delta y^2}\\right)^{-1/2}\n",
      "$$"
     ]
    },
    {
     "cell_type": "markdown",
     "metadata": {},
     "source": [
      "where $\\Delta t$, $\\Delta x$ and $\\Delta y$ are the chosen step lengths. In our case\n",
      "$\\Delta x=\\Delta y=h$.   How do we find this condition?  In one dimension we can proceed\n",
      "as we did for the diffusion equation.\n",
      "\n",
      "### Two-dimensional wave equation\n",
      "\n",
      "The analytic solution of the wave equation in $2+1$ dimensions has a characteristic\n",
      "wave component which reads"
     ]
    },
    {
     "cell_type": "markdown",
     "metadata": {},
     "source": [
      "$$\n",
      "u(x,y,t) = A \\exp{ (i(k_xx+k_yy-\\omega t))}\n",
      "$$"
     ]
    },
    {
     "cell_type": "markdown",
     "metadata": {},
     "source": [
      "Then from"
     ]
    },
    {
     "cell_type": "markdown",
     "metadata": {},
     "source": [
      "$$\n",
      "u_{xx}\\approx \\frac{u_{i+1,j}^l-2u_{i,j}^l+u_{i-1,j}^l}{\\Delta x^2},\n",
      "$$"
     ]
    },
    {
     "cell_type": "markdown",
     "metadata": {},
     "source": [
      "we get, with $u_i=\\exp{ikx_i}$"
     ]
    },
    {
     "cell_type": "markdown",
     "metadata": {},
     "source": [
      "$$\n",
      "u_{xx}\\approx \\frac{u_i}{\\Delta x^2}\\left(\\exp{ik\\Delta x}-2+\\exp{(-ik\\Delta x)}\\right),\n",
      "$$"
     ]
    },
    {
     "cell_type": "markdown",
     "metadata": {},
     "source": [
      "or"
     ]
    },
    {
     "cell_type": "markdown",
     "metadata": {},
     "source": [
      "$$\n",
      "u_{xx}\\approx 2\\frac{u_i}{\\Delta x^2}\\left(cos(k\\Delta x)-1\\right)=\n",
      "-4\\frac{u_i}{\\Delta x^2}sin^2(k\\Delta x/2)\n",
      "$$"
     ]
    },
    {
     "cell_type": "markdown",
     "metadata": {},
     "source": [
      "We get similar results for $t$ and $y$.\n",
      "\n",
      "### Two-dimensional wave equation\n",
      "\n",
      "We have"
     ]
    },
    {
     "cell_type": "markdown",
     "metadata": {},
     "source": [
      "$$\n",
      "\\lambda\\left(\\frac{\\partial^2u}{\\partial x^2}+\\frac{\\partial^2u}{\\partial y^2}\\right) = \\frac{\\partial^2u}{\\partial t^2},\n",
      "$$"
     ]
    },
    {
     "cell_type": "markdown",
     "metadata": {},
     "source": [
      "resulting in"
     ]
    },
    {
     "cell_type": "markdown",
     "metadata": {},
     "source": [
      "$$\n",
      "\\lambda\\left(-4\\frac{u_{ij}^l}{\\Delta x^2}\\sin^2{(k_x\\Delta x/2)}-4\\frac{u_{ij}^l}{\\Delta y^2}\\sin^2{(k_y\\Delta y/2)}\\right)=-4\\frac{u_{ij}^l}{\\Delta t^2}\\sin^2{(\\omega\\Delta t/2)},\n",
      "$$"
     ]
    },
    {
     "cell_type": "markdown",
     "metadata": {},
     "source": [
      "resulting in"
     ]
    },
    {
     "cell_type": "markdown",
     "metadata": {},
     "source": [
      "$$\n",
      "\\sin{(\\omega\\Delta t/2)}=\\pm \\sqrt{\\lambda}\\Delta t\\left(\\frac{1}{\\Delta x^2}\\sin^2{(k_x\\Delta x/2)}+\\frac{1}{\\Delta y^2}\\sin^2{(k_y\\Delta y/2)}\\right)^{1/2}.\n",
      "$$"
     ]
    },
    {
     "cell_type": "markdown",
     "metadata": {},
     "source": [
      "The squared sine functions can at most be unity. The frequency\n",
      "$\\omega$ is real and our wave is neither damped\n",
      "nor amplified.\n",
      "\n",
      "### Two-dimensional wave equation\n",
      "\n",
      "We have"
     ]
    },
    {
     "cell_type": "markdown",
     "metadata": {},
     "source": [
      "$$\n",
      "\\sin{(\\omega\\Delta t/2)}=\\pm \\sqrt{\\lambda}\\Delta t\\left(\\frac{1}{\\Delta x^2}\\sin^2{(k_x\\Delta x/2)}+\\frac{1}{\\Delta y^2}\\sin^2{(k_y\\Delta y/2)}\\right)^{1/2}.\n",
      "$$"
     ]
    },
    {
     "cell_type": "markdown",
     "metadata": {},
     "source": [
      "The squared sine functions can at most be unity. $\\omega$ is real and our wave is neither damped\n",
      "nor amplified. The numerical $\\omega$ must also be real  which is the case when\n",
      "$\\sin{(\\omega\\Delta t/2)}$ is less than or equal to unity, meaning that"
     ]
    },
    {
     "cell_type": "markdown",
     "metadata": {},
     "source": [
      "$$\n",
      "\\Delta t \\le \\frac{1}{\\sqrt{\\lambda}}\\left(\\frac{1}{\\Delta x^2}+\\frac{1}{\\Delta y^2}\\right)^{-1/2}.\n",
      "$$"
     ]
    },
    {
     "cell_type": "markdown",
     "metadata": {},
     "source": [
      "### Two-dimensional wave equation\n",
      "\n",
      " We modify now the wave equation in order to consider\n",
      "a $2+1$ dimensional wave equation with a position dependent velocity, given by"
     ]
    },
    {
     "cell_type": "markdown",
     "metadata": {},
     "source": [
      "$$\n",
      "\\frac{\\partial^2 u}{\\partial t^2} = \\nabla\\cdot (\\lambda(x,y) \\nabla u).\n",
      "$$"
     ]
    },
    {
     "cell_type": "markdown",
     "metadata": {},
     "source": [
      "If $\\lambda$ is  constant, we obtain the standard wave equation discussed in the two previous points.\n",
      "The solution $u(x,y,t)$ could represent a model for  water waves. It represents then the surface elevation from still water.\n",
      "We can model $\\lambda$ as"
     ]
    },
    {
     "cell_type": "markdown",
     "metadata": {},
     "source": [
      "$$\n",
      "\\lambda = gH(x,y),\n",
      "$$"
     ]
    },
    {
     "cell_type": "markdown",
     "metadata": {},
     "source": [
      "with $g$ being the acceleration of gravity and $H(x,y)$ is the still water depth.\n",
      "\n",
      "The function $H(x,y)$ simulates the water depth using for example measurements of still water depths\n",
      "in say a fjord or the north sea. The boundary conditions are then determined by the coast lines as discussed in point d) below.  We have assumed that the vertical motion is negligible and that\n",
      "we deal with long wavelenghts $\\tilde{\\lambda}$ compared with the depth of the sea $H$, that\n",
      "is $\\tilde{\\lambda}/H \\gg 1$.  We neglect normally Coriolis effects in such calculations.\n",
      "\n",
      "### Two-dimensional wave equation\n",
      "\n",
      "You can discretize"
     ]
    },
    {
     "cell_type": "markdown",
     "metadata": {},
     "source": [
      "$$\n",
      "\\nabla \\cdot (\\lambda(x,y) \\nabla u)=  \\frac{\\partial }{\\partial x}\\left(\\lambda(x,y)\\frac{\\partial u}{\\partial x}\\right)+\n",
      "\\frac{\\partial }{\\partial y}\\left(\\lambda(x,y)\\frac{\\partial u}{\\partial y}\\right),\n",
      "$$"
     ]
    },
    {
     "cell_type": "markdown",
     "metadata": {},
     "source": [
      "as follows using  again a quadratic domain for $x$ and $y$:"
     ]
    },
    {
     "cell_type": "markdown",
     "metadata": {},
     "source": [
      "$$\n",
      "\\frac{\\partial }{\\partial x}\\left(\\lambda(x,y)\\frac{\\partial u}{\\partial x}\\right)\\approx\n",
      "\\frac{1}{\\Delta x} \\left(\\lambda_{i+1/2,j}\\left[\\frac{u_{i+1,j}^l-u_{i,j}^l}{\\Delta x}\\right]\n",
      "-\\lambda_{i-1/2,j}\\left[\\frac{u_{i,j}^l-u_{i-1,j}^l}{\\Delta x}\\right]\\right),\n",
      "$$"
     ]
    },
    {
     "cell_type": "markdown",
     "metadata": {},
     "source": [
      "and"
     ]
    },
    {
     "cell_type": "markdown",
     "metadata": {},
     "source": [
      "$$\n",
      "\\frac{\\partial }{\\partial y}\\left(\\lambda(x,y)\\frac{\\partial u}{\\partial y}\\right)\\approx\n",
      "\\frac{1}{\\Delta y} \\left(\\lambda_{i,j+1/2}\\left[\\frac{u_{i,j+1}^l-u_{i,j}^l}{\\Delta y}\\right]\n",
      "-\\lambda_{i,j-1/2}\\left[\\frac{u_{i,j}^l-u_{i,j-1}^l}{\\Delta y}\\right]\\right).\n",
      "$$"
     ]
    },
    {
     "cell_type": "markdown",
     "metadata": {},
     "source": [
      "### Two-dimensional wave equation\n",
      "\n",
      "How did we do that? Look at the derivative wrt $x$ only:\n",
      "First we compute the derivative"
     ]
    },
    {
     "cell_type": "markdown",
     "metadata": {},
     "source": [
      "$$\n",
      "\\frac{d}{dx}\\left(\\lambda(x)\\frac{du}{dx}\\right)|_{x=x_i} \\approx\n",
      "   \\frac{1}{\\Delta x}\\left(\\lambda\\frac{du}{dx}|_{x=x_{i+1/2}}-\\lambda\\frac{du}{dx}|_{x=x_{i-1/2}}\\right),\n",
      "$$"
     ]
    },
    {
     "cell_type": "markdown",
     "metadata": {},
     "source": [
      "where we approximated it at the midpoint by going half a step to the right and half a step to\n",
      "the left.  Then we approximate"
     ]
    },
    {
     "cell_type": "markdown",
     "metadata": {},
     "source": [
      "$$\n",
      "\\lambda\\frac{du}{dx}|_{x=x_{i+1/2}}\\approx \\lambda_{x_{i+1/2}}\\frac{u_{i+1}-u_i}{\\Delta x},\n",
      "$$"
     ]
    },
    {
     "cell_type": "markdown",
     "metadata": {},
     "source": [
      "and similarly for $x = x_i-1/2$.\n",
      "\n",
      "## Overview of week 43\n",
      "\n",
      "### Overview of week 43\n",
      "\n",
      "**Numerical integration (chapter 5).**\n",
      "\n",
      "  * Monday: Repetition from last week\n",
      "\n",
      "  * Numerical integration, Trapezoidal and Simpson's rules (equal step methods)\n",
      "\n",
      "  * Gaussian quadrature (better methods)\n",
      "\n",
      "  * Tuesday:\n",
      "\n",
      "  * Gaussian quadrature, continued\n",
      "\n",
      "  * Our first encounter with parallelization, this week MPI, next week also OpenMP with examples Next week we start also with Monte Carlo methods, which will keep us busy till the end of November.\n",
      "\n",
      "\n",
      "\n",
      "### Numerical integration and Equal Step Methods\n",
      "\n",
      "**Generalities.**\n",
      "\n",
      "\n",
      "Choose a step size"
     ]
    },
    {
     "cell_type": "markdown",
     "metadata": {},
     "source": [
      "$$\n",
      "h=\\frac{b-a}{N}\n",
      "$$"
     ]
    },
    {
     "cell_type": "markdown",
     "metadata": {},
     "source": [
      "where $N$ is the number of steps and $a$ and $b$ the lower and upper limits\n",
      "   of integration.\n",
      "\n",
      "Choose then to stop the Taylor expansion of the function $f(x)$ at a\n",
      "         certain derivative.\n",
      "\n",
      "With these approximations to $f(x)$ perform the integration."
     ]
    },
    {
     "cell_type": "markdown",
     "metadata": {},
     "source": [
      "$$\n",
      "\\int_a^bf(x) dx= \\int_a^{a+2h}f(x)dx + \\int_{a+2h}^{a+4h}f(x)dx+\\dots \\int_{b-2h}^{b}f(x)dx.\n",
      "$$"
     ]
    },
    {
     "cell_type": "markdown",
     "metadata": {},
     "source": [
      "The strategy then is to find a reliable Taylor expansion for $f(x)$ in the smaller\n",
      "sub intervals. Consider e.g., evaluating $\\int_{-h}^{+h}f(x)dx$\n",
      "\n",
      "\n",
      "\n",
      "### Equal Step Methods\n",
      "\n",
      "**Trapezoidal Rule.**\n",
      "\n",
      "Taylor expansion"
     ]
    },
    {
     "cell_type": "markdown",
     "metadata": {},
     "source": [
      "$$\n",
      "f(x)=f_0 + \\frac{f_h-f_0}{h}x+O(x^2),\n",
      "$$"
     ]
    },
    {
     "cell_type": "markdown",
     "metadata": {},
     "source": [
      "for $x=x_0$ to $x=x_0+h$ and"
     ]
    },
    {
     "cell_type": "markdown",
     "metadata": {},
     "source": [
      "$$\n",
      "f(x)=f_0 + \\frac{f_0-f_{-h}}{h}x+O(x^2),\n",
      "$$"
     ]
    },
    {
     "cell_type": "markdown",
     "metadata": {},
     "source": [
      "for $x=x_0-h$ to $x=x_0$. The error goes like $O(x^2)$.\n",
      "If we then evaluate the integral we obtain"
     ]
    },
    {
     "cell_type": "markdown",
     "metadata": {},
     "source": [
      "$$\n",
      "\\int_{-h}^{+h}f(x)dx=\\frac{h}{2}\\left(f_h + 2f_0 + f_{-h}\\right)+O(h^3),\n",
      "$$"
     ]
    },
    {
     "cell_type": "markdown",
     "metadata": {},
     "source": [
      "which is the well-known trapezoidal rule.  Local error\n",
      "$O(h^3)=O((b-a)^3/N^3)$, and the *global error* goes like $\\approx O(h^2)$.\n",
      "\n",
      "\n",
      "\n",
      "### Equal Step Methods\n",
      "\n",
      "**Trapezoidal Rule.**\n",
      "\n",
      "Easy to implement  numerically through the following simple algorithm\n",
      "\n",
      "  * Choose the number of mesh points and fix the step.\n",
      "\n",
      "  * calculate $f(a)$ and $f(b)$ and multiply with $h/2$\n",
      "\n",
      "  * Perform a loop over $n=1$ to $n-1$ ($f(a)$ and $f(b)$ are known) and sum up the terms $f(a+h) +f(a+2h)+f(a+3h)+\\dots +f(b-h)$. Each step in the loop corresponds to a given value $a+nh$.\n",
      "\n",
      "  * Multiply the final result by $h$ and add $hf(a)/2$ and $hf(b)/2$.\n",
      "\n",
      "\n",
      "\n",
      "### Trapezoidal Rule"
     ]
    },
    {
     "cell_type": "markdown",
     "metadata": {},
     "source": [
      "        double trapezoidal_rule(double a, double b, int n,\n",
      "                                double (*func)(double))\n",
      "        {\n",
      "              double trapez_sum;\n",
      "              double fa, fb, x, step;\n",
      "              int    j;\n",
      "              step=(b-a)/((double) n);\n",
      "              fa=(*func)(a)/2. ;\n",
      "              fb=(*func)(b)/2. ;\n",
      "              trapez_sum=0.;\n",
      "              for (j=1; j <= n-1; j++){\n",
      "                 x=j*step+a;\n",
      "                 trapez_sum+=(*func)(x);\n",
      "        \n",
      "              trapez_sum=(trapez_sum+fb+fa)*step;\n",
      "              return trapez_sum;\n",
      "        }  // end function for trapezoidal rule\n"
     ]
    },
    {
     "cell_type": "markdown",
     "metadata": {},
     "source": [
      "### Trapezoidal Rule\n",
      "\n",
      "Pay attention to the way we transfer the name of a function. This gives us the possibility to define a general trapezoidal method, where we give as input the name of the function."
     ]
    },
    {
     "cell_type": "markdown",
     "metadata": {},
     "source": [
      "        double trapezoidal_rule(double a, double b, int n,\n",
      "                                double (*func)(double))\n"
     ]
    },
    {
     "cell_type": "markdown",
     "metadata": {},
     "source": [
      "We call this function simply as something like this"
     ]
    },
    {
     "cell_type": "markdown",
     "metadata": {},
     "source": [
      "        integral =  trapezoidal_rule(a, b, n,  mysuperduperfunction);\n"
     ]
    },
    {
     "cell_type": "markdown",
     "metadata": {},
     "source": [
      "### Equal Step Methods\n",
      "\n",
      "**Simpson.**\n",
      "\n",
      "The first and second\n",
      "derivatives are given by"
     ]
    },
    {
     "cell_type": "markdown",
     "metadata": {},
     "source": [
      "$$\n",
      "\\frac{f_h-f_{-h}}{2h}=f'_0+\\sum_{j=1}^{\\infty}\\frac{f_0^{(2j+1)}}{(2j+1)!}h^{2j},\n",
      "$$"
     ]
    },
    {
     "cell_type": "markdown",
     "metadata": {},
     "source": [
      "and"
     ]
    },
    {
     "cell_type": "markdown",
     "metadata": {},
     "source": [
      "$$\n",
      "\\frac{ f_h -2f_0 +f_{-h}}{h^2}=f_0''+2\\sum_{j=1}^{\\infty}\\frac{f_0^{(2j+2)}}{(2j+2)!}h^{2j},\n",
      "$$"
     ]
    },
    {
     "cell_type": "markdown",
     "metadata": {},
     "source": [
      "results in\n",
      "$f(x)=f_0 + \\frac{f_h-f_{-h}}{2h}x + \\frac{ f_h -2f_0 +f_{-h}}{h^2}x^2 +O(x^3)$.\n",
      "Inserting this formula in the integral"
     ]
    },
    {
     "cell_type": "markdown",
     "metadata": {},
     "source": [
      "$$\n",
      "\\int_{-h}^{+h}f(x)dx=\\frac{h}{3}\\left(f_h + 4f_0 + f_{-h}\\right)+O(h^5),\n",
      "$$"
     ]
    },
    {
     "cell_type": "markdown",
     "metadata": {},
     "source": [
      "which is Simpson's rule.\n",
      "\n",
      "\n",
      "\n",
      "### Equal Step Methods\n",
      "\n",
      "**Simpson's rule.**\n",
      "\n",
      "Note that the improved accuracy in the evaluation of\n",
      "the derivatives gives a better error approximation, $O(h^5)$ vs. $O(h^3)$ .\n",
      "But this is just the *local error approximation*.\n",
      "Using Simpson's rule we arrive at the composite rule"
     ]
    },
    {
     "cell_type": "markdown",
     "metadata": {},
     "source": [
      "<!-- Equation labels as ordinary links -->\n",
      "<a name=\"eq:simpson\"/>\n",
      "\n",
      "$$\n",
      "I=\\int_a^bf(x) dx=\\frac{h}{3}\\left(f(a) + 4f(a+h) +2f(a+2h)+\n",
      "                          \\dots +4f(b-h)+ f_{b}\\right),\n",
      "   \\label{eq:simpson} \\tag{25}\n",
      "$$"
     ]
    },
    {
     "cell_type": "markdown",
     "metadata": {},
     "source": [
      "with a global error which goes like $O(h^4)$.\n",
      "Algo\n",
      "\n",
      "  * Choose the number of mesh points and fix the step.\n",
      "\n",
      "  * calculate $f(a)$ and $f(b)$\n",
      "\n",
      "  * Perform a loop over $n=1$ to $n-1$ ($f(a)$ and $f(b)$ are known) and sum up the terms $4f(a+h) +2f(a+2h)+4f(a+3h)+\\dots +4f(b-h)$. Odd values of $n$ give $4$ as factor while even values yield $2$ as factor.\n",
      "\n",
      "  * Multiply the final result by $\\frac{h}{3}$.\n",
      "\n",
      "\n",
      "\n",
      "### Equal Step Methods\n",
      "\n",
      "The basic idea behind all integration methods is to approximate the integral"
     ]
    },
    {
     "cell_type": "markdown",
     "metadata": {},
     "source": [
      "$$\n",
      "I=\\int_a^bf(x)dx \\approx \\sum_{i=1}^N\\omega_if(x_i),\n",
      "$$"
     ]
    },
    {
     "cell_type": "markdown",
     "metadata": {},
     "source": [
      "where $\\omega$ and $x$ are the weights and the chosen mesh points, respectively.\n",
      "Simpson's rule gives"
     ]
    },
    {
     "cell_type": "markdown",
     "metadata": {},
     "source": [
      "$$\n",
      "\\omega : \\left\\{h/3,4h/3,2h/3,4h/3,\\dots,4h/3,h/3\\right\\},\n",
      "$$"
     ]
    },
    {
     "cell_type": "markdown",
     "metadata": {},
     "source": [
      "for the weights, while the trapezoidal rule resulted in"
     ]
    },
    {
     "cell_type": "markdown",
     "metadata": {},
     "source": [
      "$$\n",
      "\\omega : \\left\\{h/2,h,h,\\dots,h,h/2\\right\\}.\n",
      "$$"
     ]
    },
    {
     "cell_type": "markdown",
     "metadata": {},
     "source": [
      "In general, an integration formula which is based on a Taylor series using $N$ points,\n",
      "will integrate exactly a polynomial $P$ of degree $N-1$. That is, the $N$ weights\n",
      "$\\omega_n$ can be chosen to satisfy $N$ linear equations\n",
      "\n",
      "### Equal Step Methods, Polynomials and Newton-Cotes\n",
      "\n",
      "Given $n+1$ distinct points $x_0,\\dots, x_n\\in[a,b]$ and $n+1$ values $y_0,\\dots,y_n$ there exists a\n",
      "unique polynomial $p_n$ with the property"
     ]
    },
    {
     "cell_type": "markdown",
     "metadata": {},
     "source": [
      "$$\n",
      "p_n(x_j) = y_j\\quad j=0,\\dots,n\n",
      "$$"
     ]
    },
    {
     "cell_type": "markdown",
     "metadata": {},
     "source": [
      "In the Lagrange representation this interpolation polynomial is given by"
     ]
    },
    {
     "cell_type": "markdown",
     "metadata": {},
     "source": [
      "$$\n",
      "p_n = \\sum_{k=0}^nl_ky_k,\n",
      "$$"
     ]
    },
    {
     "cell_type": "markdown",
     "metadata": {},
     "source": [
      "with the Lagrange factors"
     ]
    },
    {
     "cell_type": "markdown",
     "metadata": {},
     "source": [
      "$$\n",
      "l_k(x) = \\prod_{\\begin{array}{c}i=0 \\\\ i\\ne k\\end{array}}^n\\frac{x-x_i}{x_k-x_i}\\quad k=0,\\dots,n\n",
      "$$"
     ]
    },
    {
     "cell_type": "markdown",
     "metadata": {},
     "source": [
      "Example: $n=1$"
     ]
    },
    {
     "cell_type": "markdown",
     "metadata": {},
     "source": [
      "$$\n",
      "p_1(x) = y_0\\frac{x-x_1}{x_0-x_1}+y_1\\frac{x-x_0}{x_1-x_0}=\\frac{y_1-y_0}{x_1-x_0}x-\\frac{y_1x_0+y_0x_1}{x_1-x_0},\n",
      "$$"
     ]
    },
    {
     "cell_type": "markdown",
     "metadata": {},
     "source": [
      "which we recognize as the equation for a straight line.\n",
      "\n",
      "### Equal Step Methods, Polynomials and Newton-Cotes\n",
      "\n",
      "The polynomial interpolatory quadrature of order $n$ with equidistant quadrature points $x_k=a+kh$\n",
      "and step $h=(b-a)/n$ is called the Newton-Cotes quadrature formula of order $n$.\n",
      "The integral is"
     ]
    },
    {
     "cell_type": "markdown",
     "metadata": {},
     "source": [
      "$$\n",
      "\\int_a^bf(x)dx \\approx \\int_a^bp_n(x)dx = \\sum_{k=0}^nw_kf(x_k)\n",
      "$$"
     ]
    },
    {
     "cell_type": "markdown",
     "metadata": {},
     "source": [
      "with"
     ]
    },
    {
     "cell_type": "markdown",
     "metadata": {},
     "source": [
      "$$\n",
      "w_k = h\\frac{(-1)^{n-k}}{k!(n-k)!}\\int_0^n\\prod_{\\begin{array}{c}j=0 \\\\ j\\ne k\\end{array}}^n(z-j)dz,\n",
      "$$"
     ]
    },
    {
     "cell_type": "markdown",
     "metadata": {},
     "source": [
      "for $k=0,\\dots,n$.\n",
      "\n",
      "### Equal Step Methods, Polynomials and Newton-Cotes\n",
      "\n",
      "The local error for the trapezoidal rule is"
     ]
    },
    {
     "cell_type": "markdown",
     "metadata": {},
     "source": [
      "$$\n",
      "\\int_a^bf(x)dx -\\frac{b-a}{2}\\left[f(a)+f(b)\\right]=-\\frac{h^3}{12}f^{(2)}(\\xi),\n",
      "$$"
     ]
    },
    {
     "cell_type": "markdown",
     "metadata": {},
     "source": [
      "and the global error (composite formula)"
     ]
    },
    {
     "cell_type": "markdown",
     "metadata": {},
     "source": [
      "$$\n",
      "\\int_a^bf(x)dx -T_h(f)=-\\frac{b-a}{12}h^2f^{(2)}(\\xi).\n",
      "$$"
     ]
    },
    {
     "cell_type": "markdown",
     "metadata": {},
     "source": [
      "For Simpson's rule we have"
     ]
    },
    {
     "cell_type": "markdown",
     "metadata": {},
     "source": [
      "$$\n",
      "\\int_a^bf(x)dx -\\frac{b-a}{6}\\left[f(a)+4f((a+b)/2)+f(b)\\right]=-\\frac{h^5}{90}f^{(4)}(\\xi),\n",
      "$$"
     ]
    },
    {
     "cell_type": "markdown",
     "metadata": {},
     "source": [
      "and the global error"
     ]
    },
    {
     "cell_type": "markdown",
     "metadata": {},
     "source": [
      "$$\n",
      "\\int_a^bf(x)dx -S_h(f)=-\\frac{b-a}{180}h^4f^{(4)}(\\xi).\n",
      "$$"
     ]
    },
    {
     "cell_type": "markdown",
     "metadata": {},
     "source": [
      "with $\\xi\\in[a,b]$.\n",
      "\n",
      "### Gaussian Quadrature\n",
      "\n",
      "\n",
      "\n",
      "Methods based on Taylor series using $n+1$ points will\n",
      "        integrate exactly a polynomial $P$ of degree $n$. If a function $f(x)$\n",
      "        can be approximated with a polynomial of degree $n$"
     ]
    },
    {
     "cell_type": "markdown",
     "metadata": {},
     "source": [
      "$$\n",
      "f(x)\\approx P_{n}(x),\n",
      "$$"
     ]
    },
    {
     "cell_type": "markdown",
     "metadata": {},
     "source": [
      "with $n+1$ mesh points we should be able to integrate exactly the\n",
      "         polynomial $P_{n}$.\n",
      "\n",
      "Gaussian quadrature methods promise more than this. We can get a better\n",
      "         polynomial approximation with order greater than $n+1$  to $f(x)$ and still\n",
      "         get away with only $n+1$ mesh points. More precisely, we approximate"
     ]
    },
    {
     "cell_type": "markdown",
     "metadata": {},
     "source": [
      "$$\n",
      "f(x) \\approx P_{2n+1}(x),\n",
      "$$"
     ]
    },
    {
     "cell_type": "markdown",
     "metadata": {},
     "source": [
      "and with only $n+1$ mesh points these methods promise that"
     ]
    },
    {
     "cell_type": "markdown",
     "metadata": {},
     "source": [
      "$$\n",
      "\\int f(x)dx \\approx \\int P_{2n+1}(x)dx=\\sum_{i=0}^{n} P_{2n+1}(x_i)\\omega_i,\n",
      "$$"
     ]
    },
    {
     "cell_type": "markdown",
     "metadata": {},
     "source": [
      "### Gaussian Quadrature\n",
      "\n",
      "What we have done till now is called Newton-Cotes quadrature. The numerical\n",
      "approximation  goes like $O(h^n)$, where $n$ is method-dependent.\n",
      "\n",
      "A greater precision for a given amount of numerical work can  be achieved\n",
      "if we are willing to give up the requirement of equally spaced integration points.\n",
      "In Gaussian quadrature (hereafter GQ), both the mesh points and the weights are to\n",
      "be determined. The points will not be equally spaced\n",
      "The theory behind GQ is to obtain an arbitrary weight $\\omega$ through the use of\n",
      "so-called orthogonal polynomials. These polynomials are orthogonal in some\n",
      "interval say e.g., [-1,1]. Our points $x_i$ are chosen in some optimal sense subject\n",
      "only to the constraint that they should lie in this interval. Together with the weights\n",
      "we have then $2(n+1)$ ($n+1$ the number of points) parameters at our disposal.\n",
      "\n",
      "### Gaussian Quadrature\n",
      "\n",
      "Even though the integrand is not smooth, we could render it smooth by extracting\n",
      "from it the weight function of an orthogonal polynomial, i.e.,\n",
      "we are rewriting"
     ]
    },
    {
     "cell_type": "markdown",
     "metadata": {},
     "source": [
      "$$\n",
      "I=\\int_a^bf(x)dx =\\int_a^bW(x)g(x)dx\\approx \\sum_{i=0}^n\\omega_ig(x_i),\n",
      "$$"
     ]
    },
    {
     "cell_type": "markdown",
     "metadata": {},
     "source": [
      "where $g$ is smooth and $W$ is the weight function, which is to  be associated with a given\n",
      "orthogonal polynomial.\n",
      "\n",
      "### Gaussian Quadrature\n",
      "\n",
      "**Weight Functions.**\n",
      "\n",
      "The weight function $W$ is non-negative in the integration interval\n",
      "$x\\in [a,b]$ such that\n",
      "for any $n \\ge 0$ $\\int_a^b |x|^n W(x) dx$ is integrable. The naming\n",
      "weight function arises from the fact that it may be used to give more emphasis\n",
      "to one part of the interval than another.\n",
      "\n",
      "<table border=\"1\">\n",
      "<thead>\n",
      "<tr><th align=\"center\">     Weight function      </th> <th align=\"center\">         Interval         </th> <th align=\"center\">        Polynomial        </th> </tr>\n",
      "</thead>\n",
      "<tbody>\n",
      "<tr><td align=\"center\">   $W(x)=1$                      </td> <td align=\"center\">   $x\\in [a,b]$                  </td> <td align=\"center\">   Legendre                      </td> </tr>\n",
      "<tr><td align=\"center\">   $W(x)=e^{-x^2}$               </td> <td align=\"center\">   $-\\infty \\le x \\le \\infty$    </td> <td align=\"center\">   Hermite                       </td> </tr>\n",
      "<tr><td align=\"center\">   $W(x)=e^{-x}$                 </td> <td align=\"center\">   $0 \\le x \\le \\infty $         </td> <td align=\"center\">   Laguerre                      </td> </tr>\n",
      "<tr><td align=\"center\">   $W(x)=1/(\\sqrt{1-x^2})$       </td> <td align=\"center\">   $-1 \\le x \\le 1$              </td> <td align=\"center\">   Chebyshev                     </td> </tr>\n",
      "</tbody>\n",
      "</table>\n",
      "\n",
      "\n",
      "\n",
      "### Legendre"
     ]
    },
    {
     "cell_type": "markdown",
     "metadata": {},
     "source": [
      "$$\n",
      "I=\\int_{-1}^{1}f(x)dx\n",
      "$$"
     ]
    },
    {
     "cell_type": "markdown",
     "metadata": {},
     "source": [
      "$$\n",
      "C(1-x^2)P-m_l^2P+(1-x^2)\\frac{d}{dx}\\left((1-x^2)\\frac{dP}{dx}\\right)=0.\n",
      "$$"
     ]
    },
    {
     "cell_type": "markdown",
     "metadata": {},
     "source": [
      "$C$ is a constant. For $m_l=0$ we obtain the Legendre polynomials\n",
      "as solutions, whereas $m_l \\ne 0$ yields the so-called associated Legendre\n",
      "polynomials.\n",
      "The corresponding polynomials $P$ are"
     ]
    },
    {
     "cell_type": "markdown",
     "metadata": {},
     "source": [
      "$$\n",
      "L_k(x)=\\frac{1}{2^kk!}\\frac{d^k}{dx^k}(x^2-1)^k \\quad k=0,1,2,\\dots,\n",
      "$$"
     ]
    },
    {
     "cell_type": "markdown",
     "metadata": {},
     "source": [
      "which, up to a factor, are the Legendre polynomials $L_k$.\n",
      "The latter fulfil the orthorgonality relation"
     ]
    },
    {
     "cell_type": "markdown",
     "metadata": {},
     "source": [
      "$$\n",
      "\\int_{-1}^1L_i(x)L_j(x)dx=\\frac{2}{2i+1}\\delta_{ij},\n",
      "$$"
     ]
    },
    {
     "cell_type": "markdown",
     "metadata": {},
     "source": [
      "and the recursion relation"
     ]
    },
    {
     "cell_type": "markdown",
     "metadata": {},
     "source": [
      "$$\n",
      "(j+1)L_{j+1}(x)+jL_{j-1}(x)-(2j+1)xL_j(x)=0.\n",
      "$$"
     ]
    },
    {
     "cell_type": "markdown",
     "metadata": {},
     "source": [
      "### Laguerre"
     ]
    },
    {
     "cell_type": "markdown",
     "metadata": {},
     "source": [
      "$$\n",
      "I=\\int_0^{\\infty}f(x)dx =\\int_0^{\\infty}x^{\\alpha}e^{-x}g(x)dx.\n",
      "$$"
     ]
    },
    {
     "cell_type": "markdown",
     "metadata": {},
     "source": [
      "These polynomials arise from the solution of the differential\n",
      "equation"
     ]
    },
    {
     "cell_type": "markdown",
     "metadata": {},
     "source": [
      "$$\n",
      "\\left(\\frac{d^2 }{dx^2}-\\frac{d }{dx}+\\frac{\\lambda}{x}-\\frac{l(l+1)}{x^2}\\right){\\cal L}(x)=0,\n",
      "$$"
     ]
    },
    {
     "cell_type": "markdown",
     "metadata": {},
     "source": [
      "where $l$ is an integer $l\\ge 0$ and $\\lambda$ a constant.\n",
      "They fulfil the orthorgonality relation"
     ]
    },
    {
     "cell_type": "markdown",
     "metadata": {},
     "source": [
      "$$\n",
      "\\int_{-\\infty}^{\\infty}e^{-x}{\\cal L}_n(x)^2dx=1,\n",
      "$$"
     ]
    },
    {
     "cell_type": "markdown",
     "metadata": {},
     "source": [
      "and the recursion relation"
     ]
    },
    {
     "cell_type": "markdown",
     "metadata": {},
     "source": [
      "$$\n",
      "(n+1){\\cal L}_{n+1}(x)=(2n+1-x){\\cal L}_{n}(x)-n{\\cal L}_{n-1}(x).\n",
      "$$"
     ]
    },
    {
     "cell_type": "markdown",
     "metadata": {},
     "source": [
      "### Hermite\n",
      "\n",
      "In a similar way, for an integral which goes like"
     ]
    },
    {
     "cell_type": "markdown",
     "metadata": {},
     "source": [
      "$$\n",
      "I=\\int_{-\\infty}^{\\infty}f(x)dx =\\int_{-\\infty}^{\\infty}e^{-x^2}g(x)dx.\n",
      "$$"
     ]
    },
    {
     "cell_type": "markdown",
     "metadata": {},
     "source": [
      "we could use the Hermite polynomials in order to extract weights and mesh points.\n",
      "The Hermite polynomials are the solutions of the following differential\n",
      "equation"
     ]
    },
    {
     "cell_type": "markdown",
     "metadata": {},
     "source": [
      "<!-- Equation labels as ordinary links -->\n",
      "<a name=\"eq:hermite\"/>\n",
      "\n",
      "$$\n",
      "\\frac{d^2H(x)}{dx^2}-2x\\frac{dH(x)}{dx}+\n",
      "       (\\lambda-1)H(x)=0.\n",
      "   \\label{eq:hermite} \\tag{26}\n",
      "$$"
     ]
    },
    {
     "cell_type": "markdown",
     "metadata": {},
     "source": [
      "They fulfil the orthorgonality relation"
     ]
    },
    {
     "cell_type": "markdown",
     "metadata": {},
     "source": [
      "$$\n",
      "\\int_{-\\infty}^{\\infty}e^{-x^2}H_n(x)^2dx=2^nn!\\sqrt{\\pi},\n",
      "$$"
     ]
    },
    {
     "cell_type": "markdown",
     "metadata": {},
     "source": [
      "and the recursion relation"
     ]
    },
    {
     "cell_type": "markdown",
     "metadata": {},
     "source": [
      "$$\n",
      "H_{n+1}(x)=2xH_{n}(x)-2nH_{n-1}(x).\n",
      "$$"
     ]
    },
    {
     "cell_type": "markdown",
     "metadata": {},
     "source": [
      "### Gaussian Quadrature, general Properties\n",
      "\n",
      "A quadrature formula"
     ]
    },
    {
     "cell_type": "markdown",
     "metadata": {},
     "source": [
      "$$\n",
      "\\int_a^bW(x)f(x)dx \\approx \\sum_{i=0}^n\\omega_if(x_i),\n",
      "$$"
     ]
    },
    {
     "cell_type": "markdown",
     "metadata": {},
     "source": [
      "with $n+1$ distinct quadrature points (mesh points) is a called a Gaussian quadrature\n",
      "formula if it integrates all polynomials $p\\in P_{2n+1}$ exactly, that is"
     ]
    },
    {
     "cell_type": "markdown",
     "metadata": {},
     "source": [
      "$$\n",
      "\\int_a^bW(x)p(x)dx =\\sum_{i=0}^n\\omega_ip(x_i),\n",
      "$$"
     ]
    },
    {
     "cell_type": "markdown",
     "metadata": {},
     "source": [
      "It is assumed that $W(x)$ is continuous and positive and that the integral"
     ]
    },
    {
     "cell_type": "markdown",
     "metadata": {},
     "source": [
      "$$\n",
      "\\int_a^bW(x)dx ,\n",
      "$$"
     ]
    },
    {
     "cell_type": "markdown",
     "metadata": {},
     "source": [
      "exists. Note that the replacement of $f\\rightarrow Wg$ is normally a better approximation\n",
      "due to the fact that we may isolate possible singularities of $W$ and its\n",
      "derivatives at the endpoints of the interval.\n",
      "\n",
      "### Numerical integration: A simple example\n",
      "\n",
      "We want to compute"
     ]
    },
    {
     "cell_type": "markdown",
     "metadata": {},
     "source": [
      "$$\n",
      "I= \\int_0^{\\infty} x\\exp{(-x)}\\sin{x}=\\frac{1}{2},\n",
      "$$"
     ]
    },
    {
     "cell_type": "markdown",
     "metadata": {},
     "source": [
      "using brute force Trapezoidal rule, Simpson's rule, Gauss-Legendre, Gauss-Laguerre and Gauss-Legendre again but with a smarter mapping.\n",
      "\n",
      "  * Before we start it can be useful to study the integrand.\n",
      "\n",
      "  * How should we pick the integration limits?\n",
      "\n",
      "### Simple integral\n",
      "\n",
      "Approximate"
     ]
    },
    {
     "cell_type": "markdown",
     "metadata": {},
     "source": [
      "$$\n",
      "\\int_0^{\\infty}f(x)dx \\approx \\int_0^{\\Lambda}f(x)dx\n",
      "$$"
     ]
    },
    {
     "cell_type": "markdown",
     "metadata": {},
     "source": [
      "             int n;\n",
      "             double a, b, alf, xx;\n",
      "             cout << \"Read in the number of integration points\" << endl;\n",
      "             cin >> n;\n",
      "             cout << \"Read in integration limits\" << endl;\n",
      "             cin >> a >> b;\n"
     ]
    },
    {
     "cell_type": "markdown",
     "metadata": {},
     "source": [
      "### Simple integral"
     ]
    },
    {
     "cell_type": "markdown",
     "metadata": {},
     "source": [
      "        //   reserve space in memory for vectors containing the mesh points\n",
      "        //   weights and function values for the use of the gauss-legendre\n",
      "        //   method\n",
      "             double *x = new double [n];\n",
      "             double *w = new double [n];\n",
      "             // Gauss-Laguerre is old-fashioned translation of F77 --> C++\n",
      "             // arrays start at 1 and end at n\n",
      "             double *xgl = new double [n+1];\n",
      "             double *wgl = new double [n+1];\n"
     ]
    },
    {
     "cell_type": "markdown",
     "metadata": {},
     "source": [
      "### Simple integral\n",
      "\n",
      "Note the parameter $alf$  in $x^{alpha}\\exp{-x}$"
     ]
    },
    {
     "cell_type": "markdown",
     "metadata": {},
     "source": [
      "        //   set up the mesh points and weights\n",
      "             gauleg(a, b,x,w, n);\n",
      "        //   set up the mesh points and weights\n",
      "             alf = 1.0;  //  <---  Note alf\n",
      "             gauss_laguerre(xgl,wgl, n, alf);\n",
      "        //   evaluate the integral with the Gauss-Legendre method\n",
      "        //   Note that we initialize the sum. Here brute force gauleg\n",
      "             double int_gauss = 0.;\n",
      "             for ( int i = 0;  i < n; i++){\n",
      "                int_gauss+=w[i]*int_function(x[i]);\n",
      "        \n"
     ]
    },
    {
     "cell_type": "markdown",
     "metadata": {},
     "source": [
      "### Simple integral, importance integration/sampling"
     ]
    },
    {
     "cell_type": "markdown",
     "metadata": {},
     "source": [
      "        //   evaluate the integral with the Gauss-Laguerre method\n",
      "        //   Note that we initialize the sum\n",
      "             double int_gausslag = 0.;\n",
      "             for ( int i = 1;  i <= n; i++){\n",
      "               int_gausslag+=wgl[i]*sin(xgl[i]);     }\n"
     ]
    },
    {
     "cell_type": "markdown",
     "metadata": {},
     "source": [
      "### Simple integral"
     ]
    },
    {
     "cell_type": "markdown",
     "metadata": {},
     "source": [
      "        //   evaluate the integral with the Gauss-Laguerre method\n",
      "        //   Here we change the mesh points with a mapping\n",
      "        //   Need to call gauleg from -1 to + 1\n",
      "             gauleg(-1.0, 1.0,x,w, n);\n",
      "             double pi_4 = acos(-1.0)*0.25;\n",
      "             for ( int i = 0;  i < n; i++){\n",
      "               xx=pi_4*(x[i]+1.0);\n",
      "               r[i]= tan(xx);\n",
      "               s[i]=pi_4/(cos(xx)*cos(xx))*w[i];\n",
      "        \n",
      "             double int_gausslegimproved = 0.;\n",
      "             for ( int i = 0;  i < n; i++){\n",
      "               int_gausslegimproved += s[i]*int_function(r[i]);\n",
      "        \n"
     ]
    },
    {
     "cell_type": "markdown",
     "metadata": {},
     "source": [
      "### A six-dimensional integral, project 3 2010\n",
      "\n",
      "The ansatz for the wave function for two electrons is given by the product of two\n",
      "$1s$ wave functions as"
     ]
    },
    {
     "cell_type": "markdown",
     "metadata": {},
     "source": [
      "$$\n",
      "\\Psi({\\bf r}_1,{\\bf r}_2)  =   e^{-\\alpha (r_1+r_2)}.\n",
      "$$"
     ]
    },
    {
     "cell_type": "markdown",
     "metadata": {},
     "source": [
      "Note that it is not possible to find a closed form  solution to Schr\\\"odinger's equation for\n",
      "two interacting electrons in the helium atom.\n",
      "\n",
      "The integral we need to solve is the quantum mechanical expectation value of the correlation\n",
      "energy between two electrons, namely"
     ]
    },
    {
     "cell_type": "markdown",
     "metadata": {},
     "source": [
      "<!-- Equation labels as ordinary links -->\n",
      "<a name=\"eq:correlationenergy\"/>\n",
      "\n",
      "$$\n",
      "\\begin{equation}\\label{eq:correlationenergy} \\tag{27}\n",
      "   \\langle \\frac{1}{|{\\bf r}_1-{\\bf r}_2|} \\rangle =\n",
      "   \\int_{-\\infty}^{\\infty} d{\\bf r}_1d{\\bf r}_2  e^{-2\\alpha (r_1+r_2)}\\frac{1}{|{\\bf r}_1-{\\bf r}_2|}=\\frac{5\\pi^2}{16^2}=0.192765711.\n",
      "\\end{equation}\n",
      "$$"
     ]
    },
    {
     "cell_type": "markdown",
     "metadata": {},
     "source": [
      "Note that our wave function is not normalized. There is a normalization factor missing.\n",
      "\n",
      "### Brute force, six-dimensional integral, Gauss-Legendre"
     ]
    },
    {
     "cell_type": "markdown",
     "metadata": {},
     "source": [
      "             double *x = new double [N];\n",
      "             double *w = new double [N];\n",
      "        //   set up the mesh points and weights\n",
      "             gauleg(a,b,x,w, N);\n",
      "        \n",
      "        //   evaluate the integral with the Gauss-Legendre method\n",
      "        //   Note that we initialize the sum\n",
      "             double int_gauss = 0.;\n",
      "             for (int i=0;i<N;i++){\n",
      "        \t     for (int j = 0;j<N;j++){\n",
      "        \t     for (int k = 0;k<N;k++){\n",
      "        \t     for (int l = 0;l<N;l++){\n",
      "        \t     for (int m = 0;m<N;m++){\n",
      "        \t     for (int n = 0;n<N;n++){\n",
      "                int_gauss+=w[i]*w[j]*w[k]*w[l]*w[m]*w[n]\n",
      "               *int_function(x[i],x[j],x[k],x[l],x[m],x[n]);\n",
      "             \t\t}}}}}\n",
      "        \t}\n"
     ]
    },
    {
     "cell_type": "markdown",
     "metadata": {},
     "source": [
      "### The six-dimensional integral with Gauss-Legendre"
     ]
    },
    {
     "cell_type": "markdown",
     "metadata": {},
     "source": [
      "        //  this function defines the function to integrate\n",
      "        double int_function(double x1, double y1, double z1, double x2, double y2, double z2)\n",
      "        {\n",
      "           double alpha = 2.;\n",
      "        // evaluate the different terms of the exponential\n",
      "           double exp1=-2*alpha*sqrt(x1*x1+y1*y1+z1*z1);\n",
      "           double exp2=-2*alpha*sqrt(x2*x2+y2*y2+z2*z2);\n",
      "           double deno=sqrt(pow((x1-x2),2)+pow((y1-y2),2)+pow((z1-z2),2));\n",
      "          if(deno <pow(10.,-6.)) { return 0;}\n",
      "          else return exp(exp1+exp2)/deno;\n",
      "        } // end of function to evaluate\n",
      "        \n"
     ]
    },
    {
     "cell_type": "markdown",
     "metadata": {},
     "source": [
      "### Switch to spherical coordinates\n",
      "\n",
      "Useful to change to spherical coordinates"
     ]
    },
    {
     "cell_type": "markdown",
     "metadata": {},
     "source": [
      "$$\n",
      "d{\\bf r}_1d{\\bf r}_2  = r_1^2dr_1 r_2^2dr_2 dcos(\\theta_1)dcos(\\theta_2)d\\phi_1d\\phi_2,\n",
      "$$"
     ]
    },
    {
     "cell_type": "markdown",
     "metadata": {},
     "source": [
      "and"
     ]
    },
    {
     "cell_type": "markdown",
     "metadata": {},
     "source": [
      "$$\n",
      "\\frac{1}{r_{12}}= \\frac{1}{\\sqrt{r_1^2+r_2^2-2r_1r_2cos(\\beta)}}\n",
      "$$"
     ]
    },
    {
     "cell_type": "markdown",
     "metadata": {},
     "source": [
      "with"
     ]
    },
    {
     "cell_type": "markdown",
     "metadata": {},
     "source": [
      "$$\n",
      "\\cos(\\beta) = \\cos(\\theta_1)\\cos(\\theta_2)+\\sin(\\theta_1)\\sin(\\theta_2)\\cos(\\phi_1-\\phi_2))\n",
      "$$"
     ]
    },
    {
     "cell_type": "markdown",
     "metadata": {},
     "source": [
      "### Switch to spherical coordinates\n",
      "\n",
      "This means that our integral becomes"
     ]
    },
    {
     "cell_type": "markdown",
     "metadata": {},
     "source": [
      "$$\n",
      "\\int_0^{\\infty} r_1^2dr_1 \\int_0^{\\infty}r_2^2dr_2 \\int_0^{\\pi}dcos(\\theta_1)\\int_0^{\\pi}dcos(\\theta_2)\\int_0^{2\\pi}d\\phi_1\\int_0^{2\\pi}d\\phi_2   \\times\n",
      "$$"
     ]
    },
    {
     "cell_type": "markdown",
     "metadata": {},
     "source": [
      "$$\n",
      "\\frac{e^{-2\\alpha (r_1+r_2)}}{\\sqrt{r_1^2+r_2^2-2r_1r_2\\cos(\\theta_1)\\cos(\\theta_2)+\\sin(\\theta_1)\\sin(\\theta_2)\\cos(\\phi_1-\\phi_2))   }}\n",
      "$$"
     ]
    },
    {
     "cell_type": "markdown",
     "metadata": {},
     "source": [
      "since"
     ]
    },
    {
     "cell_type": "markdown",
     "metadata": {},
     "source": [
      "$$\n",
      "\\frac{1}{r_{12}}= \\frac{1}{\\sqrt{r_1^2+r_2^2-2r_1r_2cos(\\beta)}}\n",
      "$$"
     ]
    },
    {
     "cell_type": "markdown",
     "metadata": {},
     "source": [
      "with"
     ]
    },
    {
     "cell_type": "markdown",
     "metadata": {},
     "source": [
      "$$\n",
      "\\cos(\\beta) = \\cos(\\theta_1)\\cos(\\theta_2)+\\sin(\\theta_1)\\sin(\\theta_2)\\cos(\\phi_1-\\phi_2))\n",
      "$$"
     ]
    },
    {
     "cell_type": "markdown",
     "metadata": {},
     "source": [
      "### Adaptive methods\n",
      "\n",
      "Before we abondon totally methods like the trapezoidal rule,\n",
      "we mention breefly how\n",
      "an adaptive integration method can be implemented.\n",
      "\n",
      "The above methods are all based on a defined step length, normally provided by the user,\n",
      "dividing the integration domain with a fixed number of subintervals.\n",
      "This is rather simple to implement may be inefficient, in particular if the integrand\n",
      "varies considerably in certain areas of the integration domain. In these areas the number of fixed integration points may not be adequate. In other regions, the integrand may vary slowly\n",
      "and fewer integration points may be needed.\n",
      "\n",
      "### Adaptive methods\n",
      "\n",
      "In order to account for such features, it may be convenient to first study the properties of\n",
      "integrand, via for example a plot of the function to integrate. If this function\n",
      "oscillates largely in some specific domain we may then opt for adding more integration points\n",
      "to that particular domain. However, this procedure needs to be repeated for every new integrand and lacks obviously the advantages of a more generic code.\n",
      "\n",
      "### Adaptive methods\n",
      "\n",
      "Assume that we want to compute an integral using say the trapezoidal rule. We limit ourselves\n",
      "to a one-dimensional integral.\n",
      "Our integration domain is defined by $x\\in [a,b]$. The algorithm goes as follows\n",
      "\n",
      "**Step 1.**\n",
      "We compute our first approximation by computing the integral for the full domain. We label this as $I^{(0)}$. It is obtained by calling our previously discussed function `trapezoidal_rule` as"
     ]
    },
    {
     "cell_type": "markdown",
     "metadata": {},
     "source": [
      "        I0 = trapezoidal_rule(a, b, n, function);\n"
     ]
    },
    {
     "cell_type": "markdown",
     "metadata": {},
     "source": [
      "**Step 2.**\n",
      "We split the integration in two, with $c= (a+b)/2$. We compute then the two integrals $I^{(1L)}$ and $I^{(1R)}$"
     ]
    },
    {
     "cell_type": "markdown",
     "metadata": {},
     "source": [
      "        I1L = trapezoidal_rule(a, c, n, function);\n"
     ]
    },
    {
     "cell_type": "markdown",
     "metadata": {},
     "source": [
      "and"
     ]
    },
    {
     "cell_type": "markdown",
     "metadata": {},
     "source": [
      "        I1R = trapezoidal_rule(c, b, n, function);\n"
     ]
    },
    {
     "cell_type": "markdown",
     "metadata": {},
     "source": [
      "With a given defined tolerance, being a small number provided by us, we estimate the difference $|I^{(1L)}+I^{(1R)}-I^{(0)}| < \\mbox{tolerance}$. If this test is satisfied, our first approximation is satisfactory.\n",
      "If not, we can set up a recursive procedure where the integral is split into subsequent subintervals until our tolerance is satisfied.\n",
      "\n",
      "### Adaptive methods"
     ]
    },
    {
     "cell_type": "markdown",
     "metadata": {},
     "source": [
      "        //     Simple recursive function that implements the\n",
      "        //     adaptive integration using the trapezoidal rule\n",
      "        const int maxrecursions = 50;\n",
      "        const double tolerance = 1.0E-10;\n",
      "        //  Takes as input the integration  limits, number of points, function to integrate\n",
      "        //  and the number of steps\n",
      "        void adaptive_integration(double a, double b, double *Integral, int n, int steps, double (*func)(double))\n",
      "             if ( steps > maxrecursions){\n",
      "                cout << 'Too many recursive steps, the function varies too much' << endl;\n",
      "                break;\n",
      "        \n"
     ]
    },
    {
     "cell_type": "markdown",
     "metadata": {},
     "source": [
      "### Adaptive methods"
     ]
    },
    {
     "cell_type": "markdown",
     "metadata": {},
     "source": [
      "             double c = (a+b)*0.5;\n",
      "             // the whole integral\n",
      "             double I0 = trapezoidal_rule(a, b,n, func);\n",
      "             //  the left half\n",
      "             double I1L = trapezoidal_rule(a, c,n, func);\n",
      "             //  the right half\n",
      "             double I1R = trapezoidal_rule(c, b,n, func);\n",
      "             if (fabs(I1L+I1R-I0) < tolerance )  integral = I0;\n",
      "             else\n",
      "             {\n",
      "                adaptive_integration(a, c, integral, int n, ++steps, func)\n",
      "                adaptive_integration(c, b, integral, int n, ++steps, func)\n",
      "        \n",
      "        // end function Adaptive integration\n"
     ]
    },
    {
     "cell_type": "markdown",
     "metadata": {},
     "source": [
      "The variables {\\bf Integral} and {\\bf steps} should be initialized to zero by the function\n",
      "that calls the adaptive procedure.\n",
      "\n",
      "## Overview of week 44\n",
      "\n",
      "### Overview of week 44\n",
      "\n",
      "**Monte Carlo methods.**\n",
      "\n",
      "  * Monday: Repetition from last week\n",
      "\n",
      "  * Parallelization using MPI\n",
      "\n",
      "  * Introduction to Monte Carlo methods and Monte Carlo integration\n",
      "\n",
      "  * Tuesday:\n",
      "\n",
      "  * Monte Carlo integration and importance sampling\n",
      "\n",
      "  * Discussion of project 4.\n",
      "\n",
      "\n",
      "\n",
      "### Going Parallel: Divide et impera - Divide and Conquer (accordingly after Julius Caesar)\n",
      "\n",
      "We will first meet the concept of\n",
      "\n",
      "{\\bf Task parallelism}: the work of a global problem can be divided\n",
      "into a number of independent tasks, which rarely need to synchronize.\n",
      "Monte Carlo simulation or integrations are examples of this.\n",
      "It is almost embarrassingly trivial to parallelize\n",
      "Monte Carlo and numerical integration codes.\n",
      "\n",
      "We will use MPI=Message Passing Interface.\n",
      "MPI is a message-passing library where all the routines\n",
      "have corresponding C/C++-binding"
     ]
    },
    {
     "cell_type": "markdown",
     "metadata": {},
     "source": [
      "           MPI_Command_name\n"
     ]
    },
    {
     "cell_type": "markdown",
     "metadata": {},
     "source": [
      "and Fortran-binding (routine names are in uppercase, but can also be in lower case)"
     ]
    },
    {
     "cell_type": "markdown",
     "metadata": {},
     "source": [
      "           MPI_COMMAND_NAME\n"
     ]
    },
    {
     "cell_type": "markdown",
     "metadata": {},
     "source": [
      "### What is Message Passing Interface (MPI)? Yet another library!\n",
      "\n",
      "MPI is a library, not a language. It specifies the names, calling sequences and results of functions\n",
      "or subroutines to be called from C or Fortran programs, and the classes and methods that make up the MPI C++\n",
      "library. The programs that users write in Fortran, C or C++ are compiled with ordinary compilers and linked\n",
      "with the MPI library.\n",
      "\n",
      "MPI is a specification, not a particular implementation. MPI programs should be able to run\n",
      "on all possible machines and run all MPI implementetations without change.\n",
      "\n",
      "An MPI computation is a collection of processes communicating with messages.\n",
      "\n",
      "See chapter 5.5 of lecture notes for more details.\n",
      "\n",
      "### MPI\n",
      "\n",
      "MPI is a library specification for the message passing interface,\n",
      "proposed as a standard.\n",
      "\n",
      "  * independent of hardware;\n",
      "\n",
      "  * not a language or compiler specification;\n",
      "\n",
      "  * not a specific implementation or product. A message passing standard for portability and ease-of-use. Designed for high performance. Insert communication and synchronization functions where necessary.\n",
      "\n",
      "### Demands from the HPC community\n",
      "\n",
      "In the field of scientific computing, there is an ever-lasting wish\n",
      "to do larger simulations using shorter computer time.\n",
      "\n",
      "Development of the capacity for single-processor computers can\n",
      "hardly keep up with the pace of scientific computing:\n",
      "\n",
      "  * processor speed\n",
      "\n",
      "  * memory size/speed Solution: parallel computing!\n",
      "\n",
      "### The basic ideas of parallel computing\n",
      "\n",
      "  * Pursuit of shorter computation time and larger simulation size gives rise to parallel computing.\n",
      "\n",
      "  * Multiple processors are involved to solve a global problem.\n",
      "\n",
      "  * The essence is to divide the entire computation evenly among collaborative processors. Divide and conquer.\n",
      "\n",
      "### A rough classification of hardware models\n",
      "\n",
      "  *\n",
      "Conventional single-processor computers can be called SISD\n",
      "(single-instruction-single-data) machines.\n",
      "  * SIMD (single-instruction-multiple-data) machines incorporate the idea of parallel processing, which use a large number of process- ing units to execute the same instruction on different data.\n",
      "\n",
      "  * Modern parallel computers are so-called MIMD (multiple-instruction- multiple-data) machines and can execute different instruction streams in parallel on different data.\n",
      "\n",
      "### Shared memory and distributed memory\n",
      "\n",
      "  * One way of categorizing modern parallel computers is to look at the memory configuration.\n",
      "\n",
      "  * In shared memory systems the CPUs share the same address space. Any CPU can access any data in the global memory.\n",
      "\n",
      "  * In distributed memory systems each CPU has its own memory. The CPUs are connected by some network and may exchange messages.\n",
      "\n",
      "### Different parallel programming paradigms\n",
      "\n",
      "  * {\\bf Task parallelism:} the work of a global problem can be divided into a number of independent tasks, which rarely need to synchronize. Monte Carlo simulation is one example. Integration is another. However this paradigm is of limited use.\n",
      "\n",
      "  * {\\bf Data parallelism:} use of multiple threads (e.g. one thread per processor) to dissect loops over arrays etc. This paradigm requires a single memory address space. Communication and synchronization between processors are often hidden, thus easy to program. However, the user surrenders much control to a specialized compiler. Examples of data parallelism are compiler-based parallelization and OpenMP directives.\n",
      "\n",
      "### Today's situation of parallel computing\n",
      "\n",
      "  * Distributed memory is the dominant hardware configuration. There is a large diversity in these machines, from MPP (massively parallel processing) systems to clusters of off-the-shelf PCs, which are very cost-effective.\n",
      "\n",
      "  * Message-passing is a mature programming paradigm and widely accepted. It often provides an efficient match to the hardware. It is primarily used for the distributed memory systems, but can also be used on shared memory systems. In these lectures we consider only message-passing for writing parallel programs.\n",
      "\n",
      "### Overhead present in parallel computing\n",
      "\n",
      "  * {\\bf Uneven load balance}: not all the processors can perform useful work at all time.\n",
      "\n",
      "  * {\\bf Overhead of synchronization.}\n",
      "\n",
      "  * {\\bf Overhead of communication}.\n",
      "\n",
      "  * {Extra computation due to parallelization}. Due to the above overhead and that certain part of a sequential algorithm cannot be parallelized we may not achieve an optimal parallelization.\n",
      "\n",
      "### Parallelizing a sequential algorithm\n",
      "\n",
      "  * Identify the part(s) of a sequential algorithm that can be executed in parallel. This is the difficult part,\n",
      "\n",
      "  * Distribute the global work and data among $P$ processors.\n",
      "\n",
      "### Process and processor\n",
      "\n",
      "  * We refer to process as a logical unit which executes its own code, in an MIMD style.\n",
      "\n",
      "  * The processor is a physical device on which one or several processes are executed.\n",
      "\n",
      "  * The MPI standard uses the concept process consistently throughout its documentation.\n",
      "\n",
      "### Bindings to MPI routines\n",
      "\n",
      "MPI is a message-passing library where all the routines\n",
      "have corresponding C/C++-binding"
     ]
    },
    {
     "cell_type": "markdown",
     "metadata": {},
     "source": [
      "           MPI_Command_name\n"
     ]
    },
    {
     "cell_type": "markdown",
     "metadata": {},
     "source": [
      "and Fortran-binding (routine names are in uppercase, but can also be in lower case)"
     ]
    },
    {
     "cell_type": "markdown",
     "metadata": {},
     "source": [
      "           MPI_COMMAND_NAME\n"
     ]
    },
    {
     "cell_type": "markdown",
     "metadata": {},
     "source": [
      "The discussion in these slides focuses on the C++ binding.\n",
      "\n",
      "### The most important/used MPI routines\n",
      "\n",
      "  * `MPI_ Init` - initiate an MPI computation\n",
      "\n",
      "  * `MPI_Finalize` - terminate the MPI computation and clean up\n",
      "\n",
      "  * `MPI_Comm_size` - how many processes participate in a given MPI communicator?\n",
      "\n",
      "  * `MPI_Comm_rank` - which one am I? (A number between 0 and size-1.)\n",
      "\n",
      "  * `MPI_Reduce(Allreduce)` - Collect data from all nodes and either sum them up in one or all `(Allreduce)`. Useful for numerical integration\n",
      "\n",
      "  * `MPI_Send` - send a message to a particular process within an MPI communicator\n",
      "\n",
      "  * `MPI_Recv` - receive a message from a particular process within an MPI communicator\n",
      "\n",
      "### Note the `MPI_COMM_WORLD` declaration\n",
      "\n",
      "  * A group of MPI processes with a name (context).\n",
      "\n",
      "  * Any process is identified by its rank. The rank is only meaningful within a particular communicator.\n",
      "\n",
      "  * By default communicator `MPI_COMM_WORLD` contains all the MPI processes.\n",
      "\n",
      "  * Mechanism to identify subset of processes.\n",
      "\n",
      "  * Promotes modular design of parallel libraries.\n",
      "\n",
      "### The first MPI C/C++ program\n",
      "\n",
      "Let every process write \"Hello world\" on the standard output.  This is program2.cpp of chapter 4."
     ]
    },
    {
     "cell_type": "markdown",
     "metadata": {},
     "source": [
      "        using namespace std;\n",
      "        #include <mpi.h>\n",
      "        #include <iostream>\n",
      "        int main (int nargs, char* args[])\n",
      "        {\n",
      "        int numprocs, my_rank;\n",
      "        //   MPI initializations\n",
      "        MPI_Init (&nargs, &args);\n",
      "        MPI_Comm_size (MPI_COMM_WORLD, &numprocs);\n",
      "        MPI_Comm_rank (MPI_COMM_WORLD, &my_rank);\n",
      "        cout << \"Hello world, I have  rank \" << my_rank << \" out of \"\n",
      "             << numprocs << endl;\n",
      "        //  End MPI\n",
      "        MPI_Finalize ();\n"
     ]
    },
    {
     "cell_type": "markdown",
     "metadata": {},
     "source": [
      "### The Fortran program"
     ]
    },
    {
     "cell_type": "markdown",
     "metadata": {},
     "source": [
      "        PROGRAM hello\n",
      "        INCLUDE \"mpif.h\"\n",
      "        INTEGER:: size, my_rank, ierr\n",
      "        \n",
      "        CALL  MPI_INIT(ierr)\n",
      "        CALL MPI_COMM_SIZE(MPI_COMM_WORLD, size, ierr)\n",
      "        CALL MPI_COMM_RANK(MPI_COMM_WORLD, my_rank, ierr)\n",
      "        WRITE(*,*)\"Hello world, I've rank \",my_rank,\" out of \",size\n",
      "        CALL MPI_FINALIZE(ierr)\n",
      "        \n",
      "        END PROGRAM hello\n"
     ]
    },
    {
     "cell_type": "markdown",
     "metadata": {},
     "source": [
      "### Note 1\n",
      "\n",
      "The output to screen is not ordered since all processes are trying to write  to screen simultaneously.\n",
      "It is then the operating system which opts for an ordering.\n",
      "If we wish to have an organized output, starting from the first process, we may rewrite our program as in the next example\n",
      "(program3.cpp), see again chapter 5.7 of lecture notes.\n",
      "\n",
      "### Ordered output with `MPI_Barrier`"
     ]
    },
    {
     "cell_type": "markdown",
     "metadata": {},
     "source": [
      "        int main (int nargs, char* args[])\n",
      "        {\n",
      "         int numprocs, my_rank, i;\n",
      "         MPI_Init (&nargs, &args);\n",
      "         MPI_Comm_size (MPI_COMM_WORLD, &numprocs);\n",
      "         MPI_Comm_rank (MPI_COMM_WORLD, &my_rank);\n",
      "         for (i = 0; i < numprocs; i++) {}\n",
      "         MPI_Barrier (MPI_COMM_WORLD);\n",
      "         if (i == my_rank) {\n",
      "         cout << \"Hello world, I have  rank \" << my_rank <<\n",
      "                \" out of \" << numprocs << endl;}\n",
      "              MPI_Finalize ();\n"
     ]
    },
    {
     "cell_type": "markdown",
     "metadata": {},
     "source": [
      "### Note 2\n",
      "\n",
      "Here we have used the `MPI_Barrier` function to ensure that\n",
      "that every process has completed  its set of instructions in  a particular order.\n",
      "A barrier is a special collective operation that does not allow the processes to continue\n",
      "until all processes in the communicator (here `MPI_COMM_WORLD` have called\n",
      "`MPI_Barrier`.\n",
      "The barriers make sure that all processes have reached the same point in the code. Many of the collective operations\n",
      "like `MPI_ALLREDUCE` to be discussed later, have the same property; viz. no process can exit the operation\n",
      "until all processes have started.\n",
      "However, this is slightly more time-consuming since the processes synchronize between themselves as many times as there\n",
      "are processes.  In the next Hello world example we use the send and receive functions in order to a have a synchronized\n",
      "action.\n",
      "\n",
      "### Strategies\n",
      "\n",
      "  * Develop codes locally, run with some few processes and test your codes. Do benchmarking, timing and so forth on local nodes, for example your laptop. You can install MPICH2 on your laptop (most new laptos come with dual cores). You can test with one node at the lab.\n",
      "\n",
      "  * When you are convinced that your codes run correctly, you start your production runs on available supercomputers. At UiO we have a new machine among the top 100, Abel.\n",
      "\n",
      "### How do I run MPI on the machines at the lab (MPICH2)\n",
      "\n",
      "The machines at the lab are all quad-cores\n",
      "\n",
      "**Step 1.**  Compile with mpicxx or mpic++\n",
      "\n",
      "**Step 2.**\n",
      "Set up collaboration between processes and run"
     ]
    },
    {
     "cell_type": "markdown",
     "metadata": {},
     "source": [
      "        mpd --ncpus=4 & # run code with mpiexec -n 4 ./nameofprog\n"
     ]
    },
    {
     "cell_type": "markdown",
     "metadata": {},
     "source": [
      "Here we declare that we will use 4 processes via the `-ncpus` option and via `-n 4` when running.\n",
      "\n",
      "**Step 3.**\n",
      "End with"
     ]
    },
    {
     "cell_type": "markdown",
     "metadata": {},
     "source": [
      "        mpdallexit\n"
     ]
    },
    {
     "cell_type": "markdown",
     "metadata": {},
     "source": [
      "### Can I do it on my own PC/laptop?\n",
      "\n",
      "Of course:\n",
      "\n",
      "  * go to <http://www.mcs.anl.gov/research/projects/mpich2/>\n",
      "\n",
      "  * follow the instructions and install it on your own PC/laptop It works on Windows, Mac and Linux. For Linux (Ubuntu, Linux Mint), go to synaptic package manager and search for MPI. You will get several options.\n",
      "\n",
      "### Ordered output with `MPI_Recv` and `MPI_Send`"
     ]
    },
    {
     "cell_type": "markdown",
     "metadata": {},
     "source": [
      "        .....\n",
      "        int numprocs, my_rank, flag;\n",
      "        MPI_Status status;\n",
      "        MPI_Init (&nargs, &args);\n",
      "        MPI_Comm_size (MPI_COMM_WORLD, &numprocs);\n",
      "        MPI_Comm_rank (MPI_COMM_WORLD, &my_rank);\n",
      "        if (my_rank > 0)\n",
      "        MPI_Recv (&flag, 1, MPI_INT, my_rank-1, 100,\n",
      "                   MPI_COMM_WORLD, &status);\n",
      "        cout << \"Hello world, I have  rank \" << my_rank << \" out of \"\n",
      "        << numprocs << endl;\n",
      "        if (my_rank < numprocs-1)\n",
      "        MPI_Send (&my_rank, 1, MPI_INT, my_rank+1,\n",
      "                  100, MPI_COMM_WORLD);\n",
      "        MPI_Finalize ();\n"
     ]
    },
    {
     "cell_type": "markdown",
     "metadata": {},
     "source": [
      "### Note 3\n",
      "\n",
      "The basic sending of messages is given by the function `MPI_SEND`, which in C/C++\n",
      "is defined as"
     ]
    },
    {
     "cell_type": "markdown",
     "metadata": {},
     "source": [
      "        int MPI_Send(void *buf, int count,\n",
      "                     MPI_Datatype datatype,\n",
      "                     int dest, int tag, MPI_Comm comm)}\n"
     ]
    },
    {
     "cell_type": "markdown",
     "metadata": {},
     "source": [
      "This single command allows the passing of any kind of variable, even a large array, to any group of tasks.\n",
      "The variable {\\bf buf} is the variable we wish to send while {\\bf count}\n",
      "is the  number of variables we are passing. If we are passing only a single value, this should be 1.\n",
      "If we transfer an array, it is  the overall size of the array.\n",
      "For example, if we want to send a 10 by 10 array, count would be $10\\times 10=100$\n",
      "since we are  actually passing 100 values.\n",
      "\n",
      "### Note 4\n",
      "\n",
      "Once you have  sent a message, you must receive it on another task. The function `MPI_RECV` is similar to the send call."
     ]
    },
    {
     "cell_type": "markdown",
     "metadata": {},
     "source": [
      "        int MPI_Recv( void *buf, int count, MPI_Datatype datatype,\n",
      "                    int source,\n",
      "                    int tag, MPI_Comm comm, MPI_Status *status )\n"
     ]
    },
    {
     "cell_type": "markdown",
     "metadata": {},
     "source": [
      "The arguments that are different from those in `MPI_SEND` are\n",
      "{\\bf buf} which  is the name of the variable where you will  be storing the received data,\n",
      "{\\bf source} which  replaces the destination in the send command. This is the return ID of the sender.\n",
      "\n",
      "Finally,  we have used  `MPI_Status status`\n",
      "where one can check if the receive was completed.\n",
      "\n",
      "The output of this code is the same as the previous example, but now\n",
      "process 0 sends a message to process 1, which forwards it further\n",
      "to process 2, and so forth.\n",
      "\n",
      "Armed with this wisdom, performed all hello world greetings, we are now ready for serious work.\n",
      "\n",
      "### Integrating $\\pi$\n",
      "\n",
      "\n",
      "<!-- 2DOFIGURE: [pi.jpg, width=500 frac=0.8] -->\n",
      "\n",
      "\n",
      "**Examples.**\n",
      "\n",
      "  * Go to the program package\n",
      "\n",
      "  * Go to the MPI directory and then chapter 5\n",
      "\n",
      "  * Look at program6.cpp.\n",
      "\n",
      "  * This code computes $\\pi$ using the trapezoidal rule.\n",
      "\n",
      "\n",
      "\n",
      "### Integration algos\n",
      "\n",
      "The trapezoidal rule (program6.cpp)"
     ]
    },
    {
     "cell_type": "markdown",
     "metadata": {},
     "source": [
      "$$\n",
      "I=\\int_a^bf(x) dx=h\\left(f(a)/2 + f(a+h) +f(a+2h)+\n",
      "                          \\dots +f(b-h)+ f_{b}/2\\right).\n",
      "$$"
     ]
    },
    {
     "cell_type": "markdown",
     "metadata": {},
     "source": [
      "Another very simple approach is the so-called midpoint or rectangle method.\n",
      "In this case the integration area is split in a given number of rectangles with length $h$ and\n",
      "heigth given by the mid-point value of the function.  This gives the following simple rule for\n",
      "approximating an integral"
     ]
    },
    {
     "cell_type": "markdown",
     "metadata": {},
     "source": [
      "$$\n",
      "I=\\int_a^bf(x) dx \\approx  h\\sum_{i=1}^N f(x_{i-1/2}),\n",
      "$$"
     ]
    },
    {
     "cell_type": "markdown",
     "metadata": {},
     "source": [
      "where $f(x_{i-1/2})$ is the midpoint value of $f$ for a given rectangle.  This is used in program5.cpp.\n",
      "\n",
      "### `MPI_reduce` and `MPI_Allreduce`\n",
      "\n",
      "The parallel integration MPI instructions are simple if we use the functions\n",
      "`MPI_Reduce` or `MPI_Allreduce`.\n",
      "The first function takes information from all processes and sends the result of the MPI operation to one process only,\n",
      "typically the master node.  If we use `MPI_Allreduce`, the result is sent back to all processes, a feature which is\n",
      "useful when all nodes need the value of a joint operation.  We limit ourselves to `MPI_Reduce` since it is only one\n",
      "process which will print out the final number of our calculation, The arguments to `MPI_Allreduce` are the same.\n",
      "\n",
      "### `MPI_reduce`\n",
      "\n",
      "Call as"
     ]
    },
    {
     "cell_type": "markdown",
     "metadata": {},
     "source": [
      "        MPI_reduce( void *senddata, void* resultdata, int count,\n",
      "             MPI_Datatype datatype, MPI_Op, int root, MPI_Comm comm)\n"
     ]
    },
    {
     "cell_type": "markdown",
     "metadata": {},
     "source": [
      "The two variables $senddata$ and $resultdata$ are obvious, besides the fact that one sends the address\n",
      "of the variable or the first element of an array.  If they are arrays they need to have the same size.\n",
      "The variable $count$ represents the total dimensionality, 1 in case of just one variable,\n",
      "while `MPI_Datatype`\n",
      "defines the type of variable which is sent and received.\n",
      "\n",
      "The new feature is `MPI_Op`. It defines the type\n",
      "of operation we want to do.\n",
      "In our case, since we are summing\n",
      "the rectangle  contributions from every process we define  `MPI_Op = MPI_SUM`.\n",
      "If we have an array or matrix we can search for the largest og smallest element by sending either `MPI_MAX` or\n",
      "`MPI_MIN`.  If we want the location as well (which array element) we simply transfer\n",
      "`MPI_MAXLOC` or `MPI_MINOC`. If we want the product we write `MPI_PROD`.\n",
      "\n",
      "`MPI_Allreduce` is defined as"
     ]
    },
    {
     "cell_type": "markdown",
     "metadata": {},
     "source": [
      "        MPI_Alreduce( void *senddata, void* resultdata, int count,\n",
      "                  MPI_Datatype datatype, MPI_Op, MPI_Comm comm)}.\n"
     ]
    },
    {
     "cell_type": "markdown",
     "metadata": {},
     "source": [
      "### Dissection of example program6.cpp"
     ]
    },
    {
     "cell_type": "markdown",
     "metadata": {},
     "source": [
      "        //    Trapezoidal rule and numerical integration usign MPI, example program6.cpp\n",
      "        using namespace std;\n",
      "        #include <mpi.h>\n",
      "        #include <iostream>\n",
      "        \n",
      "        //     Here we define various functions called by the main program\n",
      "        \n",
      "        double int_function(double );\n",
      "        double trapezoidal_rule(double , double , int , double (*)(double));\n",
      "        \n",
      "        //   Main function begins here\n",
      "        int main (int nargs, char* args[])\n",
      "        {\n",
      "          int n, local_n, numprocs, my_rank;\n",
      "          double a, b, h, local_a, local_b, total_sum, local_sum;\n",
      "          double  time_start, time_end, total_time;\n"
     ]
    },
    {
     "cell_type": "markdown",
     "metadata": {},
     "source": [
      "### Dissection of example program6.cpp"
     ]
    },
    {
     "cell_type": "markdown",
     "metadata": {},
     "source": [
      "          //  MPI initializations\n",
      "          MPI_Init (&nargs, &args);\n",
      "          MPI_Comm_size (MPI_COMM_WORLD, &numprocs);\n",
      "          MPI_Comm_rank (MPI_COMM_WORLD, &my_rank);\n",
      "          time_start = MPI_Wtime();\n",
      "          //  Fixed values for a, b and n\n",
      "          a = 0.0 ; b = 1.0;  n = 1000;\n",
      "          h = (b-a)/n;    // h is the same for all processes\n",
      "          local_n = n/numprocs;\n",
      "          // make sure n > numprocs, else integer division gives zero\n",
      "          // Length of each process' interval of\n",
      "          // integration = local_n*h.\n",
      "          local_a = a + my_rank*local_n*h;\n",
      "          local_b = local_a + local_n*h;\n"
     ]
    },
    {
     "cell_type": "markdown",
     "metadata": {},
     "source": [
      "### Dissection of example program6.cpp"
     ]
    },
    {
     "cell_type": "markdown",
     "metadata": {},
     "source": [
      "          total_sum = 0.0;\n",
      "          local_sum = trapezoidal_rule(local_a, local_b, local_n,\n",
      "                                       &int_function);\n",
      "          MPI_Reduce(&local_sum, &total_sum, 1, MPI_DOUBLE,\n",
      "                      MPI_SUM, 0, MPI_COMM_WORLD);\n",
      "          time_end = MPI_Wtime();\n",
      "          total_time = time_end-time_start;\n",
      "          if ( my_rank == 0) {\n",
      "            cout << \"Trapezoidal rule = \" <<  total_sum << endl;\n",
      "            cout << \"Time = \" <<  total_time\n",
      "                 << \" on number of processors: \"  << numprocs  << endl;\n",
      "        \n",
      "          // End MPI\n",
      "          MPI_Finalize ();\n",
      "          return 0;\n",
      "        }  // end of main program\n"
     ]
    },
    {
     "cell_type": "markdown",
     "metadata": {},
     "source": [
      "### Dissection of example program6.cpp\n",
      "\n",
      "We use `MPI_reduce` to collect data from each process. Note also the use of the function\n",
      "`MPI_Wtime`. The final functions are"
     ]
    },
    {
     "cell_type": "markdown",
     "metadata": {},
     "source": [
      "        //  this function defines the function to integrate\n",
      "        double int_function(double x)\n",
      "        {\n",
      "          double value = 4./(1.+x*x);\n",
      "          return value;\n",
      "        } // end of function to evaluate\n",
      "        \n"
     ]
    },
    {
     "cell_type": "markdown",
     "metadata": {},
     "source": [
      "### Dissection of example program6.cpp\n",
      "\n",
      "Implementation of the trapezoidal rule."
     ]
    },
    {
     "cell_type": "markdown",
     "metadata": {},
     "source": [
      "        //  this function defines the trapezoidal rule\n",
      "        double trapezoidal_rule(double a, double b, int n,\n",
      "                                 double (*func)(double))\n",
      "        {\n",
      "          double trapez_sum;\n",
      "          double fa, fb, x, step;\n",
      "          int    j;\n",
      "          step=(b-a)/((double) n);\n",
      "          fa=(*func)(a)/2. ;\n",
      "          fb=(*func)(b)/2. ;\n",
      "          trapez_sum=0.;\n",
      "          for (j=1; j <= n-1; j++){\n",
      "            x=j*step+a;\n",
      "            trapez_sum+=(*func)(x);\n",
      "        \n",
      "          trapez_sum=(trapez_sum+fb+fa)*step;\n",
      "          return trapez_sum;\n",
      "        }  // end trapezoidal_rule\n"
     ]
    },
    {
     "cell_type": "markdown",
     "metadata": {},
     "source": [
      "### Plan for Monte Carlo Lectures, chapters 11-14 in Lecture notes\n",
      "\n",
      "  * This week: intro, MC integration and probability distribution functions (PDFs)\n",
      "\n",
      "  * Next week: More on integration, PDFs, MC integration and random walks.\n",
      "\n",
      "  * Third week: random walks and statistical physics.\n",
      "\n",
      "  * Fourth week: Statistical physics.\n",
      "\n",
      "  * Fifth week: Most likely quantum Monte Carlo Approximately from this week till the end of November.\n",
      "\n",
      "### Monte Carlo Keywords\n",
      "\n",
      "Consider it is a numerical experiment\n",
      "\n",
      "  * Be able to generate random variables following a given probability distribution function PDF\n",
      "\n",
      "  * Find a probability distribution function (PDF).\n",
      "\n",
      "  * Sampling rule for accepting a move\n",
      "\n",
      "  * Compute standard deviation and other expectation values\n",
      "\n",
      "  * Techniques for improving errors Enhances algorithmic thinking!\n",
      "\n",
      "### Probability Distribution Functions PDF\n",
      "\n",
      "\\begin{tabular}{lcc}\\hline\n",
      "   & Discrete PDF& continuous PDF\\\\\\hline\n",
      "Domain & $\\left\\{x_1, x_2, x_3, \\dots, x_N\\right\\}$ & $[a,b]$ \\\\\n",
      "probability & $p(x_i)$ &  $p(x)dx$ \\\\\n",
      "Cumulative  & $P_i=\\sum_{l=1}^ip(x_l)$ & $P(x)=\\int_a^xp(t)dt$ \\\\\n",
      "Positivity  & $ 0 \\le p(x_i) \\le 1$ & $ p(x) \\ge 0$ \\\\\n",
      "Positivity  & $ 0 \\le P_i \\le 1$ & $ 0 \\le P(x) \\le 1$ \\\\\n",
      "Monotonuous    & $P_i \\ge P_j$ if $x_i \\ge x_j$ & $P(x_i) \\ge P(x_j)$ if $x_i \\ge x_j$ \\\\\n",
      "Normalization & $P_N=1$ & $P(b)=1$\\\\\n",
      "\\hline\n",
      "\\end{tabular}\n",
      "\n",
      "### Expectation Values\n",
      "\n",
      "Discrete PDF"
     ]
    },
    {
     "cell_type": "markdown",
     "metadata": {},
     "source": [
      "$$\n",
      "E[x^k]= \\langle x^k\\rangle=\\frac{1}{N}\\sum_{i=1}^{N}x_i^kp(x_i),\n",
      "$$"
     ]
    },
    {
     "cell_type": "markdown",
     "metadata": {},
     "source": [
      "provided that the sums (or integrals) $ \\sum_{i=1}^{N}p(x_i)$ converge absolutely (viz ,\n",
      "$ \\sum_{i=1}^{N}|p(x_i)|$ converges)\n",
      "\n",
      "Continuous PDF"
     ]
    },
    {
     "cell_type": "markdown",
     "metadata": {},
     "source": [
      "$$\n",
      "E[x^k]=\\langle x^k\\rangle=\\int_a^b x^kp(x)dx,\n",
      "$$"
     ]
    },
    {
     "cell_type": "markdown",
     "metadata": {},
     "source": [
      "Function $f(x)$"
     ]
    },
    {
     "cell_type": "markdown",
     "metadata": {},
     "source": [
      "$$\n",
      "E[f^k]=\\langle f^k\\rangle=\\int_a^b f^kp(x)dx,\n",
      "$$"
     ]
    },
    {
     "cell_type": "markdown",
     "metadata": {},
     "source": [
      "Variance"
     ]
    },
    {
     "cell_type": "markdown",
     "metadata": {},
     "source": [
      "$$\n",
      "\\sigma^2_f=E[f^2]-(E[f])^2=\\langle f^2\\rangle-\\langle f\\rangle^2\n",
      "$$"
     ]
    },
    {
     "cell_type": "markdown",
     "metadata": {},
     "source": [
      "### Important PDFs\n",
      "\n",
      "uniform distribution"
     ]
    },
    {
     "cell_type": "markdown",
     "metadata": {},
     "source": [
      "$$\n",
      "p(x)=\\frac{1}{b-a}\\Theta(x-a)\\Theta(b-x),\n",
      "$$"
     ]
    },
    {
     "cell_type": "markdown",
     "metadata": {},
     "source": [
      "which gives for $a=0,b=1$ $p(x)=1$ for $x\\in [0,1]$ and zero else.\n",
      "\n",
      "exponential distribution"
     ]
    },
    {
     "cell_type": "markdown",
     "metadata": {},
     "source": [
      "$$\n",
      "p(x)=\\alpha e^{-\\alpha x},\n",
      "$$"
     ]
    },
    {
     "cell_type": "markdown",
     "metadata": {},
     "source": [
      "with probability different from zero in  $[0,\\infty]$\n",
      "\n",
      "normal distribution (Gaussian)"
     ]
    },
    {
     "cell_type": "markdown",
     "metadata": {},
     "source": [
      "$$\n",
      "p(x)=\\frac{1}{\\sqrt{2\\pi\\sigma^2}}\\exp{\\left(-\\frac{(x-\\mu)^2}{2\\sigma^2}\\right)}\n",
      "$$"
     ]
    },
    {
     "cell_type": "markdown",
     "metadata": {},
     "source": [
      "with probability different from zero in $[-\\infty,\\infty]$\n",
      "\n",
      "All random number generators use the uniform distribution for $x\\in[0,1]$.\n",
      "\n",
      "### Why Monte Carlo?\n",
      "\n",
      "An example from quantum mechanics: most\n",
      " problems of interest in e.g., atomic, molecular, nuclear and solid state\n",
      " physics consist of a large number of\n",
      " interacting electrons and ions or nucleons.\n",
      " The total number of particles $N$ is usually sufficiently large\n",
      " that an exact solution cannot be found.\n",
      " Typically,\n",
      " the expectation value for a chosen hamiltonian for a system of\n",
      " $N$ particles is"
     ]
    },
    {
     "cell_type": "markdown",
     "metadata": {},
     "source": [
      "$$\n",
      "\\langle H \\rangle =\n",
      "$$"
     ]
    },
    {
     "cell_type": "markdown",
     "metadata": {},
     "source": [
      "$$\n",
      "\\frac{\\int d{\\bf R}_1d{\\bf R}_2\\dots d{\\bf R}_N\n",
      "          \\Psi^{\\ast}({\\bf R_1},{\\bf R}_2,\\dots,{\\bf R}_N)\n",
      "           H({\\bf R_1},{\\bf R}_2,\\dots,{\\bf R}_N)\n",
      "           \\Psi({\\bf R_1},{\\bf R}_2,\\dots,{\\bf R}_N)}\n",
      "         {\\int d{\\bf R}_1d{\\bf R}_2\\dots d{\\bf R}_N\n",
      "         \\Psi^{\\ast}({\\bf R_1},{\\bf R}_2,\\dots,{\\bf R}_N)\n",
      "         \\Psi({\\bf R_1},{\\bf R}_2,\\dots,{\\bf R}_N)},\n",
      "$$"
     ]
    },
    {
     "cell_type": "markdown",
     "metadata": {},
     "source": [
      "an in general intractable problem.\n",
      "\n",
      " This integral is actually the starting point in a Variational Monte Carlo calculation.\n",
      " {\\bf Gaussian quadrature: Forget it!} given 10 particles and 10 mesh points for each degree of freedom\n",
      "and an\n",
      " ideal 1 petaflops machine (all operations take the same time), how long will it ta\n",
      "ke to compute the above integral? Lifetime of the universe $T\\approx 4.7 \\times\n",
      "10^{17}$s.\n",
      "\n",
      "### More on dimensionality\n",
      "\n",
      " As an example from the nuclear many-body problem, we have Schr\\\"odinger's\n",
      " equation as\n",
      " a differential equation"
     ]
    },
    {
     "cell_type": "markdown",
     "metadata": {},
     "source": [
      "$$\n",
      "\\hat{H}\\Psi({\\bf r}_1,..,{\\bf r}_A,\\alpha_1,..,\\alpha_A)=E\\Psi({\\bf r}_1,..,{\n",
      "\\bf r}_A,\\alpha_1,..,\\alpha_A)\n",
      "$$"
     ]
    },
    {
     "cell_type": "markdown",
     "metadata": {},
     "source": [
      "where"
     ]
    },
    {
     "cell_type": "markdown",
     "metadata": {},
     "source": [
      "$$\n",
      "{\\bf r}_1,..,{\\bf r}_A,\n",
      "$$"
     ]
    },
    {
     "cell_type": "markdown",
     "metadata": {},
     "source": [
      "are the coordinates and"
     ]
    },
    {
     "cell_type": "markdown",
     "metadata": {},
     "source": [
      "$$\n",
      "\\alpha_1,..,\\alpha_A,\n",
      "$$"
     ]
    },
    {
     "cell_type": "markdown",
     "metadata": {},
     "source": [
      "are sets of relevant quantum numbers such as spin and isospin for a system of\n",
      " $A$ nucleons ($A=N+Z$, $N$ being the number of neutrons and $Z$ the number of protons).\n",
      "\n",
      "### Even more on dimensionality\n",
      "\n",
      " There are"
     ]
    },
    {
     "cell_type": "markdown",
     "metadata": {},
     "source": [
      "$$\n",
      "2^A\\times \\left(\\begin{array}{c} A\\\\ Z\\end{array}\\right)\n",
      "$$"
     ]
    },
    {
     "cell_type": "markdown",
     "metadata": {},
     "source": [
      "coupled second-order differential equations in $3A$ dimensions.\n",
      "\n",
      " For a nucleus like $^{10}$Be this number is\n",
      " {\\bf 215040}.\n",
      " This is a truely challenging many-body problem.\n",
      "\n",
      "### But what do we gain by  Monte Carlo Integration?\n",
      "\n",
      "A crude approach consists in setting all weights equal 1, $\\omega_i=1$.\n",
      "With $dx=h=(b-a)/N$ where $b=1$, $a=0$ in our case and $h$ is the\n",
      "step size. The integral"
     ]
    },
    {
     "cell_type": "markdown",
     "metadata": {},
     "source": [
      "$$\n",
      "I=\\int_0^1 f(x)dx\\approx \\frac{1}{N}\\sum_{i=1}^Nf(x_i),\n",
      "$$"
     ]
    },
    {
     "cell_type": "markdown",
     "metadata": {},
     "source": [
      "can be rewritten using the concept of the average of the function $f$ for a given PDF $p(x)$ as"
     ]
    },
    {
     "cell_type": "markdown",
     "metadata": {},
     "source": [
      "$$\n",
      "E[f]=\\langle f \\rangle = \\frac{1}{N}\\sum_{i=1}^Nf(x_i)p(x_i),\n",
      "$$"
     ]
    },
    {
     "cell_type": "markdown",
     "metadata": {},
     "source": [
      "and identify $p(x)$ with the uniform distribution, viz\n",
      "$ p(x)=1$ when $x\\in [0,1]$ and zero for all other values of $x$.\n",
      "The integral\n",
      "is then  the average of $f$ over the interval $x \\in [0,1]$"
     ]
    },
    {
     "cell_type": "markdown",
     "metadata": {},
     "source": [
      "$$\n",
      "I=\\int_0^1 f(x)dx\\approx E[f]=\\langle f \\rangle.\n",
      "$$"
     ]
    },
    {
     "cell_type": "markdown",
     "metadata": {},
     "source": [
      "### But what do we gain by  Monte Carlo Integration?\n",
      "\n",
      "In addition to the average value $\\langle f \\rangle$ the other\n",
      "important quantity in a\n",
      "Monte-Carlo calculation is the variance $\\sigma^2$ and\n",
      "the standard deviation $\\sigma$. We define first the variance\n",
      "of the integral with $f$ for a uniform distribution in the interval\n",
      "$x \\in [0,1]$ to be"
     ]
    },
    {
     "cell_type": "markdown",
     "metadata": {},
     "source": [
      "$$\n",
      "\\sigma^2_f=\\frac{1}{N}\\sum_{i=1}^N(f(x_i)-\\langle f\\rangle)^2p(x_i),\n",
      "$$"
     ]
    },
    {
     "cell_type": "markdown",
     "metadata": {},
     "source": [
      "and inserting the uniform distribution this yields"
     ]
    },
    {
     "cell_type": "markdown",
     "metadata": {},
     "source": [
      "$$\n",
      "\\sigma^2_f=\\frac{1}{N}\\sum_{i=1}^Nf(x_i)^2-\n",
      "  \\left(\\frac{1}{N}\\sum_{i=1}^Nf(x_i)\\right)^2,\n",
      "$$"
     ]
    },
    {
     "cell_type": "markdown",
     "metadata": {},
     "source": [
      "or"
     ]
    },
    {
     "cell_type": "markdown",
     "metadata": {},
     "source": [
      "$$\n",
      "\\sigma^2_f=E[f^2]-(E[f])^2=\\left(\\langle f^2\\rangle -\n",
      "                                 \\langle f \\rangle^2\\right).\n",
      "$$"
     ]
    },
    {
     "cell_type": "markdown",
     "metadata": {},
     "source": [
      "which is nothing but a measure of the extent to\n",
      "which $f$ deviates from its average over the region of integration.\n",
      "The standard deviation is defined as the square root of the variance.\n",
      "\n",
      "### But what do we gain by  Monte Carlo Integration?\n",
      "\n",
      "If we consider the above results for\n",
      "a fixed value of $N$ as a measurement,\n",
      "we could however recalculate the\n",
      "above average and variance for a series of different measurements.\n",
      "If each such measumerent produces a set of averages for the\n",
      "integral $I$ denoted $\\langle f\\rangle_l$, we have for $M$ measurements\n",
      "that the integral is given by"
     ]
    },
    {
     "cell_type": "markdown",
     "metadata": {},
     "source": [
      "$$\n",
      "\\langle I \\rangle_M=\\frac{1}{M}\\sum_{l=1}^{M}\\langle f\\rangle_l.\n",
      "$$"
     ]
    },
    {
     "cell_type": "markdown",
     "metadata": {},
     "source": [
      "If we can consider the probability of\n",
      "correlated events to be zero, we can rewrite\n",
      "the variance of these series of measurements as (equating $M=N$)"
     ]
    },
    {
     "cell_type": "markdown",
     "metadata": {},
     "source": [
      "$$\n",
      "\\sigma^2_N\\approx \\frac{1}{N}\\left(\\langle f^2\\rangle -\n",
      "                                 \\langle f \\rangle^2\\right)=\\frac{\\sigma^2_f}{N}.\n",
      "$$"
     ]
    },
    {
     "cell_type": "markdown",
     "metadata": {},
     "source": [
      "We note that the standard deviation is proportional with the inverse square root of\n",
      "the number of measurements"
     ]
    },
    {
     "cell_type": "markdown",
     "metadata": {},
     "source": [
      "$$\n",
      "\\sigma_N \\sim \\frac{1}{\\sqrt{N}}.\n",
      "$$"
     ]
    },
    {
     "cell_type": "markdown",
     "metadata": {},
     "source": [
      "*The aim in Monte Carlo calculations is to have $\\sigma_N$ as small as possible after $N$ samples. *\n",
      "The results from one  sample represents,\n",
      "since we are using concepts from statistics,\n",
      "a 'measurement'.\n",
      "\n",
      "### But what do we gain by  Monte Carlo Integration?\n",
      "\n",
      "  * We saw that the trapezoidal rule carries a truncation error $O(h^2)$, with $h$ the step length.\n",
      "\n",
      "   * Quadrature rules such as Newton-Cotes have a truncation error which goes like $\\sim O(h^k)$, with $k \\ge 1$. Recalling that the step size is defined as $h=(b-a)/N$, we have an error which goes like $\\sim N^{-k}$.\n",
      "\n",
      "\n",
      "  * Monte Carlo integration is more efficient in higher dimensions. Assume that our integration volume is a hypercube with side $L$ and dimension $d$. This cube contains hence $N=(L/h)^d$ points and therefore the error in the result scales as $N^{-k/d}$ for the traditional methods.\n",
      "\n",
      "  * The error in the Monte carlo integration is however independent of $d$ and scales as $\\sigma\\sim 1/\\sqrt{N}$, always!\n",
      "\n",
      "  *\n",
      "Comparing\n",
      "this with traditional methods, shows that\n",
      "Monte Carlo integration is more efficient than an order-k algorithm\n",
      "when $d > 2k$\n",
      "\n",
      "### Some simple examples: Example 1: Particles in a Box\n",
      "\n",
      "Consider a box divided into two equal halves separated by a wall.\n",
      "At the beginning, time $t=0$, there are $N$ particles on the left\n",
      "side. A small hole in the wall is then opened and one particle\n",
      "can pass through the hole per unit time.\n",
      "\n",
      "After some time the system reaches its equilibrium state with\n",
      "equally many particles in both halves, $N/2$.\n",
      "Instead of determining complicated initial conditions for a system\n",
      "of $N$ particles, we model the system by a simple statistical model.\n",
      "In order to simulate this system, which may consist of $N \\gg 1$ particles,\n",
      "we assume that all particles in the left half have equal probabilities\n",
      "of going to the right half.\n",
      "\n",
      "### Particles in a Box\n",
      "\n",
      "We introduce the label $n_l$ to denote the\n",
      " number of particles at every time on the left side, and $n_r=N-n_l$ for those\n",
      "on the right side.\n",
      "The probability for a move to the right during a time step  $\\Delta t$\n",
      "is $n_l/N$. The algorithm for simulating this problem may then look\n",
      "like as follows\n",
      "\n",
      "  * Choose the number of particles $N$.\n",
      "\n",
      "  * Make a loop over time, where the maximum time should be larger\n",
      "         than the number of particles $N$.\n",
      "\n",
      "  * For every time step $\\Delta t$ there is a probability $n_l/N$ for a move to the right. Compare this probability with a random number $x$.\n",
      "\n",
      "  * If $ x \\le n_l/N$, decrease the number of particles in the left\n",
      "         half by one, i.e., $n_l=n_l-1$. Else, move a particle from the\n",
      "         right half to the left, i.e., $n_l=n_l+1$.\n",
      "         {\\bf This is our sampling rule}\n",
      "\n",
      "  * Increase the time by one unit (the external loop). In this case, a Monte Carlo sample corresponds to one time unit $\\Delta t$.\n",
      "\n",
      "### Particles in a Box"
     ]
    },
    {
     "cell_type": "markdown",
     "metadata": {},
     "source": [
      "          // setup of initial conditions\n",
      "          nleft = initial_n_particles;\n",
      "          max_time = 10*initial_n_particles;\n",
      "          idum = -1;\n",
      "          // sampling over number of particles\n",
      "          for( time=0; time <= max_time; time++){\n",
      "            random_n = ((int) initial_n_particles*ran0(&idum));\n",
      "            if ( random_n <= nleft){\n",
      "              nleft -= 1;\n",
      "        \n",
      "            else{\n",
      "              nleft += 1;\n",
      "        \n",
      "            ofile << setiosflags(ios::showpoint | ios::uppercase);\n",
      "            ofile << setw(15) << time;\n",
      "            ofile << setw(15) << nleft << endl;\n",
      "        \n"
     ]
    },
    {
     "cell_type": "markdown",
     "metadata": {},
     "source": [
      "### Example 2: Radioactive Decay\n",
      "\n",
      "Assume that a the time $t=0$ we have $N(0)$ nuclei of type $X$\n",
      "which can decay radioactively. At a time $t > 0$ we are left with\n",
      "$N(t)$ nuclei. With a transition probability $\\omega$,\n",
      "which expresses the probability that the system will make a transition to\n",
      "another state during a time step of one second, we have the following first-order\n",
      "differential equation"
     ]
    },
    {
     "cell_type": "markdown",
     "metadata": {},
     "source": [
      "$$\n",
      "dN(t)=-\\omega N(t)dt,\n",
      "$$"
     ]
    },
    {
     "cell_type": "markdown",
     "metadata": {},
     "source": [
      "whose  solution is"
     ]
    },
    {
     "cell_type": "markdown",
     "metadata": {},
     "source": [
      "$$\n",
      "N(t)=N(0)e^{-\\omega t},\n",
      "$$"
     ]
    },
    {
     "cell_type": "markdown",
     "metadata": {},
     "source": [
      "where we have defined the mean lifetime $\\tau$ of $X$ as"
     ]
    },
    {
     "cell_type": "markdown",
     "metadata": {},
     "source": [
      "$$\n",
      "\\tau =\\frac{1}{\\omega}.\n",
      "$$"
     ]
    },
    {
     "cell_type": "markdown",
     "metadata": {},
     "source": [
      "If a nucleus $X$ decays to a daugther nucleus $Y$ which also can decay, we get\n",
      "the following coupled equations"
     ]
    },
    {
     "cell_type": "markdown",
     "metadata": {},
     "source": [
      "$$\n",
      "\\frac{dN_X(t)}{dt}=-\\omega_XN_X(t),\n",
      "$$"
     ]
    },
    {
     "cell_type": "markdown",
     "metadata": {},
     "source": [
      "and"
     ]
    },
    {
     "cell_type": "markdown",
     "metadata": {},
     "source": [
      "$$\n",
      "\\frac{dN_Y(t)}{dt}=-\\omega_YN_Y(t)+\\omega_XN_X(t).\n",
      "$$"
     ]
    },
    {
     "cell_type": "markdown",
     "metadata": {},
     "source": [
      "### Radioactive Decay\n",
      "\n",
      "Probability for a decay of a particle during a time step\n",
      "$\\Delta t$\n",
      "is"
     ]
    },
    {
     "cell_type": "markdown",
     "metadata": {},
     "source": [
      "$$\n",
      "\\frac{\\Delta N(t)}{N(t)\\Delta t}= -\\lambda\n",
      "$$"
     ]
    },
    {
     "cell_type": "markdown",
     "metadata": {},
     "source": [
      "$\\lambda$ is inversely proportional to the lifetime\n",
      "\n",
      "  * Choose the number of particles $N(t=0)=N_0$.\n",
      "\n",
      "  * Make a loop over the number of time steps,\n",
      "         with maximum time bigger than the number of particles $N_0$\n",
      "\n",
      "  * At every time step there is a probability $\\lambda$ for decay. Compare this probability with a random number $x$.\n",
      "\n",
      "  * If $ x \\le \\lambda$, reduce the number of particles with one\n",
      "         i.e., $N=N-1$. If not, keep the same number of particles till the next\n",
      "         time step.\n",
      "         {\\bf This is our sampling rule}\n",
      "\n",
      "  * Increase by one the time step (the external loop)\n",
      "\n",
      "### Radioactive Decay"
     ]
    },
    {
     "cell_type": "markdown",
     "metadata": {},
     "source": [
      "          idum=-1;  // initialise random number generator\n",
      "          // loop over monte carlo cycles\n",
      "          // One monte carlo loop is one sample\n",
      "          for (cycles = 1; cycles <= number_cycles; cycles++){\n",
      "            n_unstable = initial_n_particles;\n",
      "            //  accumulate the number of particles per time step per trial\n",
      "            ncumulative[0] += initial_n_particles;\n",
      "            // loop over each time step\n",
      "            for (time=1; time <= max_time; time++){\n",
      "              // for each time step, we check each particle\n",
      "              particle_limit = n_unstable;\n",
      "              for ( np = 1; np <=  particle_limit; np++) {\n",
      "                if( ran0(&idum) <= decay_probability) {\n",
      "                  n_unstable=n_unstable-1;\n",
      "        \n",
      "              }  // end of loop over particles\n",
      "              ncumulative[time] += n_unstable;\n",
      "            }  // end of loop over time steps\n",
      "          }    // end of loop over MC trials\n",
      "        }   // end mc_sampling function\n"
     ]
    },
    {
     "cell_type": "markdown",
     "metadata": {},
     "source": [
      "### Monte Carlo Keywords\n",
      "\n",
      "Consider it is a numerical experiment\n",
      "\n",
      "  * Be able to generate random variables following a given probability distribution function PDF\n",
      "\n",
      "  * Find a probability distribution function (PDF).\n",
      "\n",
      "  * Sampling rule for accepting a move\n",
      "\n",
      "  * Compute standard deviation and other expectation values\n",
      "\n",
      "  * Techniques for improving errors Enhances algorithmic thinking!\n",
      "\n",
      "### Why Monte Carlo integration?\n",
      "\n",
      "An example from quantum mechanics: most\n",
      " problems of interest in e.g., atomic, molecular, nuclear and solid state\n",
      " physics consist of a large number of\n",
      " interacting electrons and ions or nucleons.\n",
      " The total number of particles $N$ is usually sufficiently large\n",
      " that an exact solution cannot be found.\n",
      " Typically,\n",
      " the expectation value for a chosen hamiltonian for a system of\n",
      " $N$ particles is"
     ]
    },
    {
     "cell_type": "markdown",
     "metadata": {},
     "source": [
      "$$\n",
      "\\langle H \\rangle =\n",
      "$$"
     ]
    },
    {
     "cell_type": "markdown",
     "metadata": {},
     "source": [
      "$$\n",
      "\\frac{\\int d{\\bf R}_1d{\\bf R}_2\\dots d{\\bf R}_N\n",
      "          \\Psi^{\\ast}({\\bf R_1},{\\bf R}_2,\\dots,{\\bf R}_N)\n",
      "           H({\\bf R_1},{\\bf R}_2,\\dots,{\\bf R}_N)\n",
      "           \\Psi({\\bf R_1},{\\bf R}_2,\\dots,{\\bf R}_N)}\n",
      "         {\\int d{\\bf R}_1d{\\bf R}_2\\dots d{\\bf R}_N\n",
      "         \\Psi^{\\ast}({\\bf R_1},{\\bf R}_2,\\dots,{\\bf R}_N)\n",
      "         \\Psi({\\bf R_1},{\\bf R}_2,\\dots,{\\bf R}_N)},\n",
      "$$"
     ]
    },
    {
     "cell_type": "markdown",
     "metadata": {},
     "source": [
      "an in general intractable problem.\n",
      "\n",
      " This integral is actually the starting point in a Variational Monte Carlo calculation.\n",
      " {\\bf Gaussian quadrature: Forget it!} given 10 particles and 10 mesh points for each degree of freedom\n",
      "and an\n",
      " ideal 1 petaflops machine (all operations take the same time), how long will it ta\n",
      "ke to compute the above integral? Lifetime of the universe $T\\approx 4.7 \\times\n",
      "10^{17}$s.\n",
      "\n",
      "### But what do we gain by  Monte Carlo Integration?\n",
      "\n",
      "A crude approach consists in setting all weights equal 1, $\\omega_i=1$.\n",
      "With $dx=h=(b-a)/N$ where $b=1$, $a=0$ in our case and $h$ is the\n",
      "step size. The integral"
     ]
    },
    {
     "cell_type": "markdown",
     "metadata": {},
     "source": [
      "$$\n",
      "I=\\int_0^1 f(x)dx\\approx \\frac{1}{N}\\sum_{i=1}^Nf(x_i),\n",
      "$$"
     ]
    },
    {
     "cell_type": "markdown",
     "metadata": {},
     "source": [
      "can be rewritten using the concept of the average of the function $f$ for a given PDF $p(x)$ as"
     ]
    },
    {
     "cell_type": "markdown",
     "metadata": {},
     "source": [
      "$$\n",
      "E[f]=\\langle f \\rangle = \\frac{1}{N}\\sum_{i=1}^Nf(x_i)p(x_i),\n",
      "$$"
     ]
    },
    {
     "cell_type": "markdown",
     "metadata": {},
     "source": [
      "and identify $p(x)$ with the uniform distribution, viz\n",
      "$ p(x)=1$ when $x\\in [0,1]$ and zero for all other values of $x$.\n",
      "The integral\n",
      "is then  the average of $f$ over the interval $x \\in [0,1]$"
     ]
    },
    {
     "cell_type": "markdown",
     "metadata": {},
     "source": [
      "$$\n",
      "I=\\int_0^1 f(x)dx\\approx E[f]=\\langle f \\rangle.\n",
      "$$"
     ]
    },
    {
     "cell_type": "markdown",
     "metadata": {},
     "source": [
      "### But what do we gain by  Monte Carlo Integration?\n",
      "\n",
      "In addition to the average value $\\langle f \\rangle$ the other\n",
      "important quantity in a\n",
      "Monte-Carlo calculation is the variance $\\sigma^2$ and\n",
      "the standard deviation $\\sigma$. We define first the variance\n",
      "of the integral with $f$ for a uniform distribution in the interval\n",
      "$x \\in [0,1]$ to be"
     ]
    },
    {
     "cell_type": "markdown",
     "metadata": {},
     "source": [
      "$$\n",
      "\\sigma^2_f=\\frac{1}{N}\\sum_{i=1}^N(f(x_i)-\\langle f\\rangle)^2p(x_i),\n",
      "$$"
     ]
    },
    {
     "cell_type": "markdown",
     "metadata": {},
     "source": [
      "and inserting the uniform distribution this yields"
     ]
    },
    {
     "cell_type": "markdown",
     "metadata": {},
     "source": [
      "$$\n",
      "\\sigma^2_f=\\frac{1}{N}\\sum_{i=1}^Nf(x_i)^2-\n",
      "  \\left(\\frac{1}{N}\\sum_{i=1}^Nf(x_i)\\right)^2,\n",
      "$$"
     ]
    },
    {
     "cell_type": "markdown",
     "metadata": {},
     "source": [
      "or"
     ]
    },
    {
     "cell_type": "markdown",
     "metadata": {},
     "source": [
      "$$\n",
      "\\sigma^2_f=E[f^2]-(E[f])^2=\\left(\\langle f^2\\rangle -\n",
      "                                 \\langle f \\rangle^2\\right).\n",
      "$$"
     ]
    },
    {
     "cell_type": "markdown",
     "metadata": {},
     "source": [
      "which is nothing but a measure of the extent to\n",
      "which $f$ deviates from its average over the region of integration.\n",
      "The standard deviation is defined as the square root of the variance.\n",
      "\n",
      "### But what do we gain by  Monte Carlo Integration?\n",
      "\n",
      "If we consider the above results for\n",
      "a fixed value of $N$ as a measurement,\n",
      "we could however recalculate the\n",
      "above average and variance for a series of different measurements.\n",
      "If each such measumerent produces a set of averages for the\n",
      "integral $I$ denoted $\\langle f\\rangle_l$, we have for $M$ measurements\n",
      "that the integral is given by"
     ]
    },
    {
     "cell_type": "markdown",
     "metadata": {},
     "source": [
      "$$\n",
      "\\langle I \\rangle_M=\\frac{1}{M}\\sum_{l=1}^{M}\\langle f\\rangle_l.\n",
      "$$"
     ]
    },
    {
     "cell_type": "markdown",
     "metadata": {},
     "source": [
      "If we can consider the probability of\n",
      "correlated events to be zero, we can rewrite\n",
      "the variance of these series of measurements as (equating $M=N$)"
     ]
    },
    {
     "cell_type": "markdown",
     "metadata": {},
     "source": [
      "$$\n",
      "\\sigma^2_N\\approx \\frac{1}{N}\\left(\\langle f^2\\rangle -\n",
      "                                 \\langle f \\rangle^2\\right)=\\frac{\\sigma^2_f}{N}.\n",
      "$$"
     ]
    },
    {
     "cell_type": "markdown",
     "metadata": {},
     "source": [
      "We note that the standard deviation is proportional with the inverse square root of\n",
      "the number of measurements"
     ]
    },
    {
     "cell_type": "markdown",
     "metadata": {},
     "source": [
      "$$\n",
      "\\sigma_N \\sim \\frac{1}{\\sqrt{N}}.\n",
      "$$"
     ]
    },
    {
     "cell_type": "markdown",
     "metadata": {},
     "source": [
      "*The aim in Monte Carlo calculations is to have $\\sigma_N$ as small as possible after $N$ samples. *\n",
      "The results from one  sample represents,\n",
      "since we are using concepts from statistics,\n",
      "a 'measurement'.\n",
      "\n",
      "### But what do we gain by  Monte Carlo Integration?\n",
      "\n",
      "  * We saw that the trapezoidal rule carries a truncation error $O(h^2)$, with $h$ the step length.\n",
      "\n",
      "   * Quadrature rules such as Newton-Cotes have a truncation error which goes like $\\sim O(h^k)$, with $k \\ge 1$. Recalling that the step size is defined as $h=(b-a)/N$, we have an error which goes like $\\sim N^{-k}$.\n",
      "\n",
      "\n",
      "  * Monte Carlo integration is more efficient in higher dimensions. Assume that our integration volume is a hypercube with side $L$ and dimension $d$. This cube contains hence $N=(L/h)^d$ points and therefore the error in the result scales as $N^{-k/d}$ for the traditional methods.\n",
      "\n",
      "  * The error in the Monte carlo integration is however independent of $d$ and scales as $\\sigma\\sim 1/\\sqrt{N}$, always!\n",
      "\n",
      "  *\n",
      "Comparing\n",
      "this with traditional methods, shows that\n",
      "Monte Carlo integration is more efficient than an order-k algorithm\n",
      "when $d>2k$\n",
      "\n",
      "### Example: Acceptance-Rejection Method\n",
      "\n",
      "This is a rather simple and appealing\n",
      "method after von Neumann. Assume that we are looking at an interval\n",
      "$x\\in [a,b]$, this being the domain of the PDF $p(x)$. Suppose also that\n",
      "the largest value our distribution function takes in this interval\n",
      "is $M$, that is"
     ]
    },
    {
     "cell_type": "markdown",
     "metadata": {},
     "source": [
      "$$\n",
      "p(x) \\le M \\quad  x\\in [a,b].\n",
      "$$"
     ]
    },
    {
     "cell_type": "markdown",
     "metadata": {},
     "source": [
      "Then we generate a random number $x$ from the uniform distribution\n",
      "for $x\\in [a,b]$ and a corresponding number $s$ for the uniform\n",
      "distribution between $[0,M]$.\n",
      "If"
     ]
    },
    {
     "cell_type": "markdown",
     "metadata": {},
     "source": [
      "$$\n",
      "p(x) \\ge s,\n",
      "$$"
     ]
    },
    {
     "cell_type": "markdown",
     "metadata": {},
     "source": [
      "we accept the new value of $x$, else we generate\n",
      "again two new random numbers $x$ and $s$ and perform the test\n",
      "in the latter equation again.\n",
      "\n",
      "### Acceptance-Rejection Method\n",
      "\n",
      "As an example, consider the evaluation of the integral"
     ]
    },
    {
     "cell_type": "markdown",
     "metadata": {},
     "source": [
      "$$\n",
      "I=\\int_0^3\\exp{(x)}dx.\n",
      "$$"
     ]
    },
    {
     "cell_type": "markdown",
     "metadata": {},
     "source": [
      "Obviously to derive it analytically is much easier, however the integrand could pose some more\n",
      "difficult challenges. The aim here is simply to show how to implent the acceptance-rejection algorithm.\n",
      "The integral is the area below the curve $f(x)=\\exp{(x)}$. If we uniformly fill the rectangle\n",
      "spanned by $x\\in [0,3]$ and $y\\in [0,\\exp{(3)}]$, the fraction below the curve obatained from a uniform distribution, and\n",
      "multiplied by the area of the rectangle, should approximate the chosen integral. It is rather\n",
      "easy to implement this numerically, as shown in the following code.\n",
      "\n",
      "### Simple Plot of the Accept-Reject Method\n",
      "\n",
      "<!-- 2DOFIGURE: [acceptreject, width=500 frac=0.35] -->\n",
      "\n",
      "### Acceptance-Rejection Method"
     ]
    },
    {
     "cell_type": "markdown",
     "metadata": {},
     "source": [
      "        //   Loop over Monte Carlo trials n\n",
      "             integral =0.;\n",
      "             for ( int i = 1;  i <= n; i++){\n",
      "        //   Finds a random value for x in the interval [0,3]\n",
      "                  x = 3*ran0(&idum);\n",
      "        //   Finds y-value between [0,exp(3)]\n",
      "                  y = exp(3.0)*ran0(&idum);\n",
      "        //   if the value of y at exp(x) is below the curve, we accept\n",
      "        //   THIS IS OUR SAMPLING RULE\n",
      "                  if ( y  < exp(x)) s = s+ 1.0;\n",
      "        //   The integral is area enclosed below the line f(x)=exp(x)\n",
      "        \n",
      "        //  Then we multiply with the area of the rectangle and\n",
      "        //  divide by the number of cycles\n",
      "            Integral = 3.*exp(3.)*s/n\n"
     ]
    },
    {
     "cell_type": "markdown",
     "metadata": {},
     "source": [
      "### Monte Carlo Integration\n",
      "\n",
      "With uniform distribution $p(x)=1$ for $x\\in [0,1]$ and zero else"
     ]
    },
    {
     "cell_type": "markdown",
     "metadata": {},
     "source": [
      "$$\n",
      "I=\\int_0^1 f(x)dx\\approx \\frac{1}{N}\\sum_{i=1}^Nf(x_i),\n",
      "$$"
     ]
    },
    {
     "cell_type": "markdown",
     "metadata": {},
     "source": [
      "$$\n",
      "I=\\int_0^1 f(x)dx\\approx E[f]=\\langle f \\rangle.\n",
      "$$"
     ]
    },
    {
     "cell_type": "markdown",
     "metadata": {},
     "source": [
      "$$\n",
      "\\sigma^2_f=\\frac{1}{N}\\sum_{i=1}^Nf(x_i)^2-\n",
      "  \\left(\\frac{1}{N}\\sum_{i=1}^Nf(x_i)\\right)^2,\n",
      "$$"
     ]
    },
    {
     "cell_type": "markdown",
     "metadata": {},
     "source": [
      "or"
     ]
    },
    {
     "cell_type": "markdown",
     "metadata": {},
     "source": [
      "$$\n",
      "\\sigma^2_f=E[f^2]-(E[f])^2=\\left(\\langle f^2\\rangle -\n",
      "                                 \\langle f \\rangle^2\\right).\n",
      "$$"
     ]
    },
    {
     "cell_type": "markdown",
     "metadata": {},
     "source": [
      "### Brute Force Algorithm for Monte Carlo Integration\n",
      "\n",
      "  * Choose the number of Monte Carlo samples $N$.\n",
      "\n",
      "  * Make a loop over  $N$ and for every step generate a random number\n",
      "         $x_i$ in the  interval $x_i\\in [0,1]$ by calling a random number generator.\n",
      "\n",
      "  * Use this number to compute $f(x_i)$.\n",
      "\n",
      "  * Find the contribution to the variance and the mean value for every loop contribution.\n",
      "\n",
      "  * After $N$ samplings, compute the final mean value and the standard deviation\n",
      "\n",
      "### Brute Force Integration"
     ]
    },
    {
     "cell_type": "markdown",
     "metadata": {},
     "source": [
      "        // crude mc function to calculate pi\n",
      "             int i, n;\n",
      "             long idum;\n",
      "             double crude_mc, x, sum_sigma, fx, variance;\n",
      "             cout << \"Read in the number of Monte-Carlo samples\" << endl;\n",
      "             cin >> n;\n",
      "             crude_mc = sum_sigma=0. ; idum=-1 ;\n",
      "        //    evaluate the integral with the a crude Monte-Carlo method\n",
      "              for ( i = 1;  i <= n; i++){\n",
      "                   x=ran0(&idum);\n",
      "                   fx=func(x);\n",
      "                   crude_mc += fx;\n",
      "                   sum_sigma += fx*fx;\n",
      "        \n",
      "              crude_mc = crude_mc/((double) n );\n",
      "              sum_sigma = sum_sigma/((double) n );\n",
      "              variance=sum_sigma-crude_mc*crude_mc;\n"
     ]
    },
    {
     "cell_type": "markdown",
     "metadata": {},
     "source": [
      "### Or: another Brute Force Integration"
     ]
    },
    {
     "cell_type": "markdown",
     "metadata": {},
     "source": [
      "        // crude mc function to calculate pi\n",
      "        int main()\n",
      "        {\n",
      "          const int n = 1000000;\n",
      "          double x, fx, pi, invers_period, pi2;\n",
      "          int i;\n",
      "          invers_period = 1./RAND_MAX;\n",
      "          srand(time(NULL));\n",
      "          pi = pi2 = 0.;\n",
      "          for (i=0; i<n;i++)\n",
      "            {\n",
      "              x = double(rand())*invers_period;\n",
      "              //   This is our sampling rule, all points accepted\n",
      "              fx = 4./(1+x*x);\n",
      "              pi += fx;\n",
      "              pi2 += fx*fx;\n",
      "        \n",
      "          pi /= n;  pi2 = pi2/n - pi*pi;\n",
      "          cout << \"pi=\" << pi << \" sigma^2=\" << pi2 << endl;\n",
      "          return 0;\n",
      "        \n"
     ]
    },
    {
     "cell_type": "markdown",
     "metadata": {},
     "source": [
      "### Brute Force Integration\n",
      "\n",
      "Note the call to a function which generates random numbers according to the uniform distribution"
     ]
    },
    {
     "cell_type": "markdown",
     "metadata": {},
     "source": [
      "             long idum;\n",
      "             idum=-1 ;\n",
      "             .....\n",
      "             x=ran0(&idum);\n",
      "             ....\n"
     ]
    },
    {
     "cell_type": "markdown",
     "metadata": {},
     "source": [
      "or"
     ]
    },
    {
     "cell_type": "markdown",
     "metadata": {},
     "source": [
      "          ...\n",
      "          invers_period = 1./RAND_MAX;\n",
      "          srand(time(NULL));\n",
      "          ...\n",
      "          x = double(rand())*invers_period;\n"
     ]
    },
    {
     "cell_type": "markdown",
     "metadata": {},
     "source": [
      "### Algorithm for Monte Carlo Integration, Results\n",
      "\n",
      "\\begin{tabular}{rll}\\hline\n",
      "$N$&$I$&$\\sigma_N$\\\\\\hline\n",
      "10 & 3.10263E+00 &  3.98802E-01\\\\\n",
      "100  & 3.02933E+00 &  4.04822E-01       \\\\\n",
      "1000  &   3.13395E+00 &  4.22881E-01      \\\\\n",
      "10000  & 3.14195E+00 &  4.11195E-01      \\\\\n",
      "100000 &  3.14003E+00 &  4.14114E-01     \\\\\n",
      "1000000&  3.14213E+00 &  4.13838E-01   \\\\\n",
      "10000000& 3.14177E+00 & 4.13523E-01  \\\\\n",
      "$10^{9}$& 3.14162E+00 &  4.13581E-01  \\\\\n",
      "\\hline\n",
      "\\end{tabular}\n",
      "We note that as $N$ increases, the integral itself never reaches more than an agreement\n",
      "to the fourth or fifth digit. The variance also oscillates around its exact value\n",
      "$4.13581E-01$. Note well that the variance need not be zero but can,\n",
      "with appropriate redefinitions\n",
      "of the integral be made smaller. A smaller variance yields also a smaller standard deviation.\n",
      "This is the topic of importance sampling.\n",
      "\n",
      "### Transformation of Variables\n",
      "\n",
      "The starting point is always the uniform distribution"
     ]
    },
    {
     "cell_type": "markdown",
     "metadata": {},
     "source": [
      "$$\n",
      "p(x)dx=\\left\\{\\begin{array}{cc} dx & 0 \\le x \\le 1\\\\\n",
      "                                0  & else\\end{array}\\right.\n",
      "$$"
     ]
    },
    {
     "cell_type": "markdown",
     "metadata": {},
     "source": [
      "with $p(x)=1$ and\n",
      "satisfying"
     ]
    },
    {
     "cell_type": "markdown",
     "metadata": {},
     "source": [
      "$$\n",
      "\\int_{-\\infty}^{\\infty}p(x)dx=1.\n",
      "$$"
     ]
    },
    {
     "cell_type": "markdown",
     "metadata": {},
     "source": [
      "All random number generators provided in the program library\n",
      "generate numbers in this domain.\n",
      "\n",
      "When we attempt a\n",
      "transformation to a new variable\n",
      "$x\\rightarrow y$\n",
      "we have to conserve the probability"
     ]
    },
    {
     "cell_type": "markdown",
     "metadata": {},
     "source": [
      "$$\n",
      "p(y)dy=p(x)dx,\n",
      "$$"
     ]
    },
    {
     "cell_type": "markdown",
     "metadata": {},
     "source": [
      "which for the uniform distribution implies"
     ]
    },
    {
     "cell_type": "markdown",
     "metadata": {},
     "source": [
      "$$\n",
      "p(y)dy=dx.\n",
      "$$"
     ]
    },
    {
     "cell_type": "markdown",
     "metadata": {},
     "source": [
      "### Transformation of Variables\n",
      "\n",
      "Let us assume that $p(y)$ is a  PDF different from the uniform\n",
      "PDF $p(x)=1$ with $x \\in [0,1]$.\n",
      "If we integrate the last expression we arrive at"
     ]
    },
    {
     "cell_type": "markdown",
     "metadata": {},
     "source": [
      "$$\n",
      "x(y)=\\int_0^y p(y')dy',\n",
      "$$"
     ]
    },
    {
     "cell_type": "markdown",
     "metadata": {},
     "source": [
      "which is nothing but the cumulative distribution of $p(y)$, i.e.,"
     ]
    },
    {
     "cell_type": "markdown",
     "metadata": {},
     "source": [
      "$$\n",
      "x(y)=P(y)=\\int_0^y p(y')dy'.\n",
      "$$"
     ]
    },
    {
     "cell_type": "markdown",
     "metadata": {},
     "source": [
      "This is an important result which has consequences for eventual\n",
      "improvements over the brute force Monte Carlo.\n",
      "\n",
      "### Example 1, a general Uniform Distribution\n",
      "\n",
      "Suppose we have the general uniform distribution"
     ]
    },
    {
     "cell_type": "markdown",
     "metadata": {},
     "source": [
      "$$\n",
      "p(y)dy=\\left\\{\\begin{array}{cc} \\frac{dy}{b-a} & a \\le y \\le b\\\\\n",
      "                                0  & else\\end{array}\\right.\n",
      "$$"
     ]
    },
    {
     "cell_type": "markdown",
     "metadata": {},
     "source": [
      "If we wish to relate this distribution to the one in the interval\n",
      "$x \\in [0,1]$\n",
      "we have"
     ]
    },
    {
     "cell_type": "markdown",
     "metadata": {},
     "source": [
      "$$\n",
      "p(y)dy=\\frac{dy}{b-a}=dx,\n",
      "$$"
     ]
    },
    {
     "cell_type": "markdown",
     "metadata": {},
     "source": [
      "and integrating we obtain the cumulative function"
     ]
    },
    {
     "cell_type": "markdown",
     "metadata": {},
     "source": [
      "$$\n",
      "x(y)=\\int_a^y \\frac{dy'}{b-a},\n",
      "$$"
     ]
    },
    {
     "cell_type": "markdown",
     "metadata": {},
     "source": [
      "yielding"
     ]
    },
    {
     "cell_type": "markdown",
     "metadata": {},
     "source": [
      "$$\n",
      "y=a+(b-a)x,\n",
      "$$"
     ]
    },
    {
     "cell_type": "markdown",
     "metadata": {},
     "source": [
      "a well-known result!\n",
      "\n",
      "### Example 2, from Uniform to Exponential\n",
      "\n",
      "Assume that"
     ]
    },
    {
     "cell_type": "markdown",
     "metadata": {},
     "source": [
      "$$\n",
      "p(y)=e^{-y},\n",
      "$$"
     ]
    },
    {
     "cell_type": "markdown",
     "metadata": {},
     "source": [
      "which is the exponential distribution, important for the analysis\n",
      "of e.g., radioactive decay. Again,\n",
      "$p(x)$ is given by the uniform distribution with\n",
      "$x \\in [0,1]$, and\n",
      "with the assumption that the probability is conserved we have"
     ]
    },
    {
     "cell_type": "markdown",
     "metadata": {},
     "source": [
      "$$\n",
      "p(y)dy=e^{-y}dy=dx,\n",
      "$$"
     ]
    },
    {
     "cell_type": "markdown",
     "metadata": {},
     "source": [
      "which yields after integration"
     ]
    },
    {
     "cell_type": "markdown",
     "metadata": {},
     "source": [
      "$$\n",
      "x(y)=P(y)=\\int_0^y \\exp{(-y')}dy'=1-\\exp{(-y)},\n",
      "$$"
     ]
    },
    {
     "cell_type": "markdown",
     "metadata": {},
     "source": [
      "or"
     ]
    },
    {
     "cell_type": "markdown",
     "metadata": {},
     "source": [
      "$$\n",
      "y(x)=-ln(1-x).\n",
      "$$"
     ]
    },
    {
     "cell_type": "markdown",
     "metadata": {},
     "source": [
      "This gives us the new random variable $y$ in the domain\n",
      "$y \\in [0,\\infty)$\n",
      "determined through the random variable $x \\in [0,1]$ generated by\n",
      "our favorite random generator.\n",
      "\n",
      "### Example 2, from Uniform to Exponential\n",
      "\n",
      "This means that if we can factor out\n",
      "$\\exp{(-y)}$ from an integrand we may have"
     ]
    },
    {
     "cell_type": "markdown",
     "metadata": {},
     "source": [
      "$$\n",
      "I=\\int_0^{\\infty}F(y)dy=\\int_0^{\\infty}\\exp{(-y)}G(y)dy\n",
      "$$"
     ]
    },
    {
     "cell_type": "markdown",
     "metadata": {},
     "source": [
      "which we rewrite as"
     ]
    },
    {
     "cell_type": "markdown",
     "metadata": {},
     "source": [
      "$$\n",
      "\\int_0^{\\infty}\\exp{(-y)}G(y)dy=\n",
      "   \\int_0^{\\infty}\\frac{dx}{dy}G(y)dy\\approx\n",
      "   \\frac{1}{N}\\sum_{i=1}^NG(y(x_i)),\n",
      "$$"
     ]
    },
    {
     "cell_type": "markdown",
     "metadata": {},
     "source": [
      "where $x_i$ is a random number in the interval\n",
      "[0,1].\n",
      "\n",
      "Note that in practical implementations, our random number generators for the\n",
      "uniform distribution never return exactly 0 or 1, but we we may come very close.\n",
      "We  should thus in principle set $x\\in (0,1)$.\n",
      "\n",
      "### Example 2, from Uniform to Exponential\n",
      "\n",
      "The algorithm is rather simple.\n",
      "In the function which sets up the integral, we simply need\n",
      "the random number generator for the uniform distribution\n",
      "in order to obtain numbers\n",
      "in the interval [0,1]. We obtain $y$ by the taking the logarithm of\n",
      "$(1-x)$. Our calling function which sets up the new random\n",
      "variable $y$ may then include statements like"
     ]
    },
    {
     "cell_type": "markdown",
     "metadata": {},
     "source": [
      "        .....\n",
      "        idum=-1;\n",
      "        x=ran0(&idum);\n",
      "        y=-log(1.-x);\n",
      "        .....\n"
     ]
    },
    {
     "cell_type": "markdown",
     "metadata": {},
     "source": [
      "### Example 3\n",
      "\n",
      "Another function which provides an example for a PDF is"
     ]
    },
    {
     "cell_type": "markdown",
     "metadata": {},
     "source": [
      "$$\n",
      "p(y)dy=\\frac{dy}{(a+by)^n},\n",
      "$$"
     ]
    },
    {
     "cell_type": "markdown",
     "metadata": {},
     "source": [
      "with $n > 1$. It is normalizable, positive definite, analytically\n",
      "integrable and the integral is invertible, allowing thereby\n",
      "the expression of a new variable in terms of the old one.\n",
      "The integral"
     ]
    },
    {
     "cell_type": "markdown",
     "metadata": {},
     "source": [
      "$$\n",
      "\\int_0^{\\infty} \\frac{dy}{(a+by)^n}=\\frac{1}{(n-1)ba^{n-1}},\n",
      "$$"
     ]
    },
    {
     "cell_type": "markdown",
     "metadata": {},
     "source": [
      "gives"
     ]
    },
    {
     "cell_type": "markdown",
     "metadata": {},
     "source": [
      "$$\n",
      "p(y)dy=\\frac{(n-1)ba^{n-1}}{(a+by)^n}dy,\n",
      "$$"
     ]
    },
    {
     "cell_type": "markdown",
     "metadata": {},
     "source": [
      "which in turn gives the cumulative function"
     ]
    },
    {
     "cell_type": "markdown",
     "metadata": {},
     "source": [
      "$$\n",
      "x(y)=P(y)=\\int_0^y \\frac{(n-1)ba^{n-1}}{(a+bx)^n}dy'=,\n",
      "$$"
     ]
    },
    {
     "cell_type": "markdown",
     "metadata": {},
     "source": [
      "resulting in"
     ]
    },
    {
     "cell_type": "markdown",
     "metadata": {},
     "source": [
      "$$\n",
      "y=\\frac{a}{b}\\left((1-x)^{-1/(n-1)}-1\\right).\n",
      "$$"
     ]
    },
    {
     "cell_type": "markdown",
     "metadata": {},
     "source": [
      "### Example 4, from Uniform to Normal\n",
      "\n",
      "For the normal distribution, expressed here as"
     ]
    },
    {
     "cell_type": "markdown",
     "metadata": {},
     "source": [
      "$$\n",
      "g(x,y)=\\exp{(-(x^2+y^2)/2)}dxdy.\n",
      "$$"
     ]
    },
    {
     "cell_type": "markdown",
     "metadata": {},
     "source": [
      "it is rather difficult to find an inverse since the cumulative\n",
      "distribution is given by the error function $erf(x)$.\n",
      "\n",
      "If we however switch to polar coordinates, we have\n",
      "for $x$ and $y$"
     ]
    },
    {
     "cell_type": "markdown",
     "metadata": {},
     "source": [
      "$$\n",
      "r=\\left(x^2+y^2\\right)^{1/2} \\quad\n",
      "   \\theta =tan^{-1}\\frac{x}{y},\n",
      "$$"
     ]
    },
    {
     "cell_type": "markdown",
     "metadata": {},
     "source": [
      "resulting in"
     ]
    },
    {
     "cell_type": "markdown",
     "metadata": {},
     "source": [
      "$$\n",
      "g(r,\\theta)=r\\exp{(-r^2/2)}drd\\theta,\n",
      "$$"
     ]
    },
    {
     "cell_type": "markdown",
     "metadata": {},
     "source": [
      "where the angle $\\theta$ could be given by a uniform\n",
      "distribution in the region $[0,2\\pi]$.\n",
      "Following example 1 above, this implies simply\n",
      "multiplying random numbers\n",
      "$x\\in [0,1]$ by $2\\pi$.\n",
      "\n",
      "### Example 4, from Uniform to Normal\n",
      "\n",
      "The variable\n",
      "$r$, defined for $r \\in [0,\\infty)$ needs to be related to\n",
      "to random numbers $x'\\in [0,1]$. To achieve that, we introduce a new variable"
     ]
    },
    {
     "cell_type": "markdown",
     "metadata": {},
     "source": [
      "$$\n",
      "u=\\frac{1}{2}r^2,\n",
      "$$"
     ]
    },
    {
     "cell_type": "markdown",
     "metadata": {},
     "source": [
      "and define a PDF"
     ]
    },
    {
     "cell_type": "markdown",
     "metadata": {},
     "source": [
      "$$\n",
      "\\exp{(-u)}du,\n",
      "$$"
     ]
    },
    {
     "cell_type": "markdown",
     "metadata": {},
     "source": [
      "with $u\\in [0,\\infty)$.\n",
      "Using the results from example 2, we have that"
     ]
    },
    {
     "cell_type": "markdown",
     "metadata": {},
     "source": [
      "$$\n",
      "u=-ln(1-x'),\n",
      "$$"
     ]
    },
    {
     "cell_type": "markdown",
     "metadata": {},
     "source": [
      "where $x'$ is a random number generated for $x'\\in [0,1]$.\n",
      "With"
     ]
    },
    {
     "cell_type": "markdown",
     "metadata": {},
     "source": [
      "$$\n",
      "x=r\\cos(\\theta)=\\sqrt{2u}\\cos(\\theta),\n",
      "$$"
     ]
    },
    {
     "cell_type": "markdown",
     "metadata": {},
     "source": [
      "and"
     ]
    },
    {
     "cell_type": "markdown",
     "metadata": {},
     "source": [
      "$$\n",
      "y=r\\sin(\\theta)=\\sqrt{2u}\\sin(\\theta),\n",
      "$$"
     ]
    },
    {
     "cell_type": "markdown",
     "metadata": {},
     "source": [
      "we can obtain new random numbers $x,y$ through"
     ]
    },
    {
     "cell_type": "markdown",
     "metadata": {},
     "source": [
      "$$\n",
      "x=\\sqrt{-2ln(1-x')}\\cos(\\theta),\n",
      "$$"
     ]
    },
    {
     "cell_type": "markdown",
     "metadata": {},
     "source": [
      "and"
     ]
    },
    {
     "cell_type": "markdown",
     "metadata": {},
     "source": [
      "$$\n",
      "y=\\sqrt{-2ln(1-x')}\\sin(\\theta),\n",
      "$$"
     ]
    },
    {
     "cell_type": "markdown",
     "metadata": {},
     "source": [
      "with $x'\\in [0,1]$ and $\\theta \\in 2\\pi [0,1]$.\n",
      "\n",
      "### Example 4, from Uniform to Normal\n",
      "\n",
      "A function which yields such random numbers for the normal\n",
      "distribution would include statements like"
     ]
    },
    {
     "cell_type": "markdown",
     "metadata": {},
     "source": [
      "        .....\n",
      "        idum=-1;\n",
      "        radius=sqrt(-2*ln(1.-ran0(idum)));\n",
      "        theta=2*pi*ran0(idum);\n",
      "        x=radius*cos(theta);\n",
      "        y=radius*sin(theta);\n",
      "        .....\n"
     ]
    },
    {
     "cell_type": "markdown",
     "metadata": {},
     "source": [
      "### Box-Mueller Method for Normal Deviates"
     ]
    },
    {
     "cell_type": "markdown",
     "metadata": {},
     "source": [
      "        // random numbers with gaussian distribution\n",
      "        double gaussian_deviate(long * idum)\n",
      "        {\n",
      "          static int iset = 0;\n",
      "          static double gset;\n",
      "          double fac, rsq, v1, v2;\n",
      "          if ( idum < 0) iset =0;\n",
      "          if (iset == 0) {\n",
      "            do {\n",
      "              v1 = 2.*ran0(idum) -1.0;\n",
      "              v2 = 2.*ran0(idum) -1.0;\n",
      "              rsq = v1*v1+v2*v2;\n",
      "            } while (rsq >= 1.0 || rsq == 0.);\n",
      "            fac = sqrt(-2.*log(rsq)/rsq);\n",
      "            gset = v1*fac;\n",
      "            iset = 1;\n",
      "            return v2*fac;\n",
      "          } else {\n",
      "            iset =0;\n",
      "            return gset;\n",
      "        \n"
     ]
    },
    {
     "cell_type": "markdown",
     "metadata": {},
     "source": [
      "### Importance Sampling, chapter 11.4\n",
      "\n",
      "With the aid of the above variable transformations we address now\n",
      "one of the most widely used approaches to Monte Carlo integration,\n",
      "namely importance sampling.\n",
      "\n",
      "Let us assume that  $p(y)$ is a PDF whose behavior resembles that of a function\n",
      "$F$ defined in a certain interval $[a,b]$. The normalization condition is"
     ]
    },
    {
     "cell_type": "markdown",
     "metadata": {},
     "source": [
      "$$\n",
      "\\int_a^bp(y)dy=1.\n",
      "$$"
     ]
    },
    {
     "cell_type": "markdown",
     "metadata": {},
     "source": [
      "We can rewrite our integral as"
     ]
    },
    {
     "cell_type": "markdown",
     "metadata": {},
     "source": [
      "<!-- Equation labels as ordinary links -->\n",
      "<a name=\"eq:impsampl1\"/>\n",
      "\n",
      "$$\n",
      "\\begin{equation}\n",
      "   I=\\int_a^b F(y) dy =\\int_a^b p(y)\\frac{F(y)}{p(y)} dy.\n",
      "   \\label{eq:impsampl1} \\tag{28}\n",
      "\\end{equation}\n",
      "$$"
     ]
    },
    {
     "cell_type": "markdown",
     "metadata": {},
     "source": [
      "### Importance Sampling\n",
      "\n",
      "Since random numbers are generated for the uniform distribution $p(x)$\n",
      "with $x\\in [0,1]$, we need to perform a change of variables $x\\rightarrow y$\n",
      "through"
     ]
    },
    {
     "cell_type": "markdown",
     "metadata": {},
     "source": [
      "$$\n",
      "x(y)=\\int_a^y p(y')dy',\n",
      "$$"
     ]
    },
    {
     "cell_type": "markdown",
     "metadata": {},
     "source": [
      "where we used"
     ]
    },
    {
     "cell_type": "markdown",
     "metadata": {},
     "source": [
      "$$\n",
      "p(x)dx=dx=p(y)dy.\n",
      "$$"
     ]
    },
    {
     "cell_type": "markdown",
     "metadata": {},
     "source": [
      "If we can invert $x(y)$, we find $y(x)$ as well.\n",
      "\n",
      "### Importance Sampling\n",
      "\n",
      "With this change of variables we can express the integral of\n",
      "Eq. [(28)](#eq:finalmeanm) as"
     ]
    },
    {
     "cell_type": "markdown",
     "metadata": {},
     "source": [
      "$$\n",
      "I=\\int_a^b p(y)\\frac{F(y)}{p(y)} dy=\\int_a^b\\frac{F(y(x))}{p(y(x))} dx,\n",
      "$$"
     ]
    },
    {
     "cell_type": "markdown",
     "metadata": {},
     "source": [
      "meaning that a Monte Carlo evalutaion of the above integral gives"
     ]
    },
    {
     "cell_type": "markdown",
     "metadata": {},
     "source": [
      "$$\n",
      "\\int_a^b\\frac{F(y(x))}{p(y(x))} dx=\n",
      "\\frac{1}{N}\\sum_{i=1}^N\\frac{F(y(x_i))}{p(y(x_i))}.\n",
      "$$"
     ]
    },
    {
     "cell_type": "markdown",
     "metadata": {},
     "source": [
      "The advantage of such a change of variables in case $p(y)$ follows\n",
      "closely $F$ is that the integrand becomes smooth and we can sample\n",
      "over relevant values for the integrand. It is however not trivial\n",
      "to find such a function $p$.\n",
      "The conditions on $p$ which allow us to perform these transformations\n",
      "are\n",
      "\n",
      "  * $p$ is normalizable and positive definite,\n",
      "\n",
      "  * it is analytically integrable and\n",
      "\n",
      "  * the integral is invertible, allowing us thereby to express a new variable in terms of the old one.\n",
      "\n",
      "### Importance Sampling\n",
      "\n",
      "The algorithm for this procedure is\n",
      "\n",
      "\n",
      "Use the uniform distribution to find the random variable\n",
      "  $y$ in the interval [0,1]. $p(x)$ is a user provided PDF.\n",
      "\n",
      "Evaluate thereafter"
     ]
    },
    {
     "cell_type": "markdown",
     "metadata": {},
     "source": [
      "$$\n",
      "I=\\int_a^b F(x) dx =\\int_a^b p(x)\\frac{F(x)}{p(x)} dx,\n",
      "$$"
     ]
    },
    {
     "cell_type": "markdown",
     "metadata": {},
     "source": [
      "by rewriting"
     ]
    },
    {
     "cell_type": "markdown",
     "metadata": {},
     "source": [
      "$$\n",
      "\\int_a^b p(x)\\frac{F(x)}{p(x)} dx =\n",
      "   \\int_a^b\\frac{F(x(y))}{p(x(y))} dy,\n",
      "$$"
     ]
    },
    {
     "cell_type": "markdown",
     "metadata": {},
     "source": [
      "since"
     ]
    },
    {
     "cell_type": "markdown",
     "metadata": {},
     "source": [
      "$$\n",
      "\\frac{dy}{dx}=p(x).\n",
      "$$"
     ]
    },
    {
     "cell_type": "markdown",
     "metadata": {},
     "source": [
      "Perform then a Monte Carlo sampling for"
     ]
    },
    {
     "cell_type": "markdown",
     "metadata": {},
     "source": [
      "$$\n",
      "\\int_a^b\\frac{F(x(y))}{p(x(y))} dy,\\approx\n",
      " \\frac{1}{N}\\sum_{i=1}^N\\frac{F(x(y_i))}{p(x(y_i))},\n",
      "$$"
     ]
    },
    {
     "cell_type": "markdown",
     "metadata": {},
     "source": [
      "with $y_i\\in [0,1]$,\n",
      "\n",
      "Evaluate the variance\n",
      "\n",
      "### Demonstration of Importance Sampling"
     ]
    },
    {
     "cell_type": "markdown",
     "metadata": {},
     "source": [
      "$$\n",
      "I=\\int_0^1 F(x) dx = \\int_0^1 \\frac{1}{1+x^2} dx = \\frac{\\pi}{4}.\n",
      "$$"
     ]
    },
    {
     "cell_type": "markdown",
     "metadata": {},
     "source": [
      "We choose the following PDF (which follows closely the function to\n",
      "integrate)"
     ]
    },
    {
     "cell_type": "markdown",
     "metadata": {},
     "source": [
      "$$\n",
      "p(x)=\\frac{1}{3}\\left(4-2x\\right) \\quad \\int_0^1p(x)dx=1,\n",
      "$$"
     ]
    },
    {
     "cell_type": "markdown",
     "metadata": {},
     "source": [
      "resulting"
     ]
    },
    {
     "cell_type": "markdown",
     "metadata": {},
     "source": [
      "$$\n",
      "\\frac{F(0)}{p(0)}=\\frac{F(1)}{p(1)}=\\frac{3}{4}.\n",
      "$$"
     ]
    },
    {
     "cell_type": "markdown",
     "metadata": {},
     "source": [
      "Check that it fullfils the requirements of a PDF.\n",
      "We perform then the change of variables (via the Cumulative function)"
     ]
    },
    {
     "cell_type": "markdown",
     "metadata": {},
     "source": [
      "$$\n",
      "y(x)=\\int_0^x p(x')dx'=\\frac{1}{3}x\\left(4-x\\right),\n",
      "$$"
     ]
    },
    {
     "cell_type": "markdown",
     "metadata": {},
     "source": [
      "or"
     ]
    },
    {
     "cell_type": "markdown",
     "metadata": {},
     "source": [
      "$$\n",
      "x=2-\\left(4-3y\\right)^{1/2}\n",
      "$$"
     ]
    },
    {
     "cell_type": "markdown",
     "metadata": {},
     "source": [
      "We have that when $y=0$ then  $x=0$ and when  $y=1$ we have $x=1$.\n",
      "\n",
      "### Simple Code"
     ]
    },
    {
     "cell_type": "markdown",
     "metadata": {},
     "source": [
      "        //   evaluate the integral with importance sampling\n",
      "             for ( int i = 1;  i <= n; i++){\n",
      "               x = ran0(&idum);  // random numbers in [0,1]\n",
      "               y = 2 - sqrt(4-3*x);  // new random numbers\n",
      "               fy=3*func(y)/(4-2*y); // weighted function\n",
      "               int_mc += fy;\n",
      "               sum_sigma += fy*fy;\n",
      "        \n",
      "             int_mc = int_mc/((double) n );\n",
      "             sum_sigma = sum_sigma/((double) n );\n",
      "             variance=(sum_sigma-int_mc*int_mc);\n"
     ]
    },
    {
     "cell_type": "markdown",
     "metadata": {},
     "source": [
      "### Test Runs and Comparison with Brute Force for $\\pi=3.14159$\n",
      "\n",
      "The suffix $cr$ stands for the brute force approach\n",
      "while $is$ stands for the use of importance sampling.\n",
      "All calculations use ran0 as function to generate the uniform distribution.\n",
      "\n",
      "\\begin{tabular}{rllll}\\hline\n",
      "$N$&$I_{cr}$ &$\\sigma_{cr}$   &$I_{is}$  &$\\sigma_{is}$\\\\\\hline\n",
      "10000  & 3.13395E+00 & 4.22881E-01 & 3.14163E+00    & 6.49921E-03 \\\\\n",
      "100000 & 3.14195E+00&  4.11195E-01 &   3.14163E+00    &  6.36837E-03 \\\\\n",
      "1000000& 3.14003E+00 & 4.14114E-01 & 3.14128E+00&  6.39217E-03\\\\\n",
      "10000000 &3.14213E+00 & 4.13838E-01 & 3.14160E+00 & 6.40784E-03 \\\\\n",
      "\\hline\n",
      "\\end{tabular}\n",
      "\n",
      "However, it is unfair to study one-dimensional integrals with MC methods!\n",
      "\n",
      "### Multidimensional Integrals\n",
      "\n",
      "When we deal with multidimensional integrals of the form"
     ]
    },
    {
     "cell_type": "markdown",
     "metadata": {},
     "source": [
      "$$\n",
      "I=\\int_0^1dx_1\\int_0^1dx_2\\dots \\int_0^1dx_d g(x_1,\\dots,x_d),\n",
      "$$"
     ]
    },
    {
     "cell_type": "markdown",
     "metadata": {},
     "source": [
      "with\n",
      "$x_i$ defined in the interval  $[a_i,b_i]$ we would typically\n",
      "need a transformation\n",
      "of variables of the form"
     ]
    },
    {
     "cell_type": "markdown",
     "metadata": {},
     "source": [
      "$$\n",
      "x_i=a_i+(b_i-a_i)t_i,\n",
      "$$"
     ]
    },
    {
     "cell_type": "markdown",
     "metadata": {},
     "source": [
      "if we were to use the uniform distribution on the interval $[0,1]$.\n",
      "In this case, we need a\n",
      "Jacobi determinant"
     ]
    },
    {
     "cell_type": "markdown",
     "metadata": {},
     "source": [
      "$$\n",
      "\\prod_{i=1}^d (b_i-a_i),\n",
      "$$"
     ]
    },
    {
     "cell_type": "markdown",
     "metadata": {},
     "source": [
      "and to convert the function $g(x_1,\\dots,x_d)$ to"
     ]
    },
    {
     "cell_type": "markdown",
     "metadata": {},
     "source": [
      "$$\n",
      "g(x_1,\\dots,x_d)\\rightarrow\n",
      "   g(a_1+(b_1-a_1)t_1,\\dots,a_d+(b_d-a_d)t_d).\n",
      "$$"
     ]
    },
    {
     "cell_type": "markdown",
     "metadata": {},
     "source": [
      "### Example: 6-dimensional Integral\n",
      "\n",
      "Consider the following six-dimensional\n",
      "integral"
     ]
    },
    {
     "cell_type": "markdown",
     "metadata": {},
     "source": [
      "$$\n",
      "\\int_{-\\infty}^{\\infty}{\\bf dxdy}g({\\bf x, y}),\n",
      "$$"
     ]
    },
    {
     "cell_type": "markdown",
     "metadata": {},
     "source": [
      "where"
     ]
    },
    {
     "cell_type": "markdown",
     "metadata": {},
     "source": [
      "$$\n",
      "g({\\bf x, y})=\\exp{(-{\\bf x}^2-{\\bf y}^2-({\\bf x-y})^2/2)},\n",
      "$$"
     ]
    },
    {
     "cell_type": "markdown",
     "metadata": {},
     "source": [
      "with  $d=6$.\n",
      "\n",
      "### Example: 6-dimensional Integral\n",
      "\n",
      "We can solve this integral by employing our brute force scheme,\n",
      "or using importance sampling and random variables distributed\n",
      "according to a gaussian PDF. For the latter, if we set\n",
      "the mean value\n",
      "$\\mu=0$ and the standard deviation  $\\sigma=1/\\sqrt{2}$, we have"
     ]
    },
    {
     "cell_type": "markdown",
     "metadata": {},
     "source": [
      "$$\n",
      "\\frac{1}{\\sqrt{\\pi}}\\exp{(-x^2)},\n",
      "$$"
     ]
    },
    {
     "cell_type": "markdown",
     "metadata": {},
     "source": [
      "and through"
     ]
    },
    {
     "cell_type": "markdown",
     "metadata": {},
     "source": [
      "$$\n",
      "\\pi^3\\int\\prod_{i=1}^6\\left(\n",
      "    \\frac{1}{\\sqrt{\\pi}}\\exp{(-x_i^2)}\\right)\n",
      "    \\exp{(-({\\bf x-y})^2/2)}dx_1.\\dots dx_6,\n",
      "$$"
     ]
    },
    {
     "cell_type": "markdown",
     "metadata": {},
     "source": [
      "we can rewrite our integral as"
     ]
    },
    {
     "cell_type": "markdown",
     "metadata": {},
     "source": [
      "$$\n",
      "\\int f(x_1,\\dots,x_d)F(x_1,\\dots,x_d)\\prod_{i=1}^6dx_i,\n",
      "$$"
     ]
    },
    {
     "cell_type": "markdown",
     "metadata": {},
     "source": [
      "where $f$ is the gaussian distribution.\n",
      "\n",
      "### Brute Force I"
     ]
    },
    {
     "cell_type": "markdown",
     "metadata": {},
     "source": [
      "        .....\n",
      "        //   evaluate the integral without importance sampling\n",
      "        //   Loop over Monte Carlo Cycles\n",
      "             for ( int i = 1;  i <= n; i++){\n",
      "        //   x[] contains the random numbers for all dimensions\n",
      "               for (int j = 0; j< 6; j++) {\n",
      "                   x[j]=-length+2*length*ran0(&idum);\n",
      "        \n",
      "               fx=brute_force_MC(x);\n",
      "               int_mc += fx;\n",
      "               sum_sigma += fx*fx;\n",
      "        \n",
      "             int_mc = int_mc/((double) n );\n",
      "             sum_sigma = sum_sigma/((double) n );\n",
      "             variance=sum_sigma-int_mc*int_mc;\n",
      "        ......\n"
     ]
    },
    {
     "cell_type": "markdown",
     "metadata": {},
     "source": [
      "### Brute Force II"
     ]
    },
    {
     "cell_type": "markdown",
     "metadata": {},
     "source": [
      "        double  brute_force_MC(double *x)\n",
      "        {\n",
      "           double a = 1.; double b = 0.5;\n",
      "        // evaluate the different terms of the exponential\n",
      "           double xx=x[0]*x[0]+x[1]*x[1]+x[2]*x[2];\n",
      "           double yy=x[3]*x[3]+x[4]*x[4]+x[5]*x[5];\n",
      "           double xy=pow((x[0]-x[3]),2)+pow((x[1]-x[4]),2)+pow((x[2]-x[5]),2);\n",
      "           return exp(-a*xx-a*yy-b*xy);\n"
     ]
    },
    {
     "cell_type": "markdown",
     "metadata": {},
     "source": [
      "### Importance Sampling I"
     ]
    },
    {
     "cell_type": "markdown",
     "metadata": {},
     "source": [
      "        ..........\n",
      "        //   evaluate the integral with importance sampling\n",
      "             for ( int i = 1;  i <= n; i++){\n",
      "        //   x[] contains the random numbers for all dimensions\n",
      "               for (int j = 0; j < 6; j++) {\n",
      "        \t x[j] = gaussian_deviate(&idum)*sqrt2;\n",
      "        \n",
      "               fx=gaussian_MC(x);\n",
      "               int_mc += fx;\n",
      "               sum_sigma += fx*fx;\n",
      "        \n",
      "             int_mc = int_mc/((double) n );\n",
      "             sum_sigma = sum_sigma/((double) n );\n",
      "             variance=sum_sigma-int_mc*int_mc;\n",
      "        .............\n"
     ]
    },
    {
     "cell_type": "markdown",
     "metadata": {},
     "source": [
      "### Importance Sampling II"
     ]
    },
    {
     "cell_type": "markdown",
     "metadata": {},
     "source": [
      "        // this function defines the integrand to integrate\n",
      "        \n",
      "        double  gaussian_MC(double *x)\n",
      "        {\n",
      "           double a = 0.5;\n",
      "        // evaluate the different terms of the exponential\n",
      "           double xy=pow((x[0]-x[3]),2)+pow((x[1]-x[4]),2)+pow((x[2]-x[5]),2);\n",
      "           return exp(-a*xy);\n",
      "        } // end function for the integrand\n"
     ]
    },
    {
     "cell_type": "markdown",
     "metadata": {},
     "source": [
      "### Test Runs for six-dimensional Integral\n",
      "\n",
      "Results for as function of number of Monte Carlo samples $N$.\n",
      "The exact answer is $I\\approx 10.9626$ for the integral.\n",
      "The suffix $cr$ stands for the brute force approach\n",
      "while $gd$ stands for the use of a Gaussian distribution function.\n",
      "All calculations use ran0 as function to generate the uniform distribution.\n",
      "\n",
      "\\begin{tabular}{rll}\\hline\n",
      "$N$&$I_{cr}$&$I_{gd}$\\\\\\hline\n",
      "10000  & 1.15247E+01& 1.09128E+01   \\\\\n",
      "100000 & 1.29650E+01 & 1.09522E+01   \\\\\n",
      "1000000& 1.18226E+01 & 1.09673E+01    \\\\\n",
      "10000000&1.04925E+01  &   1.09612E+01  \\\\\n",
      "\\hline\n",
      "\\end{tabular}\n",
      "\n",
      "\n",
      "## Overview of week 45\n",
      "\n",
      "### Overview of week 45\n",
      "\n",
      "**Monte Carlo methods.**\n",
      "\n",
      "  * Monday: Repetition from last week\n",
      "\n",
      "  * More on importance sampling and multi-dimensional integrals\n",
      "\n",
      "  * Central limit theorem and discussion on variance, covariance and standard deviation\n",
      "\n",
      "  * Tuesday:\n",
      "\n",
      "  * Central limit theorem and discussion on variance, covariance and standard deviation\n",
      "\n",
      "  * Random number generators (RNG).\n",
      "\n",
      "  * Random walks, Markov chains, Diffusion and Master equation\n",
      "\n",
      "\n",
      "\n",
      "### Monte Carlo Keywords\n",
      "\n",
      "Consider it is a numerical experiment\n",
      "\n",
      "  * Be able to generate random variables following a given probability distribution function PDF\n",
      "\n",
      "  * Find a probability distribution function (PDF).\n",
      "\n",
      "  * Sampling rule for accepting a move\n",
      "\n",
      "  * Compute standard deviation and other expectation values\n",
      "\n",
      "  * Techniques for improving errors Enhances algorithmic thinking!\n",
      "\n",
      "### Example, six-dimensional integral (project 3 2012)\n",
      "\n",
      "The task of this project is to integrate in a brute force manner a six-dimensional integral which is used\n",
      "to determine the ground state correlation energy between two electrons\n",
      "in a helium atom.  We will employ both Gaussian quadrature and Monte-Carlo integration.\n",
      "We assume that the wave function of each electron can be modelled like the single-particle\n",
      "wave function of an electron in the hydrogen atom. The single-particle wave function  for an electron $i$ in the\n",
      "$1s$ state\n",
      "is given in terms of a dimensionless variable    (the wave function is not properly normalized)"
     ]
    },
    {
     "cell_type": "markdown",
     "metadata": {},
     "source": [
      "$$\n",
      "{\\bf r}_i =  x_i {\\bf e}_x + y_i {\\bf e}_y +z_i {\\bf e}_z ,\n",
      "$$"
     ]
    },
    {
     "cell_type": "markdown",
     "metadata": {},
     "source": [
      "as"
     ]
    },
    {
     "cell_type": "markdown",
     "metadata": {},
     "source": [
      "$$\n",
      "\\psi_{1s}({\\bf r}_i)  =   e^{-\\alpha r_i},\n",
      "$$"
     ]
    },
    {
     "cell_type": "markdown",
     "metadata": {},
     "source": [
      "where $\\alpha$ is a parameter and"
     ]
    },
    {
     "cell_type": "markdown",
     "metadata": {},
     "source": [
      "$$\n",
      "r_i = \\sqrt{x_i^2+y_i^2+z_i^2}.\n",
      "$$"
     ]
    },
    {
     "cell_type": "markdown",
     "metadata": {},
     "source": [
      "We will fix $\\alpha=2$, which should correspond to the charge of the helium atom $Z=2$.\n",
      "\n",
      "### Switch to spherical coordinates\n",
      "\n",
      "Useful to change to spherical coordinates"
     ]
    },
    {
     "cell_type": "markdown",
     "metadata": {},
     "source": [
      "$$\n",
      "d{\\bf r}_1d{\\bf r}_2  = r_1^2dr_1 r_2^2dr_2 dcos(\\theta_1)dcos(\\theta_2)d\\phi_1d\\phi_2,\n",
      "$$"
     ]
    },
    {
     "cell_type": "markdown",
     "metadata": {},
     "source": [
      "and"
     ]
    },
    {
     "cell_type": "markdown",
     "metadata": {},
     "source": [
      "$$\n",
      "\\frac{1}{r_{12}}= \\frac{1}{\\sqrt{r_1^2+r_2^2-2r_1r_2cos(\\beta)}}\n",
      "$$"
     ]
    },
    {
     "cell_type": "markdown",
     "metadata": {},
     "source": [
      "with"
     ]
    },
    {
     "cell_type": "markdown",
     "metadata": {},
     "source": [
      "$$\n",
      "\\cos(\\beta) = \\cos(\\theta_1)\\cos(\\theta_2)+\\sin(\\theta_1)\\sin(\\theta_2)\\cos(\\phi_1-\\phi_2))\n",
      "$$"
     ]
    },
    {
     "cell_type": "markdown",
     "metadata": {},
     "source": [
      "### How do I do importance sampling in spherical coordinates\n",
      "\n",
      "$r_{1,2} \\in [0,\\infty)$, here we use the mapping $r_{1,2}=-ln(1-ran)$\n",
      "with $ran \\in [0,1]$, a uniform distribution point.\n",
      "\n",
      "$\\theta_{1,2} \\in [0,\\pi]$, use mapping $\\theta_{1,2}=\\pi*ran$\n",
      "with $ran \\in [0,1]$ a uniform distribution point.\n",
      "\n",
      "$\\phi_{1,2} \\in [0,2\\pi]$, use mapping $\\phi_{1,2}=2\\pi*ran$\n",
      "with $ran \\in [0,1]$ a uniform distribution point.\n",
      "\n",
      "Be careful with the integrand"
     ]
    },
    {
     "cell_type": "markdown",
     "metadata": {},
     "source": [
      "$$\n",
      "\\frac{\\exp{(-4(r_1+r_2))}r_1^2dr_1 r_2^2dr_2 dcos(\\theta_1)dcos(\\theta_2)d\\phi_1d\\phi_2}{\\sqrt{r_1^2+r_2^2-2r_1r_2cos(\\beta)}}\n",
      "$$"
     ]
    },
    {
     "cell_type": "markdown",
     "metadata": {},
     "source": [
      "### Example, six-dimensional integral (project 3 2012)\n",
      "\n",
      "The ansatz for the wave function for two electrons is then given by the product of two\n",
      "$1s$ wave functions as"
     ]
    },
    {
     "cell_type": "markdown",
     "metadata": {},
     "source": [
      "$$\n",
      "\\Psi({\\bf r}_1,{\\bf r}_2)  =   e^{-\\alpha (r_1+r_2)}.\n",
      "$$"
     ]
    },
    {
     "cell_type": "markdown",
     "metadata": {},
     "source": [
      "Note that it is not possible to find an analytic solution to Schr\\\"odinger's equation for\n",
      "two interacting electrons in the helium atom.\n",
      "\n",
      "The integral we need to solve is the quantum mechanical expectation value of the correlation\n",
      "energy between two electrons, namely"
     ]
    },
    {
     "cell_type": "markdown",
     "metadata": {},
     "source": [
      "<!-- Equation labels as ordinary links -->\n",
      "<a name=\"eq:correlationenergy\"/>\n",
      "\n",
      "$$\n",
      "\\begin{equation}\\label{eq:correlationenergy} \\tag{29}\n",
      "   \\langle \\frac{1}{|{\\bf r}_1-{\\bf r}_2|} \\rangle =\n",
      "   \\int_{-\\infty}^{\\infty} d{\\bf r}_1d{\\bf r}_2  e^{-2\\alpha (r_1+r_2)}\\frac{1}{|{\\bf r}_1-{\\bf r}_2|}=\\frac{5\\pi^2}{16^2}=0.192765711.\n",
      "\\end{equation}\n",
      "$$"
     ]
    },
    {
     "cell_type": "markdown",
     "metadata": {},
     "source": [
      "Note that our wave function is not normalized. There is a normalization factor missing, but for this project\n",
      "we don't need to worry about that.\n",
      "\n",
      "### Example, six-dimensional integral (project 3 2012)\n",
      "\n",
      "  * a-b) Use Gaussian  quadrature and compute the integral by integrating\n",
      "\n",
      "for each variable $x_1,y_1,z_1,x_2,y_2,z_2$ from $-\\infty$ to $\\infty$.\n",
      "How many mesh points do you need before the results converges at the level of the fourth leading digit?  Hint:  the single-particle wave function $e^{-\\alpha r_i}$  is more or less zero at $r_i \\approx ?$.  You can therefore replace the integration limits $-\\infty$ and $\\infty$ with $-\\Lambda$ and $\\Lambda$, respectively.  You need to check that this approximation is satisfactory.\n",
      "  * c) Compute the same integral but now with brute force Monte Carlo\n",
      "\n",
      "and compare your results with those from the previous point. Discuss the differences. With bruce force we mean that you should use the uniform distribution.\n",
      "  * d) Improve your brute force Monte Carlo calculation by using importance sampling. Hint: use the exponential distribution.\n",
      "\n",
      "Does the variance decrease? Does the CPU time used compared with the brute force\n",
      "Monte Carlo decrease in order to achieve the same accuracy? Comment your results.\n",
      "\n",
      "### Example, six-dimensional integral, Gauss-Legendre"
     ]
    },
    {
     "cell_type": "markdown",
     "metadata": {},
     "source": [
      "             double *x = new double [N];\n",
      "             double *w = new double [N];\n",
      "        //   set up the mesh points and weights\n",
      "             gauleg(a,b,x,w, N);\n",
      "        \n",
      "        //   evaluate the integral with the Gauss-Legendre method\n",
      "        //   Note that we initialize the sum\n",
      "             double int_gauss = 0.;\n",
      "             for (int i=0;i<N;i++){\n",
      "        \t     for (int j = 0;j<N;j++){\n",
      "        \t     for (int k = 0;k<N;k++){\n",
      "        \t     for (int l = 0;l<N;l++){\n",
      "        \t     for (int m = 0;m<N;m++){\n",
      "        \t     for (int n = 0;n<N;n++){\n",
      "                int_gauss+=w[i]*w[j]*w[k]*w[l]*w[m]*w[n]\n",
      "               *int_function(x[i],x[j],x[k],x[l],x[m],x[n]);\n",
      "             \t\t}}}}}\n",
      "        \t}\n"
     ]
    },
    {
     "cell_type": "markdown",
     "metadata": {},
     "source": [
      "### Example, six-dimensional integral, Gauss-Legendre"
     ]
    },
    {
     "cell_type": "markdown",
     "metadata": {},
     "source": [
      "        //  this function defines the function to integrate\n",
      "        double int_function(double x1, double y1, double z1,\n",
      "                            double x2, double y2, double z2)\n",
      "        {\n",
      "           double alpha = 2.;\n",
      "        // evaluate the different terms of the exponential\n",
      "           double exp1=-2*alpha*sqrt(x1*x1+y1*y1+z1*z1);\n",
      "           double exp2=-2*alpha*sqrt(x2*x2+y2*y2+z2*z2);\n",
      "           double deno=sqrt(pow((x1-x2),2)+pow((y1-y2),2)+pow((z1-z2),2));\n",
      "          if(deno <pow(10.,-6.)) { return 0;}\n",
      "          else return exp(exp1+exp2)/deno;\n",
      "        } // end of function to evaluate\n",
      "        \n"
     ]
    },
    {
     "cell_type": "markdown",
     "metadata": {},
     "source": [
      "### Example, six-dimensional integral, brute force MC"
     ]
    },
    {
     "cell_type": "markdown",
     "metadata": {},
     "source": [
      "             double int_mc = 0.;  double variance = 0.;\n",
      "             double sum_sigma= 0. ; long idum=-1 ;\n",
      "             double length=1.5; // we fix the max size of the box to L=3\n",
      "             double volume=pow((2*length),6.);\n",
      "        \n",
      "        //   evaluate the integral with importance sampling\n",
      "             for ( int i = 1;  i <= n; i++){\n",
      "        //   x[] contains the random numbers for all dimensions\n",
      "               for (int j = 0; j< 6; j++) {\n",
      "                   // Maps U[0,1] to U[-L,L]\n",
      "                   x[j]=-length+2*length*ran0(&idum);\n",
      "        \n",
      "               fx=brute_force_MC(x);\n",
      "               int_mc += fx;\n",
      "               sum_sigma += fx*fx;\n",
      "        \n",
      "             int_mc = int_mc/((double) n );\n",
      "             sum_sigma = sum_sigma/((double) n );\n",
      "             variance=sum_sigma-int_mc*int_mc;\n",
      "             ....\n"
     ]
    },
    {
     "cell_type": "markdown",
     "metadata": {},
     "source": [
      "### Example, six-dimensional integral, brute force MC"
     ]
    },
    {
     "cell_type": "markdown",
     "metadata": {},
     "source": [
      "        double brute_force_MC(double *x)\n",
      "        {\n",
      "           double alpha = 2.;\n",
      "        // evaluate the different terms of the exponential\n",
      "           double exp1=-2*alpha*sqrt(x[0]*x[0]+x[1]*x[1]+x[2]*x[2]);\n",
      "           double exp2=-2*alpha*sqrt(x[3]*x[3]+x[4]*x[4]+x[5]*x[5]);\n",
      "           double deno=sqrt(pow((x[0]-x[3]),2)\n",
      "                  +pow((x[1]-x[4]),2)+pow((x[2]-x[5]),2));\n",
      "           double value=exp(exp1+exp2)/deno;\n",
      "        \treturn value;\n",
      "        } // end function for the integrand\n"
     ]
    },
    {
     "cell_type": "markdown",
     "metadata": {},
     "source": [
      "### Example, six-dimensional integral, importance sampling"
     ]
    },
    {
     "cell_type": "markdown",
     "metadata": {},
     "source": [
      "        \tdouble int_mc = 0.;  double variance = 0.;\n",
      "        \tdouble sum_sigma= 0. ; long idum=-1 ;\n",
      "        // The 'volume' contains 4 jacobideterminants(pi,pi,2pi,2pi)\n",
      "        // and a scaling factor 1/16\n",
      "        \tdouble volume=4*pow(acos(-1.),4.)*1./16;\n",
      "        //   evaluate the integral with importance sampling\n",
      "        \tfor ( int i = 1;  i <= n; i++){\n",
      "        \t   for (int j = 0; j < 2; j++) {\n",
      "        \t\ty=ran0(&idum);\n",
      "        \t\tx[j]=-0.25*log(1.-y);\n",
      "         \t   }\n",
      "        \t   for (int j = 2; j < 4; j++) {\n",
      "        \t\tx[j] = 2*acos(-1.)*ran0(&idum);\n",
      "        \t   }\n",
      "        \t   for (int j = 4; j < 6; j++) {\n",
      "        \t\t\t x[j] = acos(-1.)*ran0(&idum);\n",
      "          \t   }\n",
      "        \tfx=integrand_MC(x);\n",
      "                ....\n"
     ]
    },
    {
     "cell_type": "markdown",
     "metadata": {},
     "source": [
      "### Example, six-dimensional integral, importance sampling"
     ]
    },
    {
     "cell_type": "markdown",
     "metadata": {},
     "source": [
      "        \n",
      "        // this function defines the integrand to integrate\n",
      "        \n",
      "        double  integrand_MC(double *x)\n",
      "        {\n",
      "        double num=x[0]*x[0]*x[1]*x[1]*sin(x[4])*sin(x[5]);\n",
      "        double deno=sqrt(x[0]*x[0]+x[1]*x[1]-2*x[0]*x[1]*\n",
      "        (sin(x[4])*sin(x[5])*cos(x[2]-x[3])+cos(x[4])*cos(x[5])));\n",
      "        return num/deno;\n",
      "        } // end function for the integrand\n",
      "        \n",
      "        \n",
      "        \n"
     ]
    },
    {
     "cell_type": "markdown",
     "metadata": {},
     "source": [
      "### Test Runs and Comparison with Brute Force and Gauss-Legendre\n",
      "\n",
      "The suffix $br$ stands for the brute force approach\n",
      "while $is$ stands for the use of importance sampling.\n",
      "\n",
      "\\begin{tabular}{rllllll}\\hline\n",
      "$N$&$I_{br}$ &$\\sigma_{br}$ &time(s)  &$I_{is}$  &$\\sigma_{is}$ &time(s)\\\\\\hline\n",
      "1E6  & 0.19238 &3.85124E-4  & 0.6  &0.19176   & 1.01515E-4 & 1.4 \\\\\n",
      "10E6   &0.18607  &1.18053E-4  & 6 &0.192254    &1.22430E-4  &14 \\\\\n",
      "100E6   &0.18846  &4.37163E-4  & 57 &0.192720    &1.03346E-4  &138 \\\\\n",
      "1000E6   &0.18843  &1.35879E-4  &581 &0.192789   &3.28795E-5  &1372 \\\\\n",
      "\\hline\n",
      "\\end{tabular}\n",
      "\n",
      "Gauss-Legendre results:\n",
      "\n",
      "\\begin{tabular}{rllll}\\hline\n",
      "$N$ &time(s)  &$I_n$     &$|I_n-I$ \\\\\\hline\n",
      "20  & 31          &0.18047         &   1.123E-2                 \\\\\n",
      "30  & 354         & 0.18501        &   7.76E-3              \\\\\n",
      "40  & 1999         & 0.18653         & 6.24E-3                \\\\\n",
      "50  & 7578         & 0.18722        &  5.54E-3               \\\\\n",
      "\\hline\n",
      "\\end{tabular}\n",
      "\n",
      "\n",
      "\n",
      "### Variance, covariance, errors etc, chapter 11.2\n",
      "\n",
      "**Statistical analysis.**\n",
      "\n",
      "\n",
      "  * Monte Carlo simulations can be treated as *computer experiments*\n",
      "\n",
      "  * The results can be analysed with the same statistics tools\n",
      "      we would use in analysing laboraty experiments\n",
      "\n",
      "  * As in all other experiments, we are looking for expectation values and an estimate of how accurate they are, i.e., the error\n",
      "\n",
      "\n",
      "\n",
      "\n",
      "### Variance, covariance, errors etc\n",
      "\n",
      "**Statistical analysis.**\n",
      "\n",
      "\n",
      "  * As in other experiments, Monte Carlo experiments have two classes of errors:\n",
      "\n",
      "  * Statistical errors\n",
      "\n",
      "  * Systematic errors\n",
      "\n",
      "  * Statistical errors can be estimated using standard tools\n",
      "      from statistics\n",
      "\n",
      "  * Systematic errors are method specific and must be treated differently from case to case.\n",
      "\n",
      "\n",
      "\n",
      "### Variance, covariance, errors etc\n",
      "\n",
      "A *stochastic process* is a process that produces sequentially a\n",
      "chain of values:"
     ]
    },
    {
     "cell_type": "markdown",
     "metadata": {},
     "source": [
      "$$\n",
      "\\{x_1, x_2,\\dots\\,x_k,\\dots\\}.\n",
      "$$"
     ]
    },
    {
     "cell_type": "markdown",
     "metadata": {},
     "source": [
      "We will call these\n",
      "values our *measurements* and the entire set as our measured\n",
      "*sample*.  The action of measuring all the elements of a sample\n",
      "we will call a stochastic *experiment* (since, operationally,\n",
      "they are often associated with results of empirical observation of\n",
      "some physical or mathematical phenomena; precisely an experiment). We\n",
      "assume that these values are distributed according to some\n",
      "PDF $p_X^{\\phantom X}(x)$, where $X$ is just the formal symbol for the\n",
      "stochastic variable whose PDF is $p_X^{\\phantom X}(x)$. Instead of\n",
      "trying to determine the full distribution $p$ we are often only\n",
      "interested in finding the few lowest moments, like the mean\n",
      "$\\mu_X^{\\phantom X}$ and the variance $\\sigma_X^{\\phantom X}$.\n",
      "\n",
      "### Variance, covariance, errors etc\n",
      "\n",
      "The *probability distribution function (PDF)* is a function\n",
      "$p(x)$ on the domain which, in the discrete case, gives us the\n",
      "probability or relative frequency with which these values of $X$\n",
      "occur:"
     ]
    },
    {
     "cell_type": "markdown",
     "metadata": {},
     "source": [
      "$$\n",
      "p(x) = \\mathrm{Prob}(X=x)\n",
      "$$"
     ]
    },
    {
     "cell_type": "markdown",
     "metadata": {},
     "source": [
      "In the continuous case, the PDF does not directly depict the\n",
      "actual probability. Instead we define the probability for the\n",
      "stochastic variable to assume any value on an infinitesimal interval\n",
      "around $x$ to be $p(x)dx$. The continuous function $p(x)$ then gives us\n",
      "the *density* of the probability rather than the probability\n",
      "itself. The probability for a stochastic variable to assume any value\n",
      "on a non-infinitesimal interval $[a,\\,b]$ is then just the integral:"
     ]
    },
    {
     "cell_type": "markdown",
     "metadata": {},
     "source": [
      "$$\n",
      "\\mathrm{Prob}(a\\leq X\\leq b) = \\int_a^b p(x)dx\n",
      "$$"
     ]
    },
    {
     "cell_type": "markdown",
     "metadata": {},
     "source": [
      "Qualitatively speaking, a stochastic variable represents the values of\n",
      "numbers chosen as if by chance from some specified PDF so that the\n",
      "selection of a large set of these numbers reproduces this PDF.\n",
      "\n",
      "### Variance, covariance, errors etc\n",
      "\n",
      "Also of interest to us is the *cumulative probability\n",
      "distribution function (CDF)*, $P(x)$, which is just the probability\n",
      "for a stochastic variable $X$ to assume any value less than $x$:"
     ]
    },
    {
     "cell_type": "markdown",
     "metadata": {},
     "source": [
      "$$\n",
      "P(x)=\\mbox{Prob(}X\\leq x\\mbox{)} =\n",
      "\\int_{-\\infty}^x p(x^{\\prime})dx^{\\prime}\n",
      "$$"
     ]
    },
    {
     "cell_type": "markdown",
     "metadata": {},
     "source": [
      "The relation between a CDF and its corresponding PDF is then:"
     ]
    },
    {
     "cell_type": "markdown",
     "metadata": {},
     "source": [
      "$$\n",
      "p(x) = \\frac{d}{dx}P(x)\n",
      "$$"
     ]
    },
    {
     "cell_type": "markdown",
     "metadata": {},
     "source": [
      "### Variance, covariance, errors etc\n",
      "\n",
      "A particularly useful class of special expectation values are the\n",
      "*moments*. The $n$-th moment of the PDF $p$ is defined as\n",
      "follows:"
     ]
    },
    {
     "cell_type": "markdown",
     "metadata": {},
     "source": [
      "$$\n",
      "{\\langle x^n \\rangle} \\equiv \\int\\! x^n p(x)\\,dx\n",
      "$$"
     ]
    },
    {
     "cell_type": "markdown",
     "metadata": {},
     "source": [
      "The zero-th moment ${\\langle 1 \\rangle}$ is just the normalization condition of\n",
      "$p$. The first moment, ${\\langle x \\rangle}$, is called the *mean* of $p$\n",
      "and often denoted by the letter $\\mu$:"
     ]
    },
    {
     "cell_type": "markdown",
     "metadata": {},
     "source": [
      "$$\n",
      "{\\langle x \\rangle} = \\mu \\equiv \\int\\! x p(x)\\,dx\n",
      "$$"
     ]
    },
    {
     "cell_type": "markdown",
     "metadata": {},
     "source": [
      "### Variance, covariance, errors etc\n",
      "\n",
      "A special version of the moments is the set of *central moments*,\n",
      "the n-th central moment defined as:"
     ]
    },
    {
     "cell_type": "markdown",
     "metadata": {},
     "source": [
      "$$\n",
      "{\\langle (x-{\\langle x \\rangle \\rangle})^n} \\equiv \\int\\! (x-{\\langle x \\rangle})^n p(x)\\,dx\n",
      "$$"
     ]
    },
    {
     "cell_type": "markdown",
     "metadata": {},
     "source": [
      "The zero-th and first central moments are both trivial, equal $1$ and\n",
      "$0$, respectively. But the second central moment, known as the\n",
      "*variance* of $p$, is of particular interest. For the stochastic\n",
      "variable $X$, the variance is denoted as $\\sigma^2_X$ or $\\mathrm{Var}(X)$:"
     ]
    },
    {
     "cell_type": "markdown",
     "metadata": {},
     "source": [
      "$$\n",
      "\\sigma^2_X\\ \\ =\\ \\ \\mathrm{Var}(X) = {\\langle (x-{\\langle x \\rangle \\rangle})^2} =\n",
      "\\int\\! (x-{\\langle x \\rangle})^2 p(x)\\,dx\n",
      "$$"
     ]
    },
    {
     "cell_type": "markdown",
     "metadata": {},
     "source": [
      "$$\n",
      "= \\int\\! \\left(x^2 - 2 x {\\langle x \\rangle}^{\\phantom{2}} +\n",
      "  {\\langle x \\rangle}^2\\right)p(x)\\,dx\n",
      "$$"
     ]
    },
    {
     "cell_type": "markdown",
     "metadata": {},
     "source": [
      "$$\n",
      "= {\\langle x^2 \\rangle} - 2 {\\langle x \\rangle}{\\langle x \\rangle} + {\\langle x \\rangle}^2\n",
      "$$"
     ]
    },
    {
     "cell_type": "markdown",
     "metadata": {},
     "source": [
      "$$\n",
      "= {\\langle x^2 \\rangle} - {\\langle x \\rangle}^2\n",
      "$$"
     ]
    },
    {
     "cell_type": "markdown",
     "metadata": {},
     "source": [
      "The square root of the variance, $\\sigma =\n",
      "\\sqrt{{\\langle (x-{\\langle x \\rangle \\rangle})^2}}$ is called the *standard\n",
      "  deviation* of $p$. It is clearly just the RMS (root-mean-square)\n",
      "value of the deviation of the PDF from its mean value, interpreted\n",
      "qualitatively as the \"spread\" of $p$ around its mean.\n",
      "\n",
      "### Variance, covariance, errors etc\n",
      "\n",
      "Another important quantity is the so called covariance, a variant of\n",
      "the above defined variance. Consider again the set $\\{X_i\\}$ of $n$\n",
      "stochastic variables (not necessarily uncorrelated) with the\n",
      "multivariate PDF $P(x_1,\\dots,x_n)$. The *covariance* of two\n",
      "of the stochastic variables, $X_i$ and $X_j$, is defined as follows:"
     ]
    },
    {
     "cell_type": "markdown",
     "metadata": {},
     "source": [
      "$$\n",
      "\\begin{equation}\n",
      "\\mathrm{Cov}(X_i,\\,X_j) \\equiv {\\big\\langle (x_i-{\\langle x_i \\rangle \\big\\rangle})(x_j-{\\langle x_j \\rangle})}\n",
      "\\nonumber\n",
      "\\end{equation}\n",
      "$$"
     ]
    },
    {
     "cell_type": "markdown",
     "metadata": {},
     "source": [
      "<!-- Equation labels as ordinary links -->\n",
      "<a name=\"eq:def_covariance\"/>\n",
      "\n",
      "$$\n",
      "\\begin{equation} \n",
      "=\n",
      "\\int\\!\\cdots\\!\\int\\!(x_i-{\\langle x_i \\rangle})(x_j-{\\langle x_j \\rangle})\\,\n",
      "P(x_1,\\dots,x_n)\\,dx_1\\dots dx_n\n",
      "\\label{eq:def_covariance} \\tag{30}\n",
      "\\end{equation}\n",
      "$$"
     ]
    },
    {
     "cell_type": "markdown",
     "metadata": {},
     "source": [
      "with"
     ]
    },
    {
     "cell_type": "markdown",
     "metadata": {},
     "source": [
      "$$\n",
      "{\\langle x_i \\rangle} =\n",
      "\\int\\!\\cdots\\!\\int\\!x_i\\,P(x_1,\\dots,x_n)\\,dx_1\\dots dx_n\n",
      "$$"
     ]
    },
    {
     "cell_type": "markdown",
     "metadata": {},
     "source": [
      "### Variance, covariance, errors etc\n",
      "\n",
      "If we consider the above covariance as a matrix $C_{ij} =\n",
      "\\mathrm{Cov}(X_i,\\,X_j)$, then the diagonal elements are just the familiar\n",
      "variances, $C_{ii} = \\mathrm{Cov}(X_i,\\,X_i) = \\mathrm{Var}(X_i)$. It turns out that\n",
      "all the off-diagonal elements are zero if the stochastic variables are\n",
      "uncorrelated. This is easy to show, keeping in mind the linearity of\n",
      "the expectation value. Consider the stochastic variables $X_i$ and\n",
      "$X_j$, ($i\\neq j$):"
     ]
    },
    {
     "cell_type": "markdown",
     "metadata": {},
     "source": [
      "$$\n",
      "\\mathrm{Cov}(X_i,\\,X_j) = {\\big\\langle (x_i-{\\langle x_i \\rangle \\big\\rangle})(x_j-{\\langle x_j \\rangle})}\n",
      "$$"
     ]
    },
    {
     "cell_type": "markdown",
     "metadata": {},
     "source": [
      "$$\n",
      "={\\langle x_i x_j - x_i{\\langle x_j \\rangle \\rangle} - {\\langle x_i \\rangle}x_j + {\\langle x_i \\rangle}{\\langle x_j \\rangle}}\n",
      "$$"
     ]
    },
    {
     "cell_type": "markdown",
     "metadata": {},
     "source": [
      "$$\n",
      "={\\langle x_i x_j \\rangle} - {\\langle x_i{\\langle x_j \\rangle \\rangle}} - {\\langle {\\langle x_i \\rangle \\rangle}x_j} +\n",
      "{\\langle {\\langle x_i \\rangle \\rangle}{\\langle x_j \\rangle}}\n",
      "$$"
     ]
    },
    {
     "cell_type": "markdown",
     "metadata": {},
     "source": [
      "$$\n",
      "={\\langle x_i x_j \\rangle} - {\\langle x_i \\rangle}{\\langle x_j \\rangle} - {\\langle x_i \\rangle}{\\langle x_j \\rangle} +\n",
      "{\\langle x_i \\rangle}{\\langle x_j \\rangle}\n",
      "$$"
     ]
    },
    {
     "cell_type": "markdown",
     "metadata": {},
     "source": [
      "$$\n",
      "={\\langle x_i x_j \\rangle} - {\\langle x_i \\rangle}{\\langle x_j \\rangle}\n",
      "$$"
     ]
    },
    {
     "cell_type": "markdown",
     "metadata": {},
     "source": [
      "### Variance, covariance, errors etc\n",
      "\n",
      "If $X_i$ and $X_j$ are independent, we get ${\\langle x_i x_j \\rangle} =\n",
      "{\\langle x_i \\rangle}{\\langle x_j \\rangle}$, resulting in $\\mathrm{Cov}(X_i, X_j) = 0\\ \\ (i\\neq j)$.\n",
      "\n",
      "Also useful for us is the covariance of linear combinations of\n",
      "stochastic variables. Let $\\{X_i\\}$ and $\\{Y_i\\}$ be two sets of\n",
      "stochastic variables. Let also $\\{a_i\\}$ and $\\{b_i\\}$ be two sets of\n",
      "scalars. Consider the linear combination:"
     ]
    },
    {
     "cell_type": "markdown",
     "metadata": {},
     "source": [
      "$$\n",
      "U = \\sum_i a_i X_i \\qquad V = \\sum_j b_j Y_j\n",
      "$$"
     ]
    },
    {
     "cell_type": "markdown",
     "metadata": {},
     "source": [
      "By the linearity of the expectation value"
     ]
    },
    {
     "cell_type": "markdown",
     "metadata": {},
     "source": [
      "$$\n",
      "\\mathrm{Cov}(U, V) = \\sum_{i,j}a_i b_j \\mathrm{Cov}(X_i, Y_j)\n",
      "$$"
     ]
    },
    {
     "cell_type": "markdown",
     "metadata": {},
     "source": [
      "### Variance, covariance, errors etc\n",
      "\n",
      "Now, since the variance is just $\\mathrm{Var}(X_i) = \\mathrm{Cov}(X_i, X_i)$, we get\n",
      "the variance of the linear combination $U = \\sum_i a_i X_i$:"
     ]
    },
    {
     "cell_type": "markdown",
     "metadata": {},
     "source": [
      "<!-- Equation labels as ordinary links -->\n",
      "<a name=\"eq:variance_linear_combination\"/>\n",
      "\n",
      "$$\n",
      "\\mathrm{Var}(U) = \\sum_{i,j}a_i a_j \\mathrm{Cov}(X_i, X_j)\n",
      "\\label{eq:variance_linear_combination} \\tag{31}\n",
      "$$"
     ]
    },
    {
     "cell_type": "markdown",
     "metadata": {},
     "source": [
      "And in the special case when the stochastic variables are\n",
      "uncorrelated, the off-diagonal elements of the covariance are as we\n",
      "know< zero, resulting in:"
     ]
    },
    {
     "cell_type": "markdown",
     "metadata": {},
     "source": [
      "$$\n",
      "\\mathrm{Var}(U) = \\sum_i a_i^2 \\mathrm{Cov}(X_i, X_i) = \\sum_i a_i^2 \\mathrm{Var}(X_i)\n",
      "$$"
     ]
    },
    {
     "cell_type": "markdown",
     "metadata": {},
     "source": [
      "$$\n",
      "\\mathrm{Var}(\\sum_i a_i X_i) = \\sum_i a_i^2 \\mathrm{Var}(X_i)\n",
      "$$"
     ]
    },
    {
     "cell_type": "markdown",
     "metadata": {},
     "source": [
      "which will become very useful in our study of the error in the mean\n",
      "value of a set of measurements.\n",
      "\n",
      "### Variance, covariance, errors etc\n",
      "\n",
      "In practical situations a sample is always of finite size. Let that\n",
      "size be $n$. The expectation value of a sample, the *sample\n",
      "mean*, is then defined as follows:"
     ]
    },
    {
     "cell_type": "markdown",
     "metadata": {},
     "source": [
      "$$\n",
      "\\bar x_n \\equiv \\frac{1}{n}\\sum_{k=1}^n x_k\n",
      "$$"
     ]
    },
    {
     "cell_type": "markdown",
     "metadata": {},
     "source": [
      "The *sample variance* is:"
     ]
    },
    {
     "cell_type": "markdown",
     "metadata": {},
     "source": [
      "$$\n",
      "\\mathrm{Var}(x) \\equiv \\frac{1}{n}\\sum_{k=1}^n (x_k - \\bar x_n)^2\n",
      "$$"
     ]
    },
    {
     "cell_type": "markdown",
     "metadata": {},
     "source": [
      "its square root being the *standard deviation of the sample*. The\n",
      "*sample covariance* is:"
     ]
    },
    {
     "cell_type": "markdown",
     "metadata": {},
     "source": [
      "$$\n",
      "\\mathrm{Cov}(x)\\equiv\\frac{1}{n}\\sum_{kl}(x_k - \\bar x_n)(x_l - \\bar x_n)\n",
      "$$"
     ]
    },
    {
     "cell_type": "markdown",
     "metadata": {},
     "source": [
      "### Variance, covariance, errors etc\n",
      "\n",
      "Note that the sample variance is the sample covariance without the\n",
      "cross terms. In a similar manner as the covariance in\n",
      "eq. [(30)](#eq:finalmeanm) is a measure of the correlation between\n",
      "two stochastic variables, the above defined sample covariance is a\n",
      "measure of the sequential correlation between succeeding measurements\n",
      "of a sample.\n",
      "\n",
      "These quantities, being known experimental values, differ\n",
      "significantly from and must not be confused with the similarly named\n",
      "quantities for stochastic variables, mean $\\mu_X$, variance $\\mathrm{Var}(X)$\n",
      "and covariance $\\mathrm{Cov}(X,Y)$.\n",
      "\n",
      "### Variance, covariance, errors etc\n",
      "\n",
      "The law of large numbers\n",
      "states that as the size of our sample grows to infinity, the sample\n",
      "mean approaches the true mean $\\mu_X^{\\phantom X}$ of the chosen PDF:"
     ]
    },
    {
     "cell_type": "markdown",
     "metadata": {},
     "source": [
      "$$\n",
      "\\lim_{n\\to\\infty}\\bar x_n = \\mu_X^{\\phantom X}\n",
      "$$"
     ]
    },
    {
     "cell_type": "markdown",
     "metadata": {},
     "source": [
      "The sample mean $\\bar x_n$ works therefore as an estimate of the true\n",
      "mean $\\mu_X^{\\phantom X}$.\n",
      "\n",
      "What we need to find out is how good an approximation $\\bar x_n$ is to\n",
      "$\\mu_X^{\\phantom X}$. In any stochastic measurement, an estimated\n",
      "mean is of no use to us without a measure of its error. A quantity\n",
      "that tells us how well we can reproduce it in another experiment. We\n",
      "are therefore interested in the PDF of the sample mean itself. Its\n",
      "standard deviation will be a measure of the spread of sample means,\n",
      "and we will simply call it the *error* of the sample mean, or\n",
      "just sample error, and denote it by $\\mbox{err}_X^{\\phantom X}$. In\n",
      "practice, we will only be able to produce an *estimate* of the\n",
      "sample error since the exact value would require the knowledge of the\n",
      "true PDFs behind, which we usually do not have.\n",
      "\n",
      "### Variance, covariance, errors etc\n",
      "\n",
      "The straight forward brute force way of estimating the sample error is\n",
      "simply by producing a number of samples, and treating the mean of each\n",
      "as a measurement. The standard deviation of these means will then be\n",
      "an estimate of the original sample error. If we are unable to produce\n",
      "more than one sample, we can split it up sequentially into smaller\n",
      "ones, treating each in the same way as above. This procedure is known\n",
      "as *blocking* and will be given more attention shortly. At this\n",
      "point it is worth while exploring more indirect methods of estimation\n",
      "that will help us understand some important underlying principles of\n",
      "correlational effects.\n",
      "\n",
      "### Variance, covariance, errors etc\n",
      "\n",
      "Let us first take a look at what happens to the sample error as the\n",
      "size of the sample grows. In a sample, each of the measurements $x_i$\n",
      "can be associated with its own stochastic variable $X_i$. The\n",
      "stochastic variable $\\overline X_n$ for the sample mean $\\bar x_n$ is\n",
      "then just a linear combination, already familiar to us:"
     ]
    },
    {
     "cell_type": "markdown",
     "metadata": {},
     "source": [
      "$$\n",
      "\\overline X_n = \\frac{1}{n}\\sum_{i=1}^n X_i\n",
      "$$"
     ]
    },
    {
     "cell_type": "markdown",
     "metadata": {},
     "source": [
      "All the coefficients are just equal $1/n$. The PDF of $\\overline X_n$,\n",
      "denoted by $p_{\\overline X_n}(x)$ is the desired PDF of the sample\n",
      "means.\n",
      "\n",
      "### Variance, covariance, errors etc\n",
      "\n",
      "The probability density of obtaining a sample mean $\\bar x_n$\n",
      "is the product of probabilities of obtaining arbitrary values $x_1,\n",
      "x_2,\\dots,x_n$ with the constraint that the mean of the set $\\{x_i\\}$\n",
      "is $\\bar x_n$:"
     ]
    },
    {
     "cell_type": "markdown",
     "metadata": {},
     "source": [
      "$$\n",
      "p_{\\overline X_n}(x) = \\int p_X^{\\phantom X}(x_1)\\cdots\n",
      "\\int p_X^{\\phantom X}(x_n)\\\n",
      "\\delta\\!\\left(x - \\frac{x_1+x_2+\\dots+x_n}{n}\\right)dx_n \\cdots dx_1\n",
      "$$"
     ]
    },
    {
     "cell_type": "markdown",
     "metadata": {},
     "source": [
      "And in particular we are interested in its variance $\\mathrm{Var}(\\overline\n",
      "X_n)$.\n",
      "\n",
      "### Variance, covariance, errors etc\n",
      "\n",
      "It is generally not possible to express $p_{\\overline X_n}(x)$ in a\n",
      "closed form given an arbitrary PDF $p_X^{\\phantom X}$ and a number\n",
      "$n$. But for the limit $n\\to\\infty$ it is possible to make an\n",
      "approximation. The very important result is called *the central\n",
      "  limit theorem*. It tells us that as $n$ goes to infinity,\n",
      "$p_{\\overline X_n}(x)$ approaches a Gaussian distribution whose mean\n",
      "and variance equal the true mean and variance, $\\mu_{X}^{\\phantom X}$\n",
      "and $\\sigma_{X}^{2}$, respectively:"
     ]
    },
    {
     "cell_type": "markdown",
     "metadata": {},
     "source": [
      "<!-- Equation labels as ordinary links -->\n",
      "<a name=\"eq:central_limit_gaussian\"/>\n",
      "\n",
      "$$\n",
      "\\lim_{n\\to\\infty} p_{\\overline X_n}(x) =\n",
      "\\left(\\frac{n}{2\\pi\\mathrm{Var}(X)}\\right)^{1/2}\n",
      "e^{-\\frac{n(x-\\bar x_n)^2}{2\\mathrm{Var}(X)}}\n",
      "\\label{eq:central_limit_gaussian} \\tag{32}\n",
      "$$"
     ]
    },
    {
     "cell_type": "markdown",
     "metadata": {},
     "source": [
      "### Variance, covariance, errors etc\n",
      "\n",
      "The desired variance\n",
      "$\\mathrm{Var}(\\overline X_n)$, i.e. the sample error squared\n",
      "$\\mbox{err}_X^2$, is given by:"
     ]
    },
    {
     "cell_type": "markdown",
     "metadata": {},
     "source": [
      "<!-- Equation labels as ordinary links -->\n",
      "<a name=\"eq:error_exact\"/>\n",
      "\n",
      "$$\n",
      "\\begin{equation}\n",
      "\\mbox{err}_X^2 = \\mathrm{Var}(\\overline X_n) = \\frac{1}{n^2}\n",
      "\\sum_{ij} \\mathrm{Cov}(X_i, X_j)\n",
      "\\label{eq:error_exact} \\tag{33}\n",
      "\\end{equation}\n",
      "$$"
     ]
    },
    {
     "cell_type": "markdown",
     "metadata": {},
     "source": [
      "We see now that in order to calculate the exact error of the sample\n",
      "with the above expression, we would need the true means\n",
      "$\\mu_{X_i}^{\\phantom X}$ of the stochastic variables $X_i$. To\n",
      "calculate these requires that we know the true multivariate PDF of all\n",
      "the $X_i$. But this PDF is unknown to us, we have only got the measurements of\n",
      "one sample. The best we can do is to let the sample itself be an\n",
      "estimate of the PDF of each of the $X_i$, estimating all properties of\n",
      "$X_i$ through the measurements of the sample.\n",
      "\n",
      "### Variance, covariance, errors etc\n",
      "\n",
      "Our estimate of $\\mu_{X_i}^{\\phantom X}$ is then the sample mean $\\bar x$\n",
      "itself, in accordance with the the central limit theorem:"
     ]
    },
    {
     "cell_type": "markdown",
     "metadata": {},
     "source": [
      "$$\n",
      "\\mu_{X_i}^{\\phantom X} = {\\langle x_i \\rangle} \\approx \\frac{1}{n}\\sum_{k=1}^n\n",
      "x_k = \\bar x\n",
      "$$"
     ]
    },
    {
     "cell_type": "markdown",
     "metadata": {},
     "source": [
      "Using $\\bar x$ in place of $\\mu_{X_i}^{\\phantom X}$ we can give an\n",
      "*estimate* of the covariance in eq. [(33)](#eq:finalmeanm):"
     ]
    },
    {
     "cell_type": "markdown",
     "metadata": {},
     "source": [
      "$$\n",
      "\\mathrm{Cov}(X_i, X_j) = {\\langle (x_i-{\\langle x_i \\rangle \\rangle})(x_j-{\\langle x_j \\rangle})}\n",
      "\\approx{\\langle (x_i - \\bar x)(x_j - \\bar{x \\rangle})}\n",
      "$$"
     ]
    },
    {
     "cell_type": "markdown",
     "metadata": {},
     "source": [
      "$$\n",
      "\\approx\\frac{1}{n} \\sum_{l}^n \\left(\\frac{1}{n}\\sum_{k}^n (x_k -\n",
      "\\bar x_n)(x_l - \\bar x_n)\\right)\n",
      "=\\frac{1}{n}\\frac{1}{n} \\sum_{kl} (x_k -\n",
      "\\bar x_n)(x_l - \\bar x_n)\n",
      "$$"
     ]
    },
    {
     "cell_type": "markdown",
     "metadata": {},
     "source": [
      "$$\n",
      "=\\frac{1}{n}\\mathrm{Cov}(x)\n",
      "$$"
     ]
    },
    {
     "cell_type": "markdown",
     "metadata": {},
     "source": [
      "### Variance, covariance, errors etc\n",
      "\n",
      "By the same procedure we can use the sample variance as an\n",
      "estimate of the variance of any of the stochastic variables $X_i$:"
     ]
    },
    {
     "cell_type": "markdown",
     "metadata": {},
     "source": [
      "$$\n",
      "\\begin{equation}\n",
      "\\mathrm{Var}(X_i)\n",
      "={\\langle x_i - {\\langle x_i \\rangle \\rangle}} \\approx {\\langle x_i - \\bar x_n \\rangle}\\nonumber\n",
      "\\end{equation}\n",
      "$$"
     ]
    },
    {
     "cell_type": "markdown",
     "metadata": {},
     "source": [
      "$$\n",
      "\\begin{equation} \n",
      "\\approx\\frac{1}{n}\\sum_{k=1}^n (x_k - \\bar x_n)\\nonumber\n",
      "\\end{equation}\n",
      "$$"
     ]
    },
    {
     "cell_type": "markdown",
     "metadata": {},
     "source": [
      "<!-- Equation labels as ordinary links -->\n",
      "<a name=\"eq:var_estimate_i_think\"/>\n",
      "\n",
      "$$\n",
      "\\begin{equation} \n",
      "=\\mathrm{Var}(x)\n",
      "\\label{eq:var_estimate_i_think} \\tag{34}\n",
      "\\end{equation}\n",
      "$$"
     ]
    },
    {
     "cell_type": "markdown",
     "metadata": {},
     "source": [
      "Now we can calculate an estimate of the error\n",
      "$\\mbox{err}_X^{\\phantom X}$ of the sample mean $\\bar x_n$:"
     ]
    },
    {
     "cell_type": "markdown",
     "metadata": {},
     "source": [
      "$$\n",
      "\\begin{equation}\n",
      "\\mbox{err}_X^2\n",
      "=\\frac{1}{n^2}\\sum_{ij} \\mathrm{Cov}(X_i, X_j) \\nonumber \n",
      "\\end{equation}\n",
      "$$"
     ]
    },
    {
     "cell_type": "markdown",
     "metadata": {},
     "source": [
      "$$\n",
      "\\begin{equation} \n",
      "\\approx\\frac{1}{n^2}\\sum_{ij}\\frac{1}{n}\\mathrm{Cov}(x) =\n",
      "\\frac{1}{n^2}n^2\\frac{1}{n}\\mathrm{Cov}(x)\\nonumber\n",
      "\\end{equation}\n",
      "$$"
     ]
    },
    {
     "cell_type": "markdown",
     "metadata": {},
     "source": [
      "<!-- Equation labels as ordinary links -->\n",
      "<a name=\"eq:error_estimate\"/>\n",
      "\n",
      "$$\n",
      "\\begin{equation} \n",
      "=\\frac{1}{n}\\mathrm{Cov}(x)\n",
      "\\label{eq:error_estimate} \\tag{35}\n",
      "\\end{equation}\n",
      "$$"
     ]
    },
    {
     "cell_type": "markdown",
     "metadata": {},
     "source": [
      "which is nothing but the sample covariance divided by the number of\n",
      "measurements in the sample.\n",
      "\n",
      "### Variance, covariance, errors etc\n",
      "\n",
      "In the special case that the measurements of the sample are\n",
      "uncorrelated (equivalently the stochastic variables $X_i$ are\n",
      "uncorrelated) we have that the off-diagonal elements of the covariance\n",
      "are zero. This gives the following estimate of the sample error:"
     ]
    },
    {
     "cell_type": "markdown",
     "metadata": {},
     "source": [
      "$$\n",
      "\\begin{equation}\n",
      "\\mbox{err}_X^2 = \\frac{1}{n^2}\\sum_{ij} \\mathrm{Cov}(X_i, X_j) =\n",
      "\\frac{1}{n^2} \\sum_i \\mathrm{Var}(X_i)\\nonumber\n",
      "\\end{equation}\n",
      "$$"
     ]
    },
    {
     "cell_type": "markdown",
     "metadata": {},
     "source": [
      "$$\n",
      "\\begin{equation} \n",
      "\\approx\n",
      "\\frac{1}{n^2} \\sum_i \\mathrm{Var}(x)\\nonumber\n",
      "\\end{equation}\n",
      "$$"
     ]
    },
    {
     "cell_type": "markdown",
     "metadata": {},
     "source": [
      "<!-- Equation labels as ordinary links -->\n",
      "<a name=\"eq:error_estimate_uncorrel\"/>\n",
      "\n",
      "$$\n",
      "\\begin{equation}  = \\frac{1}{n}\\mathrm{Var}(x)\n",
      "\\label{eq:error_estimate_uncorrel} \\tag{36}\n",
      "\\end{equation}\n",
      "$$"
     ]
    },
    {
     "cell_type": "markdown",
     "metadata": {},
     "source": [
      "where in the second step we have used eq. [(34)](#eq:finalmeanm).\n",
      "The error of the sample is then just its standard deviation divided by\n",
      "the square root of the number of measurements the sample contains.\n",
      "This is a very useful formula which is easy to compute. It acts as a\n",
      "first approximation to the error, but in numerical experiments, we\n",
      "cannot overlook the always present correlations.\n",
      "\n",
      "### Variance, covariance, errors etc\n",
      "\n",
      "For computational purposes one usually splits up the estimate of\n",
      "$\\mbox{err}_X^2$, given by eq. [(35)](#eq:finalmeanm), into two\n",
      "parts:"
     ]
    },
    {
     "cell_type": "markdown",
     "metadata": {},
     "source": [
      "$$\n",
      "\\begin{equation}\n",
      "\\mbox{err}_X^2 =\n",
      "\\frac{1}{n}\\mathrm{Var}(x) + \\frac{1}{n}(\\mathrm{Cov}(x)-\\mathrm{Var}(x))\\nonumber\n",
      "\\end{equation}\n",
      "$$"
     ]
    },
    {
     "cell_type": "markdown",
     "metadata": {},
     "source": [
      "<!-- Equation labels as ordinary links -->\n",
      "<a name=\"eq:error_estimate_split_up\"/>\n",
      "\n",
      "$$\n",
      "\\begin{equation} =\n",
      "\\frac{1}{n^2}\\sum_{k=1}^n (x_k - \\bar x_n)^2 +\n",
      "\\frac{2}{n^2}\\sum_{k < l} (x_k - \\bar x_n)(x_l - \\bar x_n)\n",
      "\\label{eq:error_estimate_split_up} \\tag{37}\n",
      "\\end{equation}\n",
      "$$"
     ]
    },
    {
     "cell_type": "markdown",
     "metadata": {},
     "source": [
      "The first term is the same as the error in the uncorrelated case,\n",
      "Eq. [(36)](#eq:finalmeanm). This means that the second\n",
      "term accounts for the error correction due to correlation between the\n",
      "measurements. For uncorrelated measurements this second term is zero.\n",
      "\n",
      "### Variance, covariance, errors etc\n",
      "\n",
      "Computationally the uncorrelated first term is much easier to treat\n",
      "efficiently than the second."
     ]
    },
    {
     "cell_type": "markdown",
     "metadata": {},
     "source": [
      "$$\n",
      "\\mathrm{Var}(x) = \\frac{1}{n}\\sum_{k=1}^n (x_k - \\bar x_n)^2 =\n",
      "\\left(\\frac{1}{n}\\sum_{k=1}^n x_k^2\\right) - \\bar x_n^2\n",
      "$$"
     ]
    },
    {
     "cell_type": "markdown",
     "metadata": {},
     "source": [
      "We just accumulate separately the values $x^2$ and $x$ for every\n",
      "measurement $x$ we receive. The correlation term, though, has to be\n",
      "calculated at the end of the experiment since we need all the\n",
      "measurements to calculate the cross terms. Therefore, all measurements\n",
      "have to be stored throughout the experiment.\n",
      "\n",
      "### Random Numbers, chapter 11.3\n",
      "\n",
      "<!-- 2DOFIGURE: [random.jpg, width=500 frac=0.5] -->\n",
      "\n",
      "### Random Numbers\n",
      "\n",
      "Most used are so-called 'Linear congruential'"
     ]
    },
    {
     "cell_type": "markdown",
     "metadata": {},
     "source": [
      "$$\n",
      "N_i=(aN_{i-1}+c) MOD (M),\n",
      "$$"
     ]
    },
    {
     "cell_type": "markdown",
     "metadata": {},
     "source": [
      "and to find a number in $x\\in [0,1]$"
     ]
    },
    {
     "cell_type": "markdown",
     "metadata": {},
     "source": [
      "$$\n",
      "x_i=N_i/M\n",
      "$$"
     ]
    },
    {
     "cell_type": "markdown",
     "metadata": {},
     "source": [
      "$M$ is called the period and should be as big as possible.\n",
      "The start value is $N_0$ and is called the seed.\n",
      "\n",
      "  * The random variables should result in the uniform distribution\n",
      "\n",
      "  * No correlations between numbers (zero covariance)\n",
      "\n",
      "  * As big as possible period $M$\n",
      "\n",
      "  * Fast algo\n",
      "\n",
      "### Random Numbers\n",
      "\n",
      "The problem with such generators is that their outputs are periodic;\n",
      "they\n",
      "will start to repeat themselves with a period that is at most $M$. If however\n",
      "the parameters $a$ and $c$ are badly chosen, the period may be even shorter.\n",
      "\n",
      "Consider the following example"
     ]
    },
    {
     "cell_type": "markdown",
     "metadata": {},
     "source": [
      "$$\n",
      "N_i=(6N_{i-1}+7) \\mbox{MOD} (5),\n",
      "$$"
     ]
    },
    {
     "cell_type": "markdown",
     "metadata": {},
     "source": [
      "with a seed $N_0=2$. This generator produces the sequence\n",
      "$4,1,3,0,2,4,1,3,0,2,...\\dots$, i.e., a sequence with period $5$.\n",
      "However, increasing $M$ may not guarantee a larger period as the following\n",
      "example shows"
     ]
    },
    {
     "cell_type": "markdown",
     "metadata": {},
     "source": [
      "$$\n",
      "N_i=(27N_{i-1}+11) \\mbox{MOD} (54),\n",
      "$$"
     ]
    },
    {
     "cell_type": "markdown",
     "metadata": {},
     "source": [
      "which still, with $N_0=2$, results in $11,38,11,38,11,38,\\dots$, a period of\n",
      "just $2$.\n",
      "\n",
      "### Random Numbers\n",
      "\n",
      "Typical periods for the random generators provided in the program library\n",
      "are of the order of $\\sim 10^9$ or larger. Other random number generators which have\n",
      "become increasingly popular are so-called shift-register generators.\n",
      "In these generators each successive number depends on many preceding\n",
      "values (rather than the last values as in the linear congruential\n",
      "generator).\n",
      "For example, you could make a shift register generator whose $l$th\n",
      "number is the sum of the $l-i$th and $l-j$th values with modulo $M$,"
     ]
    },
    {
     "cell_type": "markdown",
     "metadata": {},
     "source": [
      "$$\n",
      "N_l=(aN_{l-i}+cN_{l-j})\\mbox{MOD}(M).\n",
      "$$"
     ]
    },
    {
     "cell_type": "markdown",
     "metadata": {},
     "source": [
      "Such a generator again produces a sequence of pseudorandom numbers\n",
      "but this time with a period much larger than $M$.\n",
      "It is also possible to construct more elaborate algorithms by including\n",
      "more than two past terms in the sum of each iteration.\n",
      "One example is the generator of Marsaglia and Zaman (Computers in Physics {\\bf 8} (1994) 117)\n",
      "which consists of two congruential relations"
     ]
    },
    {
     "cell_type": "markdown",
     "metadata": {},
     "source": [
      "<!-- Equation labels as ordinary links -->\n",
      "<a name=\"eq:mz1\"/>\n",
      "\n",
      "$$\n",
      "N_l=(N_{l-3}-N_{l-1})\\mbox{MOD}(2^{31}-69),\n",
      "   \\label{eq:mz1} \\tag{38}\n",
      "$$"
     ]
    },
    {
     "cell_type": "markdown",
     "metadata": {},
     "source": [
      "followed by"
     ]
    },
    {
     "cell_type": "markdown",
     "metadata": {},
     "source": [
      "<!-- Equation labels as ordinary links -->\n",
      "<a name=\"eq:mz2\"/>\n",
      "\n",
      "$$\n",
      "N_l=(69069N_{l-1}+1013904243)\\mbox{MOD}(2^{32}),\n",
      "   \\label{eq:mz2} \\tag{39}\n",
      "$$"
     ]
    },
    {
     "cell_type": "markdown",
     "metadata": {},
     "source": [
      "which according to the authors has a period larger than $2^{94}$.\n",
      "\n",
      "### Random Numbers\n",
      "\n",
      "Using modular addition, we could use the bitwise\n",
      "exclusive-OR ($\\oplus$) operation so that"
     ]
    },
    {
     "cell_type": "markdown",
     "metadata": {},
     "source": [
      "$$\n",
      "N_l=(N_{l-i})\\oplus (N_{l-j})\n",
      "$$"
     ]
    },
    {
     "cell_type": "markdown",
     "metadata": {},
     "source": [
      "where the bitwise action of $\\oplus$ means that if $N_{l-i}=N_{l-j}$ the result is\n",
      "$0$ whereas if $N_{l-i}\\ne N_{l-j}$ the result is\n",
      "$1$. As an example, consider the case where  $N_{l-i}=6$ and $N_{l-j}=11$. The first\n",
      "one has a bit representation (using 4 bits only) which reads $0110$ whereas the\n",
      "second number is $1011$. Employing the $\\oplus$ operator yields\n",
      "$1101$, or $2^3+2^2+2^0=13$.\n",
      "\n",
      "In Fortran90, the bitwise $\\oplus$ operation is coded through the intrinsic\n",
      "function $\\mbox{IEOR}(m,n)$ where $m$ and $n$ are the input numbers, while in $C$\n",
      "it is given by $m\\wedge n$.\n",
      "\n",
      "### Random Numbers\n",
      "\n",
      "The function $ran0$ implements"
     ]
    },
    {
     "cell_type": "markdown",
     "metadata": {},
     "source": [
      "$$\n",
      "N_i=(aN_{i-1}) \\mbox{MOD} (M).\n",
      "$$"
     ]
    },
    {
     "cell_type": "markdown",
     "metadata": {},
     "source": [
      "Note that $c=0$ and that it cannot be initialized with $N_0=0$.\n",
      "However, since $a$ and $N_{i-1}$ are integers and their multiplication\n",
      "could become greater than the standard 32 bit integer, there is a trick via\n",
      "Schrage's algorithm which approximates the multiplication\n",
      "of large integers through the factorization"
     ]
    },
    {
     "cell_type": "markdown",
     "metadata": {},
     "source": [
      "$$\n",
      "M=aq+r,\n",
      "$$"
     ]
    },
    {
     "cell_type": "markdown",
     "metadata": {},
     "source": [
      "where we have defined"
     ]
    },
    {
     "cell_type": "markdown",
     "metadata": {},
     "source": [
      "$$\n",
      "q=[M/a],\n",
      "$$"
     ]
    },
    {
     "cell_type": "markdown",
     "metadata": {},
     "source": [
      "and"
     ]
    },
    {
     "cell_type": "markdown",
     "metadata": {},
     "source": [
      "$$\n",
      "r = M\\quad\\mbox{MOD} \\quad a.\n",
      "$$"
     ]
    },
    {
     "cell_type": "markdown",
     "metadata": {},
     "source": [
      "where the brackets denote integer division. In the code below the numbers\n",
      "$q$ and $r$ are chosen so that $r < q$.\n",
      "\n",
      "### Random Numbers\n",
      "\n",
      "To see how this works we note first that"
     ]
    },
    {
     "cell_type": "markdown",
     "metadata": {},
     "source": [
      "<!-- Equation labels as ordinary links -->\n",
      "<a name=\"eq:rntrick1\"/>\n",
      "\n",
      "$$\n",
      "(aN_{i-1}) \\mbox{MOD} (M)= (aN_{i-1}-[N_{i-1}/q]M)\\mbox{MOD} (M),\n",
      "\\label{eq:rntrick1} \\tag{40}\n",
      "$$"
     ]
    },
    {
     "cell_type": "markdown",
     "metadata": {},
     "source": [
      "since we can add or subtract any integer multiple of $M$ from $aN_{i-1}$.\n",
      "The last term $ [N_{i-1}/q]M \\mbox{MOD} (M)$ is zero since the integer division\n",
      "$[N_{i-1}/q]$ just yields a constant which is multiplied with $M$.\n",
      "Rewrite as"
     ]
    },
    {
     "cell_type": "markdown",
     "metadata": {},
     "source": [
      "<!-- Equation labels as ordinary links -->\n",
      "<a name=\"eq:rntrick2\"/>\n",
      "\n",
      "$$\n",
      "(aN_{i-1}) \\mbox{MOD} (M)= (aN_{i-1}-[N_{i-1}/q](aq+r))\\mbox{MOD} (M),\n",
      "\\label{eq:rntrick2} \\tag{41}\n",
      "$$"
     ]
    },
    {
     "cell_type": "markdown",
     "metadata": {},
     "source": [
      "### Random Numbers\n",
      "\n",
      "It gives"
     ]
    },
    {
     "cell_type": "markdown",
     "metadata": {},
     "source": [
      "<!-- Equation labels as ordinary links -->\n",
      "<a name=\"eq:rntrick3\"/>\n",
      "\n",
      "$$\n",
      "(aN_{i-1}) \\mbox{MOD} (M)= \\left(a(N_{i-1}-[N_{i-1}/q]q)-[N_{i-1}/q]r)\\right)\\mbox{MOD} (M),\n",
      "\\label{eq:rntrick3} \\tag{42}\n",
      "$$"
     ]
    },
    {
     "cell_type": "markdown",
     "metadata": {},
     "source": [
      "yielding"
     ]
    },
    {
     "cell_type": "markdown",
     "metadata": {},
     "source": [
      "<!-- Equation labels as ordinary links -->\n",
      "<a name=\"eq:rntrick4\"/>\n",
      "\n",
      "$$\n",
      "(aN_{i-1}) \\mbox{MOD} (M)= \\left(a(N_{i-1}\\mbox{MOD} (q)) -[N_{i-1}/q]r)\\right)\\mbox{MOD} (M).\n",
      "\\label{eq:rntrick4} \\tag{43}\n",
      "$$"
     ]
    },
    {
     "cell_type": "markdown",
     "metadata": {},
     "source": [
      "* $[N_{i-1}/q]r$ is always smaller or equal $N_{i-1}(r/q)$ and with $r < q$ we obtain always a number smaller than $N_{i-1}$, which is smaller than $M$.\n",
      "\n",
      "  * $N_{i-1}\\mbox{MOD} (q)$ is between zero and $q-1$ then $a(N_{i-1}\\mbox{MOD} (q)) < aq$.\n",
      "\n",
      "  * Our definition of $q=[M/a]$ ensures that this term is also smaller than $M$ meaning that both terms fit into a 32-bit signed integer. None of these two terms can be negative, but their difference could.\n",
      "\n",
      "### Random Numbers"
     ]
    },
    {
     "cell_type": "markdown",
     "metadata": {},
     "source": [
      "        /*  ran0() is an \"Minimal\" random number generator of Park and Miller\n",
      "        ** Set or reset the input value\n",
      "        ** idum to any integer value (except the unlikely value MASK)\n",
      "        ** to initialize the sequence; idum must not be altered between\n",
      "        ** calls for sucessive deviates in a sequence.\n",
      "        ** The function returns a uniform deviate between 0.0 and 1.0.\n",
      "        */\n",
      "        double ran0(long &idum)\n",
      "        {\n",
      "           const int a = 16807, m = 2147483647, q = 127773;\n",
      "           const int r = 2836, MASK = 123459876;\n",
      "           const double am = 1./m;\n",
      "           long     k;\n",
      "           double   ans;\n",
      "           idum ^= MASK;\n",
      "           k = (*idum)/q;\n",
      "           idum = a*(idum - k*q) - r*k;\n",
      "           // add m if negative difference\n",
      "           if(idum < 0) idum += m;\n",
      "           ans=am*(idum);\n",
      "           idum ^= MASK;\n",
      "           return ans;\n",
      "        } // End: function ran0()\n"
     ]
    },
    {
     "cell_type": "markdown",
     "metadata": {},
     "source": [
      "### Random Numbers\n",
      "\n",
      "Important tests  of random numbers are the standard deviation $\\sigma$ and the mean\n",
      "$\\mu=\\langle x\\rangle$.\n",
      "\n",
      "For the uniform distribution we have"
     ]
    },
    {
     "cell_type": "markdown",
     "metadata": {},
     "source": [
      "$$\n",
      "\\langle x^k\\rangle=\\int_0^1dxp(x)x^k=\\int_0^1dxx^k=\\frac{1}{k+1},\n",
      "$$"
     ]
    },
    {
     "cell_type": "markdown",
     "metadata": {},
     "source": [
      "since $p(x)=1$.\n",
      "The mean value $\\mu$ is then"
     ]
    },
    {
     "cell_type": "markdown",
     "metadata": {},
     "source": [
      "$$\n",
      "\\mu=\\langle x\\rangle=\\frac{1}{2}\n",
      "$$"
     ]
    },
    {
     "cell_type": "markdown",
     "metadata": {},
     "source": [
      "while the standard deviation is"
     ]
    },
    {
     "cell_type": "markdown",
     "metadata": {},
     "source": [
      "$$\n",
      "\\sigma=\\sqrt{\\langle x^2\\rangle-\\mu^2}=\\frac{1}{\\sqrt{12}}=0.2886.\n",
      "$$"
     ]
    },
    {
     "cell_type": "markdown",
     "metadata": {},
     "source": [
      "### Random Numbers\n",
      "\n",
      "Number of $x$-values for various intervals\n",
      "generated by 4 random number generators,\n",
      "their corresponding mean values and standard deviations. All calculations\n",
      "have been initialized with the variable $idum=-1$.\n",
      "\\begin{tabular}{crrrr}\\hline\n",
      "$x$-bin &ran0&ran1&ran2&ran3\\\\\\hline\n",
      "0.0-0.1 &1013 &991 &938 &1047 \\\\\n",
      "0.1-0.2 &1002 &1009 &1040 &1030 \\\\\n",
      "0.2-0.3 &989 &999 &1030 &993 \\\\\n",
      "0.3-0.4 &939 &960 &1023 &937 \\\\\n",
      "0.4-0.5 &1038 &1001 &1002 &992 \\\\\n",
      "0.5-0.6 &1037 &1047 &1009 & 1009\\\\\n",
      "0.6-0.7 &1005 &989 &1003 &989 \\\\\n",
      "0.7-0.8 &986 &962 &985 &954 \\\\\n",
      "0.8-0.9 &1000 &1027 &1009 &1023 \\\\\n",
      "0.9-1.0 &991 &1015 &961 &1026 \\\\ \\hline\n",
      "$\\mu$ &0.4997 &0.5018 &0.4992 & 0.4990\\\\\n",
      "$\\sigma$ &0.2882 &0.2892 &0.2861 &0.2915 \\\\\n",
      "\\hline\n",
      "\\end{tabular}\n",
      "\n",
      "### Random Number\n",
      "\n",
      "<!-- 2DOFIGURE: [../Cartoons/skann0001.jpg, width=500 frac=0.25] -->\n",
      "\n",
      "### Random Numbers\n",
      "\n",
      "<!-- 2DOFIGURE: [../Cartoons/skann0003.jpg, width=500 frac=0.4] -->\n",
      "\n",
      "## Overview of week 46\n",
      "\n",
      "### Overview of week 46\n",
      "\n",
      "**Monte Carlo methods, chapter 12.**\n",
      "\n",
      "  * Monday: Repetition from last week\n",
      "\n",
      "  * Brownian motion and Markov chains, chapters 12.2 and 12.3 of lecture notes\n",
      "\n",
      "  * Tuesday:\n",
      "\n",
      "  * More on Markov chains (chapter 12.4 and 12.5)\n",
      "\n",
      "  * The Metropolis algorithm (chapter 12.5) and simple implementations of it\n",
      "\n",
      "  * Discussion of project 5 , there are three versions, available from Tuesday the 12th. Next week we will continue to discuss the various projects. For the quantum mechanical version we will also discuss how to perform quantum mechanical calculations. We will also discuss how to parallelize the diffusion equation.\n",
      "\n",
      "\n",
      "\n",
      "### Why Markov Chains?\n",
      "\n",
      "\n",
      "  * We want to study a physical system which evolves towards equilibrium, from given initial conditions.\n",
      "\n",
      "  * We start with a PDF $w(x_0,t_0)$ and we want to understand how it evolves with time.\n",
      "\n",
      "  * We want to reach a situation where after a given number of time steps we obtain a steady state. This means that the system reaches its most likely state (equilibrium situation)\n",
      "\n",
      "  * Our PDF is normally a multidimensional object whose normalization constant is impossible to find.\n",
      "\n",
      "  * Analytical calculations from $w(x,t)$ are not possible.\n",
      "\n",
      "  * To sample directly from from $w(x,t)$ is not possible/difficult.\n",
      "\n",
      "  * The transition probability $W$ is also not known.\n",
      "\n",
      "  * How can we establish that we have reached a steady state? Sounds impossible! Use Markov chain Monte Carlo\n",
      "\n",
      "### Brownian Motion and Markov Processes\n",
      "\n",
      "A Markov process is a random walk with a selected probability for making a\n",
      "move. The new move is independent of the previous history of the system.\n",
      "The Markov process is used repeatedly in Monte Carlo simulations in order to generate\n",
      "new random states.\n",
      "The reason for choosing a Markov process is that when it is run for a\n",
      "long enough time starting with a random state,\n",
      "we will eventually reach the most likely state of the system.\n",
      "In thermodynamics, this means that after a certain number of Markov processes\n",
      "we reach an equilibrium distribution.\n",
      "\n",
      "This mimicks the way a real system reaches\n",
      "its most likely state at a given temperature of the surroundings.\n",
      "\n",
      "### Brownian Motion and Markov Processes\n",
      "\n",
      "To reach this distribution, the Markov process needs to obey two important conditions, that of\n",
      "{\\bf ergodicity} and {\\bf detailed balance}. These conditions impose then constraints on our algorithms\n",
      "for accepting or rejecting new random states.\n",
      "The Metropolis algorithm discussed here\n",
      "abides to both these constraints.\n",
      "The Metropolis algorithm is widely used in Monte Carlo\n",
      "simulations and the understanding of it rests within\n",
      "the interpretation of random walks and Markov processes.\n",
      "\n",
      "### Brownian Motion and Markov Processes\n",
      "\n",
      "In a random walk one defines a mathematical entity called a {\\bf walker}, whose attributes\n",
      "completely define the state of the system in question. The state of the system can refer to any physical quantities,\n",
      "from the vibrational state of a molecule specified by a set of quantum numbers, to the brands of coffee\n",
      "in your favourite supermarket.\n",
      "The walker moves in an appropriate state space by a combination of deterministic and random displacements from its previous\n",
      "position.\n",
      "\n",
      "This sequence of steps forms a {\\bf chain}.\n",
      "\n",
      "### Sequence of ingredients\n",
      "\n",
      "\n",
      "  * We want to study a physical system which evolves towards equilibrium, from given initial conditions.\n",
      "\n",
      "  * Markov chains are intimately linked with the physical process of diffusion. Proof in lecture notes.\n",
      "\n",
      "  * From a Markov chain we can then derive the conditions for detailed balance and ergodicity. These are the conditions needed for obtaining a steady state.\n",
      "\n",
      "  * The widely used algorithm for doing this is the so-called Metropolis algorithm, in its refined form the Metropolis-Hastings algorithm.\n",
      "\n",
      "### Applications: almost every field\n",
      "\n",
      "\n",
      "\n",
      "Financial engineering, see for example Patriarca *et al*, Physica {\\bf 340}, page 334 (2004).\n",
      "\n",
      "Neuroscience, see for example Lipinski, Physics Medical Biology {\\bf 35}, page 441 (1990) or\n",
      "Farnell and Gibson, Journal of Computational Physics {\\bf 208}, page 253 (2005)\n",
      "\n",
      "Tons of applications in physics\n",
      "\n",
      "and chemistry\n",
      "\n",
      "and biology, medicine\n",
      "\n",
      "Nobel prize in economy to Black and Scholes"
     ]
    },
    {
     "cell_type": "markdown",
     "metadata": {},
     "source": [
      "$$\n",
      "\\frac{\\partial V}{\\partial t}+\\frac{1}{2}\\sigma^{2}S^{2}\\frac{\\partial^{2} V}{\\partial S^{2}}+rS\\frac{\\partial V}{\\partial S}-rV=0.\n",
      "$$"
     ]
    },
    {
     "cell_type": "markdown",
     "metadata": {},
     "source": [
      "The\n",
      "Black and Scholes equation is a partial differential equation, which describes the price\n",
      "of the option over time. The derivation is based on Brownian motion (Langevin and Fokker-Planck, 12.6)\n",
      "\n",
      "...the list is almost infinite\n",
      "\n",
      "### A simple Example\n",
      "\n",
      "The obvious case is that of a random walker on a one-, or two- or three-dimensional lattice\n",
      "(dubbed coordinate space hereafter)\n",
      "\n",
      "Consider a system whose energy is defined by the orientation of single spins.\n",
      "Consider the state $i$, with given energy $E_i$ represented by the following $N$ spins"
     ]
    },
    {
     "cell_type": "markdown",
     "metadata": {},
     "source": [
      "$$\n",
      "\\begin{array}{cccccccccc}\n",
      "\\uparrow&\\uparrow&\\uparrow&\\dots&\\uparrow&\\downarrow&\\uparrow&\\dots&\\uparrow&\\downarrow\\\\\n",
      "1&2&3&\\dots& k-1&k&k+1&\\dots&N-1&N\\end{array}\n",
      "$$"
     ]
    },
    {
     "cell_type": "markdown",
     "metadata": {},
     "source": [
      "We may be  interested in the transition with one single  spinflip to a new state $j$ with energy $E_j$"
     ]
    },
    {
     "cell_type": "markdown",
     "metadata": {},
     "source": [
      "$$\n",
      "\\begin{array}{cccccccccc}\n",
      "\\uparrow&\\uparrow&\\uparrow&\\dots&\\uparrow&\\uparrow&\\uparrow&\\dots&\\uparrow&\\downarrow\\\\\n",
      "1&2&3&\\dots& k-1&k&k+1&\\dots&N-1&N\\end{array}\n",
      "$$"
     ]
    },
    {
     "cell_type": "markdown",
     "metadata": {},
     "source": [
      "This change from one microstate $i$ (or spin configuration)  to another microstate $j$ is the\n",
      "{\\bf configuration space}  analogue to a random walk on a lattice. Instead of jumping from\n",
      "one place to another in space, we 'jump' from one microstate to another.\n",
      "\n",
      "### Diffusion from Markov Chain\n",
      "\n",
      "From experiment there are strong indications that the flux of particles $j(x,t)$, viz., the number of particles passing $x$ at a time $t$ is proportional to the\n",
      "gradient of $w(x,t)$. This proportionality is expressed mathematically through"
     ]
    },
    {
     "cell_type": "markdown",
     "metadata": {},
     "source": [
      "$$\n",
      "\\begin{equation}\n",
      "    j(x,t) = -D\\frac{\\partial w(x,t)}{\\partial x},\n",
      "\\end{equation}\n",
      "$$"
     ]
    },
    {
     "cell_type": "markdown",
     "metadata": {},
     "source": [
      "where $D$ is the so-called diffusion constant, with dimensionality length$^2$ per time.\n",
      "If the number of particles is conserved, we have the continuity equation"
     ]
    },
    {
     "cell_type": "markdown",
     "metadata": {},
     "source": [
      "$$\n",
      "\\begin{equation}\n",
      "    \\frac{\\partial j(x,t)}{\\partial x} = -\\frac{\\partial w(x,t)}{\\partial t},\n",
      "\\end{equation}\n",
      "$$"
     ]
    },
    {
     "cell_type": "markdown",
     "metadata": {},
     "source": [
      "which leads to"
     ]
    },
    {
     "cell_type": "markdown",
     "metadata": {},
     "source": [
      "<!-- Equation labels as ordinary links -->\n",
      "<a name=\"eq:diffequation1\"/>\n",
      "\n",
      "$$\n",
      "\\begin{equation}\n",
      "    \\frac{\\partial w(x,t)}{\\partial t} =\n",
      "    D\\frac{\\partial^2w(x,t)}{\\partial x^2},\n",
      "\\label{eq:diffequation1} \\tag{44}\n",
      "\\end{equation}\n",
      "$$"
     ]
    },
    {
     "cell_type": "markdown",
     "metadata": {},
     "source": [
      "which is the diffusion equation in one dimension. Solved as a partial differential equation\n",
      "in chapter 10.\n",
      "\n",
      "### Diffusion from Markov Chain\n",
      "\n",
      "With the probability distribution function $w(x,t)dx$ we can\n",
      "compute expectation values such as  the mean distance"
     ]
    },
    {
     "cell_type": "markdown",
     "metadata": {},
     "source": [
      "$$\n",
      "\\begin{equation}\n",
      "   \\langle x(t)\\rangle = \\int_{-\\infty}^{\\infty}xw(x,t)dx,\n",
      "\\end{equation}\n",
      "$$"
     ]
    },
    {
     "cell_type": "markdown",
     "metadata": {},
     "source": [
      "or"
     ]
    },
    {
     "cell_type": "markdown",
     "metadata": {},
     "source": [
      "$$\n",
      "\\begin{equation}\n",
      "   \\langle x^2(t)\\rangle = \\int_{-\\infty}^{\\infty}x^2w(x,t)dx,\n",
      "\\end{equation}\n",
      "$$"
     ]
    },
    {
     "cell_type": "markdown",
     "metadata": {},
     "source": [
      "which allows for the computation of the variance\n",
      "$\\sigma^2=\\langle x^2(t)\\rangle-\\langle x(t)\\rangle^2$. Note well that\n",
      "these expectation values are time-dependent. In a similar way we can also\n",
      "define expectation values of functions $f(x,t)$ as"
     ]
    },
    {
     "cell_type": "markdown",
     "metadata": {},
     "source": [
      "$$\n",
      "\\begin{equation}\n",
      "   \\langle f(x,t)\\rangle = \\int_{-\\infty}^{\\infty}f(x,t)w(x,t)dx.\n",
      "\\end{equation}\n",
      "$$"
     ]
    },
    {
     "cell_type": "markdown",
     "metadata": {},
     "source": [
      "### Diffusion from Markov Chain\n",
      "\n",
      "Since $w(x,t)$ is now treated as a PDF, it needs to obey the same criteria\n",
      "as discussed in the previous chapter. However, the normalization condition"
     ]
    },
    {
     "cell_type": "markdown",
     "metadata": {},
     "source": [
      "$$\n",
      "\\begin{equation}\n",
      "   \\int_{-\\infty}^{\\infty}w(x,t)dx=1\n",
      "\\end{equation}\n",
      "$$"
     ]
    },
    {
     "cell_type": "markdown",
     "metadata": {},
     "source": [
      "imposes significant constraints on $w(x,t)$. These are"
     ]
    },
    {
     "cell_type": "markdown",
     "metadata": {},
     "source": [
      "$$\n",
      "\\begin{equation}\n",
      "   w(x=\\pm \\infty,t)=0 \\quad\n",
      "   \\frac{\\partial^{n}w(x,t)}{\\partial x^n}|_{x=\\pm\\infty} = 0,\n",
      "\\end{equation}\n",
      "$$"
     ]
    },
    {
     "cell_type": "markdown",
     "metadata": {},
     "source": [
      "implying that when we study the time-derivative\n",
      "${\\partial\\langle x(t)\\rangle}/{\\partial t}$, we obtain after integration by parts and using\n",
      "Eq. [(44)](#eq:finalmeanm)"
     ]
    },
    {
     "cell_type": "markdown",
     "metadata": {},
     "source": [
      "$$\n",
      "\\begin{equation}\n",
      "   \\frac{\\partial \\langle x\\rangle}{\\partial t} =\n",
      "   \\int_{-\\infty}^{\\infty}x\\frac{\\partial w(x,t)}{\\partial t}dx=\n",
      "   D\\int_{-\\infty}^{\\infty}x\\frac{\\partial^2w(x,t)}{\\partial x^2}dx,\n",
      "\\end{equation}\n",
      "$$"
     ]
    },
    {
     "cell_type": "markdown",
     "metadata": {},
     "source": [
      "leading to"
     ]
    },
    {
     "cell_type": "markdown",
     "metadata": {},
     "source": [
      "$$\n",
      "\\begin{equation}\n",
      "   \\frac{\\partial \\langle x\\rangle}{\\partial t} =\n",
      "   Dx\\frac{\\partial w(x,t)}{\\partial x}|_{x=\\pm\\infty}-\n",
      "   D\\int_{-\\infty}^{\\infty}\\frac{\\partial w(x,t)}{\\partial x}dx,\n",
      "\\end{equation}\n",
      "$$"
     ]
    },
    {
     "cell_type": "markdown",
     "metadata": {},
     "source": [
      "implying that"
     ]
    },
    {
     "cell_type": "markdown",
     "metadata": {},
     "source": [
      "$$\n",
      "\\begin{equation}\n",
      "   \\frac{\\partial \\langle x\\rangle}{\\partial t} = 0.\n",
      "\\end{equation}\n",
      "$$"
     ]
    },
    {
     "cell_type": "markdown",
     "metadata": {},
     "source": [
      "### Diffusion from Markov Chain\n",
      "\n",
      "This means in turn that $\\langle x\\rangle$ is independent of time.\n",
      "If we choose the initial position $x(t=0)=0$,\n",
      "the average displacement $\\langle x\\rangle= 0$.\n",
      "If we link this discussion to a random walk in one dimension with equal probability\n",
      "of jumping to the left or right and with an initial position $x=0$, then our probability\n",
      "distribution remains centered around $\\langle x\\rangle= 0$ as function of time.\n",
      "However, the variance is not necessarily 0. Consider first"
     ]
    },
    {
     "cell_type": "markdown",
     "metadata": {},
     "source": [
      "$$\n",
      "\\begin{equation}\n",
      "   \\frac{\\partial \\langle x^2\\rangle}{\\partial t} =\n",
      "   Dx^2\\frac{\\partial w(x,t)}{\\partial x}|_{x=\\pm\\infty}-\n",
      "   2D\\int_{-\\infty}^{\\infty}x\\frac{\\partial w(x,t)}{\\partial x}dx,\n",
      "\\end{equation}\n",
      "$$"
     ]
    },
    {
     "cell_type": "markdown",
     "metadata": {},
     "source": [
      "where we have performed an integration by parts as we did\n",
      "for $\\frac{\\partial \\langle x\\rangle}{\\partial t}$. A further integration by parts\n",
      "results in"
     ]
    },
    {
     "cell_type": "markdown",
     "metadata": {},
     "source": [
      "$$\n",
      "\\begin{equation}\n",
      "   \\frac{\\partial \\langle x^2\\rangle}{\\partial t} =\n",
      "   -Dxw(x,t)|_{x=\\pm\\infty}+\n",
      "   2D\\int_{-\\infty}^{\\infty}w(x,t)dx=2D,\n",
      "\\end{equation}\n",
      "$$"
     ]
    },
    {
     "cell_type": "markdown",
     "metadata": {},
     "source": [
      "leading to"
     ]
    },
    {
     "cell_type": "markdown",
     "metadata": {},
     "source": [
      "$$\n",
      "\\begin{equation}\n",
      "   \\langle x^2\\rangle = 2Dt,\n",
      "\\end{equation}\n",
      "$$"
     ]
    },
    {
     "cell_type": "markdown",
     "metadata": {},
     "source": [
      "and the variance as"
     ]
    },
    {
     "cell_type": "markdown",
     "metadata": {},
     "source": [
      "<!-- Equation labels as ordinary links -->\n",
      "<a name=\"eq:variancediffeq\"/>\n",
      "\n",
      "$$\n",
      "\\begin{equation}\\label{eq:variancediffeq} \\tag{45}\n",
      "   \\langle x^2\\rangle-\\langle x\\rangle^2 = 2Dt.\n",
      "\\end{equation}\n",
      "$$"
     ]
    },
    {
     "cell_type": "markdown",
     "metadata": {},
     "source": [
      "The root mean square displacement after a time $t$ is then"
     ]
    },
    {
     "cell_type": "markdown",
     "metadata": {},
     "source": [
      "$$\n",
      "\\begin{equation}\n",
      "   \\sqrt{\\langle x^2\\rangle-\\langle x\\rangle^2} = \\sqrt{2Dt}.\n",
      "\\end{equation}\n",
      "$$"
     ]
    },
    {
     "cell_type": "markdown",
     "metadata": {},
     "source": [
      "### Random walks, chapter 12.2\n",
      "\n",
      "Consider now a random walker in one dimension, with probability $R$ of moving to the right\n",
      "and $L$ for moving to the left.\n",
      "At $t=0$ we place the walker at $x=0$.\n",
      "The walker can then jump, with the above probabilities, either to the left or to the\n",
      "right for each time step. Note that in principle we could also have the possibility that the\n",
      "walker remains in the same position. This is not implemented in this example.\n",
      "Every step has length $\\Delta x = l$. Time is discretized and we have a jump either to the left or\n",
      "to the right at every time step.\n",
      "\n",
      "### Random walks\n",
      "\n",
      "Let us now assume that we have\n",
      "equal probabilities for jumping to the left or to the right, i.e.,\n",
      "$L=R=1/2$.\n",
      "The average displacement\n",
      "after $n$ time steps is"
     ]
    },
    {
     "cell_type": "markdown",
     "metadata": {},
     "source": [
      "$$\n",
      "\\langle x(n)\\rangle = \\sum_{i}^{n} \\Delta x_i = 0 \\quad \\Delta x_i=\\pm l,\n",
      "$$"
     ]
    },
    {
     "cell_type": "markdown",
     "metadata": {},
     "source": [
      "since we have an equal probability of jumping either to the left or to right.\n",
      "The value of $\\langle x(n)^2\\rangle$ is"
     ]
    },
    {
     "cell_type": "markdown",
     "metadata": {},
     "source": [
      "$$\n",
      "\\langle x(n)^2\\rangle = \\left(\\sum_{i}^{n} \\Delta x_i\\right)^2=\\sum_{i}^{n} \\Delta x_i^2+\n",
      "\\sum_{i\\ne j}^{n} \\Delta x_i\\Delta x_j=l^2n.\n",
      "$$"
     ]
    },
    {
     "cell_type": "markdown",
     "metadata": {},
     "source": [
      "For many enough steps the non-diagonal contribution is"
     ]
    },
    {
     "cell_type": "markdown",
     "metadata": {},
     "source": [
      "$$\n",
      "\\sum_{i\\ne j}^{N} \\Delta x_i\\Delta x_j=0,\n",
      "$$"
     ]
    },
    {
     "cell_type": "markdown",
     "metadata": {},
     "source": [
      "since $\\Delta x_{i,j} = \\pm l$.\n",
      "\n",
      "### Random walks\n",
      "\n",
      "The variance is then"
     ]
    },
    {
     "cell_type": "markdown",
     "metadata": {},
     "source": [
      "<!-- Equation labels as ordinary links -->\n",
      "<a name=\"eq:rwvariance\"/>\n",
      "\n",
      "$$\n",
      "\\langle x(n)^2\\rangle - \\langle x(n)\\rangle^2 = l^2n.\n",
      "   \\label{eq:rwvariance} \\tag{46}\n",
      "$$"
     ]
    },
    {
     "cell_type": "markdown",
     "metadata": {},
     "source": [
      "It is also rather straightforward to compute the variance for $L\\ne R$. The result is"
     ]
    },
    {
     "cell_type": "markdown",
     "metadata": {},
     "source": [
      "$$\n",
      "\\langle x(n)^2\\rangle - \\langle x(n)\\rangle^2 = 4LRl^2n.\n",
      "$$"
     ]
    },
    {
     "cell_type": "markdown",
     "metadata": {},
     "source": [
      "The variable $n$ represents the number of time\n",
      "steps. If we define $n=t/\\Delta t$, we can then couple the variance result\n",
      "from a random walk\n",
      "in one dimension with the variance  from diffusion\n",
      "by defining the diffusion constant as"
     ]
    },
    {
     "cell_type": "markdown",
     "metadata": {},
     "source": [
      "$$\n",
      "D = \\frac{l^2}{\\Delta t}.\n",
      "$$"
     ]
    },
    {
     "cell_type": "markdown",
     "metadata": {},
     "source": [
      "### Diffusion from Markov Chain\n",
      "\n",
      "When solving partial differential equations such as the diffusion equation numerically,\n",
      "the derivatives are always discretized.\n",
      "We can rewrite the time derivative as"
     ]
    },
    {
     "cell_type": "markdown",
     "metadata": {},
     "source": [
      "$$\n",
      "\\begin{equation}\n",
      "    \\frac{\\partial w(x,t)}{\\partial t} \\approx\n",
      "    \\frac{w(i,n+1)-w(i,n)}{\\Delta t},\n",
      "\\end{equation}\n",
      "$$"
     ]
    },
    {
     "cell_type": "markdown",
     "metadata": {},
     "source": [
      "whereas the gradient is approximated as"
     ]
    },
    {
     "cell_type": "markdown",
     "metadata": {},
     "source": [
      "$$\n",
      "\\begin{equation}\n",
      "    D\\frac{\\partial^2w(x,t)}{\\partial x^2}\\approx\n",
      "    D\\frac{w(i+1,n)+w(i-1,n)-2w(i,n)}{(\\Delta x)^2},\n",
      "\\end{equation}\n",
      "$$"
     ]
    },
    {
     "cell_type": "markdown",
     "metadata": {},
     "source": [
      "resulting in the discretized diffusion equation"
     ]
    },
    {
     "cell_type": "markdown",
     "metadata": {},
     "source": [
      "$$\n",
      "\\frac{w(i,n+1)-w(i,n)}{\\Delta t}=D\\frac{w(i+1,n)+w(i-1,n)-2w(i,n)}{(\\Delta x)^2},\n",
      "$$"
     ]
    },
    {
     "cell_type": "markdown",
     "metadata": {},
     "source": [
      "where $n$ represents a given time step and $i$ a step in the $x$-direction.\n",
      "\n",
      "### Diffusion from Markov Chain\n",
      "\n",
      "A Markov process allows in principle for a microscopic description of Brownian motion.\n",
      "As with the random walk, we consider a particle\n",
      "which moves along the  $x$-axis in the form of a series of jumps with step length\n",
      "$\\Delta x = l$. Time and space are discretized and the subsequent moves are\n",
      "statistically independent, i.e., the new move depends only on the previous step\n",
      "and not on the results from earlier trials.\n",
      "We start at a position $x=jl=j\\Delta x$ and move to\n",
      "a new position $x =i\\Delta x$ during a step $\\Delta t=\\epsilon$, where\n",
      "$i\\ge  0$ and $j\\ge 0$ are integers.\n",
      "The original probability distribution function (PDF) of the particles is given by\n",
      "$w_i(t=0)$ where $i$ refers to a specific position on a grid, with $i=0$ representing $x=0$.\n",
      "The function $w_i(t=0)$ is now the discretized version of $w(x,t)$.\n",
      "We can regard the discretized PDF as a vector.\n",
      "\n",
      "### Diffusion from Markov Chain\n",
      "\n",
      "For the Markov process we have a transition probability from a position\n",
      "$x=jl$ to a position $x=il$ given by"
     ]
    },
    {
     "cell_type": "markdown",
     "metadata": {},
     "source": [
      "$$\n",
      "W_{ij}(\\epsilon)=W(il-jl,\\epsilon)=\\left\\{\\begin{array}{cc}\\frac{1}{2} & |i-j| = 1\\\\\n",
      "                                             0 & \\mbox{else} \\end{array} \\right.\n",
      "$$"
     ]
    },
    {
     "cell_type": "markdown",
     "metadata": {},
     "source": [
      "We call $W_{ij}$ for the transition probability and we can represent it, see below,\n",
      "as a matrix. Our new PDF $w_i(t=\\epsilon)$ is now related to the PDF at\n",
      "$t=0$ through the relation"
     ]
    },
    {
     "cell_type": "markdown",
     "metadata": {},
     "source": [
      "$$\n",
      "w_i(t=\\epsilon) = W(j\\rightarrow i)w_j(t=0).\n",
      "$$"
     ]
    },
    {
     "cell_type": "markdown",
     "metadata": {},
     "source": [
      "### Diffusion from Markov Chain\n",
      "\n",
      "This equation represents the discretized time-development of an original\n",
      "PDF.\n",
      "Since both $W$ and $w$ represent probabilities, they have to be normalized, i.e., we require\n",
      "that at each time step we have"
     ]
    },
    {
     "cell_type": "markdown",
     "metadata": {},
     "source": [
      "$$\n",
      "\\sum_i w_i(t) = 1,\n",
      "$$"
     ]
    },
    {
     "cell_type": "markdown",
     "metadata": {},
     "source": [
      "and"
     ]
    },
    {
     "cell_type": "markdown",
     "metadata": {},
     "source": [
      "$$\n",
      "\\sum_j W(j\\rightarrow i) = 1.\n",
      "$$"
     ]
    },
    {
     "cell_type": "markdown",
     "metadata": {},
     "source": [
      "The further constraints are\n",
      "$0 \\le W_{ij} \\le 1$  and  $0 \\le w_{j} \\le 1$.\n",
      "Note that the probability for remaining at the same place is in general\n",
      "not necessarily equal zero. In our Markov process we allow only for jumps to the left or to\n",
      "the right.\n",
      "\n",
      "### Diffusion from Markov Chain\n",
      "\n",
      "The time development of our initial PDF can now be represented through the action of\n",
      "the transition probability matrix applied $n$ times. At a\n",
      "time  $t_n=n\\epsilon$ our initial distribution has developed into"
     ]
    },
    {
     "cell_type": "markdown",
     "metadata": {},
     "source": [
      "$$\n",
      "w_i(t_n) = \\sum_jW_{ij}(t_n)w_j(0),\n",
      "$$"
     ]
    },
    {
     "cell_type": "markdown",
     "metadata": {},
     "source": [
      "and defining"
     ]
    },
    {
     "cell_type": "markdown",
     "metadata": {},
     "source": [
      "$$\n",
      "W(il-jl,n\\epsilon)=(W^n(\\epsilon))_{ij}\n",
      "$$"
     ]
    },
    {
     "cell_type": "markdown",
     "metadata": {},
     "source": [
      "we obtain"
     ]
    },
    {
     "cell_type": "markdown",
     "metadata": {},
     "source": [
      "$$\n",
      "w_i(n\\epsilon) = \\sum_j(W^n(\\epsilon))_{ij}w_j(0),\n",
      "$$"
     ]
    },
    {
     "cell_type": "markdown",
     "metadata": {},
     "source": [
      "or in matrix form"
     ]
    },
    {
     "cell_type": "markdown",
     "metadata": {},
     "source": [
      "<!-- Equation labels as ordinary links -->\n",
      "<a name=\"eq:wfinal\"/>\n",
      "\n",
      "$$\n",
      "\\begin{equation}\n",
      "\\label{eq:wfinal} \\tag{47}\n",
      "   \\hat{w(n\\epsilon)} = \\hat{W}^n(\\epsilon)\\hat{w}(0).\n",
      "\\end{equation}\n",
      "$$"
     ]
    },
    {
     "cell_type": "markdown",
     "metadata": {},
     "source": [
      "### Brownian Motion and Markov Processes\n",
      "\n",
      "We wish to study the time-development of a PDF after a given number of time steps.\n",
      "We define our PDF by the function $w(t)$. In addition we define a transition probability\n",
      "$W$.\n",
      "The time development of our PDF $w(t)$, after one time-step from $t=0$ is given by"
     ]
    },
    {
     "cell_type": "markdown",
     "metadata": {},
     "source": [
      "$$\n",
      "w_i(t=\\epsilon) = W(j\\rightarrow i)w_j(t=0).\n",
      "$$"
     ]
    },
    {
     "cell_type": "markdown",
     "metadata": {},
     "source": [
      "Normally we don't know the form of $W$!!\n",
      "This equation represents the discretized time-development of an original\n",
      "PDF.  We can rewrite this as a"
     ]
    },
    {
     "cell_type": "markdown",
     "metadata": {},
     "source": [
      "$$\n",
      "w_i(t=\\epsilon) = W_{ij}w_j(t=0).\n",
      "$$"
     ]
    },
    {
     "cell_type": "markdown",
     "metadata": {},
     "source": [
      "with the transition matrix $W$ for a random walk left or right (cannot stay in the same position) given by"
     ]
    },
    {
     "cell_type": "markdown",
     "metadata": {},
     "source": [
      "$$\n",
      "W_{ij}(\\epsilon)=W(il-jl,\\epsilon)=\\left\\{\\begin{array}{cc}\\frac{1}{2} & |i-j| = 1\\\\\n",
      "                                             0 & \\mbox{else} \\end{array} \\right.\n",
      "$$"
     ]
    },
    {
     "cell_type": "markdown",
     "metadata": {},
     "source": [
      "We call $W_{ij}$ for the transition probability and we represent it\n",
      "as a matrix.\n",
      "\n",
      "### Brownian Motion and Markov Processes\n",
      "\n",
      "Both  $W$ and $w$ represent probabilities and they have to be normalized, meaning that\n",
      "that at each time step we have"
     ]
    },
    {
     "cell_type": "markdown",
     "metadata": {},
     "source": [
      "$$\n",
      "\\sum_i w_i(t) = 1,\n",
      "$$"
     ]
    },
    {
     "cell_type": "markdown",
     "metadata": {},
     "source": [
      "and"
     ]
    },
    {
     "cell_type": "markdown",
     "metadata": {},
     "source": [
      "$$\n",
      "\\sum_j W(j\\rightarrow i) = 1.\n",
      "$$"
     ]
    },
    {
     "cell_type": "markdown",
     "metadata": {},
     "source": [
      "Further constraints are\n",
      "$0 \\le W_{ij} \\le 1$  and  $0 \\le w_{j} \\le 1$.\n",
      "We can thus write the action of $W$ as"
     ]
    },
    {
     "cell_type": "markdown",
     "metadata": {},
     "source": [
      "$$\n",
      "w_i(t+1) = \\sum_jW_{ij}w_j(t),\n",
      "$$"
     ]
    },
    {
     "cell_type": "markdown",
     "metadata": {},
     "source": [
      "or as vector-matrix relation"
     ]
    },
    {
     "cell_type": "markdown",
     "metadata": {},
     "source": [
      "$$\n",
      "{\\bf \\hat{w}}(t+1) = {\\bf \\hat{W}\\hat{w}}(t),\n",
      "$$"
     ]
    },
    {
     "cell_type": "markdown",
     "metadata": {},
     "source": [
      "and if we have that $||{\\bf \\hat{w}}(t+1)-{\\bf \\hat{w}}(t)||\\rightarrow 0$, we say that\n",
      "we have reached the most likely state of the system, the so-called steady state or equilibrium state.\n",
      "Another way of phrasing this is"
     ]
    },
    {
     "cell_type": "markdown",
     "metadata": {},
     "source": [
      "$$\n",
      "{\\bf w}(t=\\infty) = {\\bf Ww}(t=\\infty).\n",
      "$$"
     ]
    },
    {
     "cell_type": "markdown",
     "metadata": {},
     "source": [
      "### Brownian Motion and Markov Processes, a simple Example\n",
      "\n",
      "Consider the simple $3\\times 3$ matrix $\\hat{W}$"
     ]
    },
    {
     "cell_type": "markdown",
     "metadata": {},
     "source": [
      "$$\n",
      "\\hat{W} = \\left(\\begin{array}{ccc} 1/4 & 1/8 & 2/3\\\\\n",
      "                                 3/4 & 5/8 & 0\\\\\n",
      "                                 0 & 1/4 & 1/3\\\\   \\end{array} \\right),\n",
      "$$"
     ]
    },
    {
     "cell_type": "markdown",
     "metadata": {},
     "source": [
      "and we choose our initial state as"
     ]
    },
    {
     "cell_type": "markdown",
     "metadata": {},
     "source": [
      "$$\n",
      "\\hat{w}(t=0)=  \\left(\\begin{array}{c} 1\\\\\n",
      "                                 0\\\\\n",
      "                                 0 \\end{array} \\right).\n",
      "$$"
     ]
    },
    {
     "cell_type": "markdown",
     "metadata": {},
     "source": [
      "The first iteration is"
     ]
    },
    {
     "cell_type": "markdown",
     "metadata": {},
     "source": [
      "$$\n",
      "w_i(t=\\epsilon) = W(j\\rightarrow i)w_j(t=0),\n",
      "$$"
     ]
    },
    {
     "cell_type": "markdown",
     "metadata": {},
     "source": [
      "resulting in"
     ]
    },
    {
     "cell_type": "markdown",
     "metadata": {},
     "source": [
      "$$\n",
      "\\hat{w}(t=\\epsilon)=  \\left(\\begin{array}{c} 1/4\\\\\n",
      "                                3/4 \\\\\n",
      "                                 0 \\end{array} \\right).\n",
      "$$"
     ]
    },
    {
     "cell_type": "markdown",
     "metadata": {},
     "source": [
      "### Brownian Motion and Markov Processes, a simple Example\n",
      "\n",
      "The next iteration results in"
     ]
    },
    {
     "cell_type": "markdown",
     "metadata": {},
     "source": [
      "$$\n",
      "w_i(t=2\\epsilon) = W(j\\rightarrow i)w_j(t=\\epsilon),\n",
      "$$"
     ]
    },
    {
     "cell_type": "markdown",
     "metadata": {},
     "source": [
      "resulting in"
     ]
    },
    {
     "cell_type": "markdown",
     "metadata": {},
     "source": [
      "$$\n",
      "\\hat{w}(t=2\\epsilon)=  \\left(\\begin{array}{c} 5/32\\\\\n",
      "                                21/32 \\\\\n",
      "                                6/32 \\end{array} \\right).\n",
      "$$"
     ]
    },
    {
     "cell_type": "markdown",
     "metadata": {},
     "source": [
      "Note that the vector $\\hat{w}$ is always normalized to $1$. We find the steady state of the system by solving the linear set of equations"
     ]
    },
    {
     "cell_type": "markdown",
     "metadata": {},
     "source": [
      "$$\n",
      "{\\bf w}(t=\\infty) = {\\bf Ww}(t=\\infty).\n",
      "$$"
     ]
    },
    {
     "cell_type": "markdown",
     "metadata": {},
     "source": [
      "### Brownian Motion and Markov Processes, a simple Example\n",
      "\n",
      "This linear set of equations reads"
     ]
    },
    {
     "cell_type": "markdown",
     "metadata": {},
     "source": [
      "$$\n",
      "\\begin{equation}\n",
      " W_{11}w_1(t=\\infty) +W_{12}w_2(t=\\infty) +W_{13}w_3(t=\\infty)=w_1(t=\\infty) \\nonumber \n",
      "\\end{equation}\n",
      "$$"
     ]
    },
    {
     "cell_type": "markdown",
     "metadata": {},
     "source": [
      "$$\n",
      "\\begin{equation} \n",
      "W_{21}w_1(t=\\infty) + W_{22}w_2(t=\\infty) + W_{23}w_3(t=\\infty)=w_2(t=\\infty) \\nonumber \n",
      "\\end{equation}\n",
      "$$"
     ]
    },
    {
     "cell_type": "markdown",
     "metadata": {},
     "source": [
      "$$\n",
      "\\begin{equation} \n",
      "W_{31}w_1(t=\\infty) + W_{32}w_2(t=\\infty) + W_{33}w_3(t=\\infty)=w_3(t=\\infty) \\nonumber \n",
      "\\end{equation}\n",
      "$$"
     ]
    },
    {
     "cell_type": "markdown",
     "metadata": {},
     "source": [
      "$$\n",
      "\\begin{equation} \n",
      "\\end{equation}\n",
      "$$"
     ]
    },
    {
     "cell_type": "markdown",
     "metadata": {},
     "source": [
      "with the constraint that"
     ]
    },
    {
     "cell_type": "markdown",
     "metadata": {},
     "source": [
      "$$\n",
      "\\sum_i w_i(t=\\infty) = 1,\n",
      "$$"
     ]
    },
    {
     "cell_type": "markdown",
     "metadata": {},
     "source": [
      "yielding as solution"
     ]
    },
    {
     "cell_type": "markdown",
     "metadata": {},
     "source": [
      "$$\n",
      "\\hat{w}(t=\\infty)=  \\left(\\begin{array}{c} 4/15\\\\\n",
      "                                8/15 \\\\\n",
      "                                3/15 \\end{array} \\right).\n",
      "$$"
     ]
    },
    {
     "cell_type": "markdown",
     "metadata": {},
     "source": [
      "### Brownian Motion and Markov Processes, a simple Example\n",
      "\n",
      "Convergence of the simple example\n",
      "\n",
      "\\begin{tabular}{rllll}\\hline\n",
      "Iteration &$w_1$   &$w_2$  &$w_3$\\\\\\hline\n",
      "0  & 1.00000 &0.00000  &0.00000 \\\\\n",
      "1  & 0.25000 &0.75000  &0.00000 \\\\\n",
      "2  & 0.15625 &0.62625  &0.18750 \\\\\n",
      "3  & 0.24609 &0.52734  &0.22656 \\\\\n",
      "4   &0.27848 &0.51416 &0.20736 \\\\\n",
      "5   &0.27213 &0.53021 &0.19766 \\\\\n",
      "6   &0.26608 &0.53548 &0.19844 \\\\\n",
      "7  &0.26575 &0.53424 &0.20002 \\\\\n",
      "8  &0.26656 &0.53321 &0.20023 \\\\\n",
      "9  &0.26678 &0.53318 &0.20005 \\\\\n",
      "10  &0.26671 &0.53332 &0.19998 \\\\\n",
      "11  &0.26666 &0.53335 &0.20000 \\\\\n",
      "12  &0.26666 &0.53334 &0.20000 \\\\\n",
      "13  &0.26667 &0.53333 &0.20000 \\\\\n",
      "$\\hat{w}(t=\\infty)$ &0.26667 &0.53333 &0.20000 \\\\\n",
      "\\hline\n",
      "\\end{tabular}\n",
      "\n",
      "{\\bf In a Markov chain Monte Carlo  $w$ is normally given, we need to find $W$!}\n",
      "\n",
      "### Brownian Motion and Markov Processes, what is happening?\n",
      "\n",
      "We have after $t$-steps"
     ]
    },
    {
     "cell_type": "markdown",
     "metadata": {},
     "source": [
      "$$\n",
      "{\\bf \\hat{w}}(t) = {\\bf \\hat{W}^t\\hat{w}}(0),\n",
      "$$"
     ]
    },
    {
     "cell_type": "markdown",
     "metadata": {},
     "source": [
      "with ${\\bf \\hat{w}}(0)$ the distribution at $t=0$ and ${\\bf \\hat{W}}$ representing the\n",
      "transition probability matrix.\n",
      "We can always expand ${\\bf \\hat{w}}(0)$ in terms of the right eigenvectors\n",
      "${\\bf \\hat{v}}$ of ${\\bf \\hat{W}}$ as"
     ]
    },
    {
     "cell_type": "markdown",
     "metadata": {},
     "source": [
      "$$\n",
      "{\\bf \\hat{w}}(0)  = \\sum_i\\alpha_i{\\bf \\hat{v}}_i,\n",
      "$$"
     ]
    },
    {
     "cell_type": "markdown",
     "metadata": {},
     "source": [
      "resulting in"
     ]
    },
    {
     "cell_type": "markdown",
     "metadata": {},
     "source": [
      "$$\n",
      "{\\bf \\hat{w}}(t) = {\\bf \\hat{W}}^t{\\bf \\hat{w}}(0)={\\bf \\hat{W}}^t\\sum_i\\alpha_i{\\bf \\hat{v}}_i=\n",
      "\\sum_i\\lambda_i^t\\alpha_i{\\bf \\hat{v}}_i,\n",
      "$$"
     ]
    },
    {
     "cell_type": "markdown",
     "metadata": {},
     "source": [
      "with $\\lambda_i$ the $i^{\\mbox{th}}$ eigenvalue corresponding to\n",
      "the eigenvector ${\\bf \\hat{v}}_i$.\n",
      "\n",
      "### Brownian Motion and Markov Processes, what is happening?\n",
      "\n",
      "If we assume that $\\lambda_0$ is the largest eigenvector we see that in the limit $t\\rightarrow \\infty$,\n",
      "${\\bf \\hat{w}}(t)$ becomes proportional to the corresponding eigenvector\n",
      "${\\bf \\hat{v}}_0$. This is our steady state or final distribution.\n",
      "\n",
      "In our discussion below in connection with the entropy of a system and later statistical physics and\n",
      "quantum physics\n",
      "applications, we will relate these properties to correlation functions such as\n",
      "the time-correlation function.\n",
      "\n",
      "That will allow us to define the so-called *equilibration time*,viz the time needed for the system\n",
      "to reach its most likely state. From that state and on we can can compute contributions to various statistical\n",
      "variables.\n",
      "\n",
      "### Brownian Motion and Markov Processes, what is happening?\n",
      "\n",
      "We anticipate parts of the discussion on statistical physics.\n",
      "\n",
      "We can relate this property to an observable like the mean magnetization of say a magnetic material.\n",
      "With the probabilty ${\\bf \\hat{w}}(t)$ we\n",
      "can write the mean magnetization as"
     ]
    },
    {
     "cell_type": "markdown",
     "metadata": {},
     "source": [
      "$$\n",
      "\\langle {\\cal M}(t) \\rangle  = \\sum_{\\mu} {\\bf \\hat{w}}(t)_{\\mu}{\\cal M}_{\\mu},\n",
      "$$"
     ]
    },
    {
     "cell_type": "markdown",
     "metadata": {},
     "source": [
      "or as the scalar of a  vector product"
     ]
    },
    {
     "cell_type": "markdown",
     "metadata": {},
     "source": [
      "$$\n",
      "\\langle {\\cal M}(t) \\rangle  = {\\bf \\hat{w}}(t){\\bf m},\n",
      "$$"
     ]
    },
    {
     "cell_type": "markdown",
     "metadata": {},
     "source": [
      "with ${\\bf m}$ being the vector whose elements are the values of ${\\cal M}_{\\mu}$ in its\n",
      "various microstates $\\mu$.\n",
      "\n",
      "Recall our definition of an expectation value with a discrete PDF $p(x_i)$:"
     ]
    },
    {
     "cell_type": "markdown",
     "metadata": {},
     "source": [
      "$$\n",
      "E[x^k]= \\langle x^k\\rangle=\\frac{1}{N}\\sum_{i=1}^{N}x_i^kp(x_i),\n",
      "$$"
     ]
    },
    {
     "cell_type": "markdown",
     "metadata": {},
     "source": [
      "provided that the sums (or integrals) $ \\sum_{i=1}^{N}p(x_i)$ converge absolutely (viz ,\n",
      "$ \\sum_{i=1}^{N}|p(x_i)|$ converges)\n",
      "\n",
      "### Brownian Motion and Markov Processes, what is happening?\n",
      "\n",
      "We rewrite the last relation as"
     ]
    },
    {
     "cell_type": "markdown",
     "metadata": {},
     "source": [
      "$$\n",
      "\\langle {\\cal M}(t) \\rangle  = {\\bf \\hat{w}}(t){\\bf m}=\\sum_i\\lambda_i^t\\alpha_i{\\bf \\hat{v}}_i{\\bf m}_i.\n",
      "$$"
     ]
    },
    {
     "cell_type": "markdown",
     "metadata": {},
     "source": [
      "If we define $m_i={\\bf \\hat{v}}_i{\\bf m}_i$ as the expectation value of\n",
      "${\\cal M}$ in the $i^{\\mbox{th}}$ eigenstate we can rewrite the last equation as"
     ]
    },
    {
     "cell_type": "markdown",
     "metadata": {},
     "source": [
      "$$\n",
      "\\langle {\\cal M}(t) \\rangle  = \\sum_i\\lambda_i^t\\alpha_im_i.\n",
      "$$"
     ]
    },
    {
     "cell_type": "markdown",
     "metadata": {},
     "source": [
      "Since we have that in the limit $t\\rightarrow \\infty$ the mean magnetization is dominated by the\n",
      "largest eigenvalue $\\lambda_0$, we can rewrite the last equation as"
     ]
    },
    {
     "cell_type": "markdown",
     "metadata": {},
     "source": [
      "$$\n",
      "\\langle {\\cal M}(t) \\rangle  = \\langle {\\cal M}(\\infty) \\rangle+\\sum_{i\\ne 0}\\lambda_i^t\\alpha_im_i.\n",
      "$$"
     ]
    },
    {
     "cell_type": "markdown",
     "metadata": {},
     "source": [
      "### Brownian Motion and Markov Processes, what is happening?\n",
      "\n",
      "We define the quantity"
     ]
    },
    {
     "cell_type": "markdown",
     "metadata": {},
     "source": [
      "$$\n",
      "\\tau_i=-\\frac{1}{log\\lambda_i},\n",
      "$$"
     ]
    },
    {
     "cell_type": "markdown",
     "metadata": {},
     "source": [
      "and rewrite the last expectation value as"
     ]
    },
    {
     "cell_type": "markdown",
     "metadata": {},
     "source": [
      "$$\n",
      "\\langle {\\cal M}(t) \\rangle  = \\langle {\\cal M}(\\infty) \\rangle+\\sum_{i\\ne 0}\\alpha_im_ie^{-t/\\tau_i}.\n",
      "$$"
     ]
    },
    {
     "cell_type": "markdown",
     "metadata": {},
     "source": [
      "The quantities $\\tau_i$ are the correlation times for the system. They control also the time-correlation functions.\n",
      "\n",
      "The longest correlation time is obviously given by the second largest\n",
      "eigenvalue $\\tau_1$, which normally defines the correlation time discussed above. For large times, this is the\n",
      "only correlation time that survives. If higher eigenvalues of the transition matrix are well separated from\n",
      "$\\lambda_1$ and we simulate long enough,  $\\tau_1$ may well define the correlation time.\n",
      "In other cases we may not be able to extract a reliable result for $\\tau_1$.\n",
      "\n",
      "### Entropy and Equilibrium, section 12.4\n",
      "\n",
      "The definition of the entropy $S$ (as a dimensionless quantity here) is"
     ]
    },
    {
     "cell_type": "markdown",
     "metadata": {},
     "source": [
      "$$\n",
      "S = -\\sum_i w_i ln(w_i),\n",
      "$$"
     ]
    },
    {
     "cell_type": "markdown",
     "metadata": {},
     "source": [
      "where $w_i$ is the probability of finding our system in a state $i$. For our one-dimensional randow walk\n",
      "it represents the probability for being at position $i=i\\Delta x$ after a given number of time steps.\n",
      "Assume now that we have  $N$ random walkers at\n",
      "$i=0$ and $t=0$ and let these random walkers diffuse as function of time.\n",
      "\n",
      "### Entropy and Equilibrium, section 12.4\n",
      "\n",
      "We compute then the probability distribution for $N$ walkers after a given number of steps $i$ along $x$ and\n",
      "time steps $j$.\n",
      "We can then compute an entropy $S_j$ for a given number of time steps by summing over all probabilities $i$.\n",
      "The code used to compute these results is in programs/chapter12/program4.cpp.\n",
      "Here we have used\n",
      "100 walkers on a lattice of length from $L=-50$ to $L=50$ employing periodic boundary conditions meaning\n",
      "that if a walker reaches the point $x=L$ it is shifted to $x=-L$ and if $x=-L$ it is shifted to $x=L$.\n",
      "\n",
      "### Entropy"
     ]
    },
    {
     "cell_type": "markdown",
     "metadata": {},
     "source": [
      "        // loop over all time steps\n",
      "          for (int step=1; step <= time_steps; step++){\n",
      "            // move all walkers with periodic boundary conditions\n",
      "            for (int walks = 1; walks <= walkers; walks++){\n",
      "              if (ran0(&idum) <= move_probability) {\n",
      "        \tif ( x[walks] +1 > length) {\n",
      "        \t  x[walks] = -length;\n",
      "        \t}\n",
      "        \telse{\n",
      "        \t  x[walks] += 1;\n",
      "        \t}\n",
      "        \n"
     ]
    },
    {
     "cell_type": "markdown",
     "metadata": {},
     "source": [
      "### Entropy"
     ]
    },
    {
     "cell_type": "markdown",
     "metadata": {},
     "source": [
      "              else {\n",
      "        \tif ( x[walks] -1 < -length) {\n",
      "        \t  x[walks] = length;\n",
      "        \n",
      "        \telse{\n",
      "        \t  x[walks] -= 1;\n",
      "        \t}\n",
      "        \n",
      "            }  // end of loop over walks\n",
      "          } // end of loop over trials\n"
     ]
    },
    {
     "cell_type": "markdown",
     "metadata": {},
     "source": [
      "### Entropy"
     ]
    },
    {
     "cell_type": "markdown",
     "metadata": {},
     "source": [
      "          // at the final time step we compute the probability\n",
      "          // by counting the number of walkers at every position\n",
      "          for ( int i = -length; i <= length; i++){\n",
      "            int count = 0;\n",
      "            for( int j = 1; j <= walkers; j++){\n",
      "              if ( x[j] == i ) {\n",
      "                count += 1;\n",
      "        \n",
      "            probability[i+length] = count;\n",
      "        \n"
     ]
    },
    {
     "cell_type": "markdown",
     "metadata": {},
     "source": [
      "### Entropy"
     ]
    },
    {
     "cell_type": "markdown",
     "metadata": {},
     "source": [
      "        // Writes the results to screen\n",
      "        void output(int length, int time_steps, int walkers, int *probability)\n",
      "        {\n",
      "          double entropy, histogram;\n",
      "          // find norm of probability\n",
      "          double norm = 1.0/walkers;\n",
      "          // compute the entropy\n",
      "          entropy = 0.; histogram = 0.;\n",
      "          for( int  i = -length; i <=  length; i++){\n",
      "            histogram = (double) probability[i+length]*norm;\n",
      "            if ( histogram > 0.0) {\n",
      "            entropy -= histogram*log(histogram);\n",
      "        \n",
      "        // then write entropy to file\n"
     ]
    },
    {
     "cell_type": "markdown",
     "metadata": {},
     "source": [
      "### Entropy\n",
      "\n",
      "At small time steps\n",
      "the entropy is very small, reflecting the fact that we have an ordered state. As time elapses, the random walkers spread\n",
      "out in space (here in one dimension) and the entropy increases as there are more states, that is positions accesible\n",
      "to the system. We say that the system shows an increased degree of disorder.\n",
      "After several time steps, we see that the entropy  reaches a constant value, a situation called a steady state.\n",
      "This signals that the system has reached its equilibrium situation and that the random walkers spread out to\n",
      "occupy all possible available states. At equilibrium it means thus that all states\n",
      "are equally probable and this is not baked into any dynamical equations such as Newton's law of motion.\n",
      "\n",
      "### Entropy\n",
      "\n",
      "It occurs because the system is allowed to explore all possibilities. An important hypothesis is the ergodic\n",
      "hypothesis which states that in equilibrium all available states of a closed\n",
      "system have equal probability.\n",
      "This hypothesis states also that if we are able to simulate long enough, then one should be able to trace through all\n",
      "possible paths in the space of available states to reach the equilibrium situation.\n",
      "Our Markov process should be able to reach any state of the system from any other state if we run for long enough.\n",
      "\n",
      "### Detailed Balance\n",
      "\n",
      "{\\bf In a Markov Monte Carlo  $w$ is normally given, we need to find $W$!}\n",
      "But we need to find which distribution we obtain when the steady state has been achieved.\n",
      "\n",
      "\n",
      "Markov process with transition probability from a state $j$ to another\n",
      "       state $i$"
     ]
    },
    {
     "cell_type": "markdown",
     "metadata": {},
     "source": [
      "$$\n",
      "\\sum_j W(j\\rightarrow i) = 1\n",
      "$$"
     ]
    },
    {
     "cell_type": "markdown",
     "metadata": {},
     "source": [
      "Note that the probability for remaining at the same place is not necessarily equal zero.\n",
      "\n",
      "PDF $w_i$ at time  $t=n\\epsilon$"
     ]
    },
    {
     "cell_type": "markdown",
     "metadata": {},
     "source": [
      "$$\n",
      "w_i(t) = \\sum_j W(j\\rightarrow i)^nw_j(t=0)\n",
      "$$"
     ]
    },
    {
     "cell_type": "markdown",
     "metadata": {},
     "source": [
      "$$\n",
      "\\sum_i w_i(t) = 1\n",
      "$$"
     ]
    },
    {
     "cell_type": "markdown",
     "metadata": {},
     "source": [
      "### Detailed Balance\n",
      "\n",
      "\n",
      "Detailed balance condition"
     ]
    },
    {
     "cell_type": "markdown",
     "metadata": {},
     "source": [
      "$$\n",
      "\\sum_i W(j\\rightarrow i)w_j= \\sum_i W(i\\rightarrow j)w_i\n",
      "$$"
     ]
    },
    {
     "cell_type": "markdown",
     "metadata": {},
     "source": [
      "Ensures that it is the correct  distribution which is achieved when equilibrium\n",
      "is reached.\n",
      "\n",
      "When a Markow process reaches equilibrium we have"
     ]
    },
    {
     "cell_type": "markdown",
     "metadata": {},
     "source": [
      "$$\n",
      "{\\bf w}(t=\\infty) = {\\bf Ww}(t=\\infty)\n",
      "$$"
     ]
    },
    {
     "cell_type": "markdown",
     "metadata": {},
     "source": [
      "General condition at equilibrium"
     ]
    },
    {
     "cell_type": "markdown",
     "metadata": {},
     "source": [
      "$$\n",
      "W(j\\rightarrow i)w_j= W(i\\rightarrow j)w_i\n",
      "$$"
     ]
    },
    {
     "cell_type": "markdown",
     "metadata": {},
     "source": [
      "which is the detailed balance condition.  Proof is simple.\n",
      "\n",
      "### Detailed Balance\n",
      "\n",
      "To derive the conditions for equilibrium, we start from the so-called Master equation, which relates the temporal development of a PDF $w_i(t)$. The equation is given"
     ]
    },
    {
     "cell_type": "markdown",
     "metadata": {},
     "source": [
      "$$\n",
      "\\frac{d w_i(t)}{dt} = \\sum_j\\left[ W(j\\rightarrow i)w_j-W(i\\rightarrow j)w_i\\right],\n",
      "$$"
     ]
    },
    {
     "cell_type": "markdown",
     "metadata": {},
     "source": [
      "which simply states that the rate at which the systems moves from a state $j$\n",
      "to a final state $i$ (the first term on the right-hand side of the last equation) is balanced by the rate at which the systems undergoes transitions from the state $i$ to a state $j$ (the second term). If we have reached the so-called steady state, then the temporal dependence is zero. This  means that in equilibrium we have"
     ]
    },
    {
     "cell_type": "markdown",
     "metadata": {},
     "source": [
      "$$\n",
      "\\frac{d w_i(t)}{dt} = 0.\n",
      "$$"
     ]
    },
    {
     "cell_type": "markdown",
     "metadata": {},
     "source": [
      "### Ergodicity\n",
      "\n",
      "It should be possible for any Markov process to reach every possible state of the system\n",
      "from any starting point if the simulations is carried out for a long enough time.\n",
      "\n",
      "Any state in a Boltzmann distribution has a probability different from zero and if such\n",
      "a state cannot be reached from a given starting point, then the system is not ergodic.\n",
      "\n",
      "### Example:  Boltzmann Distribution\n",
      "\n",
      "\n",
      "At equilibrium detailed balance gives"
     ]
    },
    {
     "cell_type": "markdown",
     "metadata": {},
     "source": [
      "$$\n",
      "\\frac{W(j\\rightarrow i)}{W(i\\rightarrow j)}=\\frac{w_i}{w_j}\n",
      "$$"
     ]
    },
    {
     "cell_type": "markdown",
     "metadata": {},
     "source": [
      "Boltzmann distribution"
     ]
    },
    {
     "cell_type": "markdown",
     "metadata": {},
     "source": [
      "$$\n",
      "\\frac{w_i}{w_j}= \\exp{(-\\beta(E_i-E_j))}\n",
      "$$"
     ]
    },
    {
     "cell_type": "markdown",
     "metadata": {},
     "source": [
      "### Selection Rule\n",
      "\n",
      "\n",
      "In general"
     ]
    },
    {
     "cell_type": "markdown",
     "metadata": {},
     "source": [
      "$$\n",
      "W(i\\rightarrow j)=g(i\\rightarrow j)A(i\\rightarrow j)\n",
      "$$"
     ]
    },
    {
     "cell_type": "markdown",
     "metadata": {},
     "source": [
      "where $g$ is a selection probability while  $A$ is the probability for accepting a\n",
      "move. It is also called the acceptance ratio.\n",
      "\n",
      "With detailed balance this gives"
     ]
    },
    {
     "cell_type": "markdown",
     "metadata": {},
     "source": [
      "$$\n",
      "\\frac{g(j\\rightarrow i)A(j\\rightarrow i)}{g(i\\rightarrow j)A(i\\rightarrow j)}= \\exp{(-\\beta(E_i-E_j))}\n",
      "$$"
     ]
    },
    {
     "cell_type": "markdown",
     "metadata": {},
     "source": [
      "### Metropolis Algorithm\n",
      "\n",
      "For a system which follows the Boltzmann distribution the Metropolis algorithm reads"
     ]
    },
    {
     "cell_type": "markdown",
     "metadata": {},
     "source": [
      "$$\n",
      "A(j\\rightarrow i)=\\left\\{\\begin{array}{cc} \\exp{(-\\beta(E_i-E_j))} & E_i-E_j > 0 \\\\ 1 & else \\end{array} \\right.\n",
      "$$"
     ]
    },
    {
     "cell_type": "markdown",
     "metadata": {},
     "source": [
      "This algorithm satisfies the condition for detailed balance and ergodicity.\n",
      "\n",
      "### Implementation\n",
      "\n",
      "  * Establish an initial energy $E_b$\n",
      "\n",
      "  * Do a random change of this initial state by e.g., flipping an individual spin. This new state has energy $E_t$. Compute then $\\Delta E=E_t-E_b$\n",
      "\n",
      "  * If $\\Delta E \\le 0$ accept the new configuration.\n",
      "\n",
      "  * If $\\Delta E > 0$, compute $w=e^{-(\\beta \\Delta E)}$.\n",
      "\n",
      "  * Compare $w$ with a random number $r$. If $r \\le w$ accept, else keep the old configuration.\n",
      "\n",
      "  * Compute the terms in the sums $\\sum A_s P_s$.\n",
      "\n",
      "  * Repeat the above steps in order to have a large enough number of microstates\n",
      "\n",
      "  * For a given number of MC cycles, compute then expectation values.\n",
      "\n",
      "### Test of the Metropolis Algorithm\n",
      "\n",
      "Want  to show that the Metropolis algorithm\n",
      "generates the Boltzmann distribution"
     ]
    },
    {
     "cell_type": "markdown",
     "metadata": {},
     "source": [
      "$$\n",
      "P(\\beta)=\\frac{e^{-\\beta E}}{Z},\n",
      "$$"
     ]
    },
    {
     "cell_type": "markdown",
     "metadata": {},
     "source": [
      "with $\\beta=1/kT$ being the inverse temperature, $E$ is the energy of\n",
      "the system and\n",
      "$Z$ is the partition function. The only functions you will need are those\n",
      "to generate random numbers.\n",
      "\n",
      "We are going to study one single particle in equilibrium with\n",
      "its surroundings, the latter modeled via a large heat bath\n",
      "with temperature $T$.\n",
      "\n",
      "The model used to describe this particle is that of an ideal gas\n",
      "in {\\bf one} dimension and with velocity $-v$ or $v$.\n",
      "We are interested in finding  $P(v)dv$, which expresses the probability\n",
      "for finding the system with a given velocity $v\\in [v,v+dv]$.\n",
      "The energy for this one-dimensional system is"
     ]
    },
    {
     "cell_type": "markdown",
     "metadata": {},
     "source": [
      "$$\n",
      "E=\\frac{1}{2}kT=\\frac{1}{2}v^2,\n",
      "$$"
     ]
    },
    {
     "cell_type": "markdown",
     "metadata": {},
     "source": [
      "with mass $m=1$.\n",
      "\n",
      "### Test of the Metropolis Algorithm\n",
      "\n",
      "Want  to show that the Metropolis algorithm\n",
      "generates the Boltzmann distribution"
     ]
    },
    {
     "cell_type": "markdown",
     "metadata": {},
     "source": [
      "$$\n",
      "P(\\beta)=\\frac{e^{-\\beta E}}{Z},\n",
      "$$"
     ]
    },
    {
     "cell_type": "markdown",
     "metadata": {},
     "source": [
      "with $\\beta=1/kT$ being the inverse temperature, $E$ is the energy of\n",
      "the system and\n",
      "$Z$ is the partition function. The only functions you will need are those\n",
      "to generate random numbers.\n",
      "\n",
      "We are going to study one single particle in equilibrium with\n",
      "its surroundings, the latter modeled via a large heat bath\n",
      "with temperature $T$.\n",
      "\n",
      "The model used to describe this particle is that of an ideal gas\n",
      "in {\\bf one} dimension and with velocity $-v$ or $v$.\n",
      "We are interested in finding  $P(v)dv$, which expresses the probability\n",
      "for finding the system with a given velocity $v\\in [v,v+dv]$.\n",
      "The energy for this one-dimensional system is"
     ]
    },
    {
     "cell_type": "markdown",
     "metadata": {},
     "source": [
      "$$\n",
      "E=\\frac{1}{2}kT=\\frac{1}{2}v^2,\n",
      "$$"
     ]
    },
    {
     "cell_type": "markdown",
     "metadata": {},
     "source": [
      "with mass $m=1$.\n",
      "\n",
      "### Test of the Metropolis Algorithm, closed form results\n",
      "\n",
      "  The partition function of the system of interest is:"
     ]
    },
    {
     "cell_type": "markdown",
     "metadata": {},
     "source": [
      "$$\n",
      "\\begin{equation}\n",
      "    Z = \\int_{-\\infty}^{+\\infty} e^{-\\beta v^2 /2} dv = \\sqrt{2\\pi} \\beta^{-1/2} \\nonumber\n",
      "\\end{equation}\n",
      "$$"
     ]
    },
    {
     "cell_type": "markdown",
     "metadata": {},
     "source": [
      "The mean velocity"
     ]
    },
    {
     "cell_type": "markdown",
     "metadata": {},
     "source": [
      "$$\n",
      "\\begin{equation}\n",
      "    \\langle v \\rangle =  \\int_{-\\infty}^{+\\infty} v e^{-\\beta v^2 /2} dv = 0 \\nonumber\n",
      "\\end{equation}\n",
      "$$"
     ]
    },
    {
     "cell_type": "markdown",
     "metadata": {},
     "source": [
      "The  expressions for $\\langle E \\rangle$ and $\\sigma_E$ assume the following form:"
     ]
    },
    {
     "cell_type": "markdown",
     "metadata": {},
     "source": [
      "$$\n",
      "\\begin{equation}\n",
      "    \\langle E \\rangle =  \\int_{-\\infty}^{+\\infty} \\frac{v^2}{2}\\, e^{-\\beta v^2 /2} dv = -\\frac{1}{Z} \\frac{\\partial Z}{\\partial \\beta} =\n",
      "    \\frac{1}{2} \\beta^{-1} =  \\frac{1}{2} T \\nonumber\n",
      "\\end{equation}\n",
      "$$"
     ]
    },
    {
     "cell_type": "markdown",
     "metadata": {},
     "source": [
      "$$\n",
      "\\begin{equation}\n",
      "    \\langle E^2 \\rangle =  \\int_{-\\infty}^{+\\infty} \\frac{v^4}{4}\\, e^{-\\beta v^2 /2} dv = \\frac{1}{Z} \\frac{\\partial^2 Z}{\\partial \\beta^2} =\n",
      "    \\frac{3}{4} \\beta^{-2} =  \\frac{3}{4} T^2 \\nonumber\n",
      "\\end{equation}\n",
      "$$"
     ]
    },
    {
     "cell_type": "markdown",
     "metadata": {},
     "source": [
      "and"
     ]
    },
    {
     "cell_type": "markdown",
     "metadata": {},
     "source": [
      "$$\n",
      "\\begin{equation}\n",
      "    \\sigma_E = \\langle E^2 \\rangle - \\langle E \\rangle^2 = \\frac{1}{2} T^2 \\nonumber\n",
      "\\end{equation}\n",
      "$$"
     ]
    },
    {
     "cell_type": "markdown",
     "metadata": {},
     "source": [
      "### Test of the Metropolis Algorithm"
     ]
    },
    {
     "cell_type": "markdown",
     "metadata": {},
     "source": [
      "           for( montecarlo_cycles=1; Max_cycles; montecarlo_cycles++) {\n",
      "              ...\n",
      "              // change speed as function of delta v\n",
      "              v_change = (2*ran1(&idum) -1 )* delta_v;\n",
      "              v_new = v_old+v_change;\n",
      "              // energy change\n",
      "              delta_E = 0.5*(v_new*v_new - v_old*v_old) ;\n",
      "              ......\n",
      "              // Metropolis algorithm begins here\n",
      "                if ( ran1(&idum) <= exp(-beta*delta_E)  ) {\n",
      "                    accept_step = accept_step + 1 ;\n",
      "                    v_old = v_new ;\n",
      "        \n",
      "              // thereafter we must fill in  P[N] as a function of\n",
      "              // the new speed\n",
      "              // upgrade mean velocity, energy and variance\n",
      "        \n"
     ]
    },
    {
     "cell_type": "markdown",
     "metadata": {},
     "source": [
      "### Test of the Metropolis Algorithm\n",
      "\n",
      "Analytical vs numerical results. $T=4$, $10^8$ MC tries, $\\Delta v = 0.2$\n",
      "    \\begin{tabular}{ccc}\n",
      "      \\\\\n",
      "      \\hline\n",
      "      Observable & Analytical value & Numerical value \\\\\n",
      "      \\hline\n",
      "      \\\\\n",
      "      $\\langle v \\rangle $ &   0.00000  & -0.00679  \\\\\n",
      "      $\\langle E \\rangle $ &   2.00000  &  1.99855  \\\\\n",
      "      $\\sigma_E          $ &   8.00000  &  8.06669  \\\\\n",
      "      \\\\\n",
      "      \\hline\n",
      "    \\end{tabular}\n",
      "\n",
      "### Code for Metropolis test"
     ]
    },
    {
     "cell_type": "markdown",
     "metadata": {},
     "source": [
      "          v_current = v0;\n",
      "        \n",
      "          // start simulation\n",
      "          ofile.open(\"evsmc.dat\");\n",
      "          for (tries = 1; tries <= MC; tries++){\n",
      "        \n",
      "            v_change = (2.*ran0(&idum) - 1.) * dv;\n",
      "            v_trial  = v_current + v_change;\n",
      "        \n",
      "            // evaluate dE\n",
      "            delta_E = 0.5 * ( v_trial * v_trial - v_current * v_current );\n",
      "        \n"
     ]
    },
    {
     "cell_type": "markdown",
     "metadata": {},
     "source": [
      "### Code for Metropolis test"
     ]
    },
    {
     "cell_type": "markdown",
     "metadata": {},
     "source": [
      "            // Metropolis test\n",
      "            if (delta_E <= 0) {\n",
      "              acceptance++; v_current = v_trial;\n",
      "        \n",
      "            else if (ran0(&idum) <= exp( -beta * delta_E )){\n",
      "              acceptance++; v_current = v_trial;\n",
      "        \n",
      "        \n",
      "            // check if velocity value lies within given limits\n",
      "            if (abs(v_current) > v_max) {\n",
      "              cout<<\"Velocity out of range.\"; exit(1);\n",
      "        \n"
     ]
    },
    {
     "cell_type": "markdown",
     "metadata": {},
     "source": [
      "### Keep or scratch?\n",
      "\n",
      "<!-- 2DOFIGURE: [skann0002.jpg, width=500 frac=0.2] -->\n",
      "\n",
      "### Code for Metropolis test"
     ]
    },
    {
     "cell_type": "markdown",
     "metadata": {},
     "source": [
      "            // save event in P array\n",
      "            address = (int) floor( v_current / dv ) + N/2 + 1;\n",
      "            P[address]++;\n",
      "        \n",
      "            // update mean velocity, mean energy and energy variance values\n",
      "            mean_v += v_current;\n",
      "            mean_E += 0.5 * v_current * v_current;\n",
      "            E_variance += 0.25 * v_current * v_current * v_current * v_current;\n"
     ]
    },
    {
     "cell_type": "markdown",
     "metadata": {},
     "source": [
      "### Code for Metropolis test"
     ]
    },
    {
     "cell_type": "markdown",
     "metadata": {},
     "source": [
      "          // initialize model parameters\n",
      "          beta = 1./T; v_max = 10. * sqrt (T);\n",
      "          // calculate amount of P-array elements\n",
      "          N = 2 * (int)(v_max/dv) + 1;\n",
      "          // initialize P-array\n",
      "          P = new int [N];\n",
      "        \n",
      "          for (int i=0; i < N; i++) P[i] = 0;\n",
      "        \n",
      "          mean_v = 0.; mean_E = 0.; E_variance = 0.;\n",
      "          acceptance = 0;\n",
      "        \n",
      "        }// initialize\n"
     ]
    },
    {
     "cell_type": "markdown",
     "metadata": {},
     "source": [
      "## Overview of week 47\n",
      "\n",
      "### Overview of week 47\n",
      "\n",
      "**Summary and exam discussion.**\n",
      "\n",
      "  * Monday:\n",
      "\n",
      "  * Brief repetition from last week and discussion of projects\n",
      "\n",
      "  * Metropolis algorithm and Variational Monte Carlo\n",
      "\n",
      "  * Emphasis on the Monte Carlo project (integration and Variational Monte Carlo)\n",
      "\n",
      "  * Tuesday:\n",
      "\n",
      "  * Discussion of projects and parallelization (all projects)\n",
      "\n",
      "  * Discussion of Monte Carlo simulation of Markov chains (linked with the diffusion project)\n",
      "\n",
      "\n",
      "\n",
      "### Pros and Cons of Quantum Monte Carlo\n",
      "\n",
      "\n",
      "  * Is physically intuitive.\n",
      "\n",
      "  * Allows one to study systems with many degrees of freedom. Diffusion Monte Carlo (DMC) and Green's function Monte Carlo (GFMC) yield in principle the exact solution to Schr\\\"odinger's equation.\n",
      "\n",
      "  * Variational Monte Carlo (VMC) is easy to implement but needs a reliable trial wave function, can be difficult to obtain.\n",
      "\n",
      "  * DMC/GFMC for fermions (spin with half-integer values, electrons, baryons, neutrinos, quarks) has a sign problem. Nature prefers an anti-symmetric wave function. PDF in this case given distribution of random walkers ($p\\ge 0$).\n",
      "\n",
      "  * The solution has a statistical error, which can be large.\n",
      "\n",
      "  * There is a limit for how large systems one can study, DMC needs a huge number of random walkers in order to achieve stable results.\n",
      "\n",
      "  * Obtain only the lowest-lying states with a given symmetry. Can get excited states.\n",
      "\n",
      "### Where and why do we use Monte Carlo Methods in Quantum Physics\n",
      "\n",
      "\n",
      "  * Quantum systems with many particles at finite temperature: Path Integral Monte Carlo with applications to dense matter and quantum liquids (phase transitions from normal fluid to superfluid). Strong correlations.\n",
      "\n",
      "  * Bose-Einstein condensation of dilute gases, method transition from non-linear PDE to Diffusion Monte Carlo as density increases.\n",
      "\n",
      "  * Light atoms, molecules, solids and nuclei.\n",
      "\n",
      "  * Lattice Quantum-Chromo Dynamics. Impossible to solve without MC calculations.\n",
      "\n",
      "  * Simulations of systems in solid state physics, from semiconductors to spin systems. Many electrons active and possibly strong correlations. Chapter 13 on statistical physics simulations will not be discussed this year.\n",
      "\n",
      "### Bose-Einstein Condensation of atoms, thousands of Atoms in one State, Possible project 5\n",
      "\n",
      "<!-- 2DOFIGURE: [BEC_three_peaks, width=500 frac=0.3] -->\n",
      "\n",
      "### Quantum Monte Carlo and Schr\\\"odinger's equation\n",
      "\n",
      "For one-body problems (one dimension)"
     ]
    },
    {
     "cell_type": "markdown",
     "metadata": {},
     "source": [
      "$$\n",
      "-\\frac{\\hbar^2}{2m}\\nabla^2\\Psi(x,t)+\n",
      "V(x,t)\\Psi(x,t)=\n",
      "    \\imath\\hbar\\frac{\\partial \\Psi(x,t)}{\\partial t},\n",
      "$$"
     ]
    },
    {
     "cell_type": "markdown",
     "metadata": {},
     "source": [
      "$$\n",
      "P(x,t)=\\Psi(x,t)^*\\Psi(x,t)\n",
      "$$"
     ]
    },
    {
     "cell_type": "markdown",
     "metadata": {},
     "source": [
      "$$\n",
      "P(x,t)dx=\\Psi(x,t)^*\\Psi(x,t)dx\n",
      "$$"
     ]
    },
    {
     "cell_type": "markdown",
     "metadata": {},
     "source": [
      "Interpretation: probability of finding the system in a region between\n",
      "$x$ and $x+dx$.\n",
      "Always real"
     ]
    },
    {
     "cell_type": "markdown",
     "metadata": {},
     "source": [
      "$$\n",
      "\\Psi(x,t)=R(x,t)+\\imath I(x,t)\n",
      "$$"
     ]
    },
    {
     "cell_type": "markdown",
     "metadata": {},
     "source": [
      "yielding"
     ]
    },
    {
     "cell_type": "markdown",
     "metadata": {},
     "source": [
      "$$\n",
      "\\Psi(x,t)^*\\Psi(x,t)=(R-\\imath I)(R+\\imath I)=R^2+I^2\n",
      "$$"
     ]
    },
    {
     "cell_type": "markdown",
     "metadata": {},
     "source": [
      "Variational Monte Carlo uses only $P(x,t)$!!\n",
      "\n",
      "### Quantum Monte Carlo and Schr\\\"odinger's equation\n",
      "\n",
      "Petit digression\n",
      "\n",
      "Choose $\\tau = it/\\hbar$.\n",
      "\n",
      "The time-dependent  (1-dim) Schr\\\"odinger equation becomes then"
     ]
    },
    {
     "cell_type": "markdown",
     "metadata": {},
     "source": [
      "$$\n",
      "\\frac{\\partial \\Psi(x,\\tau)}{\\partial \\tau} =\n",
      "  \\frac{\\hbar^2}{2m} \\frac{\\partial^2\\Psi(x,\\tau)}{\\partial x^2}\n",
      "   -V(x,\\tau)\\Psi(x,\\tau).\n",
      "$$"
     ]
    },
    {
     "cell_type": "markdown",
     "metadata": {},
     "source": [
      "With $V=0$ we have a diffusion equation in complex time with\n",
      "diffusion constant"
     ]
    },
    {
     "cell_type": "markdown",
     "metadata": {},
     "source": [
      "$$\n",
      "D= \\frac{\\hbar^2}{2m}.\n",
      "$$"
     ]
    },
    {
     "cell_type": "markdown",
     "metadata": {},
     "source": [
      "Used in diffusion Monte Carlo calculations. Topic for FYS4411, Computational Physics II\n",
      "\n",
      "### Quantum Monte Carlo and Schr\\\"odinger's equation\n",
      "\n",
      "Conditions which $\\Psi$ has to satisfy:\n",
      "\n",
      "Normalization"
     ]
    },
    {
     "cell_type": "markdown",
     "metadata": {},
     "source": [
      "$$\n",
      "\\int_{-\\infty}^{\\infty}P(x,t)dx=\n",
      "\\int_{-\\infty}^{\\infty}\\Psi(x,t)^*\\Psi(x,t)dx=1\n",
      "$$"
     ]
    },
    {
     "cell_type": "markdown",
     "metadata": {},
     "source": [
      "meaning that"
     ]
    },
    {
     "cell_type": "markdown",
     "metadata": {},
     "source": [
      "$$\n",
      "\\int_{-\\infty}^{\\infty}\\Psi(x,t)^*\\Psi(x,t)dx < \\infty\n",
      "$$"
     ]
    },
    {
     "cell_type": "markdown",
     "metadata": {},
     "source": [
      "And\n",
      "\n",
      "  * $\\Psi(x,t)$ and $\\partial \\Psi(x,t)/\\partial x$ must be finite,\n",
      "\n",
      "  * $\\Psi(x,t)$ and $\\partial \\Psi(x,t)/\\partial x$ must be continuous,\n",
      "\n",
      "  * $\\Psi(x,t)$ and $\\partial \\Psi(x,t)/\\partial x$ must be single valued square integrable functions.\n",
      "\n",
      "### First Postulate\n",
      "\n",
      "Any physical quantity $A(\\vec{r},\\vec{p})$ which depends on position\n",
      "$\\vec{r}$ and momentum\n",
      "$\\vec{p}$ has a corresponding quantum mechanical operator by replacing\n",
      "$\\vec{p}$\n",
      "$-i\\hbar \\vec{\\bigtriangledown}$, yielding the quantum mechanical operator"
     ]
    },
    {
     "cell_type": "markdown",
     "metadata": {},
     "source": [
      "$$\n",
      "{\\bf\\widehat{A}} = A(\\vec{r},-i\\hbar \\vec{\\bigtriangledown)}.\n",
      "$$"
     ]
    },
    {
     "cell_type": "markdown",
     "metadata": {},
     "source": [
      "\\begin{tabular}{|l|l|l|}  \\hline\n",
      "Quantity & Classical definition & QM operator\\\\\n",
      "\\hline\n",
      "Position            & $\\vec{r}$           & ${\\bf\\widehat{\\vec{r}}} = \\vec{r}$\\\\\n",
      "Momentum    & $\\vec{p}$\n",
      "\t\t\t\t\t\t  & ${\\bf\\widehat{\\vec{p}}} = -i \\hbar \\vec{\\bigtriangledown}$\\\\\n",
      "Orbital momentum           & $\\vec{L} = \\vec{r} \\times \\vec{p}$\n",
      "\t\t  & ${\\bf\\widehat{\\vec{L}}} = \\vec{r} \\times (-i\\hbar \\vec{\\bigtriangledown})$\\\\\n",
      "Kinetic energy     & $T = (\\vec{p})^2 / 2 m$\n",
      "\t\t\t\t\t\t  & ${\\bf\\widehat{T}} = - (\\hbar^2 / 2 m) (\\vec{\\bigtriangledown})^2$\\\\\n",
      "Total energy \t\t  & $H = (p^2 / 2 m) + V(\\vec{r})$\n",
      "\t\t\t\t\t\t  & ${\\bf\\widehat{H}} = - ( \\hbar^2 / 2 m )(\\vec{\\bigtriangledown})^2\n",
      "\t\t\t\t\t\t\t\t\t\t  + V(\\vec{r})$\\\\\n",
      "\\hline\n",
      "\\end{tabular}\n",
      "\n",
      "### Second Postulate\n",
      "\n",
      "{\\sl The only possible outcome of  an ideal measurement of the physical\n",
      "quantity $A$ are the eigenvalues of the corresponding quantum mechanical\n",
      "operator ${\\bf\\widehat{A}}$.}"
     ]
    },
    {
     "cell_type": "markdown",
     "metadata": {},
     "source": [
      "$$\n",
      "{\\bf\\widehat{A}} \\psi_{\\nu}\n",
      "\t = a_{\\nu} \\psi_{\\nu},\n",
      "$$"
     ]
    },
    {
     "cell_type": "markdown",
     "metadata": {},
     "source": [
      "resulting in the eigenvalues  $ a_1, a_2, a_3,\\cdots$\n",
      "as the only outcomes of a measurement. The corresponding\n",
      "eigenstates\n",
      "$ \\psi_1, \\psi_2, \\psi_3 \\cdots$\n",
      "contain all relevant information about the system.\n",
      "\n",
      "### Third Postulate\n",
      "\n",
      "Assume $\\Phi$ is\n",
      "a linear combination of the eigenfunctions\n",
      "$\\psi_{\\nu}$\n",
      "for ${\\bf\\widehat{A}}$,"
     ]
    },
    {
     "cell_type": "markdown",
     "metadata": {},
     "source": [
      "$$\n",
      "\\Phi = c_1 \\psi_1 + c_2 \\psi_2 + \\cdots\n",
      "  = \\sum_{\\nu} c_{\\nu} \\psi_{\\nu}.\n",
      "$$"
     ]
    },
    {
     "cell_type": "markdown",
     "metadata": {},
     "source": [
      "The eigenfunctions are orthogonal\n",
      "and we get"
     ]
    },
    {
     "cell_type": "markdown",
     "metadata": {},
     "source": [
      "$$\n",
      "c_{\\nu} = \\int (\\Phi)^{\\ast} \\psi_{\\nu} d\\tau.\n",
      "$$"
     ]
    },
    {
     "cell_type": "markdown",
     "metadata": {},
     "source": [
      "From this we can formulate the third postulate:\n",
      "\\sl\n",
      "When the eigenfunction is  $\\Phi$, the probability of\n",
      "obtaining the value $a_{\\nu}$ as the outcome of a measurement of the\n",
      "physical quantity\n",
      "$A$ is given by $|c_{\\nu}|^2$ and $\\psi_{\\nu}$ is an eigenfunction of\n",
      "${\\bf\\widehat{A}}$ with eigenvalue  $a_{\\nu}$.\n",
      "\n",
      "### Third Postulate\n",
      "\n",
      "As a consequence one can show that:\n",
      "{\\sl when a quantal system is in the state $\\Phi$,\n",
      "the mean value or expectation value of a physical quantity\n",
      "$A(\\vec{r}, \\vec{p})$\n",
      "is given by}"
     ]
    },
    {
     "cell_type": "markdown",
     "metadata": {},
     "source": [
      "$$\n",
      "\\langle A \\rangle\n",
      "\t= \\int (\\Phi)^{\\ast} {\\bf\\widehat{A}}(\\vec{r}, -i \\hbar\\vec{\\bigtriangledown})\n",
      "\t\t \\Phi d\\tau.\n",
      "$$"
     ]
    },
    {
     "cell_type": "markdown",
     "metadata": {},
     "source": [
      "We  have assumed that\n",
      "$\\Phi$ has been normalized, viz., $\\int (\\Phi)^{\\ast} \\Phi d\\tau = 1$.\n",
      "Else"
     ]
    },
    {
     "cell_type": "markdown",
     "metadata": {},
     "source": [
      "$$\n",
      "\\langle A \\rangle = \\frac{\\int (\\Phi)^{\\ast} {\\bf\\widehat{A}} \\Phi d\\tau}\n",
      "\t\t\t  {\\int (\\Phi)^{\\ast} \\Phi d\\tau}.\n",
      "$$"
     ]
    },
    {
     "cell_type": "markdown",
     "metadata": {},
     "source": [
      "### Fourth Postulate\n",
      "\n",
      "The time development of of a quantal system is given by"
     ]
    },
    {
     "cell_type": "markdown",
     "metadata": {},
     "source": [
      "$$\n",
      "i \\hbar \\frac{\\partial \\Psi}{\\partial t} = {\\bf\\widehat{H}} \\Psi,\n",
      "$$"
     ]
    },
    {
     "cell_type": "markdown",
     "metadata": {},
     "source": [
      "with ${\\bf\\widehat{H}}$ the quantal Hamiltonian operator for the system.\n",
      "\n",
      "### Quantum Monte Carlo\n",
      "\n",
      "Most quantum mechanical\n",
      "problems of interest in e.g., atomic, molecular, nuclear and solid state\n",
      "physics consist of a large number of\n",
      "interacting electrons and ions or nucleons.\n",
      "The total number of particles $N$ is usually sufficiently large\n",
      "that an exact solution cannot be found.\n",
      "Typically,\n",
      "the expectation value for a chosen hamiltonian for a system of\n",
      "$N$ particles is"
     ]
    },
    {
     "cell_type": "markdown",
     "metadata": {},
     "source": [
      "$$\n",
      "\\langle H \\rangle =\n",
      "$$"
     ]
    },
    {
     "cell_type": "markdown",
     "metadata": {},
     "source": [
      "$$\n",
      "\\frac{\\int d{\\bf R}_1d{\\bf R}_2\\dots d{\\bf R}_N\n",
      "         \\Psi^{\\ast}({\\bf R_1},{\\bf R}_2,\\dots,{\\bf R}_N)\n",
      "          H({\\bf R_1},{\\bf R}_2,\\dots,{\\bf R}_N)\n",
      "          \\Psi({\\bf R_1},{\\bf R}_2,\\dots,{\\bf R}_N)}\n",
      "        {\\int d{\\bf R}_1d{\\bf R}_2\\dots d{\\bf R}_N\n",
      "        \\Psi^{\\ast}({\\bf R_1},{\\bf R}_2,\\dots,{\\bf R}_N)\n",
      "        \\Psi({\\bf R_1},{\\bf R}_2,\\dots,{\\bf R}_N)},\n",
      "$$"
     ]
    },
    {
     "cell_type": "markdown",
     "metadata": {},
     "source": [
      "an in general intractable problem.\n",
      "\n",
      "### Quantum Monte Carlo\n",
      "\n",
      "Given a hamiltonian $H$ and a trial\n",
      "wave function $\\Psi_T$, the variational principle states that\n",
      "the expectation value of $\\langle H \\rangle$, defined through"
     ]
    },
    {
     "cell_type": "markdown",
     "metadata": {},
     "source": [
      "$$\n",
      "E[H]= \\langle H \\rangle =\n",
      "   \\frac{\\int d{\\bf R}\\Psi^{\\ast}_T({\\bf R})H({\\bf R})\\Psi_T({\\bf R})}\n",
      "        {\\int d{\\bf R}\\Psi^{\\ast}_T({\\bf R})\\Psi_T({\\bf R})},\n",
      "$$"
     ]
    },
    {
     "cell_type": "markdown",
     "metadata": {},
     "source": [
      "is an upper bound to the ground state energy $E_0$ of the hamiltonian $H$, that\n",
      "is"
     ]
    },
    {
     "cell_type": "markdown",
     "metadata": {},
     "source": [
      "$$\n",
      "E_0 \\le \\langle H \\rangle .\n",
      "$$"
     ]
    },
    {
     "cell_type": "markdown",
     "metadata": {},
     "source": [
      "In general, the integrals involved in the calculation of various  expectation\n",
      "values  are multi-dimensional ones. Traditional integration methods\n",
      "such as the Gauss-Legendre will not be adequate for say the\n",
      "computation of the energy of a many-body system.\n",
      "\n",
      "### Quantum Monte Carlo\n",
      "\n",
      "The trial wave function can be expanded\n",
      "in the eigenstates of the hamiltonian since they form a complete set, viz.,"
     ]
    },
    {
     "cell_type": "markdown",
     "metadata": {},
     "source": [
      "$$\n",
      "\\Psi_T({\\bf R})=\\sum_i a_i\\Psi_i({\\bf R}),\n",
      "$$"
     ]
    },
    {
     "cell_type": "markdown",
     "metadata": {},
     "source": [
      "and assuming the set of eigenfunctions to be normalized one obtains"
     ]
    },
    {
     "cell_type": "markdown",
     "metadata": {},
     "source": [
      "$$\n",
      "\\frac{\\sum_{nm}a^*_ma_n \\int d{\\bf R}\\Psi^{\\ast}_m({\\bf R})H({\\bf R})\\Psi_n({\\bf R})}\n",
      "        {\\sum_{nm}a^*_ma_n \\int d{\\bf R}\\Psi^{\\ast}_m({\\bf R})\\Psi_n({\\bf R})} =\\frac{\\sum_{n}a^2_n E_n}\n",
      "        {\\sum_{n}a^2_n} \\ge E_0,\n",
      "$$"
     ]
    },
    {
     "cell_type": "markdown",
     "metadata": {},
     "source": [
      "where we used that $H({\\bf R})\\Psi_n({\\bf R})=E_n\\Psi_n({\\bf R})$.\n",
      "In general, the integrals involved in the calculation of various  expectation\n",
      "values  are multi-dimensional ones.\n",
      "The variational principle yields the lowest state of a given symmetry.\n",
      "\n",
      "### Quantum Monte Carlo\n",
      "\n",
      "In most cases, a wave function has only small values in large parts of\n",
      "configuration space, and a straightforward procedure which uses\n",
      "homogenously distributed random points in configuration space\n",
      "will most likely lead to poor results. This may suggest that some kind\n",
      "of importance sampling combined with e.g., the Metropolis algorithm\n",
      "may be  a more efficient way of obtaining the ground state energy.\n",
      "The hope is then that those regions of configurations space where\n",
      "the wave function assumes appreciable values are sampled more\n",
      "efficiently.\n",
      "\n",
      "### Quantum Monte Carlo\n",
      "\n",
      "The tedious part in a VMC calculation is the search for the variational\n",
      "minimum. A good knowledge of the system is required in order to carry out\n",
      "reasonable VMC calculations. This is not always the case,\n",
      "and often VMC calculations\n",
      "serve rather as the starting\n",
      "point for so-called diffusion Monte Carlo calculations (DMC). DMC is a way of\n",
      "solving exactly the many-body Schr\\\"odinger equation by means of\n",
      "a stochastic procedure. A good guess on the binding energy\n",
      "and its wave function is however necessary.\n",
      "A carefully performed VMC calculation can aid in this context.\n",
      "\n",
      "### Quantum Monte Carlo\n",
      "\n",
      "Construct first a trial wave function $\\psi_T^{\\alpha}({\\bf R})$,\n",
      "for a many-body\n",
      "system consisting of $N$ particles located at positions\n",
      "${\\bf R=(R_1,\\dots ,R_N)}$. The trial wave function depends\n",
      "on $\\alpha$ variational parameters\n",
      "${\\bf \\alpha}=(\\alpha_1,\\dots ,\\alpha_N)$.\n",
      "\n",
      "Then we evaluate the expectation value of the hamiltonian $H$"
     ]
    },
    {
     "cell_type": "markdown",
     "metadata": {},
     "source": [
      "$$\n",
      "E[H]=\\langle H \\rangle =\n",
      "   \\frac{\\int d{\\bf R}\\Psi^{\\ast}_{T_{\\alpha}}({\\bf R})H({\\bf R})\n",
      "         \\Psi_{T_{\\alpha}}({\\bf R})}\n",
      "        {\\int d{\\bf R}\\Psi^{\\ast}_{T_{\\alpha}}({\\bf R})\\Psi_{T_{\\alpha}}({\\bf R})}.\n",
      "$$"
     ]
    },
    {
     "cell_type": "markdown",
     "metadata": {},
     "source": [
      "Thereafter we vary $\\alpha$ according to some minimization\n",
      "algorithm and return to the first step.\n",
      "\n",
      "### Quantum Monte Carlo\n",
      "\n",
      "Choose a trial wave function\n",
      "$\\psi_T({\\bf R})$."
     ]
    },
    {
     "cell_type": "markdown",
     "metadata": {},
     "source": [
      "$$\n",
      "P({\\bf R})= \\frac{\\left|\\psi_T({\\bf R})\\right|^2}{\\int \\left|\\psi_T({\\bf R})\\right|^2d{\\bf R}}.\n",
      "$$"
     ]
    },
    {
     "cell_type": "markdown",
     "metadata": {},
     "source": [
      "This is our new probability distribution function  (PDF).\n",
      "The approximation to the expectation value of the Hamiltonian is now"
     ]
    },
    {
     "cell_type": "markdown",
     "metadata": {},
     "source": [
      "$$\n",
      "E[H]\\approx\n",
      "   \\frac{\\int d{\\bf R}\\Psi^{\\ast}_T({\\bf R})H({\\bf R})\\Psi_T({\\bf R})}\n",
      "        {\\int d{\\bf R}\\Psi^{\\ast}_T({\\bf R})\\Psi_T({\\bf R})}.\n",
      "$$"
     ]
    },
    {
     "cell_type": "markdown",
     "metadata": {},
     "source": [
      "Define a new quantity"
     ]
    },
    {
     "cell_type": "markdown",
     "metadata": {},
     "source": [
      "<!-- Equation labels as ordinary links -->\n",
      "<a name=\"eq:locale1\"/>\n",
      "\n",
      "$$\n",
      "E_L({\\bf R})=\\frac{1}{\\psi_T({\\bf R})}H\\psi_T({\\bf R}),\n",
      "   \\label{eq:locale1} \\tag{48}\n",
      "$$"
     ]
    },
    {
     "cell_type": "markdown",
     "metadata": {},
     "source": [
      "called the local energy, which, together with our trial PDF yields"
     ]
    },
    {
     "cell_type": "markdown",
     "metadata": {},
     "source": [
      "<!-- Equation labels as ordinary links -->\n",
      "<a name=\"eq:vmc1\"/>\n",
      "\n",
      "$$\n",
      "E[H]=\\langle H \\rangle \\approx \\int P({\\bf R})E_L({\\bf R}) d{\\bf R}\\approx \\frac{1}{N}\\sum_{i=1}^NE_L({\\bf R_i}\n",
      "  \\label{eq:vmc1} \\tag{49}\n",
      "$$"
     ]
    },
    {
     "cell_type": "markdown",
     "metadata": {},
     "source": [
      "with $N$ being the number of Monte Carlo samples.\n",
      "\n",
      "### Quantum Monte Carlo\n",
      "\n",
      "Algo:\n",
      "\n",
      "  * Initialisation: Fix the number of Monte Carlo steps. Choose an initial ${\\bf R}$ and variational parameters $\\alpha$ and calculate $\\left|\\psi_T^{\\alpha}({\\bf R})\\right|^2$.\n",
      "\n",
      "  * Initialise the energy and the variance and start the Monte Carlo calculation (thermalize)\n",
      "\n",
      "   1. Calculate a trial position ${\\bf R}_p={\\bf R}+r*step$ where $r$ is a random variable $r \\in [0,1]$.\n",
      "\n",
      "   2. Metropolis algorithm to accept or reject this move $w = P({\\bf R}_p)/P({\\bf R})$.\n",
      "\n",
      "   3. If the step is accepted, then we set ${\\bf R}={\\bf R}_p$. Update averages\n",
      "\n",
      "\n",
      "  * Finish and compute final averages.\n",
      "\n",
      "Observe that the jumping in space is governed by the variable\n",
      "$step$. Called brute-force sampling.  Need importance sampling to get\n",
      "more relevant sampling.\n",
      "\n",
      "### Quantum Monte Carlo\n",
      "\n",
      "The radial Schrodinger equation for the hydrogen atom can be\n",
      "written as"
     ]
    },
    {
     "cell_type": "markdown",
     "metadata": {},
     "source": [
      "$$\n",
      "-\\frac{\\hbar^2}{2m}\\frac{\\partial^2 u(r)}{\\partial r^2}-\n",
      "\\left(\\frac{ke^2}{r}-\\frac{\\hbar^2l(l+1)}{2mr^2}\\right)u(r)=Eu(r),\n",
      "$$"
     ]
    },
    {
     "cell_type": "markdown",
     "metadata": {},
     "source": [
      "or with dimensionless variables"
     ]
    },
    {
     "cell_type": "markdown",
     "metadata": {},
     "source": [
      "<!-- Equation labels as ordinary links -->\n",
      "<a name=\"eq:hydrodimless1\"/>\n",
      "\n",
      "$$\n",
      "-\\frac{1}{2}\\frac{\\partial^2 u(\\rho)}{\\partial \\rho^2}-\n",
      "\\frac{u(\\rho)}{\\rho}+\\frac{l(l+1)}{2\\rho^2}u(\\rho)-\\lambda u(\\rho)=0,\n",
      "\\label{eq:hydrodimless1} \\tag{50}\n",
      "$$"
     ]
    },
    {
     "cell_type": "markdown",
     "metadata": {},
     "source": [
      "with the hamiltonian"
     ]
    },
    {
     "cell_type": "markdown",
     "metadata": {},
     "source": [
      "$$\n",
      "H=-\\frac{1}{2}\\frac{\\partial^2 }{\\partial \\rho^2}-\n",
      "\\frac{1}{\\rho}+\\frac{l(l+1)}{2\\rho^2}.\n",
      "$$"
     ]
    },
    {
     "cell_type": "markdown",
     "metadata": {},
     "source": [
      "Use variational parameter $\\alpha$ in the trial\n",
      "wave function"
     ]
    },
    {
     "cell_type": "markdown",
     "metadata": {},
     "source": [
      "<!-- Equation labels as ordinary links -->\n",
      "<a name=\"eq:trialhydrogen\"/>\n",
      "\n",
      "$$\n",
      "u_T^{\\alpha}(\\rho)=\\alpha\\rho e^{-\\alpha\\rho}.\n",
      "   \\label{eq:trialhydrogen} \\tag{51}\n",
      "$$"
     ]
    },
    {
     "cell_type": "markdown",
     "metadata": {},
     "source": [
      "### Quantum Monte Carlo\n",
      "\n",
      "Inserting this wave function into the expression for the\n",
      "local energy $E_L$ gives"
     ]
    },
    {
     "cell_type": "markdown",
     "metadata": {},
     "source": [
      "$$\n",
      "E_L(\\rho)=-\\frac{1}{\\rho}-\n",
      "              \\frac{\\alpha}{2}\\left(\\alpha-\\frac{2}{\\rho}\\right).\n",
      "$$"
     ]
    },
    {
     "cell_type": "markdown",
     "metadata": {},
     "source": [
      "\\begin{tabular}{rrrr}\\hline\n",
      "$\\alpha$&$\\langle H \\rangle $&$\\sigma^2$&$\\sigma/\\sqrt{N}$ \\\\\\hline\n",
      " 7.00000E-01 & -4.57759E-01 &  4.51201E-02 &  6.71715E-04 \\\\\n",
      " 8.00000E-01 & -4.81461E-01 &  3.05736E-02 &  5.52934E-04 \\\\\n",
      " 9.00000E-01 & -4.95899E-01 &  8.20497E-03 &  2.86443E-04 \\\\\n",
      " 1.00000E-00 & -5.00000E-01 &  0.00000E+00 &  0.00000E+00 \\\\\n",
      " 1.10000E+00 & -4.93738E-01 &  1.16989E-02 &  3.42036E-04 \\\\\n",
      " 1.20000E+00 & -4.75563E-01 &  8.85899E-02 &  9.41222E-04 \\\\\n",
      " 1.30000E+00 & -4.54341E-01 &  1.45171E-01 &  1.20487E-03 \\\\\n",
      "\\end{tabular}\n",
      "\n",
      "### Quantum Monte Carlo\n",
      "\n",
      "We note that at $\\alpha=1$ we obtain the exact\n",
      "result, and the variance is zero, as it should. The reason is that\n",
      "we then have the exact wave function, and the action of the hamiltionan\n",
      "on the wave function"
     ]
    },
    {
     "cell_type": "markdown",
     "metadata": {},
     "source": [
      "$$\n",
      "H\\psi = \\mbox{constant}\\times \\psi,\n",
      "$$"
     ]
    },
    {
     "cell_type": "markdown",
     "metadata": {},
     "source": [
      "yields just a constant. The integral which defines various\n",
      "expectation values involving moments of the hamiltonian becomes then"
     ]
    },
    {
     "cell_type": "markdown",
     "metadata": {},
     "source": [
      "$$\n",
      "\\langle H^n \\rangle =\n",
      "   \\frac{\\int d{\\bf R}\\Psi^{\\ast}_T({\\bf R})H^n({\\bf R})\\Psi_T({\\bf R})}\n",
      "        {\\int d{\\bf R}\\Psi^{\\ast}_T({\\bf R})\\Psi_T({\\bf R})}=\n",
      "\\mbox{constant}\\times\\frac{\\int d{\\bf R}\\Psi^{\\ast}_T({\\bf R})\\Psi_T({\\bf R})}\n",
      "        {\\int d{\\bf R}\\Psi^{\\ast}_T({\\bf R})\\Psi_T({\\bf R})}=\n",
      "\\mbox{constant}.\n",
      "$$"
     ]
    },
    {
     "cell_type": "markdown",
     "metadata": {},
     "source": [
      "{\\bf This gives an important information: the exact wave function leads to zero variance!}\n",
      "Variation is then performed by minimizing both the energy and the variance.\n",
      "\n",
      "### Quantum Monte Carlo\n",
      "\n",
      "The helium atom consists of two electrons and a nucleus with\n",
      "charge $Z=2$.\n",
      "The contribution\n",
      "to the potential energy due to the attraction from the nucleus is"
     ]
    },
    {
     "cell_type": "markdown",
     "metadata": {},
     "source": [
      "$$\n",
      "-\\frac{2ke^2}{r_1}-\\frac{2ke^2}{r_2},\n",
      "$$"
     ]
    },
    {
     "cell_type": "markdown",
     "metadata": {},
     "source": [
      "and if we add the repulsion arising from the two\n",
      "interacting electrons, we obtain the potential energy"
     ]
    },
    {
     "cell_type": "markdown",
     "metadata": {},
     "source": [
      "$$\n",
      "V(r_1, r_2)=-\\frac{2ke^2}{r_1}-\\frac{2ke^2}{r_2}+\n",
      "               \\frac{ke^2}{r_{12}},\n",
      "$$"
     ]
    },
    {
     "cell_type": "markdown",
     "metadata": {},
     "source": [
      "with the electrons separated at a distance\n",
      "$r_{12}=|{\\bf r}_1-{\\bf r}_2|$.\n",
      "\n",
      "### Quantum Monte Carlo\n",
      "\n",
      "The hamiltonian becomes then"
     ]
    },
    {
     "cell_type": "markdown",
     "metadata": {},
     "source": [
      "$$\n",
      "{\\bf\\widehat{H}}=-\\frac{\\hbar^2\\nabla_1^2}{2m}-\\frac{\\hbar^2\\nabla_2^2}{2m}\n",
      "          -\\frac{2ke^2}{r_1}-\\frac{2ke^2}{r_2}+\n",
      "               \\frac{ke^2}{r_{12}},\n",
      "$$"
     ]
    },
    {
     "cell_type": "markdown",
     "metadata": {},
     "source": [
      "and  Schr\\\"odingers equation reads"
     ]
    },
    {
     "cell_type": "markdown",
     "metadata": {},
     "source": [
      "$$\n",
      "{\\bf\\widehat{H}}\\psi=E\\psi.\n",
      "$$"
     ]
    },
    {
     "cell_type": "markdown",
     "metadata": {},
     "source": [
      "All observables are evaluated with respect to the probability distribution"
     ]
    },
    {
     "cell_type": "markdown",
     "metadata": {},
     "source": [
      "$$\n",
      "P({\\bf R})= \\frac{\\left|\\psi_T({\\bf R})\\right|^2}{\\int \\left|\\psi_T({\\bf R})\\right|^2d{\\bf R}}.\n",
      "$$"
     ]
    },
    {
     "cell_type": "markdown",
     "metadata": {},
     "source": [
      "generated by the trial wave function.\n",
      "The trial wave function must approximate an exact\n",
      "eigenstate in order that accurate results are to be obtained.\n",
      "Improved trial\n",
      "wave functions also improve the importance sampling,\n",
      "reducing the cost of obtaining a certain statistical accuracy.\n",
      "\n",
      "### Quantum Monte Carlo\n",
      "\n",
      "Choice of trial wave function for Helium:\n",
      "Assume $r_1 \\rightarrow 0$."
     ]
    },
    {
     "cell_type": "markdown",
     "metadata": {},
     "source": [
      "$$\n",
      "E_L({\\bf R})=\\frac{1}{\\psi_T({\\bf R})}H\\psi_T({\\bf R})=\n",
      "     \\frac{1}{\\psi_T({\\bf R})}\\left(-\\frac{1}{2}\\nabla^2_1\n",
      "     -\\frac{Z}{r_1}\\right)\\psi_T({\\bf R}) + \\mbox{finite terms}.\n",
      "$$"
     ]
    },
    {
     "cell_type": "markdown",
     "metadata": {},
     "source": [
      "$$\n",
      "E_L(R)=\n",
      "    \\frac{1}{{\\cal R}_T(r_1)}\\left(-\\frac{1}{2}\\frac{d^2}{dr_1^2}-\n",
      "     \\frac{1}{r_1}\\frac{d}{dr_1}\n",
      "     -\\frac{Z}{r_1}\\right){\\cal R}_T(r_1) + \\mbox{finite terms}\n",
      "$$"
     ]
    },
    {
     "cell_type": "markdown",
     "metadata": {},
     "source": [
      "For small values of $r_1$, the terms which dominate are"
     ]
    },
    {
     "cell_type": "markdown",
     "metadata": {},
     "source": [
      "$$\n",
      "\\lim_{r_1 \\rightarrow 0}E_L(R)=\n",
      "    \\frac{1}{{\\cal R}_T(r_1)}\\left(-\n",
      "     \\frac{1}{r_1}\\frac{d}{dr_1}\n",
      "     -\\frac{Z}{r_1}\\right){\\cal R}_T(r_1),\n",
      "$$"
     ]
    },
    {
     "cell_type": "markdown",
     "metadata": {},
     "source": [
      "since the second derivative does not diverge due to the finiteness of\n",
      "$\\Psi$ at the origin.\n",
      "\n",
      "### Quantum Monte Carlo\n",
      "\n",
      "This results in"
     ]
    },
    {
     "cell_type": "markdown",
     "metadata": {},
     "source": [
      "$$\n",
      "\\frac{1}{{\\cal R}_T(r_1)}\\frac{d {\\cal R}_T(r_1)}{dr_1}=-Z,\n",
      "$$"
     ]
    },
    {
     "cell_type": "markdown",
     "metadata": {},
     "source": [
      "and"
     ]
    },
    {
     "cell_type": "markdown",
     "metadata": {},
     "source": [
      "$$\n",
      "{\\cal R}_T(r_1)\\propto e^{-Zr_1}.\n",
      "$$"
     ]
    },
    {
     "cell_type": "markdown",
     "metadata": {},
     "source": [
      "A similar condition applies to electron 2 as well.\n",
      "For orbital momenta $l > 0$ we have"
     ]
    },
    {
     "cell_type": "markdown",
     "metadata": {},
     "source": [
      "$$\n",
      "\\frac{1}{{\\cal R}_T(r)}\\frac{d {\\cal R}_T(r)}{dr}=-\\frac{Z}{l+1}.\n",
      "$$"
     ]
    },
    {
     "cell_type": "markdown",
     "metadata": {},
     "source": [
      "Similalry, studying the case $r_{12}\\rightarrow 0$ we can write\n",
      "a possible trial wave function as"
     ]
    },
    {
     "cell_type": "markdown",
     "metadata": {},
     "source": [
      "<!-- Equation labels as ordinary links -->\n",
      "<a name=\"eq:wavehelium2\"/>\n",
      "\n",
      "$$\n",
      "\\psi_T({\\bf R})=e^{-\\alpha(r_1+r_2)}e^{\\beta r_{12}}.\n",
      "    \\label{eq:wavehelium2} \\tag{52}\n",
      "$$"
     ]
    },
    {
     "cell_type": "markdown",
     "metadata": {},
     "source": [
      "The last equation can be generalized to"
     ]
    },
    {
     "cell_type": "markdown",
     "metadata": {},
     "source": [
      "$$\n",
      "\\psi_T({\\bf R})=\\phi({\\bf r}_1)\\phi({\\bf r}_2)\\dots\\phi({\\bf r}_N)\n",
      "                   \\prod_{i < j}f(r_{ij}),\n",
      "$$"
     ]
    },
    {
     "cell_type": "markdown",
     "metadata": {},
     "source": [
      "for a system with $N$ electrons or particles.\n",
      "\n",
      "### VMC code for helium, `vmc_para.cpp`"
     ]
    },
    {
     "cell_type": "markdown",
     "metadata": {},
     "source": [
      "        //  Here we define global variables  used in various functions\n",
      "        //  These can be changed by reading from file the different parameters\n",
      "        int dimension = 3; // three-dimensional system\n",
      "        int charge = 2;  //  we fix the charge to be that of the helium atom\n",
      "        int my_rank, numprocs;  //  these are the parameters used by MPI  to\n",
      "                                //    define which node and how many\n",
      "        double step_length = 1.0;  //  we fix the brute force jump to 1 Bohr radius\n",
      "        int number_particles  = 2;  //  we fix also the number of electrons to be 2\n"
     ]
    },
    {
     "cell_type": "markdown",
     "metadata": {},
     "source": [
      "### VMC code for helium, `vmc_para.cpp`, main part"
     ]
    },
    {
     "cell_type": "markdown",
     "metadata": {},
     "source": [
      "          //  MPI initializations\n",
      "          MPI_Init (&argc, &argv);\n",
      "          MPI_Comm_size (MPI_COMM_WORLD, &numprocs);\n",
      "          MPI_Comm_rank (MPI_COMM_WORLD, &my_rank);\n",
      "          time_start = MPI_Wtime();\n",
      "        \n",
      "          if (my_rank == 0 && argc <= 2) {\n",
      "            cout << \"Bad Usage: \" << argv[0] <<\n",
      "              \" read also output file on same line\" << endl;\n",
      "            exit(1);\n",
      "        \n",
      "          if (my_rank == 0 && argc > 2) {\n",
      "            outfilename=argv[1];\n",
      "            ofile.open(outfilename);\n",
      "        \n"
     ]
    },
    {
     "cell_type": "markdown",
     "metadata": {},
     "source": [
      "### VMC code for helium, `vmc_para.cpp`, main part"
     ]
    },
    {
     "cell_type": "markdown",
     "metadata": {},
     "source": [
      "        // Setting output file name for this rank:\n",
      "        ostringstream ost;\n",
      "        ost << \"blocks_rank\" << my_rank << \".dat\";\n",
      "        // Open file for writing:\n",
      "        blockofile.open(ost.str().c_str(), ios::out | ios::binary);\n",
      "        \n",
      "        total_cumulative_e = new double[max_variations+1];\n",
      "        total_cumulative_e2 = new double[max_variations+1];\n",
      "        cumulative_e = new double[max_variations+1];\n",
      "        cumulative_e2 = new double[max_variations+1];\n",
      "        \n",
      "        //  initialize the arrays  by zeroing them\n",
      "        for( i=1; i <= max_variations; i++){\n",
      "           cumulative_e[i] = cumulative_e2[i]  = 0.0;\n",
      "           total_cumulative_e[i] = total_cumulative_e2[i]  = 0.0;\n",
      "        \n"
     ]
    },
    {
     "cell_type": "markdown",
     "metadata": {},
     "source": [
      "### VMC code for helium, `vmc_para.cpp`, main part"
     ]
    },
    {
     "cell_type": "markdown",
     "metadata": {},
     "source": [
      "        // broadcast the total number of  variations\n",
      "        MPI_Bcast (&max_variations, 1, MPI_INT, 0, MPI_COMM_WORLD);\n",
      "        MPI_Bcast (&number_cycles, 1, MPI_INT, 0, MPI_COMM_WORLD);\n",
      "        total_number_cycles = number_cycles*numprocs;\n",
      "        // array to store all energies for last variation of alpha\n",
      "        all_energies = new double[number_cycles+1];\n",
      "        //  Do the mc sampling  and accumulate data with MPI_Reduce\n",
      "        mc_sampling(max_variations, number_cycles, cumulative_e,\n",
      "                      cumulative_e2, all_energies);\n",
      "        //  Collect data in total averages\n",
      "        for( i=1; i <= max_variations; i++){\n",
      "          MPI_Reduce(&cumulative_e[i], &total_cumulative_e[i], 1, MPI_DOUBLE,\n",
      "                                                MPI_SUM, 0, MPI_COMM_WORLD);\n",
      "          MPI_Reduce(&cumulative_e2[i], &total_cumulative_e2[i], 1, MPI_DOUBLE,\n",
      "                                       MPI_SUM, 0, MPI_COMM_WORLD);\n",
      "        \n"
     ]
    },
    {
     "cell_type": "markdown",
     "metadata": {},
     "source": [
      "### VMC code for helium, `vmc_para.cpp`, main part"
     ]
    },
    {
     "cell_type": "markdown",
     "metadata": {},
     "source": [
      "        blockofile.write((char*)(all_energies+1),\n",
      "        \t\t   number_cycles*sizeof(double));\n",
      "        blockofile.close();\n",
      "        delete [] total_cumulative_e; delete [] total_cumulative_e2;\n",
      "        delete [] cumulative_e; delete [] cumulative_e2; delete [] all_energies;\n",
      "        // End MPI\n",
      "        MPI_Finalize ();\n",
      "        return 0;\n",
      "        }  //  end of main function\n"
     ]
    },
    {
     "cell_type": "markdown",
     "metadata": {},
     "source": [
      "### VMC code for helium, `vmc_para.cpp`, sampling"
     ]
    },
    {
     "cell_type": "markdown",
     "metadata": {},
     "source": [
      "         alpha = 0.5*charge;\n",
      "         // every node has its own seed for the random numbers\n",
      "         idum = -1-my_rank;\n",
      "         // allocate matrices which contain the position of the particles\n",
      "         r_old =(double **)matrix(number_particles,dimension,sizeof(double));\n",
      "         r_new =(double **)matrix(number_particles,dimension,sizeof(double));\n",
      "         for (i = 0; i < number_particles; i++) {\n",
      "            for ( j=0; j < dimension; j++) {\n",
      "              r_old[i][j] = r_new[i][j] = 0;\n",
      "        \n",
      "         // loop over variational parameters\n",
      "        \n"
     ]
    },
    {
     "cell_type": "markdown",
     "metadata": {},
     "source": [
      "### VMC code for helium, `vmc_para.cpp`, sampling"
     ]
    },
    {
     "cell_type": "markdown",
     "metadata": {},
     "source": [
      "          for (variate=1; variate <= max_variations; variate++){\n",
      "            // initialisations of variational parameters and energies\n",
      "            alpha += 0.1;\n",
      "            energy = energy2 = 0; accept =0; delta_e=0;\n",
      "            //  initial trial position, note calling with alpha\n",
      "            for (i = 0; i < number_particles; i++) {\n",
      "              for ( j=0; j < dimension; j++) {\n",
      "        \t  r_old[i][j] = step_length*(ran2(&idum)-0.5);\n",
      "        \n",
      "            wfold = wave_function(r_old, alpha);\n"
     ]
    },
    {
     "cell_type": "markdown",
     "metadata": {},
     "source": [
      "### VMC code for helium, `vmc_para.cpp`, sampling"
     ]
    },
    {
     "cell_type": "markdown",
     "metadata": {},
     "source": [
      "        // loop over monte carlo cycles\n",
      "        for (cycles = 1; cycles <= number_cycles; cycles++){\n",
      "           // new position\n",
      "           for (i = 0; i < number_particles; i++) {\n",
      "               for ( j=0; j < dimension; j++) {\n",
      "          \t   r_new[i][j] = r_old[i][j]+step_length*(ran2(&idum)-0.5);\n",
      "        \n",
      "        //  for the other particles we need to set the position to the old position since\n",
      "        //  we move only one particle at the time\n",
      "             for (k = 0; k < number_particles; k++) {\n",
      "        \t if ( k != i) {\n",
      "        \t    for ( j=0; j < dimension; j++) {\n",
      "        \t      r_new[k][j] = r_old[k][j];\n",
      "        \t    }\n",
      "        \t  }\n",
      "        \n"
     ]
    },
    {
     "cell_type": "markdown",
     "metadata": {},
     "source": [
      "### VMC code for helium, `vmc_para.cpp`, sampling"
     ]
    },
    {
     "cell_type": "markdown",
     "metadata": {},
     "source": [
      "              wfnew = wave_function(r_new, alpha);\n",
      "        // The Metropolis test is performed by moving one particle at the time\n",
      "              if(ran2(&idum) <= wfnew*wfnew/wfold/wfold ) {\n",
      "        \t  for ( j=0; j < dimension; j++) {\n",
      "        \t    r_old[i][j]=r_new[i][j];\n",
      "        \t  }\n",
      "        \t  wfold = wfnew;\n",
      "        \t}\n",
      "              }  //  end of loop over particles\n"
     ]
    },
    {
     "cell_type": "markdown",
     "metadata": {},
     "source": [
      "### VMC code for helium, `vmc_para.cpp`, sampling"
     ]
    },
    {
     "cell_type": "markdown",
     "metadata": {},
     "source": [
      "              // compute local energy\n",
      "              delta_e = local_energy(r_old, alpha, wfold);\n",
      "              // save all energies on last variate\n",
      "              if(variate==max_variations){\n",
      "        \t   all_energies[cycles] = delta_e;\n",
      "        \n",
      "              // update energies\n",
      "              energy += delta_e;\n",
      "              energy2 += delta_e*delta_e;\n",
      "            }   // end of loop over MC trials\n",
      "            // update the energy average and its squared\n",
      "            cumulative_e[variate] = energy;\n",
      "            cumulative_e2[variate] = energy2;\n",
      "          }    // end of loop over variational  steps\n"
     ]
    },
    {
     "cell_type": "markdown",
     "metadata": {},
     "source": [
      "### VMC code for helium, `vmc_para.cpp`, wave function"
     ]
    },
    {
     "cell_type": "markdown",
     "metadata": {},
     "source": [
      "        // Function to compute the squared wave function, simplest form\n",
      "        \n",
      "        double  wave_function(double **r, double alpha)\n",
      "        {\n",
      "          int i, j, k;\n",
      "          double wf, argument, r_single_particle, r_12;\n",
      "        \n",
      "          argument = wf = 0;\n",
      "          for (i = 0; i < number_particles; i++) {\n",
      "            r_single_particle = 0;\n",
      "            for (j = 0; j < dimension; j++) {\n",
      "              r_single_particle  += r[i][j]*r[i][j];\n",
      "        \n",
      "            argument += sqrt(r_single_particle);\n",
      "        \n",
      "          wf = exp(-argument*alpha) ;\n",
      "          return wf;\n",
      "        \n"
     ]
    },
    {
     "cell_type": "markdown",
     "metadata": {},
     "source": [
      "### VMC code for helium, `vmc_para.cpp`, local energy"
     ]
    },
    {
     "cell_type": "markdown",
     "metadata": {},
     "source": [
      "        // Function to calculate the local energy with num derivative\n",
      "        \n",
      "        double  local_energy(double **r, double alpha, double wfold)\n",
      "        {\n",
      "          int i, j , k;\n",
      "          double e_local, wfminus, wfplus, e_kinetic, e_potential, r_12,\n",
      "            r_single_particle;\n",
      "          double **r_plus, **r_minus;\n",
      "        \n"
     ]
    },
    {
     "cell_type": "markdown",
     "metadata": {},
     "source": [
      "### VMC code for helium, `vmc_para.cpp`, local energy"
     ]
    },
    {
     "cell_type": "markdown",
     "metadata": {},
     "source": [
      "          // allocate matrices which contain the position of the particles\n",
      "          // the function matrix is defined in the progam library\n",
      "          r_plus =(double **)matrix(number_particles,dimension,sizeof(double));\n",
      "          r_minus =(double **)matrix(number_particles,dimension,sizeof(double));\n",
      "          for (i = 0; i < number_particles; i++) {\n",
      "            for ( j=0; j < dimension; j++) {\n",
      "              r_plus[i][j] = r_minus[i][j] = r[i][j];\n",
      "        \n"
     ]
    },
    {
     "cell_type": "markdown",
     "metadata": {},
     "source": [
      "### VMC code for helium, `vmc_para.cpp`, local energy"
     ]
    },
    {
     "cell_type": "markdown",
     "metadata": {},
     "source": [
      "          // compute the kinetic energy\n",
      "          e_kinetic = 0;\n",
      "          for (i = 0; i < number_particles; i++) {\n",
      "            for (j = 0; j < dimension; j++) {\n",
      "              r_plus[i][j] = r[i][j]+h;\n",
      "              r_minus[i][j] = r[i][j]-h;\n",
      "              wfminus = wave_function(r_minus, alpha);\n",
      "              wfplus  = wave_function(r_plus, alpha);\n",
      "              e_kinetic -= (wfminus+wfplus-2*wfold);\n",
      "              r_plus[i][j] = r[i][j];\n",
      "              r_minus[i][j] = r[i][j];\n",
      "        \n",
      "        // include electron mass and hbar squared and divide by wave function\n",
      "          e_kinetic = 0.5*h2*e_kinetic/wfold;\n"
     ]
    },
    {
     "cell_type": "markdown",
     "metadata": {},
     "source": [
      "### VMC code for helium, `vmc_para.cpp`, local energy"
     ]
    },
    {
     "cell_type": "markdown",
     "metadata": {},
     "source": [
      "          // compute the potential energy\n",
      "          e_potential = 0;\n",
      "          // contribution from electron-proton potential\n",
      "          for (i = 0; i < number_particles; i++) {\n",
      "            r_single_particle = 0;\n",
      "            for (j = 0; j < dimension; j++) {\n",
      "              r_single_particle += r[i][j]*r[i][j];\n",
      "        \n",
      "            e_potential -= charge/sqrt(r_single_particle);\n",
      "        \n"
     ]
    },
    {
     "cell_type": "markdown",
     "metadata": {},
     "source": [
      "### VMC code for helium, `vmc_para.cpp`, local energy"
     ]
    },
    {
     "cell_type": "markdown",
     "metadata": {},
     "source": [
      "          // contribution from electron-electron potential\n",
      "          for (i = 0; i < number_particles-1; i++) {\n",
      "            for (j = i+1; j < number_particles; j++) {\n",
      "              r_12 = 0;\n",
      "              for (k = 0; k < dimension; k++) {\n",
      "        \tr_12 += (r[i][k]-r[j][k])*(r[i][k]-r[j][k]);\n",
      "        \n",
      "              e_potential += 1/sqrt(r_12);\n",
      "        \n"
     ]
    },
    {
     "cell_type": "markdown",
     "metadata": {},
     "source": [
      "### Structuring the code\n",
      "\n",
      "During the development of our code we need to make several checks. It is also very instructive to compute a closed form expression for the local energy. Since our wave function is rather simple  it is straightforward\n",
      "to find an analytic expressions.  Consider first the case of the simple helium function"
     ]
    },
    {
     "cell_type": "markdown",
     "metadata": {},
     "source": [
      "$$\n",
      "\\Psi_T(\\mathbf{r}_1,\\mathbf{r}_2) = e^{-\\alpha(r_1+r_2)}\n",
      "$$"
     ]
    },
    {
     "cell_type": "markdown",
     "metadata": {},
     "source": [
      "The local energy is for this case"
     ]
    },
    {
     "cell_type": "markdown",
     "metadata": {},
     "source": [
      "$$\n",
      "E_{L1} = \\left(\\alpha-Z\\right)\\left(\\frac{1}{r_1}+\\frac{1}{r_2}\\right)+\\frac{1}{r_{12}}-\\alpha^2\n",
      "$$"
     ]
    },
    {
     "cell_type": "markdown",
     "metadata": {},
     "source": [
      "which gives an expectation value for the local energy given by"
     ]
    },
    {
     "cell_type": "markdown",
     "metadata": {},
     "source": [
      "$$\n",
      "\\langle E_{L1} \\rangle = \\alpha^2-2\\alpha\\left(Z-\\frac{5}{16}\\right)\n",
      "$$"
     ]
    },
    {
     "cell_type": "markdown",
     "metadata": {},
     "source": [
      "### Structuring the code\n",
      "\n",
      "With analytic formulae we  can speed up the computation of the correlation. In our case\n",
      "we write it as"
     ]
    },
    {
     "cell_type": "markdown",
     "metadata": {},
     "source": [
      "$$\n",
      "\\Psi_C= \\exp{\\left\\{\\sum_{i < j}\\frac{ar_{ij}}{1+\\beta r_{ij}}\\right\\}},\n",
      "$$"
     ]
    },
    {
     "cell_type": "markdown",
     "metadata": {},
     "source": [
      "which means that the gradient needed for the local energy\n",
      "can be calculated analytically.\n",
      "This will speed up your code since the computation of the correlation part and the Slater determinant are the most\n",
      "time consuming parts in your code.\n",
      "\n",
      "We will refer to this correlation function as $\\Psi_C$ or the *linear Pad\\'e-Jastrow*.\n",
      "\n",
      "### Structuring the code\n",
      "\n",
      "We can test this by computing the local energy for our helium wave function"
     ]
    },
    {
     "cell_type": "markdown",
     "metadata": {},
     "source": [
      "$$\n",
      "\\psi_{T}({\\bf r}_1,{\\bf r}_2) =\n",
      "   \\exp{\\left(-\\alpha(r_1+r_2)\\right)}\n",
      "   \\exp{\\left(\\frac{r_{12}}{2(1+\\beta r_{12})}\\right)},\n",
      "$$"
     ]
    },
    {
     "cell_type": "markdown",
     "metadata": {},
     "source": [
      "with $\\alpha$ and $\\beta$ as variational parameters.\n",
      "\n",
      "The local energy is for this case"
     ]
    },
    {
     "cell_type": "markdown",
     "metadata": {},
     "source": [
      "$$\n",
      "E_{L2} = E_{L1}+\\frac{1}{2(1+\\beta r_{12})^2}\\left\\{\\frac{\\alpha(r_1+r_2)}{r_{12}}(1-\\frac{\\mathbf{r}_1\\mathbf{r}_2}{r_1r_2})-\\frac{1}{2(1+\\beta r_{12})^2}-\\frac{2}{r_{12}}+\\frac{2\\beta}{1+\\beta r_{12}}\\right\\}\n",
      "$$"
     ]
    },
    {
     "cell_type": "markdown",
     "metadata": {},
     "source": [
      "Getting a closed form expression for the local energy means that you don't need to\n",
      "compute derivatives numerically.\n",
      "\n",
      "### Structuring the code, simple task\n",
      "\n",
      "  * Make another copy of your code.\n",
      "\n",
      "  * Implement the closed form expression for the local energy\n",
      "\n",
      "  * Compile the new and old codes with the -pg option for profiling.\n",
      "\n",
      "  * Run both codes and profile them afterwards using `gprof <executable> > outprofile`\n",
      "\n",
      "  * Study the time usage in the file `outprofile`\n",
      "\n",
      "### Structuring the code, simple task\n",
      "\n",
      "  * Use also better compiler options like `c++ -O3`\n",
      "\n",
      "  * Can speed up considerably your code\n",
      "\n",
      "## Overview of week 48\n",
      "\n",
      "### Overview of week 48\n",
      "\n",
      "**Summary and exam discussion.**\n",
      "\n",
      "  * Monday:\n",
      "\n",
      "  * Brief repetition from last week and discussion of projects\n",
      "\n",
      "  * Project discussions and structure of report\n",
      "\n",
      "  * Summary and exam discussion\n",
      "\n",
      "\n",
      "No lecture on Tuesday. Monday is the last lecture this semester.\n",
      "\n",
      "### The report\n",
      "\n",
      "**What should it contain? A possible structure.**\n",
      "\n",
      "  * An introduction where you explain the rational for the physics case and what you have done. At the end of the introduction you should give a brief summary of the structure of the report\n",
      "\n",
      "  * Theoretical models and technicalities. This is the methods section.\n",
      "\n",
      "  * Results and discussion\n",
      "\n",
      "  * Conclusions and perspectives\n",
      "\n",
      "  * Appendix with extra material, include your program!!\n",
      "\n",
      "  * Bibliography\n",
      "\n",
      "\n",
      "\n",
      "### The report\n",
      "\n",
      "**What should I focus on? Introduction.**\n",
      "\n",
      "You don't need to answer all questions in a chronological order.  When you write the introduction you could focus on the following aspects\n",
      "\n",
      "  * Motivate the reader, the first part of the introduction gives always a motivation and tries to give the overarching ideas\n",
      "\n",
      "  * What I have done\n",
      "\n",
      "  * The structure of the report, how it is organized etc\n",
      "\n",
      "\n",
      "\n",
      "### The report\n",
      "\n",
      "**What should I focus on? Methods sections.**\n",
      "\n",
      "  * Describe the methods and algorithms\n",
      "\n",
      "  * You need to explain how you implemented the methods and also say something about the structure of your algorithm and present some parts of your code\n",
      "\n",
      "  * You should plug in some calculations to demonstrate your code, such as selected runs used to validate and verify your results. The latter is extremely important!! A reader needs to understand that your code reproduces selected benchmarks and reproduces previous results, either numerical and/or well-known closed form expressions.\n",
      "\n",
      "\n",
      "\n",
      "### The report\n",
      "\n",
      "**What should I focus on? Results.**\n",
      "\n",
      "  * Present your results\n",
      "\n",
      "  * Give a critical discussion of your work and place it in the correct context.\n",
      "\n",
      "  * Relate your work to other calculations/studies\n",
      "\n",
      "  * An eventual reader should be able to reproduce your calculations if she/he wants to do so. All input variables should be properly explained.\n",
      "\n",
      "  * Make sure that figures and tables should contain enough information in their captions, axis labels etc so that an eventual reader can gain a first impression of your work by studying figures and tables only.\n",
      "\n",
      "\n",
      "\n",
      "### The report\n",
      "\n",
      "**What should I focus on? Conclusions.**\n",
      "\n",
      "  * State your main findings and interpretations\n",
      "\n",
      "  * Try as far as possible to present perspectives for future work\n",
      "\n",
      "  * Try to discuss the pros and cons of the methods and possible improvements\n",
      "\n",
      "\n",
      "\n",
      "### The report\n",
      "\n",
      "**What should I focus on? additional material.**\n",
      "\n",
      "  * Additional calculations used to validate the codes\n",
      "\n",
      "  * Selected calculations, these can be listed with few comments\n",
      "\n",
      "  * Listing of the code if you feel this is necessary You can consider moving parts of the material from the methods section to the appendix. You can also place additional material on your webpage.\n",
      "\n",
      "\n",
      "\n",
      "### The report\n",
      "\n",
      "**What should I focus on? References.**\n",
      "\n",
      "  * Give always references to material you base your work on, either scientific articles/reports or books.\n",
      "\n",
      "  * *Wikipedia is not accepted as a scientific reference*. Under no circumstances.\n",
      "\n",
      "  * Refer to articles as: name(s) of author(s), journal, volume (boldfaced), page and year in parenthesis.\n",
      "\n",
      "  * Refer to books as: name(s) of author(s), title of book, publisher, place and year, eventual page numbers\n",
      "\n",
      "\n",
      "\n",
      "\n",
      "\n",
      "\n",
      "### Exam FYS3150/FYS4150\n",
      "\n",
      "**Pensum/syllabus.**\n",
      "\n",
      "Go to <http://www.uio.no/studier/emner/matnat/fys/FYS3150/h13/>\n",
      "and click on syllabus.\n",
      "\n",
      "For the written exam, you can bring with you 2 pages (written on both sides) with own notes. See also the exams\n",
      "from last years.\n",
      "\n",
      "\n",
      "\n",
      "\n",
      "### Exam FYS3150/FYS4150\n",
      "\n",
      "**Topics.**\n",
      "\n",
      "  * Linear algebra and eigenvalue problems. (Lecture notes chapters 6.1-6.5 and 7.1-7.5 and projects 1 and 2).\n",
      "\n",
      "  * Numerical integration, standard methods and Monte Carlo methods (Lecture notes chapters 5.1-5.5 and 11 and project 5).\n",
      "\n",
      "  * Ordinary differential equations (Lecture notes chapter 8 and projects 3 and 5 )\n",
      "\n",
      "  * Partial differential equations (Lecture notes chapter 10 and projects 4 and 5)\n",
      "\n",
      "  * Monte Carlo methods in physics (Lecture notes chapters 11, 12 and 14, project 5)\n",
      "\n",
      "\n",
      "\n",
      "\n",
      "### Exam FYS3150/FYS4150\n",
      "\n",
      "**Linear algebra and eigenvalue problems, chapters 6.1-6.5 and 7.1-7.5.**\n",
      "\n",
      "  * Know Gaussian elimination and LU decomposition (project 1)\n",
      "\n",
      "  * How to solve linear equations (project 1)\n",
      "\n",
      "  * How to obtain the inverse and the determinant of a real symmetric matrix\n",
      "\n",
      "  * Cubic spline\n",
      "\n",
      "  * Tridiagonal matrix decomposition (project 1)\n",
      "\n",
      "  * Householder's tridiagonalization technique and finding eigenvalues based on this\n",
      "\n",
      "  * Jacobi's method for finding eigenvalues (project 2)\n",
      "\n",
      "\n",
      "\n",
      "\n",
      "### Exam FYS3150/FYS4150\n",
      "\n",
      "**Numerical integration, standard methods and Monte Carlo methods (5.1-5.5 and 11).**\n",
      "\n",
      "  * Trapezoidal, rectangle and Simpson's rules\n",
      "\n",
      "  * Gaussian quadrature, emphasis on Legendre polynomials, but you need to know about other polynomials as well (project 5).\n",
      "\n",
      "  * Brute force Monte Carlo integration (project 5)\n",
      "\n",
      "  * Random numbers (simplest algo, ran0) and probability distribution functions, expectation values\n",
      "\n",
      "  * Improved Monte Carlo integration and importance sampling (project 5).\n",
      "\n",
      "\n",
      "\n",
      "\n",
      "### Exam FYS3150/FYS4150\n",
      "\n",
      "**Monte Carlo methods in physics (12 and 14).**\n",
      "\n",
      "  * Random walks and Markov chains and relation with diffusion equation (project 5)\n",
      "\n",
      "  * Metropolis algorithm, detailed balance and ergodicity (project 5)\n",
      "\n",
      "  * Applications to quantum mechanical systems (project 5)\n",
      "\n",
      "\n",
      "\n",
      "\n",
      "### Exam FYS3150/FYS4150\n",
      "\n",
      "**Ordinary differential equations (Chapter 8).**\n",
      "\n",
      "  * Euler's method and improved Euler's method, truncation errors (project 3)\n",
      "\n",
      "  * Runge Kutta methods, 2nd and 4th order, truncation errors (project 3)\n",
      "\n",
      "  * Leap-frog and Verlet algoritm (project 5)\n",
      "\n",
      "  * How to implement a second-order differential equation, both linear and non-linear. How to make your equations dimensionless.\n",
      "\n",
      "\n",
      "\n",
      "\n",
      "### Exam FYS3150/FYS4150\n",
      "\n",
      "**Partial differential equations, chapter 10.**\n",
      "\n",
      "  * Set up diffusion, Poisson and wave equations up to 2 spatial dimensions and time\n",
      "\n",
      "  * Set up the mathematical model and algorithms for these equations, with boundary and initial conditions. The stability conditions for the diffusion equation.\n",
      "\n",
      "  * Explicit, implicit and Crank-Nicolson schemes, and how to solve them. Remember that they result in triangular matrices (project 4).\n",
      "\n",
      "  * Diffusion equation in two dimensions (project 5)\n",
      "\n",
      "  * How to compute the Laplacian in Poisson's equation (project 5).\n",
      "\n",
      "  * How to solve the wave equation in one and two dimensions using an explicit scheme.\n",
      "\n",
      "\n",
      "\n",
      "x\n",
      "\n",
      "\n",
      "### Other courses in Computational Science at UiO\n",
      "\n",
      "**Bachelor/Master/PhD Courses.**\n",
      "\n",
      "  * INF-MAT4350 Numerical linear algebra\n",
      "\n",
      "  * MAT-INF3300/3310/4300/4310, PDEs and Sobolev spaces I and II\n",
      "\n",
      "  * INF-MAT3360 Partial differential equation\n",
      "\n",
      "  * INF3380 Parallell programming for scientific problems\n",
      "\n",
      "  * INF5620 Numerical methods for PDEs, finite element method\n",
      "\n",
      "  * FYS4411 Computational physics II, computational quantum mechanics.\n",
      "\n",
      "  * FYS4460: Computational statistical mechanics\n",
      "\n",
      "\n",
      "\n",
      "\n",
      "### AND, GOOD LUCK TO YOU ALL!\n",
      "\n",
      "\n",
      "<p></p>\n",
      "<img src=\"fig-slides1/Nebbdyr2.png\" width=500>\n",
      "\n",
      "\n",
      "\n",
      "\n",
      "### Version control, Git and dropbox\n",
      "\n",
      "Why version control?\n",
      "\n",
      "  * It allows you to keep track of different change made\n",
      "\n",
      "  * It allows people you collaborate with to see the recent changes\n",
      "\n",
      "  * It becomes an excellent logbook and allows people to verify your results\n",
      "\n",
      "  * It can aso be used to build up a large directory of codes, with validation examples as well Git is a very popular version control software, and easy to use. To install on ubuntu just write `cppcod sudo apt-get install git-core`.\n",
      "\n",
      "This applies to Dropbox as well.\n",
      "\n",
      "### Version control, Git\n",
      "\n",
      "When you want to start tracking a project just go to the project's directory and type"
     ]
    },
    {
     "cell_type": "markdown",
     "metadata": {},
     "source": [
      "        git init\n"
     ]
    },
    {
     "cell_type": "markdown",
     "metadata": {},
     "source": [
      "This creates a subdirectory .git tat contains all of your necessary repository files. At this point nothing in your project is tracked yet.  To start, there are a few commands you need in the beginning. As an example"
     ]
    },
    {
     "cell_type": "markdown",
     "metadata": {},
     "source": [
      "        git add *.cpp  *.hpp\n",
      "        git add ANOTHERFILE\n",
      "        git commit -m 'This is first setup of my superduper project'\n"
     ]
    },
    {
     "cell_type": "markdown",
     "metadata": {},
     "source": [
      "using"
     ]
    },
    {
     "cell_type": "markdown",
     "metadata": {},
     "source": [
      "        git status\n"
     ]
    },
    {
     "cell_type": "markdown",
     "metadata": {},
     "source": [
      "Tells you about the modifcations made. You can also standard unix commands like $mv$, $rm$ etc"
     ]
    },
    {
     "cell_type": "markdown",
     "metadata": {},
     "source": [
      "        git mv file_from file_to\n"
     ]
    },
    {
     "cell_type": "markdown",
     "metadata": {},
     "source": [
      "### Version control, Git\n",
      "\n",
      "If you want to get a copy of an existing Git repository for example,\n",
      "a project you would like to contribute to, the command you need is"
     ]
    },
    {
     "cell_type": "markdown",
     "metadata": {},
     "source": [
      "        git clone\n"
     ]
    },
    {
     "cell_type": "markdown",
     "metadata": {},
     "source": [
      "If you are familiar with other VCS systems such as Subversion, you will\n",
      "notice that the command is clone and not checkout. This is an important distinction.\n",
      "Git receives a copy of nearly all data that the server has.\n",
      "Every version of every file for the history of the project is pulled down when you run git clone.\n",
      "In fact, if your server disk gets corrupted, you can use any of the clones on any client to set the server back to the state it was in when it was cloned."
     ]
    },
    {
     "cell_type": "markdown",
     "metadata": {},
     "source": [
      "        git status\n"
     ]
    },
    {
     "cell_type": "markdown",
     "metadata": {},
     "source": [
      "### Optimization and profiling, useful for project 3\n",
      "\n",
      "Till now we have not paid much attention to speed and possible optimization possibilities\n",
      "inherent in the various compilers. We have compiled and linked as"
     ]
    },
    {
     "cell_type": "markdown",
     "metadata": {},
     "source": [
      "        c++  -c  mycode.cpp\n",
      "        c++  -o  mycode.exe  mycode.o\n"
     ]
    },
    {
     "cell_type": "markdown",
     "metadata": {},
     "source": [
      "This is what we call a flat compiler option and should be used when we develop the code.\n",
      "It produces normally a very large and slow code when translated to machine instructions.\n",
      "We use this option for debugging and for establishing the correct program output because\n",
      "every operation is done precisely as the user specified it.\n",
      "\n",
      "It is instructive to look up the compiler manual for further instructions"
     ]
    },
    {
     "cell_type": "markdown",
     "metadata": {},
     "source": [
      "        man c++  >  out_to_file\n"
     ]
    },
    {
     "cell_type": "markdown",
     "metadata": {},
     "source": [
      "### Optimization and profiling\n",
      "\n",
      "We have additional compiler options for optimization. These may include procedure inlining where\n",
      "performance may be improved, moving constants inside loops outside the loop,\n",
      "identify potential parallelism, include automatic vectorization or replace a division with a reciprocal\n",
      "and a multiplication if this speeds up the code."
     ]
    },
    {
     "cell_type": "markdown",
     "metadata": {},
     "source": [
      "        c++  -O3 -c  mycode.cpp\n",
      "        c++  -O3 -o  mycode.exe  mycode.o\n"
     ]
    },
    {
     "cell_type": "markdown",
     "metadata": {},
     "source": [
      "This is the recommended option. {\\bf But you must check that you get the same results as previously}.\n",
      "\n",
      "### Optimization and profiling\n",
      "\n",
      "It is also useful to profile your program under the development stage.\n",
      "You would then compile with (Mac and unix/linux)"
     ]
    },
    {
     "cell_type": "markdown",
     "metadata": {},
     "source": [
      "        c++  -pg -O3 -c  mycode.cpp\n",
      "        c++  -pg -O3 -o  mycode.exe  mycode.o\n"
     ]
    },
    {
     "cell_type": "markdown",
     "metadata": {},
     "source": [
      "After you have run the code you can obtain the profiling information via"
     ]
    },
    {
     "cell_type": "markdown",
     "metadata": {},
     "source": [
      "        gprof mycode.exe >  out_to_profile\n"
     ]
    },
    {
     "cell_type": "markdown",
     "metadata": {},
     "source": [
      "When you have profiled properly your code, you must take out this option as it\n",
      "increases your CPU expenditure.\n",
      "\n",
      "### Optimization and profiling\n",
      "\n",
      "Other hints\n",
      "\n",
      "  * avoid if tests or call to functions inside loops, if possible.\n",
      "\n",
      "  * avoid multiplication with constants inside loops if possible.\n",
      "\n",
      "Bad code"
     ]
    },
    {
     "cell_type": "markdown",
     "metadata": {},
     "source": [
      "        for i = 1:n a(i) = b(i) +c*d e = g(k) end\n"
     ]
    },
    {
     "cell_type": "markdown",
     "metadata": {},
     "source": [
      "Better code"
     ]
    },
    {
     "cell_type": "markdown",
     "metadata": {},
     "source": [
      "        temp = c*d for i = 1:n a(i) = b(i) + temp end e = g(k)\n"
     ]
    },
    {
     "cell_type": "markdown",
     "metadata": {},
     "source": [
      "### What do we have then?\n",
      "\n",
      "  * Several functions under the program link, see the file OOcodes.tar.gz\n",
      "\n",
      "  * Matrix and array manipulations (similar to Blitz++/Armadillo)\n",
      "\n",
      "  * Random numbers and numerical integration\n",
      "\n",
      "  * Functions to convert arrays from C++ to Numpy and viceversa\n",
      "\n",
      "  * Numerical derivatives and differential equation solvers. These files can serve as a help when you want to start to write your own classes. We will discuss some of these classes during the course.\n",
      "\n",
      "### But what should I do else????? Some hints.\n",
      "\n",
      "If your needs (common in most problems) include handling of large arrays and linear\n",
      "algebra problem, I would not recommend to write your own vector-matrix or more general array handling class.\n",
      "It is easyto make error.\n",
      "\n",
      "  * Old-fashioned allocation of arrays and explicit handling of all loops in for example matrix-matrix multiplication.\n",
      "\n",
      "  * You can use what we have developed for Blitz++ or the Array class (but more limited than Blitz++)\n",
      "\n",
      "  * or (recommended) you can use armadillo, a great C++ library for handling arrays and doing linear algebra.\n",
      "\n",
      "  * Armadillo provides a user friendly interface to lapack and blas functions. Here an example of using the Blas function {\\bf DGEMM} for matrix-matrix multiplication.\n",
      "\n",
      "  * After having installed armadillo, compile with {\\bf c++ -O3 -o test.x test.cpp -lblas -lamardillo -llapack}.\n",
      "\n",
      "### Matrix-matrix multiplication"
     ]
    },
    {
     "cell_type": "markdown",
     "metadata": {},
     "source": [
      "        #include <cstdlib>\n",
      "        #include <ios>\n",
      "        #include <iostream>\n",
      "        #include <armadillo>\n",
      "        using namespace std;\n",
      "        using namespace arma;\n",
      "        \n",
      "        /*Because fortran files don't have any header files,\n",
      "         *we need to declare the functions ourself.*/\n",
      "        extern \"C\"\n",
      "        {\n",
      "            void dgemm_(char*, char*, int*, int*, int*, double*,\n",
      "                    double*, int*, double*, int*, double*, double*, int*);\n",
      "        \n"
     ]
    },
    {
     "cell_type": "markdown",
     "metadata": {},
     "source": [
      "### Matrix-matrix multiplication"
     ]
    },
    {
     "cell_type": "markdown",
     "metadata": {},
     "source": [
      "        int main(int argc, char** argv)\n",
      "        {\n",
      "            //Dimensions\n",
      "            int n = atoi(argv[1]);\n",
      "            int m = n;\n",
      "            int p = m;\n",
      "        \n",
      "            /*Create random matrices\n",
      "             * (note that older versions of armadillo uses \"rand\" instead of \"randu\") */\n",
      "            srand(time(NULL));\n",
      "            mat A(n, p);\n",
      "            A.randu();\n"
     ]
    },
    {
     "cell_type": "markdown",
     "metadata": {},
     "source": [
      "### Matrix-matrix multiplication"
     ]
    },
    {
     "cell_type": "markdown",
     "metadata": {},
     "source": [
      "            // Pretty print, and pretty save, are as easy as the two following lines.\n",
      "            //    cout << A << endl;\n",
      "            //    A.save(\"A.mat\", raw_ascii);\n",
      "            mat A_trans = trans(A);\n",
      "            mat B(p, m);\n",
      "            B.randu();\n",
      "            mat C(n, m);\n",
      "            //    cout << B << endl;\n",
      "            //    B.save(\"B.mat\", raw_ascii);\n"
     ]
    },
    {
     "cell_type": "markdown",
     "metadata": {},
     "source": [
      "### Matrix-matrix multiplication"
     ]
    },
    {
     "cell_type": "markdown",
     "metadata": {},
     "source": [
      "            //   ARMADILLO  TEST\n",
      "            cout << \"Starting armadillo multiplication\\n\";\n",
      "            //Simple wall_clock timer is a part of armadillo.\n",
      "            wall_clock timer;\n",
      "            timer.tic();\n",
      "            C = A*B;\n",
      "            double num_sec = timer.toc();\n",
      "            cout << \"-- Finished in \" << num_sec << \" seconds.\\n\\n\";\n"
     ]
    },
    {
     "cell_type": "markdown",
     "metadata": {},
     "source": [
      "### Matrix-matrix multiplication"
     ]
    },
    {
     "cell_type": "markdown",
     "metadata": {},
     "source": [
      "            C = zeros<mat> (n, m);\n",
      "            cout << \"Starting blas multiplication.\\n\";\n",
      "        \n",
      "                char trans = 'N';\n",
      "                double alpha = 1.0;\n",
      "                double beta = 0.0;\n",
      "                int _numRowA = A.n_rows;\n",
      "                int _numColA = A.n_cols;\n",
      "                int _numRowB = B.n_rows;\n",
      "                int _numColB = B.n_cols;\n",
      "                int _numRowC = C.n_rows;\n",
      "                int _numColC = C.n_cols;\n",
      "                int lda = (A.n_rows >= A.n_cols) ? A.n_rows : A.n_cols;\n",
      "                int ldb = (B.n_rows >= B.n_cols) ? B.n_rows : B.n_cols;\n",
      "                int ldc = (C.n_rows >= C.n_cols) ? C.n_rows : C.n_cols;\n"
     ]
    },
    {
     "cell_type": "markdown",
     "metadata": {},
     "source": [
      "### Matrix-matrix multiplication, calling DGEMM"
     ]
    },
    {
     "cell_type": "markdown",
     "metadata": {},
     "source": [
      "                dgemm_(&trans, &trans, &_numRowA, &_numColB, &_numColA, &alpha,\n",
      "                        A.memptr(), &lda, B.memptr(), &ldb, &beta, C.memptr(), &ldc);\n",
      "        \n"
     ]
    },
    {
     "cell_type": "markdown",
     "metadata": {},
     "source": [
      "## Overview of week 44\n",
      "\n",
      "### Overview of week 44\n",
      "\n",
      "**Monte Carlo methods, chapter 14.**\n",
      "\n",
      "  * Monday: Repetition from last week\n",
      "\n",
      "  * Statistical physics and the Metropolis algorithm (covered by chapter 13)\n",
      "\n",
      "  * Discussion of project 4.\n",
      "\n",
      "  * Wednesday:\n",
      "\n",
      "  * Statistical physics and the Metropolis algorithm (covered by chapter 13)\n",
      "\n",
      "  * Discussion of project 4.\n",
      "\n",
      "  * Introduction to differential equations\n",
      "\n",
      "  * Differential equations, general properties.\n",
      "\n",
      "  * Runge-Kutta methods Chapter 14 on quantum mechanical Monte Carlo is not part of this year's curriculum.\n",
      "\n",
      "\n",
      "\n",
      "### Most Common Ensembles in Statistical Physics\n",
      "\n",
      "\\begin{tabular}{|l|c|c|c|c|}\n",
      "\\hline\n",
      "&&&&\\\\\n",
      "&\\multicolumn{1}{|c}{Microcanonical}&\\multicolumn{1}{|c}{Canonical}&\n",
      "\\multicolumn{1}{|c}{Grand can.}&\\multicolumn{1}{|c|}{Pressure can.}\\\\\n",
      "&&&&\\\\\n",
      "\\hline\n",
      "&&&&\\\\\n",
      "Exchange of heat  &no&yes&yes&yes\\\\\n",
      "with the environment&&&&\\\\\n",
      "&&&&\\\\\n",
      "Exchange of particles&no&no&yes&no\\\\\n",
      "with the environemt&&&&\\\\\n",
      "&&&&\\\\\n",
      "Thermodynamical&$V, \\cal M, \\cal D$&$V, \\cal M, \\cal D$&$V, \\cal M, \\cal D$\n",
      "&$P, \\cal H, \\cal E$\\\\\n",
      "parameters&     $E$&$T$&$T$&$T$\\\\\n",
      "\t    &$N$&$N$&$\\mu$&$N$\\\\\n",
      "&&&&\\\\\n",
      "Potential& Entropy& Helmholtz & $PV$ & Gibbs\\\\\n",
      "&&&&\\\\\n",
      "Energy &Internal& Internal & Internal & Enthalpy\\\\\n",
      "&&&&\\\\\n",
      "\n",
      "&&&&\\\\\n",
      "&&&&\\\\ \\hline\n",
      "\\end{tabular}\n",
      "\n",
      "### Microcanonical Ensemble\n",
      "\n",
      "Entropy"
     ]
    },
    {
     "cell_type": "markdown",
     "metadata": {},
     "source": [
      "$$\n",
      "\\begin{equation}S=k_{B}ln\\Omega\\end{equation}\n",
      "$$"
     ]
    },
    {
     "cell_type": "markdown",
     "metadata": {},
     "source": [
      "$$\n",
      "\\begin{equation}dS=\\frac{1}{T}dE+\\frac{p}{T}dV-\\frac{\\mu}{T}dN\\end{equation}\n",
      "$$"
     ]
    },
    {
     "cell_type": "markdown",
     "metadata": {},
     "source": [
      "Temperature"
     ]
    },
    {
     "cell_type": "markdown",
     "metadata": {},
     "source": [
      "$$\n",
      "\\begin{equation}\\frac{1}{k_{B}T}=\\left(\\frac{\\partial ln\\Omega}{\\partial E}\\right)_{N, V}\\end{equation}\n",
      "$$"
     ]
    },
    {
     "cell_type": "markdown",
     "metadata": {},
     "source": [
      "Pressure"
     ]
    },
    {
     "cell_type": "markdown",
     "metadata": {},
     "source": [
      "$$\n",
      "\\begin{equation}\\frac{p}{k_{B}T}=\\left(\\frac{\\partial ln\\Omega}{\\partial V}\\right)_{N, E}\\end{equation}\n",
      "$$"
     ]
    },
    {
     "cell_type": "markdown",
     "metadata": {},
     "source": [
      "Chemical potential"
     ]
    },
    {
     "cell_type": "markdown",
     "metadata": {},
     "source": [
      "$$\n",
      "\\begin{equation}\\frac{\\mu}{k_{B}T}=-\\left(\\frac{\\partial ln\\Omega}{\\partial N}\\right)_{V, E}\\end{equation}\n",
      "$$"
     ]
    },
    {
     "cell_type": "markdown",
     "metadata": {},
     "source": [
      "### Canonical Ensemble\n",
      "\n",
      "Helmholtz Free Energy"
     ]
    },
    {
     "cell_type": "markdown",
     "metadata": {},
     "source": [
      "$$\n",
      "\\begin{equation}F=-k_{B}TlnZ\\end{equation}\n",
      "$$"
     ]
    },
    {
     "cell_type": "markdown",
     "metadata": {},
     "source": [
      "$$\n",
      "\\begin{equation}dF=-SdT-pdV+\\mu dN\\end{equation}\n",
      "$$"
     ]
    },
    {
     "cell_type": "markdown",
     "metadata": {},
     "source": [
      "Entropy"
     ]
    },
    {
     "cell_type": "markdown",
     "metadata": {},
     "source": [
      "$$\n",
      "\\begin{equation}S =k_{B}lnZ\n",
      "+k_{B}T\\left(\\frac{\\partial lnZ}{\\partial T}\\right)_{N, V}\\end{equation}\n",
      "$$"
     ]
    },
    {
     "cell_type": "markdown",
     "metadata": {},
     "source": [
      "Pressure"
     ]
    },
    {
     "cell_type": "markdown",
     "metadata": {},
     "source": [
      "$$\n",
      "\\begin{equation}p=k_{B}T\\left(\\frac{\\partial lnZ}{\\partial V}\\right)_{N, T}\\end{equation}\n",
      "$$"
     ]
    },
    {
     "cell_type": "markdown",
     "metadata": {},
     "source": [
      "Chemical Potential"
     ]
    },
    {
     "cell_type": "markdown",
     "metadata": {},
     "source": [
      "$$\n",
      "\\begin{equation}\\mu =-k_{B}T\\left(\\frac{\\partial lnZ}{\\partial N}\\right)_{V, T}\\end{equation}\n",
      "$$"
     ]
    },
    {
     "cell_type": "markdown",
     "metadata": {},
     "source": [
      "Energy (internal only)"
     ]
    },
    {
     "cell_type": "markdown",
     "metadata": {},
     "source": [
      "$$\n",
      "\\begin{equation}E =k_{B}T^{2}\\left(\\frac{\\partial lnZ}{\\partial T}\\right)_{V, N}\\end{equation}\n",
      "$$"
     ]
    },
    {
     "cell_type": "markdown",
     "metadata": {},
     "source": [
      "### Grand Canonical Ensemble\n",
      "\n",
      "Potential"
     ]
    },
    {
     "cell_type": "markdown",
     "metadata": {},
     "source": [
      "$$\n",
      "\\begin{equation}pV=k_{B}Tln\\Xi\\end{equation}\n",
      "$$"
     ]
    },
    {
     "cell_type": "markdown",
     "metadata": {},
     "source": [
      "$$\n",
      "\\begin{equation}d(pV)=SdT+Nd\\mu +pdV\\end{equation}\n",
      "$$"
     ]
    },
    {
     "cell_type": "markdown",
     "metadata": {},
     "source": [
      "Entropy"
     ]
    },
    {
     "cell_type": "markdown",
     "metadata": {},
     "source": [
      "$$\n",
      "\\begin{equation}S =k_{B}ln\\Xi\n",
      "+k_{B}T\\left(\\frac{\\partial ln\\Xi}{\\partial T}\\right)_{V, \\mu}\\end{equation}\n",
      "$$"
     ]
    },
    {
     "cell_type": "markdown",
     "metadata": {},
     "source": [
      "Particles"
     ]
    },
    {
     "cell_type": "markdown",
     "metadata": {},
     "source": [
      "$$\n",
      "\\begin{equation}N =k_{B}T\\left(\\frac{\\partial ln\\Xi}{\\partial \\mu}\\right)_{V, T}\\end{equation}\n",
      "$$"
     ]
    },
    {
     "cell_type": "markdown",
     "metadata": {},
     "source": [
      "Pressure"
     ]
    },
    {
     "cell_type": "markdown",
     "metadata": {},
     "source": [
      "$$\n",
      "\\begin{equation}p =k_{B}T\\left(\\frac{\\partial ln\\Xi}{\\partial V}\\right)_{\\mu, T}\\end{equation}\n",
      "$$"
     ]
    },
    {
     "cell_type": "markdown",
     "metadata": {},
     "source": [
      "### Pressure Canonical Ensemble\n",
      "\n",
      "Gibbs Free Energy"
     ]
    },
    {
     "cell_type": "markdown",
     "metadata": {},
     "source": [
      "$$\n",
      "\\begin{equation}G=-k_{B}Tln\\Delta\\end{equation}\n",
      "$$"
     ]
    },
    {
     "cell_type": "markdown",
     "metadata": {},
     "source": [
      "$$\n",
      "\\begin{equation}dG=-SdT+Vdp+\\mu dN\\end{equation}\n",
      "$$"
     ]
    },
    {
     "cell_type": "markdown",
     "metadata": {},
     "source": [
      "Entropy"
     ]
    },
    {
     "cell_type": "markdown",
     "metadata": {},
     "source": [
      "$$\n",
      "\\begin{equation}S =k_{B}ln\\Delta\n",
      "+k_{B}T\\left(\\frac{\\partial ln\\Delta}{\\partial T}\\right)_{p, N}\\end{equation}\n",
      "$$"
     ]
    },
    {
     "cell_type": "markdown",
     "metadata": {},
     "source": [
      "Volume"
     ]
    },
    {
     "cell_type": "markdown",
     "metadata": {},
     "source": [
      "$$\n",
      "\\begin{equation}V =-k_{B}T\\left(\\frac{\\partial ln\\Delta}{\\partial p}\\right)_{N, T}\\end{equation}\n",
      "$$"
     ]
    },
    {
     "cell_type": "markdown",
     "metadata": {},
     "source": [
      "Chemical potential"
     ]
    },
    {
     "cell_type": "markdown",
     "metadata": {},
     "source": [
      "$$\n",
      "\\begin{equation}\\mu =-k_{B}T\\left(\\frac{\\partial ln\\Delta}{\\partial N}\\right)_{p, T}\\end{equation}\n",
      "$$"
     ]
    },
    {
     "cell_type": "markdown",
     "metadata": {},
     "source": [
      "### Expectation Values\n",
      "\n",
      "At a given temperature we have the probability distribution"
     ]
    },
    {
     "cell_type": "markdown",
     "metadata": {},
     "source": [
      "$$\n",
      "P_i(\\beta) = \\frac{e^{-\\beta E_i}}{Z}\n",
      "$$"
     ]
    },
    {
     "cell_type": "markdown",
     "metadata": {},
     "source": [
      "with $\\beta=1/kT$ being the inverse temperature, $k$ the\n",
      "Boltzmann constant, $E_i$ is the energy of a state $i$ while\n",
      "$Z$ is the partition function for the canonical ensemble\n",
      "defined as"
     ]
    },
    {
     "cell_type": "markdown",
     "metadata": {},
     "source": [
      "$$\n",
      "Z=\\sum_{i=1}^{M}e^{-\\beta E_i},\n",
      "$$"
     ]
    },
    {
     "cell_type": "markdown",
     "metadata": {},
     "source": [
      "where the sum extends over all states\n",
      "$M$.\n",
      "$P_i$ expresses the probability of finding the system in a given\n",
      "configuration $i$.\n",
      "\n",
      "### Expectation Values\n",
      "\n",
      "For a system described by the canonical ensemble, the energy is an\n",
      "expectation value since we allow energy to be exchanged with the surroundings\n",
      "(a heat bath with temperature $T$). This expectation value, the mean energy,\n",
      "can be calculated using the probability distribution\n",
      "$P_i$ as"
     ]
    },
    {
     "cell_type": "markdown",
     "metadata": {},
     "source": [
      "$$\n",
      "\\langle E \\rangle = \\sum_{i=1}^M E_i P_i(\\beta)=\n",
      "  \\frac{1}{Z}\\sum_{i=1}^M E_ie^{-\\beta E_i},\n",
      "$$"
     ]
    },
    {
     "cell_type": "markdown",
     "metadata": {},
     "source": [
      "with a corresponding variance defined as"
     ]
    },
    {
     "cell_type": "markdown",
     "metadata": {},
     "source": [
      "$$\n",
      "\\sigma_E^2=\\langle E^2 \\rangle-\\langle E \\rangle^2=\n",
      "         \\frac{1}{Z}\\sum_{i=1}^M E_i^2e^{-\\beta E_i}-\n",
      "          \\left(\\frac{1}{Z}\\sum_{i=1}^M E_ie^{-\\beta E_i}\\right)^2.\n",
      "$$"
     ]
    },
    {
     "cell_type": "markdown",
     "metadata": {},
     "source": [
      "If we divide the latter quantity with\n",
      "$kT^2$ we obtain the specific heat at constant volume"
     ]
    },
    {
     "cell_type": "markdown",
     "metadata": {},
     "source": [
      "$$\n",
      "C_V= \\frac{1}{kT^2}\\left(\\langle E^2 \\rangle-\\langle E \\rangle^2\\right).\n",
      "$$"
     ]
    },
    {
     "cell_type": "markdown",
     "metadata": {},
     "source": [
      "### Expectation Values\n",
      "\n",
      "We can also write"
     ]
    },
    {
     "cell_type": "markdown",
     "metadata": {},
     "source": [
      "$$\n",
      "\\langle E \\rangle=-\\frac{\\partial lnZ}{\\partial \\beta}.\n",
      "$$"
     ]
    },
    {
     "cell_type": "markdown",
     "metadata": {},
     "source": [
      "The specific heat is"
     ]
    },
    {
     "cell_type": "markdown",
     "metadata": {},
     "source": [
      "$$\n",
      "C_V=\\frac{1}{kT^2}\\frac{\\partial^2 lnZ}{\\partial\\beta^2}\n",
      "$$"
     ]
    },
    {
     "cell_type": "markdown",
     "metadata": {},
     "source": [
      "These expressions link a physical quantity (in thermodynamics) with the microphysics\n",
      "given by the partition function. Statistical physics is the field where one relates\n",
      "microscopic quantities to observables at finite temperature.\n",
      "\n",
      "### Expectation Values"
     ]
    },
    {
     "cell_type": "markdown",
     "metadata": {},
     "source": [
      "$$\n",
      "\\langle {\\cal M} \\rangle = \\sum_i^M {\\cal M}_i P_i(\\beta)=\n",
      "  \\frac{1}{Z}\\sum_i^M {\\cal M}_ie^{-\\beta E_i},\n",
      "$$"
     ]
    },
    {
     "cell_type": "markdown",
     "metadata": {},
     "source": [
      "and the corresponding variance"
     ]
    },
    {
     "cell_type": "markdown",
     "metadata": {},
     "source": [
      "$$\n",
      "\\sigma_{{\\cal M}}^2=\\langle {\\cal M}^2 \\rangle-\\langle {\\cal M} \\rangle^2=\n",
      "         \\frac{1}{Z}\\sum_{i=1}^M {\\cal M}_i^2e^{-\\beta E_i}-\n",
      "          \\left(\\frac{1}{Z}\\sum_{i=1}^M {\\cal M}_ie^{-\\beta E_i}\\right)^2.\n",
      "$$"
     ]
    },
    {
     "cell_type": "markdown",
     "metadata": {},
     "source": [
      "This quantity defines also the susceptibility\n",
      "$\\chi$"
     ]
    },
    {
     "cell_type": "markdown",
     "metadata": {},
     "source": [
      "$$\n",
      "\\chi=\\frac{1}{kT}\\left(\\langle {\\cal M}^2 \\rangle-\\langle {\\cal M} \\rangle^2\\right).\n",
      "$$"
     ]
    },
    {
     "cell_type": "markdown",
     "metadata": {},
     "source": [
      "### Phase Transitions\n",
      "\n",
      "NOTE: Helmholtz free energy and canonical ensemble"
     ]
    },
    {
     "cell_type": "markdown",
     "metadata": {},
     "source": [
      "$$\n",
      "F= \\langle E\\rangle -TS  = -kTln Z\n",
      "$$"
     ]
    },
    {
     "cell_type": "markdown",
     "metadata": {},
     "source": [
      "meaning $ lnZ = -F/kT  = -F\\beta$\n",
      "and"
     ]
    },
    {
     "cell_type": "markdown",
     "metadata": {},
     "source": [
      "$$\n",
      "\\langle E \\rangle=-\\frac{\\partial lnZ}{\\partial \\beta} =\\frac{\\partial (\\beta F)}{\\partial \\beta}.\n",
      "$$"
     ]
    },
    {
     "cell_type": "markdown",
     "metadata": {},
     "source": [
      "and"
     ]
    },
    {
     "cell_type": "markdown",
     "metadata": {},
     "source": [
      "$$\n",
      "C_V=-\\frac{1}{kT^2}\\frac{\\partial^2 (\\beta F)}{\\partial\\beta^2}.\n",
      "$$"
     ]
    },
    {
     "cell_type": "markdown",
     "metadata": {},
     "source": [
      "We can relate observables to various derivatives of the partition\n",
      "function and the free energy. When a given derivative of the free energy or the partition function is discontinuous\n",
      "or diverges (logarithmic divergence for the heat capacity from the Ising model) we talk of a phase transition\n",
      "of order of the derivative.\n",
      "\n",
      "### Phase Transitions\n",
      "\n",
      "  * An important quantity is the correlation length. The correlation length defines the length scale at which the overall properties of a material start to differ from its bulk properties. It is the distance over which the fluctuations of the microscopic degrees of freedom (for example the position of atoms) are significantly correlated with each other. Usually it is of the order of few interatomic spacings for a solid.\n",
      "\n",
      "  * The correlation length $\\xi$ depends however on external conditions such as pressure and temperature.\n",
      "\n",
      "  * A phase transition is marked by abrupt macroscopic changes as external parameters are changed, such as an increase of temperature.\n",
      "\n",
      "  * The point where a phase transition takes place is called a critical point.\n",
      "\n",
      "### Two Scenarios for Phase Transitions\n",
      "\n",
      "  * First order/discontinuous phase transitions: Two or more states on either side of the critical point also coexist exactly at the critical point. As we pass through the critical point we observe a discontinuous behavior of thermodynamical functions. The correlation length is normally finite at the critical point. Phenomena such as hysteris occur, viz. there is a continuation of state below the critical point into one above the critical point. This continuation is metastable so that the system may take a macroscopically long time to readjust. Classical example, melting of ice.\n",
      "\n",
      "  * Second order or continuous transitions: The correlation length diverges at the critical point, fluctuations are correlated over all distance scales, which forces the system to be in a unique critical phase. The two phases on either side of the critical point become identical. Smooth behavior of first derivatives of the partition function, while second derivatives diverge. Strong correlations make a perturbative treatment impossible. Renormalization group theory.\n",
      "\n",
      "### Examples of  Phase Transitions\n",
      "\n",
      "\\begin{tabular}{c|c|c|}\n",
      "\\hline\n",
      "&&\\\\\n",
      "\\multicolumn{1}{|c}{System}&\\multicolumn{1}{|c}{Transition}&\\multicolumn{1}{|c}{Order Parameter}\\\\\n",
      "&&\\\\\n",
      "\\hline\n",
      "&&\\\\\n",
      "Liquid-gas  &          Condensation/evaporation&  Density difference $\\Delta\\rho=\\rho_{liquid}-\\rho_{gas}$ \\\\\n",
      "Binary liquid&  mixture/Unmixing  &   Composition difference \\\\\n",
      "Quantum liquid  &      Normal fluid/superfluid &  $< \\phi >$, $\\psi$ = wavefunction  \\\\\n",
      "Liquid-solid    &      Melting/crystallisation & Reciprocal lattice vector \\\\\n",
      "Magnetic solid   &     Ferromagnetic&  Spontaneous magnetisation $M$\\\\\n",
      "       &               Antiferromagnetic &  Sublattice magnetisation $M$\\\\\n",
      "Dielectric solid  &    Ferroelectric&  Polarization $P$ \\\\\n",
      "                  &    Antiferroelectric & Sublattice polarisation $P$\\\\\n",
      "&&\\\\\n",
      "&&\\\\ \\hline\n",
      "\\end{tabular}\n",
      "\n",
      "### Ising Model\n",
      "\n",
      "The model we will employ in our studies of phase transitions at finite temperature for\n",
      "magnetic systems is the so-called Ising model. In its simplest form\n",
      "the energy is expressed as"
     ]
    },
    {
     "cell_type": "markdown",
     "metadata": {},
     "source": [
      "$$\n",
      "E=-J\\sum_{< kl >}^{N}s_ks_l-B\\sum_k^Ns_k,\n",
      "$$"
     ]
    },
    {
     "cell_type": "markdown",
     "metadata": {},
     "source": [
      "with  $s_k=\\pm 1$, $N$ is the total number of spins,\n",
      "$J$ is a coupling constant expressing the strength of the interaction\n",
      "between neighboring spins and\n",
      "$B$ is an external magnetic field interacting with the magnetic\n",
      "moment set up by the spins.\n",
      "The symbol $< kl >$ indicates that we sum over nearest\n",
      "neighbors only.\n",
      "\n",
      "### Ising Model\n",
      "\n",
      "Notice that for $J>0$ it is energetically favorable for neighboring spins\n",
      "to be aligned. This feature leads to, at low enough temperatures,\n",
      "to a cooperative phenomenon called spontaneous magnetization. That is,\n",
      "through interactions between nearest neighbors, a given magnetic\n",
      "moment can influence the alignment of spins  that are separated\n",
      "from the given spin by a macroscopic distance. These long range correlations\n",
      "between spins are associated with a long-range order in which\n",
      "the lattice has a net magnetization in the absence of a magnetic field.\n",
      "This phase is normally called the ferromagnetic phase. With $J < 0$, we have a\n",
      "so-called antiferromagnetic case.\n",
      "At a critical temperature we have a phase transition to a disordered phase, a so-called\n",
      "paramagnetic phase.\n",
      "\n",
      "### Treatment of Boundaries\n",
      "\n",
      "With two spins, since each spin takes two values only, it means that in total\n",
      "we have $2^2=4$ possible arrangements of the two spins.\n",
      "These four possibilities are"
     ]
    },
    {
     "cell_type": "markdown",
     "metadata": {},
     "source": [
      "$$\n",
      "1= \\uparrow\\uparrow\\quad\n",
      "    2= \\uparrow\\downarrow\\quad\n",
      "   3= \\downarrow\\uparrow\\quad\n",
      "      4=\\downarrow\\downarrow\n",
      "$$"
     ]
    },
    {
     "cell_type": "markdown",
     "metadata": {},
     "source": [
      "What is the energy of each of these configurations?\n",
      "\n",
      "For small systems, the way we treat the ends matters.\n",
      "In the first case we employ what is called\n",
      "free ends. For the one-dimensional case, the energy is then written as\n",
      "a sum over a single index"
     ]
    },
    {
     "cell_type": "markdown",
     "metadata": {},
     "source": [
      "$$\n",
      "E_i =-J\\sum_{j=1}^{N-1}s_js_{j+1},\n",
      "$$"
     ]
    },
    {
     "cell_type": "markdown",
     "metadata": {},
     "source": [
      "If we  label the first spin as $s_1$ and the second as $s_2$\n",
      "we obtain the following\n",
      "expression for the energy"
     ]
    },
    {
     "cell_type": "markdown",
     "metadata": {},
     "source": [
      "$$\n",
      "E=-Js_1s_2.\n",
      "$$"
     ]
    },
    {
     "cell_type": "markdown",
     "metadata": {},
     "source": [
      "### Treatment of Boundaries\n",
      "\n",
      "The calculation of the energy for the one-dimensional lattice\n",
      "with free ends for one specific spin-configuration\n",
      "can easily be implemented in the following lines"
     ]
    },
    {
     "cell_type": "markdown",
     "metadata": {},
     "source": [
      "            for ( j=1; j < N; j++) {\n",
      "                energy += spin[j]*spin[j+1];\n",
      "        \n"
     ]
    },
    {
     "cell_type": "markdown",
     "metadata": {},
     "source": [
      "where the vector $spin[]$ contains the spin value $s_k=\\pm 1$.\n",
      "For the specific state $E_1$, we have chosen all spins up. The energy of\n",
      "this configuration becomes then"
     ]
    },
    {
     "cell_type": "markdown",
     "metadata": {},
     "source": [
      "$$\n",
      "E_1=E_{\\uparrow\\uparrow}=-J.\n",
      "$$"
     ]
    },
    {
     "cell_type": "markdown",
     "metadata": {},
     "source": [
      "The other configurations give"
     ]
    },
    {
     "cell_type": "markdown",
     "metadata": {},
     "source": [
      "$$\n",
      "E_2=E_{\\uparrow\\downarrow}=+J,\n",
      "$$"
     ]
    },
    {
     "cell_type": "markdown",
     "metadata": {},
     "source": [
      "$$\n",
      "E_3=E_{\\downarrow\\uparrow}=+J,\n",
      "$$"
     ]
    },
    {
     "cell_type": "markdown",
     "metadata": {},
     "source": [
      "and"
     ]
    },
    {
     "cell_type": "markdown",
     "metadata": {},
     "source": [
      "$$\n",
      "E_4=E_{\\downarrow\\downarrow}=-J.\n",
      "$$"
     ]
    },
    {
     "cell_type": "markdown",
     "metadata": {},
     "source": [
      "### Treatment of Boundaries\n",
      "\n",
      "We can also choose so-called periodic boundary conditions.\n",
      "This means that if $i=N$, we set the spin number to $i=1$.\n",
      "In this case the energy for the one-dimensional lattice\n",
      "reads"
     ]
    },
    {
     "cell_type": "markdown",
     "metadata": {},
     "source": [
      "$$\n",
      "E_i =-J\\sum_{j=1}^{N}s_js_{j+1},\n",
      "$$"
     ]
    },
    {
     "cell_type": "markdown",
     "metadata": {},
     "source": [
      "and we obtain the following expression for the two-spin case"
     ]
    },
    {
     "cell_type": "markdown",
     "metadata": {},
     "source": [
      "$$\n",
      "E=-J(s_1s_2+s_2s_1).\n",
      "$$"
     ]
    },
    {
     "cell_type": "markdown",
     "metadata": {},
     "source": [
      "If we choose to use periodic boundary conditions we can code the above\n",
      "expression as"
     ]
    },
    {
     "cell_type": "markdown",
     "metadata": {},
     "source": [
      "            jm=N;\n",
      "            for ( j=1; j <=N ; j++) {\n",
      "                energy += spin[j]*spin[jm];\n",
      "                jm = j ;\n",
      "        \n"
     ]
    },
    {
     "cell_type": "markdown",
     "metadata": {},
     "source": [
      "### Treatment of Boundaries\n",
      "\n",
      "\\begin{tabular}{crrr}\\\\\\hline\n",
      "State& Energy (FE) & Energy (PBC) & Magnetization \\\\ \\hline\n",
      "$1= \\uparrow\\uparrow$& $-J$ & $-2J$ & 2\\\\\n",
      "$2=\\uparrow\\downarrow$&  $J$ & $2J$  & 0\\\\\n",
      "$   3= \\downarrow\\uparrow$&  $J$ & $2J$ &  0\\\\\n",
      "$      4=\\downarrow\\downarrow$&  $-J$ & $-2J$ & -2\\\\ \\hline\n",
      "\\end{tabular}\n",
      "\\begin{tabular}{llrrr}\\\\\\hline\n",
      "Number spins up& Degeneracy& Energy (FE)& Energy (PBC) & Magnetization \\\\ \\hline\n",
      "2& 1&$-J$ &$-2J$ & 2\\\\\n",
      "1& 2 & $J$ &$2J$ & 0\\\\\n",
      "0& 1 & $-J$ &$-2J$ & -2 \\\\ \\hline\n",
      "\\end{tabular}\n",
      "\n",
      "### Treatment of Boundaries\n",
      "\n",
      "It is worth noting that for small dimensions of the lattice,\n",
      "the energy differs depending on whether we use\n",
      "periodic boundary conditions or free ends. This means also\n",
      "that the partition functions will be different, as discussed\n",
      "below. In the thermodynamic limit however, $N\\rightarrow \\infty$,\n",
      "the final results do not depend on the kind of boundary conditions\n",
      "we choose.\n",
      "The magnetization is however the same, defined as"
     ]
    },
    {
     "cell_type": "markdown",
     "metadata": {},
     "source": [
      "$$\n",
      "{\\cal M}_i=\\sum_{j=1}^N s_j,\n",
      "$$"
     ]
    },
    {
     "cell_type": "markdown",
     "metadata": {},
     "source": [
      "where we  sum over all spins for a given configuration $i$.\n",
      "\n",
      "### Treatment of Boundaries\n",
      "\n",
      "In a similar way, we could enumerate the number of states for\n",
      "a two-dimensional system consisting of two spins, i.e.,\n",
      "a $2\\times 2$ Ising model on a square lattice with *periodic\n",
      "boundary conditions*. In this case we have a total of\n",
      "$2^4=16$ states.\n",
      "Some\n",
      "examples of configurations with their respective energies are\n",
      "listed here"
     ]
    },
    {
     "cell_type": "markdown",
     "metadata": {},
     "source": [
      "$$\n",
      "E=-8J\\quad\\begin{array}{cc}\\uparrow & \\uparrow \\\\\n",
      "                                    \\uparrow & \\uparrow\\end{array}\n",
      "\\quad\n",
      "  E=0\\quad\\begin{array}{cc}\\uparrow & \\uparrow \\\\\n",
      "                                    \\uparrow & \\downarrow\\end{array}\n",
      "\\quad\n",
      "  E=0\\quad\\begin{array}{cc}\\downarrow & \\downarrow \\\\\n",
      "                                    \\uparrow & \\downarrow\\end{array}\n",
      "$$"
     ]
    },
    {
     "cell_type": "markdown",
     "metadata": {},
     "source": [
      "### Treatment of Boundaries\n",
      "\n",
      "We can group these configurations\n",
      "according to their total energy and magnetization.\n",
      "\\begin{tabular}{llrr}\\\\\\hline\n",
      "Number spins up& Degeneracy& Energy & Magnetization \\\\ \\hline\n",
      "4&1 & $-8J$ & 4\\\\\n",
      "3& 4 & $0$ & 2\\\\\n",
      "2& 4 & $0$ & 0 \\\\\n",
      "2& 2 & $8J$ & 0 \\\\\n",
      "1& 4 & $0$ & -2 \\\\\n",
      "0& 1 & $-8J$ & -4\\\\ \\hline\n",
      "\\end{tabular}\n",
      "\n",
      "### Modelling the Ising Model\n",
      "\n",
      "The code uses periodic boundary conditions with energy"
     ]
    },
    {
     "cell_type": "markdown",
     "metadata": {},
     "source": [
      "$$\n",
      "E_i =-J\\sum_{j=1}^{N}s_js_{j+1},\n",
      "$$"
     ]
    },
    {
     "cell_type": "markdown",
     "metadata": {},
     "source": [
      "In our case we have as the Monte Carlo sampling function the probability\n",
      "for finding the system in a state $s$ given by"
     ]
    },
    {
     "cell_type": "markdown",
     "metadata": {},
     "source": [
      "$$\n",
      "P_s=\\frac{e^{-(\\beta E_s)}}{Z},\n",
      "$$"
     ]
    },
    {
     "cell_type": "markdown",
     "metadata": {},
     "source": [
      "with energy $E_s$, $\\beta=1/kT$ and $Z$ is a normalization constant which\n",
      "defines the partition function in the canonical ensemble"
     ]
    },
    {
     "cell_type": "markdown",
     "metadata": {},
     "source": [
      "$$\n",
      "Z(\\beta)=\\sum_se^{-(\\beta E_s)}\n",
      "$$"
     ]
    },
    {
     "cell_type": "markdown",
     "metadata": {},
     "source": [
      "This is difficult to compute since we need all states. In a calculation\n",
      "of the Ising model in two dimensions, the number of configurations is\n",
      "given by $2^N$ with $N=L\\times L$ the number of spins for a lattice\n",
      "of length $L$. Fortunately, the Metropolis algorithm considers\n",
      "only ratios between probabilities and we do not need to\n",
      "compute the partition function at all.\n",
      "\n",
      "### Metropolis Algorithm\n",
      "\n",
      "  * Establish an initial state with energy $E_b$ by positioning yourself at a random position in the lattice\n",
      "\n",
      "  * Change the initial configuration by flipping e.g., one spin only. Compute the energy of this trial state $E_t$.\n",
      "\n",
      "  * Calculate $\\Delta E=E_t-E_b$. The number of values $\\Delta E$ is limited to five for the Ising model in two dimensions, see the discussion below.\n",
      "\n",
      "  * If $\\Delta E \\le 0$ we accept the new configuration, meaning that the energy is lowered and we are hopefully moving towards the energy minimum at a given temperature. Go to step 7.\n",
      "\n",
      "  * If $\\Delta E > 0$, calculate $w=e^{-(\\beta \\Delta E)}$.\n",
      "\n",
      "  * Compare $w$ with a random number $r$. If $r \\le w$ then accept the new configuration, else we keep the old configuration and its values.\n",
      "\n",
      "  * The next step is to update various expectations values.\n",
      "\n",
      "  * The steps (2)-(7) are then repeated in order to obtain a sufficently good representation of states.\n",
      "\n",
      "### Modelling the Ising Model\n",
      "\n",
      "In the calculation of the energy difference from one spin configuration\n",
      "to the other, we will limit the change to the flipping of one\n",
      "spin only. For the Ising model in two dimensions it means that there\n",
      "will only be a limited set of values for $\\Delta E$. Actually, there are\n",
      "only five  possible values. To see this,\n",
      "select first a random spin position $x,y$\n",
      "and assume that this spin\n",
      "and its nearest neighbors are all pointing up.\n",
      "The energy for this\n",
      "configuration is $E=-4J$. Now we flip this spin as shown below.\n",
      "The energy of the new configuration is $E=4J$, yielding $\\Delta E=8J$."
     ]
    },
    {
     "cell_type": "markdown",
     "metadata": {},
     "source": [
      "$$\n",
      "E=-4J\\quad\\begin{array}{ccc}         & \\uparrow &         \\\\\n",
      "                         \\uparrow & \\uparrow & \\uparrow\\\\\n",
      "                                  & \\uparrow & \\end{array}\n",
      "\\quad\\Longrightarrow\\quad\n",
      "  E=4J\\quad\\begin{array}{ccc}         & \\uparrow &         \\\\\n",
      "                         \\uparrow & \\downarrow & \\uparrow\\\\\n",
      "                                  & \\uparrow & \\end{array}\n",
      "$$"
     ]
    },
    {
     "cell_type": "markdown",
     "metadata": {},
     "source": [
      "### Modelling the Ising Model\n",
      "\n",
      "The four other possibilities are as follows"
     ]
    },
    {
     "cell_type": "markdown",
     "metadata": {},
     "source": [
      "$$\n",
      "E=-2J\\quad\\begin{array}{ccc}         & \\uparrow &         \\\\\n",
      "                         \\downarrow & \\uparrow & \\uparrow\\\\\n",
      "                                  & \\uparrow & \\end{array}\n",
      "\\quad\\Longrightarrow\\quad\n",
      "  E=2J\\quad\\begin{array}{ccc}         & \\uparrow &         \\\\\n",
      "                         \\downarrow & \\downarrow & \\uparrow\\\\\n",
      "                                  & \\uparrow & \\end{array}\n",
      "$$"
     ]
    },
    {
     "cell_type": "markdown",
     "metadata": {},
     "source": [
      "with $\\Delta E=4J$,"
     ]
    },
    {
     "cell_type": "markdown",
     "metadata": {},
     "source": [
      "$$\n",
      "E=0\\quad\\begin{array}{ccc}         & \\uparrow &         \\\\\n",
      "                         \\downarrow & \\uparrow & \\uparrow\\\\\n",
      "                                  & \\downarrow & \\end{array}\n",
      "\\quad\\Longrightarrow\\quad\n",
      "  E=0\\quad\\begin{array}{ccc}         & \\uparrow &         \\\\\n",
      "                         \\downarrow & \\downarrow & \\uparrow\\\\\n",
      "                                  & \\downarrow & \\end{array}\n",
      "$$"
     ]
    },
    {
     "cell_type": "markdown",
     "metadata": {},
     "source": [
      "with $\\Delta E=0$\n",
      "\n",
      "### Modelling the Ising Model"
     ]
    },
    {
     "cell_type": "markdown",
     "metadata": {},
     "source": [
      "$$\n",
      "E=2J\\quad\\begin{array}{ccc}         & \\downarrow &         \\\\\n",
      "                         \\downarrow & \\uparrow & \\uparrow\\\\\n",
      "                                  & \\downarrow & \\end{array}\n",
      "\\quad\\Longrightarrow\\quad\n",
      "  E=-2J\\quad\\begin{array}{ccc}         & \\downarrow &         \\\\\n",
      "                         \\downarrow & \\downarrow & \\uparrow\\\\\n",
      "                                  & \\downarrow & \\end{array}\n",
      "$$"
     ]
    },
    {
     "cell_type": "markdown",
     "metadata": {},
     "source": [
      "with $\\Delta E=-4J$ and finally"
     ]
    },
    {
     "cell_type": "markdown",
     "metadata": {},
     "source": [
      "$$\n",
      "E=4J\\quad\\begin{array}{ccc}         & \\downarrow &         \\\\\n",
      "                         \\downarrow & \\uparrow & \\downarrow\\\\\n",
      "                                  & \\downarrow & \\end{array}\n",
      "\\quad\\Longrightarrow\\quad\n",
      "  E=-4J\\quad\\begin{array}{ccc}         & \\downarrow &         \\\\\n",
      "                         \\downarrow & \\downarrow & \\downarrow\\\\\n",
      "                                  & \\downarrow & \\end{array}\n",
      "$$"
     ]
    },
    {
     "cell_type": "markdown",
     "metadata": {},
     "source": [
      "with $\\Delta E=-8J$.\n",
      "This means in turn that we could construct an array which contains all values\n",
      "of $e^{\\beta \\Delta E}$ before doing the Metropolis sampling. Else, we\n",
      "would have to evaluate the exponential  at each Monte Carlo sampling.\n",
      "\n",
      "### The loop over $T$ in main"
     ]
    },
    {
     "cell_type": "markdown",
     "metadata": {},
     "source": [
      "          for ( double temp = initial_temp; temp <= final_temp; temp+=temp_step){\n",
      "            //    initialise energy and magnetization\n",
      "            E = M = 0.;\n",
      "            // setup array for possible energy changes\n",
      "            for( int de =-8; de <= 8; de++) w[de+8] = 0;\n",
      "            for( int de =-8; de <= 8; de+=4) w[de+8] = exp(-de/temp);\n",
      "            // initialise array for expectation values\n",
      "            for( int i = 0; i < 5; i++) average[i] = 0.;\n",
      "            initialize(n_spins, temp, spin_matrix, E, M);\n",
      "            // start Monte Carlo computation\n",
      "            for (int cycles = 1; cycles <= mcs; cycles++){\n",
      "              Metropolis(n_spins, idum, spin_matrix, E, M, w);\n",
      "              // update expectation values\n",
      "              average[0] += E;    average[1] += E*E;\n",
      "              average[2] += M;    average[3] += M*M; average[4] += fabs(M);\n",
      "        \n",
      "            // print results\n",
      "            output(n_spins, mcs, temp, average);\n",
      "        \n"
     ]
    },
    {
     "cell_type": "markdown",
     "metadata": {},
     "source": [
      "### The Initialise function"
     ]
    },
    {
     "cell_type": "markdown",
     "metadata": {},
     "source": [
      "        void initialize(int n_spins, double temp, int **spin_matrix,\n",
      "        \t\tdouble& E, double& M)\n",
      "        {\n",
      "          // setup spin matrix and intial magnetization\n",
      "          for(int y =0; y < n_spins; y++) {\n",
      "            for (int x= 0; x < n_spins; x++){\n",
      "              spin_matrix[y][x] = 1; // spin orientation for the ground state\n",
      "              M +=  (double) spin_matrix[y][x];\n",
      "        \n",
      "          // setup initial energy\n",
      "          for(int y =0; y < n_spins; y++) {\n",
      "            for (int x= 0; x < n_spins; x++){\n",
      "              E -=  (double) spin_matrix[y][x]*\n",
      "        \t(spin_matrix[periodic(y,n_spins,-1)][x] +\n",
      "        \t spin_matrix[y][periodic(x,n_spins,-1)]);\n",
      "        \n",
      "        }// end function initialise\n"
     ]
    },
    {
     "cell_type": "markdown",
     "metadata": {},
     "source": [
      "### The periodic function\n",
      "\n",
      "A compact way of dealing with periodic boundary conditions is given as follows:"
     ]
    },
    {
     "cell_type": "markdown",
     "metadata": {},
     "source": [
      "        // inline function for periodic boundary conditions\n",
      "        inline int periodic(int i, int limit, int add) {\n",
      "          return (i+limit+add) % (limit);\n"
     ]
    },
    {
     "cell_type": "markdown",
     "metadata": {},
     "source": [
      "with the following example from the function initialise"
     ]
    },
    {
     "cell_type": "markdown",
     "metadata": {},
     "source": [
      "              E -=  (double) spin_matrix[y][x]*\n",
      "        \t(spin_matrix[periodic(y,n_spins,-1)][x] +\n",
      "        \t spin_matrix[y][periodic(x,n_spins,-1)]);\n"
     ]
    },
    {
     "cell_type": "markdown",
     "metadata": {},
     "source": [
      "### Alternative way for periodic boundary conditions\n",
      "\n",
      "A more pedagogical way is given by the (here Fortran as example)  program"
     ]
    },
    {
     "cell_type": "markdown",
     "metadata": {},
     "source": [
      "           DO y = 1,lattice_y\n",
      "               DO x = 1,lattice_x\n",
      "                  right = x+1 ; IF(x == lattice_x  ) right = 1\n",
      "                  left = x-1 ; IF(x == 1  ) left = lattice_x\n",
      "                  up = y+1 ; IF(y == lattice_y  ) up = 1\n",
      "                  down = y-1 ; IF(y == 1  ) down = lattice_y\n",
      "                  energy=energy - spin_matrix(x,y)*(spin_matrix(right,y)+&\n",
      "                       spin_matrix(left,y)+spin_matrix(x,up)+ &\n",
      "                       spin_matrix(x,down) )\n",
      "                  magnetization = magnetization + spin_matrix(x,y)\n",
      "               ENDDO\n",
      "            ENDDO\n",
      "            energy = energy*0.5\n"
     ]
    },
    {
     "cell_type": "markdown",
     "metadata": {},
     "source": [
      "### Computing $\\Delta E$ and $\\Delta M$\n",
      "\n",
      "The energy difference between a state $E_1$ and a state $E_2$ with zero magnetic field is"
     ]
    },
    {
     "cell_type": "markdown",
     "metadata": {},
     "source": [
      "$$\n",
      "\\Delta E = E_2-E_1 =J\\sum_{< kl >}^{N}s_k^1s_{l}^1-J\\sum_{< kl >}^{N}s_k^2s_{l}^2,\n",
      "$$"
     ]
    },
    {
     "cell_type": "markdown",
     "metadata": {},
     "source": [
      "which we can rewrite as"
     ]
    },
    {
     "cell_type": "markdown",
     "metadata": {},
     "source": [
      "$$\n",
      "\\Delta E  = -J \\sum_{< kl >}^{N}s_k^2(s_l^2-s_{l}^1),\n",
      "$$"
     ]
    },
    {
     "cell_type": "markdown",
     "metadata": {},
     "source": [
      "where the sum now runs only over the nearest neighbors $k$ of the spin.\n",
      "Since the spin to be flipped takes only two values, $s_l^1=\\pm 1$ and $s_l^2=\\pm 1$, it means that if\n",
      "$s_l^1= 1$, then $s_l^2=-1$ and if $s_l^1= -1$, then $s_l^2=1$.\n",
      "The other spins keep their values, meaning that\n",
      "$s_k^1=s_k^2$.\n",
      "If $s_l^1= 1$ we must have $s_l^1-s_{l}^2=2$, and\n",
      "if $s_l^1= -1$ we must have $s_l^1-s_{l}^2=-2$. From these results we see that the energy difference\n",
      "can be coded efficiently as"
     ]
    },
    {
     "cell_type": "markdown",
     "metadata": {},
     "source": [
      "$$\n",
      "\\Delta E  = 2Js_l^1\\sum_{< k >}^{N}s_k,\n",
      "$$"
     ]
    },
    {
     "cell_type": "markdown",
     "metadata": {},
     "source": [
      "where the sum runs only over the nearest neighbors $k$ of spin $l$\n",
      "\n",
      "The difference in magnetisation is given by the difference\n",
      "$s_l^1-s_{l}^2=\\pm 2$, or in a more compact way as"
     ]
    },
    {
     "cell_type": "markdown",
     "metadata": {},
     "source": [
      "$$\n",
      "M_2 = M_1+2s_l^2,\n",
      "$$"
     ]
    },
    {
     "cell_type": "markdown",
     "metadata": {},
     "source": [
      "where $M_1$ and $M_2$ are the magnetizations before and after the spin flip, respectively.\n",
      "\n",
      "### The Metropolis function"
     ]
    },
    {
     "cell_type": "markdown",
     "metadata": {},
     "source": [
      "          // loop over all spins\n",
      "          for(int y =0; y < n_spins; y++) {\n",
      "            for (int x= 0; x < n_spins; x++){\n",
      "              int ix = (int) (ran1(&idum)*(double)n_spins);   // RANDOM SPIN\n",
      "              int iy = (int) (ran1(&idum)*(double)n_spins);  // RANDOM SPIN\n",
      "              int deltaE =  2*spin_matrix[iy][ix]*\n",
      "        \t(spin_matrix[iy][periodic(ix,n_spins,-1)]+\n",
      "        \t spin_matrix[periodic(iy,n_spins,-1)][ix] +\n",
      "        \t spin_matrix[iy][periodic(ix,n_spins,1)] +\n",
      "        \t spin_matrix[periodic(iy,n_spins,1)][ix]);\n",
      "              if ( ran1(&idum) <= w[deltaE+8] ) {\n",
      "        \tspin_matrix[iy][ix] *= -1;  // flip one spin and accept new spin config\n",
      "                M += (double) 2*spin_matrix[iy][ix];\n",
      "                E += (double) deltaE;\n",
      "        \n"
     ]
    },
    {
     "cell_type": "markdown",
     "metadata": {},
     "source": [
      "### Expectation Values"
     ]
    },
    {
     "cell_type": "markdown",
     "metadata": {},
     "source": [
      "          double norm = 1/((double) (mcs));// divided by total number of cycles\n",
      "          double Eaverage = average[0]*norm;\n",
      "          double E2average = average[1]*norm;\n",
      "          double Maverage = average[2]*norm;\n",
      "          double M2average = average[3]*norm;\n",
      "          double Mabsaverage = average[4]*norm;\n",
      "          // all expectation values are per spin, divide by 1/n_spins/n_spins\n",
      "          double Evariance = (E2average- Eaverage*Eaverage)/n_spins/n_spins;\n",
      "          double Mvariance = (M2average - Mabsaverage*Mabsaverage)/n_spins/n_spins;\n",
      "          ofile << setiosflags(ios::showpoint | ios::uppercase);\n",
      "          ofile << setw(15) << setprecision(8) << temp;\n",
      "          ofile << setw(15) << setprecision(8) << Eaverage/n_spins/n_spins;\n",
      "          ofile << setw(15) << setprecision(8) << Evariance/temp/temp;\n",
      "          ofile << setw(15) << setprecision(8) << Maverage/n_spins/n_spins;\n",
      "          ofile << setw(15) << setprecision(8) << Mvariance/temp;\n",
      "          ofile << setw(15) << setprecision(8) << Mabsaverage/n_spins/n_spins << endl;\n"
     ]
    },
    {
     "cell_type": "markdown",
     "metadata": {},
     "source": [
      "### Code example for the parallel two-dimensional diff equation"
     ]
    },
    {
     "cell_type": "markdown",
     "metadata": {},
     "source": [
      "        int Jacobi_P(int mynode, int numnodes, int N, double **A, double *x, double *b, double abstol){\n",
      "          int i,j,k,i_global;\n",
      "          int maxit = 100000;\n",
      "          int rows_local,local_offset,last_rows_local,*count,*displacements;\n",
      "          double sum1,sum2,*xold;\n",
      "          double error_sum_local, error_sum_global;\n",
      "          MPI_Status status;\n",
      "        \n",
      "          rows_local = (int) floor((double)N/numnodes);\n",
      "          local_offset = mynode*rows_local;\n",
      "          if(mynode == (numnodes-1))\n",
      "            rows_local = N - rows_local*(numnodes-1);\n"
     ]
    },
    {
     "cell_type": "markdown",
     "metadata": {},
     "source": [
      "### Code example for the parallel two-dimensional diff equation"
     ]
    },
    {
     "cell_type": "markdown",
     "metadata": {},
     "source": [
      "          /*Distribute the Matrix and R.H.S. among the processors */\n",
      "          if(mynode == 0){\n",
      "            for(i=1;i<numnodes-1;i++){\n",
      "              for(j=0;j<rows_local;j++)\n",
      "        \tMPI_Send(A[i*rows_local+j],N,MPI_DOUBLE,i,j,MPI_COMM_WORLD);\n",
      "              MPI_Send(b+i*rows_local,rows_local,MPI_DOUBLE,i,rows_local,\n",
      "        \t       MPI_COMM_WORLD);\n",
      "        \n",
      "            last_rows_local = N-rows_local*(numnodes-1);\n",
      "            for(j=0;j<last_rows_local;j++)\n",
      "              MPI_Send(A[(numnodes-1)*rows_local+j],N,MPI_DOUBLE,numnodes-1,j,\n",
      "        \t       MPI_COMM_WORLD);\n",
      "            MPI_Send(b+(numnodes-1)*rows_local,last_rows_local,MPI_DOUBLE,numnodes-1,\n",
      "        \t     last_rows_local,MPI_COMM_WORLD);\n",
      "        \n"
     ]
    },
    {
     "cell_type": "markdown",
     "metadata": {},
     "source": [
      "### Code example for the parallel two-dimensional diff equation"
     ]
    },
    {
     "cell_type": "markdown",
     "metadata": {},
     "source": [
      "          else{\n",
      "            A = CreateMatrix(rows_local,N);\n",
      "            x = new double[rows_local];\n",
      "            b = new double[rows_local];\n",
      "            for(i=0;i<rows_local;i++)\n",
      "              MPI_Recv(A[i],N,MPI_DOUBLE,0,i,MPI_COMM_WORLD,&status);\n",
      "            MPI_Recv(b,rows_local,MPI_DOUBLE,0,rows_local,MPI_COMM_WORLD,&status);\n",
      "        \n"
     ]
    },
    {
     "cell_type": "markdown",
     "metadata": {},
     "source": [
      "### Code example for the parallel two-dimensional diff equation"
     ]
    },
    {
     "cell_type": "markdown",
     "metadata": {},
     "source": [
      "          xold = new double[N];\n",
      "          count = new int[numnodes];\n",
      "          displacements = new int[numnodes];\n",
      "          //set initial guess to all 1.0\n",
      "          for(i=0; i<N; i++){\n",
      "            xold[i] = 1.0;\n",
      "        \n",
      "          for(i=0;i<numnodes;i++){\n",
      "            count[i] = (int) floor((double)N/numnodes);\n",
      "            displacements[i] = i*count[i];\n",
      "        \n",
      "          count[numnodes-1] = N - ((int)floor((double)N/numnodes))*(numnodes-1);\n"
     ]
    },
    {
     "cell_type": "markdown",
     "metadata": {},
     "source": [
      "### Code example for the parallel two-dimensional diff equation"
     ]
    },
    {
     "cell_type": "markdown",
     "metadata": {},
     "source": [
      "          for(k=0; k<maxit; k++){\n",
      "            error_sum_local = 0.0;\n",
      "            for(i = 0; i<rows_local; i++){\n",
      "              i_global = local_offset+i;\n",
      "              sum1 = 0.0; sum2 = 0.0;\n",
      "              for(j=0; j < i_global; j++)\n",
      "        \tsum1 = sum1 + A[i][j]*xold[j];\n",
      "              for(j=i_global+1; j < N; j++)\n",
      "        \tsum2 = sum2 + A[i][j]*xold[j];\n",
      "        \n",
      "              x[i] = (-sum1 - sum2 + b[i])/A[i][i_global];\n",
      "              error_sum_local += (x[i]-xold[i_global])*(x[i]-xold[i_global]);\n",
      "        \n"
     ]
    },
    {
     "cell_type": "markdown",
     "metadata": {},
     "source": [
      "### Code example for the parallel two-dimensional diff equation"
     ]
    },
    {
     "cell_type": "markdown",
     "metadata": {},
     "source": [
      "            MPI_Allreduce(&error_sum_local,&error_sum_global,1,MPI_DOUBLE,\n",
      "        \t\t  MPI_SUM,MPI_COMM_WORLD);\n",
      "            MPI_Allgatherv(x,rows_local,MPI_DOUBLE,xold,count,displacements,\n",
      "        \t\t   MPI_DOUBLE,MPI_COMM_WORLD);\n"
     ]
    },
    {
     "cell_type": "markdown",
     "metadata": {},
     "source": [
      "### Code example for the parallel two-dimensional diff equation"
     ]
    },
    {
     "cell_type": "markdown",
     "metadata": {},
     "source": [
      "            if(sqrt(error_sum_global)<abstol){\n",
      "              if(mynode == 0){\n",
      "        \tfor(i=0;i<N;i++)\n",
      "        \t  x[i] = xold[i];\n",
      "        \n",
      "              else{\n",
      "        \tDestroyMatrix(A,rows_local,N);\n",
      "        \tdelete[] x;\n",
      "                delete[] b;\n",
      "        \n",
      "              delete[] xold;\n",
      "              delete[] count;\n",
      "              delete[] displacements;\n",
      "              return k;\n",
      "        \n"
     ]
    },
    {
     "cell_type": "markdown",
     "metadata": {},
     "source": [
      "### Code example for the parallel two-dimensional diff equation"
     ]
    },
    {
     "cell_type": "markdown",
     "metadata": {},
     "source": [
      "          cerr << \"Jacobi: Maximum Number of Interations Reached Without Convergence\\n\";\n",
      "          if(mynode == 0){\n",
      "            for(i=0;i<N;i++)\n",
      "              x[i] = xold[i];\n",
      "        \n",
      "          else{\n",
      "            DestroyMatrix(A,rows_local,N);\n",
      "            delete[] x;\n",
      "            delete[] b;\n",
      "        \n",
      "          delete[] xold;\n",
      "          delete[] count;\n",
      "          delete[] displacements;\n",
      "        \n",
      "          return maxit;\n",
      "        \n"
     ]
    },
    {
     "cell_type": "markdown",
     "metadata": {},
     "source": [
      "### How do I use the titan.uio.no cluster?\n",
      "\n",
      "\n",
      "  * Computational Physics requires High Performance Computing (HPC) resources\n",
      "\n",
      "  * USIT and the Research Computing Services (RCS) provides\n",
      "      HPC resources and HPC support\n",
      "\n",
      "  * Resources: <titan.uio.no>\n",
      "\n",
      "  * Support: 14 people\n",
      "\n",
      "  * Contact: [`hpl@usit.uio.no`](mailto: hpc@usit.uio.no)\n",
      "\n",
      "\n",
      "\n",
      "\n",
      "### Titan\n",
      "\n",
      "**Hardware.**\n",
      "\n",
      "\n",
      "  * 304 dual-cpu quad-core SUN X2200 Opteron nodes (total 2432 cores), 2.2 Ghz, and 8 - 16 GB RAM and 250 - 1000 GB disk on each node\n",
      "\n",
      "  * 3 eight-cpu quad-core Sun X4600 AMD Opteron nodes (total 96 cores), 2.5 Ghz, and 128, 128 and 256 GB memory, respectively\n",
      "\n",
      "  * Infiniband interconnect\n",
      "\n",
      "  * Heterogenous cluster!\n",
      "\n",
      "\n",
      "\n",
      "### Titan\n",
      "\n",
      "**Software.**\n",
      "\n",
      "\n",
      "  * Batch system: SLURM and MAUI\n",
      "\n",
      "  * Message Passing Interface (MPI):\n",
      "\n",
      "  * OpenMPI\n",
      "\n",
      "  * Scampi\n",
      "\n",
      "  * MPICH2\n",
      "\n",
      "  * Compilers: GCC, Intel, Portland and Pathscale\n",
      "\n",
      "  * Optimized math libraries and scientific applications\n",
      "\n",
      "  * All you need may be found under \\texttt{/site}\n",
      "\n",
      "  * Available software: <http://www.hpc.uio.no/index.php/Titan_software>\n",
      "\n",
      "\n",
      "\n",
      "\n",
      "### Getting started\n",
      "\n",
      "**Batch systems.**\n",
      "\n",
      "\n",
      "  * A batch system controls the use of the cluster resources\n",
      "\n",
      "  * Submits the job to the right resource\n",
      "\n",
      "  * Monitors the job while executing\n",
      "\n",
      "  * Restarts the job in case of failure\n",
      "\n",
      "  * Takes care of priorities and queues to control execution order of unrelated jobs\n",
      "\n",
      "\n",
      "**Sun Grid Engine.**\n",
      "\n",
      "\n",
      "  * SGE is the batch system used on Titan\n",
      "\n",
      "  * Jobs are executed either interactively or through job scripts\n",
      "\n",
      "  * Useful commands: \\texttt{showq}, \\texttt{qlogin}, \\texttt{sbatch}\n",
      "\n",
      "  * <http://hpc.uio.no/index.php/Titan_User_Guide>\n",
      "\n",
      "\n",
      "\n",
      "\n",
      "### Getting started\n",
      "\n",
      "**Modules.**\n",
      "\n",
      "\n",
      "  * Different compilers, MPI-versions and applications need different sets of user environment variables\n",
      "\n",
      "  * The \\texttt{modules} package lets you load and remove the\n",
      "      different variable sets\n",
      "\n",
      "  * Useful commands:\n",
      "\n",
      "  * List available modules: \\texttt{module avail}\n",
      "\n",
      "  * Load module: \\texttt{module load <environment>}\n",
      "\n",
      "  * Unload module: \\texttt{module unload <environment>}\n",
      "\n",
      "  * Currently loaded: \\texttt{module list}\n",
      "\n",
      "  * <http://hpc.uio.no/index.php/Titan_User_Guide>\n",
      "\n",
      "\n",
      "\n",
      "\n",
      "### Example\n",
      "\n",
      "**Interactively.**\n",
      "\n",
      "<!-- @@@CODE interactive.sh -->\n",
      "\n",
      "\n",
      "\n",
      "\n",
      "### The job script\n",
      "\n",
      "**job.sge.**\n",
      "\n",
      "<!-- @@@CODE job.sge -->\n",
      "\n",
      "\n",
      "\n",
      "\n",
      "### Example\n",
      "\n",
      "**Submitting.**\n",
      "\n",
      "<!-- @@@CODE submitting.sh -->\n",
      "\n",
      "\n",
      "\n",
      "\n",
      "### Example\n",
      "\n",
      "**Checking execution.**\n",
      "\n",
      "<!-- @@@CODE checking.sh -->\n",
      "\n",
      "\n",
      "\n",
      "\n",
      "### Tips and admonitions\n",
      "\n",
      "**Tips.**\n",
      "\n",
      "  * Titan FAQ: <http://www.hpc.uio.no/index.php/FAQ>\n",
      "\n",
      "  * man-pages, e.g. \\texttt{man sbatch}\n",
      "\n",
      "  * Ask us\n",
      "\n",
      "\n",
      "**Admonitions.**\n",
      "\n",
      "\n",
      "  * Remember to exit from qlogin-sessions; the resource is reserved for you untill you exit\n",
      "\n",
      "  * Don't run jobs on login-nodes; these are only for compiling\n",
      "    and editing files\n",
      "\n",
      "\n",
      "\n",
      "\n",
      "\n",
      "### Projects: quantum mechanics\n",
      "\n",
      "The expectation value of the kinetic energy expressed in atomic units for electron $i$ is"
     ]
    },
    {
     "cell_type": "markdown",
     "metadata": {},
     "source": [
      "$$\n",
      "K_i = -\\frac{1}{2}\\frac{\\nabla_{i}^{2} \\Psi}{\\Psi}.\n",
      "$$"
     ]
    },
    {
     "cell_type": "markdown",
     "metadata": {},
     "source": [
      "$$\n",
      "\\begin{equation}\n",
      "\\frac{\\nabla^2 \\Psi}{\\Psi}\n",
      "= \\frac{\\nabla^2 \\Psi_{D}}{\\Psi_{D}} + \\frac{\\nabla^2  \\Psi_J}{ \\Psi_J} + 2 \\frac{\\Grad \\Psi_{D}}{\\Psi_{D}}\\cdot\\frac{\\Grad  \\Psi_J}{ \\Psi_J}\n",
      "\\end{equation}\n",
      "$$"
     ]
    },
    {
     "cell_type": "markdown",
     "metadata": {},
     "source": [
      "### Quantum mechanical project\n",
      "\n",
      "We define the correlated function as"
     ]
    },
    {
     "cell_type": "markdown",
     "metadata": {},
     "source": [
      "$$\n",
      "\\Psi_J=\\prod_{i < j}g(r_{ij})=\\prod_{i < j}^Ng(r_{ij})= \\prod_{i=1}^N\\prod_{j=i+1}^Ng(r_{ij}),\n",
      "$$"
     ]
    },
    {
     "cell_type": "markdown",
     "metadata": {},
     "source": [
      "with\n",
      "$r_{ij}=|{\\bf r}_i-{\\bf r}_j|=\\sqrt{(x_i-x_j)^2+(y_i-y_j)^2+(z_i-z_j)^2}$ for three dimensions and\n",
      "$r_{ij}=|{\\bf r}_i-{\\bf r}_j|=\\sqrt{(x_i-x_j)^2+(y_i-y_j)^2}$ for two dimensions.\n",
      "\n",
      "In our particular case we have"
     ]
    },
    {
     "cell_type": "markdown",
     "metadata": {},
     "source": [
      "$$\n",
      "\\Psi_J=\\prod_{i < j}g(r_{ij})=\\exp{\\left\\{\\sum_{i < j}f(r_{ij})\\right\\}}=\n",
      "\\exp{\\left\\{\\sum_{i < j}\\frac{ar_{ij}}{1+\\beta r_{ij}}\\right\\}},\n",
      "$$"
     ]
    },
    {
     "cell_type": "markdown",
     "metadata": {},
     "source": [
      "### Quantum mechanical project\n",
      "\n",
      "The second derivative of the Jastrow factor divided by the Jastrow factor (the way it enters the kinetic energy) is"
     ]
    },
    {
     "cell_type": "markdown",
     "metadata": {},
     "source": [
      "$$\n",
      "\\left[\\frac{\\nabla^2 \\Psi_J}{\\Psi_J}\\right]_x =\\\n",
      "2\\sum_{k=1}^{N}\n",
      "\\sum_{i=1}^{k-1}\\frac{\\partial^2 g_{ik}}{\\partial x_k^2}\\ +\\\n",
      "\\sum_{k=1}^N\n",
      "\\left(\n",
      "\\sum_{i=1}^{k-1}\\frac{\\partial g_{ik}}{\\partial x_k} -\n",
      "\\sum_{i=k+1}^{N}\\frac{\\partial g_{ki}}{\\partial x_i}\n",
      "\\right)^2\n",
      "$$"
     ]
    },
    {
     "cell_type": "markdown",
     "metadata": {},
     "source": [
      "But we have a simple form for the function, namely"
     ]
    },
    {
     "cell_type": "markdown",
     "metadata": {},
     "source": [
      "$$\n",
      "\\Psi_{J}=\\prod_{i < j}\\exp{f(r_{ij})}= \\exp{\\left\\{\\sum_{i < j}\\frac{ar_{ij}}{1+\\beta r_{ij}}\\right\\}},\n",
      "$$"
     ]
    },
    {
     "cell_type": "markdown",
     "metadata": {},
     "source": [
      "and it is easy to see that for particle $k$\n",
      "we have"
     ]
    },
    {
     "cell_type": "markdown",
     "metadata": {},
     "source": [
      "$$\n",
      "\\frac{\\nabla^2_k \\Psi_J}{\\Psi_J }=\n",
      "\\sum_{ij\\ne k}\\frac{({\\bf r}_k-{\\bf r}_i)({\\bf r}_k-{\\bf r}_j)}{r_{ki}r_{kj}}f'(r_{ki})f'(r_{kj})+\n",
      "\\sum_{j\\ne k}\\left( f''(r_{kj})+\\frac{2}{r_{kj}}f'(r_{kj})\\right)\n",
      "$$"
     ]
    },
    {
     "cell_type": "markdown",
     "metadata": {},
     "source": [
      "### Jastrow gradient\n",
      "\n",
      "We have"
     ]
    },
    {
     "cell_type": "markdown",
     "metadata": {},
     "source": [
      "$$\n",
      "\\Psi_J=\\prod_{i < j}g(r_{ij})= \\exp{\\left\\{\\sum_{i < j}\\frac{ar_{ij}}{1+\\beta r_{ij}}\\right\\}},\n",
      "$$"
     ]
    },
    {
     "cell_type": "markdown",
     "metadata": {},
     "source": [
      "the gradient needed for the local energy is easy to compute.\n",
      "We get for particle $k$"
     ]
    },
    {
     "cell_type": "markdown",
     "metadata": {},
     "source": [
      "$$\n",
      "\\frac{ \\nabla_k \\Psi_J}{ \\Psi_J }= \\sum_{j\\ne k}\\frac{{\\bf r}_{kj}}{r_{kj}}\\frac{a}{(1+\\beta r_{kj})^2},\n",
      "$$"
     ]
    },
    {
     "cell_type": "markdown",
     "metadata": {},
     "source": [
      "which is rather easy to code.  Remember to sum over all particles  when you compute the local energy.\n",
      "\n",
      "### Two-dimensional wave equation, Tsunami model\n",
      "\n",
      "We assume that we can approximate the coastline with a quadratic grid.\n",
      "As boundary condition at the coastline we will employ"
     ]
    },
    {
     "cell_type": "markdown",
     "metadata": {},
     "source": [
      "$$\n",
      "\\frac{\\partial u}{\\partial n} = \\nabla u\\cdot {\\bf n} = 0,\n",
      "$$"
     ]
    },
    {
     "cell_type": "markdown",
     "metadata": {},
     "source": [
      "where $\\partial u/\\partial n$ is the derivative in the direction normal to the boundary.\n",
      "\n",
      "Here you must pay particular attention to the endpoints.\n",
      "\n",
      "### Two-dimensional wave equation\n",
      "\n",
      "We are going to model the impact of an earthquake on sea water. This is normally modelled\n",
      "via an elevation of the sea bottom. We will assume that the movement of the sea bottom\n",
      "is very rapid compared with the period of the propagating waves.  This means that we can\n",
      "approximate the bottom elevation with an initial surface elevation.\n",
      "The initial conditions are then given by (with $L$ the length of the grid)"
     ]
    },
    {
     "cell_type": "markdown",
     "metadata": {},
     "source": [
      "$$\n",
      "u(x,y,0) = f(x,y)\\quad x,y\\in (0,L),\n",
      "$$"
     ]
    },
    {
     "cell_type": "markdown",
     "metadata": {},
     "source": [
      "and"
     ]
    },
    {
     "cell_type": "markdown",
     "metadata": {},
     "source": [
      "$$\n",
      "\\partial u/\\partial t|_{t=0}=0 \\quad x,y\\in (0,L).\n",
      "$$"
     ]
    },
    {
     "cell_type": "markdown",
     "metadata": {},
     "source": [
      "We will approximate the initial elevation with the function"
     ]
    },
    {
     "cell_type": "markdown",
     "metadata": {},
     "source": [
      "$$\n",
      "f(x,y) =  A_0 \\exp{\\left(-\\left[\\frac{x-x_c}{\\sigma_x}\\right]^2-\\left[\\frac{y-y_c}{\\sigma_y}\\right]^2\\right)},\n",
      "$$"
     ]
    },
    {
     "cell_type": "markdown",
     "metadata": {},
     "source": [
      "where $A_0$ is the elevation of the surface and is typically $1-2$ m.  The variables $\\sigma_x$ and\n",
      "$\\sigma_y$ represent the extensions of the surface elevation. Here we  let $\\sigma_x=80$ km\n",
      "and $\\sigma_y=200$ km. The 2004 tsunami had extensions of approximately 200 and 1000 km, respectively.\n",
      "\n",
      "The variables $x_c$ and $y_c$ represent the epicentre of the earthquake.\n",
      "\n",
      "\n",
      "### Exam FYS3150 place FV329, Lab\n",
      "\n",
      "**Place and duration.**\n",
      "\n",
      "  * 13/12-17/12.\n",
      "\n",
      "  * duration: $\\sim 45$ min\n",
      "\n",
      "  * ca 20-25 min for discussion of the project, your presentation, reproduction of results, test runs etc\n",
      "\n",
      "  * 20-25 min for questions from one of the five topics listed below.\n",
      "\n",
      "  * Check final exam list by the end of this week, see webpage. Changes must be communicated to me at mhjensen@fys.uio.no.\n",
      "\n",
      "\n",
      "\n",
      "\n",
      "### Exam FYS3150\n",
      "\n",
      "**How to prepare your Talk.**\n",
      "\n",
      "  * You can use slides, ps, pdf, ppt etc files (projector and slide projector at room FV329). Latex example on webpage. Choose among one of the two versions of project 5.\n",
      "\n",
      "  * 10-15 mins (5-15 slides) for your presentation, rest of 10-15 mins questions and test of code from classfronter You should discuss\n",
      "\n",
      "  * The mathematical model and the physics\n",
      "\n",
      "  * Your algorithm and how you implemented it, with selected results\n",
      "\n",
      "  * How you dealt with eventual comments and your corrections of these\n",
      "\n",
      "  * Any improvement you can think of\n",
      "\n",
      "\n",
      "\n",
      "## Week 44, 26-30 Oct\n",
      "\n",
      "### Week 44, October 26-30\n",
      "\n",
      "**Ising model, phase transitions and project 4.**\n",
      "\n",
      "  * Monday: Repetition from last week\n",
      "\n",
      "  * Discussion of project 4, results near the phase transition\n",
      "\n",
      "  * Definition of correlation time and equilibration time (optional part of project 4).\n",
      "\n",
      "  * Wednesday:\n",
      "\n",
      "  * End Monte Carlo discussion and summary of chapters 8-10. Chapter 11 on quantum Monte Carlo will not be discussed and is not part of the curriculum.\n",
      "\n",
      "\n",
      "\n",
      "### Mean Field Theory and the Ising Model\n",
      "\n",
      "In studies of phase transitions we are interested in minimizing the free energy\n",
      "by varying the average magnetization, which is the order parameter (disappears at\n",
      "$T_C$).\n",
      "\n",
      "In mean field theory the local magnetization is a treated as a constant, all effects from fluctuations\n",
      "are neglected. A way to achieve this is to rewrite by adding and subtracting the mean magnetization\n",
      "$\\langle s \\rangle$"
     ]
    },
    {
     "cell_type": "markdown",
     "metadata": {},
     "source": [
      "$$\n",
      "s_is_j=(s_i-\\langle s \\rangle+\\langle s \\rangle)(s_i-\\langle s \\rangle+\\langle s \\rangle)\n",
      "\\approx \\langle s \\rangle^2+\\langle s \\rangle(s_i-\\langle s \\rangle)+\\langle s \\rangle(s_j-\\langle s \\rangle),\n",
      "$$"
     ]
    },
    {
     "cell_type": "markdown",
     "metadata": {},
     "source": [
      "where we have ignored terms of the order\n",
      "$(s_i-\\langle s \\rangle)(s_i-\\langle s \\rangle)$, which leads to correlations between neighbouring\n",
      "spins. In mean field theory we ignore correlations.\n",
      "\n",
      "### Mean Field Theory and the Ising Model\n",
      "\n",
      "This means that we can rewrite the  Hamiltonian"
     ]
    },
    {
     "cell_type": "markdown",
     "metadata": {},
     "source": [
      "$$\n",
      "E=-J\\sum_{< ij >}^{N}s_ks_l-B\\sum_i^Ns_i,\n",
      "$$"
     ]
    },
    {
     "cell_type": "markdown",
     "metadata": {},
     "source": [
      "as"
     ]
    },
    {
     "cell_type": "markdown",
     "metadata": {},
     "source": [
      "$$\n",
      "E=-J\\sum_{< ij >}\\langle s \\rangle^2+\\langle s \\rangle(s_i-\\langle s \\rangle)+\\langle s \\rangle(s_j-\\langle s \\rangle)    -B\\sum_i s_i,\n",
      "$$"
     ]
    },
    {
     "cell_type": "markdown",
     "metadata": {},
     "source": [
      "resulting in"
     ]
    },
    {
     "cell_type": "markdown",
     "metadata": {},
     "source": [
      "$$\n",
      "E=-(B+zJ\\langle s \\rangle) \\sum_i s_i +zJ\\langle s \\rangle^2,\n",
      "$$"
     ]
    },
    {
     "cell_type": "markdown",
     "metadata": {},
     "source": [
      "with $z$ the number of nearest neighbours for a given site $i$.\n",
      "We can define an effective field which all spins see, namely"
     ]
    },
    {
     "cell_type": "markdown",
     "metadata": {},
     "source": [
      "$$\n",
      "B_{\\mbox{eff}}=(B+zJ\\langle s \\rangle).\n",
      "$$"
     ]
    },
    {
     "cell_type": "markdown",
     "metadata": {},
     "source": [
      "### Mean Field Theory and the Ising Model\n",
      "\n",
      "How do we get $\\langle s \\rangle)$?\n",
      "\n",
      "Here we use the canonical ensemble. The partition function reads in this case"
     ]
    },
    {
     "cell_type": "markdown",
     "metadata": {},
     "source": [
      "$$\n",
      "Z=e^{-NzJ\\langle s \\rangle^2/kT}\\left(2cosh(B_{\\mbox{eff}}/kT)\\right)^N,\n",
      "$$"
     ]
    },
    {
     "cell_type": "markdown",
     "metadata": {},
     "source": [
      "with a free energy"
     ]
    },
    {
     "cell_type": "markdown",
     "metadata": {},
     "source": [
      "$$\n",
      "F=-kTlnZ=-NkTln(2)+NzJ\\langle s \\rangle^2-NkTln\\left(cosh(B_{\\mbox{eff}}/kT)\\right)\n",
      "$$"
     ]
    },
    {
     "cell_type": "markdown",
     "metadata": {},
     "source": [
      "and minimizing $F$ wrt $\\langle s \\rangle$ we arrive at"
     ]
    },
    {
     "cell_type": "markdown",
     "metadata": {},
     "source": [
      "$$\n",
      "\\langle s \\rangle = tanh(2cosh\\left(B_{\\mbox{eff}}/kT)\\right).\n",
      "$$"
     ]
    },
    {
     "cell_type": "markdown",
     "metadata": {},
     "source": [
      "### Connecting to Landau Theory\n",
      "\n",
      "Close to the phase transition we expect $\\langle s \\rangle$ to become small\n",
      "and eventually vanish. We can then expand $F$ in powers of $\\langle s \\rangle$ as"
     ]
    },
    {
     "cell_type": "markdown",
     "metadata": {},
     "source": [
      "$$\n",
      "F=-NkTln(2)+NzJ\\langle s \\rangle^2-NkT-BN\\langle s \\rangle+NkT\\left(\\frac{1}{2}\\langle s \\rangle^2+\n",
      "\\frac{1}{12}\\langle s \\rangle^4+\\dots\\right),\n",
      "$$"
     ]
    },
    {
     "cell_type": "markdown",
     "metadata": {},
     "source": [
      "and using $\\langle M\\rangle = N\\langle s \\rangle$ we can rewrite as"
     ]
    },
    {
     "cell_type": "markdown",
     "metadata": {},
     "source": [
      "$$\n",
      "F=F_0-B\\langle M\\rangle +\\frac{1}{2}a\\langle M \\rangle^2+\n",
      "\\frac{1}{4}b\\langle M \\rangle^4+\\dots\n",
      "$$"
     ]
    },
    {
     "cell_type": "markdown",
     "metadata": {},
     "source": [
      "### Connecting to Landau Theory\n",
      "\n",
      "Let $\\langle M \\rangle = m$ and"
     ]
    },
    {
     "cell_type": "markdown",
     "metadata": {},
     "source": [
      "$$\n",
      "F=F_0+\\frac{1}{2}am^2+\n",
      "\\frac{1}{4}bm^4+\\frac{1}{6}cm^6\n",
      "$$"
     ]
    },
    {
     "cell_type": "markdown",
     "metadata": {},
     "source": [
      "$F$ has a minimum at equilibrium $F'(m) =0$ and $F''(m) > 0$"
     ]
    },
    {
     "cell_type": "markdown",
     "metadata": {},
     "source": [
      "$$\n",
      "F'(m)=0=m(a+bm^2+cm^4),\n",
      "$$"
     ]
    },
    {
     "cell_type": "markdown",
     "metadata": {},
     "source": [
      "and if we assume that $m$ is real we have two solutions"
     ]
    },
    {
     "cell_type": "markdown",
     "metadata": {},
     "source": [
      "$$\n",
      "m=0,\n",
      "$$"
     ]
    },
    {
     "cell_type": "markdown",
     "metadata": {},
     "source": [
      "or"
     ]
    },
    {
     "cell_type": "markdown",
     "metadata": {},
     "source": [
      "$$\n",
      "m^2 = \\frac{b}{2c}\\left(-1\\pm\\sqrt{1-4ac/b^2}\\right)\n",
      "$$"
     ]
    },
    {
     "cell_type": "markdown",
     "metadata": {},
     "source": [
      "### Second Order Phase Transition\n",
      "\n",
      "Can describe both first and second-order phase transitions. Here we consider the second case.\n",
      "Assume $b > 0$ and $a\\ll 1$ small since we want to study a perturbation around $m=0$. We reach the critical point when\n",
      "$a=0$."
     ]
    },
    {
     "cell_type": "markdown",
     "metadata": {},
     "source": [
      "$$\n",
      "m^2 = \\frac{b}{2c}\\left((-1\\pm\\sqrt{1-4ac/b^2}\\right)\\approx -a/b\n",
      "$$"
     ]
    },
    {
     "cell_type": "markdown",
     "metadata": {},
     "source": [
      "Assume that"
     ]
    },
    {
     "cell_type": "markdown",
     "metadata": {},
     "source": [
      "$$\n",
      "a(T) = \\alpha (T-T_C),\n",
      "$$"
     ]
    },
    {
     "cell_type": "markdown",
     "metadata": {},
     "source": [
      "with $\\alpha > 0$ and $T_C$ the critical temperature where the magnetization vanishes. If $a$ is negative we have two solutions"
     ]
    },
    {
     "cell_type": "markdown",
     "metadata": {},
     "source": [
      "$$\n",
      "m = \\pm \\sqrt{-a/b}  = \\pm \\sqrt{\\frac{\\alpha (T_C-T)}{b}}\n",
      "$$"
     ]
    },
    {
     "cell_type": "markdown",
     "metadata": {},
     "source": [
      "$m$ evolves continuously to the critical temperature where $F=0$ for $T \\le T_C$ (see separate graph).\n",
      "\n",
      "### Entropy and Specific Heat\n",
      "\n",
      "We can now compute the entropy"
     ]
    },
    {
     "cell_type": "markdown",
     "metadata": {},
     "source": [
      "$$\n",
      "S= -\\left(\\frac{\\partial F}{\\partial T}\\right)\n",
      "$$"
     ]
    },
    {
     "cell_type": "markdown",
     "metadata": {},
     "source": [
      "For $T \\ge T_C$ we have $m=0$ and"
     ]
    },
    {
     "cell_type": "markdown",
     "metadata": {},
     "source": [
      "$$\n",
      "S= -\\left(\\frac{\\partial F_0}{\\partial T}\\right)\n",
      "$$"
     ]
    },
    {
     "cell_type": "markdown",
     "metadata": {},
     "source": [
      "and for $T \\le T_C$"
     ]
    },
    {
     "cell_type": "markdown",
     "metadata": {},
     "source": [
      "$$\n",
      "S= -\\left(\\frac{\\partial F_0}{\\partial T}\\right)-\\alpha^2(T_C-T)/2b,\n",
      "$$"
     ]
    },
    {
     "cell_type": "markdown",
     "metadata": {},
     "source": [
      "and we see that there is a smooth  crossover at $T_C$.\n",
      "\n",
      "### Entropy and Specific Heat\n",
      "\n",
      "We can now compute the specific heat"
     ]
    },
    {
     "cell_type": "markdown",
     "metadata": {},
     "source": [
      "$$\n",
      "C_V= T\\left(\\frac{\\partial S}{\\partial T}\\right)\n",
      "$$"
     ]
    },
    {
     "cell_type": "markdown",
     "metadata": {},
     "source": [
      "and $T_C$ we get a discontinuity of"
     ]
    },
    {
     "cell_type": "markdown",
     "metadata": {},
     "source": [
      "$$\n",
      "\\Delta C_V  = -\\alpha^2/2b,\n",
      "$$"
     ]
    },
    {
     "cell_type": "markdown",
     "metadata": {},
     "source": [
      "signalling a second-order phase transition.\n",
      "Landau theory gives irrespective of dimension critical exponents"
     ]
    },
    {
     "cell_type": "markdown",
     "metadata": {},
     "source": [
      "$$\n",
      "m \\sim (T_C-T)^{\\beta},\n",
      "$$"
     ]
    },
    {
     "cell_type": "markdown",
     "metadata": {},
     "source": [
      "and"
     ]
    },
    {
     "cell_type": "markdown",
     "metadata": {},
     "source": [
      "$$\n",
      "C_V \\sim (T_C-T)^{\\alpha},\n",
      "$$"
     ]
    },
    {
     "cell_type": "markdown",
     "metadata": {},
     "source": [
      "with $\\beta =1/2$ and $\\alpha = 1$.\n",
      "It predicts a phase transition for one dimension as well.\n",
      "For the Ising model there is no phase transition for $d=1$.\n",
      "In two dimensions we have $\\beta=1/8$ and $\\alpha =0$.\n",
      "\n",
      "### Scaling Results\n",
      "\n",
      "Near $T_C$ we can characterize the behavior of many physical quantities\n",
      "by a power law behavior.\n",
      "As an example, the mean magnetization is given by"
     ]
    },
    {
     "cell_type": "markdown",
     "metadata": {},
     "source": [
      "$$\n",
      "\\begin{equation}\n",
      "  \\langle {\\cal M}(T) \\rangle \\sim \\left(T-T_C\\right)^{\\beta},\n",
      "\\end{equation}\n",
      "$$"
     ]
    },
    {
     "cell_type": "markdown",
     "metadata": {},
     "source": [
      "where $\\beta$ is a so-called critical exponent. A similar relation\n",
      "applies to the heat capacity"
     ]
    },
    {
     "cell_type": "markdown",
     "metadata": {},
     "source": [
      "$$\n",
      "\\begin{equation}\n",
      "  C_V(T) \\sim \\left|T_C-T\\right|^{-\\alpha},\n",
      "\\end{equation}\n",
      "$$"
     ]
    },
    {
     "cell_type": "markdown",
     "metadata": {},
     "source": [
      "the susceptibility"
     ]
    },
    {
     "cell_type": "markdown",
     "metadata": {},
     "source": [
      "$$\n",
      "\\begin{equation}\n",
      "  \\chi(T) \\sim \\left|T_C-T\\right|^{\\gamma}.\n",
      "\\end{equation}\n",
      "$$"
     ]
    },
    {
     "cell_type": "markdown",
     "metadata": {},
     "source": [
      "and the correlation length"
     ]
    },
    {
     "cell_type": "markdown",
     "metadata": {},
     "source": [
      "$$\n",
      "\\begin{equation}\n",
      "  \\xi(T) \\sim \\left|T_C-T\\right|^{-\\nu}.\n",
      "\\end{equation}\n",
      "$$"
     ]
    },
    {
     "cell_type": "markdown",
     "metadata": {},
     "source": [
      "$\\alpha = 0$, $\\beta = 1/8$, $\\gamma = 7/4$ and $\\nu = 1$. Below we will derive these coefficients\n",
      "from finite size scaling theories.\n",
      "\n",
      "### Scaling Results\n",
      "\n",
      "Through finite size scaling relations\n",
      "it is possible to relate the behavior at finite lattices with the\n",
      "results for an infinitely large lattice.\n",
      "The critical temperature scales then as"
     ]
    },
    {
     "cell_type": "markdown",
     "metadata": {},
     "source": [
      "<!-- Equation labels as ordinary links -->\n",
      "<a name=\"eq:tc\"/>\n",
      "\n",
      "$$\n",
      "\\begin{equation}\n",
      " T_C(L)-T_C(L=\\infty) \\sim aL^{-1/\\nu},\n",
      " \\label{eq:tc} \\tag{53}\n",
      "\\end{equation}\n",
      "$$"
     ]
    },
    {
     "cell_type": "markdown",
     "metadata": {},
     "source": [
      "<!-- Equation labels as ordinary links -->\n",
      "<a name=\"eq:scale1\"/>\n",
      "\n",
      "$$\n",
      "\\begin{equation}\n",
      "  \\langle {\\cal M}(T) \\rangle \\sim \\left(T-T_C\\right)^{\\beta}\n",
      "  \\rightarrow L^{-\\beta/\\nu},\n",
      "  \\label{eq:scale1} \\tag{54}\n",
      "\\end{equation}\n",
      "$$"
     ]
    },
    {
     "cell_type": "markdown",
     "metadata": {},
     "source": [
      "<!-- Equation labels as ordinary links -->\n",
      "<a name=\"eq:scale2\"/>\n",
      "\n",
      "$$\n",
      "\\begin{equation}\n",
      "  C_V(T) \\sim \\left|T_C-T\\right|^{-\\gamma} \\rightarrow L^{\\gamma/\\nu},\n",
      "  \\label{eq:scale2} \\tag{55}\n",
      "\\end{equation}\n",
      "$$"
     ]
    },
    {
     "cell_type": "markdown",
     "metadata": {},
     "source": [
      "and"
     ]
    },
    {
     "cell_type": "markdown",
     "metadata": {},
     "source": [
      "<!-- Equation labels as ordinary links -->\n",
      "<a name=\"eq:scale3\"/>\n",
      "\n",
      "$$\n",
      "\\begin{equation}\n",
      "  \\chi(T) \\sim \\left|T_C-T\\right|^{-\\alpha} \\rightarrow L^{\\alpha/\\nu}.\n",
      "  \\label{eq:scale3} \\tag{56}\n",
      "\\end{equation}\n",
      "$$"
     ]
    },
    {
     "cell_type": "markdown",
     "metadata": {},
     "source": [
      "We can compute the slope of the curves for $M$, $C_V$ and $\\chi$ as function of lattice sites and extract\n",
      "the exponent $\\nu$.\n",
      "\n",
      "### Analytic Results: two-dimensional Ising model\n",
      "\n",
      "The analytic expression for the Ising model in two dimensions was obtained\n",
      "in 1944 by the Norwegian chemist Lars Onsager (Nobel prize in chemistry).\n",
      "The exact partition function\n",
      "for $N$ spins in two dimensions and with zero magnetic field $\\cal H$ is given by"
     ]
    },
    {
     "cell_type": "markdown",
     "metadata": {},
     "source": [
      "$$\n",
      "Z_N=\\left[2cosh(\\beta J)e^I\\right]^N,\n",
      "$$"
     ]
    },
    {
     "cell_type": "markdown",
     "metadata": {},
     "source": [
      "with"
     ]
    },
    {
     "cell_type": "markdown",
     "metadata": {},
     "source": [
      "$$\n",
      "I=\\frac{1}{2\\pi}\\int_0^{\\pi}d\\phi ln\n",
      "        \\left[\\frac{1}{2}\\left(1+(1-\\kappa^2sin^2\\phi)^{1/2}\\right)\\right],\n",
      "$$"
     ]
    },
    {
     "cell_type": "markdown",
     "metadata": {},
     "source": [
      "and"
     ]
    },
    {
     "cell_type": "markdown",
     "metadata": {},
     "source": [
      "$$\n",
      "\\kappa=2sinh(2\\beta J)/cosh^2(2\\beta J).\n",
      "$$"
     ]
    },
    {
     "cell_type": "markdown",
     "metadata": {},
     "source": [
      "### Analytic Results: two-dimensional Ising model\n",
      "\n",
      "The resulting energy is given by"
     ]
    },
    {
     "cell_type": "markdown",
     "metadata": {},
     "source": [
      "$$\n",
      "\\langle E\\rangle =  -Jcoth(2\\beta J)\\left[1+\\frac{2}{\\pi}(2tanh^2(2\\beta J)-1)K_1(q)\\right],\n",
      "$$"
     ]
    },
    {
     "cell_type": "markdown",
     "metadata": {},
     "source": [
      "with\n",
      "$q=2sinh(2\\beta J)/cosh^2(2\\beta J)$ and the complete elliptic integral of the first kind"
     ]
    },
    {
     "cell_type": "markdown",
     "metadata": {},
     "source": [
      "$$\n",
      "K_1(q) = \\int_0^{\\pi/2}\\frac{d\\phi}{\\sqrt{1-q^2sin^2\\phi}}.\n",
      "$$"
     ]
    },
    {
     "cell_type": "markdown",
     "metadata": {},
     "source": [
      "### Analytic Results: two-dimensional Ising model\n",
      "\n",
      "Differentiating once more with respect to temperature we obtain the specific heat given by"
     ]
    },
    {
     "cell_type": "markdown",
     "metadata": {},
     "source": [
      "$$\n",
      "C_V=\\frac{4k_B}{\\pi}(\\beta Jcoth(2\\beta J))^2\n",
      "$$"
     ]
    },
    {
     "cell_type": "markdown",
     "metadata": {},
     "source": [
      "$$\n",
      "\\left\\{K_1(q)-K_2(q)-(1-tanh^2(2\\beta J))\\left[\\frac{\\pi}{2}+(2tanh^2(2\\beta J)-1)K_1(q)\\right]\\right\\},\n",
      "$$"
     ]
    },
    {
     "cell_type": "markdown",
     "metadata": {},
     "source": [
      "with"
     ]
    },
    {
     "cell_type": "markdown",
     "metadata": {},
     "source": [
      "$$\n",
      "K_2(q) = \\int_0^{\\pi/2}d\\phi\\sqrt{1-q^2sin^2\\phi}.\n",
      "$$"
     ]
    },
    {
     "cell_type": "markdown",
     "metadata": {},
     "source": [
      "is the complete elliptic integral of the second kind.\n",
      "Near the critical temperature $T_C$ the specific heat behaves as"
     ]
    },
    {
     "cell_type": "markdown",
     "metadata": {},
     "source": [
      "$$\n",
      "C_V \\approx -\\frac{2}{k_B\\pi}\\left(\\frac{J}{T_C}\\right)^2ln\\left|1-\\frac{T}{T_C}\\right|+\\mbox{const}.\n",
      "$$"
     ]
    },
    {
     "cell_type": "markdown",
     "metadata": {},
     "source": [
      "### Analytic Results: two-dimensional Ising model\n",
      "\n",
      "In theories of critical phenomena one has that"
     ]
    },
    {
     "cell_type": "markdown",
     "metadata": {},
     "source": [
      "$$\n",
      "C_V\\sim \\left|1-\\frac{T}{T_C}\\right|^{-\\alpha},\n",
      "$$"
     ]
    },
    {
     "cell_type": "markdown",
     "metadata": {},
     "source": [
      "and Onsager's result is a special case of this power law behavior. The limiting form of the function"
     ]
    },
    {
     "cell_type": "markdown",
     "metadata": {},
     "source": [
      "$$\n",
      "lim_{\\alpha\\rightarrow 0} \\frac{1}{\\alpha}(Y^{-\\alpha}-1)=-lnY,\n",
      "$$"
     ]
    },
    {
     "cell_type": "markdown",
     "metadata": {},
     "source": [
      "meaning that the analytic result is a special case of the power law singularity with\n",
      "$\\alpha =0$.\n",
      "\n",
      "### Analytic Results: two-dimensional Ising model\n",
      "\n",
      "One can also show that the mean magnetization per spin is"
     ]
    },
    {
     "cell_type": "markdown",
     "metadata": {},
     "source": [
      "$$\n",
      "\\left[1-\\frac{(1-tanh^2 (\\beta J))^4}{16tanh^4(\\beta J)}\\right]^{1/8}\n",
      "$$"
     ]
    },
    {
     "cell_type": "markdown",
     "metadata": {},
     "source": [
      "for $T < T_C$ and $0$ for $T> T_C$. The behavior is thus as $T\\rightarrow T_C$ from below"
     ]
    },
    {
     "cell_type": "markdown",
     "metadata": {},
     "source": [
      "$$\n",
      "M(T) \\sim (T_C-T)^{1/8}\n",
      "$$"
     ]
    },
    {
     "cell_type": "markdown",
     "metadata": {},
     "source": [
      "The susceptibility behaves as"
     ]
    },
    {
     "cell_type": "markdown",
     "metadata": {},
     "source": [
      "$$\n",
      "\\chi(T) \\sim |T_C-T|^{-7/4}\n",
      "$$"
     ]
    },
    {
     "cell_type": "markdown",
     "metadata": {},
     "source": [
      "### Time Auto-correlation Function\n",
      "\n",
      "The so-called time-displacement autocorrelation $\\phi(t)$ for the magnetization is given by"
     ]
    },
    {
     "cell_type": "markdown",
     "metadata": {},
     "source": [
      "$$\n",
      "\\phi(t) = \\int dt' \\left[{\\cal M}(t')-\\langle {\\cal M} \\rangle\\right]\\left[{\\cal M}(t'+t)-\\langle {\\cal M} \\rangle\\right],\n",
      "$$"
     ]
    },
    {
     "cell_type": "markdown",
     "metadata": {},
     "source": [
      "which can be rewritten as"
     ]
    },
    {
     "cell_type": "markdown",
     "metadata": {},
     "source": [
      "$$\n",
      "\\phi(t) = \\int dt' \\left[{\\cal M}(t'){\\cal M}(t'+t)-\\langle {\\cal M} \\rangle^2\\right],\n",
      "$$"
     ]
    },
    {
     "cell_type": "markdown",
     "metadata": {},
     "source": [
      "where $\\langle {\\cal M} \\rangle$ is the average value of the magnetization and\n",
      "${\\cal M}(t)$ its instantaneous value. We can discretize this function as follows, where we used our\n",
      "set of computed values ${\\cal M}(t)$ for a set of discretized times (our Monte Carlo cycles corresponding\n",
      "to a sweep over the lattice)"
     ]
    },
    {
     "cell_type": "markdown",
     "metadata": {},
     "source": [
      "<!-- Equation labels as ordinary links -->\n",
      "<a name=\"eq:phitf\"/>\n",
      "\n",
      "$$\n",
      "\\phi(t)  = \\frac{1}{t_{\\mbox{max}}-t}\\sum_{t'=0}^{t_{\\mbox{max}}-t}{\\cal M}(t'){\\cal M}(t'+t)\n",
      "-\\frac{1}{t_{\\mbox{max}}-t}\\sum_{t'=0}^{t_{\\mbox{max}}-t}{\\cal M}(t')\\times\n",
      "\\frac{1}{t_{\\mbox{max}}-t}\\sum_{t'=0}^{t_{\\mbox{max}}-t}{\\cal M}(t'+t).\\label{eq:phitf} \\tag{57}\n",
      "$$"
     ]
    },
    {
     "cell_type": "markdown",
     "metadata": {},
     "source": [
      "### Correlation Time, how to compute"
     ]
    },
    {
     "cell_type": "markdown",
     "metadata": {},
     "source": [
      "        // define m-value at each cycle within loop over cycles\n",
      "        m_matrix[cycles] = Maverage/(n_spins**2)/cycles\n",
      "        //  Then compute phi(i)  as (in pseudocode)\n",
      "            for  i = 1, mcs\n",
      "                 r = 1.0/(mcs-i)\n",
      "                 s = 0.0; v = 0.0; p= 0.0\n",
      "                 for j = 1, mcs-i\n",
      "                     p = p+ m_matrix(j)*m_matrix(j+i)\n",
      "                     s = s+ m_matrix(j)\n",
      "                     v = v+ m_matrix(j+i)\n",
      "                 end for\n",
      "                 phi(i)  = r*p-r*r*s*v\n",
      "            end for\n"
     ]
    },
    {
     "cell_type": "markdown",
     "metadata": {},
     "source": [
      "### Time Auto-correlation Function\n",
      "\n",
      "One should be careful with times close to $t_{\\mbox{max}}$, the upper limit of the sums\n",
      "becomes small and we end up integrating over a rather small time interval. This means that the statistical\n",
      "error in $\\phi(t)$ due to the random nature of the fluctuations in ${\\cal M}(t)$ can become large.\n",
      "\n",
      "One should therefore choose $t \\ll t_{\\mbox{max}}$.\n",
      "\n",
      "Note also that we could replace the magnetization with the mean energy, or any other expectation values of interest.\n",
      "\n",
      "The time-correlation function for the magnetization gives a measure of the correlation between the magnetization\n",
      "at a time $t'$ and a time $t'+t$. If we multiply the magnetizations at these two different times,\n",
      "we will get a positive contribution if the magnetizations are fluctuating in the same direction, or a negative value\n",
      "if they fluctuate in the opposite direction. If we then integrate over time, or use the discretized version of, the time correlation function $\\phi(t)$ should take a non-zero value if the fluctuations are\n",
      "correlated, else it should gradually go to zero. For times a long way apart the magnetizations are most likely\n",
      "uncorrelated and $\\phi(t)$ should be zero.\n",
      "\n",
      "### Time Auto-correlation Function\n",
      "\n",
      "We can derive the correlation time by observing that our Metropolis algorithm is based on a random\n",
      "walk in the space of all  possible spin configurations.\n",
      "Our probability\n",
      "distribution function ${\\bf \\hat{w}}(t)$ after a given number of time steps $t$ could be written as"
     ]
    },
    {
     "cell_type": "markdown",
     "metadata": {},
     "source": [
      "$$\n",
      "{\\bf \\hat{w}}(t) = {\\bf \\hat{W}^t\\hat{w}}(0),\n",
      "$$"
     ]
    },
    {
     "cell_type": "markdown",
     "metadata": {},
     "source": [
      "with ${\\bf \\hat{w}}(0)$ the distribution at $t=0$ and ${\\bf \\hat{W}}$ representing the\n",
      "transition probability matrix.\n",
      "We can always expand ${\\bf \\hat{w}}(0)$ in terms of the right eigenvectors of\n",
      "${\\bf \\hat{v}}$ of ${\\bf \\hat{W}}$ as"
     ]
    },
    {
     "cell_type": "markdown",
     "metadata": {},
     "source": [
      "$$\n",
      "{\\bf \\hat{w}}(0)  = \\sum_i\\alpha_i{\\bf \\hat{v}}_i,\n",
      "$$"
     ]
    },
    {
     "cell_type": "markdown",
     "metadata": {},
     "source": [
      "resulting in"
     ]
    },
    {
     "cell_type": "markdown",
     "metadata": {},
     "source": [
      "$$\n",
      "{\\bf \\hat{w}}(t) = {\\bf \\hat{W}}^t{\\bf \\hat{w}}(0)={\\bf \\hat{W}}^t\\sum_i\\alpha_i{\\bf \\hat{v}}_i=\n",
      "\\sum_i\\lambda_i^t\\alpha_i{\\bf \\hat{v}}_i,\n",
      "$$"
     ]
    },
    {
     "cell_type": "markdown",
     "metadata": {},
     "source": [
      "with $\\lambda_i$ the $i^{\\mbox{th}}$ eigenvalue corresponding to\n",
      "the eigenvector ${\\bf \\hat{v}}_i$.\n",
      "\n",
      "### Time Auto-correlation Function\n",
      "\n",
      "If we assume that $\\lambda_0$ is the largest eigenvector we see that in the limit $t\\rightarrow \\infty$,\n",
      "${\\bf \\hat{w}}(t)$ becomes proportional to the corresponding eigenvector\n",
      "${\\bf \\hat{v}}_0$. This is our steady state or final distribution.\n",
      "\n",
      "We can relate this property to an observable like the mean magnetization.\n",
      "With the probabilty ${\\bf \\hat{w}}(t)$ (which in our case is the Boltzmann distribution) we\n",
      "can write the mean magnetization as"
     ]
    },
    {
     "cell_type": "markdown",
     "metadata": {},
     "source": [
      "$$\n",
      "\\langle {\\cal M}(t) \\rangle  = \\sum_{\\mu} {\\bf \\hat{w}}(t)_{\\mu}{\\cal M}_{\\mu},\n",
      "$$"
     ]
    },
    {
     "cell_type": "markdown",
     "metadata": {},
     "source": [
      "or as the scalar of a  vector product"
     ]
    },
    {
     "cell_type": "markdown",
     "metadata": {},
     "source": [
      "$$\n",
      "\\langle {\\cal M}(t) \\rangle  = {\\bf \\hat{w}}(t){\\bf m},\n",
      "$$"
     ]
    },
    {
     "cell_type": "markdown",
     "metadata": {},
     "source": [
      "with ${\\bf m}$ being the vector whose elements are the values of ${\\cal M}_{\\mu}$ in its\n",
      "various microstates $\\mu$.\n",
      "\n",
      "### Time Auto-correlation Function\n",
      "\n",
      "We rewrite this relation  as"
     ]
    },
    {
     "cell_type": "markdown",
     "metadata": {},
     "source": [
      "$$\n",
      "\\langle {\\cal M}(t) \\rangle  = {\\bf \\hat{w}}(t){\\bf m}=\\sum_i\\lambda_i^t\\alpha_i{\\bf \\hat{v}}_i{\\bf m}_i.\n",
      "$$"
     ]
    },
    {
     "cell_type": "markdown",
     "metadata": {},
     "source": [
      "If we define $m_i={\\bf \\hat{v}}_i{\\bf m}_i$ as the expectation value of\n",
      "${\\cal M}$ in the $i^{\\mbox{th}}$ eigenstate we can rewrite the last equation as"
     ]
    },
    {
     "cell_type": "markdown",
     "metadata": {},
     "source": [
      "$$\n",
      "\\langle {\\cal M}(t) \\rangle  = \\sum_i\\lambda_i^t\\alpha_im_i.\n",
      "$$"
     ]
    },
    {
     "cell_type": "markdown",
     "metadata": {},
     "source": [
      "Since we have that in the limit $t\\rightarrow \\infty$ the mean magnetization is dominated by the\n",
      "the largest eigenvalue $\\lambda_0$, we can rewrite the last equation as"
     ]
    },
    {
     "cell_type": "markdown",
     "metadata": {},
     "source": [
      "$$\n",
      "\\langle {\\cal M}(t) \\rangle  = \\langle {\\cal M}(\\infty) \\rangle+\\sum_{i\\ne 0}\\lambda_i^t\\alpha_im_i.\n",
      "$$"
     ]
    },
    {
     "cell_type": "markdown",
     "metadata": {},
     "source": [
      "We define the quantity"
     ]
    },
    {
     "cell_type": "markdown",
     "metadata": {},
     "source": [
      "$$\n",
      "\\tau_i=-\\frac{1}{log\\lambda_i},\n",
      "$$"
     ]
    },
    {
     "cell_type": "markdown",
     "metadata": {},
     "source": [
      "and rewrite the last expectation value as"
     ]
    },
    {
     "cell_type": "markdown",
     "metadata": {},
     "source": [
      "<!-- Equation labels as ordinary links -->\n",
      "<a name=\"eq:finalmeanm\"/>\n",
      "\n",
      "$$\n",
      "\\langle {\\cal M}(t) \\rangle  = \\langle {\\cal M}(\\infty) \\rangle+\\sum_{i\\ne 0}\\alpha_im_ie^{-t/\\tau_i}.\n",
      "\\label{eq:finalmeanm} \\tag{58}\n",
      "$$"
     ]
    },
    {
     "cell_type": "markdown",
     "metadata": {},
     "source": [
      "### Time Auto-correlation Function\n",
      "\n",
      "The quantities $\\tau_i$ are the correlation times for the system. They control also the auto-correlation function\n",
      "discussed above.  The longest correlation time is obviously given by the second largest\n",
      "eigenvalue $\\tau_1$, which normally defines the correlation time discussed above. For large times, this is the\n",
      "only correlation time that survives. If higher eigenvalues of the transition matrix are well separated from\n",
      "$\\lambda_1$ and we simulate long enough,  $\\tau_1$ may well define the correlation time.\n",
      "In other cases we may not be able to extract a reliable result for $\\tau_1$.\n",
      "Coming back to the time correlation function $\\phi(t)$ we can present a more general definition in terms\n",
      "of the mean magnetizations $ \\langle {\\cal M}(t) \\rangle$. Recalling that the mean value is equal\n",
      "to $ \\langle {\\cal M}(\\infty) \\rangle$ we arrive at the expectation values"
     ]
    },
    {
     "cell_type": "markdown",
     "metadata": {},
     "source": [
      "$$\n",
      "\\phi(t) =\\langle {\\cal M}(0)-{\\cal M}(\\infty)\\rangle \\langle {\\cal M}(t)-{\\cal M}(\\infty)\\rangle,\n",
      "$$"
     ]
    },
    {
     "cell_type": "markdown",
     "metadata": {},
     "source": [
      "resulting in"
     ]
    },
    {
     "cell_type": "markdown",
     "metadata": {},
     "source": [
      "$$\n",
      "\\phi(t) =\\sum_{i,j\\ne 0}m_i\\alpha_im_j\\alpha_je^{-t/\\tau_i},\n",
      "$$"
     ]
    },
    {
     "cell_type": "markdown",
     "metadata": {},
     "source": [
      "which is appropriate for all times.\n",
      "\n",
      "### Correlation Time\n",
      "\n",
      "If the correlation function decays exponentially"
     ]
    },
    {
     "cell_type": "markdown",
     "metadata": {},
     "source": [
      "$$\n",
      "\\phi (t) \\sim \\exp{(-t/\\tau)}\n",
      "$$"
     ]
    },
    {
     "cell_type": "markdown",
     "metadata": {},
     "source": [
      "then the exponential correlation time can be computed as the average"
     ]
    },
    {
     "cell_type": "markdown",
     "metadata": {},
     "source": [
      "$$\n",
      "\\tau_{\\mbox{exp}}  =  -\\langle  \\frac{t}{log|\\frac{\\phi(t)}{\\phi(0)}|} \\rangle.\n",
      "$$"
     ]
    },
    {
     "cell_type": "markdown",
     "metadata": {},
     "source": [
      "If the decay is exponential, then"
     ]
    },
    {
     "cell_type": "markdown",
     "metadata": {},
     "source": [
      "$$\n",
      "\\int_0^{\\infty} dt \\phi(t)  = \\int_0^{\\infty} dt \\phi(0)\\exp{(-t/\\tau)}  = \\tau \\phi(0),\n",
      "$$"
     ]
    },
    {
     "cell_type": "markdown",
     "metadata": {},
     "source": [
      "which  suggests another measure of correlation"
     ]
    },
    {
     "cell_type": "markdown",
     "metadata": {},
     "source": [
      "$$\n",
      "\\tau_{\\mbox{int}} = \\sum_k \\frac{\\phi(k)}{\\phi(0)},\n",
      "$$"
     ]
    },
    {
     "cell_type": "markdown",
     "metadata": {},
     "source": [
      "called the integrated correlation time.\n",
      "\n",
      "### Time Auto-correlation Function\n",
      "\n",
      "Here we mention that\n",
      "one can show, using scaling relations, that at the critical temperature the\n",
      "correlation time $\\tau$ relates to the lattice size $L$ as"
     ]
    },
    {
     "cell_type": "markdown",
     "metadata": {},
     "source": [
      "$$\n",
      "\\tau \\sim L^{d+z},\n",
      "$$"
     ]
    },
    {
     "cell_type": "markdown",
     "metadata": {},
     "source": [
      "with $d$ the dimensionality of the system.\n",
      "For the Metropolis algorithm based on a single spin-flip process, Nightingale and Bl\\\"ote obtained\n",
      "$z=2.1665\\pm 0.0012$. This is a rather high value, meaning that our algorithm is not the best\n",
      "choice when studying properties of the Ising model near $T_C$.\n",
      "\n",
      "We can understand this behavior by studying the development of the two-dimensional\n",
      "Ising model as function of temperature.\n",
      "\n",
      "### Time Auto-correlation Function\n",
      "\n",
      "Cooling the system down to the critical temperature we observe clusters pervading larger areas of the lattice.\n",
      "The reason for the large correlation time (and the parameter $z$) for the single-spin flip Metropolis\n",
      "algorithm is the development of these large domains or clusters with all spins pointing in one direction.\n",
      "It is quite difficult for the algorithm to flip over one of these large domains because it has to do it spin by spin,\n",
      "with each move having a high probability of being rejected due to the ferromagnetic interaction\n",
      "between spins.\n",
      "Since all spins point in the same direction, the chance of performing the flip"
     ]
    },
    {
     "cell_type": "markdown",
     "metadata": {},
     "source": [
      "$$\n",
      "E=-4J\\quad\\begin{array}{ccc}         & \\uparrow &         \\\\\n",
      "                         \\uparrow & \\uparrow & \\uparrow\\\\\n",
      "                                  & \\uparrow & \\end{array}\n",
      "\\quad\\Longrightarrow\\quad\n",
      "  E=4J\\quad\\begin{array}{ccc}         & \\uparrow &         \\\\\n",
      "                         \\uparrow & \\downarrow & \\uparrow\\\\\n",
      "                                  & \\uparrow & \\end{array}\n",
      "$$"
     ]
    },
    {
     "cell_type": "markdown",
     "metadata": {},
     "source": [
      "leads to an energy difference of $\\Delta E = 8J$. Using the exact critical temperature $k_BT_C/J\\approx 2.2.69$,\n",
      "we obtain a probability $\\exp{-(8/2.269)}=0.029429$ which is rather small.\n",
      "The increase in large correlation times due to increasing lattices can be diminished by using  so-called\n",
      "cluster algorithms, such as that\n",
      "introduced by Ulli Wolff in 1989 and the Swendsen-Wang algorithm from 1987.\n",
      "The two-dimensional Ising model with the Wolff or Swendsen-Wang algorithms exhibits a much smaller\n",
      "correlation time, with the variable $z=0.25\\pm 001$. Here, instead of flipping a single spin, one flips an entire cluster\n",
      "of spins pointing in the same direction.\n",
      "\n",
      "### Better  Algorithm needed\n",
      "\n",
      "Monte Carlo simulations close to a phase transition are affected by critical slowing down. In the 2-D Ising system,\n",
      "the correlation length  becomes very large, and the correlation time, which measures the number of steps between\n",
      "independent Monte Carlo configurations behaves like"
     ]
    },
    {
     "cell_type": "markdown",
     "metadata": {},
     "source": [
      "$$\n",
      "\\tau \\sim \\xi^z,\n",
      "$$"
     ]
    },
    {
     "cell_type": "markdown",
     "metadata": {},
     "source": [
      "with $z\\approx 2.1$ for the Metropolis algorithm.\n",
      "The exponent $z$ is  called the dynamic critical exponent.\n",
      "The maximum possible value for $\\xi$  in a finite system of $N = L \\times L$ spins is   $\\xi\\sim L$, because  $\\xi$\n",
      "cannot be larger than the\n",
      "lattice size!\n",
      "This implies that   $\\tau\\sim L^z \\approx N$. This makes simulations difficult because the Metropolis algorithm time\n",
      "scales like $N$, so the time to generate independent Metropolis configurations scales like"
     ]
    },
    {
     "cell_type": "markdown",
     "metadata": {},
     "source": [
      "$$\n",
      "N\\tau\\sim   N^2 = L^4.\n",
      "$$"
     ]
    },
    {
     "cell_type": "markdown",
     "metadata": {},
     "source": [
      "If the lattice\n",
      "size"
     ]
    },
    {
     "cell_type": "markdown",
     "metadata": {},
     "source": [
      "$$\n",
      "L \\rightarrow  \\sqrt{10}L\\approx 3.2L,\n",
      "$$"
     ]
    },
    {
     "cell_type": "markdown",
     "metadata": {},
     "source": [
      "the simulation time increases by a factor of $100$.\n",
      "\n",
      "### Better Algorithm  needed\n",
      "\n",
      "There is a simple physical argument which helps understand why $z =\n",
      "2$, The Metropolis algorithm is a local algorithm, i.e., one spin is\n",
      "tested and flipped at a time. Near $T_C$ the system develops large\n",
      "domains of correlated spins which are difficult to break up. So the\n",
      "most likely change in configuration is the movement of a whole domain\n",
      "of spins. But one Metropolis sweep of the lattice can move a domain at\n",
      "most by approximately one lattice spacing in each time step.  This\n",
      "motion is stochastic, i.e., like a random walk.  The distance traveled\n",
      "in a random walk scales like $\\sqrt{\\mbox{time}}$, so to move a domain\n",
      "a distance of order $\\xi$ takes $\\tau\\sim \\xi^2$ Monte Carlo steps.\n",
      "This argument suggests that the way to speed up a Monte Carlo\n",
      "simulation near $T_C$ is to use a non-local algorithm."
     ]
    }
   ],
   "metadata": {}
  }
 ]
}
