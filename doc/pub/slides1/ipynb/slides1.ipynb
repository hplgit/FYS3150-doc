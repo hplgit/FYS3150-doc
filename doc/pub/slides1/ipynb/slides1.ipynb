{
 "metadata": {},
 "nbformat": 3,
 "nbformat_minor": 0,
 "worksheets": [
  {
   "cells": [
    {
     "cell_type": "markdown",
     "metadata": {},
     "source": [
      "# Slides from FYS3150/4150 Lectures\n",
      "**Aug 29, 2014**\n",
      "\n",
      "## Week 34\n",
      "\n",
      "### Overview of week 34\n",
      "\n",
      "  * Monday: First lecture: Presentation of the course, aims and content\n",
      "\n",
      "  * Monday: Second Lecture: Introduction to C++ programming and numerical precision.\n",
      "\n",
      "  * Tuesday: Numerical precision and C++ programming, continued and exercises for first week\n",
      "\n",
      "  * Numerical differentiation and loss of numerical precision (chapter 3 lecture notes)\n",
      "\n",
      "  * Computer lab: Thursday and Friday. First time: Thursday and Friday this week, Presentation of hardware and software at room FV329 first hour of every labgroup and solution of first simple exercises.\n",
      "\n",
      "\n",
      "\n",
      "### Lectures and ComputerLab\n",
      "\n",
      "  * Lectures: Monday (4.15pm-6pm) and Tuesday (12.15pm-2pm) only this and next week. Thereafter weeks 38 and 39, and weeks 43 and 44 and finally weeks 47 and 48.\n",
      "\n",
      "  * Weekly reading assignments needed to solve projects.\n",
      "\n",
      "  * First hour of each lab session used to discuss technicalities, address questions etc linked with projects.\n",
      "\n",
      "  * Detailed lecture notes, exercises, all programs presented, projects etc can be found at the homepage of the course.\n",
      "\n",
      "  * Computerlab: Thursday (9am-7pm) and Friday (9am-7pm) room FV329.\n",
      "\n",
      "  * Weekly plans and all other information are on the official webpage.\n",
      "\n",
      "  * Final written exam December 12, 9am (four hours).\n",
      "\n",
      "\n",
      "\n",
      "### Course Format\n",
      "\n",
      "  * Several computer exercises, 5 compulsory projects. Electronic reports only.\n",
      "\n",
      "  * Evaluation and grading: The last project (50% of final grade) and a  final written exam (50% of final grade). Final written exam December 12.\n",
      "\n",
      "  * The computer lab (room FV329)consists of 16 Linux PCs, but many prefer own laptops. C/C++ is the default programming language, but Fortran2008 and Python are also used. All source codes discussed during the lectures can be found at the webpage of the course. We recommend either C/C++, Fortran2008 or Python as languages.\n",
      "\n",
      "\n",
      "\n",
      "### ComputerLab\n",
      "\n",
      "\n",
      "\n",
      "              day                            teacher              \n",
      "-------------------------------  -------------------------------  \n",
      "Thursday 9am-1pm                 Anders, Morten L., H\u00e5vard, MHJ  \n",
      "Thursday 1pm-5pm                 Anders, Morten L., H\u00e5vard, MHJ  \n",
      "Friday 9am-1pm                   Anders, Morten L., H\u00e5vard, MHJ  \n",
      "Friday 1pm-5pm                   Anders, Morten L., H\u00e5vard, MHJ\n",
      "\n",
      "\n",
      "\n",
      "### Topics covered in this course\n",
      "\n",
      "  * Numerical precision and intro to C++ programming\n",
      "\n",
      "  * Numerical derivation and integration\n",
      "\n",
      "  * Random numbers and Monte Carlo integration\n",
      "\n",
      "  * Monte Carlo methods in statistical physics\n",
      "\n",
      "  * Quantum Monte Carlo methods\n",
      "\n",
      "  * Linear algebra and eigenvalue problems\n",
      "\n",
      "  * Non-linear equations and roots of polynomials\n",
      "\n",
      "  * Ordinary differential equations\n",
      "\n",
      "  * Partial differential equations\n",
      "\n",
      "  * Parallelization of codes\n",
      "\n",
      "  * Programming av GPUs (optional)\n",
      "\n",
      "\n",
      "\n",
      "\n",
      "### Syllabus FYS3150\n",
      "\n",
      "**Linear algebra and eigenvalue problems, chapters 6 and 7.**\n",
      "\n",
      "  * Know Gaussian elimination and LU decomposition\n",
      "\n",
      "  * How to solve linear equations\n",
      "\n",
      "  * How to obtain the inverse and the determinant of a real symmetric matrix\n",
      "\n",
      "  * Cholesky and tridiagonal matrix decomposition\n",
      "\n",
      "\n",
      "\n",
      "\n",
      "### Syllabus FYS3150\n",
      "\n",
      "**Linear algebra and eigenvalue problems, chapters 6 and 7.**\n",
      "\n",
      "  * Householder's tridiagonalization technique and finding eigenvalues based on this\n",
      "\n",
      "  * Jacobi's method for finding eigenvalues\n",
      "\n",
      "  * Singular value decomposition\n",
      "\n",
      "  * Qubic Spline interpolation\n",
      "\n",
      "\n",
      "\n",
      "\n",
      "### Syllabus FYS3150\n",
      "\n",
      "**Numerical integration, standard methods and Monte Carlo methods (chapters 4 and 11).**\n",
      "\n",
      "  * Trapezoidal, rectangle and Simpson's rules\n",
      "\n",
      "  * Gaussian quadrature, emphasis on Legendre polynomials, but you need to know about other polynomials as well.\n",
      "\n",
      "  * Brute force Monte Carlo integration\n",
      "\n",
      "  * Random numbers (simplest algo, ran0) and probability distribution functions, expectation values\n",
      "\n",
      "  * Improved Monte Carlo integration and importance sampling.\n",
      "\n",
      "\n",
      "\n",
      "\n",
      "### Syllabus FYS3150\n",
      "\n",
      "**Monte Carlo methods in physics (chapters 12, 13, and 14).**\n",
      "\n",
      "  * Random walks and Markov chains and relation with diffusion equation\n",
      "\n",
      "  * Metropolis algorithm, detailed balance and ergodicity\n",
      "\n",
      "  * Simple spin systems and phase transitions\n",
      "\n",
      "  * Variational Monte Carlo\n",
      "\n",
      "  * How to construct trial wave functions for quantum systems\n",
      "\n",
      "\n",
      "\n",
      "\n",
      "### Syllabus FYS3150\n",
      "\n",
      "**Ordinary differential equations (chapters 8 and 9).**\n",
      "\n",
      "  * Euler's method and improved Euler's method, truncation errors\n",
      "\n",
      "  * Runge Kutta methods, 2nd and 4th order, truncation errors\n",
      "\n",
      "  * How to implement a second-order differential equation, both linear and non-linear. How to make your equations dimensionless.\n",
      "\n",
      "  * Boundary value problems, shooting and matching method (chap 9).\n",
      "\n",
      "\n",
      "\n",
      "\n",
      "### Syllabus FYS3150\n",
      "\n",
      "**Partial differential equations, chapter 10.**\n",
      "\n",
      "  * Set up diffusion, Poisson and wave equations up to 2 spatial dimensions and time\n",
      "\n",
      "  * Set up the mathematical model and algorithms for these equations, with boundary and initial conditions. Their stability conditions.\n",
      "\n",
      "  * Explicit, implicit and Crank-Nicolson schemes, and how to solve them. Remember that they result in triangular matrices.\n",
      "\n",
      "  * How to compute the Laplacian in Poisson's equation.\n",
      "\n",
      "  * How to solve the wave equation in one and two dimensions.\n",
      "\n",
      "\n",
      "\n",
      "\n",
      "### Overarching aims of this course\n",
      "\n",
      "  * Develop a critical approach to all steps in a project, which methods are most relevant, which natural laws and physical processes are important. Sort out initial conditions and boundary conditions etc.\n",
      "\n",
      "  * This means to teach you structured scientific computing, learn to structure a project.\n",
      "\n",
      "  * A critical understanding of central mathematical algorithms and methods from numerical analysis. In particular their limits and stability criteria.\n",
      "\n",
      "  * Always try to find good checks of your codes (like solutions on closed form)\n",
      "\n",
      "  * To enable you to develop a critical view on the mathematical model and the physics.\n",
      "\n",
      "### And, there is nothing like a code which gives correct results!!\n",
      "\n",
      "FIGURE: [fig-slides1/Nebbdyr2.pdf, width=500 frac=0.6]\n",
      "\n",
      " * J. J. Barton and L. R. Nackman,*Scientific and Engineering C++*, Addison Wesley, 3rd edition 2000.\n",
      "\n",
      " * B. Stoustrup, *The C++ programming language*, Pearson, 1997.\n",
      "\n",
      " * H. P. Langtangen INF-VERK3830 <http://heim.ifi.uio.no/~hpl/INF-VERK4830/>\n",
      "\n",
      " * D. Yang, *C++ and Object-oriented Numeric Computing for Scientists and Engineers*, Springer 2000.\n",
      "\n",
      " * More books reviewed at <http:://www.accu.org/> and <http://www.comeaucomputing.com/booklist/>\n",
      "\n",
      "### Other courses in Computational Science at UiO\n",
      "\n",
      "**Bachelor/Master/PhD Courses.**\n",
      "\n",
      "  * INF-MAT4350 Numerical linear algebra\n",
      "\n",
      "  * MAT-INF3300/3310, PDEs and Sobolev spaces I and II\n",
      "\n",
      "  * INF-MAT3360 PDEs\n",
      "\n",
      "  * INF5620 Numerical methods for PDEs, finite element method\n",
      "\n",
      "  * FYS4411 Computational physics II (Parallelization (MPI), object orientation, quantum mechanical systems with many interacting particles), spring semester\n",
      "\n",
      "  * FYS4460 Computational physics III (Parallelization (MPI), object orientation, classical statistical physics, simulation of phase transitions, spring semester\n",
      "\n",
      "  * INF3331 Problem solving with high-level languages (Python), fall semester\n",
      "\n",
      "  * INF3380 Parallel computing for problems in the Natural Sciences (mostly PDEs), spring semester\n",
      "\n",
      "\n",
      "\n",
      "\n",
      "### Extremely useful tools, strongly recommended\n",
      "\n",
      "**and discussed at the lab sessions the first week.**\n",
      "\n",
      "  * GIT for version control (see webpage)\n",
      "\n",
      "  * ipython notebook\n",
      "\n",
      "  * QTcreator for editing and mastering computational projects (for C++ codes, see webpage of course)\n",
      "\n",
      "  * Armadillo as a useful numerical library for C++, highly recommended\n",
      "\n",
      "  * Unit tests, see also webpage\n",
      "\n",
      "  * Devilry for handing in projects\n",
      "\n",
      "\n",
      "\n",
      "### A structured programming approach\n",
      "\n",
      "  * Before writing a single line, have the algorithm clarified and understood. It is crucial to have a logical structure of e.g., the flow and organization of data before one starts writing.\n",
      "\n",
      "  * Always try to choose the simplest algorithm. Computational speed can be improved upon later.\n",
      "\n",
      "  * Try to write a as clear program as possible. Such programs are easier to debug, and although it may take more time, in the long run it may save you time. If you collaborate with other people, it reduces spending time on debuging and trying to understand what the codes do. A clear program will also allow you to remember better what the program really does!\n",
      "\n",
      "### A structured programming approach\n",
      "\n",
      "  * The planning of the program should be from top down to bottom, trying to keep the flow as linear as possible. Avoid jumping back and forth in the program. First you need to arrange the major tasks to be achieved. Then try to break the major tasks into subtasks. These can be represented by functions or subprograms. They should accomplish limited tasks and as far as possible be independent of each other. That will allow you to use them in other programs as well.\n",
      "\n",
      "  * Try always to find some cases where an analytical solution exists or where simple test cases can be applied. If possible, devise different algorithms for solving the same problem. If you get the same answers, you may have coded things correctly or made the same error twice or more.\n",
      "\n",
      "### Getting Started\n",
      "\n",
      "**Compiling and linking, without QTcreator.**\n",
      "\n",
      "In order to obtain an executable file for a C++ program, the following\n",
      "instructions under Linux/Unix can be used"
     ]
    },
    {
     "cell_type": "markdown",
     "metadata": {},
     "source": [
      "        c++ -c -Wall myprogram.cpp\n",
      "        c++ -o myprogram myprogram.o\n"
     ]
    },
    {
     "cell_type": "markdown",
     "metadata": {},
     "source": [
      "where the compiler is called through the command c++/g++. The compiler\n",
      "option -Wall means that a warning is issued in case of non-standard\n",
      "language. The executable file is in this case `myprogram`. The option\n",
      "`-c` is for compilation only, where the program is translated into machine code,\n",
      "while the `-o` option links the produced object file `myprogram.o`\n",
      "and produces the executable `myprogram` .\n",
      "\n",
      "For Fortran2008 we use the Intel compiler, replace `c++` with `ifort`.\n",
      "Also, to speed up the code use compile options like"
     ]
    },
    {
     "cell_type": "markdown",
     "metadata": {},
     "source": [
      "        c++ -O3 -c -Wall myprogram.cpp\n"
     ]
    },
    {
     "cell_type": "markdown",
     "metadata": {},
     "source": [
      "### Makefiles and simple scripts\n",
      "\n",
      "Under Linux/Unix it is often convenient to create a\n",
      "so-called makefile, which is a script which includes possible\n",
      "compiling commands."
     ]
    },
    {
     "cell_type": "markdown",
     "metadata": {},
     "source": [
      "        # Comment lines\n",
      "        # General makefile for c - choose PROG =   name of given program\n",
      "        # Here we define compiler option, libraries and the  target\n",
      "        CC= g++ -Wall\n",
      "        PROG= myprogram\n",
      "        # this is the math library in C, not necessary for C++\n",
      "        LIB = -lm\n",
      "        # Here we make the executable file\n",
      "        ${PROG} :          ${PROG}.o\n",
      "                           ${CC} ${PROG}.o ${LIB} -o ${PROG}\n",
      "        # whereas here we create the object file\n",
      "        ${PROG}.o :       ${PROG}.c\n",
      "                          ${CC} -c ${PROG}.c\n"
     ]
    },
    {
     "cell_type": "markdown",
     "metadata": {},
     "source": [
      "If you name your file for `makefile`, simply type the command\n",
      "`make` and Linux/Unix executes all of the statements in the above\n",
      "makefile. Note that C++ files have the extension `.cpp`.\n",
      "\n",
      "### Hello world\n",
      "\n",
      "**The C encounter.**\n",
      "\n",
      "Here we present first the C version."
     ]
    },
    {
     "cell_type": "markdown",
     "metadata": {},
     "source": [
      "        /* comments in C begin like this and end with */\n",
      "        #include <stdlib.h> /* atof function */\n",
      "        #include <math.h>   /* sine function */\n",
      "        #include <stdio.h>  /* printf function */\n",
      "        int main (int argc, char* argv[])\n",
      "        {\n",
      "          double r, s;        /* declare variables */\n",
      "          r = atof(argv[1]);  /* convert the text argv[1] to double */\n",
      "          s = sin(r);\n",
      "          printf(\"Hello, World! sin(%g)=%g\\n\", r, s);\n",
      "          return 0;           /* success execution of the program */\n",
      "        \n"
     ]
    },
    {
     "cell_type": "markdown",
     "metadata": {},
     "source": [
      "### Hello World\n",
      "\n",
      "**Dissection I.**\n",
      "\n",
      "The compiler must see a declaration of a function before you can\n",
      "call it (the compiler checks the argument and return types).\n",
      "The declaration of library functions appears\n",
      "in so-called \"header files\" that must be included in the program, e.g.,"
     ]
    },
    {
     "cell_type": "markdown",
     "metadata": {},
     "source": [
      "           #include <stdlib.h> /* atof function */\n"
     ]
    },
    {
     "cell_type": "markdown",
     "metadata": {},
     "source": [
      "We call three functions (atof, sin, printf)\n",
      "and these are declared in three different header files.\n",
      "The main program is a function called main\n",
      "with a return value set to an integer, int (0 if success).\n",
      "The operating system stores the return value,\n",
      "and other programs/utilities can check whether\n",
      "the execution was successful or not.\n",
      "The command-line arguments are transferred to the main function through"
     ]
    },
    {
     "cell_type": "markdown",
     "metadata": {},
     "source": [
      "           int main (int argc, char* argv[])\n"
     ]
    },
    {
     "cell_type": "markdown",
     "metadata": {},
     "source": [
      "### Hello World\n",
      "\n",
      "**Dissection II.**\n",
      "\n",
      "The command-line arguments are transferred to the main function through"
     ]
    },
    {
     "cell_type": "markdown",
     "metadata": {},
     "source": [
      "           int main (int argc, char* argv[])\n"
     ]
    },
    {
     "cell_type": "markdown",
     "metadata": {},
     "source": [
      "The integer `argc` is the no of command-line arguments, set to\n",
      "one in our case, while\n",
      "`argv` is a vector of strings containing the command-line arguments\n",
      "with `argv[0]` containing  the name of the program\n",
      "and `argv[1]`, `argv[2]`, ... are the command-line args, i.e., the number of\n",
      "lines of input to the program.\n",
      "Here we define floating points, see also below,\n",
      "through the keywords `float` for single precision real numbers and\n",
      "`double` for double precision. The function\n",
      "`atof` transforms a text (`argv[1]`) to a float.\n",
      "The sine function is declared in math.h, a library which\n",
      "is not automatically included and needs to be linked when computing\n",
      "an executable file.\n",
      "\n",
      "With the command `printf` we obtain a formatted printout.\n",
      "The `printf` syntax is used for formatting output\n",
      "in many C-inspired languages (Perl, Python, Awk, partly C++).\n",
      "\n",
      "\n",
      "\n",
      "### Hello World\n",
      "\n",
      "**Now in C++.**\n",
      "\n",
      "Here we present first the C++ version."
     ]
    },
    {
     "cell_type": "markdown",
     "metadata": {},
     "source": [
      "        // A comment line begins like this in C++ programs\n",
      "        // Standard ANSI-C++ include files\n",
      "        using namespace std\n",
      "        #include <iostream>  // input and output\n",
      "        int main (int argc, char* argv[])\n",
      "        {\n",
      "          // convert the text argv[1] to double using atof:\n",
      "          double r = atof(argv[1]);\n",
      "          double s = sin(r);\n",
      "          cout << \"Hello, World! sin(\" << r << \")=\" << s << '\\n';\n",
      "          // success\n",
      "          return 0;\n",
      "        }\n"
     ]
    },
    {
     "cell_type": "markdown",
     "metadata": {},
     "source": [
      "### C++ Hello World\n",
      "\n",
      "**Dissection I.**\n",
      "\n",
      "We have replaced the call to `printf` with the standard C++ function\n",
      "`cout`. The header file `<iostream.h>` is then needed.\n",
      "In addition, we don't need to\n",
      "declare variables like `r` and `s`  at the beginning of the program.\n",
      "I personally prefer\n",
      "however to declare all variables at the beginning of a function, as this\n",
      "gives *me* a feeling of greater readability.\n",
      "\n",
      "\n",
      "\n",
      "### Brief summary\n",
      "\n",
      "**C/C++ program.**\n",
      "\n",
      "  * A C/C++ program begins with include statements of header files (libraries,intrinsic functions etc)\n",
      "\n",
      "  * Functions which are used are normally defined at top (details next week)\n",
      "\n",
      "  * The main program is set up as an integer, it returns 0 (everything correct) or 1 (something went wrong)\n",
      "\n",
      "  * Standard `if`, `while` and `for` statements as in Java, Fortran, Python...\n",
      "\n",
      "  * Integers have a very limited range.\n",
      "\n",
      "\n",
      "\n",
      "### Brief summary\n",
      "\n",
      "**Arrays.**\n",
      "\n",
      "  * A C/C++ array begins by indexing at 0!\n",
      "\n",
      "  * Array allocations are done by size, not by the final index value.If you allocate an array with 10 elements, you should index them from $0,1,\\dots, 9$.\n",
      "\n",
      "  * Initialize always an array before a computation.\n",
      "\n",
      "\n",
      "\n",
      "### Serious problems and representation of numbers\n",
      "\n",
      "**Integer and Real Numbers.**\n",
      "\n",
      "\n",
      "  * Overflow\n",
      "\n",
      "  * Underflow\n",
      "\n",
      "  * Roundoff errors\n",
      "\n",
      "  * Loss of precision\n",
      "\n",
      "\n",
      "\n",
      "### Limits, you must declare variables\n",
      "\n",
      "\n",
      "**C++ and Fortran declarations.**\n",
      "\n",
      "\n",
      "\n",
      "        type in C/C++ and Fortran2008                                bits                                           range                       \n",
      "----------------------------------------------  ----------------------------------------------  ----------------------------------------------  \n",
      "`int/INTEGER` (2)                                                     16                        -32768 to 32767                                 \n",
      "`unsigned int`                                                        16                        0 to 65535                                      \n",
      "`signed int`                                                          16                        -32768 to 32767                                 \n",
      "`short int`                                                           16                        -32768 to 32767                                 \n",
      "`unsigned short int`                                                  16                        0 to 65535                                      \n",
      "`signed short int`                                                    16                        $-32768$ to 32767                               \n",
      "`int/long int/INTEGER` (4)                                            32                        -2147483648 to 2147483647                       \n",
      "`signed long int`                                                     32                        -2147483648 to 2147483647                       \n",
      "`float/REAL(4)`                                                       32                        $3.4\\times 10^{-44}$ to $3.4\\times 10^{+38}$    \n",
      "`double/REAL(8)`                                                      64                        $1.7\\times 10^{-322}$ to $1.7\\times 10^{+308}$  \n",
      "`long double`                                                         64                        $1.7\\times 10^{-322}$ to $1.7\\times 10^{+308}$\n",
      "\n",
      "\n",
      "\n",
      "\n",
      "### From decimal to binary representation\n",
      "\n",
      "**How to do it.**"
     ]
    },
    {
     "cell_type": "markdown",
     "metadata": {},
     "source": [
      "$$\n",
      "a_n2^n+a_{n-1}2^{n-1}  +a_{n-2}2^{n-2}  +\\dots +a_{0}2^{0}.\n",
      "$$"
     ]
    },
    {
     "cell_type": "markdown",
     "metadata": {},
     "source": [
      "In binary notation we have thus $(417)_{10} =(110110001)_2$\n",
      "since we have"
     ]
    },
    {
     "cell_type": "markdown",
     "metadata": {},
     "source": [
      "$$\n",
      "(110100001)_2\n",
      "=1\\times2^8+1\\times 2^{7}+0\\times 2^{6}+1\\times 2^{5}+0\\times 2^{4}+0\\times 2^{3}+0\\times 2^{2}+0\\times 2^{2}+0\\times 2^{1}+1\\times 2^{0}.\n",
      "$$"
     ]
    },
    {
     "cell_type": "markdown",
     "metadata": {},
     "source": [
      "To see this, we have performed the following divisions by 2\n",
      "\n",
      "\n",
      "\n",
      "\n",
      "                                                                                       \n",
      "---------------------------  ---------------------------  ---------------------------  \n",
      "         417/2=208                   remainder 1          coefficient of $2^{0}$ is 1  \n",
      "         208/2=104                   remainder 0          coefficient of $2^{1}$ is 0  \n",
      "          104/2=52                   remainder 0          coefficient of $2^{2}$ is 0  \n",
      "          52/2=26                    remainder 0          coefficient of $2^{3}$ is 0  \n",
      "          26/2=13                    remainder 1          coefficient of $2^{4}$ is 0  \n",
      "          13/2= 6                    remainder 1          coefficient of $2^{5}$ is 1  \n",
      "           6/2= 3                    remainder 0          coefficient of $2^{6}$ is 0  \n",
      "           3/2= 1                    remainder 1          coefficient of $2^{7}$ is 1  \n",
      "           1/2= 0                    remainder 1          coefficient of $2^{8}$ is 1\n",
      "\n",
      "\n",
      "\n",
      "### From decimal to binary representation\n",
      "\n",
      "**Integer numbers.**"
     ]
    },
    {
     "cell_type": "markdown",
     "metadata": {},
     "source": [
      "        using namespace std;\n",
      "        #include <iostream>\n",
      "        int main (int argc, char* argv[])\n",
      "        {\n",
      "          int i;\n",
      "          int terms[32]; // storage of a0, a1, etc, up to 32 bits\n",
      "          int number = atoi(argv[1]);\n",
      "          // initialise the term a0, a1 etc\n",
      "          for (i=0; i < 32 ; i++){ terms[i] = 0;}\n",
      "          for (i=0; i < 32 ; i++){\n",
      "            terms[i] = number%2;\n",
      "            number /= 2;\n",
      "        \n",
      "          // write out results\n",
      "          cout << \"Number of bytes used= \" << sizeof(number) << endl;\n",
      "          for (i=0; i < 32 ; i++){\n",
      "            cout << \" Term nr: \" << i << \"Value= \" << terms[i];\n",
      "            cout << endl;\n",
      "        \n",
      "          return 0;\n",
      "        \n"
     ]
    },
    {
     "cell_type": "markdown",
     "metadata": {},
     "source": [
      "### From decimal to binary representation\n",
      "\n",
      "**Integer numbers, Fortran.**"
     ]
    },
    {
     "cell_type": "markdown",
     "metadata": {},
     "source": [
      "        PROGRAM binary_integer\n",
      "        IMPLICIT NONE\n",
      "          INTEGER  i, number, terms(0:31) ! storage of a0, a1, etc, up to 32 bits\n",
      "        \n",
      "          WRITE(*,*) 'Give a number to transform to binary notation'\n",
      "          READ(*,*) number\n",
      "        ! Initialise the terms a0, a1 etc\n",
      "          terms = 0\n",
      "        ! Fortran takes only integer loop variables\n",
      "          DO i=0, 31\n",
      "             terms(i) = MOD(number,2)\n",
      "             number = number/2\n",
      "          ENDDO\n",
      "        ! write out results\n",
      "          WRITE(*,*) 'Binary representation '\n",
      "          DO i=0, 31\n",
      "            WRITE(*,*)' Term nr and value', i, terms(i)\n",
      "          ENDDO\n",
      "        \n",
      "        END PROGRAM binary_integer\n"
     ]
    },
    {
     "cell_type": "markdown",
     "metadata": {},
     "source": [
      "### Integer Numbers\n",
      "\n",
      "**Possible Overflow for Integers.**"
     ]
    },
    {
     "cell_type": "markdown",
     "metadata": {},
     "source": [
      "        // A comment line begins like this in C++ programs\n",
      "        // Program to calculate 2**n\n",
      "        // Standard ANSI-C++ include files */\n",
      "        using namespace std\n",
      "        #include <iostream>\n",
      "        #include <cmath>\n",
      "        int main()\n",
      "        {\n",
      "           int  int1, int2, int3;\n",
      "        // print to screen\n",
      "           cout << \"Read in the exponential N for 2^N =\\n\";\n",
      "        // read from screen\n",
      "           cin >> int2;\n",
      "           int1 = (int) pow(2., (double) int2);\n",
      "           cout << \" 2^N * 2^N = \" << int1*int1 << \"\\n\";\n",
      "           int3 = int1 - 1;\n",
      "           cout << \" 2^N*(2^N - 1) = \" << int1 * int3  << \"\\n\";\n",
      "           cout << \" 2^N- 1 = \" << int3  << \"\\n\";\n",
      "           return 0;\n",
      "        \n",
      "        // End: program main()\n"
     ]
    },
    {
     "cell_type": "markdown",
     "metadata": {},
     "source": [
      "### Loss of Precision\n",
      "\n",
      "**Machine Numbers.**\n",
      "\n",
      "In the decimal system we would write a number like $9.90625$\n",
      "in what is called the normalized scientific notation."
     ]
    },
    {
     "cell_type": "markdown",
     "metadata": {},
     "source": [
      "$$\n",
      "9.90625=0.990625\\times 10^{1},\n",
      "$$"
     ]
    },
    {
     "cell_type": "markdown",
     "metadata": {},
     "source": [
      "and a real non-zero number could be generalized as"
     ]
    },
    {
     "cell_type": "markdown",
     "metadata": {},
     "source": [
      "$$\n",
      "\\begin{equation}\n",
      "    x=\\pm r\\times 10^{{\\mbox{n}}},\n",
      "\\end{equation}\n",
      "$$"
     ]
    },
    {
     "cell_type": "markdown",
     "metadata": {},
     "source": [
      "with $r$ a number in the range $1/10 \\le r < 1$.\n",
      "In a similar way we can use represent a binary number in\n",
      "scientific notation as"
     ]
    },
    {
     "cell_type": "markdown",
     "metadata": {},
     "source": [
      "$$\n",
      "\\begin{equation}\n",
      "    x=\\pm q\\times 2^{{\\mbox{m}}},\n",
      "\\end{equation}\n",
      "$$"
     ]
    },
    {
     "cell_type": "markdown",
     "metadata": {},
     "source": [
      "with $q$ a number in the range $1/2 \\le q < 1$.\n",
      "This means that the mantissa of a binary number would be represented by\n",
      "the general formula"
     ]
    },
    {
     "cell_type": "markdown",
     "metadata": {},
     "source": [
      "$$\n",
      "\\begin{equation}\n",
      "(0.a_{-1}a_{-2}\\dots a_{-n})_2=a_{-1}\\times 2^{-1}\n",
      "+a_{-2}\\times 2^{-2}+\\dots+a_{-n}\\times 2^{-n}.\n",
      "\\end{equation}\n",
      "$$"
     ]
    },
    {
     "cell_type": "markdown",
     "metadata": {},
     "source": [
      "### Loss of Precision\n",
      "\n",
      "**Machine Numbers.**\n",
      "\n",
      "In a typical computer, floating-point numbers are represented\n",
      "in the way described above, but with certain restrictions\n",
      "on $q$ and $m$ imposed by the available word length.\n",
      "In the machine, our\n",
      "number $x$ is represented as"
     ]
    },
    {
     "cell_type": "markdown",
     "metadata": {},
     "source": [
      "$$\n",
      "\\begin{equation}\n",
      "    x=(-1)^s\\times {\\mbox{mantissa}}\\times 2^{{\\mbox{exponent}}},\n",
      "\\end{equation}\n",
      "$$"
     ]
    },
    {
     "cell_type": "markdown",
     "metadata": {},
     "source": [
      "where $s$ is the sign bit, and the exponent gives the available range.\n",
      "With a single-precision word, 32 bits, 8 bits would typically be reserved\n",
      "for the exponent,  1 bit for the sign and 23 for the mantissa.\n",
      "\n",
      "\n",
      "\n",
      "### Loss of Precision\n",
      "\n",
      "**Machine Numbers.**\n",
      "\n",
      "A modification of the scientific notation for binary numbers is to\n",
      "require that the leading binary digit 1 appears to the left of the binary point.\n",
      "In this case the representation of the mantissa $q$ would be\n",
      "$(1.f)_2$ and $ 1 \\le q < 2$. This form is rather useful when storing\n",
      "binary numbers in a computer word, since we can always assume that the leading\n",
      "bit 1 is there. One bit of space can then be saved meaning that a 23 bits\n",
      "mantissa has actually 24 bits. This means explicitely that a binary number with 23 bits\n",
      "for the mantissa reads"
     ]
    },
    {
     "cell_type": "markdown",
     "metadata": {},
     "source": [
      "$$\n",
      "\\begin{equation}\n",
      "(1.a_{-1}a_{-2}\\dots a_{-23})_2=1\\times 2^0+a_{-1}\\times 2^{-1}+\n",
      "+a_{-2}\\times 2^{-2}+\\dots+a_{-23}\\times 2^{-23}.\n",
      "\\end{equation}\n",
      "$$"
     ]
    },
    {
     "cell_type": "markdown",
     "metadata": {},
     "source": [
      "As an example, consider the 32 bits binary number"
     ]
    },
    {
     "cell_type": "markdown",
     "metadata": {},
     "source": [
      "$$\n",
      "(10111110111101000000000000000000)_2,\n",
      "$$"
     ]
    },
    {
     "cell_type": "markdown",
     "metadata": {},
     "source": [
      "where the first bit is reserved for the sign, 1 in this case yielding a\n",
      "negative sign. The exponent $m$ is given by the next 8 binary numbers\n",
      "$01111101$ resulting in 125 in the decimal system.\n",
      "\n",
      "\n",
      "\n",
      "### Loss of Precision\n",
      "\n",
      "**Machine Numbers.**\n",
      "\n",
      "However, since the\n",
      "exponent has eight bits, this means it has  $2^8-1=255$ possible numbers in the interval\n",
      "$-128 \\le m \\le 127$, our final\n",
      "exponent is $125-127=-2$ resulting in $2^{-2}$.\n",
      "Inserting the sign and the mantissa yields the final number in the decimal representation as"
     ]
    },
    {
     "cell_type": "markdown",
     "metadata": {},
     "source": [
      "$$\n",
      "-2^{-2}\\left(1\\times 2^0+1\\times 2^{-1}+\n",
      "1\\times 2^{-2}+1\\times 2^{-3}+0\\times 2^{-4}+1\\times 2^{-5}\\right)=\n",
      "$$"
     ]
    },
    {
     "cell_type": "markdown",
     "metadata": {},
     "source": [
      "$$\n",
      "(-0.4765625)_{10}.\n",
      "$$"
     ]
    },
    {
     "cell_type": "markdown",
     "metadata": {},
     "source": [
      "In this case we have an exact machine representation with 32 bits (actually, we need less than\n",
      "23 bits for the mantissa).\n",
      "\n",
      "If our number $x$ can be exactly represented in the machine, we call\n",
      "$x$ a machine number. Unfortunately, most numbers cannot  and are thereby\n",
      "only approximated in the machine. When such a number occurs as the result\n",
      "of reading some input data or of a computation, an inevitable error\n",
      "will arise in representing it as accurately as possible by\n",
      "a machine number.\n",
      "\n",
      "\n",
      "\n",
      "### Loss of Precision\n",
      "\n",
      "**Machine Numbers.**\n",
      "\n",
      "A floating number x, labelled $fl(x)$ will therefore always be represented as"
     ]
    },
    {
     "cell_type": "markdown",
     "metadata": {},
     "source": [
      "$$\n",
      "\\begin{equation}\n",
      "  fl(x) = x(1\\pm \\epsilon_x),\n",
      "\\end{equation}\n",
      "$$"
     ]
    },
    {
     "cell_type": "markdown",
     "metadata": {},
     "source": [
      "with $x$ the exact number and the error $|\\epsilon_x| \\le |\\epsilon_M|$, where\n",
      "$\\epsilon_M$ is the precision assigned. A number like $1/10$ has no exact binary representation\n",
      "with single or double precision. Since the mantissa"
     ]
    },
    {
     "cell_type": "markdown",
     "metadata": {},
     "source": [
      "$$\n",
      "\\left(1.a_{-1}a_{-2}\\dots a_{-n}\\right)_2\n",
      "$$"
     ]
    },
    {
     "cell_type": "markdown",
     "metadata": {},
     "source": [
      "is always truncated at some stage $n$ due to its limited number of bits, there is only a\n",
      "limited number of real binary numbers. The spacing between every real binary number is given by the\n",
      "chosen machine precision.\n",
      "For a 32 bit words this number is approximately\n",
      "$ \\epsilon_M \\sim 10^{-7}$ and for double precision (64 bits) we have\n",
      "$ \\epsilon_M \\sim 10^{-16}$, or in terms of a binary base\n",
      "as $2^{-23}$ and $2^{-52}$ for single and double precision, respectively.\n",
      "\n",
      "\n",
      "\n",
      "### Loss of Precision\n",
      "\n",
      "**Machine Numbers.**\n",
      "\n",
      "In the machine a number is represented as"
     ]
    },
    {
     "cell_type": "markdown",
     "metadata": {},
     "source": [
      "$$\n",
      "\\begin{equation}\n",
      "  fl(x)= x(1+\\epsilon)\n",
      "\\end{equation}\n",
      "$$"
     ]
    },
    {
     "cell_type": "markdown",
     "metadata": {},
     "source": [
      "where $|\\epsilon| \\leq \\epsilon_M$ and $\\epsilon$ is given by the\n",
      "specified precision, $10^{-7}$ for single and $10^{-16}$ for double\n",
      "precision, respectively.\n",
      "$\\epsilon_M$ is the given precision.\n",
      "In case of a subtraction $a=b-c$, we have"
     ]
    },
    {
     "cell_type": "markdown",
     "metadata": {},
     "source": [
      "$$\n",
      "\\begin{equation}\n",
      "   fl(a)=fl(b)-fl(c) = a(1+\\epsilon_a),\n",
      "\\end{equation}\n",
      "$$"
     ]
    },
    {
     "cell_type": "markdown",
     "metadata": {},
     "source": [
      "or"
     ]
    },
    {
     "cell_type": "markdown",
     "metadata": {},
     "source": [
      "$$\n",
      "\\begin{equation}\n",
      "   fl(a)=b(1+\\epsilon_b)-c(1+\\epsilon_c),\n",
      "\\end{equation}\n",
      "$$"
     ]
    },
    {
     "cell_type": "markdown",
     "metadata": {},
     "source": [
      "meaning that"
     ]
    },
    {
     "cell_type": "markdown",
     "metadata": {},
     "source": [
      "$$\n",
      "\\begin{equation}\n",
      "   fl(a)/a=1+\\epsilon_b\\frac{b}{a}- \\epsilon_c\\frac{c}{a},\n",
      "\\end{equation}\n",
      "$$"
     ]
    },
    {
     "cell_type": "markdown",
     "metadata": {},
     "source": [
      "and if $b\\approx c$ we see that there is a potential for an increased\n",
      "error in $fl(a)$.\n",
      "\n",
      "\n",
      "\n",
      "### Loss of Precision\n",
      "\n",
      "**Machine Numbers.**\n",
      "\n",
      "Define\n",
      "the absolute error as"
     ]
    },
    {
     "cell_type": "markdown",
     "metadata": {},
     "source": [
      "$$\n",
      "\\begin{equation}\n",
      "   |fl(a)-a|,\n",
      "\\end{equation}\n",
      "$$"
     ]
    },
    {
     "cell_type": "markdown",
     "metadata": {},
     "source": [
      "whereas the relative error is"
     ]
    },
    {
     "cell_type": "markdown",
     "metadata": {},
     "source": [
      "$$\n",
      "\\begin{equation}\n",
      "   \\frac{ |fl(a)-a|}{a} \\le \\epsilon_a.\n",
      "\\end{equation}\n",
      "$$"
     ]
    },
    {
     "cell_type": "markdown",
     "metadata": {},
     "source": [
      "The above subraction is thus"
     ]
    },
    {
     "cell_type": "markdown",
     "metadata": {},
     "source": [
      "$$\n",
      "\\begin{equation}\n",
      "   \\frac{ |fl(a)-a|}{a}=\\frac{ |fl(b)-fl(c)-(b-c)|}{a},\n",
      "\\end{equation}\n",
      "$$"
     ]
    },
    {
     "cell_type": "markdown",
     "metadata": {},
     "source": [
      "yielding"
     ]
    },
    {
     "cell_type": "markdown",
     "metadata": {},
     "source": [
      "$$\n",
      "\\begin{equation}\n",
      "   \\frac{ |fl(a)-a|}{a}=\\frac{ |b\\epsilon_b- c\\epsilon_c|}{a}.\n",
      "\\end{equation}\n",
      "$$"
     ]
    },
    {
     "cell_type": "markdown",
     "metadata": {},
     "source": [
      "The relative error\n",
      "is the quantity of interest in scientific work. Information about the\n",
      "absolute error is normally of little use in the absence of the magnitude\n",
      "of the quantity being measured.\n",
      "\n",
      "\n",
      "\n",
      "### Loss of numerical precision\n",
      "\n",
      "Suppose we wish to evaluate the function"
     ]
    },
    {
     "cell_type": "markdown",
     "metadata": {},
     "source": [
      "$$\n",
      "f(x)=\\frac{1-\\cos(x)}{\\sin(x)},\n",
      "$$"
     ]
    },
    {
     "cell_type": "markdown",
     "metadata": {},
     "source": [
      "for small values of $x$. Five leading digits. If we multiply the denominator and numerator\n",
      "with $1+\\cos(x)$ we obtain the equivalent expression"
     ]
    },
    {
     "cell_type": "markdown",
     "metadata": {},
     "source": [
      "$$\n",
      "f(x)=\\frac{\\sin(x)}{1+\\cos(x)}.\n",
      "$$"
     ]
    },
    {
     "cell_type": "markdown",
     "metadata": {},
     "source": [
      "If we now choose $x=0.007$ (in radians) our choice of precision results in"
     ]
    },
    {
     "cell_type": "markdown",
     "metadata": {},
     "source": [
      "$$\n",
      "\\sin(0.007)\\approx 0.69999\\times 10^{-2},\n",
      "$$"
     ]
    },
    {
     "cell_type": "markdown",
     "metadata": {},
     "source": [
      "and"
     ]
    },
    {
     "cell_type": "markdown",
     "metadata": {},
     "source": [
      "$$\n",
      "\\cos(0.007)\\approx 0.99998.\n",
      "$$"
     ]
    },
    {
     "cell_type": "markdown",
     "metadata": {},
     "source": [
      "### Loss of numerical precision\n",
      "\n",
      "The first expression for $f(x)$ results in"
     ]
    },
    {
     "cell_type": "markdown",
     "metadata": {},
     "source": [
      "$$\n",
      "f(x)=\\frac{1-0.99998}{0.69999\\times 10^{-2}}=\\frac{0.2\\times 10^{-4}}{0.69999\\times 10^{-2}}=0.28572\\times 10^{-2},\n",
      "$$"
     ]
    },
    {
     "cell_type": "markdown",
     "metadata": {},
     "source": [
      "while the second expression results in"
     ]
    },
    {
     "cell_type": "markdown",
     "metadata": {},
     "source": [
      "$$\n",
      "f(x)=\\frac{0.69999\\times 10^{-2}}{1+0.99998}=\n",
      "\\frac{0.69999\\times 10^{-2}}{1.99998}=0.35000\\times 10^{-2},\n",
      "$$"
     ]
    },
    {
     "cell_type": "markdown",
     "metadata": {},
     "source": [
      "which is also the exact result. In the first expression, due to our\n",
      "choice of precision, we have\n",
      "only one relevant digit in the numerator, after the\n",
      "subtraction. This leads to a loss of precision and a wrong result due to\n",
      "a cancellation of two nearly equal numbers.\n",
      "If we had chosen a precision of six leading digits, both expressions\n",
      "yield the same answer.\n",
      "\n",
      "### Loss of numerical precision\n",
      "\n",
      "If we were to evaluate $x\\sim \\pi$, then the second expression for $f(x)$\n",
      "can lead to potential losses of precision due to cancellations of nearly\n",
      "equal numbers.\n",
      "\n",
      "This simple example demonstrates  the loss of numerical precision due\n",
      "to roundoff errors, where the number of leading digits is lost\n",
      "in a subtraction of two near equal numbers.\n",
      "The lesson to be drawn is that we cannot blindly compute a function.\n",
      "We will always need to carefully analyze our algorithm in the search for\n",
      "potential pitfalls. There is no magic recipe however, the only guideline\n",
      "is an understanding of the fact that a machine cannot represent\n",
      "correctly *all* numbers.\n",
      "\n",
      "### Loss of precision can cuae serious problems\n",
      "\n",
      "**Real Numbers.**\n",
      "\n",
      "\n",
      "  * **Overflow**: When the positive exponent exceeds the max value, e.g., 308 for `DOUBLE PRECISION` (64 bits). Under such circumstances the program will terminate and some compilers may give you the warning `OVERFLOW`.\n",
      "\n",
      "  * **Underflow**: When the negative exponent becomes smaller than the min value, e.g., -308 for `DOUBLE PRECISION`. Normally, the variable is then set to zero and the program continues. Other compilers (or compiler options) may warn you with the `UNDERFLOW` message and the program terminates.\n",
      "\n",
      "\n",
      "\n",
      "### Loss of precision, real numbers\n",
      "\n",
      "\n",
      "\n",
      "#### Roundoff errors\n",
      "\n",
      "A floating point number like"
     ]
    },
    {
     "cell_type": "markdown",
     "metadata": {},
     "source": [
      "$$\n",
      "\\begin{equation}\n",
      "   x= 1.234567891112131468 = 0.1234567891112131468\\times 10^{1}\n",
      "\\end{equation}\n",
      "$$"
     ]
    },
    {
     "cell_type": "markdown",
     "metadata": {},
     "source": [
      "may be stored in the following way. The exponent is  small\n",
      "and is stored in full precision. However,\n",
      "the mantissa is not stored fully. In double precision (64 bits), digits\n",
      "beyond the\n",
      "15th are lost since the mantissa is normally stored in two words,\n",
      "one which is the most significant one representing\n",
      "123456 and the least significant one containing 789111213. The digits\n",
      "beyond 3 are lost. Clearly, if we are summing alternating series\n",
      "with large numbers, subtractions between two large numbers may lead\n",
      "to roundoff errors, since not all relevant digits are kept.\n",
      "This leads eventually to the next problem, namely\n",
      "\n",
      "### More on loss of precision\n",
      "\n",
      "**Real Numbers.**\n",
      "\n",
      "\n",
      "  * **Loss of precision**: When one has to e.g., multiply two large numbers where one suspects that the outcome may be beyond the bonds imposed by the variable declaration, one could represent the numbers by logarithms, or rewrite the equations to be solved in terms of dimensionless variables. When dealing with problems in e.g., particle physics or nuclear physics where distance is measured in fm ($10^{-15}$ m), it can be quite convenient to redefine the variables for distance in terms of a dimensionless variable of the order of unity. To give an example, suppose you work with single precision and wish to perform the addition $1+10^{-8}$. In this case, the information containing in $10^{-8}$ is simply lost in the addition. Typically, when performing the addition, the computer equates first the exponents of the two numbers to be added. For $10^{-8}$ this has however catastrophic consequences since in order to obtain an exponent equal to $10^0$, bits in the mantissa are shifted to the right. At the end, all bits in the mantissa are zeros.\n",
      "\n",
      "\n",
      "\n",
      "### A problematic case\n",
      "\n",
      "**Three ways of computing $e^{-x}$.**\n",
      "\n",
      "Brute force:"
     ]
    },
    {
     "cell_type": "markdown",
     "metadata": {},
     "source": [
      "$$\n",
      "\\exp{(-x)}=\\sum_{n=0}^{\\infty}(-1)^n\\frac{x^n}{n!}\n",
      "$$"
     ]
    },
    {
     "cell_type": "markdown",
     "metadata": {},
     "source": [
      "Recursion relation for"
     ]
    },
    {
     "cell_type": "markdown",
     "metadata": {},
     "source": [
      "$$\n",
      "\\exp{(-x)}=\\sum_{n=0}^{\\infty}s_n=\\sum_{n=0}^{\\infty}(-1)^n\\frac{x^n}{n!}\n",
      "$$"
     ]
    },
    {
     "cell_type": "markdown",
     "metadata": {},
     "source": [
      "$$\n",
      "s_n=-s_{n-1}\\frac{x}{n},\n",
      "$$"
     ]
    },
    {
     "cell_type": "markdown",
     "metadata": {},
     "source": [
      "$$\n",
      "\\exp{(x)}=\\sum_{n=0}^{\\infty}s_n\n",
      "$$"
     ]
    },
    {
     "cell_type": "markdown",
     "metadata": {},
     "source": [
      "$$\n",
      "\\exp{(-x)}=\\frac{1}{\\exp{(x)}}\n",
      "$$"
     ]
    },
    {
     "cell_type": "markdown",
     "metadata": {},
     "source": [
      "### Program to compute $\\exp{(-x)}$\n",
      "\n",
      "**Brute Force.**"
     ]
    },
    {
     "cell_type": "markdown",
     "metadata": {},
     "source": [
      "        // Program to calculate function exp(-x)\n",
      "        // using straightforward summation with differing  precision\n",
      "        using namespace std\n",
      "        #include <iostream>\n",
      "        #include <cmath>\n",
      "        // type float:  32 bits precision\n",
      "        // type double: 64 bits precision\n",
      "        #define   TYPE          double\n",
      "        #define   PHASE(a)      (1 - 2 * (abs(a) % 2))\n",
      "        #define   TRUNCATION    1.0E-10\n",
      "        // function declaration\n",
      "        TYPE factorial(int);\n"
     ]
    },
    {
     "cell_type": "markdown",
     "metadata": {},
     "source": [
      "### Program to compute $\\exp{(-x)}$\n",
      "\n",
      "**Still Brute Force.**"
     ]
    },
    {
     "cell_type": "markdown",
     "metadata": {},
     "source": [
      "        int main()\n",
      "        {\n",
      "           int   n;\n",
      "           TYPE  x, term, sum;\n",
      "           for(x = 0.0; x < 100.0; x += 10.0)  {\n",
      "             sum  = 0.0;                //initialization\n",
      "             n    = 0;\n",
      "             term = 1;\n",
      "             while(fabs(term) > TRUNCATION)  {\n",
      "                 term =  PHASE(n) * (TYPE) pow((TYPE) x,(TYPE) n)\n",
      "                        / factorial(n);\n",
      "                 sum += term;\n",
      "                 n++;\n",
      "             }  // end of while() loop\n"
     ]
    },
    {
     "cell_type": "markdown",
     "metadata": {},
     "source": [
      "### Program to compute $\\exp{(-x)}$\n",
      "\n",
      "**Oh, it never ends!**"
     ]
    },
    {
     "cell_type": "markdown",
     "metadata": {},
     "source": [
      "              printf(\"\\nx = %4.1f   exp = %12.5E  series = %12.5E\n",
      "                      number of terms = %d\",\n",
      "                      x, exp(-x), sum, n);\n",
      "           } // end of for() loop\n",
      "        \n",
      "           printf(\"\\n\");           // a final line shift on output\n",
      "           return 0;\n",
      "        } // End: function main()\n",
      "        //     The function factorial()\n",
      "        //     calculates and returns n!\n",
      "        TYPE factorial(int n)\n",
      "        {\n",
      "           int  loop;\n",
      "           TYPE fac;\n",
      "           for(loop = 1, fac = 1.0; loop <= n; loop++)  {\n",
      "              fac *= loop;\n",
      "        \n",
      "           return fac;\n",
      "        } // End: function factorial()\n"
     ]
    },
    {
     "cell_type": "markdown",
     "metadata": {},
     "source": [
      "### Results $\\exp{(-x)}$\n",
      "\n",
      "**What is going on?**\n",
      "\n",
      "\n",
      "\n",
      "           $x$                    $\\exp{(-x)}$                  Series           Number of terms in series  \n",
      "-------------------------  -------------------------  -------------------------  -------------------------  \n",
      "           0.0                    0.100000E+01               0.100000E+01                    1              \n",
      "           10.0                   0.453999E-04               0.453999E-04                    44             \n",
      "           20.0                   0.206115E-08               0.487460E-08                    72             \n",
      "           30.0                   0.935762E-13              -0.342134E-04                   100             \n",
      "           40.0                   0.424835E-17              -0.221033E+01                   127             \n",
      "           50.0                   0.192875E-21              -0.833851E+05                   155             \n",
      "           60.0                   0.875651E-26              -0.850381E+09                   171             \n",
      "           70.0                   0.397545E-30                   NaN                        171             \n",
      "           80.0                   0.180485E-34                   NaN                        171             \n",
      "           90.0                   0.819401E-39                   NaN                        171             \n",
      "          100.0                   0.372008E-43                   NaN                        171\n",
      "\n",
      "\n",
      "\n",
      "\n",
      "### Program to compute $\\exp{(-x)}$"
     ]
    },
    {
     "cell_type": "markdown",
     "metadata": {},
     "source": [
      "        // program to compute exp(-x) without exponentials\n",
      "        using namespace std\n",
      "        #include <iostream>\n",
      "        #include <cmath>\n",
      "        #define  TRUNCATION     1.0E-10\n",
      "        \n",
      "        int main()\n",
      "        {\n",
      "           int       loop, n;\n",
      "           double    x, term, sum;\n",
      "           for(loop = 0; loop <= 100; loop += 10)\n",
      "           {\n",
      "             x    = (double) loop;          // initialization\n",
      "             sum  = 1.0;\n",
      "             term = 1;\n",
      "             n    = 1;\n"
     ]
    },
    {
     "cell_type": "markdown",
     "metadata": {},
     "source": [
      "### Program to compute $\\exp{(-x)}$\n",
      "\n",
      "**Last statements.**"
     ]
    },
    {
     "cell_type": "markdown",
     "metadata": {},
     "source": [
      "             while(fabs(term) > TRUNCATION)\n",
      "               {\n",
      "        \t term *= -x/((double) n);\n",
      "        \t sum  += term;\n",
      "        \t n++;\n",
      "               } // end while loop\n",
      "             cout << \"x = \" << x   << \" exp = \" << exp(-x) <<\"series = \"\n",
      "                  << sum  << \" number of terms =\" << n << \"\\n\";\n",
      "           } // end of for() loop\n",
      "        \n",
      "           cout << \"\\n\";           // a final line shift on output\n",
      "        \n",
      "        }  /*    End: function main() */\n"
     ]
    },
    {
     "cell_type": "markdown",
     "metadata": {},
     "source": [
      "### Results $\\exp{(-x)}$\n",
      "\n",
      "**More Problems.**\n",
      "\n",
      "\n",
      "\n",
      "           $x$                    $\\exp{(-x)}$                  Series           Number of terms in series  \n",
      "-------------------------  -------------------------  -------------------------  -------------------------  \n",
      "         0.000000                0.10000000E+01             0.10000000E+01                   1              \n",
      "        10.000000                0.45399900E-04             0.45399900E-04                   44             \n",
      "        20.000000                0.20611536E-08             0.56385075E-08                   72             \n",
      "        30.000000                0.93576230E-13            -0.30668111E-04                  100             \n",
      "        40.000000                0.42483543E-17            -0.31657319E+01                  127             \n",
      "        50.000000                0.19287498E-21             0.11072933E+05                  155             \n",
      "        60.000000                0.87565108E-26            -0.33516811E+09                  182             \n",
      "        70.000000                0.39754497E-30            -0.32979605E+14                  209             \n",
      "        80.000000                0.18048514E-34             0.91805682E+17                  237             \n",
      "        90.000000                0.81940126E-39            -0.50516254E+22                  264             \n",
      "        100.000000               0.37200760E-43            -0.29137556E+26                  291\n",
      "\n",
      "\n",
      "\n",
      "### Most used formula for derivatives\n",
      "\n",
      "**3 point formulae.**\n",
      "\n",
      "First derivative  ($f_0 = f(x_0)$, $f_{-h}=f(x_0-h)$ and $f_{+h}=f(x_0+h)$"
     ]
    },
    {
     "cell_type": "markdown",
     "metadata": {},
     "source": [
      "$$\n",
      "\\frac{f_h-f_{-h}}{2h}=f'_0+\\sum_{j=1}^{\\infty}\\frac{f_0^{(2j+1)}}{(2j+1)!}h^{2j}.\n",
      "$$"
     ]
    },
    {
     "cell_type": "markdown",
     "metadata": {},
     "source": [
      "Second derivative"
     ]
    },
    {
     "cell_type": "markdown",
     "metadata": {},
     "source": [
      "$$\n",
      "\\frac{ f_h -2f_0 +f_{-h}}{h^2}=f_0''+2\\sum_{j=1}^{\\infty}\\frac{f_0^{(2j+2)}}{(2j+2)!}h^{2j}.\n",
      "$$"
     ]
    },
    {
     "cell_type": "markdown",
     "metadata": {},
     "source": [
      "### Error Analysis"
     ]
    },
    {
     "cell_type": "markdown",
     "metadata": {},
     "source": [
      "$$\n",
      "\\epsilon=log_{10}\\left(\\left|\\frac{f''_{\\mbox{computed}}-f''_{\\mbox{exact}}}\n",
      "                 {f''_{\\mbox{exact}}}\\right|\\right),\n",
      "$$"
     ]
    },
    {
     "cell_type": "markdown",
     "metadata": {},
     "source": [
      "$$\n",
      "\\epsilon_{\\mbox{tot}}=\\epsilon_{\\mbox{approx}}+\\epsilon_{\\mbox{ro}}.\n",
      "$$"
     ]
    },
    {
     "cell_type": "markdown",
     "metadata": {},
     "source": [
      "For the computed second derivative  we have"
     ]
    },
    {
     "cell_type": "markdown",
     "metadata": {},
     "source": [
      "$$\n",
      "f_0''=\\frac{ f_h -2f_0 +f_{-h}}{h^2}-2\\sum_{j=1}^{\\infty}\\frac{f_0^{(2j+2)}}{(2j+2)!}h^{2j},\n",
      "$$"
     ]
    },
    {
     "cell_type": "markdown",
     "metadata": {},
     "source": [
      "and the truncation or approximation error goes like"
     ]
    },
    {
     "cell_type": "markdown",
     "metadata": {},
     "source": [
      "$$\n",
      "\\epsilon_{\\mbox{approx}}\\approx \\frac{f_0^{(4)}}{12}h^{2}.\n",
      "$$"
     ]
    },
    {
     "cell_type": "markdown",
     "metadata": {},
     "source": [
      "### Error Analysis\n",
      "\n",
      "If we were not to worry about loss of precision, we could in principle\n",
      "make $h$ as small as possible.\n",
      "However, due to the computed expression in the above program example"
     ]
    },
    {
     "cell_type": "markdown",
     "metadata": {},
     "source": [
      "$$\n",
      "f_0''=\\frac{ f_h -2f_0 +f_{-h}}{h^2}=\\frac{ (f_h -f_0) +(f_{-h}-f_0)}{h^2},\n",
      "$$"
     ]
    },
    {
     "cell_type": "markdown",
     "metadata": {},
     "source": [
      "we reach fairly quickly a limit for where loss of precision due to the subtraction\n",
      "of two nearly equal numbers becomes crucial.\n",
      "\n",
      "If $(f_{\\pm h} -f_0)$ are very close, we have\n",
      "$(f_{\\pm h} -f_0)\\approx \\epsilon_M$, where $|\\epsilon_M|\\le 10^{-7}$ for single and\n",
      "$|\\epsilon_M|\\le 10^{-15}$ for double precision, respectively.\n",
      "\n",
      "We have then"
     ]
    },
    {
     "cell_type": "markdown",
     "metadata": {},
     "source": [
      "$$\n",
      "\\left|f_0''\\right|=\n",
      " \\left|\\frac{ (f_h -f_0) +(f_{-h}-f_0)}{h^2}\\right|\\le \\frac{ 2 \\epsilon_M}{h^2}.\n",
      "$$"
     ]
    },
    {
     "cell_type": "markdown",
     "metadata": {},
     "source": [
      "### Error Analysis\n",
      "\n",
      "Our total error becomes"
     ]
    },
    {
     "cell_type": "markdown",
     "metadata": {},
     "source": [
      "$$\n",
      "\\left|\\epsilon_{\\mbox{tot}}\\right|\\le  \\frac{2 \\epsilon_M}{h^2} +\n",
      "                          \\frac{f_0^{(4)}}{12}h^{2}.\n",
      "    \\label{eq:experror}\n",
      "$$"
     ]
    },
    {
     "cell_type": "markdown",
     "metadata": {},
     "source": [
      "It is then natural to ask which value of $h$ yields the smallest\n",
      "total error. Taking the derivative of $\\left|\\epsilon_{\\mbox{tot}}\\right|$\n",
      "with respect to $h$ results in"
     ]
    },
    {
     "cell_type": "markdown",
     "metadata": {},
     "source": [
      "$$\n",
      "h= \\left(\\frac{ 24\\epsilon_M}{f_0^{(4)}}\\right)^{1/4}.\n",
      "$$"
     ]
    },
    {
     "cell_type": "markdown",
     "metadata": {},
     "source": [
      "With double precision and $x=10$ we obtain"
     ]
    },
    {
     "cell_type": "markdown",
     "metadata": {},
     "source": [
      "$$\n",
      "h\\approx 10^{-4}.\n",
      "$$"
     ]
    },
    {
     "cell_type": "markdown",
     "metadata": {},
     "source": [
      "Beyond this value, it is essentially the loss of numerical precision\n",
      "which takes over.\n",
      "\n",
      "\n",
      "\n",
      "### Error Analysis\n",
      "\n",
      "Due to the subtractive cancellation in the expression\n",
      "for $f''$ there is a pronounced detoriation in accuracy as $h$ is made smaller\n",
      "and smaller.\n",
      "\n",
      "It is instructive in this analysis to rewrite the numerator of\n",
      "the computed derivative as"
     ]
    },
    {
     "cell_type": "markdown",
     "metadata": {},
     "source": [
      "$$\n",
      "(f_h -f_0) +(f_{-h}-f_0)=(e^{x+h}-e^{x}) + (e^{x-h}-e^{x}),\n",
      "$$"
     ]
    },
    {
     "cell_type": "markdown",
     "metadata": {},
     "source": [
      "as"
     ]
    },
    {
     "cell_type": "markdown",
     "metadata": {},
     "source": [
      "$$\n",
      "(f_h -f_0) +(f_{-h}-f_0)=e^x(e^{h}+e^{-h}-2),\n",
      "$$"
     ]
    },
    {
     "cell_type": "markdown",
     "metadata": {},
     "source": [
      "since it is the difference $(e^{h}+e^{-h}-2)$ which causes\n",
      "the loss of precision.\n",
      "\n",
      "\n",
      "\n",
      "### Error Analysis\n",
      "\n",
      "\n",
      "\n",
      "     $x$          $h=0.01$      $h=0.001$      $h=0.0001$   $h=0.0000001$      Exact      \n",
      "-------------  -------------  -------------  -------------  -------------  -------------  \n",
      "     0.0          1.000008       1.000000       1.000000       1.010303       1.000000    \n",
      "     1.0          2.718304       2.718282       2.718282       2.753353       2.718282    \n",
      "     2.0          7.389118       7.389057       7.389056       7.283063       7.389056    \n",
      "     3.0         20.085704      20.085539      20.085537      20.250467      20.085537    \n",
      "     4.0         54.598605      54.598155      54.598151      54.711789      54.598150    \n",
      "     5.0         148.414396     148.413172     148.413161     150.635056     148.413159\n",
      "\n",
      "\n",
      "\n",
      "### Error Analysis\n",
      "\n",
      "The results for $x=10$ are shown in the Table\n",
      "\n",
      "\n",
      "                $h$                             $e^{h}+e^{-h}$                      $e^{h}+e^{-h}-2$           \n",
      "-----------------------------------  -----------------------------------  -----------------------------------  \n",
      "             $10^{-1}$                        2.0100083361116070           $1.0008336111607230\\times 10^{-2}$  \n",
      "             $10^{-2}$                        2.0001000008333358           $1.0000083333605581\\times 10^{-4}$  \n",
      "             $10^{-3}$                        2.0000010000000836           $1.0000000834065048\\times 10^{-6}$  \n",
      "             $10^{-5}$                        2.0000000099999999           $1.0000000050247593\\times 10^{-8}$  \n",
      "             $10^{-5}$                        2.0000000001000000          $9.9999897251734637\\times 10^{-11}$  \n",
      "             $10^{-6}$                        2.0000000000010001          $9.9997787827987850\\times 10^{-13}$  \n",
      "             $10^{-7}$                        2.0000000000000098          $9.9920072216264089\\times 10^{-15}$  \n",
      "             $10^{-8}$                        2.0000000000000000           $0.0000000000000000\\times 10^{0}$   \n",
      "             $10^{-9}$                        2.0000000000000000          $1.1102230246251565\\times 10^{-16}$  \n",
      "             $10^{-10}$                       2.0000000000000000           $0.0000000000000000\\times 10^{0}$\n",
      "\n",
      "\n",
      "\n",
      "\n",
      "## Week 35\n",
      "\n",
      "### Overview of week 35\n",
      "\n",
      "  * Monday: Repetition from last week\n",
      "\n",
      "  * Numerical differentiation\n",
      "\n",
      "  * C/C++ programming details, pointers, read/write to/from file\n",
      "\n",
      "  * Tuesday: Intro to linear Algebra and presentation of project 1.\n",
      "\n",
      "  * Matrices in C++ and Fortran2008\n",
      "\n",
      "  * Gaussian elimination and discussion of project 1.\n",
      "\n",
      "  * Computer-Lab: start project 1. Reading asssignments and preparation for project 1: sections 2.5 and 3.1 for general C++ and Fortran features. Sections 6.1-6.4 (till page 182) are relevant for project 1.\n",
      "\n",
      "\n",
      "\n",
      "### Technical Matter in C/C++: Pointers\n",
      "\n",
      "A pointer specifies where a value resides in the computer's memory (like a house number specifies where a particular family resides on a street).\n",
      "\n",
      "A pointer points to an address not to a data container of any kind!\n",
      "\n",
      "Simple example declarations:"
     ]
    },
    {
     "cell_type": "markdown",
     "metadata": {},
     "source": [
      "          using namespace std; // note use of namespace\n",
      "          int main()\n",
      "         {\n",
      "           // what are the differences?\n",
      "           int var;\n",
      "           cin >> var;\n",
      "           int *p, q;\n",
      "           int *s, *t;\n",
      "           int * a new[var];    // dynamic memory allocation\n",
      "           delete [] a;\n",
      "        }\n"
     ]
    },
    {
     "cell_type": "markdown",
     "metadata": {},
     "source": [
      "### Technical Matter in C/C++: Pointer example I"
     ]
    },
    {
     "cell_type": "markdown",
     "metadata": {},
     "source": [
      "        using namespace std; // note use of namespace\n",
      "        int main()\n",
      "        {\n",
      "          int var;\n",
      "          int *p;\n",
      "          p = &var;\n",
      "          var  = 421;\n",
      "          printf(\"Address of integer variable var : %p\\n\",&var);\n",
      "          printf(\"Its value: %d\\n\", var);\n",
      "          printf(\"Value of integer pointer p : %p\\n\",p);\n",
      "          printf(\"The value p points at :  %d\\n\",*p);\n",
      "          printf(\"Address of the pointer p : %p\\n\",&p);\n",
      "          return 0;\n",
      "        }\n"
     ]
    },
    {
     "cell_type": "markdown",
     "metadata": {},
     "source": [
      "### Dissection: Pointer example I\n",
      "\n",
      "**Discussion.**"
     ]
    },
    {
     "cell_type": "markdown",
     "metadata": {},
     "source": [
      "        int main()\n",
      "        {\n",
      "          int var;     // Define an integer variable var\n",
      "          int *p;      // Define a pointer to an integer\n",
      "          p = &var;    // Extract the address of var\n",
      "          var = 421;   // Change content of var\n",
      "          printf(\"Address of integer variable var : %p\\n\", &var);\n",
      "          printf(\"Its value: %d\\n\", var);  // 421\n",
      "          printf(\"Value of integer pointer p : %p\\n\", p);  // = &var\n",
      "          // The content of the variable pointed to by p is *p\n",
      "          printf(\"The value p points at :  %d\\n\", *p);\n",
      "          // Address where the pointer is stored in memory\n",
      "          printf(\"Address of the pointer p : %p\\n\", &p);\n",
      "          return 0;\n",
      "        }\n"
     ]
    },
    {
     "cell_type": "markdown",
     "metadata": {},
     "source": [
      "### Pointer example II"
     ]
    },
    {
     "cell_type": "markdown",
     "metadata": {},
     "source": [
      "        int matr[2];\n",
      "        int *p;\n",
      "        p = &matr[0];\n",
      "        matr[0] = 321;\n",
      "        matr[1] = 322;\n",
      "        printf(\"\\nAddress of matrix element matr[1]: %p\",&matr[0]);\n",
      "        printf(\"\\nValue of the  matrix element  matr[1]; %d\",matr[0]);\n",
      "        printf(\"\\nAddress of matrix element matr[2]: %p\",&matr[1]);\n",
      "        printf(\"\\nValue of the matrix element  matr[2]: %d\\n\", matr[1]);\n",
      "        printf(\"\\nValue of the pointer p: %p\",p);\n",
      "        printf(\"\\nThe value p points to: %d\",*p);\n",
      "        printf(\"\\nThe value that (p+1) points to  %d\\n\",*(p+1));\n",
      "        printf(\"\\nAddress of pointer p : %p\\n\",&p);\n"
     ]
    },
    {
     "cell_type": "markdown",
     "metadata": {},
     "source": [
      "### Dissection: Pointer example II"
     ]
    },
    {
     "cell_type": "markdown",
     "metadata": {},
     "source": [
      "        int matr[2];    // Define integer array with two elements\n",
      "        int *p;         // Define pointer to integer\n",
      "        p = &matr[0];   // Point to the address of the first element in matr\n",
      "        matr[0] = 321;  // Change the first element\n",
      "        matr[1] = 322;  // Change the second element\n",
      "        printf(\"\\nAddress of matrix element matr[1]: %p\", &matr[0]);\n",
      "        printf(\"\\nValue of the  matrix element  matr[1]; %d\", matr[0]);\n",
      "        printf(\"\\nAddress of matrix element matr[2]: %p\", &matr[1]);\n",
      "        printf(\"\\nValue of the matrix element  matr[2]: %d\\n\", matr[1]);\n",
      "        printf(\"\\nValue of the pointer p: %p\", p);\n",
      "        printf(\"\\nThe value p points to: %d\", *p);\n",
      "        printf(\"\\nThe value that (p+1) points to  %d\\n\", *(p+1));\n",
      "        printf(\"\\nAddress of pointer p : %p\\n\", &p);\n"
     ]
    },
    {
     "cell_type": "markdown",
     "metadata": {},
     "source": [
      "### Output of Pointer example II"
     ]
    },
    {
     "cell_type": "markdown",
     "metadata": {},
     "source": [
      "        Address of the matrix element matr[1]: 0xbfffef70\n",
      "        Value of the  matrix element  matr[1]; 321\n",
      "        Address of the matrix element matr[2]: 0xbfffef74\n",
      "        Value of the matrix element  matr[2]: 322\n",
      "        Value of the pointer: 0xbfffef70\n",
      "        The value pointer points at: 321\n",
      "        The value that (pointer+1) points at:  322\n",
      "        Address of the pointer variable : 0xbfffef6c\n"
     ]
    },
    {
     "cell_type": "markdown",
     "metadata": {},
     "source": [
      "### File handling; C-way"
     ]
    },
    {
     "cell_type": "markdown",
     "metadata": {},
     "source": [
      "        using namespace std;\n",
      "        #include <iostream>\n",
      "        int main(int argc, char *argv[])\n",
      "        {\n",
      "          FILE *in_file, *out_file;\n",
      "          if( argc < 3)  {\n",
      "            printf(\"The programs has the following structure :\\n\");\n",
      "            printf(\"write in the name of the input and output files \\n\");\n",
      "            exit(0);\n",
      "          }\n",
      "          in_file = fopen( argv[1], \"r\");// returns pointer to the  input file\n",
      "          if( in_file == NULL )  { // NULL means that the file is missing\n",
      "            printf(\"Can't find the input file %s\\n\", argv[1]);\n",
      "            exit(0);\n"
     ]
    },
    {
     "cell_type": "markdown",
     "metadata": {},
     "source": [
      "### File handling; C way cont."
     ]
    },
    {
     "cell_type": "markdown",
     "metadata": {},
     "source": [
      "         out_file = fopen( argv[2], \"w\"); // returns a pointer to the output file\n",
      "         if( out_file == NULL )  {       // can't find the file\n",
      "            printf(\"Can't find the output file%s\\n\", argv[2]);\n",
      "            exit(0);\n",
      "          }\n",
      "          fclose(in_file);\n",
      "          fclose(out_file);\n",
      "          return 0;\n"
     ]
    },
    {
     "cell_type": "markdown",
     "metadata": {},
     "source": [
      "### File handling, C++-way"
     ]
    },
    {
     "cell_type": "markdown",
     "metadata": {},
     "source": [
      "        #include <fstream>\n",
      "        \n",
      "        // input and output file as global variable\n",
      "        ofstream ofile;\n",
      "        ifstream ifile;\n"
     ]
    },
    {
     "cell_type": "markdown",
     "metadata": {},
     "source": [
      "### File handling, C++-way"
     ]
    },
    {
     "cell_type": "markdown",
     "metadata": {},
     "source": [
      "        int main(int argc, char* argv[])\n",
      "        {\n",
      "          char *outfilename;\n",
      "          //Read in output file, abort if there are too\n",
      "          //few command-line arguments\n",
      "          if( argc <= 1 ){\n",
      "            cout << \"Bad Usage: \" << argv[0] <<\n",
      "              \" read also output file on same line\" << endl;\n",
      "            exit(1);\n",
      "          }\n",
      "          else{\n",
      "            outfilename=argv[1];\n",
      "          }\n",
      "          ofile.open(outfilename);\n",
      "          .....\n",
      "          ofile.close();  // close output file\n"
     ]
    },
    {
     "cell_type": "markdown",
     "metadata": {},
     "source": [
      "### File handling, C++-way"
     ]
    },
    {
     "cell_type": "markdown",
     "metadata": {},
     "source": [
      "        void output(double r_min , double r_max, int max_step,\n",
      "                    double *d)\n",
      "        {\n",
      "        int i;\n",
      "        ofile << \"RESULTS:\" << endl;\n",
      "        ofile << setiosflags(ios::showpoint | ios::uppercase);\n",
      "        ofile <<\"R_min = \" << setw(15) << setprecision(8) <<r_min <<endl;\n",
      "        ofile <<\"R_max = \" << setw(15) << setprecision(8) <<r_max <<endl;\n",
      "        ofile <<\"Number of steps = \" << setw(15) << max_step << endl;\n",
      "        ofile << \"Five lowest eigenvalues:\" << endl;\n",
      "        for(i = 0; i < 5; i++) {\n",
      "            ofile << setw(15) << setprecision(8) << d[i] << endl;\n",
      "        \n",
      "        }  // end of function output\n"
     ]
    },
    {
     "cell_type": "markdown",
     "metadata": {},
     "source": [
      "### File handling, C++-way"
     ]
    },
    {
     "cell_type": "markdown",
     "metadata": {},
     "source": [
      "        int main(int argc, char* argv[])\n",
      "        {\n",
      "          char *infilename;\n",
      "          // Read in input file, abort if there are too\n",
      "          // few command-line arguments\n",
      "          if( argc <= 1 ){\n",
      "            cout << \"Bad Usage: \" << argv[0] <<\n",
      "              \" read also input file on same line\" << endl;\n",
      "            exit(1);\n",
      "          }\n",
      "          else{\n",
      "            infilename=argv[1];\n",
      "          }\n",
      "          ifile.open(infilename);\n",
      "          ....\n",
      "          ifile.close();  // close input file\n"
     ]
    },
    {
     "cell_type": "markdown",
     "metadata": {},
     "source": [
      "### File handling, C++-way"
     ]
    },
    {
     "cell_type": "markdown",
     "metadata": {},
     "source": [
      "        const char* filename1 = \"myfile\";\n",
      "        ifstream ifile(filename1);\n",
      "        string filename2 = filename1 + \".out\"\n",
      "        ofstream ofile(filename2);  // new output file\n",
      "        ofstream ofile(filename2, ios_base::app);  // append\n",
      "        \n",
      "        //      Read something from the file:\n",
      "        \n",
      "        double a; int b; char c[200];\n",
      "        ifile >> a >> b >> c;  // skips white space in between\n",
      "        \n",
      "        //      Can test on success of reading:\n",
      "        \n",
      "        if (!(ifile >> a >> b >> c)) ok = 0;\n"
     ]
    },
    {
     "cell_type": "markdown",
     "metadata": {},
     "source": [
      "### Call by value and reference"
     ]
    },
    {
     "cell_type": "markdown",
     "metadata": {},
     "source": [
      "        int main(int argc, char argv[]) {\n",
      "        int  a:\n",
      "        int *b;\n",
      "        a = 10;\n",
      "        b = new int[10];\n",
      "        for (i = 0; i < 10; i++) {\n",
      "          b[i] = i;\n",
      "        }\n",
      "        func(a, b);\n",
      "        delete [] b;\n",
      "        return 0;\n",
      "        }\n"
     ]
    },
    {
     "cell_type": "markdown",
     "metadata": {},
     "source": [
      "### Call by value and reference\n",
      "\n",
      "Morten: Too complicated LaTeX code for computer code to be\n",
      "decoded....\n",
      "\n",
      "### Call by value and reference\n",
      "\n",
      "  * Lines 1,2: Declaration of two variables `a` and `b`. The compiler reserves two locations in memory. The size of the location depends on the type of variable. Two properties are important for these locations: the address in memory and the content in the location. The value of `a` is `a`. The address of `a` is `&a`. The value of `b` is `*b`. The address of `b` is `&b`.\n",
      "\n",
      "  * Line 3: The value of `a` is now 10.\n",
      "\n",
      "  * Line 4: Memory to store 10 integers is reserved. The address to the first location is stored in b. Address to element number 6 is given by the expression (b + 6).\n",
      "\n",
      "  * Line 5: All 10 elements of `b` are given values: `b[0] = 0`, `b[1] = 1`, ....., `b[9] = 9`\n",
      "\n",
      "  * line 7: here we deallocate the variable `b`.\n",
      "\n",
      "### Call by value and reference\n",
      "\n",
      "  * Line 6: The `main()` function calls the function `func()` and the program counter transfers to the first statement in `func()`. With respect to data the following happens. The content of `a` (= 10) and the content of `b` (a memory address) are copied to a stack (new memory location) associated with the function `func()`\n",
      "\n",
      "  * Line 7: The variable `x` and `y` are local variables in `func()`. They have the values  `x = 10`, `y` is the address of the first element in `b` in `main()`.\n",
      "\n",
      "  * Line 8: The local variable `x` stored in the stack memory is changed to 17. Nothing happens with the value `a` in `main()`.\n",
      "\n",
      "### Call by value and reference\n",
      "\n",
      "  * Line 9: The value of y is an address and the symbol `*y` means the position in memory which has this address. The value in this location is now increased by 10. This means that the value of `b[0]` in the main program is equal to 10. Thus func() has modified a value in `main()`.\n",
      "\n",
      "  * Line 10: This statement has the same effect as line 9 except that it modifies the element `b[6]` in `main()` by adding a value of 10 to what was there originally, namely 5.\n",
      "\n",
      "  * Line 11: The program counter returns to `main()`, the next expression after `func(a,b)`. All data on the stack associated with `func()` are destroyed.\n",
      "\n",
      "### Call by value and reference\n",
      "\n",
      "  * The value of a is transferred to `func()` and stored in a new memory location called `x`. Any modification of `x` in `func()` does not affect in any way the value of `a` in `main()`. This is called *transfer of data by value*.\n",
      "\n",
      "  * On the other hand the next argument in `func()` is an address which is transferred to `func()`. This address can be used to modify the corresponding value in `main()`. In the C language it is expressed as a modification of the value which `y` points to, namely the first element of `b`. This is called *transfer of data by reference* and is a method to transfer data back to the calling function, in this case `main()`.\n",
      "\n",
      "### Call by value and reference\n",
      "\n",
      "C++ allows however the programmer to use solely call by reference\n",
      "(note that call by reference is implemented as pointers).\n",
      "To see the difference between C and C++, consider the following simple\n",
      "examples. In C we would write"
     ]
    },
    {
     "cell_type": "markdown",
     "metadata": {},
     "source": [
      "           int n; n =8;\n",
      "           func(&n); /* &n is a pointer to n */\n",
      "           ....\n",
      "           void func(int *i)\n",
      "           {\n",
      "             *i = 10; /* n is changed to 10 */\n",
      "             ....\n",
      "           }\n"
     ]
    },
    {
     "cell_type": "markdown",
     "metadata": {},
     "source": [
      "whereas in C++ we would write"
     ]
    },
    {
     "cell_type": "markdown",
     "metadata": {},
     "source": [
      "           int n; n =8;\n",
      "           func(n); // just transfer n itself\n",
      "           ....\n",
      "           void func(int& i)\n",
      "           {\n",
      "             i = 10; // n is changed to 10\n",
      "             ....\n",
      "           }\n"
     ]
    },
    {
     "cell_type": "markdown",
     "metadata": {},
     "source": [
      "The reason why we emphasize the difference between call by value and call\n",
      "by reference is that it allows the programmer to avoid pitfalls\n",
      "like unwanted changes of variables. However, many people feel that this\n",
      "reduces the readability of the code.\n",
      "\n",
      "\n",
      "### Call by value and reference, F90/95\n",
      "\n",
      "In Fortran we can use `INTENT(IN)`, `INTENT(OUT)`, `INTENT(INOUT)` to let the\n",
      "program know which values should or should not be changed."
     ]
    },
    {
     "cell_type": "markdown",
     "metadata": {},
     "source": [
      "        SUBROUTINE coulomb_integral(np,lp,n,l,coulomb)\n",
      "          USE effective_interaction_declar\n",
      "          USE energy_variables\n",
      "          USE wave_functions\n",
      "          IMPLICIT NONE\n",
      "          INTEGER, INTENT(IN)  :: n, l, np, lp\n",
      "          INTEGER :: i\n",
      "          REAL(KIND=8), INTENT(INOUT) :: coulomb\n",
      "          REAL(KIND=8) :: z_rel, oscl_r, sum_coulomb\n",
      "          ...\n"
     ]
    },
    {
     "cell_type": "markdown",
     "metadata": {},
     "source": [
      "This hinders unwanted changes and increases readability.\n",
      "\n",
      "### Important Matrix and vector handling packages\n",
      "\n",
      "The Numerical Recipes codes have been rewritten in Fortran 90/95 and\n",
      "C/C++ by us.  The original source codes are taken from the widely used\n",
      "software package LAPACK, which follows two other popular packages\n",
      "developed in the 1970s, namely EISPACK and LINPACK.\n",
      "\n",
      "  * LINPACK: package for linear equations and least square problems.\n",
      "\n",
      "  * LAPACK:package for solving symmetric, unsymmetric and generalized eigenvalue problems. From LAPACK's website <http://www.netlib.org> it is possible to download for free all source codes from this library. Both C/C++ and Fortran versions are available.\n",
      "\n",
      "  * BLAS (I, II and III): (Basic Linear Algebra Subprograms) are routines that provide standard building blocks for performing basic vector and matrix operations. Blas I is vector operations, II vector-matrix operations and III matrix-matrix operations. Highly parallelized and efficient codes, all available for download from <http://www.netlib.org>.\n",
      "\n",
      "### Basic Matrix Features\n",
      "\n",
      "**Matrix properties reminder.**"
     ]
    },
    {
     "cell_type": "markdown",
     "metadata": {},
     "source": [
      "$$\n",
      "{\\bf A} =\n",
      "      \\left( \\begin{array}{cccc} a_{11} & a_{12} & a_{13} & a_{14} \\\\\n",
      "                                 a_{21} & a_{22} & a_{23} & a_{24} \\\\\n",
      "                                   a_{31} & a_{32} & a_{33} & a_{34} \\\\\n",
      "                                  a_{41} & a_{42} & a_{43} & a_{44}\n",
      "             \\end{array} \\right)\\qquad\n",
      "{\\bf I} =\n",
      "      \\left( \\begin{array}{cccc} 1 & 0 & 0 & 0 \\\\\n",
      "                                 0 & 1 & 0 & 0 \\\\\n",
      "                                 0 & 0 & 1 & 0 \\\\\n",
      "                                 0 & 0 & 0 & 1\n",
      "             \\end{array} \\right)\n",
      "$$"
     ]
    },
    {
     "cell_type": "markdown",
     "metadata": {},
     "source": [
      "The inverse of a matrix is defined by"
     ]
    },
    {
     "cell_type": "markdown",
     "metadata": {},
     "source": [
      "$$\n",
      "{\\bf A}^{-1} \\cdot {\\bf A} = I\n",
      "$$"
     ]
    },
    {
     "cell_type": "markdown",
     "metadata": {},
     "source": [
      "### Basic Matrix Features\n",
      "\n",
      "**Matrix Properties Reminder.**\n",
      "\n",
      "\n",
      "\n",
      "                             Relations                                                               Name                                                           matrix elements                            \n",
      "-------------------------------------------------------------------  -------------------------------------------------------------------  -------------------------------------------------------------------  \n",
      "                            $A = A^{T}$                                                           symmetric                                                        $a_{ij} = a_{ji}$                           \n",
      "                  $A = \\left (A^{T} \\right )^{-1}$                                             real orthogonal                                $\\sum_k a_{ik} a_{jk} = \\sum_k a_{ki} a_{kj} = \\delta_{ij}$      \n",
      "                            $A = A^{*}$                                                          real matrix                                                     $a_{ij} = a_{ij}^{*}$                         \n",
      "                         $A = A^{\\dagger}$                                                        hermitian                                                      $a_{ij} = a_{ji}^{*}$                         \n",
      "               $A = \\left (A^{\\dagger} \\right )^{-1}$                                              unitary                                $\\sum_k a_{ik} a_{jk}^{*} = \\sum_k a_{ki}^{*} a_{kj} = \\delta_{ij}$\n",
      "\n",
      "\n",
      "\n",
      "### Some famous Matrices\n",
      "\n",
      "  * Diagonal if $a_{ij}=0$ for $i\\ne j$\n",
      "\n",
      "  * Upper triangular if $a_{ij}=0$ for $i > j$\n",
      "\n",
      "  * Lower triangular if $a_{ij}=0$ for $i < j$\n",
      "\n",
      "  * Upper Hessenberg if $a_{ij}=0$ for $i > j+1$\n",
      "\n",
      "  * Lower Hessenberg if $a_{ij}=0$ for $i < j+1$\n",
      "\n",
      "  * Tridiagonal if $a_{ij}=0$ for $|i -j| > 1$\n",
      "\n",
      "  * Lower banded with bandwidth $p$: $a_{ij}=0$ for $i > j+p$\n",
      "\n",
      "  * Upper banded with bandwidth $p$: $a_{ij}=0$ for $i < j+p$\n",
      "\n",
      "  * Banded, block upper triangular, block lower triangular....\n",
      "\n",
      "### Basic Matrix Features\n",
      "\n",
      "**Some Equivalent Statements.**\n",
      "\n",
      "For an $N\\times N$ matrix  ${\\bf A}$ the following properties are all equivalent\n",
      "\n",
      "  * If the inverse of ${\\bf A}$ exists, ${\\bf A}$ is nonsingular.\n",
      "\n",
      "  * The equation ${\\bf Ax}=0$ implies ${\\bf x}=0$.\n",
      "\n",
      "  * The rows of ${\\bf A}$ form a basis of $R^N$.\n",
      "\n",
      "  * The columns of ${\\bf A}$ form a basis of $R^N$.\n",
      "\n",
      "  * ${\\bf A}$ is a product of elementary matrices.\n",
      "\n",
      "  * $0$ is not eigenvalue of ${\\bf A}$.\n",
      "\n",
      "\n",
      "\n",
      "### Important Mathematical Operations\n",
      "\n",
      "The basic matrix operations that we will deal with are addition and subtraction"
     ]
    },
    {
     "cell_type": "markdown",
     "metadata": {},
     "source": [
      "$$\n",
      "\\begin{equation}\n",
      "{\\bf A}= {\\bf B}\\pm{\\bf C}  \\Longrightarrow a_{ij} = b_{ij}\\pm c_{ij},\n",
      "\\label{eq:mtxadd}\n",
      "\\end{equation}\n",
      "$$"
     ]
    },
    {
     "cell_type": "markdown",
     "metadata": {},
     "source": [
      "scalar-matrix multiplication"
     ]
    },
    {
     "cell_type": "markdown",
     "metadata": {},
     "source": [
      "$$\n",
      "\\begin{equation}\n",
      "{\\bf A}= \\gamma{\\bf B}  \\Longrightarrow a_{ij} = \\gamma b_{ij},\n",
      "\\end{equation}\n",
      "$$"
     ]
    },
    {
     "cell_type": "markdown",
     "metadata": {},
     "source": [
      "vector-matrix multiplication"
     ]
    },
    {
     "cell_type": "markdown",
     "metadata": {},
     "source": [
      "$$\n",
      "\\begin{equation}\n",
      "{\\bf y}={\\bf Ax}   \\Longrightarrow y_{i} = \\sum_{j=1}^{n} a_{ij}x_j,\n",
      "\\label{eq:vecmtx}\n",
      "\\end{equation}\n",
      "$$"
     ]
    },
    {
     "cell_type": "markdown",
     "metadata": {},
     "source": [
      "matrix-matrix multiplication"
     ]
    },
    {
     "cell_type": "markdown",
     "metadata": {},
     "source": [
      "$$\n",
      "\\begin{equation}\n",
      "{\\bf A}={\\bf BC}   \\Longrightarrow a_{ij} = \\sum_{k=1}^{n} b_{ik}c_{kj},\n",
      "\\label{eq:mtxmtx}\n",
      "\\end{equation}\n",
      "$$"
     ]
    },
    {
     "cell_type": "markdown",
     "metadata": {},
     "source": [
      "and transposition"
     ]
    },
    {
     "cell_type": "markdown",
     "metadata": {},
     "source": [
      "$$\n",
      "\\begin{equation}\n",
      "{\\bf A}={\\bf B}^T   \\Longrightarrow a_{ij} = b_{ji}\n",
      "\\end{equation}\n",
      "$$"
     ]
    },
    {
     "cell_type": "markdown",
     "metadata": {},
     "source": [
      "### Important Mathematical Operations\n",
      "\n",
      "Similarly, important vector operations that we will deal with are addition and subtraction"
     ]
    },
    {
     "cell_type": "markdown",
     "metadata": {},
     "source": [
      "$$\n",
      "\\begin{equation}\n",
      "{\\bf x}= {\\bf y}\\pm{\\bf z}  \\Longrightarrow x_{i} = y_{i}\\pm z_{i},\n",
      "\\end{equation}\n",
      "$$"
     ]
    },
    {
     "cell_type": "markdown",
     "metadata": {},
     "source": [
      "scalar-vector multiplication"
     ]
    },
    {
     "cell_type": "markdown",
     "metadata": {},
     "source": [
      "$$\n",
      "\\begin{equation}\n",
      "{\\bf x}= \\gamma{\\bf y}  \\Longrightarrow x_{i} = \\gamma y_{i},\n",
      "\\end{equation}\n",
      "$$"
     ]
    },
    {
     "cell_type": "markdown",
     "metadata": {},
     "source": [
      "vector-vector multiplication (called Hadamard multiplication)"
     ]
    },
    {
     "cell_type": "markdown",
     "metadata": {},
     "source": [
      "$$\n",
      "\\begin{equation}\n",
      "{\\bf x}={\\bf yz}   \\Longrightarrow x_{i} = y_{i}z_i,\n",
      "\\end{equation}\n",
      "$$"
     ]
    },
    {
     "cell_type": "markdown",
     "metadata": {},
     "source": [
      "the inner or so-called dot product  resulting in a constant"
     ]
    },
    {
     "cell_type": "markdown",
     "metadata": {},
     "source": [
      "$$\n",
      "\\begin{equation}\n",
      "x={\\bf y}^T{\\bf z}   \\Longrightarrow x = \\sum_{j=1}^{n} y_{j}z_{j},\n",
      "\\label{eq:innerprod}\n",
      "\\end{equation}\n",
      "$$"
     ]
    },
    {
     "cell_type": "markdown",
     "metadata": {},
     "source": [
      "and the outer product, which yields a matrix,"
     ]
    },
    {
     "cell_type": "markdown",
     "metadata": {},
     "source": [
      "$$\n",
      "\\begin{equation}\n",
      "{\\bf A}=  {\\bf yz}^T \\Longrightarrow  a_{ij} = y_{i}z_{j},\n",
      "\\label{eq:outerprod}\n",
      "\\end{equation}\n",
      "$$"
     ]
    },
    {
     "cell_type": "markdown",
     "metadata": {},
     "source": [
      "### Matrix Handling in C/C++, Static and Dynamical allocation\n",
      "\n",
      "**Static.**\n",
      "\n",
      "We have  an $N\\times N$ matrix A  with $N=100$\n",
      "In C/C++ this would be  defined as"
     ]
    },
    {
     "cell_type": "markdown",
     "metadata": {},
     "source": [
      "           int N = 100;\n",
      "           double A[100][100];\n",
      "           //   initialize all elements to zero\n",
      "           for(i=0 ; i < N ; i++) {\n",
      "              for(j=0 ; j < N ; j++) {\n",
      "                 A[i][j] = 0.0;\n",
      "        \n"
     ]
    },
    {
     "cell_type": "markdown",
     "metadata": {},
     "source": [
      "Note the way the matrix is organized, row-major order.\n",
      "\n",
      "\n",
      "\n",
      "### Matrix Handling in C/C++\n",
      "\n",
      "**Row Major Order, Addition.**\n",
      "\n",
      "We have  $N\\times N$ matrices A, B and C and we wish to\n",
      "evaluate $A=B+C$."
     ]
    },
    {
     "cell_type": "markdown",
     "metadata": {},
     "source": [
      "$$\n",
      "{\\bf A}= {\\bf B}\\pm{\\bf C}  \\Longrightarrow a_{ij} = b_{ij}\\pm c_{ij},\n",
      "$$"
     ]
    },
    {
     "cell_type": "markdown",
     "metadata": {},
     "source": [
      "In C/C++ this would be coded like"
     ]
    },
    {
     "cell_type": "markdown",
     "metadata": {},
     "source": [
      "           for(i=0 ; i < N ; i++) {\n",
      "              for(j=0 ; j < N ; j++) {\n",
      "                 a[i][j] = b[i][j]+c[i][j]\n",
      "        \n"
     ]
    },
    {
     "cell_type": "markdown",
     "metadata": {},
     "source": [
      "### Matrix Handling in C/C++\n",
      "\n",
      "**Row Major Order, Multiplication.**\n",
      "\n",
      "We have  $N\\times N$ matrices A, B and C and we wish to\n",
      "evaluate $A=BC$."
     ]
    },
    {
     "cell_type": "markdown",
     "metadata": {},
     "source": [
      "$$\n",
      "{\\bf A}={\\bf BC}   \\Longrightarrow a_{ij} = \\sum_{k=1}^{n} b_{ik}c_{kj},\n",
      "$$"
     ]
    },
    {
     "cell_type": "markdown",
     "metadata": {},
     "source": [
      "In C/C++ this would be coded like"
     ]
    },
    {
     "cell_type": "markdown",
     "metadata": {},
     "source": [
      "           for(i=0 ; i < N ; i++) {\n",
      "              for(j=0 ; j < N ; j++) {\n",
      "                 for(k=0 ; k < N ; k++) {\n",
      "                    a[i][j]+=b[i][k]*c[k][j];\n",
      "        \n"
     ]
    },
    {
     "cell_type": "markdown",
     "metadata": {},
     "source": [
      "### Matrix Handling in Fortran 90/95\n",
      "\n",
      "**Column Major Order.**"
     ]
    },
    {
     "cell_type": "markdown",
     "metadata": {},
     "source": [
      "           ALLOCATE (a(N,N), b(N,N), c(N,N))\n",
      "           DO j=1,  N\n",
      "              DO i=1, N\n",
      "                 a(i,j)=b(i,j)+c(i,j)\n",
      "              ENDDO\n",
      "           ENDDO\n",
      "           ...\n",
      "           DEALLOCATE(a,b,c)\n"
     ]
    },
    {
     "cell_type": "markdown",
     "metadata": {},
     "source": [
      "Fortran 90 writes the above statements in a much simpler way"
     ]
    },
    {
     "cell_type": "markdown",
     "metadata": {},
     "source": [
      "           a=b+c\n"
     ]
    },
    {
     "cell_type": "markdown",
     "metadata": {},
     "source": [
      "Multiplication"
     ]
    },
    {
     "cell_type": "markdown",
     "metadata": {},
     "source": [
      "           a=MATMUL(b,c)\n"
     ]
    },
    {
     "cell_type": "markdown",
     "metadata": {},
     "source": [
      "Fortran contains also the intrinsic functions TRANSPOSE and CONJUGATE.\n",
      "\n",
      "\n",
      "\n",
      "### Dynamic memory allocation in C/C++\n",
      "\n",
      "At least three possibilities in this course\n",
      "\n",
      "  * Do it yourself\n",
      "\n",
      "  * Use the functions provided in the library package lib.cpp\n",
      "\n",
      "  * Use Armadillo <http://arma.sourceforgenet> (a C++ linear algebra library, discussion next two weeks, both here and at lab). !split\n",
      "\n",
      "### Matrix Handling in C/C++, Dynamic Allocation\n",
      "\n",
      "**Do it yourself.**"
     ]
    },
    {
     "cell_type": "markdown",
     "metadata": {},
     "source": [
      "        int N;\n",
      "        double **  A;\n",
      "        A = new double*[N]\n",
      "        for ( i = 0; i < N; i++)\n",
      "            A[i] = new double[N];\n"
     ]
    },
    {
     "cell_type": "markdown",
     "metadata": {},
     "source": [
      "Always free space when you don't need an array anymore."
     ]
    },
    {
     "cell_type": "markdown",
     "metadata": {},
     "source": [
      "        for ( i = 0; i < N; i++)\n",
      "            delete[] A[i];\n",
      "        delete[] A;\n"
     ]
    },
    {
     "cell_type": "markdown",
     "metadata": {},
     "source": [
      "### Armadillo, recommended!!\n",
      "\n",
      "  * Armadillo is a C++ linear algebra library (matrix maths) aiming towards a good balance between speed and ease of use. The syntax is deliberately similar to Matlab.\n",
      "\n",
      "  * Integer, floating point and complex numbers are supported, as well as a subset of trigonometric and statistics functions. Various matrix decompositions are provided through optional integration with LAPACK, or one of its high performance drop-in replacements (such as the multi-threaded MKL or ACML libraries).\n",
      "\n",
      "  * A delayed evaluation approach is employed (at compile-time) to combine several operations into one and reduce (or eliminate) the need for temporaries. This is accomplished through recursive templates and template meta-programming.\n",
      "\n",
      "  * Useful for conversion of research code into production environments, or if C++ has been decided as the language of choice, due to speed and/or integration capabilities.\n",
      "\n",
      "  * The library is open-source software, and is distributed under a license that is useful in both open-source and commercial/proprietary contexts.\n",
      "\n",
      "### Armadillo, simple examples"
     ]
    },
    {
     "cell_type": "markdown",
     "metadata": {},
     "source": [
      "        #include <iostream>\n",
      "        #include <armadillo>\n",
      "        \n",
      "        using namespace std;\n",
      "        using namespace arma;\n",
      "        \n",
      "        int main(int argc, char** argv)\n",
      "          {\n",
      "          mat A = randu<mat>(5,5);\n",
      "          mat B = randu<mat>(5,5);\n",
      "        \n",
      "          cout << A*B << endl;\n",
      "        \n",
      "          return 0;\n",
      "        \n"
     ]
    },
    {
     "cell_type": "markdown",
     "metadata": {},
     "source": [
      "### Armadillo, how to compile and install\n",
      "\n",
      "For people using Ubuntu, Debian, Linux Mint, simply go to the synaptic package manager and install\n",
      "armadillo from there.\n",
      "You may have to install Lapack as well.\n",
      "For Mac and Windows users, follow the instructions from the webpage\n",
      "<http://arma.sourceforge.net>.\n",
      "To compile, use for example"
     ]
    },
    {
     "cell_type": "markdown",
     "metadata": {},
     "source": [
      "        c++ -O2 -o program.x program.cpp  -larmadillo -llapack -lblas\n"
     ]
    },
    {
     "cell_type": "markdown",
     "metadata": {},
     "source": [
      "where the `-l` option indicates the library you wish to link to.\n",
      "\n",
      "### Armadillo, simple examples"
     ]
    },
    {
     "cell_type": "markdown",
     "metadata": {},
     "source": [
      "        #include <iostream>\n",
      "        #include \"armadillo\"\n",
      "        using namespace arma;\n",
      "        using namespace std;\n",
      "        \n",
      "        int main(int argc, char** argv)\n",
      "          {\n",
      "          // directly specify the matrix size (elements are uninitialised)\n",
      "          mat A(2,3);\n",
      "          // .n_rows = number of rows    (read only)\n",
      "          // .n_cols = number of columns (read only)\n",
      "          cout << \"A.n_rows = \" << A.n_rows << endl;\n",
      "          cout << \"A.n_cols = \" << A.n_cols << endl;\n",
      "          // directly access an element (indexing starts at 0)\n",
      "          A(1,2) = 456.0;\n",
      "          A.print(\"A:\");\n",
      "          // scalars are treated as a 1x1 matrix,\n",
      "          // hence the code below will set A to have a size of 1x1\n",
      "          A = 5.0;\n",
      "          A.print(\"A:\");\n",
      "          // if you want a matrix with all elements set to a particular value\n",
      "          // the .fill() member function can be used\n",
      "          A.set_size(3,3);\n",
      "          A.fill(5.0);  A.print(\"A:\");\n"
     ]
    },
    {
     "cell_type": "markdown",
     "metadata": {},
     "source": [
      "### Armadillo, simple examples"
     ]
    },
    {
     "cell_type": "markdown",
     "metadata": {},
     "source": [
      "          mat B;\n",
      "        \n",
      "          // endr indicates \"end of row\"\n",
      "          B << 0.555950 << 0.274690 << 0.540605 << 0.798938 << endr\n",
      "            << 0.108929 << 0.830123 << 0.891726 << 0.895283 << endr\n",
      "            << 0.948014 << 0.973234 << 0.216504 << 0.883152 << endr\n",
      "            << 0.023787 << 0.675382 << 0.231751 << 0.450332 << endr;\n",
      "        \n",
      "          // print to the cout stream\n",
      "          // with an optional string before the contents of the matrix\n",
      "          B.print(\"B:\");\n",
      "        \n",
      "          // the << operator can also be used to print the matrix\n",
      "          // to an arbitrary stream (cout in this case)\n",
      "          cout << \"B:\" << endl << B << endl;\n",
      "          // save to disk\n",
      "          B.save(\"B.txt\", raw_ascii);\n",
      "          // load from disk\n",
      "          mat C;\n",
      "          C.load(\"B.txt\");\n",
      "          C += 2.0 * B;\n",
      "          C.print(\"C:\");\n"
     ]
    },
    {
     "cell_type": "markdown",
     "metadata": {},
     "source": [
      "### Armadillo, simple examples"
     ]
    },
    {
     "cell_type": "markdown",
     "metadata": {},
     "source": [
      "          // submatrix types:\n",
      "          //\n",
      "          // .submat(first_row, first_column, last_row, last_column)\n",
      "          // .row(row_number)\n",
      "          // .col(column_number)\n",
      "          // .cols(first_column, last_column)\n",
      "          // .rows(first_row, last_row)\n",
      "        \n",
      "          cout << \"C.submat(0,0,3,1) =\" << endl;\n",
      "          cout << C.submat(0,0,3,1) << endl;\n",
      "        \n",
      "          // generate the identity matrix\n",
      "          mat D = eye<mat>(4,4);\n",
      "        \n",
      "          D.submat(0,0,3,1) = C.cols(1,2);\n",
      "          D.print(\"D:\");\n",
      "        \n",
      "          // transpose\n",
      "          cout << \"trans(B) =\" << endl;\n",
      "          cout << trans(B) << endl;\n",
      "        \n",
      "          // maximum from each column (traverse along rows)\n",
      "          cout << \"max(B) =\" << endl;\n",
      "          cout << max(B) << endl;\n",
      "        \n"
     ]
    },
    {
     "cell_type": "markdown",
     "metadata": {},
     "source": [
      "### Armadillo, simple examples"
     ]
    },
    {
     "cell_type": "markdown",
     "metadata": {},
     "source": [
      "          // maximum from each row (traverse along columns)\n",
      "          cout << \"max(B,1) =\" << endl;\n",
      "          cout << max(B,1) << endl;\n",
      "          // maximum value in B\n",
      "          cout << \"max(max(B)) = \" << max(max(B)) << endl;\n",
      "          // sum of each column (traverse along rows)\n",
      "          cout << \"sum(B) =\" << endl;\n",
      "          cout << sum(B) << endl;\n",
      "          // sum of each row (traverse along columns)\n",
      "          cout << \"sum(B,1) =\" << endl;\n",
      "          cout << sum(B,1) << endl;\n",
      "          // sum of all elements\n",
      "          cout << \"sum(sum(B)) = \" << sum(sum(B)) << endl;\n",
      "          cout << \"accu(B)     = \" << accu(B) << endl;\n",
      "          // trace = sum along diagonal\n",
      "          cout << \"trace(B)    = \" << trace(B) << endl;\n",
      "          // random matrix -- values are uniformly distributed in the [0,1] interval\n",
      "          mat E = randu<mat>(4,4);\n",
      "          E.print(\"E:\");\n",
      "        \n"
     ]
    },
    {
     "cell_type": "markdown",
     "metadata": {},
     "source": [
      "### Armadillo, simple examples"
     ]
    },
    {
     "cell_type": "markdown",
     "metadata": {},
     "source": [
      "          // row vectors are treated like a matrix with one row\n",
      "          rowvec r;\n",
      "          r << 0.59499 << 0.88807 << 0.88532 << 0.19968;\n",
      "          r.print(\"r:\");\n",
      "        \n",
      "          // column vectors are treated like a matrix with one column\n",
      "          colvec q;\n",
      "          q << 0.81114 << 0.06256 << 0.95989 << 0.73628;\n",
      "          q.print(\"q:\");\n",
      "        \n",
      "          // dot or inner product\n",
      "          cout << \"as_scalar(r*q) = \" << as_scalar(r*q) << endl;\n",
      "        \n",
      "            // outer product\n",
      "          cout << \"q*r =\" << endl;\n",
      "          cout << q*r << endl;\n",
      "        \n",
      "        \n",
      "          // sum of three matrices (no temporary matrices are created)\n",
      "          mat F = B + C + D;\n",
      "          F.print(\"F:\");\n",
      "        \n",
      "            return 0;\n",
      "        \n"
     ]
    },
    {
     "cell_type": "markdown",
     "metadata": {},
     "source": [
      "### Armadillo, simple examples"
     ]
    },
    {
     "cell_type": "markdown",
     "metadata": {},
     "source": [
      "        #include <iostream>\n",
      "        #include \"armadillo\"\n",
      "        using namespace arma;\n",
      "        using namespace std;\n",
      "        \n",
      "        int main(int argc, char** argv)\n",
      "          {\n",
      "          cout << \"Armadillo version: \" << arma_version::as_string() << endl;\n",
      "        \n",
      "          mat A;\n",
      "        \n",
      "          A << 0.165300 << 0.454037 << 0.995795 << 0.124098 << 0.047084 << endr\n",
      "            << 0.688782 << 0.036549 << 0.552848 << 0.937664 << 0.866401 << endr\n",
      "            << 0.348740 << 0.479388 << 0.506228 << 0.145673 << 0.491547 << endr\n",
      "            << 0.148678 << 0.682258 << 0.571154 << 0.874724 << 0.444632 << endr\n",
      "            << 0.245726 << 0.595218 << 0.409327 << 0.367827 << 0.385736 << endr;\n",
      "        \n",
      "          A.print(\"A =\");\n",
      "        \n",
      "          // determinant\n",
      "          cout << \"det(A) = \" << det(A) << endl;\n"
     ]
    },
    {
     "cell_type": "markdown",
     "metadata": {},
     "source": [
      "### Armadillo, simple examples"
     ]
    },
    {
     "cell_type": "markdown",
     "metadata": {},
     "source": [
      "          // inverse\n",
      "          cout << \"inv(A) = \" << endl << inv(A) << endl;\n",
      "          double k = 1.23;\n",
      "        \n",
      "          mat    B = randu<mat>(5,5);\n",
      "          mat    C = randu<mat>(5,5);\n",
      "        \n",
      "          rowvec r = randu<rowvec>(5);\n",
      "          colvec q = randu<colvec>(5);\n",
      "        \n",
      "        \n",
      "          // examples of some expressions\n",
      "          // for which optimised implementations exist\n",
      "          // optimised implementation of a trinary expression\n",
      "          // that results in a scalar\n",
      "          cout << \"as_scalar( r*inv(diagmat(B))*q ) = \";\n",
      "          cout << as_scalar( r*inv(diagmat(B))*q ) << endl;\n",
      "        \n",
      "          // example of an expression which is optimised\n",
      "          // as a call to the dgemm() function in BLAS:\n",
      "          cout << \"k*trans(B)*C = \" << endl << k*trans(B)*C;\n",
      "        \n",
      "            return 0;\n",
      "        \n"
     ]
    },
    {
     "cell_type": "markdown",
     "metadata": {},
     "source": [
      "### Gaussian Elimination\n",
      "\n",
      "We start with the linear set of equations"
     ]
    },
    {
     "cell_type": "markdown",
     "metadata": {},
     "source": [
      "$$\n",
      "{\\bf A}{\\bf x} = {\\bf w}.\n",
      "$$"
     ]
    },
    {
     "cell_type": "markdown",
     "metadata": {},
     "source": [
      "We assume also that the matrix ${\\bf A}$ is non-singular and that the\n",
      "matrix elements along the diagonal satisfy $a_{ii} \\ne 0$. Simple $4\\times 4 $ example"
     ]
    },
    {
     "cell_type": "markdown",
     "metadata": {},
     "source": [
      "$$\n",
      "\\left(\\begin{array}{cccc}\n",
      "                           a_{11}& a_{12} &a_{13}& a_{14}\\\\\n",
      "                           a_{21}& a_{22} &a_{23}& a_{24}\\\\\n",
      "                           a_{31}& a_{32} &a_{33}& a_{34}\\\\\n",
      "                           a_{41}& a_{42} &a_{43}& a_{44}\\\\\n",
      "                      \\end{array} \\right)\\left(\\begin{array}{c}\n",
      "                           x_1\\\\\n",
      "                           x_2\\\\\n",
      "                           x_3 \\\\\n",
      "                           x_4  \\\\\n",
      "                      \\end{array} \\right)\n",
      "  =\\left(\\begin{array}{c}\n",
      "                           w_1\\\\\n",
      "                           w_2\\\\\n",
      "                           w_3 \\\\\n",
      "                           w_4\\\\\n",
      "                      \\end{array} \\right).\n",
      "$$"
     ]
    },
    {
     "cell_type": "markdown",
     "metadata": {},
     "source": [
      "or"
     ]
    },
    {
     "cell_type": "markdown",
     "metadata": {},
     "source": [
      "$$\n",
      "\\begin{equation}\n",
      " a_{11}x_1 +a_{12}x_2 +a_{13}x_3 + a_{14}x_4=w_1 \\nonumber \n",
      "\\end{equation}\n",
      "$$"
     ]
    },
    {
     "cell_type": "markdown",
     "metadata": {},
     "source": [
      "$$\n",
      "\\begin{equation} \n",
      "a_{21}x_1 + a_{22}x_2 + a_{23}x_3 + a_{24}x_4=w_2 \\nonumber \n",
      "\\end{equation}\n",
      "$$"
     ]
    },
    {
     "cell_type": "markdown",
     "metadata": {},
     "source": [
      "$$\n",
      "\\begin{equation} \n",
      "a_{31}x_1 + a_{32}x_2 + a_{33}x_3 + a_{34}x_4=w_3 \\nonumber \n",
      "\\end{equation}\n",
      "$$"
     ]
    },
    {
     "cell_type": "markdown",
     "metadata": {},
     "source": [
      "$$\n",
      "\\begin{equation} \n",
      "a_{41}x_1 + a_{42}x_2 + a_{43}x_3 + a_{44}x_4=w_4. \\nonumber\n",
      "\\end{equation}\n",
      "$$"
     ]
    },
    {
     "cell_type": "markdown",
     "metadata": {},
     "source": [
      "### Gaussian Elimination\n",
      "\n",
      "The basic idea of Gaussian elimination is to use the first equation to eliminate the first unknown $x_1$\n",
      "from the remaining $n-1$ equations. Then we use the new second equation to eliminate the second unknown\n",
      "$x_2$ from the remaining $n-2$ equations. With $n-1$ such eliminations\n",
      "we obtain a so-called upper triangular set of equations of the form"
     ]
    },
    {
     "cell_type": "markdown",
     "metadata": {},
     "source": [
      "$$\n",
      "\\begin{equation}\\label{eq:gaussbacksub}\n",
      " b_{11}x_1 +b_{12}x_2 +b_{13}x_3 + b_{14}x_4=y_1 \\nonumber \n",
      "\\end{equation}\n",
      "$$"
     ]
    },
    {
     "cell_type": "markdown",
     "metadata": {},
     "source": [
      "$$\n",
      "\\begin{equation} \n",
      " b_{22}x_2 + b_{23}x_3 + b_{24}x_4=y_2 \\nonumber \n",
      "\\end{equation}\n",
      "$$"
     ]
    },
    {
     "cell_type": "markdown",
     "metadata": {},
     "source": [
      "$$\n",
      "\\begin{equation} \n",
      "b_{33}x_3 + b_{34}x_4=y_3 \\nonumber \n",
      "\\end{equation}\n",
      "$$"
     ]
    },
    {
     "cell_type": "markdown",
     "metadata": {},
     "source": [
      "$$\n",
      "\\begin{equation} \n",
      "b_{44}x_4=y_4. \\nonumber\n",
      "\\end{equation}\n",
      "$$"
     ]
    },
    {
     "cell_type": "markdown",
     "metadata": {},
     "source": [
      "We can solve this system of equations recursively starting from $x_n$ (in our case $x_4$) and proceed with\n",
      "what is called a backward substitution. This process can be expressed mathematically as"
     ]
    },
    {
     "cell_type": "markdown",
     "metadata": {},
     "source": [
      "$$\n",
      "\\begin{equation}\n",
      "   x_m = \\frac{1}{b_{mm}}\\left(y_m-\\sum_{k=m+1}^nb_{mk}x_k\\right)\\quad m=n-1,n-2,\\dots,1.\n",
      "\\end{equation}\n",
      "$$"
     ]
    },
    {
     "cell_type": "markdown",
     "metadata": {},
     "source": [
      "To arrive at such an upper triangular system of equations, we start by eliminating\n",
      "the unknown $x_1$ for $j=2,n$. We achieve this by multiplying the first equation by $a_{j1}/a_{11}$ and then subtract\n",
      "the result from the $j$th equation. We assume obviously that $a_{11}\\ne 0$ and that\n",
      "${\\bf A}$ is not singular.\n",
      "\n",
      "### Gaussian Elimination\n",
      "\n",
      "Our actual $4\\times 4$ example reads after the first operation"
     ]
    },
    {
     "cell_type": "markdown",
     "metadata": {},
     "source": [
      "$$\n",
      "\\left(\\begin{array}{cccc}\n",
      "                           a_{11}& a_{12} &a_{13}& a_{14}\\\\\n",
      "                           0& (a_{22}-\\frac{a_{21}a_{12}}{a_{11}}) &(a_{23}-\\frac{a_{21}a_{13}}{a_{11}}) & (a_{24}-\\frac{a_{21}a_{14}}{a_{11}})\\\\\n",
      "0& (a_{32}-\\frac{a_{31}a_{12}}{a_{11}})& (a_{33}-\\frac{a_{31}a_{13}}{a_{11}})& (a_{34}-\\frac{a_{31}a_{14}}{a_{11}})\\\\\n",
      "0&(a_{42}-\\frac{a_{41}a_{12}}{a_{11}}) &(a_{43}-\\frac{a_{41}a_{13}}{a_{11}}) & (a_{44}-\\frac{a_{41}a_{14}}{a_{11}}) \\\\\n",
      "                      \\end{array} \\right)\\left(\\begin{array}{c}\n",
      "                           x_1\\\\\n",
      "                           x_2\\\\\n",
      "                           x_3 \\\\\n",
      "                           x_4  \\\\\n",
      "                      \\end{array} \\right)\n",
      "  =\\left(\\begin{array}{c}\n",
      "                           y_1\\\\\n",
      "                           w_2^{(2)}\\\\\n",
      "                           w_3^{(2)} \\\\\n",
      "                           w_4^{(2)}\\\\\n",
      "                      \\end{array} \\right),\n",
      "$$"
     ]
    },
    {
     "cell_type": "markdown",
     "metadata": {},
     "source": [
      "or"
     ]
    },
    {
     "cell_type": "markdown",
     "metadata": {},
     "source": [
      "$$\n",
      "\\begin{equation}\n",
      " b_{11}x_1 +b_{12}x_2 +b_{13}x_3 + b_{14}x_4=y_1 \\nonumber \n",
      "\\end{equation}\n",
      "$$"
     ]
    },
    {
     "cell_type": "markdown",
     "metadata": {},
     "source": [
      "$$\n",
      "\\begin{equation} \n",
      " a^{(2)}_{22}x_2 + a^{(2)}_{23}x_3 + a^{(2)}_{24}x_4=w^{(2)}_2 \\nonumber \n",
      "\\end{equation}\n",
      "$$"
     ]
    },
    {
     "cell_type": "markdown",
     "metadata": {},
     "source": [
      "$$\n",
      "\\begin{equation} \n",
      " a^{(2)}_{32}x_2 + a^{(2)}_{33}x_3 + a^{(2)}_{34}x_4=w^{(2)}_3 \\nonumber \n",
      "\\end{equation}\n",
      "$$"
     ]
    },
    {
     "cell_type": "markdown",
     "metadata": {},
     "source": [
      "$$\n",
      "\\begin{equation} \n",
      " a^{(2)}_{42}x_2 + a^{(2)}_{43}x_3 + a^{(2)}_{44}x_4=w^{(2)}_4, \\nonumber \n",
      "\\end{equation}\n",
      "$$"
     ]
    },
    {
     "cell_type": "markdown",
     "metadata": {},
     "source": [
      "$$\n",
      "\\begin{equation} \n",
      "\\end{equation}\n",
      "$$"
     ]
    },
    {
     "cell_type": "markdown",
     "metadata": {},
     "source": [
      "### Gaussian Elimination\n",
      "\n",
      "The new coefficients are"
     ]
    },
    {
     "cell_type": "markdown",
     "metadata": {},
     "source": [
      "$$\n",
      "\\begin{equation}\n",
      "   b_{1k} = a_{1k}^{(1)} \\quad k=1,\\dots,n,\n",
      "\\end{equation}\n",
      "$$"
     ]
    },
    {
     "cell_type": "markdown",
     "metadata": {},
     "source": [
      "where each $a_{1k}^{(1)}$ is equal to the original $a_{1k}$ element. The other coefficients are"
     ]
    },
    {
     "cell_type": "markdown",
     "metadata": {},
     "source": [
      "$$\n",
      "\\begin{equation}\n",
      "a_{jk}^{(2)} = a_{jk}^{(1)}-\\frac{a_{j1}^{(1)}a_{1k}^{(1)}}{a_{11}^{(1)}} \\quad j,k=2,\\dots,n,\n",
      "\\end{equation}\n",
      "$$"
     ]
    },
    {
     "cell_type": "markdown",
     "metadata": {},
     "source": [
      "with a new right-hand side given by"
     ]
    },
    {
     "cell_type": "markdown",
     "metadata": {},
     "source": [
      "$$\n",
      "\\begin{equation}\n",
      "y_{1}=w_1^{(1)}, \\quad w_j^{(2)} =w_j^{(1)}-\\frac{a_{j1}^{(1)}w_1^{(1)}}{a_{11}^{(1)}} \\quad j=2,\\dots,n.\n",
      "\\end{equation}\n",
      "$$"
     ]
    },
    {
     "cell_type": "markdown",
     "metadata": {},
     "source": [
      "We have also set $w_1^{(1)}=w_1$, the original vector element.\n",
      "We see that the system of unknowns $x_1,\\dots,x_n$ is transformed into an $(n-1)\\times (n-1)$ problem.\n",
      "\n",
      "### Gaussian Elimination\n",
      "\n",
      "This step is called forward substitution.\n",
      "Proceeding with these substitutions, we obtain the\n",
      "general expressions for the new coefficients"
     ]
    },
    {
     "cell_type": "markdown",
     "metadata": {},
     "source": [
      "$$\n",
      "\\begin{equation}\n",
      "   a_{jk}^{(m+1)} = a_{jk}^{(m)}-\\frac{a_{jm}^{(m)}a_{mk}^{(m)}}{a_{mm}^{(m)}} \\quad j,k=m+1,\\dots,n,\n",
      "\\end{equation}\n",
      "$$"
     ]
    },
    {
     "cell_type": "markdown",
     "metadata": {},
     "source": [
      "with $m=1,\\dots,n-1$ and a\n",
      "right-hand side given by"
     ]
    },
    {
     "cell_type": "markdown",
     "metadata": {},
     "source": [
      "$$\n",
      "\\begin{equation}\n",
      "   w_j^{(m+1)} =w_j^{(m)}-\\frac{a_{jm}^{(m)}w_m^{(m)}}{a_{mm}^{(m)}}\\quad j=m+1,\\dots,n.\n",
      "\\end{equation}\n",
      "$$"
     ]
    },
    {
     "cell_type": "markdown",
     "metadata": {},
     "source": [
      "This set of $n-1$ elimations leads us to an equations which is solved by back substitution.\n",
      "If the arithmetics is exact and the matrix ${\\bf A}$ is not singular, then the computed answer will be exact.\n",
      "\n",
      "Even though the matrix elements along the diagonal are not zero,\n",
      "numerically small numbers may appear and subsequent divisions may lead to large numbers, which, if added\n",
      "to a small number may yield losses of precision. Suppose for example that our first division in $(a_{22}-a_{21}a_{12}/a_{11})$\n",
      "results in $-10^{-7}$ and that $a_{22}$ is one.\n",
      "one. We are then\n",
      "adding $10^7+1$. With single precision this results in $10^7$.\n",
      "\n",
      "### Gaussian Elimination and Tridiagonal matrices, project 1\n",
      "\n",
      "Suppose we want to solve the following boundary value equation"
     ]
    },
    {
     "cell_type": "markdown",
     "metadata": {},
     "source": [
      "$$\n",
      "-\\frac{d^2u(x)}{dx^2} = f(x,u(x)),\n",
      "$$"
     ]
    },
    {
     "cell_type": "markdown",
     "metadata": {},
     "source": [
      "with $x\\in (a,b)$ and with boundary conditions $u(a)=u(b) = 0$.\n",
      "We assume that $f$ is a continuous function in the domain $x\\in (a,b)$.\n",
      "Since, except the few cases where it is possible to find analytic solutions, we\n",
      "will seek after approximate solutions, we choose to represent the approximation to the second derivative\n",
      "from the previous chapter"
     ]
    },
    {
     "cell_type": "markdown",
     "metadata": {},
     "source": [
      "$$\n",
      "f''=\\frac{f_h -2f_0 +f_{-h}}{h^2} +O(h^2).\n",
      "$$"
     ]
    },
    {
     "cell_type": "markdown",
     "metadata": {},
     "source": [
      "We subdivide our interval $x\\in (a,b)$ into $n$ subintervals by setting $x_i = ih$, with $i=0,1,\\dots,n+1$.\n",
      "The step size is then given by $h=(b-a)/(n+1)$ with $n\\in {\\mathbb{N}}$.\n",
      "For the internal grid points $i=1,2,\\dots n$ we replace the differential operator with the above formula\n",
      "resulting in"
     ]
    },
    {
     "cell_type": "markdown",
     "metadata": {},
     "source": [
      "$$\n",
      "u''(x_i) \\approx  \\frac{u(x_i+h) -2u(x_i) +u(x_i-h)}{h^2},\n",
      "$$"
     ]
    },
    {
     "cell_type": "markdown",
     "metadata": {},
     "source": [
      "which we rewrite as"
     ]
    },
    {
     "cell_type": "markdown",
     "metadata": {},
     "source": [
      "$$\n",
      "u^{''}_i \\approx  \\frac{u_{i+1} -2u_i +u_{i-i}}{h^2}.\n",
      "$$"
     ]
    },
    {
     "cell_type": "markdown",
     "metadata": {},
     "source": [
      "### Gaussian Elimination and Tridiagonal matrices, project 1\n",
      "\n",
      "We can rewrite our original differential equation in terms of a discretized equation with approximations to the\n",
      "derivatives as"
     ]
    },
    {
     "cell_type": "markdown",
     "metadata": {},
     "source": [
      "$$\n",
      "-\\frac{u_{i+1} -2u_i +u_{i-i}}{h^2}=f(x_i,u(x_i)),\n",
      "$$"
     ]
    },
    {
     "cell_type": "markdown",
     "metadata": {},
     "source": [
      "with $i=1,2,\\dots, n$. We need to add to this system the two boundary conditions $u(a) =u_0$ and $u(b) = u_{n+1}$.\n",
      "If we define a matrix"
     ]
    },
    {
     "cell_type": "markdown",
     "metadata": {},
     "source": [
      "$$\n",
      "{\\bf A} = \\frac{1}{h^2}\\left(\\begin{array}{cccccc}\n",
      "                          2 & -1 &  &   &  & \\\\\n",
      "                          -1 & 2 & -1 & & & \\\\\n",
      "                           & -1 & 2 & -1 & &  \\\\\n",
      "                           & \\dots   & \\dots &\\dots   &\\dots & \\dots \\\\\n",
      "                           &   &  &-1  &2& -1 \\\\\n",
      "                           &    &  &   &-1 & 2 \\\\\n",
      "                      \\end{array} \\right)\n",
      "$$"
     ]
    },
    {
     "cell_type": "markdown",
     "metadata": {},
     "source": [
      "and the corresponding vectors ${\\bf u} = (u_1, u_2, \\dots,u_n)^T$ and\n",
      "${\\bf f}({\\bf u}) = f(x_1,x_2,\\dots, x_n,u_1, u_2, \\dots,u_n)^T$  we can rewrite the differential equation\n",
      "including the boundary conditions as a system of linear equations with  a large number of unknowns"
     ]
    },
    {
     "cell_type": "markdown",
     "metadata": {},
     "source": [
      "$$\n",
      "{\\bf A}{\\bf u} = {\\bf f}({\\bf u}).\n",
      "$$"
     ]
    },
    {
     "cell_type": "markdown",
     "metadata": {},
     "source": [
      "### Gaussian Elimination and Tridiagonal matrices, project 1\n",
      "\n",
      "We start with the linear set of equations"
     ]
    },
    {
     "cell_type": "markdown",
     "metadata": {},
     "source": [
      "$$\n",
      "{\\bf A}{\\bf u} = {\\bf f},\n",
      "$$"
     ]
    },
    {
     "cell_type": "markdown",
     "metadata": {},
     "source": [
      "where ${\\bf A}$ is a tridiagonal matrix which we rewrite as"
     ]
    },
    {
     "cell_type": "markdown",
     "metadata": {},
     "source": [
      "$$\n",
      "{\\bf A} = \\left(\\begin{array}{cccccc}\n",
      "                           b_1& c_1 & 0 &\\dots   & \\dots &\\dots \\\\\n",
      "                           a_2 & b_2 & c_2 &\\dots &\\dots &\\dots \\\\\n",
      "                           & a_3 & b_3 & c_3 & \\dots & \\dots \\\\\n",
      "                           & \\dots   & \\dots &\\dots   &\\dots & \\dots \\\\\n",
      "                           &   &  &a_{n-2}  &b_{n-1}& c_{n-1} \\\\\n",
      "                           &    &  &   &a_n & b_n \\\\\n",
      "                      \\end{array} \\right)\n",
      "$$"
     ]
    },
    {
     "cell_type": "markdown",
     "metadata": {},
     "source": [
      "where $a,b,c$ are one-dimensional arrays of length $1:n$.\n",
      "In project 1 the arrays $a$ and $c$ are equal, namely $a_i=c_i=-1/h^2$.\n",
      "The matrix is  also positive definite.\n",
      "\n",
      "### Gaussian Elimination and Tridiagonal matrices, project 1\n",
      "\n",
      "We can rewrite as"
     ]
    },
    {
     "cell_type": "markdown",
     "metadata": {},
     "source": [
      "$$\n",
      "{\\bf A} = \\left(\\begin{array}{cccccc}\n",
      "                           b_1& c_1 & 0 &\\dots   & \\dots &\\dots \\\\\n",
      "                           a_2 & b_2 & c_2 &\\dots &\\dots &\\dots \\\\\n",
      "                           & a_3 & b_3 & c_3 & \\dots & \\dots \\\\\n",
      "                           & \\dots   & \\dots &\\dots   &\\dots & \\dots \\\\\n",
      "                           &   &  &a_{n-2}  &b_{n-1}& c_{n-1} \\\\\n",
      "                           &    &  &   &a_n & b_n \\\\\n",
      "                      \\end{array} \\right)\\left(\\begin{array}{c}\n",
      "                           u_1\\\\\n",
      "                           u_2\\\\\n",
      "                           \\dots \\\\\n",
      "                          \\dots  \\\\\n",
      "                          \\dots \\\\\n",
      "                           u_n\\\\\n",
      "                      \\end{array} \\right)\n",
      "  =\\left(\\begin{array}{c}\n",
      "                           f_1\\\\\n",
      "                           f_2\\\\\n",
      "                           \\dots \\\\\n",
      "                           \\dots \\\\\n",
      "                          \\dots \\\\\n",
      "                           f_n\\\\\n",
      "                      \\end{array} \\right).\n",
      "$$"
     ]
    },
    {
     "cell_type": "markdown",
     "metadata": {},
     "source": [
      "### Gaussian Elimination and Tridiagonal matrices, project 1\n",
      "\n",
      "A tridiagonal matrix is a special form of banded matrix where all the elements are zero except for\n",
      "those on and immediately above and below the leading diagonal.\n",
      "The above tridiagonal system   can be written as"
     ]
    },
    {
     "cell_type": "markdown",
     "metadata": {},
     "source": [
      "$$\n",
      "a_iu_{i-1}+b_iu_i+c_iu_{i+1} = f_i,\n",
      "$$"
     ]
    },
    {
     "cell_type": "markdown",
     "metadata": {},
     "source": [
      "for $i=1,2,\\dots,n$. We see that $u_{-1}$ and $u_{n+1}$ are not required and we can set $a_1=c_n=0$.\n",
      "In many applications the matrix is symmetric and we have $a_i=c_i$.\n",
      "The algorithm for solving this set of equations is rather simple and requires two steps only,\n",
      "a forward substitution and a backward substitution. These steps are also\n",
      "common to the algorithms based on\n",
      "Gaussian elimination that\n",
      "we discussed previously. However, due to its simplicity, the number of floating point operations\n",
      "is in this\n",
      "case proportional with $O(n)$ while Gaussian elimination requires $2n^3/3+O(n^2)$ floating point operations.\n",
      "\n",
      "### Gaussian Elimination and Tridiagonal matrices, project 1\n",
      "\n",
      "In case your system of equations leads to a tridiagonal matrix, it is clearly an overkill to employ\n",
      "Gaussian elimination or the standard LU decomposition.\n",
      "You will encounter several applications involving tridiagonal matrices in our discussion of\n",
      "partial differential equations in chapter 10.\n",
      "\n",
      "Our algorithm starts with forward substitution with a loop over of the elements $i$ and can be expressed via the\n",
      "following piece of code"
     ]
    },
    {
     "cell_type": "markdown",
     "metadata": {},
     "source": [
      "           btemp = b[1];\n",
      "           u[1] = f[1]/btemp;\n",
      "           for(i=2 ; i <= n ; i++) {\n",
      "              temp[i] = c[i-1]/btemp;\n",
      "              btemp = b[i]-a[i]*temp[i];\n",
      "              u[i] = (f[i] - a[i]*u[i-1])/btemp;\n",
      "        \n"
     ]
    },
    {
     "cell_type": "markdown",
     "metadata": {},
     "source": [
      "### Gaussian Elimination and Tridiagonal matrices, project 1\n",
      "\n",
      "Note that you should avoid cases with $b_1=0$. If that is the case, you should rewrite the equations\n",
      "as a set of order $n-1$ with $u_2$ eliminated.\n",
      "Finally we perform the backsubstitution leading to the following code"
     ]
    },
    {
     "cell_type": "markdown",
     "metadata": {},
     "source": [
      "           for(i=n-1 ; i >= 1 ; i--) {\n",
      "              u[i] -= temp[i+1]*u[i+1];\n",
      "        \n"
     ]
    },
    {
     "cell_type": "markdown",
     "metadata": {},
     "source": [
      "### Gaussian Elimination and Tridiagonal matrices, project 1\n",
      "\n",
      "Note that our sums start with $i=1$ and that one  should avoid cases with $b_1=0$. If that is the case, you should rewrite the equations\n",
      "as a set of order $n-1$ with $u_2$ eliminated. However, a tridiagonal matrix problem is not a guarantee that we\n",
      "can find a solution. The matrix ${\\bf A}$ which rephrases a second derivative in a discretized form"
     ]
    },
    {
     "cell_type": "markdown",
     "metadata": {},
     "source": [
      "$$\n",
      "{\\bf A} = \\left(\\begin{array}{cccccc}\n",
      "                          2 & -1 & 0 & 0  &0  & 0\\\\\n",
      "                          -1 & 2 & -1 &0 &0 &0 \\\\\n",
      "                          0 & -1 & 2 & -1 & 0& 0 \\\\\n",
      "                          0 & \\dots   & \\dots & \\dots   &\\dots & \\dots \\\\\n",
      "                          0 &0   &0  &-1  &2& -1 \\\\\n",
      "                          0 &  0  &0  &0   &-1 & 2 \\\\\n",
      "                      \\end{array} \\right),\n",
      "$$"
     ]
    },
    {
     "cell_type": "markdown",
     "metadata": {},
     "source": [
      "fulfills the condition of a weak dominance of the diagonal, with\n",
      "$|b_1| > |c_1|$, $|b_n| > |a_n|$ and  $|b_k| \\ge |a_k|+|c_k|$ for $k=2,3,\\dots,n-1$.\n",
      "This is a relevant but not sufficient condition to guarantee that the matrix ${\\bf A}$ yields a solution to a linear\n",
      "equation problem. The matrix needs also to be irreducible. A tridiagonal irreducible matrix means that all the elements $a_i$ and\n",
      "$c_i$ are non-zero. If these two conditions are present, then ${\\bf A}$ is nonsingular and has a unique LU decomposition.\n",
      "\n",
      "### Project 1, hints\n",
      "\n",
      "When setting up the algo it is useful to note that the different\n",
      "operations on the matrix (here as a $4\\times 4$ case  with diagonals\n",
      "$d_i$ and off-diagonals $e_i$"
     ]
    },
    {
     "cell_type": "markdown",
     "metadata": {},
     "source": [
      "$$\n",
      "\\left(\\begin{array}{cccc}\n",
      "                          d_1 & e_1 & 0 & 0 \\\\\n",
      "                          e_1 & d_2 & e_2 & 0 \\\\\n",
      "                          0 & e_2 & d_3 & e_3 \\\\\n",
      "                          0 & 0 & e_3 & d_4\n",
      "                      \\end{array} \\right)\\rightarrow\n",
      "   \\left(\\begin{array}{cccc}\n",
      "                          d_1 & e_1 & 0 & 0 \\\\\n",
      "                          0 & \\tilde{d}_2 & e_2 & 0 \\\\\n",
      "                          0 & e_2 & d_3 & e_3 \\\\\n",
      "                          0 & 0 & e_3 & d_4\n",
      "                      \\end{array} \\right)\\rightarrow\n",
      "   \\left(\\begin{array}{cccc}\n",
      "                          d_1 & e_1 & 0 & 0 \\\\\n",
      "                          0 & \\tilde{d}_2 & e_2 & 0 \\\\\n",
      "                          0 & 0 & \\tilde{d}_3 & e_3 \\\\\n",
      "                          0 & 0 & e_3 & d_4\n",
      "                      \\end{array} \\right)\n",
      "$$"
     ]
    },
    {
     "cell_type": "markdown",
     "metadata": {},
     "source": [
      "and finally"
     ]
    },
    {
     "cell_type": "markdown",
     "metadata": {},
     "source": [
      "$$\n",
      "\\left(\\begin{array}{cccc}\n",
      "                          d_1 & e_1 & 0 & 0 \\\\\n",
      "                          0 & \\tilde{d}_2 & e_2 & 0 \\\\\n",
      "                          0 & 0 & \\tilde{d}_3 & e_3 \\\\\n",
      "                          0 & 0 & 0 & \\tilde{d}_4\n",
      "                      \\end{array} \\right)\n",
      "$$"
     ]
    },
    {
     "cell_type": "markdown",
     "metadata": {},
     "source": [
      "### Project 1, hints\n",
      "\n",
      "We notice the sub-blocks which get repeated"
     ]
    },
    {
     "cell_type": "markdown",
     "metadata": {},
     "source": [
      "$$\n",
      "\\left(\\begin{array}{cccc}\n",
      "                          d_1 & e_1 & 0 & 0 \\\\\n",
      "                          0 & \\tilde{d}_2 & e_2 & 0 \\\\\n",
      "                          0 & 0 & \\tilde{d}_3 & e_3 \\\\\n",
      "                          0 & 0 & 0 & \\tilde{d}_4\n",
      "                      \\end{array} \\right)\n",
      "$$"
     ]
    },
    {
     "cell_type": "markdown",
     "metadata": {},
     "source": [
      "The matrices we often end up with in rewriting for for example partial differential equations,\n",
      "have the feature that all leading principal submatrices are non-singular. If the matrix\n",
      "is symmetric as well it can be rewritten as $A=LDL^T$ with $D$ the diagonal and we have the\n",
      "following relations\n",
      "$a_{11} = d_1$, $a_{k,k-1}=e_{k-1}d_{k-1}$ for $k=2,\\dots,n$ and finally"
     ]
    },
    {
     "cell_type": "markdown",
     "metadata": {},
     "source": [
      "$$\n",
      "a_{kk} = d_k+e_{k-1}^2d_{k-1}=d_k+e_{k-1}a_{k,k-1}\n",
      "$$"
     ]
    },
    {
     "cell_type": "markdown",
     "metadata": {},
     "source": [
      "for $k=2,\\dots,n$.\n",
      "\n",
      "### Linear Algebra Methods\n",
      "\n",
      "  * Gaussian elimination, $O(2/3n^3)$ flops, general matrix\n",
      "\n",
      "  * LU decomposition, upper triangular and lower tridiagonal matrices, $O(2/3n^3)$ flops, general matrix. Get easily the inverse, determinant and can solve linear equations with back-substitution only, $O(n^2)$ flops\n",
      "\n",
      "  * Cholesky decomposition $A=LL^T$. Real symmetric or hermitian positive definite matrix, $O(1/3n^3)$ flops.\n",
      "\n",
      "  * Tridiagonal linear systems, important for differential equations. Normally positive definite and non-singular. $O(8n)$ flops for symmetric. $A=LDL^T$ with $D$ the diagonal. Special case of banded matrices.\n",
      "\n",
      "  * Singular value decomposition\n",
      "\n",
      "  * the QR method will be discussed in chapter 7 in connection with eigenvalue systems. $O(4/3n^3)$ flops. !split\n",
      "\n",
      "### LU Decomposition\n",
      "\n",
      "The LU decomposition method means that we can rewrite\n",
      "this matrix as the product of two matrices ${\\bf L}$ and ${\\bf U}$\n",
      "where"
     ]
    },
    {
     "cell_type": "markdown",
     "metadata": {},
     "source": [
      "$$\n",
      "\\label{eq3}\n",
      "   \\left(\\begin{array}{cccc}\n",
      "                          a_{11} & a_{12} & a_{13} & a_{14} \\\\\n",
      "                          a_{21} & a_{22} & a_{23} & a_{24} \\\\\n",
      "                          a_{31} & a_{32} & a_{33} & a_{34} \\\\\n",
      "                          a_{41} & a_{42} & a_{43} & a_{44}\n",
      "                      \\end{array} \\right)\n",
      "                      = \\left( \\begin{array}{cccc}\n",
      "                              1  & 0      & 0      & 0 \\\\\n",
      "                          l_{21} & 1      & 0      & 0 \\\\\n",
      "                          l_{31} & l_{32} & 1      & 0 \\\\\n",
      "                          l_{41} & l_{42} & l_{43} & 1\n",
      "                      \\end{array} \\right)\n",
      "                        \\left( \\begin{array}{cccc}\n",
      "                          u_{11} & u_{12} & u_{13} & u_{14} \\\\\n",
      "                               0 & u_{22} & u_{23} & u_{24} \\\\\n",
      "                               0 & 0      & u_{33} & u_{34} \\\\\n",
      "                               0 & 0      &  0     & u_{44}\n",
      "             \\end{array} \\right).\n",
      "$$"
     ]
    },
    {
     "cell_type": "markdown",
     "metadata": {},
     "source": [
      "LU decomposition forms the backbone of other algorithms in linear algebra, such as the\n",
      "solution of linear equations given by"
     ]
    },
    {
     "cell_type": "markdown",
     "metadata": {},
     "source": [
      "$$\n",
      "\\begin{equation}\n",
      " a_{11}x_1 +a_{12}x_2 +a_{13}x_3 + a_{14}x_4=w_1 \\nonumber \n",
      "\\end{equation}\n",
      "$$"
     ]
    },
    {
     "cell_type": "markdown",
     "metadata": {},
     "source": [
      "$$\n",
      "\\begin{equation} \n",
      "a_{21}x_1 + a_{22}x_2 + a_{23}x_3 + a_{24}x_4=w_2 \\nonumber \n",
      "\\end{equation}\n",
      "$$"
     ]
    },
    {
     "cell_type": "markdown",
     "metadata": {},
     "source": [
      "$$\n",
      "\\begin{equation} \n",
      "a_{31}x_1 + a_{32}x_2 + a_{33}x_3 + a_{34}x_4=w_3 \\nonumber \n",
      "\\end{equation}\n",
      "$$"
     ]
    },
    {
     "cell_type": "markdown",
     "metadata": {},
     "source": [
      "$$\n",
      "\\begin{equation} \n",
      "a_{41}x_1 + a_{42}x_2 + a_{43}x_3 + a_{44}x_4=w_4.  \\nonumber\n",
      "\\end{equation}\n",
      "$$"
     ]
    },
    {
     "cell_type": "markdown",
     "metadata": {},
     "source": [
      "The above set of equations is conveniently solved by using LU decomposition as an intermediate step.\n",
      "\n",
      "The matrix ${\\bf A}\\in \\mathbb{R}^{n\\times n}$ has an LU factorization if the determinant\n",
      "is different from zero. If the LU factorization exists and ${\\bf A}$ is non-singular, then the LU factorization\n",
      "is unique and the determinant is given by"
     ]
    },
    {
     "cell_type": "markdown",
     "metadata": {},
     "source": [
      "$$\n",
      "det\\{{\\bf A}\\}=det\\{{\\bf LU}\\}= det\\{{\\bf L}\\}det\\{{\\bf U}\\}=u_{11}u_{22}\\dots u_{nn}.\n",
      "$$"
     ]
    },
    {
     "cell_type": "markdown",
     "metadata": {},
     "source": [
      "### LU Decomposition, why?\n",
      "\n",
      "There are at least three main advantages with LU decomposition compared with standard Gaussian elimination:\n",
      "\n",
      "  * It is straightforward to compute the determinant of a matrix\n",
      "\n",
      "  * If we have to solve sets of linear equations with the same matrix but with different vectors ${\\bf y}$, the number of FLOPS is of the order $n^3$.\n",
      "\n",
      "  * The invers is such an operation !split\n",
      "\n",
      "### LU Decomposition, linear equations\n",
      "\n",
      "With the LU decomposition it is rather\n",
      "simple to solve a system of linear equations"
     ]
    },
    {
     "cell_type": "markdown",
     "metadata": {},
     "source": [
      "$$\n",
      "\\begin{equation}\n",
      " a_{11}x_1 +a_{12}x_2 +a_{13}x_3 + a_{14}x_4=w_1 \\nonumber \n",
      "\\end{equation}\n",
      "$$"
     ]
    },
    {
     "cell_type": "markdown",
     "metadata": {},
     "source": [
      "$$\n",
      "\\begin{equation} \n",
      "a_{21}x_1 + a_{22}x_2 + a_{23}x_3 + a_{24}x_4=w_2 \\nonumber \n",
      "\\end{equation}\n",
      "$$"
     ]
    },
    {
     "cell_type": "markdown",
     "metadata": {},
     "source": [
      "$$\n",
      "\\begin{equation} \n",
      "a_{31}x_1 + a_{32}x_2 + a_{33}x_3 + a_{34}x_4=w_3 \\nonumber \n",
      "\\end{equation}\n",
      "$$"
     ]
    },
    {
     "cell_type": "markdown",
     "metadata": {},
     "source": [
      "$$\n",
      "\\begin{equation} \n",
      "a_{41}x_1 + a_{42}x_2 + a_{43}x_3 + a_{44}x_4=w_4. \\nonumber\n",
      "\\end{equation}\n",
      "$$"
     ]
    },
    {
     "cell_type": "markdown",
     "metadata": {},
     "source": [
      "This can be written in matrix form as"
     ]
    },
    {
     "cell_type": "markdown",
     "metadata": {},
     "source": [
      "$$\n",
      "{\\bf Ax}={\\bf w}.\n",
      "$$"
     ]
    },
    {
     "cell_type": "markdown",
     "metadata": {},
     "source": [
      "where ${\\bf A}$ and ${\\bf w}$ are known and we have to solve for\n",
      "${\\bf x}$. Using the LU dcomposition we write"
     ]
    },
    {
     "cell_type": "markdown",
     "metadata": {},
     "source": [
      "$$\n",
      "{\\bf A} {\\bf x} \\equiv {\\bf L} {\\bf U} {\\bf x} ={\\bf w}.\n",
      "$$"
     ]
    },
    {
     "cell_type": "markdown",
     "metadata": {},
     "source": [
      "### LU Decomposition, linear equations\n",
      "\n",
      "The previous equation can be calculated in two steps"
     ]
    },
    {
     "cell_type": "markdown",
     "metadata": {},
     "source": [
      "$$\n",
      "{\\bf L} {\\bf y} = {\\bf w};\\qquad {\\bf Ux}={\\bf y}.\n",
      "$$"
     ]
    },
    {
     "cell_type": "markdown",
     "metadata": {},
     "source": [
      "To show that this is correct we use to the LU decomposition\n",
      "to rewrite our system of linear equations as"
     ]
    },
    {
     "cell_type": "markdown",
     "metadata": {},
     "source": [
      "$$\n",
      "{\\bf LUx}={\\bf w},\n",
      "$$"
     ]
    },
    {
     "cell_type": "markdown",
     "metadata": {},
     "source": [
      "and since the determinat of ${\\bf L}$ is equal to 1 (by construction\n",
      "since the diagonals of ${\\bf L}$ equal 1) we can use the inverse of\n",
      "${\\bf L}$ to obtain"
     ]
    },
    {
     "cell_type": "markdown",
     "metadata": {},
     "source": [
      "$$\n",
      "{\\bf Ux}={\\bf L^{-1}w}={\\bf y},\n",
      "$$"
     ]
    },
    {
     "cell_type": "markdown",
     "metadata": {},
     "source": [
      "which yields the intermediate step"
     ]
    },
    {
     "cell_type": "markdown",
     "metadata": {},
     "source": [
      "$$\n",
      "{\\bf L^{-1}w}={\\bf y}\n",
      "$$"
     ]
    },
    {
     "cell_type": "markdown",
     "metadata": {},
     "source": [
      "and as soon as we have ${\\bf y}$ we can obtain ${\\bf x}$\n",
      "through ${\\bf Ux}={\\bf y}$.\n",
      "\n",
      "### LU Decomposition, why?\n",
      "\n",
      "For our four-dimentional example this takes the form"
     ]
    },
    {
     "cell_type": "markdown",
     "metadata": {},
     "source": [
      "$$\n",
      "\\begin{equation}\n",
      " y_1=w_1 \\nonumber\n",
      "\\end{equation}\n",
      "$$"
     ]
    },
    {
     "cell_type": "markdown",
     "metadata": {},
     "source": [
      "$$\n",
      "\\begin{equation} \n",
      "l_{21}y_1 + y_2=w_2\\nonumber \n",
      "\\end{equation}\n",
      "$$"
     ]
    },
    {
     "cell_type": "markdown",
     "metadata": {},
     "source": [
      "$$\n",
      "\\begin{equation} \n",
      "l_{31}y_1 + l_{32}y_2 + y_3 =w_3\\nonumber \n",
      "\\end{equation}\n",
      "$$"
     ]
    },
    {
     "cell_type": "markdown",
     "metadata": {},
     "source": [
      "$$\n",
      "\\begin{equation} \n",
      "l_{41}y_1 + l_{42}y_2 + l_{43}y_3 + y_4=w_4. \\nonumber\n",
      "\\end{equation}\n",
      "$$"
     ]
    },
    {
     "cell_type": "markdown",
     "metadata": {},
     "source": [
      "and"
     ]
    },
    {
     "cell_type": "markdown",
     "metadata": {},
     "source": [
      "$$\n",
      "\\begin{equation}\n",
      " u_{11}x_1 +u_{12}x_2 +u_{13}x_3 + u_{14}x_4=y_1 \\nonumber\n",
      "\\end{equation}\n",
      "$$"
     ]
    },
    {
     "cell_type": "markdown",
     "metadata": {},
     "source": [
      "$$\n",
      "\\begin{equation} \n",
      "u_{22}x_2 + u_{23}x_3 + u_{24}x_4=y_2\\nonumber \n",
      "\\end{equation}\n",
      "$$"
     ]
    },
    {
     "cell_type": "markdown",
     "metadata": {},
     "source": [
      "$$\n",
      "\\begin{equation} \n",
      "u_{33}x_3 + u_{34}x_4=y_3\\nonumber \n",
      "\\end{equation}\n",
      "$$"
     ]
    },
    {
     "cell_type": "markdown",
     "metadata": {},
     "source": [
      "$$\n",
      "\\begin{equation} \n",
      "u_{44}x_4=y_4  \\nonumber\n",
      "\\end{equation}\n",
      "$$"
     ]
    },
    {
     "cell_type": "markdown",
     "metadata": {},
     "source": [
      "This example shows the basis for the algorithm\n",
      "needed to solve the set of $n$ linear equations.\n",
      "\n",
      "### LU Decomposition, linear equations\n",
      "\n",
      "The algorithm goes as follows\n",
      "\n",
      "  * Set up the matrix $\\bf A$ and the vector $\\bf w$ with their correct dimensions. This determines the dimensionality of the unknown vector $\\bf x$.\n",
      "\n",
      "  * Then LU decompose the matrix $\\bf A$ through a call to the function `ludcmp(double a, int n, int indx, double &d)`. This functions returns the LU decomposed matrix $\\bf A$, its determinant and the vector indx which keeps track of the number of interchanges of rows. If the determinant is zero, the solution is malconditioned.\n",
      "\n",
      "  * Thereafter you call the function  `lubksb(double a, int n, int indx, double w)` which uses the LU decomposed matrix $\\bf A$ and the vector $\\bf w$ and returns $\\bf x$ in the same place as $\\bf w$. Upon exit the original content in $\\bf w$ is destroyed. If you wish to keep this information, you should make a backup of it in your calling function.\n",
      "\n",
      "### LU Decomposition, the inverse of a matrix\n",
      "\n",
      "If the inverse exists then"
     ]
    },
    {
     "cell_type": "markdown",
     "metadata": {},
     "source": [
      "$$\n",
      "{\\bf A}^{-1}{\\bf A}={\\bf I},\n",
      "$$"
     ]
    },
    {
     "cell_type": "markdown",
     "metadata": {},
     "source": [
      "the identity matrix. With an LU decomposed matrix we can rewrite the last equation as"
     ]
    },
    {
     "cell_type": "markdown",
     "metadata": {},
     "source": [
      "$$\n",
      "{\\bf LU}{\\bf A}^{-1}={\\bf I}.\n",
      "$$"
     ]
    },
    {
     "cell_type": "markdown",
     "metadata": {},
     "source": [
      "If we assume that the first column (that is column 1) of the inverse matrix\n",
      "can be written as a vector with unknown entries"
     ]
    },
    {
     "cell_type": "markdown",
     "metadata": {},
     "source": [
      "$$\n",
      "{\\bf A}_1^{-1}= \\left( \\begin{array}{c}\n",
      "\n",
      "                              a_{11}^{-1} \\\\\n",
      "                              a_{21}^{-1} \\\\\n",
      "                              \\dots \\\\\n",
      "                              a_{n1}^{-1} \\\\\n",
      "                    \\end{array} \\right),\n",
      "$$"
     ]
    },
    {
     "cell_type": "markdown",
     "metadata": {},
     "source": [
      "then we have a linear set of equations"
     ]
    },
    {
     "cell_type": "markdown",
     "metadata": {},
     "source": [
      "$$\n",
      "{\\bf LU}\\left( \\begin{array}{c}\n",
      "\n",
      "                              a_{11}^{-1} \\\\\n",
      "                              a_{21}^{-1} \\\\\n",
      "                              \\dots \\\\\n",
      "                              a_{n1}^{-1} \\\\\n",
      "                    \\end{array} \\right) =\\left( \\begin{array}{c}\n",
      "                               1 \\\\\n",
      "                              0 \\\\\n",
      "                              \\dots \\\\\n",
      "                              0 \\\\\n",
      "                    \\end{array} \\right).\n",
      "$$"
     ]
    },
    {
     "cell_type": "markdown",
     "metadata": {},
     "source": [
      "### LU Decomposition, the inverse\n",
      "\n",
      "In a similar way we can compute the unknow entries of the second column,"
     ]
    },
    {
     "cell_type": "markdown",
     "metadata": {},
     "source": [
      "$$\n",
      "{\\bf LU}\\left( \\begin{array}{c}\n",
      "\n",
      "                              a_{12}^{-1} \\\\\n",
      "                              a_{22}^{-1} \\\\\n",
      "                              \\dots \\\\\n",
      "                              a_{n2}^{-1} \\\\\n",
      "                    \\end{array} \\right) =\\left( \\begin{array}{c}\n",
      "                                0 \\\\\n",
      "                              1 \\\\\n",
      "                              \\dots \\\\\n",
      "                              0 \\\\\n",
      "                    \\end{array} \\right),\n",
      "$$"
     ]
    },
    {
     "cell_type": "markdown",
     "metadata": {},
     "source": [
      "and continue till we have solved all $n$ sets of linear equations.\n",
      "\n",
      "### How to use the Library functions\n",
      "\n",
      "Standard C/C++: fetch the files `lib.cpp` and `lib.h`. You can make a directory where you store\n",
      "these files, and eventually its compiled version lib.o. The example here is program1.cpp from\n",
      "chapter 6 and performs the matrix inversion."
     ]
    },
    {
     "cell_type": "markdown",
     "metadata": {},
     "source": [
      "        //  Simple matrix inversion example\n",
      "        #include <iostream>\n",
      "        #include <new>\n",
      "        #include <cstdio>\n",
      "        #include <cstdlib>\n",
      "        #include <cmath>\n",
      "        #include <cstring>\n",
      "        #include \"lib.h\"\n",
      "        \n",
      "        using namespace std;\n",
      "        \n",
      "        /* function declarations */\n",
      "        \n",
      "        void inverse(double **, int);\n",
      "        \n"
     ]
    },
    {
     "cell_type": "markdown",
     "metadata": {},
     "source": [
      "### How to use the Library functions"
     ]
    },
    {
     "cell_type": "markdown",
     "metadata": {},
     "source": [
      "        void inverse(double **a, int n)\n",
      "        {\n",
      "          int          i,j, *indx;\n",
      "          double       d, *col, **y;\n",
      "          // allocate space in memory\n",
      "          indx = new int[n];\n",
      "          col  = new double[n];\n",
      "          y    = (double **) matrix(n, n, sizeof(double));\n",
      "          ludcmp(a, n, indx, &d);   // LU decompose  a[][]\n",
      "          printf(\"\\n\\nLU form of matrix of a[][]:\\n\");\n",
      "          for(i = 0; i < n; i++) {\n",
      "            printf(\"\\n\");\n",
      "            for(j = 0; j < n; j++) {\n",
      "              printf(\" a[%2d][%2d] = %12.4E\",i, j, a[i][j]);\n",
      "        \n"
     ]
    },
    {
     "cell_type": "markdown",
     "metadata": {},
     "source": [
      "### How to use the Library functions"
     ]
    },
    {
     "cell_type": "markdown",
     "metadata": {},
     "source": [
      "          // find inverse of a[][] by columns\n",
      "          for(j = 0; j < n; j++) {\n",
      "            // initialize right-side of linear equations\n",
      "            for(i = 0; i < n; i++) col[i] = 0.0;\n",
      "            col[j] = 1.0;\n",
      "            lubksb(a, n, indx, col);\n",
      "            // save result in y[][]\n",
      "            for(i = 0; i < n; i++) y[i][j] = col[i];\n",
      "          }   //j-loop over columns\n",
      "          // return the inverse matrix in a[][]\n",
      "          for(i = 0; i < n; i++) {\n",
      "            for(j = 0; j < n; j++) a[i][j] = y[i][j];\n",
      "        \n",
      "          free_matrix((void **) y);     // release local memory\n",
      "          delete [] col;\n",
      "          delete []indx;\n",
      "        }  // End: function inverse()\n"
     ]
    },
    {
     "cell_type": "markdown",
     "metadata": {},
     "source": [
      "### How to use the Library functions\n",
      "\n",
      "For Fortran users:"
     ]
    },
    {
     "cell_type": "markdown",
     "metadata": {},
     "source": [
      "        PROGRAM matrix\n",
      "          USE constants\n",
      "          USE F90library\n",
      "          IMPLICIT NONE\n",
      "          !      The definition of the matrix, using dynamic allocation\n",
      "          REAL(DP), ALLOCATABLE, DIMENSION(:,:) :: a, ainv, unity\n",
      "          !      the determinant\n",
      "          REAL(DP) :: d\n",
      "          !      The size of the matrix\n",
      "          INTEGER :: n\n",
      "          ....\n",
      "          !      Allocate now place in heap for a\n",
      "          ALLOCATE ( a(n,n), ainv(n,n), unity(n,n) )\n"
     ]
    },
    {
     "cell_type": "markdown",
     "metadata": {},
     "source": [
      "### How to use the Library functions\n",
      "\n",
      "For Fortran users:"
     ]
    },
    {
     "cell_type": "markdown",
     "metadata": {},
     "source": [
      "          WRITE(6,*) ' The matrix before inversion'\n",
      "          WRITE(6,'(3F12.6)') a\n",
      "          ainv=a\n",
      "          CALL matinv (ainv, n, d)\n",
      "          ....\n",
      "          !      get the unity matrix\n",
      "          unity=MATMUL(ainv,a)\n",
      "          WRITE(6,*) ' The unity matrix'\n",
      "          WRITE(6,'(3F12.6)') unity\n",
      "          !      deallocate all arrays\n",
      "          DEALLOCATE (a, ainv, unity)\n",
      "        END PROGRAM matrix\n",
      "        \n"
     ]
    },
    {
     "cell_type": "markdown",
     "metadata": {},
     "source": [
      "## Week 36\n",
      "\n",
      "### Overview of week 36\n",
      "\n",
      "**Linear Algebra.**\n",
      "\n",
      "  * Monday: Repetition from last week\n",
      "\n",
      "  * Discussion of Project 1, deadline 16 September (noon).\n",
      "\n",
      "  * Gaussian elimination, LU decomposition and linear equations\n",
      "\n",
      "  * Inverse of a matrix.\n",
      "\n",
      "  * Tuesday: Further discussion of linear algebra methods.\n",
      "\n",
      "  * Dynamic memory allocation in C/C++ and Fortran2008, use of the libraries like Armadillo for C++ users. How to use the C/C++ and Fortran 90/95 libraries. Programming classes in C++.\n",
      "\n",
      "  * Discussion of version control. Dropbox and GIT.\n",
      "\n",
      "  * Computer-Lab: Project 1.\n",
      "\n",
      "\n",
      "\n",
      "### Object orientation\n",
      "\n",
      "Why object orientation?\n",
      "\n",
      "  * Three main topics: objects, class hierarchies and polymorphism\n",
      "\n",
      "  * The aim here is to be to be able to write a more general code which can easily be tailored to new situations.\n",
      "\n",
      "  * {\\bf Polymorphism} is a term used in software development to describe a variety of techniques employed by programmers to create flexible and reusable software components. The term is Greek and it loosely translates to \"many forms\". Strategy: try to single out the variables needed to describe a given system and those needed to describe a given solver. !split\n",
      "\n",
      "### Object orientation\n",
      "\n",
      "In programming languages, a polymorphic object is an entity, such as a variable or a procedure, that can hold or operate on values of differing types during the program's execution. Because a polymorphic object can operate on a variety of values and types, it can also be used in a variety of programs, sometimes with little or no change by the programmer. The idea of write once, run many, also known as code reusability, is an important characteristic to the programming paradigm known as Object-Oriented Programming (OOP).\n",
      "\n",
      "OOP describes an approach to programming where a program is viewed as a collection of interacting, but mostly independent software components. These software components are known as objects in OOP and they are typically implemented in a programming language as an entity that encapsulates both data and procedures.\n",
      "\n",
      "### Programming classes\n",
      "\n",
      "In Fortran a vector or matrix start with $1$, but it is easy\n",
      "to change a vector so that it starts with zero or even a negative number.\n",
      "If we have a double precision Fortran vector  which starts at $-10$ and ends at $10$, we could declare it as\n",
      "`REAL(KIND=8) ::  vector(-10:10)`. Similarly, if we want to start at zero and end at 10 we could write\n",
      "`REAL(KIND=8) ::  vector(0:10)`.\n",
      "We have also seen that Fortran  allows us to write a matrix addition ${\\bf A} = {\\bf B}+{\\bf C}$ as\n",
      "`A = B + C`.  This means that we have overloaded the addition operator so that it translates this operation into\n",
      "two loops and an addition of two matrix elements $a_{ij} = b_{ij}+c_{ij}$.\n",
      "\n",
      "### Programming classes\n",
      "\n",
      "The way the matrix addition is written is very close to the way we express this relation mathematically. The benefit for the\n",
      "programmer is that our code is easier to read. Furthermore, such a way of coding makes it  more likely  to spot eventual\n",
      "errors as well.\n",
      "\n",
      "In Ansi C and C++ arrays start by default from $i=0$.  Moreover, if we  wish to add two matrices we need to explicitely write out\n",
      "the two loops as"
     ]
    },
    {
     "cell_type": "markdown",
     "metadata": {},
     "source": [
      "           for(i=0 ; i < n ; i++) {\n",
      "              for(j=0 ; j < n ; j++) {\n",
      "                 a[i][j]=b[i][j]+c[i][j]\n",
      "        \n"
     ]
    },
    {
     "cell_type": "markdown",
     "metadata": {},
     "source": [
      "### Programming classes\n",
      "\n",
      "However,\n",
      "the strength of C++ is the possibility\n",
      "to define new data types, tailored to some particular problem.\n",
      "Via new data types and overloading of operations such as addition and subtraction, we can easily define\n",
      "sets of operations and data types which allow us to write a matrix addition in exactly the same\n",
      "way as we would do in Fortran.  We could also change the way we declare a C++ matrix elements $a_{ij}$, from  $a[i][j]$\n",
      "to say $a(i,j)$, as we would do in Fortran. Similarly, we could also change the default range from $0:n-1$ to $1:n$.\n",
      "\n",
      "To achieve this we need to introduce two important entities in C++ programming, classes and templates.\n",
      "\n",
      "### Programming classes\n",
      "\n",
      "The function and class declarations are fundamental concepts within C++.  Functions are abstractions\n",
      "which encapsulate an algorithm or parts of it and perform specific tasks in a program.\n",
      "We have already met several examples on how to use  functions.\n",
      "Classes can be defined as abstractions which encapsulate\n",
      "data and operations on these data.\n",
      "The data can be very complex data structures  and the class can contain particular functions\n",
      "which operate on these data. Classes allow therefore for a higher level of abstraction in computing.\n",
      "The elements (or components) of the data\n",
      "type are the class data members, and the procedures are the class\n",
      "member functions.\n",
      "\n",
      "### Programming classes\n",
      "\n",
      "Classes are user-defined tools used to create multi-purpose software which can be reused by other classes or functions.\n",
      "These user-defined data types contain data (variables) and\n",
      "functions operating on the data.\n",
      "\n",
      "A simple example is that of a point in two dimensions.\n",
      "The data could be the $x$ and $y$ coordinates of a given  point. The functions\n",
      "we define could be simple read and write functions or the possibility to compute the distance between two points.\n",
      "\n",
      "### Programming classes\n",
      "\n",
      "C++ has a class complex in its standard\n",
      "template library (STL). The standard usage in a given function could then look like"
     ]
    },
    {
     "cell_type": "markdown",
     "metadata": {},
     "source": [
      "        // Program to calculate addition and multiplication of two complex numbers\n",
      "        using namespace std;\n",
      "        #include <iostream>\n",
      "        #include <cmath>\n",
      "        #include <complex>\n",
      "        int main()\n",
      "        {\n",
      "          complex<double> x(6.1,8.2), y(0.5,1.3);\n",
      "          // write out x+y\n",
      "          cout << x + y << x*y  << endl;\n",
      "          return 0;\n",
      "        \n"
     ]
    },
    {
     "cell_type": "markdown",
     "metadata": {},
     "source": [
      "where we add and multiply two complex numbers $x=6.1+\\imath 8.2$ and $y=0.5+\\imath 1.3$ with the obvious results\n",
      "$z=x+y=6.6+\\imath 9.5$ and $z=x\\cdot y= -7.61+\\imath 12.03$.\n",
      "\n",
      "### Programming classes\n",
      "\n",
      "We proceed by  splitting our task in three files.\n",
      "\n",
      "We define first a header file complex.h  which contains the declarations of\n",
      "the class. The header file contains the class declaration (data and\n",
      "functions), declaration of stand-alone functions, and all inlined\n",
      "functions, starting as follows"
     ]
    },
    {
     "cell_type": "markdown",
     "metadata": {},
     "source": [
      "        #ifndef Complex_H\n",
      "        #define Complex_H\n",
      "        //   various include statements and definitions\n",
      "        #include <iostream>          // Standard ANSI-C++ include files\n",
      "        #include <new>\n",
      "        #include ....\n",
      "        \n",
      "        class Complex\n",
      "        {...\n",
      "        definition of variables and their character\n",
      "        };\n",
      "        //   declarations of various functions used by the class\n",
      "        ...\n",
      "        #endif\n"
     ]
    },
    {
     "cell_type": "markdown",
     "metadata": {},
     "source": [
      "### Programming classes\n",
      "\n",
      "Next we provide a file complex.cpp where the code and algorithms of\n",
      "different functions (except inlined functions) declared within the\n",
      "class are written.  The files `complex.h` and `complex.cpp` are normally\n",
      "placed in a directory with other classes and libraries we have\n",
      "defined.\n",
      "\n",
      "Finally, we discuss here an example of a main program which uses this\n",
      "particular class.  An example of a program which uses our complex\n",
      "class is given below. In particular we would like our class to perform\n",
      "tasks like declaring complex variables, writing out the real and\n",
      "imaginary part and performing algebraic operations such as adding or\n",
      "multiplying two complex numbers.\n",
      "\n",
      "### Programming classes"
     ]
    },
    {
     "cell_type": "markdown",
     "metadata": {},
     "source": [
      "        #include \"Complex.h\"\n",
      "        ...  other include and declarations\n",
      "        int main ()\n",
      "        {\n",
      "          Complex a(0.1,1.3);    // we declare a complex variable a\n",
      "          Complex b(3.0), c(5.0,-2.3);  // we declare  complex variables b and c\n",
      "          Complex d = b;         //  we declare  a new complex variable d\n",
      "          cout << \"d=\" << d << \", a=\" << a << \", b=\" << b << endl;\n",
      "          d = a*c + b/a;  //   we add, multiply and divide two complex numbers\n",
      "          cout << \"Re(d)=\" << d.Re() << \", Im(d)=\" << d.Im() << endl;  // write out of the real and imaginary parts\n",
      "        \n"
     ]
    },
    {
     "cell_type": "markdown",
     "metadata": {},
     "source": [
      "### Programming classes\n",
      "\n",
      "We include the header file complex.h and define four different complex variables. These\n",
      "are $a=0.1+\\imath 1.3$, $b=3.0+\\imath 0$ (note that if you don't define a value for the imaginary part  this is set to\n",
      "zero), $c=5.0-\\imath 2.3$ and $d=b$.  Thereafter we have defined standard algebraic operations and the member functions\n",
      "of the class which allows us to print out the real and imaginary part of a given variable.\n",
      "\n",
      "### Programming classes"
     ]
    },
    {
     "cell_type": "markdown",
     "metadata": {},
     "source": [
      "        class Complex\n",
      "        {\n",
      "        private:\n",
      "           double re, im; // real and imaginary part\n",
      "        public:\n",
      "           Complex ();                              // Complex c;\n",
      "           Complex (double re, double im = 0.0); // Definition of a complex variable;\n",
      "           Complex (const Complex& c);              // Usage: Complex c(a);   // equate two complex variables\n",
      "           Complex& operator= (const Complex& c); // c = a;   //  equate two complex variables, same as previous\n",
      "        ....\n",
      "        \n"
     ]
    },
    {
     "cell_type": "markdown",
     "metadata": {},
     "source": [
      "### Programming classes"
     ]
    },
    {
     "cell_type": "markdown",
     "metadata": {},
     "source": [
      "          ~Complex () {}                        // destructor\n",
      "           double   Re () const;        // double real_part = a.Re();\n",
      "           double   Im () const;        // double imag_part = a.Im();\n",
      "           double   abs () const;       // double m = a.abs(); // modulus\n",
      "           friend Complex operator+ (const Complex&  a, const Complex& b);\n",
      "           friend Complex operator- (const Complex&  a, const Complex& b);\n",
      "           friend Complex operator* (const Complex&  a, const Complex& b);\n",
      "           friend Complex operator/ (const Complex&  a, const Complex& b);\n",
      "        };\n"
     ]
    },
    {
     "cell_type": "markdown",
     "metadata": {},
     "source": [
      "### Programming classes\n",
      "\n",
      "The class is defined via the statement `class Complex`. We must first use the key word\n",
      "`class`, which in turn is followed by the user-defined variable name  `Complex`.\n",
      "The body of the class, data and functions, is encapsulated  within the parentheses `{...}`.\n",
      "\n",
      "### Programming classes\n",
      "\n",
      "Data and specific functions can be private, which means that they cannot be accessed from outside the class.\n",
      "This means also that access cannot be inherited by other functions outside the class. If we use `protected`\n",
      "instead of `private`, then data and functions can be inherited outside the class.\n",
      "\n",
      "### Programming classes\n",
      "\n",
      "The key word `public` means  that data and functions can be accessed from outside the class.\n",
      "Here we have defined several functions  which can be accessed by functions outside the class.\n",
      "The declaration `friend` means that stand-alone functions can work on privately declared  variables  of the type\n",
      "`(re, im)`.  Data members of a class should be declared as private variables.\n",
      "\n",
      "### Programming classes\n",
      "\n",
      "The first public function we encounter is a so-called\n",
      "constructor, which  tells how we declare a variable of type `Complex`\n",
      "and how this variable is initialized. We have chose  three possibilities in the example above:\n",
      "\n",
      "A declaration like `Complex c;` calls the member function `Complex()` which can have the following implementation"
     ]
    },
    {
     "cell_type": "markdown",
     "metadata": {},
     "source": [
      "        Complex:: Complex () { re = im = 0.0; }\n"
     ]
    },
    {
     "cell_type": "markdown",
     "metadata": {},
     "source": [
      "meaning that it sets the real and imaginary parts to zero. Note the\n",
      "way a member function is defined. The constructor is the first\n",
      "function that is called when an object is instantiated.\n",
      "\n",
      "### Programming classes\n",
      "\n",
      "Another possibility is"
     ]
    },
    {
     "cell_type": "markdown",
     "metadata": {},
     "source": [
      "        Complex:: Complex () {}\n"
     ]
    },
    {
     "cell_type": "markdown",
     "metadata": {},
     "source": [
      "which means that there is no initialization of the real and imaginary parts. The drawback is that a given compiler can then assign random values to a given variable.\n",
      "\n",
      "A call like `Complex a(0.1,1.3);` means that we could call the member function `Complex(double, double)`as"
     ]
    },
    {
     "cell_type": "markdown",
     "metadata": {},
     "source": [
      "        Complex:: Complex (double re_a, double im_a) {\n",
      "            re = re_a; im = im_a; }\n"
     ]
    },
    {
     "cell_type": "markdown",
     "metadata": {},
     "source": [
      "### Programming classes\n",
      "\n",
      "The simplest member function are those we defined to extract\n",
      "the real and imaginary part of a variable. Here you have to recall that these are private data,\n",
      "that is they invisible for users of the class.  We obtain a copy of these variables by defining the\n",
      "functions"
     ]
    },
    {
     "cell_type": "markdown",
     "metadata": {},
     "source": [
      "        double Complex:: Re () const { return re; }} //  getting the real part\n",
      "        double Complex:: Im () const { return im; }  //   and the imaginary part\n"
     ]
    },
    {
     "cell_type": "markdown",
     "metadata": {},
     "source": [
      "Note that we have introduced   the declaration  `const`.  What does it mean?\n",
      "This declaration means that a variabale cannot be changed within  a called function.\n",
      "\n",
      "### Programming classes\n",
      "\n",
      "If we define a variable as\n",
      "`const double p = 3;` and then try to change its value, we will get an error when we\n",
      "compile our program. This means that constant arguments in functions cannot be changed."
     ]
    },
    {
     "cell_type": "markdown",
     "metadata": {},
     "source": [
      "        // const arguments (in functions) cannot be changed:\n",
      "        void myfunc (const Complex& c)\n",
      "        { c.re = 0.2; /* ILLEGAL!! compiler error... */  }\n"
     ]
    },
    {
     "cell_type": "markdown",
     "metadata": {},
     "source": [
      "If we declare the function and try to change the value to $0.2$, the compiler will complain by sending\n",
      "an error message.\n",
      "\n",
      "### Programming classes\n",
      "\n",
      "If we define a function to compute the absolute value of complex variable like"
     ]
    },
    {
     "cell_type": "markdown",
     "metadata": {},
     "source": [
      "        double Complex:: abs ()  { return sqrt(re*re + im*im);}\n"
     ]
    },
    {
     "cell_type": "markdown",
     "metadata": {},
     "source": [
      "without the constant declaration  and define thereafter a function\n",
      "`myabs` as"
     ]
    },
    {
     "cell_type": "markdown",
     "metadata": {},
     "source": [
      "        double myabs (const Complex& c)\n",
      "        { return c.abs(); }   // Not ok because c.abs() is not a const func.\n"
     ]
    },
    {
     "cell_type": "markdown",
     "metadata": {},
     "source": [
      "the compiler would not allow the c.abs() call in myabs\n",
      "since `Complex::abs` is not a constant member function.\n",
      "\n",
      "### Programming classes\n",
      "\n",
      "Constant functions cannot change the object's state.\n",
      "To avoid this we declare the function `abs` as"
     ]
    },
    {
     "cell_type": "markdown",
     "metadata": {},
     "source": [
      "        double Complex:: abs () const { return sqrt(re*re + im*im); }\n"
     ]
    },
    {
     "cell_type": "markdown",
     "metadata": {},
     "source": [
      "### Programming classes\n",
      "\n",
      "C++ (and Fortran) allow for overloading of operators. That means we\n",
      "can define algebraic operations on for example vectors or any\n",
      "arbitrary object.  As an example, a vector addition of the type ${\\bf\n",
      "c} = {\\bf a} + {\\bf b}$ means that we need to write a small part of\n",
      "code with a for-loop over the dimension of the array.  We would rather\n",
      "like to write this statement as `c = a+b;` as this makes the code much\n",
      "more readable and close to eventual equations we want to code.  To\n",
      "achieve this we need to extend the definition of operators.\n",
      "\n",
      "### Programming classes\n",
      "\n",
      "Let us study the declarations in our complex class.\n",
      "In our main function we have a statement like `d = b;`, which means\n",
      "that we call `d.operator= (b)` and we have defined a so-called assignment operator\n",
      "as a part of the class defined as"
     ]
    },
    {
     "cell_type": "markdown",
     "metadata": {},
     "source": [
      "        Complex& Complex:: operator= (const Complex& c)\n",
      "        {\n",
      "           re = c.re;\n",
      "           im = c.im;\n",
      "           return *this;\n",
      "        }\n"
     ]
    },
    {
     "cell_type": "markdown",
     "metadata": {},
     "source": [
      "### Programming classes\n",
      "\n",
      "With this function, statements like\n",
      "`Complex d = b;` or `Complex d(b);`\n",
      "make a new object $d$, which becomes a copy of $b$.\n",
      "We can make simple implementations in terms of the assignment"
     ]
    },
    {
     "cell_type": "markdown",
     "metadata": {},
     "source": [
      "        Complex:: Complex (const Complex& c)\n",
      "        { *this = c; }\n"
     ]
    },
    {
     "cell_type": "markdown",
     "metadata": {},
     "source": [
      "which  is a pointer to \"this object\", `*this` is the present object,\n",
      "so `*this = c;` means setting the present object equal to $c$, that is\n",
      "`this->operator= (c);`.\n",
      "\n",
      "### Programming classes\n",
      "\n",
      "The meaning of the addition operator $+$ for Complex objects is defined in the\n",
      "function\n",
      "`Complex operator+ (const Complex& a, const Complex& b); // a+b`\n",
      "The compiler translates `c = a + b;` into `c = operator+ (a, b);`.\n",
      "Since this implies the call to function, it brings in an additional overhead. If speed\n",
      "is crucial and this function call is performed inside a loop, then it is more difficult for a\n",
      "given compiler to perform optimizations of a loop.\n",
      "\n",
      "### Programming classes\n",
      "\n",
      "The solution to this is to inline functions.   We discussed inlining in chapter\n",
      "2 of the lecture notes.\n",
      "Inlining means that the function body is copied directly into\n",
      "the calling code, thus avoiding calling the function.\n",
      "Inlining is enabled by the inline keyword"
     ]
    },
    {
     "cell_type": "markdown",
     "metadata": {},
     "source": [
      "        inline Complex operator+ (const Complex& a, const Complex& b)\n",
      "        { return Complex (a.re + b.re, a.im + b.im); }\n"
     ]
    },
    {
     "cell_type": "markdown",
     "metadata": {},
     "source": [
      "Inline functions, with complete bodies must be written in the header file  complex.h.\n",
      "\n",
      "### Programming classes\n",
      "\n",
      "Consider  the case `c = a + b;`\n",
      "that is,  `c.operator= (operator+ (a,b));`\n",
      "If `operator+`, `operator=` and the constructor `Complex(r,i)` all\n",
      "are inline functions, this transforms to"
     ]
    },
    {
     "cell_type": "markdown",
     "metadata": {},
     "source": [
      "        c.re = a.re + b.re;\n",
      "        c.im = a.im + b.im;\n"
     ]
    },
    {
     "cell_type": "markdown",
     "metadata": {},
     "source": [
      "by the compiler, i.e., no function calls\n",
      "\n",
      "### Programming classes\n",
      "\n",
      "The stand-alone function `operator+` is a friend of the Complex  class"
     ]
    },
    {
     "cell_type": "markdown",
     "metadata": {},
     "source": [
      "        class Complex\n",
      "        {\n",
      "           ...\n",
      "           friend Complex operator+ (const Complex& a, const Complex& b);\n",
      "           ...\n",
      "        };\n"
     ]
    },
    {
     "cell_type": "markdown",
     "metadata": {},
     "source": [
      "so it can read (and manipulate) the private data parts $re$ and\n",
      "$im$ via"
     ]
    },
    {
     "cell_type": "markdown",
     "metadata": {},
     "source": [
      "        inline Complex operator+ (const Complex& a, const Complex& b)\n",
      "        { return Complex (a.re + b.re, a.im + b.im); }\n"
     ]
    },
    {
     "cell_type": "markdown",
     "metadata": {},
     "source": [
      "### Programming classes\n",
      "\n",
      "Since we do not need to alter the re and im variables, we can\n",
      "get the values by Re() and Im(), and there is no need to be a\n",
      "friend function"
     ]
    },
    {
     "cell_type": "markdown",
     "metadata": {},
     "source": [
      "        inline Complex operator+ (const Complex& a, const Complex& b)\n",
      "        { return Complex (a.Re() + b.Re(), a.Im() + b.Im()); }\n"
     ]
    },
    {
     "cell_type": "markdown",
     "metadata": {},
     "source": [
      "### Programming classes\n",
      "\n",
      "The multiplication functionality can now be extended to imaginary numbers by the following code"
     ]
    },
    {
     "cell_type": "markdown",
     "metadata": {},
     "source": [
      "        inline Complex operator* (const Complex& a, const Complex& b)\n",
      "        {\n",
      "          return Complex(a.re*b.re - a.im*b.im, a.im*b.re + a.re*b.im);\n",
      "        \n"
     ]
    },
    {
     "cell_type": "markdown",
     "metadata": {},
     "source": [
      "It will be convenient to inline all functions used by this operator.\n",
      "\n",
      "### Programming classes\n",
      "\n",
      "To inline the complete expression `a*b;`, the constructors and\n",
      "`operator=`  must also be inlined.  This can be achieved via the following piece of code"
     ]
    },
    {
     "cell_type": "markdown",
     "metadata": {},
     "source": [
      "        inline Complex:: Complex () { re = im = 0.0; }\n",
      "        inline Complex:: Complex (double re_, double im_)\n",
      "        { ... }\n",
      "        inline Complex:: Complex (const Complex& c)\n",
      "        { ... }\n",
      "        inline Complex:: operator= (const Complex& c)\n",
      "        { ... }\n"
     ]
    },
    {
     "cell_type": "markdown",
     "metadata": {},
     "source": [
      "### Programming classes"
     ]
    },
    {
     "cell_type": "markdown",
     "metadata": {},
     "source": [
      "        // e, c, d are complex\n",
      "        e = c*d;\n",
      "        // first compiler translation:\n",
      "        e.operator= (operator* (c,d));\n",
      "        // result of nested inline functions\n",
      "        // operator=, operator*, Complex(double,double=0):\n",
      "        e.re = c.re*d.re - c.im*d.im;\n",
      "        e.im = c.im*d.re + c.re*d.im;\n"
     ]
    },
    {
     "cell_type": "markdown",
     "metadata": {},
     "source": [
      "The definitions `operator-` and `operator/` follow the same set up.\n",
      "\n",
      "### Programming classes\n",
      "\n",
      "Finally, if we wish to write to file or another device a complex number using the simple syntax\n",
      "`cout << c;`, we obtain this by defining\n",
      "the effect of $<<$ for a Complex object as"
     ]
    },
    {
     "cell_type": "markdown",
     "metadata": {},
     "source": [
      "        ostream& operator<< (ostream& o, const Complex& c)\n",
      "        { o << \"(\" << c.Re() << \",\" << c.Im() << \") \"; return o;}\n"
     ]
    },
    {
     "cell_type": "markdown",
     "metadata": {},
     "source": [
      "### Programming classes, templates\n",
      "\n",
      "What if we wanted to make a class which takes integers\n",
      "or floating point numbers with single precision?\n",
      "A simple way to achieve this is copy and paste our class and replace `double` with for\n",
      "example `int`.\n",
      "\n",
      "C++  allows us to do this automatically via the usage of templates, which\n",
      "are the C++ constructs for parameterizing parts of\n",
      "classes. Class templates  is a template for producing classes. The declaration consists\n",
      "of the keyword `template` followed by a list of template arguments enclosed in brackets.\n",
      "\n",
      "### Programming classes\n",
      "\n",
      "We can therefore make a more general class by rewriting our original example as"
     ]
    },
    {
     "cell_type": "markdown",
     "metadata": {},
     "source": [
      "        template<class T>\n",
      "        class Complex\n",
      "        {\n",
      "        private:\n",
      "           T re, im; // real and imaginary part\n",
      "        public:\n",
      "           Complex ();                              // Complex c;\n",
      "           Complex (T re, T im = 0); // Definition of a complex variable;\n",
      "           Complex (const Complex& c);              // Usage: Complex c(a);   // equate two complex variables\n",
      "           Complex& operator= (const Complex& c); // c = a;   //  equate two complex variables, same as previous\n",
      "        \n"
     ]
    },
    {
     "cell_type": "markdown",
     "metadata": {},
     "source": [
      "### Programming classes\n",
      "\n",
      "We can therefore make a more general class by rewriting our original example as"
     ]
    },
    {
     "cell_type": "markdown",
     "metadata": {},
     "source": [
      "          ~Complex () {}                        // destructor\n",
      "           T   Re () const;        // T real_part = a.Re();\n",
      "           T   Im () const;        // T imag_part = a.Im();\n",
      "           T   abs () const;       // T m = a.abs(); // modulus\n",
      "           friend Complex operator+ (const Complex&  a, const Complex& b);\n",
      "           friend Complex operator- (const Complex&  a, const Complex& b);\n",
      "           friend Complex operator* (const Complex&  a, const Complex& b);\n",
      "           friend Complex operator/ (const Complex&  a, const Complex& b);\n",
      "        };\n"
     ]
    },
    {
     "cell_type": "markdown",
     "metadata": {},
     "source": [
      "### Programming classes\n",
      "\n",
      "What it says is that `Complex` is a parameterized type with $T$ as a parameter and $T$ has to be a type such as double\n",
      "or float.\n",
      "The class complex is now a class template\n",
      "and we would define variables in a code as"
     ]
    },
    {
     "cell_type": "markdown",
     "metadata": {},
     "source": [
      "        Complex<double> a(10.0,5.1);\n",
      "        Complex<int> b(1,0);\n"
     ]
    },
    {
     "cell_type": "markdown",
     "metadata": {},
     "source": [
      "### Programming classes\n",
      "\n",
      "Member functions of our class are defined by preceding the name of the function with the `template` keyword.\n",
      "Consider the function we defined as `Complex:: Complex (double re_a, double im_a)`.\n",
      "We would rewrite this function as"
     ]
    },
    {
     "cell_type": "markdown",
     "metadata": {},
     "source": [
      "        template<class T>\n",
      "        Complex<T>:: Complex (T re_a, T im_a)\n",
      "        { re = re_a; im = im_a; }\n"
     ]
    },
    {
     "cell_type": "markdown",
     "metadata": {},
     "source": [
      "The member functions  are otherwise defined following ordinary member function definitions.\n",
      "\n",
      "### Programming classes\n",
      "\n",
      "Here follows a very simple first class"
     ]
    },
    {
     "cell_type": "markdown",
     "metadata": {},
     "source": [
      "        // Class to compute the square of a number\n",
      "        class Squared{\n",
      "          public:\n",
      "            // Default constructor, not used here\n",
      "            Squared(){}\n",
      "        \n",
      "            // Overload the function operator()\n",
      "            double operator()(double x){\n",
      "              return x*x;\n",
      "        \n",
      "        };\n"
     ]
    },
    {
     "cell_type": "markdown",
     "metadata": {},
     "source": [
      "### Programming classes\n",
      "\n",
      "and we would use it as"
     ]
    },
    {
     "cell_type": "markdown",
     "metadata": {},
     "source": [
      "        #include <iostream>\n",
      "        using namespace std;\n",
      "        \n",
      "        int main(){\n",
      "          Squared s;\n",
      "          cout << s(3) << endl;\n",
      "        \n"
     ]
    }
   ],
   "metadata": {}
  }
 ]
}
